{
  "metadata": {
    "kernelspec": {
      "language": "python",
      "display_name": "Python 3",
      "name": "python3"
    },
    "language_info": {
      "name": "python",
      "version": "3.7.12",
      "mimetype": "text/x-python",
      "codemirror_mode": {
        "name": "ipython",
        "version": 3
      },
      "pygments_lexer": "ipython3",
      "nbconvert_exporter": "python",
      "file_extension": ".py"
    },
    "colab": {
      "provenance": [],
      "collapsed_sections": [
        "mEVwGFGl8xZQ",
        "m740Ct7aacMH",
        "5T3q133KJbTy",
        "1vbjiJwoJlIO",
        "-iDSoDS3Joh2",
        "0REe47DfJr1O",
        "fCkiKpzhJv5c"
      ],
      "toc_visible": true,
      "include_colab_link": true
    }
  },
  "nbformat_minor": 0,
  "nbformat": 4,
  "cells": [
    {
      "cell_type": "markdown",
      "metadata": {
        "id": "view-in-github",
        "colab_type": "text"
      },
      "source": [
        "<a href=\"https://colab.research.google.com/github/asya474/final_project/blob/main/final_project_umap_ipynb%22.ipynb\" target=\"_parent\"><img src=\"https://colab.research.google.com/assets/colab-badge.svg\" alt=\"Open In Colab\"/></a>"
      ]
    },
    {
      "cell_type": "markdown",
      "source": [
        "Основные цели и задачи проекта\n",
        "\n",
        "Основной целью проекта является создание сервиса для предсказания стоимости домов, используя накопленные данные о сделках. Используемый алгоритм должен быть достаточно быстрым и эффективным с точки зрения выбранной метрики.\n",
        "Выбрана метрика MAPE для поставленной задачи регрессии, так как в данных в основном представлены категориальные признаки, в поставленной задаче отсутствует необходимость применять сильно большие штрафы к модели за неправильно обработанные данные и так же относительная метрика более проста и удобна для оценки качества модели, что и пригодится нам для построения безлайна для соответствующего сервиса.\n",
        "\n",
        "Краткая информация о данных\n",
        "\n",
        "Датасет, используемый в проекте, представляет из себя обычные табличные данные, и состоит из следующих столбцов: • status статус сделки • private pool наличие частного бассейна • propertyType тип собственности с информацией о количестве комнат и стиле интерьера • street адрес • baths количество бассейнов • homeFacts информация о здании • fireplace наличие камина • city город • schools информация о школах в округе • sqft площадь жилья в квадратных футах • zipcode почтовый индекс • beds количество кроватей и площадь спальни • state штат • stories подсобные помещения • mls-id мультилистинг • PrivatePool наличие частного бассейна • MlsId мультилистинг • target стоимость жилья\n",
        "\n",
        "Этапы работы над проектом\n",
        "\n",
        "1. Знакомство с датасетом \n",
        "2.Выбор метрики, которая отвечала бы бизнес-целям. \n",
        "3.Очистка данных, заполнение пропусков \n",
        "4.Стандартизация числовых столбцов, применением методов label-encoding, get_dummies к категориальным переменным.\n",
        "5.Выбор алгоритмов машинного обучения,Я оптимизация гиперпараметров, выбор лучшей модели"
      ],
      "metadata": {
        "id": "7UY-pOfLXcqT"
      }
    },
    {
      "cell_type": "code",
      "source": [
        "import numpy as np\n",
        "import pandas as pd\n",
        "import matplotlib.pyplot as plt\n",
        "import seaborn as sns\n",
        "import pickle\n",
        "import zipfile\n",
        "import time\n",
        "import csv\n",
        "import sys\n",
        "import os\n",
        "!pip install tensorflow_addons -q\n",
        "import tensorflow_addons as tfa\n",
        "import re\n",
        "\n",
        "from sklearn.model_selection import RandomizedSearchCV\n",
        "from sklearn.ensemble import *\n",
        "from sklearn.model_selection import train_test_split, StratifiedKFold\n",
        "from sklearn.metrics import mean_absolute_percentage_error\n",
        "from sklearn.preprocessing import *\n",
        "from sklearn.neural_network import MLPRegressor\n",
        "from sklearn.gaussian_process import GaussianProcessRegressor\n",
        "from sklearn.linear_model import SGDRegressor\n",
        "from sklearn.svm import SVR\n",
        "from sklearn.neighbors import KNeighborsRegressor\n",
        "from sklearn.inspection import permutation_importance\n",
        "from matplotlib import pyplot as plt\n",
        "import PIL\n",
        "from PIL import ImageOps, ImageFilter\n",
        "#увеличим дефолтный размер графиков\n",
        "from pylab import rcParams\n",
        "rcParams['figure.figsize'] = 10, 5\n",
        "#графики в svg выглядят более четкими\n",
        "%config InlineBackend.figure_format = 'svg'\n",
        "%matplotlib inline\n",
        "import seaborn as sns\n",
        "#print(os.listdir(\"/content/drive/MyDrive/Colab Notebooks/input\"))\n"
      ],
      "metadata": {
        "id": "elk1vwU2mab2",
        "execution": {
          "iopub.status.busy": "2022-09-06T05:25:29.801501Z",
          "iopub.execute_input": "2022-09-06T05:25:29.801965Z",
          "iopub.status.idle": "2022-09-06T05:25:39.536576Z",
          "shell.execute_reply.started": "2022-09-06T05:25:29.801928Z",
          "shell.execute_reply": "2022-09-06T05:25:39.535606Z"
        },
        "trusted": true
      },
      "execution_count": 1,
      "outputs": []
    },
    {
      "cell_type": "code",
      "source": [
        "RANDOM_SEED = 42\n",
        "VAL_SIZE = 0.20 \n",
        "mape=mean_absolute_percentage_error #в качестве метрики выбрано МАРЕ, "
      ],
      "metadata": {
        "id": "SNl-IT-uxwpq",
        "execution": {
          "iopub.status.busy": "2022-09-06T05:25:39.538934Z",
          "iopub.execute_input": "2022-09-06T05:25:39.539227Z",
          "iopub.status.idle": "2022-09-06T05:25:39.546644Z",
          "shell.execute_reply.started": "2022-09-06T05:25:39.539198Z",
          "shell.execute_reply": "2022-09-06T05:25:39.545670Z"
        },
        "trusted": true
      },
      "execution_count": 2,
      "outputs": []
    },
    {
      "cell_type": "code",
      "source": [
        "from google.colab import drive\n",
        "drive.mount('/content/drive')"
      ],
      "metadata": {
        "colab": {
          "base_uri": "https://localhost:8080/"
        },
        "id": "L3g0J3ee4grv",
        "outputId": "02853d3e-a5f6-4b43-cf77-14064d3c6b8e"
      },
      "execution_count": 3,
      "outputs": [
        {
          "output_type": "stream",
          "name": "stdout",
          "text": [
            "Drive already mounted at /content/drive; to attempt to forcibly remount, call drive.mount(\"/content/drive\", force_remount=True).\n"
          ]
        }
      ]
    },
    {
      "cell_type": "markdown",
      "source": [
        "## EDA"
      ],
      "metadata": {
        "id": "Z4puC012cG13"
      }
    },
    {
      "cell_type": "code",
      "source": [
        "zip_file='/content/drive/MyDrive/data.csv.zip'\n",
        "z=zipfile.ZipFile(zip_file, 'r')\n",
        "z.extractall()\n",
        "print(os.listdir())"
      ],
      "metadata": {
        "id": "R8N83RVXmf5T",
        "outputId": "7dfb7ed3-435f-4b8d-bada-70053c61cfab",
        "execution": {
          "iopub.status.busy": "2022-09-06T05:25:39.547910Z",
          "iopub.execute_input": "2022-09-06T05:25:39.548189Z",
          "iopub.status.idle": "2022-09-06T05:25:39.558762Z",
          "shell.execute_reply.started": "2022-09-06T05:25:39.548165Z",
          "shell.execute_reply": "2022-09-06T05:25:39.557879Z"
        },
        "trusted": true,
        "colab": {
          "base_uri": "https://localhost:8080/"
        }
      },
      "execution_count": 4,
      "outputs": [
        {
          "output_type": "stream",
          "name": "stdout",
          "text": [
            "['.config', 'data.csv', 'drive', '__MACOSX', 'sample_data']\n"
          ]
        }
      ]
    },
    {
      "cell_type": "code",
      "source": [
        "data=pd.read_csv('data.csv') #загрузка датасета"
      ],
      "metadata": {
        "id": "73RyWKaL6vMN"
      },
      "execution_count": 5,
      "outputs": []
    },
    {
      "cell_type": "code",
      "source": [
        "data.info() #вывод основной информации о датасете"
      ],
      "metadata": {
        "id": "2DL0IICQ1rsO",
        "outputId": "043de745-fbfe-4ed7-ef62-18475540d2f0",
        "execution": {
          "iopub.status.busy": "2022-09-06T05:25:43.812909Z",
          "iopub.execute_input": "2022-09-06T05:25:43.813524Z",
          "iopub.status.idle": "2022-09-06T05:25:44.149850Z",
          "shell.execute_reply.started": "2022-09-06T05:25:43.813484Z",
          "shell.execute_reply": "2022-09-06T05:25:44.148677Z"
        },
        "trusted": true,
        "colab": {
          "base_uri": "https://localhost:8080/"
        }
      },
      "execution_count": 6,
      "outputs": [
        {
          "output_type": "stream",
          "name": "stdout",
          "text": [
            "<class 'pandas.core.frame.DataFrame'>\n",
            "RangeIndex: 377185 entries, 0 to 377184\n",
            "Data columns (total 18 columns):\n",
            " #   Column        Non-Null Count   Dtype \n",
            "---  ------        --------------   ----- \n",
            " 0   status        337267 non-null  object\n",
            " 1   private pool  4181 non-null    object\n",
            " 2   propertyType  342452 non-null  object\n",
            " 3   street        377183 non-null  object\n",
            " 4   baths         270847 non-null  object\n",
            " 5   homeFacts     377185 non-null  object\n",
            " 6   fireplace     103115 non-null  object\n",
            " 7   city          377151 non-null  object\n",
            " 8   schools       377185 non-null  object\n",
            " 9   sqft          336608 non-null  object\n",
            " 10  zipcode       377185 non-null  object\n",
            " 11  beds          285903 non-null  object\n",
            " 12  state         377185 non-null  object\n",
            " 13  stories       226470 non-null  object\n",
            " 14  mls-id        24942 non-null   object\n",
            " 15  PrivatePool   40311 non-null   object\n",
            " 16  MlsId         310305 non-null  object\n",
            " 17  target        374704 non-null  object\n",
            "dtypes: object(18)\n",
            "memory usage: 51.8+ MB\n"
          ]
        }
      ]
    },
    {
      "cell_type": "code",
      "source": [
        "data.nunique() #вывод уникальных значений"
      ],
      "metadata": {
        "id": "P9SK2fBZMkZs",
        "outputId": "1669fd89-1cf3-4618-9bf0-8c40d12c84db",
        "execution": {
          "iopub.status.busy": "2022-09-06T05:25:44.151669Z",
          "iopub.execute_input": "2022-09-06T05:25:44.152218Z",
          "iopub.status.idle": "2022-09-06T05:25:45.623211Z",
          "shell.execute_reply.started": "2022-09-06T05:25:44.152174Z",
          "shell.execute_reply": "2022-09-06T05:25:45.622279Z"
        },
        "trusted": true,
        "colab": {
          "base_uri": "https://localhost:8080/"
        }
      },
      "execution_count": 7,
      "outputs": [
        {
          "output_type": "execute_result",
          "data": {
            "text/plain": [
              "status             159\n",
              "private pool         1\n",
              "propertyType      1280\n",
              "street          337076\n",
              "baths              229\n",
              "homeFacts       321009\n",
              "fireplace         1653\n",
              "city              2026\n",
              "schools         297365\n",
              "sqft             25405\n",
              "zipcode           4549\n",
              "beds              1184\n",
              "state               39\n",
              "stories            348\n",
              "mls-id           24907\n",
              "PrivatePool          2\n",
              "MlsId           232944\n",
              "target           43939\n",
              "dtype: int64"
            ]
          },
          "metadata": {},
          "execution_count": 7
        }
      ]
    },
    {
      "cell_type": "code",
      "source": [
        "data.isna().sum() #проверка на содержание NaN в столбце"
      ],
      "metadata": {
        "id": "vZ3Z5DI7M2gj",
        "outputId": "acb8ad39-be85-4e3d-b56a-74ff7ca4144a",
        "execution": {
          "iopub.status.busy": "2022-09-06T05:25:45.624320Z",
          "iopub.execute_input": "2022-09-06T05:25:45.624616Z",
          "iopub.status.idle": "2022-09-06T05:25:45.958034Z",
          "shell.execute_reply.started": "2022-09-06T05:25:45.624590Z",
          "shell.execute_reply": "2022-09-06T05:25:45.957205Z"
        },
        "trusted": true,
        "colab": {
          "base_uri": "https://localhost:8080/"
        }
      },
      "execution_count": 8,
      "outputs": [
        {
          "output_type": "execute_result",
          "data": {
            "text/plain": [
              "status           39918\n",
              "private pool    373004\n",
              "propertyType     34733\n",
              "street               2\n",
              "baths           106338\n",
              "homeFacts            0\n",
              "fireplace       274070\n",
              "city                34\n",
              "schools              0\n",
              "sqft             40577\n",
              "zipcode              0\n",
              "beds             91282\n",
              "state                0\n",
              "stories         150715\n",
              "mls-id          352243\n",
              "PrivatePool     336874\n",
              "MlsId            66880\n",
              "target            2481\n",
              "dtype: int64"
            ]
          },
          "metadata": {},
          "execution_count": 8
        }
      ]
    },
    {
      "cell_type": "code",
      "source": [],
      "metadata": {
        "id": "mizgbp-Noewx"
      },
      "execution_count": 8,
      "outputs": []
    },
    {
      "cell_type": "markdown",
      "source": [
        "### target"
      ],
      "metadata": {
        "id": "2T7ET0UlC_4P"
      }
    },
    {
      "cell_type": "code",
      "source": [
        "data.target.value_counts() #обзор значений в столбце "
      ],
      "metadata": {
        "id": "nL0dngE679xa",
        "outputId": "9fddcc41-3c61-4a82-d78b-cab02aec89d9",
        "execution": {
          "iopub.status.busy": "2022-09-06T05:25:45.959117Z",
          "iopub.execute_input": "2022-09-06T05:25:45.959414Z",
          "iopub.status.idle": "2022-09-06T05:25:46.021200Z",
          "shell.execute_reply.started": "2022-09-06T05:25:45.959386Z",
          "shell.execute_reply": "2022-09-06T05:25:46.020193Z"
        },
        "trusted": true,
        "colab": {
          "base_uri": "https://localhost:8080/"
        }
      },
      "execution_count": 9,
      "outputs": [
        {
          "output_type": "execute_result",
          "data": {
            "text/plain": [
              "$225,000     1462\n",
              "$275,000     1355\n",
              "$250,000     1312\n",
              "$350,000     1296\n",
              "$299,900     1276\n",
              "             ... \n",
              "$390,359        1\n",
              "$458,900+       1\n",
              "274,359         1\n",
              "$273,490+       1\n",
              "$171,306        1\n",
              "Name: target, Length: 43939, dtype: int64"
            ]
          },
          "metadata": {},
          "execution_count": 9
        }
      ]
    },
    {
      "cell_type": "code",
      "source": [
        "data['new_target'] = data['target'].str.replace('+', '') #удаляем + из значений столбца"
      ],
      "metadata": {
        "id": "FCQ9ydfhvg5H",
        "outputId": "871d2898-44ba-4949-9d5a-901c9ac22c6a",
        "execution": {
          "iopub.status.busy": "2022-09-06T05:25:46.022332Z",
          "iopub.execute_input": "2022-09-06T05:25:46.022613Z",
          "iopub.status.idle": "2022-09-06T05:25:46.171410Z",
          "shell.execute_reply.started": "2022-09-06T05:25:46.022588Z",
          "shell.execute_reply": "2022-09-06T05:25:46.170599Z"
        },
        "trusted": true,
        "colab": {
          "base_uri": "https://localhost:8080/"
        }
      },
      "execution_count": 10,
      "outputs": [
        {
          "output_type": "stream",
          "name": "stderr",
          "text": [
            "/usr/local/lib/python3.7/dist-packages/ipykernel_launcher.py:1: FutureWarning: The default value of regex will change from True to False in a future version. In addition, single character regular expressions will *not* be treated as literal strings when regex=True.\n",
            "  \"\"\"Entry point for launching an IPython kernel.\n"
          ]
        }
      ]
    },
    {
      "cell_type": "code",
      "source": [
        "data['new_target'] = data['new_target'].str.replace('$', '') #удаляем $ из значений столбца"
      ],
      "metadata": {
        "id": "SWeCeMYRTY01",
        "outputId": "c4b5a57f-fa72-4368-8122-4d00a2ee1c7a",
        "execution": {
          "iopub.status.busy": "2022-09-06T05:25:46.174931Z",
          "iopub.execute_input": "2022-09-06T05:25:46.176290Z",
          "iopub.status.idle": "2022-09-06T05:25:46.377493Z",
          "shell.execute_reply.started": "2022-09-06T05:25:46.176248Z",
          "shell.execute_reply": "2022-09-06T05:25:46.376557Z"
        },
        "trusted": true,
        "colab": {
          "base_uri": "https://localhost:8080/"
        }
      },
      "execution_count": 11,
      "outputs": [
        {
          "output_type": "stream",
          "name": "stderr",
          "text": [
            "/usr/local/lib/python3.7/dist-packages/ipykernel_launcher.py:1: FutureWarning: The default value of regex will change from True to False in a future version. In addition, single character regular expressions will *not* be treated as literal strings when regex=True.\n",
            "  \"\"\"Entry point for launching an IPython kernel.\n"
          ]
        }
      ]
    },
    {
      "cell_type": "code",
      "source": [
        "data['new_target'] = data['new_target'].str.replace(',', '') #удаляем , из значений столбца"
      ],
      "metadata": {
        "id": "LCv3RpWOkmVW",
        "execution": {
          "iopub.status.busy": "2022-09-06T05:25:46.378926Z",
          "iopub.execute_input": "2022-09-06T05:25:46.379432Z",
          "iopub.status.idle": "2022-09-06T05:25:46.590220Z",
          "shell.execute_reply.started": "2022-09-06T05:25:46.379391Z",
          "shell.execute_reply": "2022-09-06T05:25:46.589106Z"
        },
        "trusted": true
      },
      "execution_count": 12,
      "outputs": []
    },
    {
      "cell_type": "code",
      "source": [
        "data['new_target']=pd.to_numeric(data['new_target'], downcast='integer', errors='coerce') #приводим значения к типу integer"
      ],
      "metadata": {
        "id": "xTqmYrj2ksLi",
        "execution": {
          "iopub.status.busy": "2022-09-06T05:25:46.591875Z",
          "iopub.execute_input": "2022-09-06T05:25:46.592855Z",
          "iopub.status.idle": "2022-09-06T05:25:46.778673Z",
          "shell.execute_reply.started": "2022-09-06T05:25:46.592815Z",
          "shell.execute_reply": "2022-09-06T05:25:46.777769Z"
        },
        "trusted": true
      },
      "execution_count": 13,
      "outputs": []
    },
    {
      "cell_type": "code",
      "source": [
        "data['new_target'].value_counts() #обзор значений в столбце"
      ],
      "metadata": {
        "id": "DygfevqXTcV1",
        "outputId": "a5061b42-6a43-4f47-c3f5-6ddb7ac1e929",
        "execution": {
          "iopub.status.busy": "2022-09-06T05:25:46.779972Z",
          "iopub.execute_input": "2022-09-06T05:25:46.780784Z",
          "iopub.status.idle": "2022-09-06T05:25:46.798806Z",
          "shell.execute_reply.started": "2022-09-06T05:25:46.780747Z",
          "shell.execute_reply": "2022-09-06T05:25:46.798069Z"
        },
        "trusted": true,
        "colab": {
          "base_uri": "https://localhost:8080/"
        }
      },
      "execution_count": 14,
      "outputs": [
        {
          "output_type": "execute_result",
          "data": {
            "text/plain": [
              "225000.0    1806\n",
              "275000.0    1650\n",
              "250000.0    1644\n",
              "350000.0    1641\n",
              "325000.0    1562\n",
              "            ... \n",
              "218111.0       1\n",
              "136466.0       1\n",
              "236070.0       1\n",
              "752911.0       1\n",
              "171306.0       1\n",
              "Name: new_target, Length: 34184, dtype: int64"
            ]
          },
          "metadata": {},
          "execution_count": 14
        }
      ]
    },
    {
      "cell_type": "code",
      "source": [
        "data.drop(['target',], axis=1, inplace=True) #удаляем старый столбец с таргетом и грязными данными, будем в дальнейшем использовать новый"
      ],
      "metadata": {
        "id": "NkbEvi_SbmK4",
        "execution": {
          "iopub.status.busy": "2022-09-06T05:25:46.799828Z",
          "iopub.execute_input": "2022-09-06T05:25:46.800476Z",
          "iopub.status.idle": "2022-09-06T05:25:46.895710Z",
          "shell.execute_reply.started": "2022-09-06T05:25:46.800429Z",
          "shell.execute_reply": "2022-09-06T05:25:46.894606Z"
        },
        "trusted": true
      },
      "execution_count": 15,
      "outputs": []
    },
    {
      "cell_type": "code",
      "source": [
        "data.dropna(subset=['new_target'], inplace=True) #удаляем строки, содержащие NaN"
      ],
      "metadata": {
        "id": "LHleBGfncnKJ",
        "execution": {
          "iopub.status.busy": "2022-09-06T05:25:46.897226Z",
          "iopub.execute_input": "2022-09-06T05:25:46.897630Z",
          "iopub.status.idle": "2022-09-06T05:25:47.050673Z",
          "shell.execute_reply.started": "2022-09-06T05:25:46.897601Z",
          "shell.execute_reply": "2022-09-06T05:25:47.049753Z"
        },
        "trusted": true
      },
      "execution_count": 16,
      "outputs": []
    },
    {
      "cell_type": "markdown",
      "source": [
        "### status"
      ],
      "metadata": {
        "id": "v_L48mTCBrTJ"
      }
    },
    {
      "cell_type": "code",
      "source": [
        "data.status.value_counts() #краткий обзор значений"
      ],
      "metadata": {
        "id": "A7k6pV9Z9HB5",
        "outputId": "a921e3a9-8889-4eda-9bb8-0600e388c59b",
        "execution": {
          "iopub.status.busy": "2022-09-06T05:25:47.127618Z",
          "iopub.execute_input": "2022-09-06T05:25:47.128036Z",
          "iopub.status.idle": "2022-09-06T05:25:47.159701Z",
          "shell.execute_reply.started": "2022-09-06T05:25:47.128007Z",
          "shell.execute_reply": "2022-09-06T05:25:47.158634Z"
        },
        "trusted": true,
        "colab": {
          "base_uri": "https://localhost:8080/"
        }
      },
      "execution_count": 17,
      "outputs": [
        {
          "output_type": "execute_result",
          "data": {
            "text/plain": [
              "for sale                   156100\n",
              "Active                     105206\n",
              "For sale                    43465\n",
              "foreclosure                  5677\n",
              "New construction             5459\n",
              "                            ...  \n",
              "Coming soon: Nov 8.             1\n",
              "Coming soon: Oct 29.            1\n",
              "Coming soon: Dec 15.            1\n",
              "Pending W/Backup Wanted         1\n",
              "Coming soon: Dec 23.            1\n",
              "Name: status, Length: 155, dtype: int64"
            ]
          },
          "metadata": {},
          "execution_count": 17
        }
      ]
    },
    {
      "cell_type": "code",
      "source": [
        "data.status.unique() #вывод уникальных значений, как видим из разнообразия представленных типов можно вычленить более унифицированные. Попробуем вычленить основные типы с помощью дальнейших преобразований"
      ],
      "metadata": {
        "id": "uTigmEAsxF6v",
        "outputId": "2e4875ac-e5e9-492a-cb90-4c390fe33ced",
        "execution": {
          "iopub.status.busy": "2022-09-06T05:25:47.161543Z",
          "iopub.execute_input": "2022-09-06T05:25:47.161955Z",
          "iopub.status.idle": "2022-09-06T05:25:47.197576Z",
          "shell.execute_reply.started": "2022-09-06T05:25:47.161906Z",
          "shell.execute_reply": "2022-09-06T05:25:47.196919Z"
        },
        "trusted": true,
        "colab": {
          "base_uri": "https://localhost:8080/"
        }
      },
      "execution_count": 18,
      "outputs": [
        {
          "output_type": "execute_result",
          "data": {
            "text/plain": [
              "array(['Active', 'for sale', nan, 'New construction', 'New', 'For sale',\n",
              "       'Pending', 'P', 'Active/Contingent', ' / auction',\n",
              "       'Under Contract', 'Pre-foreclosure / auction',\n",
              "       'Under Contract   Showing', 'Pre-foreclosure',\n",
              "       'Under Contract Backups', 'Active Under Contract', 'foreclosure',\n",
              "       'Foreclosed', 'Option Pending', 'Under Contract Show', 'Auction',\n",
              "       'A Active', 'Contingent', 'Pending   Continue To Show',\n",
              "       'Price Change', 'Back on Market', 'Active Option', 'Foreclosure',\n",
              "       'Coming soon: Nov 21.', 'Contingent Finance And Inspection',\n",
              "       'Coming soon: Dec 4.', 'P Pending Sale', 'Coming soon: Nov 23.',\n",
              "       'Active With Contingencies', 'Pending Ab', 'Pf', 'Contingent Show',\n",
              "       'Contract P', 'Contingent Take Backup', 'Apartment for rent',\n",
              "       'Backup Contract', 'Option Contract', 'Pending Continue To Show',\n",
              "       'pending', 'Pending Inspection', 'Active Option Contract', 'C',\n",
              "       'Auction - Active', 'Contingent   Show', 'Pi',\n",
              "       'Due Diligence Period', 'Contract Contingent On Buyer Sale',\n",
              "       'U Under Contract', 'Coming soon: Nov 29.', 'Coming soon: Dec 2.',\n",
              "       'Active Contingency', 'Pending With Contingencies',\n",
              "       'Lease/Purchase Pending', 'Pending Bring Backup',\n",
              "       'C Continue Show', 'Pending Taking Backups',\n",
              "       'Offer Pending Signature', 'Under Contract - Show',\n",
              "       'Contingent Lien Holder Release', 'Active - Auction',\n",
              "       'Active With Offer', 'Coming soon: Nov 30.', 'Listing Extended',\n",
              "       'Pending, Continue to Show', 'For Sale', 'Contingency Contract',\n",
              "       'Coming soon: Dec 10.', 'Contingent Escape',\n",
              "       'Pending - Taking Backups', 'Coming soon: Dec 24.',\n",
              "       'Active Backup', 'Coming soon: Nov 14.', 'Coming soon: Nov 22.',\n",
              "       'Coming soon: Oct 21.', 'Under contract', 'Coming soon: Dec 14.',\n",
              "       'Coming soon: Oct 24.', 'Condo for rent', 'Active Contingent',\n",
              "       'Coming soon: Dec 18.', 'Pending Offer Approval', 'Pending In',\n",
              "       'Coming soon: Dec 16.', 'Ct', 'Pending W/Insp Finance',\n",
              "       'Coming soon: Dec 3.', 'Coming soon: Dec 25.',\n",
              "       'Coming soon: Nov 11.', 'Coming soon: Nov 28.',\n",
              "       'Contingent Finance and Inspection', 'Temporary Active',\n",
              "       'CT Insp - Inspection Contingency', 'Coming soon: Nov 17.',\n",
              "       'Pending (Do Not Show)', 'Contingency 48 Hr (+/ )',\n",
              "       'Pending   Continue To Show   Financing', 'Pending W/ Cont.',\n",
              "       'Coming soon: Dec 6.', 'Back On Market', 'Coming soon: Nov 27.',\n",
              "       'Pending W/Escape Clause', 'Coming soon: Nov 26.',\n",
              "       'Pending - Continue to Show', 'Closed', 'Under Contract - No Show',\n",
              "       'Contract', 'Coming soon: Dec 7.', 'Coming soon: Dec 27.',\n",
              "       'Coming soon: Dec 11.', 'Coming soon: Dec 5.',\n",
              "       'Coming soon: Nov 13.', 'Contingent   Release', 'Accepted Offer',\n",
              "       'Conditional Contract', 'Active - Contingent',\n",
              "       'Active with Contract', 'Coming soon: Nov 19.',\n",
              "       'Coming soon: Nov 8.', 'Coming soon: Oct 29.',\n",
              "       'Coming soon: Dec 15.', 'Pending W/Backup Wanted',\n",
              "       'Pending Backups Wanted', 'Pending Fe', 'Coming soon: Oct 30.',\n",
              "       'Contingent   No Show', 'Coming soon: Dec 9.', 'Pending Sale',\n",
              "       'Accepting backups', 'Coming soon: Dec 20.',\n",
              "       'Pending Take Backups', 'Contingent   Foreclosure',\n",
              "       'Conting Accpt Backups', 'Lease/Purchase', 'Coming soon: Dec 13.',\n",
              "       'Contingent - Sale of Home', 'Ps', 'Under Contract W/ Bckp',\n",
              "       'Re Activated', 'Pending - Backup Offer Requested',\n",
              "       'Coming soon: Dec 12.', 'Reactivated', 'Uc Continue To Show',\n",
              "       'Contingent - Financing', 'Coming soon: Nov 5.',\n",
              "       'Coming soon: Nov 12.', 'Coming soon: Dec 1.', 'Pending Sh',\n",
              "       'Coming soon: Nov 25.', 'Under Contract Taking Back Up Offers',\n",
              "       'Backup', 'Coming soon: Dec 23.'], dtype=object)"
            ]
          },
          "metadata": {},
          "execution_count": 18
        }
      ]
    },
    {
      "cell_type": "code",
      "source": [
        "data['status'] = data.status.astype(str) #приводим к типу строка, понижаем регистр и берем первое значение строки \n",
        "data['status'] = data.status.apply(lambda x: x.split(' ')[0].lower())"
      ],
      "metadata": {
        "id": "XMXY5iqne_kJ",
        "execution": {
          "iopub.status.busy": "2022-09-06T05:25:47.198592Z",
          "iopub.execute_input": "2022-09-06T05:25:47.199228Z",
          "iopub.status.idle": "2022-09-06T05:25:47.386358Z",
          "shell.execute_reply.started": "2022-09-06T05:25:47.199200Z",
          "shell.execute_reply": "2022-09-06T05:25:47.385548Z"
        },
        "trusted": true
      },
      "execution_count": 19,
      "outputs": []
    },
    {
      "cell_type": "code",
      "source": [
        "data.status.unique() #обзор получившихся уникальных значений"
      ],
      "metadata": {
        "id": "t-7ZDWGifL1W",
        "outputId": "f2dcf00e-6c1d-49f2-e4cc-c16e85364eca",
        "execution": {
          "iopub.status.busy": "2022-09-06T05:25:47.387669Z",
          "iopub.execute_input": "2022-09-06T05:25:47.388220Z",
          "iopub.status.idle": "2022-09-06T05:25:47.422579Z",
          "shell.execute_reply.started": "2022-09-06T05:25:47.388189Z",
          "shell.execute_reply": "2022-09-06T05:25:47.420627Z"
        },
        "trusted": true,
        "colab": {
          "base_uri": "https://localhost:8080/"
        }
      },
      "execution_count": 20,
      "outputs": [
        {
          "output_type": "execute_result",
          "data": {
            "text/plain": [
              "array(['active', 'for', 'nan', 'new', 'pending', 'p', 'active/contingent',\n",
              "       '', 'under', 'pre-foreclosure', 'foreclosure', 'foreclosed',\n",
              "       'option', 'auction', 'a', 'contingent', 'price', 'back', 'coming',\n",
              "       'pf', 'contract', 'apartment', 'backup', 'c', 'pi', 'due', 'u',\n",
              "       'lease/purchase', 'offer', 'listing', 'pending,', 'contingency',\n",
              "       'condo', 'ct', 'temporary', 'closed', 'accepted', 'conditional',\n",
              "       'accepting', 'conting', 'ps', 're', 'reactivated', 'uc'],\n",
              "      dtype=object)"
            ]
          },
          "metadata": {},
          "execution_count": 20
        }
      ]
    },
    {
      "cell_type": "code",
      "source": [
        "def transform_status(\n",
        "    value: str\n",
        "):  \n",
        "    if isinstance(value, str):\n",
        "        if  value in ['for']:\n",
        "            return 'for sale'\n",
        "        if  value in ['nan', '']:\n",
        "            return 'not known'\n",
        "        if  value in ['a', 'active/contingent']:\n",
        "            return 'active'\n",
        "        if  value in ['price']:\n",
        "            return 'price change'\n",
        "        if  value in ['back', 'backup']:\n",
        "            return 'back on market'\n",
        "        if  value in ['coming', 'c']:\n",
        "            return 'coming soon'\n",
        "        if value in ['p', 'pi', 'ps']:\n",
        "            return 'pending'\n",
        "        if value in ['u', 'uc']:\n",
        "            return 'under'\n",
        "        if value in ['re']:\n",
        "            return 'reactivated'\n",
        "        if value in ['ct']:\n",
        "            return 'contract'\n",
        "        if value in ['pre-foreclosure', 'foreclosure', 'foreclosed']:\n",
        "            return 'foreclosure'\n",
        "        if value in ['accepting', 'accepted']:\n",
        "            return 'accepted'\n",
        "        if value in ['contingency', 'conting']:\n",
        "            return 'contingency'\n",
        "        if value in ['condo', 'conditional']:\n",
        "            return 'conditional'\n",
        "\n",
        "    return value\n",
        "data.status=data.status.apply(transform_status) #функция для преобразования, так как видно,что некоторые аббревиатуры используются для более полных категорий,например"
      ],
      "metadata": {
        "id": "PS6FmMWixmt_",
        "execution": {
          "iopub.status.busy": "2022-09-06T05:25:47.424679Z",
          "iopub.execute_input": "2022-09-06T05:25:47.425121Z",
          "iopub.status.idle": "2022-09-06T05:25:47.609914Z",
          "shell.execute_reply.started": "2022-09-06T05:25:47.425080Z",
          "shell.execute_reply": "2022-09-06T05:25:47.609117Z"
        },
        "trusted": true
      },
      "execution_count": 21,
      "outputs": []
    },
    {
      "cell_type": "code",
      "source": [
        "data.status.unique() #обзор получившихся в итоге уникальных значений"
      ],
      "metadata": {
        "id": "EEA982A1ooJe",
        "outputId": "a66b3f0e-7b25-4c6a-d7cf-c7d3e4406a64",
        "execution": {
          "iopub.status.busy": "2022-09-06T05:25:47.611206Z",
          "iopub.execute_input": "2022-09-06T05:25:47.611747Z",
          "iopub.status.idle": "2022-09-06T05:25:47.644399Z",
          "shell.execute_reply.started": "2022-09-06T05:25:47.611705Z",
          "shell.execute_reply": "2022-09-06T05:25:47.643427Z"
        },
        "trusted": true,
        "colab": {
          "base_uri": "https://localhost:8080/"
        }
      },
      "execution_count": 22,
      "outputs": [
        {
          "output_type": "execute_result",
          "data": {
            "text/plain": [
              "array(['active', 'for sale', 'not known', 'new', 'pending', 'under',\n",
              "       'foreclosure', 'option', 'auction', 'contingent', 'price change',\n",
              "       'back on market', 'coming soon', 'pf', 'contract', 'apartment',\n",
              "       'due', 'lease/purchase', 'offer', 'listing', 'pending,',\n",
              "       'contingency', 'conditional', 'temporary', 'closed', 'accepted',\n",
              "       'reactivated'], dtype=object)"
            ]
          },
          "metadata": {},
          "execution_count": 22
        }
      ]
    },
    {
      "cell_type": "markdown",
      "source": [
        "### private pool"
      ],
      "metadata": {
        "id": "kbNZbm5rBw3A"
      }
    },
    {
      "cell_type": "code",
      "source": [
        "data['private pool'].value_counts() #обзор значений в столбце"
      ],
      "metadata": {
        "id": "5eT2cszn7wix",
        "outputId": "022ddb13-b6ef-43c0-8e23-066c0a310e52",
        "execution": {
          "iopub.status.busy": "2022-09-06T05:25:47.698502Z",
          "iopub.execute_input": "2022-09-06T05:25:47.699127Z",
          "iopub.status.idle": "2022-09-06T05:25:47.715743Z",
          "shell.execute_reply.started": "2022-09-06T05:25:47.699096Z",
          "shell.execute_reply": "2022-09-06T05:25:47.714831Z"
        },
        "trusted": true,
        "colab": {
          "base_uri": "https://localhost:8080/"
        }
      },
      "execution_count": 23,
      "outputs": [
        {
          "output_type": "execute_result",
          "data": {
            "text/plain": [
              "Yes    4151\n",
              "Name: private pool, dtype: int64"
            ]
          },
          "metadata": {},
          "execution_count": 23
        }
      ]
    },
    {
      "cell_type": "code",
      "source": [
        "data.drop(['private pool',], axis=1, inplace=True) #удаляем столбец,так как значения совпадает со столбцом PrivatePool"
      ],
      "metadata": {
        "id": "8DZ_QhwWDacD",
        "execution": {
          "iopub.status.busy": "2022-09-06T05:25:47.717346Z",
          "iopub.execute_input": "2022-09-06T05:25:47.717727Z",
          "iopub.status.idle": "2022-09-06T05:25:47.819125Z",
          "shell.execute_reply.started": "2022-09-06T05:25:47.717689Z",
          "shell.execute_reply": "2022-09-06T05:25:47.817747Z"
        },
        "trusted": true
      },
      "execution_count": 24,
      "outputs": []
    },
    {
      "cell_type": "markdown",
      "source": [
        "### propertyType"
      ],
      "metadata": {
        "id": "WyjRShaXB1Wq"
      }
    },
    {
      "cell_type": "code",
      "source": [
        "data['propertyType'].value_counts() #обзор значений в столбце"
      ],
      "metadata": {
        "id": "mOIW9YDx77N-",
        "outputId": "6e99ed72-d1be-447d-a712-292787b9ac69",
        "execution": {
          "iopub.status.busy": "2022-09-06T05:25:47.820402Z",
          "iopub.execute_input": "2022-09-06T05:25:47.821352Z",
          "iopub.status.idle": "2022-09-06T05:25:47.852640Z",
          "shell.execute_reply.started": "2022-09-06T05:25:47.821316Z",
          "shell.execute_reply": "2022-09-06T05:25:47.851607Z"
        },
        "trusted": true,
        "colab": {
          "base_uri": "https://localhost:8080/"
        }
      },
      "execution_count": 25,
      "outputs": [
        {
          "output_type": "execute_result",
          "data": {
            "text/plain": [
              "single-family home                                             91159\n",
              "Single Family                                                  61888\n",
              "Single Family Home                                             31725\n",
              "condo                                                          25878\n",
              "lot/land                                                       20532\n",
              "                                                               ...  \n",
              "1 Story, Contemporary, Other (See Remarks)                         1\n",
              "Custom, Elevated, Other                                            1\n",
              "Contemporary, Farmhouse                                            1\n",
              "2 Stories, Traditional, Mediterranean, Texas Hill Country          1\n",
              "Bilevel, Converted Dwelling, Loft with Bedrooms, Condo/Unit        1\n",
              "Name: propertyType, Length: 1279, dtype: int64"
            ]
          },
          "metadata": {},
          "execution_count": 25
        }
      ]
    },
    {
      "cell_type": "code",
      "source": [
        "data['propertyType'].unique() #обзор уникальных значений"
      ],
      "metadata": {
        "id": "yq1zRZwIEoNx",
        "outputId": "92fcae48-7e2c-4ae6-804d-751822be0cbb",
        "execution": {
          "iopub.status.busy": "2022-09-06T05:25:47.853965Z",
          "iopub.execute_input": "2022-09-06T05:25:47.854217Z",
          "iopub.status.idle": "2022-09-06T05:25:47.881555Z",
          "shell.execute_reply.started": "2022-09-06T05:25:47.854193Z",
          "shell.execute_reply": "2022-09-06T05:25:47.880467Z"
        },
        "trusted": true,
        "colab": {
          "base_uri": "https://localhost:8080/"
        }
      },
      "execution_count": 26,
      "outputs": [
        {
          "output_type": "execute_result",
          "data": {
            "text/plain": [
              "array(['Single Family Home', 'single-family home', 'lot/land', ...,\n",
              "       'Cabin/Lodge, Contemporary, Converted Barn, Cottage, Loft with Bedrooms, Log Home, Post & Beam',\n",
              "       'Lake House, Single Detached, Tudor',\n",
              "       'Bilevel, Converted Dwelling, Loft with Bedrooms, Condo/Unit'],\n",
              "      dtype=object)"
            ]
          },
          "metadata": {},
          "execution_count": 26
        }
      ]
    },
    {
      "cell_type": "code",
      "source": [
        "data['propertyType'] = data['propertyType'].astype(str) #преобразование значений в строках\n",
        "data['propertyType'] = data['propertyType'].apply(lambda x: x.split(' ')[0].lower().replace(',', ''))"
      ],
      "metadata": {
        "id": "ej1ZXGahE6rC",
        "execution": {
          "iopub.status.busy": "2022-09-06T05:25:47.882991Z",
          "iopub.execute_input": "2022-09-06T05:25:47.883351Z",
          "iopub.status.idle": "2022-09-06T05:25:48.108193Z",
          "shell.execute_reply.started": "2022-09-06T05:25:47.883325Z",
          "shell.execute_reply": "2022-09-06T05:25:48.107098Z"
        },
        "trusted": true
      },
      "execution_count": 27,
      "outputs": []
    },
    {
      "cell_type": "code",
      "source": [
        "data['propertyType'].unique()\n",
        "#требуется более точечная ифна с этим сериес,чем просто обрезка данных, тут и данные о стиле интерьера, и данные о колве комнат"
      ],
      "metadata": {
        "id": "LSPRUbdBFKB1",
        "outputId": "8252a119-bb2d-4555-d547-0e01fff34e05",
        "execution": {
          "iopub.status.busy": "2022-09-06T05:25:48.109725Z",
          "iopub.execute_input": "2022-09-06T05:25:48.110067Z",
          "iopub.status.idle": "2022-09-06T05:25:48.148960Z",
          "shell.execute_reply.started": "2022-09-06T05:25:48.110039Z",
          "shell.execute_reply": "2022-09-06T05:25:48.148252Z"
        },
        "trusted": true,
        "colab": {
          "base_uri": "https://localhost:8080/"
        }
      },
      "execution_count": 28,
      "outputs": [
        {
          "output_type": "execute_result",
          "data": {
            "text/plain": [
              "array(['single', 'single-family', 'lot/land', 'townhouse', 'florida',\n",
              "       'nan', 'coop', 'english', '2', 'multi-family', 'penthouse',\n",
              "       'condo', 'land', 'condo/townhome/row', '', 'detached', '1',\n",
              "       'other', 'colonial', 'transitional', 'high', 'mobile/manufactured',\n",
              "       'tri-level', 'craftsman', 'federal', 'multi', 'traditional',\n",
              "       'custom', 'cooperative', 'contemporary/modern', 'cape', 'mobile',\n",
              "       'miscellaneous', 'mfd/mobile', 'bungalow', 'spanish/mediterranean',\n",
              "       'contemporary', 'multi-level', 'condo/unit', 'ranch', 'low-rise',\n",
              "       'rancher', 'urban', 'two', 'garden', 'farms/ranches', 'a-frame',\n",
              "       'attached', 'one', 'georgian', 'dwelling', 'victorian',\n",
              "       'apartment', 'cluster', 'manufactured', 'condominium',\n",
              "       'condo/townhome', 'hi', 'mediterranean', 'cabin', 'bermuda',\n",
              "       'split', 'farm', 'split-level', 'singlefamilyresidence', 'log',\n",
              "       'bilevel', 'mountain', 'commercial/industrial', 'cottage',\n",
              "       'high-rise', 'mid-rise', 'tudor/provincial', 'straight',\n",
              "       'houseboat', 'mid-century', 'french', 'garden/zero', 'charleston',\n",
              "       '4+', 'farm/ranch', 'split-entry', 'co-op', 'residential',\n",
              "       'unknown', '3', 'courtyard', 'resort', 'elevated', 'multiple',\n",
              "       'tudor', 'designated', '3+', 'quad', 'arts', 'multiplex',\n",
              "       'fourplex', 'spanish', 'historical/conservation', 'camp', 'santa',\n",
              "       'duplex', 'european', 'key', 'bi-level', 'art', 'coach/carriage',\n",
              "       'loft/balcony', 'farmhouse', 'less', 'carriage', '5-9', 'texas',\n",
              "       'lake', 'hi-rise', 'dutch', 'loft', 'raised', 'country',\n",
              "       'territorial/santa', 'modernist', 'stilt', 'coastal', 'end',\n",
              "       'historical', 'cabin/lodge', 'beaux', 'farmhouse/national',\n",
              "       'trinity', '4-plex', 'conventional', 'old', 'historic/older',\n",
              "       'store', 'side-by-side', 'triplex', 'tuscan', 'chalet', '10+',\n",
              "       'gambrel', 'modern', 'step', 'rustic', 'patio', 'studio',\n",
              "       '2-story', 'townhome', 'yes', 'new', 'back-to-back', 'airlite',\n",
              "       'architectural', 'low', 'flat', 'american', 'denver', 'antique',\n",
              "       '30x40', 'post', 'manuf/mobile', 'guest', 'southern', '2.5',\n",
              "       'historic', 'double-wide', 'modular/prefab', 'hill', 'mid',\n",
              "       'expanded', 'townhouse-interior', 'mid-level', 'garage',\n",
              "       'single-wide', 'villa', 'manor', 'victorian/federal', 'forest',\n",
              "       'walk-out', 'townhouse-end', 'queen', 'ground', 'conversion',\n",
              "       'fairway', 'moorage', 'warehouse', 'prairie', 'cottage/camp'],\n",
              "      dtype=object)"
            ]
          },
          "metadata": {},
          "execution_count": 28
        }
      ]
    },
    {
      "cell_type": "code",
      "source": [
        "def transform_status(\n",
        "    value: str\n",
        "):  \n",
        "    if isinstance(value, str):\n",
        "        if  value in ['nan', '']:\n",
        "            return 'not known'\n",
        "        if  value in ['1']:\n",
        "            return 'one'\n",
        "        if  value in ['2', '2.5', '2-story']:\n",
        "            return 'two'\n",
        "        if  value in ['3']:\n",
        "            return 'back on market'\n",
        "        if  value in ['coming', 'c']:\n",
        "            return 'coming soon'\n",
        "        if value in ['p', 'pi', 'ps']:\n",
        "            return 'pending'\n",
        "        if value in ['u', 'uc']:\n",
        "            return 'under'\n",
        "        if value in ['re']:\n",
        "            return 'reactivated'\n",
        "        if value in ['ct']:\n",
        "            return 'contract'\n",
        "        if value in ['pre-foreclosure', 'foreclosure', 'foreclosed']:\n",
        "            return 'foreclosure'\n",
        "        if value in ['accepting', 'accepted']:\n",
        "            return 'accepted'\n",
        "        if value in ['contingency', 'conting']:\n",
        "            return 'contingency'\n",
        "        if value in ['condo', 'conditional']:\n",
        "            return 'conditional'\n",
        "\n",
        "    return value\n",
        "data.status=data.status.apply(transform_status) #функция для снижения вариативности представленных значений, так как некоторые повторяются"
      ],
      "metadata": {
        "id": "mDZWjH2uLFSc",
        "execution": {
          "iopub.status.busy": "2022-09-06T05:25:48.150270Z",
          "iopub.execute_input": "2022-09-06T05:25:48.150852Z",
          "iopub.status.idle": "2022-09-06T05:25:48.438851Z",
          "shell.execute_reply.started": "2022-09-06T05:25:48.150821Z",
          "shell.execute_reply": "2022-09-06T05:25:48.437785Z"
        },
        "trusted": true
      },
      "execution_count": 29,
      "outputs": []
    },
    {
      "cell_type": "markdown",
      "source": [
        "### street"
      ],
      "metadata": {
        "id": "tKw7eaBBB5Yj"
      }
    },
    {
      "cell_type": "code",
      "source": [
        "data.street.value_counts() #обзор значений в столбце"
      ],
      "metadata": {
        "id": "J4ujChz977X2",
        "outputId": "d7ad5537-367c-4e0e-84cc-ef439bead4ff",
        "execution": {
          "iopub.status.busy": "2022-09-06T05:25:48.742538Z",
          "iopub.execute_input": "2022-09-06T05:25:48.743089Z",
          "iopub.status.idle": "2022-09-06T05:25:49.004344Z",
          "shell.execute_reply.started": "2022-09-06T05:25:48.743060Z",
          "shell.execute_reply": "2022-09-06T05:25:49.003044Z"
        },
        "trusted": true,
        "colab": {
          "base_uri": "https://localhost:8080/"
        }
      },
      "execution_count": 30,
      "outputs": [
        {
          "output_type": "execute_result",
          "data": {
            "text/plain": [
              "Address Not Disclosed               672\n",
              "Undisclosed Address                 516\n",
              "(undisclosed Address)               391\n",
              "Address Not Available               175\n",
              "Unknown Address                      72\n",
              "                                   ... \n",
              "Lynmar Plan in Rough Hollow           1\n",
              "MLS #: CORC5922640                    1\n",
              "7784 Rosedale St                      1\n",
              "Buildable plan: Residence 2 Plan      1\n",
              "5983 Midcrown Dr                      1\n",
              "Name: street, Length: 334447, dtype: int64"
            ]
          },
          "metadata": {},
          "execution_count": 30
        }
      ]
    },
    {
      "cell_type": "code",
      "source": [
        "data['street']=data['street'].fillna(value='not known') #заполнение отсутствующих значений"
      ],
      "metadata": {
        "id": "L5H3j4TWkbaT",
        "execution": {
          "iopub.status.busy": "2022-09-06T05:25:49.005845Z",
          "iopub.execute_input": "2022-09-06T05:25:49.006239Z",
          "iopub.status.idle": "2022-09-06T05:25:49.050021Z",
          "shell.execute_reply.started": "2022-09-06T05:25:49.006200Z",
          "shell.execute_reply": "2022-09-06T05:25:49.049142Z"
        },
        "trusted": true
      },
      "execution_count": 31,
      "outputs": []
    },
    {
      "cell_type": "markdown",
      "source": [
        "### baths"
      ],
      "metadata": {
        "id": "mLkd3HZfB-pH"
      }
    },
    {
      "cell_type": "code",
      "source": [
        "data.baths.value_counts() #обзор значений в столбце"
      ],
      "metadata": {
        "id": "-C9iNGNy77l4",
        "outputId": "906534b6-d4d5-4c52-aae8-0dbf74b30038",
        "execution": {
          "iopub.status.busy": "2022-09-06T05:25:49.051372Z",
          "iopub.execute_input": "2022-09-06T05:25:49.051854Z",
          "iopub.status.idle": "2022-09-06T05:25:49.080881Z",
          "shell.execute_reply.started": "2022-09-06T05:25:49.051812Z",
          "shell.execute_reply": "2022-09-06T05:25:49.079765Z"
        },
        "trusted": true,
        "colab": {
          "base_uri": "https://localhost:8080/"
        }
      },
      "execution_count": 32,
      "outputs": [
        {
          "output_type": "execute_result",
          "data": {
            "text/plain": [
              "2 Baths          51953\n",
              "3 Baths          35356\n",
              "2                20429\n",
              "2.0              16355\n",
              "4 Baths          14712\n",
              "                 ...  \n",
              "32                   1\n",
              "5.25 Baths           1\n",
              "41.0                 1\n",
              "Bathrooms: 21        1\n",
              "44.0                 1\n",
              "Name: baths, Length: 225, dtype: int64"
            ]
          },
          "metadata": {},
          "execution_count": 32
        }
      ]
    },
    {
      "cell_type": "code",
      "source": [
        "data['baths']=pd.to_numeric(data['baths'],  errors='coerce') #приведение к числовому типу"
      ],
      "metadata": {
        "id": "n-9o3J7pZl4r",
        "execution": {
          "iopub.status.busy": "2022-09-06T05:25:49.082474Z",
          "iopub.execute_input": "2022-09-06T05:25:49.082852Z",
          "iopub.status.idle": "2022-09-06T05:25:49.312969Z",
          "shell.execute_reply.started": "2022-09-06T05:25:49.082823Z",
          "shell.execute_reply": "2022-09-06T05:25:49.312122Z"
        },
        "trusted": true
      },
      "execution_count": 33,
      "outputs": []
    },
    {
      "cell_type": "code",
      "source": [
        "data['baths']=data['baths'].fillna(value=data['baths'].mean()) #заполнение отсутствующих значений"
      ],
      "metadata": {
        "id": "ht6YM8EBcD1R",
        "execution": {
          "iopub.status.busy": "2022-09-06T05:25:49.358450Z",
          "iopub.execute_input": "2022-09-06T05:25:49.358782Z",
          "iopub.status.idle": "2022-09-06T05:25:49.369215Z",
          "shell.execute_reply.started": "2022-09-06T05:25:49.358744Z",
          "shell.execute_reply": "2022-09-06T05:25:49.368364Z"
        },
        "trusted": true
      },
      "execution_count": 34,
      "outputs": []
    },
    {
      "cell_type": "code",
      "source": [
        "data['baths']=data['baths'].astype(float).apply(lambda x:round(x, 1)) #приведение к типу float"
      ],
      "metadata": {
        "id": "a8yVYzTIdG5_",
        "execution": {
          "iopub.status.busy": "2022-09-06T05:25:49.383265Z",
          "iopub.execute_input": "2022-09-06T05:25:49.383500Z",
          "iopub.status.idle": "2022-09-06T05:25:49.660711Z",
          "shell.execute_reply.started": "2022-09-06T05:25:49.383478Z",
          "shell.execute_reply": "2022-09-06T05:25:49.659765Z"
        },
        "trusted": true
      },
      "execution_count": 35,
      "outputs": []
    },
    {
      "cell_type": "code",
      "source": [
        "data['baths'].unique() #обзор уникальных значений в столбце"
      ],
      "metadata": {
        "id": "LDl7NFfZdW6U",
        "outputId": "3bc2362c-b550-468a-b602-cc905cdbb498",
        "execution": {
          "iopub.status.busy": "2022-09-06T05:25:49.662035Z",
          "iopub.execute_input": "2022-09-06T05:25:49.662333Z",
          "iopub.status.idle": "2022-09-06T05:25:49.672540Z",
          "shell.execute_reply.started": "2022-09-06T05:25:49.662305Z",
          "shell.execute_reply": "2022-09-06T05:25:49.671378Z"
        },
        "trusted": true,
        "colab": {
          "base_uri": "https://localhost:8080/"
        }
      },
      "execution_count": 36,
      "outputs": [
        {
          "output_type": "execute_result",
          "data": {
            "text/plain": [
              "array([  3.5,   4.2,   2. ,   3. ,   4. ,   1. ,   4.5,   5. ,   1.5,\n",
              "         2.5,   8. ,   0. ,   7. ,   6. ,   5.5, 750. ,  10. ,  18. ,\n",
              "         9. ,  12. ,   6.5,  14. ,  17. ,  16. ,   7.5,  11. ,  22. ,\n",
              "        13. ,  32. ,  26. ,   9.5,   8.5,  35. ,  40. ,  29. ,  15. ,\n",
              "        21. ,  20. ,  55. ,  41. ,  10.5,  27. ,  12.5,  24. ,  23. ,\n",
              "        34. ,  64. ,  30. ,  44. ])"
            ]
          },
          "metadata": {},
          "execution_count": 36
        }
      ]
    },
    {
      "cell_type": "markdown",
      "source": [
        "### homeFacts"
      ],
      "metadata": {
        "id": "kuZ2rmtiCBRK"
      }
    },
    {
      "cell_type": "code",
      "source": [
        "data.homeFacts.value_counts() #обзор значений в столбце"
      ],
      "metadata": {
        "id": "_gCQu0ZC77xS",
        "outputId": "137910a8-5157-42e5-c1b0-085540ad87f4",
        "execution": {
          "iopub.status.busy": "2022-09-06T05:25:49.673710Z",
          "iopub.execute_input": "2022-09-06T05:25:49.674536Z",
          "iopub.status.idle": "2022-09-06T05:25:50.085622Z",
          "shell.execute_reply.started": "2022-09-06T05:25:49.674509Z",
          "shell.execute_reply": "2022-09-06T05:25:50.084653Z"
        },
        "trusted": true,
        "colab": {
          "base_uri": "https://localhost:8080/"
        }
      },
      "execution_count": 37,
      "outputs": [
        {
          "output_type": "execute_result",
          "data": {
            "text/plain": [
              "{'atAGlanceFacts': [{'factValue': '', 'factLabel': 'Year built'}, {'factValue': '', 'factLabel': 'Remodeled year'}, {'factValue': '', 'factLabel': 'Heating'}, {'factValue': '', 'factLabel': 'Cooling'}, {'factValue': '', 'factLabel': 'Parking'}, {'factValue': '—', 'factLabel': 'lotsize'}, {'factValue': None, 'factLabel': 'Price/sqft'}]}                                                     7142\n",
              "{'atAGlanceFacts': [{'factValue': None, 'factLabel': 'Year built'}, {'factValue': None, 'factLabel': 'Remodeled year'}, {'factValue': None, 'factLabel': 'Heating'}, {'factValue': None, 'factLabel': 'Cooling'}, {'factValue': None, 'factLabel': 'Parking'}, {'factValue': None, 'factLabel': 'lotsize'}, {'factValue': None, 'factLabel': 'Price/sqft'}]}                                          3484\n",
              "{'atAGlanceFacts': [{'factValue': '', 'factLabel': 'Year built'}, {'factValue': '', 'factLabel': 'Remodeled year'}, {'factValue': '', 'factLabel': 'Heating'}, {'factValue': '', 'factLabel': 'Cooling'}, {'factValue': '', 'factLabel': 'Parking'}, {'factValue': '10000', 'factLabel': 'lotsize'}, {'factValue': None, 'factLabel': 'Price/sqft'}]}                                                  533\n",
              "{'atAGlanceFacts': [{'factValue': '', 'factLabel': 'Year built'}, {'factValue': '', 'factLabel': 'Remodeled year'}, {'factValue': '', 'factLabel': 'Heating'}, {'factValue': '', 'factLabel': 'Cooling'}, {'factValue': '', 'factLabel': 'Parking'}, {'factValue': '', 'factLabel': 'lotsize'}, {'factValue': None, 'factLabel': 'Price/sqft'}]}                                                       529\n",
              "{'atAGlanceFacts': [{'factValue': '', 'factLabel': 'Year built'}, {'factValue': '', 'factLabel': 'Remodeled year'}, {'factValue': '', 'factLabel': 'Heating'}, {'factValue': '', 'factLabel': 'Cooling'}, {'factValue': '', 'factLabel': 'Parking'}, {'factValue': '10,000 Sq. Ft.', 'factLabel': 'lotsize'}, {'factValue': None, 'factLabel': 'Price/sqft'}]}                                         370\n",
              "                                                                                                                                                                                                                                                                                                                                                                                                      ... \n",
              "{'atAGlanceFacts': [{'factValue': 'No Data', 'factLabel': 'Year built'}, {'factValue': None, 'factLabel': 'Remodeled year'}, {'factValue': 'Forced air', 'factLabel': 'Heating'}, {'factValue': 'Central', 'factLabel': 'Cooling'}, {'factValue': '1 space', 'factLabel': 'Parking'}, {'factValue': None, 'factLabel': 'lotsize'}, {'factValue': '$164', 'factLabel': 'Price/sqft'}]}                    1\n",
              "{'atAGlanceFacts': [{'factValue': '1975', 'factLabel': 'Year built'}, {'factValue': '1975', 'factLabel': 'Remodeled year'}, {'factValue': 'Central', 'factLabel': 'Heating'}, {'factValue': 'Electric', 'factLabel': 'Cooling'}, {'factValue': '', 'factLabel': 'Parking'}, {'factValue': '—', 'factLabel': 'lotsize'}, {'factValue': '$181 / Sq. Ft.', 'factLabel': 'Price/sqft'}]}                     1\n",
              "{'atAGlanceFacts': [{'factValue': '2019', 'factLabel': 'Year built'}, {'factValue': '', 'factLabel': 'Remodeled year'}, {'factValue': '', 'factLabel': 'Heating'}, {'factValue': 'Central A/C (Electric), Heat Pump', 'factLabel': 'Cooling'}, {'factValue': '', 'factLabel': 'Parking'}, {'factValue': '—', 'factLabel': 'lotsize'}, {'factValue': '$269 / Sq. Ft.', 'factLabel': 'Price/sqft'}]}       1\n",
              "{'atAGlanceFacts': [{'factValue': '2010', 'factLabel': 'Year built'}, {'factValue': '2010', 'factLabel': 'Remodeled year'}, {'factValue': 'Forced Air', 'factLabel': 'Heating'}, {'factValue': 'Central', 'factLabel': 'Cooling'}, {'factValue': '2', 'factLabel': 'Parking'}, {'factValue': '9.17 acres', 'factLabel': 'lotsize'}, {'factValue': '$1,008/sqft', 'factLabel': 'Price/sqft'}]}            1\n",
              "{'atAGlanceFacts': [{'factValue': '2019', 'factLabel': 'Year built'}, {'factValue': None, 'factLabel': 'Remodeled year'}, {'factValue': 'Electric', 'factLabel': 'Heating'}, {'factValue': 'Central', 'factLabel': 'Cooling'}, {'factValue': 'No Data', 'factLabel': 'Parking'}, {'factValue': '6,969 sqft', 'factLabel': 'lotsize'}, {'factValue': '$140', 'factLabel': 'Price/sqft'}]}                 1\n",
              "Name: homeFacts, Length: 318615, dtype: int64"
            ]
          },
          "metadata": {},
          "execution_count": 37
        }
      ]
    },
    {
      "cell_type": "code",
      "source": [
        "#homefacts=pd.DataFrame.from_dict(data['homeFacts'])"
      ],
      "metadata": {
        "id": "mG0VpaPW8J7E"
      },
      "execution_count": 38,
      "outputs": []
    },
    {
      "cell_type": "code",
      "source": [
        "#homefacts.head()"
      ],
      "metadata": {
        "id": "NdEzBH1VAgGv"
      },
      "execution_count": 39,
      "outputs": []
    },
    {
      "cell_type": "code",
      "source": [
        "#homefacts.homeFacts = homefacts.homeFacts.astype(str)\n",
        "#homefacts.homeFacts=homefacts.homeFacts.apply(lambda x: x.split(' {'))"
      ],
      "metadata": {
        "id": "PZIQqV7LA5ZA"
      },
      "execution_count": 40,
      "outputs": []
    },
    {
      "cell_type": "code",
      "source": [
        "#homefacts.head()"
      ],
      "metadata": {
        "id": "o2TL2HV-B801"
      },
      "execution_count": 41,
      "outputs": []
    },
    {
      "cell_type": "code",
      "source": [
        "#homefacts.homeFacts[0]"
      ],
      "metadata": {
        "id": "LqZTGf_TFq3Z"
      },
      "execution_count": 42,
      "outputs": []
    },
    {
      "cell_type": "code",
      "source": [
        "#homefacts.homeFacts[0][1]"
      ],
      "metadata": {
        "id": "cW6ZAYLkGi5Z"
      },
      "execution_count": 43,
      "outputs": []
    },
    {
      "cell_type": "markdown",
      "source": [
        "### fireplace"
      ],
      "metadata": {
        "id": "Bn9FNoWICMaX"
      }
    },
    {
      "cell_type": "code",
      "source": [
        "data['fireplace'].value_counts() #обзор значений в столбце"
      ],
      "metadata": {
        "id": "tU7zu0v5779U",
        "execution": {
          "iopub.status.busy": "2022-09-06T05:25:50.086956Z",
          "iopub.execute_input": "2022-09-06T05:25:50.087799Z",
          "iopub.status.idle": "2022-09-06T05:25:50.108353Z",
          "shell.execute_reply.started": "2022-09-06T05:25:50.087762Z",
          "shell.execute_reply": "2022-09-06T05:25:50.107489Z"
        },
        "trusted": true,
        "colab": {
          "base_uri": "https://localhost:8080/"
        },
        "outputId": "7b26466c-bd3d-4875-b14c-2ddc1d61bd5c"
      },
      "execution_count": 44,
      "outputs": [
        {
          "output_type": "execute_result",
          "data": {
            "text/plain": [
              "yes                                                                     49925\n",
              "Yes                                                                     20619\n",
              "1                                                                       14533\n",
              "2                                                                        2432\n",
              "Not Applicable                                                           1990\n",
              "                                                                        ...  \n",
              "Gas, Wood Burning, Two, Propane Logs Convey                                 1\n",
              "Free-standing, Insert, Wood                                                 1\n",
              "Wood Burning, Attached Fireplace Doors/Screen, Electric, Gas Starter        1\n",
              "One, Living Room                                                            1\n",
              "Ceiling Fan, SMAPL, Utility Connection, Walk-In Closets                     1\n",
              "Name: fireplace, Length: 1652, dtype: int64"
            ]
          },
          "metadata": {},
          "execution_count": 44
        }
      ]
    },
    {
      "cell_type": "code",
      "source": [
        "def transform_fireplace(\n",
        "    value: str\n",
        "):  \n",
        "    if isinstance(value, str):\n",
        "        if  value in value:\n",
        "          return 'yes'\n",
        "data['fireplace']=data['fireplace'].apply(transform_fireplace) #преобразование данных в столбце"
      ],
      "metadata": {
        "id": "amg-qDQAboYc",
        "execution": {
          "iopub.status.busy": "2022-09-06T05:25:50.109344Z",
          "iopub.execute_input": "2022-09-06T05:25:50.109583Z",
          "iopub.status.idle": "2022-09-06T05:25:50.214391Z",
          "shell.execute_reply.started": "2022-09-06T05:25:50.109560Z",
          "shell.execute_reply": "2022-09-06T05:25:50.213632Z"
        },
        "trusted": true
      },
      "execution_count": 45,
      "outputs": []
    },
    {
      "cell_type": "code",
      "source": [
        "data['fireplace']=data['fireplace'].fillna(value='not') #заполнение отсутствующих значений"
      ],
      "metadata": {
        "id": "vjjpAj0EiCOi",
        "execution": {
          "iopub.status.busy": "2022-09-06T05:25:50.234431Z",
          "iopub.execute_input": "2022-09-06T05:25:50.234682Z",
          "iopub.status.idle": "2022-09-06T05:25:50.262091Z",
          "shell.execute_reply.started": "2022-09-06T05:25:50.234659Z",
          "shell.execute_reply": "2022-09-06T05:25:50.261206Z"
        },
        "trusted": true
      },
      "execution_count": 46,
      "outputs": []
    },
    {
      "cell_type": "code",
      "source": [
        "data['fireplace'].value_counts() #обзор значений в столбце"
      ],
      "metadata": {
        "id": "7wwVXsO3lMf7",
        "execution": {
          "iopub.status.busy": "2022-09-06T05:25:50.263159Z",
          "iopub.execute_input": "2022-09-06T05:25:50.263568Z",
          "iopub.status.idle": "2022-09-06T05:25:50.283389Z",
          "shell.execute_reply.started": "2022-09-06T05:25:50.263535Z",
          "shell.execute_reply": "2022-09-06T05:25:50.282688Z"
        },
        "trusted": true,
        "colab": {
          "base_uri": "https://localhost:8080/"
        },
        "outputId": "074d5235-0cf9-4456-8d43-da678ccc16a9"
      },
      "execution_count": 47,
      "outputs": [
        {
          "output_type": "execute_result",
          "data": {
            "text/plain": [
              "not    271878\n",
              "yes    102428\n",
              "Name: fireplace, dtype: int64"
            ]
          },
          "metadata": {},
          "execution_count": 47
        }
      ]
    },
    {
      "cell_type": "markdown",
      "source": [
        "### city"
      ],
      "metadata": {
        "id": "Sh0daj9ICPlx"
      }
    },
    {
      "cell_type": "code",
      "source": [
        "data['city'].value_counts() #обзор значений в столбце"
      ],
      "metadata": {
        "id": "0Ku0RbqB78IU",
        "execution": {
          "iopub.status.busy": "2022-09-06T05:25:50.284868Z",
          "iopub.execute_input": "2022-09-06T05:25:50.285540Z",
          "iopub.status.idle": "2022-09-06T05:25:50.320807Z",
          "shell.execute_reply.started": "2022-09-06T05:25:50.285512Z",
          "shell.execute_reply": "2022-09-06T05:25:50.319799Z"
        },
        "trusted": true,
        "colab": {
          "base_uri": "https://localhost:8080/"
        },
        "outputId": "2e0c5388-0a92-4c75-eb77-5a18a003ac31"
      },
      "execution_count": 48,
      "outputs": [
        {
          "output_type": "execute_result",
          "data": {
            "text/plain": [
              "Houston            24388\n",
              "San Antonio        15496\n",
              "Miami              15385\n",
              "Jacksonville        9890\n",
              "Dallas              8750\n",
              "                   ...  \n",
              "Los Altos Hills        1\n",
              "Lake worth             1\n",
              "Lisle                  1\n",
              "Arrington              1\n",
              "Blue Springs           1\n",
              "Name: city, Length: 2019, dtype: int64"
            ]
          },
          "metadata": {},
          "execution_count": 48
        }
      ]
    },
    {
      "cell_type": "code",
      "source": [
        "data['city']=data['city'].fillna(value='Houston')#заполнение отсутствующих значений наиболее часто встречаемым значением"
      ],
      "metadata": {
        "id": "DeDGa1c4j_sR",
        "execution": {
          "iopub.status.busy": "2022-09-06T05:25:50.343858Z",
          "iopub.execute_input": "2022-09-06T05:25:50.344312Z",
          "iopub.status.idle": "2022-09-06T05:25:50.372404Z",
          "shell.execute_reply.started": "2022-09-06T05:25:50.344278Z",
          "shell.execute_reply": "2022-09-06T05:25:50.371389Z"
        },
        "trusted": true
      },
      "execution_count": 49,
      "outputs": []
    },
    {
      "cell_type": "markdown",
      "source": [
        "### schools"
      ],
      "metadata": {
        "id": "eUr_ZNrjCR0P"
      }
    },
    {
      "cell_type": "code",
      "source": [
        "data.schools.value_counts() #обзор значений в столбце"
      ],
      "metadata": {
        "id": "jpClOAuN78Xx",
        "outputId": "4964ec84-fc55-4cf9-fe74-f582d6c4fce1",
        "execution": {
          "iopub.status.busy": "2022-09-06T05:25:50.373604Z",
          "iopub.execute_input": "2022-09-06T05:25:50.374086Z",
          "iopub.status.idle": "2022-09-06T05:25:50.776238Z",
          "shell.execute_reply.started": "2022-09-06T05:25:50.374059Z",
          "shell.execute_reply": "2022-09-06T05:25:50.775140Z"
        },
        "trusted": true,
        "colab": {
          "base_uri": "https://localhost:8080/"
        }
      },
      "execution_count": 50,
      "outputs": [
        {
          "output_type": "execute_result",
          "data": {
            "text/plain": [
              "[{'rating': [], 'data': {'Distance': [], 'Grades': []}, 'name': []}]                                                                                                                                                                                                                                                                                       4169\n",
              "[{'rating': ['4/10', '5/10', '6/10'], 'data': {'Distance': ['39.69mi', '39.69mi', '39.69mi'], 'Grades': ['9-12', '6-8', 'PK-5']}, 'name': ['Fort Hancock High School', 'Fort Hancock Middle School', 'Benito Martinez Elementary School']}]                                                                                                                 222\n",
              "[{'rating': ['4/10', '6/10', '3/10'], 'data': {'Distance': ['3.62mi', '3.62mi', '3.62mi'], 'Grades': ['6-8', 'PK-5', '9-12']}, 'name': ['Horizon Middle School', 'Desert Hills Elementary School', 'Horizon High School']}]                                                                                                                                 168\n",
              "[{'rating': ['5/10', '3/10', '5/10'], 'data': {'Distance': ['9.71mi', '8.92mi', '1.56mi'], 'Grades': ['5-8', '9-12', 'K-4']}, 'name': ['Cheatham Middle School', 'Cheatham Co Central', 'West Cheatham Elementary School']}]                                                                                                                                133\n",
              "[{'rating': ['10/10', '2/10'], 'data': {'Distance': ['22.4 mi', '1.5 mi'], 'Grades': ['PK-8', '9-12']}, 'name': ['Air Base Elementary School', 'Booker T. Washington Senior High School']}]                                                                                                                                                                  90\n",
              "                                                                                                                                                                                                                                                                                                                                                           ... \n",
              "[{'rating': ['5', '3', '5', '5', '4'], 'data': {'Distance': ['4.6 mi', '0.7 mi', '1.0 mi', '1.4 mi', '1.2 mi'], 'Grades': ['Preschool to 8', 'Preschool to 8', 'Preschool to 8', 'Preschool to 8', '9 to 12']}, 'name': ['Luke School', 'El Mirage School', 'Surprise Elementary School', 'Dysart Elementary School', 'Dysart High School']}]                 1\n",
              "[{'rating': ['10', '7', '5'], 'data': {'Distance': ['0.7 mi', '1.0 mi', '2.2 mi'], 'Grades': ['Preschool to 5', '6 to 8', '9 to 12']}, 'name': ['West University Elementary School', 'Pershing Middle School', 'Lamar High School']}]                                                                                                                         1\n",
              "[{'rating': ['None/10', '2/10', '3/10'], 'data': {'Distance': ['1.01mi', '0.92mi', '0.39mi'], 'Grades': ['6-8', '9-12', 'PK-5']}, 'name': ['K O Knudson Junior High School', 'Valley High School', 'Will Beckley Elementary School']}]                                                                                                                        1\n",
              "[{'rating': ['9', '7', '3', '7', '7'], 'data': {'Distance': ['2.0 mi', '6.5 mi', '2.6 mi', '2.6 mi', '6.5 mi'], 'Grades': ['Preschool to 8', 'K to 8', '6 to 8', '9 to 12', '9 to 12']}, 'name': ['Windy Ridge K-8', 'Cornerstone Academy Charter', 'Chain of Lakes Middle School', 'Olympia High School', 'Cornerstone Charter Academy High School']}]       1\n",
              "[{'rating': ['NA', 'NA', 'NA'], 'data': {'Distance': ['1.3 mi', '0.5 mi', '1.9 mi'], 'Grades': ['PK-5', '6-8', '9-12']}, 'name': ['Hiliard El', 'Forest Brook Middle', 'North Forest High School']}]                                                                                                                                                          1\n",
              "Name: schools, Length: 295066, dtype: int64"
            ]
          },
          "metadata": {},
          "execution_count": 50
        }
      ]
    },
    {
      "cell_type": "markdown",
      "source": [
        "### sqft"
      ],
      "metadata": {
        "id": "RH3he3K8CU0b"
      }
    },
    {
      "cell_type": "code",
      "source": [
        "data['sqft'].value_counts() #обзор значений в столбце"
      ],
      "metadata": {
        "id": "2Ih0TsWu78ig",
        "execution": {
          "iopub.status.busy": "2022-09-06T05:25:50.777890Z",
          "iopub.execute_input": "2022-09-06T05:25:50.778284Z",
          "iopub.status.idle": "2022-09-06T05:25:50.840899Z",
          "shell.execute_reply.started": "2022-09-06T05:25:50.778254Z",
          "shell.execute_reply": "2022-09-06T05:25:50.839808Z"
        },
        "trusted": true,
        "colab": {
          "base_uri": "https://localhost:8080/"
        },
        "outputId": "4a108d4c-5c67-42ac-c524-9092c674d2a7"
      },
      "execution_count": 51,
      "outputs": [
        {
          "output_type": "execute_result",
          "data": {
            "text/plain": [
              "0                                          11853\n",
              "1,200 sqft                                   824\n",
              "1,000 sqft                                   643\n",
              "1,100 sqft                                   566\n",
              "1,800 sqft                                   558\n",
              "                                           ...  \n",
              "101,415 sqft                                   1\n",
              "3938                                           1\n",
              "Total interior livable area: 4,580 sqft        1\n",
              "32,552 sqft                                    1\n",
              "Total interior livable area: 4,615 sqft        1\n",
              "Name: sqft, Length: 25369, dtype: int64"
            ]
          },
          "metadata": {},
          "execution_count": 51
        }
      ]
    },
    {
      "cell_type": "code",
      "source": [
        "data['sqft'].unique() #обзор уникальных значений"
      ],
      "metadata": {
        "id": "k2VCpl6kkP9p",
        "execution": {
          "iopub.status.busy": "2022-09-06T05:25:50.843042Z",
          "iopub.execute_input": "2022-09-06T05:25:50.843367Z",
          "iopub.status.idle": "2022-09-06T05:25:50.892606Z",
          "shell.execute_reply.started": "2022-09-06T05:25:50.843337Z",
          "shell.execute_reply": "2022-09-06T05:25:50.891691Z"
        },
        "trusted": true,
        "colab": {
          "base_uri": "https://localhost:8080/"
        },
        "outputId": "28e0615c-f966-44a4-ae5d-45a28f689d1f"
      },
      "execution_count": 52,
      "outputs": [
        {
          "output_type": "execute_result",
          "data": {
            "text/plain": [
              "array(['2900', '1,947 sqft', '3,000 sqft', ..., '4371', '13,870 sqft',\n",
              "       'Total interior livable area: 4,615 sqft'], dtype=object)"
            ]
          },
          "metadata": {},
          "execution_count": 52
        }
      ]
    },
    {
      "cell_type": "code",
      "source": [
        "data['sqft'] = pd.to_numeric(data['sqft'], errors='coerce') #приведение к числовому типу"
      ],
      "metadata": {
        "id": "Pq7UvjqOk4Ti",
        "execution": {
          "iopub.status.busy": "2022-09-06T05:25:50.893939Z",
          "iopub.execute_input": "2022-09-06T05:25:50.894219Z",
          "iopub.status.idle": "2022-09-06T05:25:51.205618Z",
          "shell.execute_reply.started": "2022-09-06T05:25:50.894194Z",
          "shell.execute_reply": "2022-09-06T05:25:51.204770Z"
        },
        "trusted": true
      },
      "execution_count": 53,
      "outputs": []
    },
    {
      "cell_type": "code",
      "source": [
        "data['sqft'].value_counts() #обзор значений в столбце"
      ],
      "metadata": {
        "id": "xpW7EouAlAuh",
        "execution": {
          "iopub.status.busy": "2022-09-06T05:25:51.206923Z",
          "iopub.execute_input": "2022-09-06T05:25:51.207211Z",
          "iopub.status.idle": "2022-09-06T05:25:51.219269Z",
          "shell.execute_reply.started": "2022-09-06T05:25:51.207186Z",
          "shell.execute_reply": "2022-09-06T05:25:51.218275Z"
        },
        "trusted": true,
        "colab": {
          "base_uri": "https://localhost:8080/"
        },
        "outputId": "8ab59c42-4279-4590-e8bc-54f429b9d209"
      },
      "execution_count": 54,
      "outputs": [
        {
          "output_type": "execute_result",
          "data": {
            "text/plain": [
              "0.0       11853\n",
              "960.0       284\n",
              "800.0       257\n",
              "900.0       234\n",
              "850.0       177\n",
              "          ...  \n",
              "5031.0        1\n",
              "4325.0        1\n",
              "4974.0        1\n",
              "469.0         1\n",
              "4371.0        1\n",
              "Name: sqft, Length: 5427, dtype: int64"
            ]
          },
          "metadata": {},
          "execution_count": 54
        }
      ]
    },
    {
      "cell_type": "code",
      "source": [
        "data['sqft']=data['sqft'].fillna(round(data['sqft'].mean(), 1)) #заполнение отсутствующих значений "
      ],
      "metadata": {
        "id": "8vzpWEHSlQr7",
        "execution": {
          "iopub.status.busy": "2022-09-06T05:25:51.230040Z",
          "iopub.execute_input": "2022-09-06T05:25:51.230305Z",
          "iopub.status.idle": "2022-09-06T05:25:51.243374Z",
          "shell.execute_reply.started": "2022-09-06T05:25:51.230280Z",
          "shell.execute_reply": "2022-09-06T05:25:51.242690Z"
        },
        "trusted": true
      },
      "execution_count": 55,
      "outputs": []
    },
    {
      "cell_type": "code",
      "source": [
        "data['sqft'].value_counts() #обзор значений в столбце"
      ],
      "metadata": {
        "id": "_LWo4L3Vlhfm",
        "execution": {
          "iopub.status.busy": "2022-09-06T05:25:51.244710Z",
          "iopub.execute_input": "2022-09-06T05:25:51.244995Z",
          "iopub.status.idle": "2022-09-06T05:25:51.259596Z",
          "shell.execute_reply.started": "2022-09-06T05:25:51.244968Z",
          "shell.execute_reply": "2022-09-06T05:25:51.259009Z"
        },
        "trusted": true,
        "colab": {
          "base_uri": "https://localhost:8080/"
        },
        "outputId": "ee1f29b6-2290-428a-e378-a7ae581533d4"
      },
      "execution_count": 56,
      "outputs": [
        {
          "output_type": "execute_result",
          "data": {
            "text/plain": [
              "8927.6    312718\n",
              "0.0        11853\n",
              "960.0        284\n",
              "800.0        257\n",
              "900.0        234\n",
              "           ...  \n",
              "5031.0         1\n",
              "4325.0         1\n",
              "4974.0         1\n",
              "469.0          1\n",
              "4371.0         1\n",
              "Name: sqft, Length: 5428, dtype: int64"
            ]
          },
          "metadata": {},
          "execution_count": 56
        }
      ]
    },
    {
      "cell_type": "markdown",
      "source": [
        "### zipcode"
      ],
      "metadata": {
        "id": "8Uu9UnjWCXWo"
      }
    },
    {
      "cell_type": "code",
      "source": [
        "data.zipcode.value_counts() #обзор значений в столбце"
      ],
      "metadata": {
        "id": "JAD-KWYK78s_",
        "execution": {
          "iopub.status.busy": "2022-09-06T05:25:51.261221Z",
          "iopub.execute_input": "2022-09-06T05:25:51.261581Z",
          "iopub.status.idle": "2022-09-06T05:25:51.303263Z",
          "shell.execute_reply.started": "2022-09-06T05:25:51.261550Z",
          "shell.execute_reply": "2022-09-06T05:25:51.302484Z"
        },
        "trusted": true,
        "colab": {
          "base_uri": "https://localhost:8080/"
        },
        "outputId": "f59000d5-aaa9-47a2-ef87-f91157af8652"
      },
      "execution_count": 57,
      "outputs": [
        {
          "output_type": "execute_result",
          "data": {
            "text/plain": [
              "32137         2139\n",
              "33131         1551\n",
              "34747         1486\n",
              "78245         1383\n",
              "34759         1333\n",
              "              ... \n",
              "92683            1\n",
              "27610-2861       1\n",
              "27613-4042       1\n",
              "27612-5442       1\n",
              "44704            1\n",
              "Name: zipcode, Length: 4541, dtype: int64"
            ]
          },
          "metadata": {},
          "execution_count": 57
        }
      ]
    },
    {
      "cell_type": "code",
      "source": [
        "data['zipcode'] = pd.to_numeric(data['zipcode'], errors='coerce') #приведение к числовому типу"
      ],
      "metadata": {
        "execution": {
          "iopub.status.busy": "2022-09-06T05:25:51.306314Z",
          "iopub.execute_input": "2022-09-06T05:25:51.307137Z",
          "iopub.status.idle": "2022-09-06T05:25:51.553649Z",
          "shell.execute_reply.started": "2022-09-06T05:25:51.307100Z",
          "shell.execute_reply": "2022-09-06T05:25:51.552712Z"
        },
        "trusted": true,
        "id": "GP6joStU2Ynl"
      },
      "execution_count": 58,
      "outputs": []
    },
    {
      "cell_type": "code",
      "source": [
        "data['zipcode']=data['zipcode'].fillna(0) #заполнение отсутствующих значений"
      ],
      "metadata": {
        "execution": {
          "iopub.status.busy": "2022-09-06T05:25:51.554874Z",
          "iopub.execute_input": "2022-09-06T05:25:51.555141Z",
          "iopub.status.idle": "2022-09-06T05:25:51.561527Z",
          "shell.execute_reply.started": "2022-09-06T05:25:51.555116Z",
          "shell.execute_reply": "2022-09-06T05:25:51.560590Z"
        },
        "trusted": true,
        "id": "AqOhZ9rh2Ynl"
      },
      "execution_count": 59,
      "outputs": []
    },
    {
      "cell_type": "markdown",
      "source": [
        "### beds"
      ],
      "metadata": {
        "id": "wzBnS6HnCZ8D"
      }
    },
    {
      "cell_type": "code",
      "source": [
        "data['beds'].value_counts() #обзор значений в столбце"
      ],
      "metadata": {
        "id": "FF9SrBdO783R",
        "execution": {
          "iopub.status.busy": "2022-09-06T05:26:40.413061Z",
          "iopub.execute_input": "2022-09-06T05:26:40.413367Z",
          "iopub.status.idle": "2022-09-06T05:26:40.441239Z",
          "shell.execute_reply.started": "2022-09-06T05:26:40.413338Z",
          "shell.execute_reply": "2022-09-06T05:26:40.440265Z"
        },
        "trusted": true,
        "colab": {
          "base_uri": "https://localhost:8080/"
        },
        "outputId": "81feca51-276f-48ad-b072-f2c0d3c939e8"
      },
      "execution_count": 60,
      "outputs": [
        {
          "output_type": "execute_result",
          "data": {
            "text/plain": [
              "3 Beds        52947\n",
              "4 Beds        35149\n",
              "3             31191\n",
              "2 Beds        26084\n",
              "4             19915\n",
              "              ...  \n",
              "8.93 acres        1\n",
              "5,510 sqft        1\n",
              "3.8 acres         1\n",
              "7,104 sqft        1\n",
              "8,479 sqft        1\n",
              "Name: beds, Length: 1146, dtype: int64"
            ]
          },
          "metadata": {},
          "execution_count": 60
        }
      ]
    },
    {
      "cell_type": "code",
      "source": [
        "data['beds'].unique() #обзор уникальных значений"
      ],
      "metadata": {
        "id": "sH0wbggaeJFU",
        "execution": {
          "iopub.status.busy": "2022-09-06T05:26:40.442652Z",
          "iopub.execute_input": "2022-09-06T05:26:40.443028Z",
          "iopub.status.idle": "2022-09-06T05:26:40.468695Z",
          "shell.execute_reply.started": "2022-09-06T05:26:40.442935Z",
          "shell.execute_reply": "2022-09-06T05:26:40.467778Z"
        },
        "trusted": true,
        "colab": {
          "base_uri": "https://localhost:8080/"
        },
        "outputId": "87bf4e57-71b5-4ecd-d6bf-d69c64876849"
      },
      "execution_count": 61,
      "outputs": [
        {
          "output_type": "execute_result",
          "data": {
            "text/plain": [
              "array(['4', '3 Beds', '5 Beds', ..., '2.72 acres', '9,565 sqft',\n",
              "       '8,479 sqft'], dtype=object)"
            ]
          },
          "metadata": {},
          "execution_count": 61
        }
      ]
    },
    {
      "cell_type": "code",
      "source": [
        "def transform_beds(\n",
        "    value: str\n",
        "):  \n",
        "    if isinstance(value, str):\n",
        "        if  'acres' in value:\n",
        "            return 0\n",
        "        if  'sqft' in value:\n",
        "            return 0\n",
        "    return value\n",
        "data['beds']=data['beds'].apply(transform_beds) #преобразование значений в столбце"
      ],
      "metadata": {
        "id": "v13T_h5eojTm",
        "execution": {
          "iopub.status.busy": "2022-09-06T05:26:40.470174Z",
          "iopub.execute_input": "2022-09-06T05:26:40.470707Z",
          "iopub.status.idle": "2022-09-06T05:26:40.587358Z",
          "shell.execute_reply.started": "2022-09-06T05:26:40.470678Z",
          "shell.execute_reply": "2022-09-06T05:26:40.586238Z"
        },
        "trusted": true
      },
      "execution_count": 62,
      "outputs": []
    },
    {
      "cell_type": "code",
      "source": [
        "data['beds'] = pd.to_numeric(data['beds'], errors='coerce') #приведение к числовому типу"
      ],
      "metadata": {
        "id": "mjM3bX0NxyqX",
        "execution": {
          "iopub.status.busy": "2022-09-06T05:26:40.588646Z",
          "iopub.execute_input": "2022-09-06T05:26:40.588975Z",
          "iopub.status.idle": "2022-09-06T05:26:40.840355Z",
          "shell.execute_reply.started": "2022-09-06T05:26:40.588939Z",
          "shell.execute_reply": "2022-09-06T05:26:40.839461Z"
        },
        "trusted": true
      },
      "execution_count": 63,
      "outputs": []
    },
    {
      "cell_type": "code",
      "source": [
        "data['beds']=data['beds'].fillna(round(data['beds'].mean(), 0)) #заполнение отсутствующих значений"
      ],
      "metadata": {
        "id": "hJvcURCUyFg4",
        "execution": {
          "iopub.status.busy": "2022-09-06T05:26:40.849724Z",
          "iopub.execute_input": "2022-09-06T05:26:40.850051Z",
          "iopub.status.idle": "2022-09-06T05:26:40.863203Z",
          "shell.execute_reply.started": "2022-09-06T05:26:40.850027Z",
          "shell.execute_reply": "2022-09-06T05:26:40.862220Z"
        },
        "trusted": true
      },
      "execution_count": 64,
      "outputs": []
    },
    {
      "cell_type": "code",
      "source": [
        "data['beds'].value_counts() #обзор значений в столбце"
      ],
      "metadata": {
        "id": "f52LYhd4oxnz",
        "execution": {
          "iopub.status.busy": "2022-09-06T05:26:40.864598Z",
          "iopub.execute_input": "2022-09-06T05:26:40.865991Z",
          "iopub.status.idle": "2022-09-06T05:26:40.880462Z",
          "shell.execute_reply.started": "2022-09-06T05:26:40.865942Z",
          "shell.execute_reply": "2022-09-06T05:26:40.879781Z"
        },
        "trusted": true,
        "colab": {
          "base_uri": "https://localhost:8080/"
        },
        "outputId": "d6936201-94ab-4642-9f33-963ab905d84a"
      },
      "execution_count": 65,
      "outputs": [
        {
          "output_type": "execute_result",
          "data": {
            "text/plain": [
              "3.0      310186\n",
              "4.0       25146\n",
              "2.0       18427\n",
              "5.0        7764\n",
              "1.0        5012\n",
              "0.0        4359\n",
              "6.0        2103\n",
              "7.0         577\n",
              "8.0         357\n",
              "9.0         102\n",
              "10.0         77\n",
              "11.0         40\n",
              "12.0         36\n",
              "16.0         21\n",
              "14.0         15\n",
              "13.0         14\n",
              "15.0         11\n",
              "24.0          9\n",
              "20.0          7\n",
              "18.0          7\n",
              "17.0          4\n",
              "28.0          3\n",
              "30.0          3\n",
              "22.0          3\n",
              "26.0          2\n",
              "29.0          2\n",
              "34.0          2\n",
              "27.0          2\n",
              "32.0          2\n",
              "40.0          2\n",
              "99.0          1\n",
              "33.0          1\n",
              "21.0          1\n",
              "75.0          1\n",
              "19.0          1\n",
              "144.0         1\n",
              "48.0          1\n",
              "23.0          1\n",
              "44.0          1\n",
              "78.0          1\n",
              "35.0          1\n",
              "Name: beds, dtype: int64"
            ]
          },
          "metadata": {},
          "execution_count": 65
        }
      ]
    },
    {
      "cell_type": "markdown",
      "source": [
        "### state"
      ],
      "metadata": {
        "id": "8xW2mb3GCce7"
      }
    },
    {
      "cell_type": "code",
      "source": [
        "data.state.value_counts() #обзор значений в столбце"
      ],
      "metadata": {
        "id": "ZX3d_UBz79Ad",
        "execution": {
          "iopub.status.busy": "2022-09-06T05:26:40.904706Z",
          "iopub.execute_input": "2022-09-06T05:26:40.905066Z",
          "iopub.status.idle": "2022-09-06T05:26:40.933879Z",
          "shell.execute_reply.started": "2022-09-06T05:26:40.905027Z",
          "shell.execute_reply": "2022-09-06T05:26:40.932917Z"
        },
        "trusted": true,
        "colab": {
          "base_uri": "https://localhost:8080/"
        },
        "outputId": "63823097-e396-432a-d588-80f9087a3880"
      },
      "execution_count": 66,
      "outputs": [
        {
          "output_type": "execute_result",
          "data": {
            "text/plain": [
              "FL    114570\n",
              "TX     83269\n",
              "NY     24329\n",
              "CA     23170\n",
              "NC     21768\n",
              "TN     18218\n",
              "WA     13730\n",
              "OH     12423\n",
              "IL      8823\n",
              "NV      8402\n",
              "GA      6632\n",
              "CO      6371\n",
              "PA      5493\n",
              "MI      5119\n",
              "DC      4581\n",
              "AZ      3347\n",
              "IN      3280\n",
              "OR      2774\n",
              "MA      1494\n",
              "UT      1319\n",
              "MD      1086\n",
              "VT       864\n",
              "MO       832\n",
              "VA       800\n",
              "WI       452\n",
              "NJ       436\n",
              "ME       258\n",
              "IA       242\n",
              "KY        90\n",
              "OK        49\n",
              "MS        40\n",
              "SC        28\n",
              "MT         7\n",
              "DE         5\n",
              "Fl         1\n",
              "BA         1\n",
              "AL         1\n",
              "OT         1\n",
              "OS         1\n",
              "Name: state, dtype: int64"
            ]
          },
          "metadata": {},
          "execution_count": 66
        }
      ]
    },
    {
      "cell_type": "markdown",
      "source": [
        "### stories"
      ],
      "metadata": {
        "id": "oFNMgLhjChSV"
      }
    },
    {
      "cell_type": "code",
      "source": [
        "data['stories'].value_counts() #обзор значений в столбце"
      ],
      "metadata": {
        "id": "TeKHXqWu79Jt",
        "execution": {
          "iopub.status.busy": "2022-09-06T05:26:41.357794Z",
          "iopub.execute_input": "2022-09-06T05:26:41.358205Z",
          "iopub.status.idle": "2022-09-06T05:26:41.387559Z",
          "shell.execute_reply.started": "2022-09-06T05:26:41.358163Z",
          "shell.execute_reply": "2022-09-06T05:26:41.386574Z"
        },
        "trusted": true,
        "colab": {
          "base_uri": "https://localhost:8080/"
        },
        "outputId": "9f2d734f-9026-43b5-82e1-de5abe4b6066"
      },
      "execution_count": 67,
      "outputs": [
        {
          "output_type": "execute_result",
          "data": {
            "text/plain": [
              "1.0                                  66808\n",
              "2.0                                  55003\n",
              "1                                    22795\n",
              "2                                    17976\n",
              "3.0                                  11233\n",
              "                                     ...  \n",
              "Manufactured Home, Non-Site Built        1\n",
              "Bedroom - Split Plan                     1\n",
              "78                                       1\n",
              "None                                     1\n",
              "65.0                                     1\n",
              "Name: stories, Length: 348, dtype: int64"
            ]
          },
          "metadata": {},
          "execution_count": 67
        }
      ]
    },
    {
      "cell_type": "code",
      "source": [
        "data['stories'] = pd.to_numeric(data['stories'], errors='coerce') #приведение к числовому типу"
      ],
      "metadata": {
        "id": "d3PaM0Luz-6M",
        "execution": {
          "iopub.status.busy": "2022-09-06T05:26:41.388941Z",
          "iopub.execute_input": "2022-09-06T05:26:41.389385Z",
          "iopub.status.idle": "2022-09-06T05:26:41.547341Z",
          "shell.execute_reply.started": "2022-09-06T05:26:41.389344Z",
          "shell.execute_reply": "2022-09-06T05:26:41.546415Z"
        },
        "trusted": true
      },
      "execution_count": 68,
      "outputs": []
    },
    {
      "cell_type": "code",
      "source": [
        "data['stories'].value_counts() #обзор значений в столбце"
      ],
      "metadata": {
        "id": "7j98eGgR2HG6",
        "execution": {
          "iopub.status.busy": "2022-09-06T05:26:41.548649Z",
          "iopub.execute_input": "2022-09-06T05:26:41.548925Z",
          "iopub.status.idle": "2022-09-06T05:26:41.563284Z",
          "shell.execute_reply.started": "2022-09-06T05:26:41.548901Z",
          "shell.execute_reply": "2022-09-06T05:26:41.562210Z"
        },
        "trusted": true,
        "colab": {
          "base_uri": "https://localhost:8080/"
        },
        "outputId": "ffbf6da1-4054-4c73-97be-f111d10d1ce3"
      },
      "execution_count": 69,
      "outputs": [
        {
          "output_type": "execute_result",
          "data": {
            "text/plain": [
              "1.0       90942\n",
              "2.0       75986\n",
              "3.0       15971\n",
              "0.0       11440\n",
              "9.0        3381\n",
              "          ...  \n",
              "1120.0        1\n",
              "2.2           1\n",
              "1002.0        1\n",
              "96.0          1\n",
              "65.0          1\n",
              "Name: stories, Length: 85, dtype: int64"
            ]
          },
          "metadata": {},
          "execution_count": 69
        }
      ]
    },
    {
      "cell_type": "code",
      "source": [
        "data['stories']=data['stories'].fillna(round(data['stories'].mean(), 0)) #заполнение отсутствующих значений"
      ],
      "metadata": {
        "id": "1h2t8SyO2Uz9",
        "execution": {
          "iopub.status.busy": "2022-09-06T05:26:41.587693Z",
          "iopub.execute_input": "2022-09-06T05:26:41.588174Z",
          "iopub.status.idle": "2022-09-06T05:26:41.599402Z",
          "shell.execute_reply.started": "2022-09-06T05:26:41.588147Z",
          "shell.execute_reply": "2022-09-06T05:26:41.598628Z"
        },
        "trusted": true
      },
      "execution_count": 70,
      "outputs": []
    },
    {
      "cell_type": "markdown",
      "source": [
        "### mls-id"
      ],
      "metadata": {
        "id": "JtB-DNltC1nU"
      }
    },
    {
      "cell_type": "code",
      "source": [
        "data['mls-id'].value_counts() #обзор значений в столбце"
      ],
      "metadata": {
        "id": "bo01v63a79TF",
        "execution": {
          "iopub.status.busy": "2022-09-06T05:26:41.622060Z",
          "iopub.execute_input": "2022-09-06T05:26:41.622532Z",
          "iopub.status.idle": "2022-09-06T05:26:41.645101Z",
          "shell.execute_reply.started": "2022-09-06T05:26:41.622505Z",
          "shell.execute_reply": "2022-09-06T05:26:41.644241Z"
        },
        "trusted": true,
        "colab": {
          "base_uri": "https://localhost:8080/"
        },
        "outputId": "54d547d0-2fad-47dc-d53b-d8258423b7ad"
      },
      "execution_count": 71,
      "outputs": [
        {
          "output_type": "execute_result",
          "data": {
            "text/plain": [
              "No           3\n",
              "No MLS#      3\n",
              "983469       2\n",
              "241766       2\n",
              "A10761504    2\n",
              "            ..\n",
              "1020314      1\n",
              "A10762436    1\n",
              "1592770      1\n",
              "14201834     1\n",
              "F10202858    1\n",
              "Name: mls-id, Length: 24902, dtype: int64"
            ]
          },
          "metadata": {},
          "execution_count": 71
        }
      ]
    },
    {
      "cell_type": "code",
      "source": [
        "data.drop(['mls-id',], axis=1, inplace=True) #удаление столбца, так как значения пересекаются со значениями столбца MlsId"
      ],
      "metadata": {
        "id": "8nwAj_4UM-7F",
        "execution": {
          "iopub.status.busy": "2022-09-06T05:26:41.646431Z",
          "iopub.execute_input": "2022-09-06T05:26:41.647412Z",
          "iopub.status.idle": "2022-09-06T05:26:41.737691Z",
          "shell.execute_reply.started": "2022-09-06T05:26:41.647370Z",
          "shell.execute_reply": "2022-09-06T05:26:41.736497Z"
        },
        "trusted": true
      },
      "execution_count": 72,
      "outputs": []
    },
    {
      "cell_type": "markdown",
      "source": [
        "### PrivatePool"
      ],
      "metadata": {
        "id": "w6nDaBMwC4Ue"
      }
    },
    {
      "cell_type": "code",
      "source": [
        "data.PrivatePool.value_counts() #обзор значений в столбце"
      ],
      "metadata": {
        "id": "7gjcqCkg79c7",
        "execution": {
          "iopub.status.busy": "2022-09-06T05:26:41.739145Z",
          "iopub.execute_input": "2022-09-06T05:26:41.739825Z",
          "iopub.status.idle": "2022-09-06T05:26:41.758072Z",
          "shell.execute_reply.started": "2022-09-06T05:26:41.739783Z",
          "shell.execute_reply": "2022-09-06T05:26:41.757097Z"
        },
        "trusted": true,
        "colab": {
          "base_uri": "https://localhost:8080/"
        },
        "outputId": "f5b0c565-0f6b-4e43-adab-c23ae6e9a7fa"
      },
      "execution_count": 73,
      "outputs": [
        {
          "output_type": "execute_result",
          "data": {
            "text/plain": [
              "yes    28592\n",
              "Yes    11434\n",
              "Name: PrivatePool, dtype: int64"
            ]
          },
          "metadata": {},
          "execution_count": 73
        }
      ]
    },
    {
      "cell_type": "code",
      "source": [
        "data['PrivatePool']=data['PrivatePool'].fillna(value='not') #заполнение отсутствующих зачений"
      ],
      "metadata": {
        "id": "P5ivkJ1hSAyl",
        "execution": {
          "iopub.status.busy": "2022-09-06T05:26:41.759286Z",
          "iopub.execute_input": "2022-09-06T05:26:41.759592Z",
          "iopub.status.idle": "2022-09-06T05:26:41.790811Z",
          "shell.execute_reply.started": "2022-09-06T05:26:41.759565Z",
          "shell.execute_reply": "2022-09-06T05:26:41.790101Z"
        },
        "trusted": true
      },
      "execution_count": 74,
      "outputs": []
    },
    {
      "cell_type": "code",
      "source": [
        "#data['PrivatePool'] = data['PrivatePool'].astype(str)\n",
        "data['PrivatePool'] = data['PrivatePool'].apply(lambda x: x.lower()) #преобразование данных"
      ],
      "metadata": {
        "id": "Iz5zCQ7CTZAO",
        "execution": {
          "iopub.status.busy": "2022-09-06T05:26:41.792161Z",
          "iopub.execute_input": "2022-09-06T05:26:41.792800Z",
          "iopub.status.idle": "2022-09-06T05:26:41.889282Z",
          "shell.execute_reply.started": "2022-09-06T05:26:41.792748Z",
          "shell.execute_reply": "2022-09-06T05:26:41.888116Z"
        },
        "trusted": true
      },
      "execution_count": 75,
      "outputs": []
    },
    {
      "cell_type": "code",
      "source": [
        "data['PrivatePool'].value_counts() #обзор значений в столбце"
      ],
      "metadata": {
        "id": "YZnxnDC_TmBv",
        "execution": {
          "iopub.status.busy": "2022-09-06T05:26:41.890719Z",
          "iopub.execute_input": "2022-09-06T05:26:41.891073Z",
          "iopub.status.idle": "2022-09-06T05:26:41.929199Z",
          "shell.execute_reply.started": "2022-09-06T05:26:41.891042Z",
          "shell.execute_reply": "2022-09-06T05:26:41.928257Z"
        },
        "trusted": true,
        "colab": {
          "base_uri": "https://localhost:8080/"
        },
        "outputId": "ff792963-428c-4eba-a738-0ab416913539"
      },
      "execution_count": 76,
      "outputs": [
        {
          "output_type": "execute_result",
          "data": {
            "text/plain": [
              "not    334280\n",
              "yes     40026\n",
              "Name: PrivatePool, dtype: int64"
            ]
          },
          "metadata": {},
          "execution_count": 76
        }
      ]
    },
    {
      "cell_type": "markdown",
      "source": [
        "### MlsId"
      ],
      "metadata": {
        "id": "xDxkYbdXC9H1"
      }
    },
    {
      "cell_type": "code",
      "source": [
        "data['MlsId'].value_counts() #обзор значений в столбце"
      ],
      "metadata": {
        "id": "3t3Axg8r79nl",
        "execution": {
          "iopub.status.busy": "2022-09-06T05:26:41.930531Z",
          "iopub.execute_input": "2022-09-06T05:26:41.930849Z",
          "iopub.status.idle": "2022-09-06T05:26:42.127869Z",
          "shell.execute_reply.started": "2022-09-06T05:26:41.930821Z",
          "shell.execute_reply": "2022-09-06T05:26:42.126814Z"
        },
        "trusted": true,
        "colab": {
          "base_uri": "https://localhost:8080/"
        },
        "outputId": "0fe32833-5f1f-44f3-aae3-dc9fd0ec4a6a"
      },
      "execution_count": 77,
      "outputs": [
        {
          "output_type": "execute_result",
          "data": {
            "text/plain": [
              "NO MLS                     24\n",
              "No MLS #                   16\n",
              " A, Houston, TX 77008      13\n",
              " 12A, Orlando, FL 32833    11\n",
              " B, Houston, TX 77008       9\n",
              "                           ..\n",
              "241208                      1\n",
              "687215                      1\n",
              "3866902                     1\n",
              "19491906                    1\n",
              "10374233                    1\n",
              "Name: MlsId, Length: 232622, dtype: int64"
            ]
          },
          "metadata": {},
          "execution_count": 77
        }
      ]
    },
    {
      "cell_type": "code",
      "source": [
        "data['MlsId'] = pd.to_numeric(data['MlsId'], errors='coerce') #преобразование к числовому типу "
      ],
      "metadata": {
        "id": "5ByGDTSKUWQE",
        "execution": {
          "iopub.status.busy": "2022-09-06T05:26:42.129319Z",
          "iopub.execute_input": "2022-09-06T05:26:42.129638Z",
          "iopub.status.idle": "2022-09-06T05:26:42.374929Z",
          "shell.execute_reply.started": "2022-09-06T05:26:42.129608Z",
          "shell.execute_reply": "2022-09-06T05:26:42.373787Z"
        },
        "trusted": true
      },
      "execution_count": 78,
      "outputs": []
    },
    {
      "cell_type": "code",
      "source": [
        "data['MlsId'].value_counts() #обзор значений в столбце"
      ],
      "metadata": {
        "id": "YDQ5epdIUtRC",
        "execution": {
          "iopub.status.busy": "2022-09-06T05:26:42.376347Z",
          "iopub.execute_input": "2022-09-06T05:26:42.376654Z",
          "iopub.status.idle": "2022-09-06T05:26:42.409863Z",
          "shell.execute_reply.started": "2022-09-06T05:26:42.376626Z",
          "shell.execute_reply": "2022-09-06T05:26:42.409167Z"
        },
        "trusted": true,
        "colab": {
          "base_uri": "https://localhost:8080/"
        },
        "outputId": "6f60d50e-b8e3-4450-90da-ca12dfd92583"
      },
      "execution_count": 79,
      "outputs": [
        {
          "output_type": "execute_result",
          "data": {
            "text/plain": [
              "2101941.0     6\n",
              "1412350.0     6\n",
              "2088662.0     6\n",
              "14187092.0    5\n",
              "14061735.0    5\n",
              "             ..\n",
              "10589197.0    1\n",
              "3481963.0     1\n",
              "1418405.0     1\n",
              "14135173.0    1\n",
              "10374233.0    1\n",
              "Name: MlsId, Length: 161084, dtype: int64"
            ]
          },
          "metadata": {},
          "execution_count": 79
        }
      ]
    },
    {
      "cell_type": "code",
      "source": [
        "data=data.drop(['MlsId',], axis=1) #удаление столбца, так как информацией из него можно пренебречь"
      ],
      "metadata": {
        "id": "FFR0YynQb0Vv",
        "execution": {
          "iopub.status.busy": "2022-09-06T05:26:42.411126Z",
          "iopub.execute_input": "2022-09-06T05:26:42.411723Z",
          "iopub.status.idle": "2022-09-06T05:26:42.496857Z",
          "shell.execute_reply.started": "2022-09-06T05:26:42.411689Z",
          "shell.execute_reply": "2022-09-06T05:26:42.495967Z"
        },
        "trusted": true
      },
      "execution_count": 80,
      "outputs": []
    },
    {
      "cell_type": "markdown",
      "source": [
        "# Data Preprocessing"
      ],
      "metadata": {
        "id": "zdaGuR5WddYe"
      }
    },
    {
      "cell_type": "code",
      "source": [
        "data=data.drop(['homeFacts', 'schools',], axis=1) #удаляем столбцы, так как не удалось сделать их корректную обработку и вытащить значения\n",
        "data=pd.DataFrame(data=data)"
      ],
      "metadata": {
        "id": "HLJElOhC7CmR",
        "execution": {
          "iopub.status.busy": "2022-09-06T05:26:42.928246Z",
          "iopub.execute_input": "2022-09-06T05:26:42.929356Z",
          "iopub.status.idle": "2022-09-06T05:26:42.999247Z",
          "shell.execute_reply.started": "2022-09-06T05:26:42.929323Z",
          "shell.execute_reply": "2022-09-06T05:26:42.998083Z"
        },
        "trusted": true
      },
      "execution_count": 81,
      "outputs": []
    },
    {
      "cell_type": "code",
      "source": [
        "data.isna().sum() #проверяем,что у нас нет NaN  в датасете"
      ],
      "metadata": {
        "id": "Yd5onoM_XhQx",
        "execution": {
          "iopub.status.busy": "2022-09-06T05:26:42.498390Z",
          "iopub.execute_input": "2022-09-06T05:26:42.499405Z",
          "iopub.status.idle": "2022-09-06T05:26:42.710379Z",
          "shell.execute_reply.started": "2022-09-06T05:26:42.499365Z",
          "shell.execute_reply": "2022-09-06T05:26:42.709181Z"
        },
        "trusted": true,
        "colab": {
          "base_uri": "https://localhost:8080/"
        },
        "outputId": "c229dab0-a607-4d06-963f-86c1bf33fbb6"
      },
      "execution_count": 82,
      "outputs": [
        {
          "output_type": "execute_result",
          "data": {
            "text/plain": [
              "status          0\n",
              "propertyType    0\n",
              "street          0\n",
              "baths           0\n",
              "fireplace       0\n",
              "city            0\n",
              "sqft            0\n",
              "zipcode         0\n",
              "beds            0\n",
              "state           0\n",
              "stories         0\n",
              "PrivatePool     0\n",
              "new_target      0\n",
              "dtype: int64"
            ]
          },
          "metadata": {},
          "execution_count": 82
        }
      ]
    },
    {
      "cell_type": "code",
      "source": [
        "data.info() #общий обзор получившегося датафрейма"
      ],
      "metadata": {
        "id": "W-m45IiG_r8z",
        "execution": {
          "iopub.status.busy": "2022-09-06T05:26:42.712218Z",
          "iopub.execute_input": "2022-09-06T05:26:42.712686Z",
          "iopub.status.idle": "2022-09-06T05:26:42.926931Z",
          "shell.execute_reply.started": "2022-09-06T05:26:42.712628Z",
          "shell.execute_reply": "2022-09-06T05:26:42.926112Z"
        },
        "trusted": true,
        "colab": {
          "base_uri": "https://localhost:8080/"
        },
        "outputId": "6720a040-d85a-487d-d3c0-929b4cbbe67b"
      },
      "execution_count": 83,
      "outputs": [
        {
          "output_type": "stream",
          "name": "stdout",
          "text": [
            "<class 'pandas.core.frame.DataFrame'>\n",
            "Int64Index: 374306 entries, 0 to 377184\n",
            "Data columns (total 13 columns):\n",
            " #   Column        Non-Null Count   Dtype  \n",
            "---  ------        --------------   -----  \n",
            " 0   status        374306 non-null  object \n",
            " 1   propertyType  374306 non-null  object \n",
            " 2   street        374306 non-null  object \n",
            " 3   baths         374306 non-null  float64\n",
            " 4   fireplace     374306 non-null  object \n",
            " 5   city          374306 non-null  object \n",
            " 6   sqft          374306 non-null  float64\n",
            " 7   zipcode       374306 non-null  float64\n",
            " 8   beds          374306 non-null  float64\n",
            " 9   state         374306 non-null  object \n",
            " 10  stories       374306 non-null  float64\n",
            " 11  PrivatePool   374306 non-null  object \n",
            " 12  new_target    374306 non-null  float64\n",
            "dtypes: float64(6), object(7)\n",
            "memory usage: 40.0+ MB\n"
          ]
        }
      ]
    },
    {
      "cell_type": "markdown",
      "source": [
        "## Standartisation"
      ],
      "metadata": {
        "id": "poogsViX634g"
      }
    },
    {
      "cell_type": "code",
      "source": [
        "\n",
        "scaled_features = data.copy()\n",
        "\n",
        "col_names = ['baths', 'sqft', 'zipcode', 'beds', 'stories']\n",
        "features = scaled_features[col_names]\n",
        "\n",
        "scaler = RobustScaler(quantile_range=(0.05, 0.75)).fit(features.values)\n",
        "features = scaler.transform(features.values)\n",
        "\n",
        "scaled_features[col_names] = features"
      ],
      "metadata": {
        "id": "BGkFpB6fRlD_"
      },
      "execution_count": 84,
      "outputs": []
    },
    {
      "cell_type": "code",
      "source": [
        "data=scaled_features"
      ],
      "metadata": {
        "id": "gLBGJxKUxr7M"
      },
      "execution_count": 85,
      "outputs": []
    },
    {
      "cell_type": "code",
      "source": [
        "data.head()"
      ],
      "metadata": {
        "colab": {
          "base_uri": "https://localhost:8080/",
          "height": 206
        },
        "id": "Fu7OkklqQUmC",
        "outputId": "7964592c-b199-4349-a123-550e6eed768d"
      },
      "execution_count": 86,
      "outputs": [
        {
          "output_type": "execute_result",
          "data": {
            "text/plain": [
              "     status   propertyType               street  baths fireplace  \\\n",
              "0    active         single       240 Heather Ln   -0.7       yes   \n",
              "1  for sale  single-family    12911 E Heroy Ave    0.0       not   \n",
              "2  for sale  single-family    2005 Westridge Rd    0.0       yes   \n",
              "3  for sale  single-family  4311 Livingston Ave    0.0       yes   \n",
              "4  for sale       lot/land       1524 Kiscoe St    0.0       not   \n",
              "\n",
              "             city    sqft    zipcode  beds state  stories PrivatePool  \\\n",
              "0  Southern Pines -6027.6  -1.592484   1.0    NC      0.0         not   \n",
              "1  Spokane Valley     0.0  11.198855   0.0    WA      0.0         not   \n",
              "2     Los Angeles     0.0   9.543344   0.0    CA     -1.0         yes   \n",
              "3          Dallas     0.0   6.862597   0.0    TX      1.0         not   \n",
              "4        Palm Bay     0.0  -0.776015   0.0    FL      0.0         not   \n",
              "\n",
              "   new_target  \n",
              "0    418000.0  \n",
              "1    310000.0  \n",
              "2   2895000.0  \n",
              "3   2395000.0  \n",
              "4      5000.0  "
            ],
            "text/html": [
              "\n",
              "  <div id=\"df-c4a2de3a-5742-4068-ad73-808b25bcf2de\">\n",
              "    <div class=\"colab-df-container\">\n",
              "      <div>\n",
              "<style scoped>\n",
              "    .dataframe tbody tr th:only-of-type {\n",
              "        vertical-align: middle;\n",
              "    }\n",
              "\n",
              "    .dataframe tbody tr th {\n",
              "        vertical-align: top;\n",
              "    }\n",
              "\n",
              "    .dataframe thead th {\n",
              "        text-align: right;\n",
              "    }\n",
              "</style>\n",
              "<table border=\"1\" class=\"dataframe\">\n",
              "  <thead>\n",
              "    <tr style=\"text-align: right;\">\n",
              "      <th></th>\n",
              "      <th>status</th>\n",
              "      <th>propertyType</th>\n",
              "      <th>street</th>\n",
              "      <th>baths</th>\n",
              "      <th>fireplace</th>\n",
              "      <th>city</th>\n",
              "      <th>sqft</th>\n",
              "      <th>zipcode</th>\n",
              "      <th>beds</th>\n",
              "      <th>state</th>\n",
              "      <th>stories</th>\n",
              "      <th>PrivatePool</th>\n",
              "      <th>new_target</th>\n",
              "    </tr>\n",
              "  </thead>\n",
              "  <tbody>\n",
              "    <tr>\n",
              "      <th>0</th>\n",
              "      <td>active</td>\n",
              "      <td>single</td>\n",
              "      <td>240 Heather Ln</td>\n",
              "      <td>-0.7</td>\n",
              "      <td>yes</td>\n",
              "      <td>Southern Pines</td>\n",
              "      <td>-6027.6</td>\n",
              "      <td>-1.592484</td>\n",
              "      <td>1.0</td>\n",
              "      <td>NC</td>\n",
              "      <td>0.0</td>\n",
              "      <td>not</td>\n",
              "      <td>418000.0</td>\n",
              "    </tr>\n",
              "    <tr>\n",
              "      <th>1</th>\n",
              "      <td>for sale</td>\n",
              "      <td>single-family</td>\n",
              "      <td>12911 E Heroy Ave</td>\n",
              "      <td>0.0</td>\n",
              "      <td>not</td>\n",
              "      <td>Spokane Valley</td>\n",
              "      <td>0.0</td>\n",
              "      <td>11.198855</td>\n",
              "      <td>0.0</td>\n",
              "      <td>WA</td>\n",
              "      <td>0.0</td>\n",
              "      <td>not</td>\n",
              "      <td>310000.0</td>\n",
              "    </tr>\n",
              "    <tr>\n",
              "      <th>2</th>\n",
              "      <td>for sale</td>\n",
              "      <td>single-family</td>\n",
              "      <td>2005 Westridge Rd</td>\n",
              "      <td>0.0</td>\n",
              "      <td>yes</td>\n",
              "      <td>Los Angeles</td>\n",
              "      <td>0.0</td>\n",
              "      <td>9.543344</td>\n",
              "      <td>0.0</td>\n",
              "      <td>CA</td>\n",
              "      <td>-1.0</td>\n",
              "      <td>yes</td>\n",
              "      <td>2895000.0</td>\n",
              "    </tr>\n",
              "    <tr>\n",
              "      <th>3</th>\n",
              "      <td>for sale</td>\n",
              "      <td>single-family</td>\n",
              "      <td>4311 Livingston Ave</td>\n",
              "      <td>0.0</td>\n",
              "      <td>yes</td>\n",
              "      <td>Dallas</td>\n",
              "      <td>0.0</td>\n",
              "      <td>6.862597</td>\n",
              "      <td>0.0</td>\n",
              "      <td>TX</td>\n",
              "      <td>1.0</td>\n",
              "      <td>not</td>\n",
              "      <td>2395000.0</td>\n",
              "    </tr>\n",
              "    <tr>\n",
              "      <th>4</th>\n",
              "      <td>for sale</td>\n",
              "      <td>lot/land</td>\n",
              "      <td>1524 Kiscoe St</td>\n",
              "      <td>0.0</td>\n",
              "      <td>not</td>\n",
              "      <td>Palm Bay</td>\n",
              "      <td>0.0</td>\n",
              "      <td>-0.776015</td>\n",
              "      <td>0.0</td>\n",
              "      <td>FL</td>\n",
              "      <td>0.0</td>\n",
              "      <td>not</td>\n",
              "      <td>5000.0</td>\n",
              "    </tr>\n",
              "  </tbody>\n",
              "</table>\n",
              "</div>\n",
              "      <button class=\"colab-df-convert\" onclick=\"convertToInteractive('df-c4a2de3a-5742-4068-ad73-808b25bcf2de')\"\n",
              "              title=\"Convert this dataframe to an interactive table.\"\n",
              "              style=\"display:none;\">\n",
              "        \n",
              "  <svg xmlns=\"http://www.w3.org/2000/svg\" height=\"24px\"viewBox=\"0 0 24 24\"\n",
              "       width=\"24px\">\n",
              "    <path d=\"M0 0h24v24H0V0z\" fill=\"none\"/>\n",
              "    <path d=\"M18.56 5.44l.94 2.06.94-2.06 2.06-.94-2.06-.94-.94-2.06-.94 2.06-2.06.94zm-11 1L8.5 8.5l.94-2.06 2.06-.94-2.06-.94L8.5 2.5l-.94 2.06-2.06.94zm10 10l.94 2.06.94-2.06 2.06-.94-2.06-.94-.94-2.06-.94 2.06-2.06.94z\"/><path d=\"M17.41 7.96l-1.37-1.37c-.4-.4-.92-.59-1.43-.59-.52 0-1.04.2-1.43.59L10.3 9.45l-7.72 7.72c-.78.78-.78 2.05 0 2.83L4 21.41c.39.39.9.59 1.41.59.51 0 1.02-.2 1.41-.59l7.78-7.78 2.81-2.81c.8-.78.8-2.07 0-2.86zM5.41 20L4 18.59l7.72-7.72 1.47 1.35L5.41 20z\"/>\n",
              "  </svg>\n",
              "      </button>\n",
              "      \n",
              "  <style>\n",
              "    .colab-df-container {\n",
              "      display:flex;\n",
              "      flex-wrap:wrap;\n",
              "      gap: 12px;\n",
              "    }\n",
              "\n",
              "    .colab-df-convert {\n",
              "      background-color: #E8F0FE;\n",
              "      border: none;\n",
              "      border-radius: 50%;\n",
              "      cursor: pointer;\n",
              "      display: none;\n",
              "      fill: #1967D2;\n",
              "      height: 32px;\n",
              "      padding: 0 0 0 0;\n",
              "      width: 32px;\n",
              "    }\n",
              "\n",
              "    .colab-df-convert:hover {\n",
              "      background-color: #E2EBFA;\n",
              "      box-shadow: 0px 1px 2px rgba(60, 64, 67, 0.3), 0px 1px 3px 1px rgba(60, 64, 67, 0.15);\n",
              "      fill: #174EA6;\n",
              "    }\n",
              "\n",
              "    [theme=dark] .colab-df-convert {\n",
              "      background-color: #3B4455;\n",
              "      fill: #D2E3FC;\n",
              "    }\n",
              "\n",
              "    [theme=dark] .colab-df-convert:hover {\n",
              "      background-color: #434B5C;\n",
              "      box-shadow: 0px 1px 3px 1px rgba(0, 0, 0, 0.15);\n",
              "      filter: drop-shadow(0px 1px 2px rgba(0, 0, 0, 0.3));\n",
              "      fill: #FFFFFF;\n",
              "    }\n",
              "  </style>\n",
              "\n",
              "      <script>\n",
              "        const buttonEl =\n",
              "          document.querySelector('#df-c4a2de3a-5742-4068-ad73-808b25bcf2de button.colab-df-convert');\n",
              "        buttonEl.style.display =\n",
              "          google.colab.kernel.accessAllowed ? 'block' : 'none';\n",
              "\n",
              "        async function convertToInteractive(key) {\n",
              "          const element = document.querySelector('#df-c4a2de3a-5742-4068-ad73-808b25bcf2de');\n",
              "          const dataTable =\n",
              "            await google.colab.kernel.invokeFunction('convertToInteractive',\n",
              "                                                     [key], {});\n",
              "          if (!dataTable) return;\n",
              "\n",
              "          const docLinkHtml = 'Like what you see? Visit the ' +\n",
              "            '<a target=\"_blank\" href=https://colab.research.google.com/notebooks/data_table.ipynb>data table notebook</a>'\n",
              "            + ' to learn more about interactive tables.';\n",
              "          element.innerHTML = '';\n",
              "          dataTable['output_type'] = 'display_data';\n",
              "          await google.colab.output.renderOutput(dataTable, element);\n",
              "          const docLink = document.createElement('div');\n",
              "          docLink.innerHTML = docLinkHtml;\n",
              "          element.appendChild(docLink);\n",
              "        }\n",
              "      </script>\n",
              "    </div>\n",
              "  </div>\n",
              "  "
            ]
          },
          "metadata": {},
          "execution_count": 86
        }
      ]
    },
    {
      "cell_type": "markdown",
      "source": [
        "## FeatureEngineering"
      ],
      "metadata": {
        "id": "RpNJ2vJX6rHV"
      }
    },
    {
      "cell_type": "code",
      "source": [
        "data=data.drop(['propertyType', 'street', 'city', 'state', 'status', 'fireplace', 'PrivatePool', 'new_target', 'sqft', 'zipcode'], axis=1)"
      ],
      "metadata": {
        "id": "KKSYWxasqKHq"
      },
      "execution_count": 87,
      "outputs": []
    },
    {
      "cell_type": "code",
      "source": [
        "data.head()"
      ],
      "metadata": {
        "colab": {
          "base_uri": "https://localhost:8080/",
          "height": 206
        },
        "id": "_VV9hmGCrvnv",
        "outputId": "df832aa5-c1d8-47be-be17-1b5f5ce6671d"
      },
      "execution_count": 88,
      "outputs": [
        {
          "output_type": "execute_result",
          "data": {
            "text/plain": [
              "   baths  beds  stories\n",
              "0   -0.7   1.0      0.0\n",
              "1    0.0   0.0      0.0\n",
              "2    0.0   0.0     -1.0\n",
              "3    0.0   0.0      1.0\n",
              "4    0.0   0.0      0.0"
            ],
            "text/html": [
              "\n",
              "  <div id=\"df-557231ad-21dc-43e5-b014-8d2d536cbe96\">\n",
              "    <div class=\"colab-df-container\">\n",
              "      <div>\n",
              "<style scoped>\n",
              "    .dataframe tbody tr th:only-of-type {\n",
              "        vertical-align: middle;\n",
              "    }\n",
              "\n",
              "    .dataframe tbody tr th {\n",
              "        vertical-align: top;\n",
              "    }\n",
              "\n",
              "    .dataframe thead th {\n",
              "        text-align: right;\n",
              "    }\n",
              "</style>\n",
              "<table border=\"1\" class=\"dataframe\">\n",
              "  <thead>\n",
              "    <tr style=\"text-align: right;\">\n",
              "      <th></th>\n",
              "      <th>baths</th>\n",
              "      <th>beds</th>\n",
              "      <th>stories</th>\n",
              "    </tr>\n",
              "  </thead>\n",
              "  <tbody>\n",
              "    <tr>\n",
              "      <th>0</th>\n",
              "      <td>-0.7</td>\n",
              "      <td>1.0</td>\n",
              "      <td>0.0</td>\n",
              "    </tr>\n",
              "    <tr>\n",
              "      <th>1</th>\n",
              "      <td>0.0</td>\n",
              "      <td>0.0</td>\n",
              "      <td>0.0</td>\n",
              "    </tr>\n",
              "    <tr>\n",
              "      <th>2</th>\n",
              "      <td>0.0</td>\n",
              "      <td>0.0</td>\n",
              "      <td>-1.0</td>\n",
              "    </tr>\n",
              "    <tr>\n",
              "      <th>3</th>\n",
              "      <td>0.0</td>\n",
              "      <td>0.0</td>\n",
              "      <td>1.0</td>\n",
              "    </tr>\n",
              "    <tr>\n",
              "      <th>4</th>\n",
              "      <td>0.0</td>\n",
              "      <td>0.0</td>\n",
              "      <td>0.0</td>\n",
              "    </tr>\n",
              "  </tbody>\n",
              "</table>\n",
              "</div>\n",
              "      <button class=\"colab-df-convert\" onclick=\"convertToInteractive('df-557231ad-21dc-43e5-b014-8d2d536cbe96')\"\n",
              "              title=\"Convert this dataframe to an interactive table.\"\n",
              "              style=\"display:none;\">\n",
              "        \n",
              "  <svg xmlns=\"http://www.w3.org/2000/svg\" height=\"24px\"viewBox=\"0 0 24 24\"\n",
              "       width=\"24px\">\n",
              "    <path d=\"M0 0h24v24H0V0z\" fill=\"none\"/>\n",
              "    <path d=\"M18.56 5.44l.94 2.06.94-2.06 2.06-.94-2.06-.94-.94-2.06-.94 2.06-2.06.94zm-11 1L8.5 8.5l.94-2.06 2.06-.94-2.06-.94L8.5 2.5l-.94 2.06-2.06.94zm10 10l.94 2.06.94-2.06 2.06-.94-2.06-.94-.94-2.06-.94 2.06-2.06.94z\"/><path d=\"M17.41 7.96l-1.37-1.37c-.4-.4-.92-.59-1.43-.59-.52 0-1.04.2-1.43.59L10.3 9.45l-7.72 7.72c-.78.78-.78 2.05 0 2.83L4 21.41c.39.39.9.59 1.41.59.51 0 1.02-.2 1.41-.59l7.78-7.78 2.81-2.81c.8-.78.8-2.07 0-2.86zM5.41 20L4 18.59l7.72-7.72 1.47 1.35L5.41 20z\"/>\n",
              "  </svg>\n",
              "      </button>\n",
              "      \n",
              "  <style>\n",
              "    .colab-df-container {\n",
              "      display:flex;\n",
              "      flex-wrap:wrap;\n",
              "      gap: 12px;\n",
              "    }\n",
              "\n",
              "    .colab-df-convert {\n",
              "      background-color: #E8F0FE;\n",
              "      border: none;\n",
              "      border-radius: 50%;\n",
              "      cursor: pointer;\n",
              "      display: none;\n",
              "      fill: #1967D2;\n",
              "      height: 32px;\n",
              "      padding: 0 0 0 0;\n",
              "      width: 32px;\n",
              "    }\n",
              "\n",
              "    .colab-df-convert:hover {\n",
              "      background-color: #E2EBFA;\n",
              "      box-shadow: 0px 1px 2px rgba(60, 64, 67, 0.3), 0px 1px 3px 1px rgba(60, 64, 67, 0.15);\n",
              "      fill: #174EA6;\n",
              "    }\n",
              "\n",
              "    [theme=dark] .colab-df-convert {\n",
              "      background-color: #3B4455;\n",
              "      fill: #D2E3FC;\n",
              "    }\n",
              "\n",
              "    [theme=dark] .colab-df-convert:hover {\n",
              "      background-color: #434B5C;\n",
              "      box-shadow: 0px 1px 3px 1px rgba(0, 0, 0, 0.15);\n",
              "      filter: drop-shadow(0px 1px 2px rgba(0, 0, 0, 0.3));\n",
              "      fill: #FFFFFF;\n",
              "    }\n",
              "  </style>\n",
              "\n",
              "      <script>\n",
              "        const buttonEl =\n",
              "          document.querySelector('#df-557231ad-21dc-43e5-b014-8d2d536cbe96 button.colab-df-convert');\n",
              "        buttonEl.style.display =\n",
              "          google.colab.kernel.accessAllowed ? 'block' : 'none';\n",
              "\n",
              "        async function convertToInteractive(key) {\n",
              "          const element = document.querySelector('#df-557231ad-21dc-43e5-b014-8d2d536cbe96');\n",
              "          const dataTable =\n",
              "            await google.colab.kernel.invokeFunction('convertToInteractive',\n",
              "                                                     [key], {});\n",
              "          if (!dataTable) return;\n",
              "\n",
              "          const docLinkHtml = 'Like what you see? Visit the ' +\n",
              "            '<a target=\"_blank\" href=https://colab.research.google.com/notebooks/data_table.ipynb>data table notebook</a>'\n",
              "            + ' to learn more about interactive tables.';\n",
              "          element.innerHTML = '';\n",
              "          dataTable['output_type'] = 'display_data';\n",
              "          await google.colab.output.renderOutput(dataTable, element);\n",
              "          const docLink = document.createElement('div');\n",
              "          docLink.innerHTML = docLinkHtml;\n",
              "          element.appendChild(docLink);\n",
              "        }\n",
              "      </script>\n",
              "    </div>\n",
              "  </div>\n",
              "  "
            ]
          },
          "metadata": {},
          "execution_count": 88
        }
      ]
    },
    {
      "cell_type": "markdown",
      "source": [
        "## UMAP"
      ],
      "metadata": {
        "id": "LTgTDhw0pUQo"
      }
    },
    {
      "cell_type": "code",
      "source": [
        "!pip install umap-learn\n",
        "import umap.umap_ as umap "
      ],
      "metadata": {
        "colab": {
          "base_uri": "https://localhost:8080/"
        },
        "id": "fLuRKu7epSfO",
        "outputId": "04178486-23ba-4eb9-df52-4332b0ec315d"
      },
      "execution_count": 89,
      "outputs": [
        {
          "output_type": "stream",
          "name": "stdout",
          "text": [
            "Looking in indexes: https://pypi.org/simple, https://us-python.pkg.dev/colab-wheels/public/simple/\n",
            "Requirement already satisfied: umap-learn in /usr/local/lib/python3.7/dist-packages (0.5.3)\n",
            "Requirement already satisfied: scipy>=1.0 in /usr/local/lib/python3.7/dist-packages (from umap-learn) (1.7.3)\n",
            "Requirement already satisfied: numpy>=1.17 in /usr/local/lib/python3.7/dist-packages (from umap-learn) (1.21.6)\n",
            "Requirement already satisfied: pynndescent>=0.5 in /usr/local/lib/python3.7/dist-packages (from umap-learn) (0.5.7)\n",
            "Requirement already satisfied: scikit-learn>=0.22 in /usr/local/lib/python3.7/dist-packages (from umap-learn) (1.0.2)\n",
            "Requirement already satisfied: tqdm in /usr/local/lib/python3.7/dist-packages (from umap-learn) (4.64.1)\n",
            "Requirement already satisfied: numba>=0.49 in /usr/local/lib/python3.7/dist-packages (from umap-learn) (0.56.2)\n",
            "Requirement already satisfied: setuptools<60 in /usr/local/lib/python3.7/dist-packages (from numba>=0.49->umap-learn) (57.4.0)\n",
            "Requirement already satisfied: importlib-metadata in /usr/local/lib/python3.7/dist-packages (from numba>=0.49->umap-learn) (4.12.0)\n",
            "Requirement already satisfied: llvmlite<0.40,>=0.39.0dev0 in /usr/local/lib/python3.7/dist-packages (from numba>=0.49->umap-learn) (0.39.1)\n",
            "Requirement already satisfied: joblib>=0.11 in /usr/local/lib/python3.7/dist-packages (from pynndescent>=0.5->umap-learn) (1.1.0)\n",
            "Requirement already satisfied: threadpoolctl>=2.0.0 in /usr/local/lib/python3.7/dist-packages (from scikit-learn>=0.22->umap-learn) (3.1.0)\n",
            "Requirement already satisfied: typing-extensions>=3.6.4 in /usr/local/lib/python3.7/dist-packages (from importlib-metadata->numba>=0.49->umap-learn) (4.1.1)\n",
            "Requirement already satisfied: zipp>=0.5 in /usr/local/lib/python3.7/dist-packages (from importlib-metadata->numba>=0.49->umap-learn) (3.8.1)\n"
          ]
        }
      ]
    },
    {
      "cell_type": "code",
      "source": [
        "embedding = umap.UMAP(n_neighbors=5).fit_transform(data) "
      ],
      "metadata": {
        "id": "1yBKbUpJtdaM",
        "colab": {
          "base_uri": "https://localhost:8080/"
        },
        "outputId": "c44717b6-9295-46ed-a41c-2b1218d97187"
      },
      "execution_count": null,
      "outputs": [
        {
          "output_type": "stream",
          "name": "stderr",
          "text": [
            "/usr/local/lib/python3.7/dist-packages/sklearn/manifold/_spectral_embedding.py:261: UserWarning: Graph is not fully connected, spectral embedding may not work as expected.\n",
            "  \"Graph is not fully connected, spectral embedding may not work as expected.\"\n"
          ]
        }
      ]
    }
  ]
}