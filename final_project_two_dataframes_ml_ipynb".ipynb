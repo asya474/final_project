{
  "cells": [
    {
      "cell_type": "markdown",
      "metadata": {
        "id": "view-in-github",
        "colab_type": "text"
      },
      "source": [
        "<a href=\"https://colab.research.google.com/github/asya474/final_project/blob/main/final_project_two_dataframes_ml_ipynb%22.ipynb\" target=\"_parent\"><img src=\"https://colab.research.google.com/assets/colab-badge.svg\" alt=\"Open In Colab\"/></a>"
      ]
    },
    {
      "cell_type": "markdown",
      "metadata": {
        "id": "7UY-pOfLXcqT"
      },
      "source": [
        "Основные цели и задачи проекта\n",
        "\n",
        "Основной целью проекта является создание сервиса для предсказания стоимости домов, используя накопленные данные о сделках. Используемый алгоритм должен быть достаточно быстрым и эффективным с точки зрения выбранной метрики.\n",
        "Выбрана метрика MAPE для поставленной задачи регрессии, так как в данных в основном представлены категориальные признаки, в поставленной задаче отсутствует необходимость применять сильно большие штрафы к модели за неправильно обработанные данные и так же относительная метрика более проста и удобна для оценки качества модели, что и пригодится нам для построения безлайна для соответствующего сервиса.\n",
        "\n",
        "Краткая информация о данных\n",
        "\n",
        "Датасет, используемый в проекте, представляет из себя обычные табличные данные, и состоит из следующих столбцов: • status статус сделки • private pool наличие частного бассейна • propertyType тип собственности с информацией о количестве комнат и стиле интерьера • street адрес • baths количество бассейнов • homeFacts информация о здании • fireplace наличие камина • city город • schools информация о школах в округе • sqft площадь жилья в квадратных футах • zipcode почтовый индекс • beds количество кроватей и площадь спальни • state штат • stories подсобные помещения • mls-id мультилистинг • PrivatePool наличие частного бассейна • MlsId мультилистинг • target стоимость жилья\n",
        "\n",
        "Этапы работы над проектом\n",
        "\n",
        "1. Знакомство с датасетом \n",
        "2.Выбор метрики, которая отвечала бы бизнес-целям. \n",
        "3.Очистка данных, заполнение пропусков \n",
        "4.Стандартизация числовых столбцов, применением методов label-encoding, get_dummies к категориальным переменным.\n",
        "5.Выбор алгоритмов машинного обучения,Я оптимизация гиперпараметров, выбор лучшей модели"
      ]
    },
    {
      "cell_type": "code",
      "execution_count": 1,
      "metadata": {
        "colab": {
          "base_uri": "https://localhost:8080/"
        },
        "id": "elk1vwU2mab2",
        "outputId": "fca45c4d-70ab-4db3-8fb5-b9cf937b62c6"
      },
      "outputs": [
        {
          "output_type": "stream",
          "name": "stdout",
          "text": [
            "\u001b[?25l\r\u001b[K     |▎                               | 10 kB 27.9 MB/s eta 0:00:01\r\u001b[K     |▋                               | 20 kB 35.4 MB/s eta 0:00:01\r\u001b[K     |█                               | 30 kB 42.3 MB/s eta 0:00:01\r\u001b[K     |█▏                              | 40 kB 10.8 MB/s eta 0:00:01\r\u001b[K     |█▌                              | 51 kB 10.8 MB/s eta 0:00:01\r\u001b[K     |█▉                              | 61 kB 12.5 MB/s eta 0:00:01\r\u001b[K     |██                              | 71 kB 8.8 MB/s eta 0:00:01\r\u001b[K     |██▍                             | 81 kB 9.8 MB/s eta 0:00:01\r\u001b[K     |██▊                             | 92 kB 10.8 MB/s eta 0:00:01\r\u001b[K     |███                             | 102 kB 9.4 MB/s eta 0:00:01\r\u001b[K     |███▎                            | 112 kB 9.4 MB/s eta 0:00:01\r\u001b[K     |███▋                            | 122 kB 9.4 MB/s eta 0:00:01\r\u001b[K     |███▉                            | 133 kB 9.4 MB/s eta 0:00:01\r\u001b[K     |████▏                           | 143 kB 9.4 MB/s eta 0:00:01\r\u001b[K     |████▌                           | 153 kB 9.4 MB/s eta 0:00:01\r\u001b[K     |████▊                           | 163 kB 9.4 MB/s eta 0:00:01\r\u001b[K     |█████                           | 174 kB 9.4 MB/s eta 0:00:01\r\u001b[K     |█████▍                          | 184 kB 9.4 MB/s eta 0:00:01\r\u001b[K     |█████▋                          | 194 kB 9.4 MB/s eta 0:00:01\r\u001b[K     |██████                          | 204 kB 9.4 MB/s eta 0:00:01\r\u001b[K     |██████▎                         | 215 kB 9.4 MB/s eta 0:00:01\r\u001b[K     |██████▌                         | 225 kB 9.4 MB/s eta 0:00:01\r\u001b[K     |██████▉                         | 235 kB 9.4 MB/s eta 0:00:01\r\u001b[K     |███████▏                        | 245 kB 9.4 MB/s eta 0:00:01\r\u001b[K     |███████▍                        | 256 kB 9.4 MB/s eta 0:00:01\r\u001b[K     |███████▊                        | 266 kB 9.4 MB/s eta 0:00:01\r\u001b[K     |████████                        | 276 kB 9.4 MB/s eta 0:00:01\r\u001b[K     |████████▎                       | 286 kB 9.4 MB/s eta 0:00:01\r\u001b[K     |████████▋                       | 296 kB 9.4 MB/s eta 0:00:01\r\u001b[K     |█████████                       | 307 kB 9.4 MB/s eta 0:00:01\r\u001b[K     |█████████▏                      | 317 kB 9.4 MB/s eta 0:00:01\r\u001b[K     |█████████▌                      | 327 kB 9.4 MB/s eta 0:00:01\r\u001b[K     |█████████▉                      | 337 kB 9.4 MB/s eta 0:00:01\r\u001b[K     |██████████                      | 348 kB 9.4 MB/s eta 0:00:01\r\u001b[K     |██████████▍                     | 358 kB 9.4 MB/s eta 0:00:01\r\u001b[K     |██████████▊                     | 368 kB 9.4 MB/s eta 0:00:01\r\u001b[K     |███████████                     | 378 kB 9.4 MB/s eta 0:00:01\r\u001b[K     |███████████▎                    | 389 kB 9.4 MB/s eta 0:00:01\r\u001b[K     |███████████▋                    | 399 kB 9.4 MB/s eta 0:00:01\r\u001b[K     |███████████▉                    | 409 kB 9.4 MB/s eta 0:00:01\r\u001b[K     |████████████▏                   | 419 kB 9.4 MB/s eta 0:00:01\r\u001b[K     |████████████▌                   | 430 kB 9.4 MB/s eta 0:00:01\r\u001b[K     |████████████▊                   | 440 kB 9.4 MB/s eta 0:00:01\r\u001b[K     |█████████████                   | 450 kB 9.4 MB/s eta 0:00:01\r\u001b[K     |█████████████▍                  | 460 kB 9.4 MB/s eta 0:00:01\r\u001b[K     |█████████████▋                  | 471 kB 9.4 MB/s eta 0:00:01\r\u001b[K     |██████████████                  | 481 kB 9.4 MB/s eta 0:00:01\r\u001b[K     |██████████████▎                 | 491 kB 9.4 MB/s eta 0:00:01\r\u001b[K     |██████████████▌                 | 501 kB 9.4 MB/s eta 0:00:01\r\u001b[K     |██████████████▉                 | 512 kB 9.4 MB/s eta 0:00:01\r\u001b[K     |███████████████▏                | 522 kB 9.4 MB/s eta 0:00:01\r\u001b[K     |███████████████▍                | 532 kB 9.4 MB/s eta 0:00:01\r\u001b[K     |███████████████▊                | 542 kB 9.4 MB/s eta 0:00:01\r\u001b[K     |████████████████                | 552 kB 9.4 MB/s eta 0:00:01\r\u001b[K     |████████████████▎               | 563 kB 9.4 MB/s eta 0:00:01\r\u001b[K     |████████████████▋               | 573 kB 9.4 MB/s eta 0:00:01\r\u001b[K     |█████████████████               | 583 kB 9.4 MB/s eta 0:00:01\r\u001b[K     |█████████████████▏              | 593 kB 9.4 MB/s eta 0:00:01\r\u001b[K     |█████████████████▌              | 604 kB 9.4 MB/s eta 0:00:01\r\u001b[K     |█████████████████▉              | 614 kB 9.4 MB/s eta 0:00:01\r\u001b[K     |██████████████████              | 624 kB 9.4 MB/s eta 0:00:01\r\u001b[K     |██████████████████▍             | 634 kB 9.4 MB/s eta 0:00:01\r\u001b[K     |██████████████████▊             | 645 kB 9.4 MB/s eta 0:00:01\r\u001b[K     |███████████████████             | 655 kB 9.4 MB/s eta 0:00:01\r\u001b[K     |███████████████████▎            | 665 kB 9.4 MB/s eta 0:00:01\r\u001b[K     |███████████████████▋            | 675 kB 9.4 MB/s eta 0:00:01\r\u001b[K     |███████████████████▉            | 686 kB 9.4 MB/s eta 0:00:01\r\u001b[K     |████████████████████▏           | 696 kB 9.4 MB/s eta 0:00:01\r\u001b[K     |████████████████████▌           | 706 kB 9.4 MB/s eta 0:00:01\r\u001b[K     |████████████████████▊           | 716 kB 9.4 MB/s eta 0:00:01\r\u001b[K     |█████████████████████           | 727 kB 9.4 MB/s eta 0:00:01\r\u001b[K     |█████████████████████▍          | 737 kB 9.4 MB/s eta 0:00:01\r\u001b[K     |█████████████████████▋          | 747 kB 9.4 MB/s eta 0:00:01\r\u001b[K     |██████████████████████          | 757 kB 9.4 MB/s eta 0:00:01\r\u001b[K     |██████████████████████▎         | 768 kB 9.4 MB/s eta 0:00:01\r\u001b[K     |██████████████████████▌         | 778 kB 9.4 MB/s eta 0:00:01\r\u001b[K     |██████████████████████▉         | 788 kB 9.4 MB/s eta 0:00:01\r\u001b[K     |███████████████████████▏        | 798 kB 9.4 MB/s eta 0:00:01\r\u001b[K     |███████████████████████▍        | 808 kB 9.4 MB/s eta 0:00:01\r\u001b[K     |███████████████████████▊        | 819 kB 9.4 MB/s eta 0:00:01\r\u001b[K     |████████████████████████        | 829 kB 9.4 MB/s eta 0:00:01\r\u001b[K     |████████████████████████▎       | 839 kB 9.4 MB/s eta 0:00:01\r\u001b[K     |████████████████████████▋       | 849 kB 9.4 MB/s eta 0:00:01\r\u001b[K     |█████████████████████████       | 860 kB 9.4 MB/s eta 0:00:01\r\u001b[K     |█████████████████████████▎      | 870 kB 9.4 MB/s eta 0:00:01\r\u001b[K     |█████████████████████████▌      | 880 kB 9.4 MB/s eta 0:00:01\r\u001b[K     |█████████████████████████▉      | 890 kB 9.4 MB/s eta 0:00:01\r\u001b[K     |██████████████████████████▏     | 901 kB 9.4 MB/s eta 0:00:01\r\u001b[K     |██████████████████████████▍     | 911 kB 9.4 MB/s eta 0:00:01\r\u001b[K     |██████████████████████████▊     | 921 kB 9.4 MB/s eta 0:00:01\r\u001b[K     |███████████████████████████     | 931 kB 9.4 MB/s eta 0:00:01\r\u001b[K     |███████████████████████████▎    | 942 kB 9.4 MB/s eta 0:00:01\r\u001b[K     |███████████████████████████▋    | 952 kB 9.4 MB/s eta 0:00:01\r\u001b[K     |████████████████████████████    | 962 kB 9.4 MB/s eta 0:00:01\r\u001b[K     |████████████████████████████▏   | 972 kB 9.4 MB/s eta 0:00:01\r\u001b[K     |████████████████████████████▌   | 983 kB 9.4 MB/s eta 0:00:01\r\u001b[K     |████████████████████████████▉   | 993 kB 9.4 MB/s eta 0:00:01\r\u001b[K     |█████████████████████████████   | 1.0 MB 9.4 MB/s eta 0:00:01\r\u001b[K     |█████████████████████████████▍  | 1.0 MB 9.4 MB/s eta 0:00:01\r\u001b[K     |█████████████████████████████▊  | 1.0 MB 9.4 MB/s eta 0:00:01\r\u001b[K     |██████████████████████████████  | 1.0 MB 9.4 MB/s eta 0:00:01\r\u001b[K     |██████████████████████████████▎ | 1.0 MB 9.4 MB/s eta 0:00:01\r\u001b[K     |██████████████████████████████▋ | 1.1 MB 9.4 MB/s eta 0:00:01\r\u001b[K     |██████████████████████████████▉ | 1.1 MB 9.4 MB/s eta 0:00:01\r\u001b[K     |███████████████████████████████▏| 1.1 MB 9.4 MB/s eta 0:00:01\r\u001b[K     |███████████████████████████████▌| 1.1 MB 9.4 MB/s eta 0:00:01\r\u001b[K     |███████████████████████████████▊| 1.1 MB 9.4 MB/s eta 0:00:01\r\u001b[K     |████████████████████████████████| 1.1 MB 9.4 MB/s \n",
            "\u001b[?25h"
          ]
        }
      ],
      "source": [
        "import numpy as np\n",
        "import pandas as pd\n",
        "import matplotlib.pyplot as plt\n",
        "import seaborn as sns\n",
        "import pickle\n",
        "import zipfile\n",
        "import time\n",
        "import csv\n",
        "import sys\n",
        "import os\n",
        "!pip install tensorflow_addons -q\n",
        "import tensorflow_addons as tfa\n",
        "import re\n",
        "\n",
        "from sklearn.model_selection import RandomizedSearchCV\n",
        "from sklearn.ensemble import *\n",
        "from sklearn.model_selection import train_test_split, StratifiedKFold\n",
        "from sklearn.metrics import mean_absolute_percentage_error\n",
        "from sklearn.preprocessing import *\n",
        "from sklearn.neural_network import MLPRegressor\n",
        "from sklearn.gaussian_process import GaussianProcessRegressor\n",
        "from sklearn.linear_model import SGDRegressor\n",
        "from sklearn.svm import SVR\n",
        "from sklearn.neighbors import KNeighborsRegressor\n",
        "from sklearn.inspection import permutation_importance\n",
        "from matplotlib import pyplot as plt\n",
        "import PIL\n",
        "from PIL import ImageOps, ImageFilter\n",
        "#увеличим дефолтный размер графиков\n",
        "from pylab import rcParams\n",
        "rcParams['figure.figsize'] = 10, 5\n",
        "#графики в svg выглядят более четкими\n",
        "%config InlineBackend.figure_format = 'svg'\n",
        "%matplotlib inline\n",
        "import seaborn as sns\n",
        "#print(os.listdir(\"/content/drive/MyDrive/Colab Notebooks/input\"))\n"
      ]
    },
    {
      "cell_type": "code",
      "execution_count": 2,
      "metadata": {
        "id": "SNl-IT-uxwpq"
      },
      "outputs": [],
      "source": [
        "RANDOM_SEED = 42\n",
        "VAL_SIZE = 0.20 \n",
        "mape=mean_absolute_percentage_error #в качестве метрики выбрано МАРЕ, "
      ]
    },
    {
      "cell_type": "code",
      "execution_count": 3,
      "metadata": {
        "colab": {
          "base_uri": "https://localhost:8080/"
        },
        "id": "L3g0J3ee4grv",
        "outputId": "f50fb81e-6d63-42fe-db34-e24def8322f9"
      },
      "outputs": [
        {
          "output_type": "stream",
          "name": "stdout",
          "text": [
            "Mounted at /content/drive\n"
          ]
        }
      ],
      "source": [
        "from google.colab import drive\n",
        "drive.mount('/content/drive')"
      ]
    },
    {
      "cell_type": "markdown",
      "metadata": {
        "id": "Z4puC012cG13"
      },
      "source": [
        "## EDA"
      ]
    },
    {
      "cell_type": "code",
      "execution_count": 4,
      "metadata": {
        "colab": {
          "base_uri": "https://localhost:8080/"
        },
        "id": "R8N83RVXmf5T",
        "outputId": "1beec291-5cba-4e81-fec6-c408a9dbf82e"
      },
      "outputs": [
        {
          "output_type": "stream",
          "name": "stdout",
          "text": [
            "['.config', '__MACOSX', 'data.csv', 'drive', 'sample_data']\n"
          ]
        }
      ],
      "source": [
        "zip_file='/content/drive/MyDrive/data.csv.zip'\n",
        "z=zipfile.ZipFile(zip_file, 'r')\n",
        "z.extractall()\n",
        "print(os.listdir())"
      ]
    },
    {
      "cell_type": "code",
      "execution_count": 5,
      "metadata": {
        "id": "73RyWKaL6vMN"
      },
      "outputs": [],
      "source": [
        "data=pd.read_csv('data.csv') #загрузка датасета"
      ]
    },
    {
      "cell_type": "code",
      "execution_count": 6,
      "metadata": {
        "colab": {
          "base_uri": "https://localhost:8080/"
        },
        "id": "2DL0IICQ1rsO",
        "outputId": "9a8a1106-0ac6-4c6f-c7ee-5e36d237820e"
      },
      "outputs": [
        {
          "output_type": "stream",
          "name": "stdout",
          "text": [
            "<class 'pandas.core.frame.DataFrame'>\n",
            "RangeIndex: 377185 entries, 0 to 377184\n",
            "Data columns (total 18 columns):\n",
            " #   Column        Non-Null Count   Dtype \n",
            "---  ------        --------------   ----- \n",
            " 0   status        337267 non-null  object\n",
            " 1   private pool  4181 non-null    object\n",
            " 2   propertyType  342452 non-null  object\n",
            " 3   street        377183 non-null  object\n",
            " 4   baths         270847 non-null  object\n",
            " 5   homeFacts     377185 non-null  object\n",
            " 6   fireplace     103115 non-null  object\n",
            " 7   city          377151 non-null  object\n",
            " 8   schools       377185 non-null  object\n",
            " 9   sqft          336608 non-null  object\n",
            " 10  zipcode       377185 non-null  object\n",
            " 11  beds          285903 non-null  object\n",
            " 12  state         377185 non-null  object\n",
            " 13  stories       226470 non-null  object\n",
            " 14  mls-id        24942 non-null   object\n",
            " 15  PrivatePool   40311 non-null   object\n",
            " 16  MlsId         310305 non-null  object\n",
            " 17  target        374704 non-null  object\n",
            "dtypes: object(18)\n",
            "memory usage: 51.8+ MB\n"
          ]
        }
      ],
      "source": [
        "data.info() #вывод основной информации о датасете"
      ]
    },
    {
      "cell_type": "code",
      "execution_count": 7,
      "metadata": {
        "colab": {
          "base_uri": "https://localhost:8080/"
        },
        "id": "P9SK2fBZMkZs",
        "outputId": "b2ab3ff1-3ed9-47a1-edc1-0252a666e830"
      },
      "outputs": [
        {
          "output_type": "execute_result",
          "data": {
            "text/plain": [
              "status             159\n",
              "private pool         1\n",
              "propertyType      1280\n",
              "street          337076\n",
              "baths              229\n",
              "homeFacts       321009\n",
              "fireplace         1653\n",
              "city              2026\n",
              "schools         297365\n",
              "sqft             25405\n",
              "zipcode           4549\n",
              "beds              1184\n",
              "state               39\n",
              "stories            348\n",
              "mls-id           24907\n",
              "PrivatePool          2\n",
              "MlsId           232944\n",
              "target           43939\n",
              "dtype: int64"
            ]
          },
          "metadata": {},
          "execution_count": 7
        }
      ],
      "source": [
        "data.nunique() #вывод уникальных значений"
      ]
    },
    {
      "cell_type": "code",
      "execution_count": 8,
      "metadata": {
        "colab": {
          "base_uri": "https://localhost:8080/"
        },
        "id": "vZ3Z5DI7M2gj",
        "outputId": "e9ecdac4-4414-4128-e084-225e0292b574"
      },
      "outputs": [
        {
          "output_type": "execute_result",
          "data": {
            "text/plain": [
              "status           39918\n",
              "private pool    373004\n",
              "propertyType     34733\n",
              "street               2\n",
              "baths           106338\n",
              "homeFacts            0\n",
              "fireplace       274070\n",
              "city                34\n",
              "schools              0\n",
              "sqft             40577\n",
              "zipcode              0\n",
              "beds             91282\n",
              "state                0\n",
              "stories         150715\n",
              "mls-id          352243\n",
              "PrivatePool     336874\n",
              "MlsId            66880\n",
              "target            2481\n",
              "dtype: int64"
            ]
          },
          "metadata": {},
          "execution_count": 8
        }
      ],
      "source": [
        "data.isna().sum() #проверка на содержание NaN в столбце"
      ]
    },
    {
      "cell_type": "code",
      "execution_count": 8,
      "metadata": {
        "id": "mizgbp-Noewx"
      },
      "outputs": [],
      "source": []
    },
    {
      "cell_type": "markdown",
      "metadata": {
        "id": "2T7ET0UlC_4P"
      },
      "source": [
        "### target"
      ]
    },
    {
      "cell_type": "code",
      "execution_count": 9,
      "metadata": {
        "colab": {
          "base_uri": "https://localhost:8080/"
        },
        "id": "nL0dngE679xa",
        "outputId": "1f1ff6d4-de5a-4ea8-e5a8-e0dba35fd84e"
      },
      "outputs": [
        {
          "output_type": "execute_result",
          "data": {
            "text/plain": [
              "$225,000     1462\n",
              "$275,000     1355\n",
              "$250,000     1312\n",
              "$350,000     1296\n",
              "$299,900     1276\n",
              "             ... \n",
              "$390,359        1\n",
              "$458,900+       1\n",
              "274,359         1\n",
              "$273,490+       1\n",
              "$171,306        1\n",
              "Name: target, Length: 43939, dtype: int64"
            ]
          },
          "metadata": {},
          "execution_count": 9
        }
      ],
      "source": [
        "data.target.value_counts() #обзор значений в столбце "
      ]
    },
    {
      "cell_type": "code",
      "execution_count": 10,
      "metadata": {
        "colab": {
          "base_uri": "https://localhost:8080/"
        },
        "id": "FCQ9ydfhvg5H",
        "outputId": "fd875688-3e2d-45b1-855f-a755079698ca"
      },
      "outputs": [
        {
          "output_type": "stream",
          "name": "stderr",
          "text": [
            "/usr/local/lib/python3.7/dist-packages/ipykernel_launcher.py:1: FutureWarning: The default value of regex will change from True to False in a future version. In addition, single character regular expressions will *not* be treated as literal strings when regex=True.\n",
            "  \"\"\"Entry point for launching an IPython kernel.\n"
          ]
        }
      ],
      "source": [
        "data['new_target'] = data['target'].str.replace('+', '') #удаляем + из значений столбца"
      ]
    },
    {
      "cell_type": "code",
      "execution_count": 11,
      "metadata": {
        "colab": {
          "base_uri": "https://localhost:8080/"
        },
        "id": "SWeCeMYRTY01",
        "outputId": "5dbd1e0b-fafd-4dc1-8401-287f268e94d8"
      },
      "outputs": [
        {
          "output_type": "stream",
          "name": "stderr",
          "text": [
            "/usr/local/lib/python3.7/dist-packages/ipykernel_launcher.py:1: FutureWarning: The default value of regex will change from True to False in a future version. In addition, single character regular expressions will *not* be treated as literal strings when regex=True.\n",
            "  \"\"\"Entry point for launching an IPython kernel.\n"
          ]
        }
      ],
      "source": [
        "data['new_target'] = data['new_target'].str.replace('$', '') #удаляем $ из значений столбца"
      ]
    },
    {
      "cell_type": "code",
      "execution_count": 12,
      "metadata": {
        "id": "LCv3RpWOkmVW"
      },
      "outputs": [],
      "source": [
        "data['new_target'] = data['new_target'].str.replace(',', '') #удаляем , из значений столбца"
      ]
    },
    {
      "cell_type": "code",
      "execution_count": 13,
      "metadata": {
        "id": "xTqmYrj2ksLi"
      },
      "outputs": [],
      "source": [
        "data['new_target']=pd.to_numeric(data['new_target'], downcast='integer', errors='coerce') #приводим значения к типу integer"
      ]
    },
    {
      "cell_type": "code",
      "execution_count": 14,
      "metadata": {
        "colab": {
          "base_uri": "https://localhost:8080/"
        },
        "id": "DygfevqXTcV1",
        "outputId": "717dee8d-33f6-48ae-c48b-78b2eaf5ac8d"
      },
      "outputs": [
        {
          "output_type": "execute_result",
          "data": {
            "text/plain": [
              "225000.0    1806\n",
              "275000.0    1650\n",
              "250000.0    1644\n",
              "350000.0    1641\n",
              "325000.0    1562\n",
              "            ... \n",
              "218111.0       1\n",
              "136466.0       1\n",
              "236070.0       1\n",
              "752911.0       1\n",
              "171306.0       1\n",
              "Name: new_target, Length: 34184, dtype: int64"
            ]
          },
          "metadata": {},
          "execution_count": 14
        }
      ],
      "source": [
        "data['new_target'].value_counts() #обзор значений в столбце"
      ]
    },
    {
      "cell_type": "code",
      "execution_count": 15,
      "metadata": {
        "id": "NkbEvi_SbmK4"
      },
      "outputs": [],
      "source": [
        "data.drop(['target',], axis=1, inplace=True) #удаляем старый столбец с таргетом и грязными данными, будем в дальнейшем использовать новый"
      ]
    },
    {
      "cell_type": "code",
      "execution_count": 16,
      "metadata": {
        "id": "LHleBGfncnKJ"
      },
      "outputs": [],
      "source": [
        "data.dropna(subset=['new_target'], inplace=True) #удаляем строки, содержащие NaN"
      ]
    },
    {
      "cell_type": "markdown",
      "metadata": {
        "id": "v_L48mTCBrTJ"
      },
      "source": [
        "### status"
      ]
    },
    {
      "cell_type": "code",
      "execution_count": 17,
      "metadata": {
        "colab": {
          "base_uri": "https://localhost:8080/"
        },
        "id": "A7k6pV9Z9HB5",
        "outputId": "fcc63697-9893-444a-a9fa-c976b226f2bc"
      },
      "outputs": [
        {
          "output_type": "execute_result",
          "data": {
            "text/plain": [
              "for sale                   156100\n",
              "Active                     105206\n",
              "For sale                    43465\n",
              "foreclosure                  5677\n",
              "New construction             5459\n",
              "                            ...  \n",
              "Coming soon: Nov 8.             1\n",
              "Coming soon: Oct 29.            1\n",
              "Coming soon: Dec 15.            1\n",
              "Pending W/Backup Wanted         1\n",
              "Coming soon: Dec 23.            1\n",
              "Name: status, Length: 155, dtype: int64"
            ]
          },
          "metadata": {},
          "execution_count": 17
        }
      ],
      "source": [
        "data.status.value_counts() #краткий обзор значений"
      ]
    },
    {
      "cell_type": "code",
      "execution_count": 18,
      "metadata": {
        "colab": {
          "base_uri": "https://localhost:8080/"
        },
        "id": "uTigmEAsxF6v",
        "outputId": "d9976fd0-3296-43ca-a0d1-7d6b2e311928"
      },
      "outputs": [
        {
          "output_type": "execute_result",
          "data": {
            "text/plain": [
              "array(['Active', 'for sale', nan, 'New construction', 'New', 'For sale',\n",
              "       'Pending', 'P', 'Active/Contingent', ' / auction',\n",
              "       'Under Contract', 'Pre-foreclosure / auction',\n",
              "       'Under Contract   Showing', 'Pre-foreclosure',\n",
              "       'Under Contract Backups', 'Active Under Contract', 'foreclosure',\n",
              "       'Foreclosed', 'Option Pending', 'Under Contract Show', 'Auction',\n",
              "       'A Active', 'Contingent', 'Pending   Continue To Show',\n",
              "       'Price Change', 'Back on Market', 'Active Option', 'Foreclosure',\n",
              "       'Coming soon: Nov 21.', 'Contingent Finance And Inspection',\n",
              "       'Coming soon: Dec 4.', 'P Pending Sale', 'Coming soon: Nov 23.',\n",
              "       'Active With Contingencies', 'Pending Ab', 'Pf', 'Contingent Show',\n",
              "       'Contract P', 'Contingent Take Backup', 'Apartment for rent',\n",
              "       'Backup Contract', 'Option Contract', 'Pending Continue To Show',\n",
              "       'pending', 'Pending Inspection', 'Active Option Contract', 'C',\n",
              "       'Auction - Active', 'Contingent   Show', 'Pi',\n",
              "       'Due Diligence Period', 'Contract Contingent On Buyer Sale',\n",
              "       'U Under Contract', 'Coming soon: Nov 29.', 'Coming soon: Dec 2.',\n",
              "       'Active Contingency', 'Pending With Contingencies',\n",
              "       'Lease/Purchase Pending', 'Pending Bring Backup',\n",
              "       'C Continue Show', 'Pending Taking Backups',\n",
              "       'Offer Pending Signature', 'Under Contract - Show',\n",
              "       'Contingent Lien Holder Release', 'Active - Auction',\n",
              "       'Active With Offer', 'Coming soon: Nov 30.', 'Listing Extended',\n",
              "       'Pending, Continue to Show', 'For Sale', 'Contingency Contract',\n",
              "       'Coming soon: Dec 10.', 'Contingent Escape',\n",
              "       'Pending - Taking Backups', 'Coming soon: Dec 24.',\n",
              "       'Active Backup', 'Coming soon: Nov 14.', 'Coming soon: Nov 22.',\n",
              "       'Coming soon: Oct 21.', 'Under contract', 'Coming soon: Dec 14.',\n",
              "       'Coming soon: Oct 24.', 'Condo for rent', 'Active Contingent',\n",
              "       'Coming soon: Dec 18.', 'Pending Offer Approval', 'Pending In',\n",
              "       'Coming soon: Dec 16.', 'Ct', 'Pending W/Insp Finance',\n",
              "       'Coming soon: Dec 3.', 'Coming soon: Dec 25.',\n",
              "       'Coming soon: Nov 11.', 'Coming soon: Nov 28.',\n",
              "       'Contingent Finance and Inspection', 'Temporary Active',\n",
              "       'CT Insp - Inspection Contingency', 'Coming soon: Nov 17.',\n",
              "       'Pending (Do Not Show)', 'Contingency 48 Hr (+/ )',\n",
              "       'Pending   Continue To Show   Financing', 'Pending W/ Cont.',\n",
              "       'Coming soon: Dec 6.', 'Back On Market', 'Coming soon: Nov 27.',\n",
              "       'Pending W/Escape Clause', 'Coming soon: Nov 26.',\n",
              "       'Pending - Continue to Show', 'Closed', 'Under Contract - No Show',\n",
              "       'Contract', 'Coming soon: Dec 7.', 'Coming soon: Dec 27.',\n",
              "       'Coming soon: Dec 11.', 'Coming soon: Dec 5.',\n",
              "       'Coming soon: Nov 13.', 'Contingent   Release', 'Accepted Offer',\n",
              "       'Conditional Contract', 'Active - Contingent',\n",
              "       'Active with Contract', 'Coming soon: Nov 19.',\n",
              "       'Coming soon: Nov 8.', 'Coming soon: Oct 29.',\n",
              "       'Coming soon: Dec 15.', 'Pending W/Backup Wanted',\n",
              "       'Pending Backups Wanted', 'Pending Fe', 'Coming soon: Oct 30.',\n",
              "       'Contingent   No Show', 'Coming soon: Dec 9.', 'Pending Sale',\n",
              "       'Accepting backups', 'Coming soon: Dec 20.',\n",
              "       'Pending Take Backups', 'Contingent   Foreclosure',\n",
              "       'Conting Accpt Backups', 'Lease/Purchase', 'Coming soon: Dec 13.',\n",
              "       'Contingent - Sale of Home', 'Ps', 'Under Contract W/ Bckp',\n",
              "       'Re Activated', 'Pending - Backup Offer Requested',\n",
              "       'Coming soon: Dec 12.', 'Reactivated', 'Uc Continue To Show',\n",
              "       'Contingent - Financing', 'Coming soon: Nov 5.',\n",
              "       'Coming soon: Nov 12.', 'Coming soon: Dec 1.', 'Pending Sh',\n",
              "       'Coming soon: Nov 25.', 'Under Contract Taking Back Up Offers',\n",
              "       'Backup', 'Coming soon: Dec 23.'], dtype=object)"
            ]
          },
          "metadata": {},
          "execution_count": 18
        }
      ],
      "source": [
        "data.status.unique() #вывод уникальных значений, как видим из разнообразия представленных типов можно вычленить более унифицированные. Попробуем вычленить основные типы с помощью дальнейших преобразований"
      ]
    },
    {
      "cell_type": "code",
      "execution_count": 19,
      "metadata": {
        "id": "XMXY5iqne_kJ"
      },
      "outputs": [],
      "source": [
        "data['status'] = data.status.astype(str) #приводим к типу строка, понижаем регистр и берем первое значение строки \n",
        "data['status'] = data.status.apply(lambda x: x.split(' ')[0].lower())"
      ]
    },
    {
      "cell_type": "code",
      "execution_count": 20,
      "metadata": {
        "colab": {
          "base_uri": "https://localhost:8080/"
        },
        "id": "t-7ZDWGifL1W",
        "outputId": "c9f4be55-75a8-4812-ec58-230df14c9dc5"
      },
      "outputs": [
        {
          "output_type": "execute_result",
          "data": {
            "text/plain": [
              "array(['active', 'for', 'nan', 'new', 'pending', 'p', 'active/contingent',\n",
              "       '', 'under', 'pre-foreclosure', 'foreclosure', 'foreclosed',\n",
              "       'option', 'auction', 'a', 'contingent', 'price', 'back', 'coming',\n",
              "       'pf', 'contract', 'apartment', 'backup', 'c', 'pi', 'due', 'u',\n",
              "       'lease/purchase', 'offer', 'listing', 'pending,', 'contingency',\n",
              "       'condo', 'ct', 'temporary', 'closed', 'accepted', 'conditional',\n",
              "       'accepting', 'conting', 'ps', 're', 'reactivated', 'uc'],\n",
              "      dtype=object)"
            ]
          },
          "metadata": {},
          "execution_count": 20
        }
      ],
      "source": [
        "data.status.unique() #обзор получившихся уникальных значений"
      ]
    },
    {
      "cell_type": "code",
      "execution_count": 21,
      "metadata": {
        "id": "PS6FmMWixmt_"
      },
      "outputs": [],
      "source": [
        "def transform_status(\n",
        "    value: str\n",
        "):  \n",
        "    if isinstance(value, str):\n",
        "        if  value in ['for']:\n",
        "            return 'for sale'\n",
        "        if  value in ['nan', '']:\n",
        "            return 'not known'\n",
        "        if  value in ['a', 'active/contingent']:\n",
        "            return 'active'\n",
        "        if  value in ['price']:\n",
        "            return 'price change'\n",
        "        if  value in ['back', 'backup']:\n",
        "            return 'back on market'\n",
        "        if  value in ['coming', 'c']:\n",
        "            return 'coming soon'\n",
        "        if value in ['p', 'pi', 'ps']:\n",
        "            return 'pending'\n",
        "        if value in ['u', 'uc']:\n",
        "            return 'under'\n",
        "        if value in ['re']:\n",
        "            return 'reactivated'\n",
        "        if value in ['ct']:\n",
        "            return 'contract'\n",
        "        if value in ['pre-foreclosure', 'foreclosure', 'foreclosed']:\n",
        "            return 'foreclosure'\n",
        "        if value in ['accepting', 'accepted']:\n",
        "            return 'accepted'\n",
        "        if value in ['contingency', 'conting']:\n",
        "            return 'contingency'\n",
        "        if value in ['condo', 'conditional']:\n",
        "            return 'conditional'\n",
        "\n",
        "    return value\n",
        "data.status=data.status.apply(transform_status) #функция для преобразования, так как видно,что некоторые аббревиатуры используются для более полных категорий,например"
      ]
    },
    {
      "cell_type": "code",
      "execution_count": 22,
      "metadata": {
        "colab": {
          "base_uri": "https://localhost:8080/"
        },
        "id": "EEA982A1ooJe",
        "outputId": "efcdf278-a5b0-4b3a-af96-e3916a11882b"
      },
      "outputs": [
        {
          "output_type": "execute_result",
          "data": {
            "text/plain": [
              "array(['active', 'for sale', 'not known', 'new', 'pending', 'under',\n",
              "       'foreclosure', 'option', 'auction', 'contingent', 'price change',\n",
              "       'back on market', 'coming soon', 'pf', 'contract', 'apartment',\n",
              "       'due', 'lease/purchase', 'offer', 'listing', 'pending,',\n",
              "       'contingency', 'conditional', 'temporary', 'closed', 'accepted',\n",
              "       'reactivated'], dtype=object)"
            ]
          },
          "metadata": {},
          "execution_count": 22
        }
      ],
      "source": [
        "data.status.unique() #обзор получившихся в итоге уникальных значений"
      ]
    },
    {
      "cell_type": "markdown",
      "metadata": {
        "id": "kbNZbm5rBw3A"
      },
      "source": [
        "### private pool"
      ]
    },
    {
      "cell_type": "code",
      "execution_count": 23,
      "metadata": {
        "colab": {
          "base_uri": "https://localhost:8080/"
        },
        "id": "5eT2cszn7wix",
        "outputId": "1ea22d7d-932a-42e3-85a5-fb4d9c152709"
      },
      "outputs": [
        {
          "output_type": "execute_result",
          "data": {
            "text/plain": [
              "Yes    4151\n",
              "Name: private pool, dtype: int64"
            ]
          },
          "metadata": {},
          "execution_count": 23
        }
      ],
      "source": [
        "data['private pool'].value_counts() #обзор значений в столбце"
      ]
    },
    {
      "cell_type": "code",
      "execution_count": 24,
      "metadata": {
        "id": "8DZ_QhwWDacD"
      },
      "outputs": [],
      "source": [
        "data.drop(['private pool',], axis=1, inplace=True) #удаляем столбец,так как значения совпадает со столбцом PrivatePool"
      ]
    },
    {
      "cell_type": "markdown",
      "metadata": {
        "id": "WyjRShaXB1Wq"
      },
      "source": [
        "### propertyType"
      ]
    },
    {
      "cell_type": "code",
      "execution_count": 25,
      "metadata": {
        "colab": {
          "base_uri": "https://localhost:8080/"
        },
        "id": "mOIW9YDx77N-",
        "outputId": "5cb77b18-ac9d-4572-853f-c20491db35db"
      },
      "outputs": [
        {
          "output_type": "execute_result",
          "data": {
            "text/plain": [
              "single-family home                                             91159\n",
              "Single Family                                                  61888\n",
              "Single Family Home                                             31725\n",
              "condo                                                          25878\n",
              "lot/land                                                       20532\n",
              "                                                               ...  \n",
              "1 Story, Contemporary, Other (See Remarks)                         1\n",
              "Custom, Elevated, Other                                            1\n",
              "Contemporary, Farmhouse                                            1\n",
              "2 Stories, Traditional, Mediterranean, Texas Hill Country          1\n",
              "Bilevel, Converted Dwelling, Loft with Bedrooms, Condo/Unit        1\n",
              "Name: propertyType, Length: 1279, dtype: int64"
            ]
          },
          "metadata": {},
          "execution_count": 25
        }
      ],
      "source": [
        "data['propertyType'].value_counts() #обзор значений в столбце"
      ]
    },
    {
      "cell_type": "code",
      "execution_count": 26,
      "metadata": {
        "colab": {
          "base_uri": "https://localhost:8080/"
        },
        "id": "yq1zRZwIEoNx",
        "outputId": "ba72c862-7e76-430b-a0b5-8bf40a779f16"
      },
      "outputs": [
        {
          "output_type": "execute_result",
          "data": {
            "text/plain": [
              "array(['Single Family Home', 'single-family home', 'lot/land', ...,\n",
              "       'Cabin/Lodge, Contemporary, Converted Barn, Cottage, Loft with Bedrooms, Log Home, Post & Beam',\n",
              "       'Lake House, Single Detached, Tudor',\n",
              "       'Bilevel, Converted Dwelling, Loft with Bedrooms, Condo/Unit'],\n",
              "      dtype=object)"
            ]
          },
          "metadata": {},
          "execution_count": 26
        }
      ],
      "source": [
        "data['propertyType'].unique() #обзор уникальных значений"
      ]
    },
    {
      "cell_type": "code",
      "execution_count": 27,
      "metadata": {
        "id": "ej1ZXGahE6rC"
      },
      "outputs": [],
      "source": [
        "data['propertyType'] = data['propertyType'].astype(str) #преобразование значений в строках\n",
        "data['propertyType'] = data['propertyType'].apply(lambda x: x.split(' ')[0].lower().replace(',', ''))"
      ]
    },
    {
      "cell_type": "code",
      "execution_count": 28,
      "metadata": {
        "colab": {
          "base_uri": "https://localhost:8080/"
        },
        "id": "LSPRUbdBFKB1",
        "outputId": "6b36f23a-7080-4c5f-a40e-6df0937cf851"
      },
      "outputs": [
        {
          "output_type": "execute_result",
          "data": {
            "text/plain": [
              "array(['single', 'single-family', 'lot/land', 'townhouse', 'florida',\n",
              "       'nan', 'coop', 'english', '2', 'multi-family', 'penthouse',\n",
              "       'condo', 'land', 'condo/townhome/row', '', 'detached', '1',\n",
              "       'other', 'colonial', 'transitional', 'high', 'mobile/manufactured',\n",
              "       'tri-level', 'craftsman', 'federal', 'multi', 'traditional',\n",
              "       'custom', 'cooperative', 'contemporary/modern', 'cape', 'mobile',\n",
              "       'miscellaneous', 'mfd/mobile', 'bungalow', 'spanish/mediterranean',\n",
              "       'contemporary', 'multi-level', 'condo/unit', 'ranch', 'low-rise',\n",
              "       'rancher', 'urban', 'two', 'garden', 'farms/ranches', 'a-frame',\n",
              "       'attached', 'one', 'georgian', 'dwelling', 'victorian',\n",
              "       'apartment', 'cluster', 'manufactured', 'condominium',\n",
              "       'condo/townhome', 'hi', 'mediterranean', 'cabin', 'bermuda',\n",
              "       'split', 'farm', 'split-level', 'singlefamilyresidence', 'log',\n",
              "       'bilevel', 'mountain', 'commercial/industrial', 'cottage',\n",
              "       'high-rise', 'mid-rise', 'tudor/provincial', 'straight',\n",
              "       'houseboat', 'mid-century', 'french', 'garden/zero', 'charleston',\n",
              "       '4+', 'farm/ranch', 'split-entry', 'co-op', 'residential',\n",
              "       'unknown', '3', 'courtyard', 'resort', 'elevated', 'multiple',\n",
              "       'tudor', 'designated', '3+', 'quad', 'arts', 'multiplex',\n",
              "       'fourplex', 'spanish', 'historical/conservation', 'camp', 'santa',\n",
              "       'duplex', 'european', 'key', 'bi-level', 'art', 'coach/carriage',\n",
              "       'loft/balcony', 'farmhouse', 'less', 'carriage', '5-9', 'texas',\n",
              "       'lake', 'hi-rise', 'dutch', 'loft', 'raised', 'country',\n",
              "       'territorial/santa', 'modernist', 'stilt', 'coastal', 'end',\n",
              "       'historical', 'cabin/lodge', 'beaux', 'farmhouse/national',\n",
              "       'trinity', '4-plex', 'conventional', 'old', 'historic/older',\n",
              "       'store', 'side-by-side', 'triplex', 'tuscan', 'chalet', '10+',\n",
              "       'gambrel', 'modern', 'step', 'rustic', 'patio', 'studio',\n",
              "       '2-story', 'townhome', 'yes', 'new', 'back-to-back', 'airlite',\n",
              "       'architectural', 'low', 'flat', 'american', 'denver', 'antique',\n",
              "       '30x40', 'post', 'manuf/mobile', 'guest', 'southern', '2.5',\n",
              "       'historic', 'double-wide', 'modular/prefab', 'hill', 'mid',\n",
              "       'expanded', 'townhouse-interior', 'mid-level', 'garage',\n",
              "       'single-wide', 'villa', 'manor', 'victorian/federal', 'forest',\n",
              "       'walk-out', 'townhouse-end', 'queen', 'ground', 'conversion',\n",
              "       'fairway', 'moorage', 'warehouse', 'prairie', 'cottage/camp'],\n",
              "      dtype=object)"
            ]
          },
          "metadata": {},
          "execution_count": 28
        }
      ],
      "source": [
        "data['propertyType'].unique()\n",
        "#требуется более точечная ифна с этим сериес,чем просто обрезка данных, тут и данные о стиле интерьера, и данные о колве комнат"
      ]
    },
    {
      "cell_type": "code",
      "execution_count": 29,
      "metadata": {
        "id": "mDZWjH2uLFSc"
      },
      "outputs": [],
      "source": [
        "def transform_status(\n",
        "    value: str\n",
        "):  \n",
        "    if isinstance(value, str):\n",
        "        if  value in ['nan', '']:\n",
        "            return 'not known'\n",
        "        if  value in ['1']:\n",
        "            return 'one'\n",
        "        if  value in ['2', '2.5', '2-story']:\n",
        "            return 'two'\n",
        "        if  value in ['3']:\n",
        "            return 'back on market'\n",
        "        if  value in ['coming', 'c']:\n",
        "            return 'coming soon'\n",
        "        if value in ['p', 'pi', 'ps']:\n",
        "            return 'pending'\n",
        "        if value in ['u', 'uc']:\n",
        "            return 'under'\n",
        "        if value in ['re']:\n",
        "            return 'reactivated'\n",
        "        if value in ['ct']:\n",
        "            return 'contract'\n",
        "        if value in ['pre-foreclosure', 'foreclosure', 'foreclosed']:\n",
        "            return 'foreclosure'\n",
        "        if value in ['accepting', 'accepted']:\n",
        "            return 'accepted'\n",
        "        if value in ['contingency', 'conting']:\n",
        "            return 'contingency'\n",
        "        if value in ['condo', 'conditional']:\n",
        "            return 'conditional'\n",
        "\n",
        "    return value\n",
        "data.status=data.status.apply(transform_status) #функция для снижения вариативности представленных значений, так как некоторые повторяются"
      ]
    },
    {
      "cell_type": "markdown",
      "metadata": {
        "id": "tKw7eaBBB5Yj"
      },
      "source": [
        "### street"
      ]
    },
    {
      "cell_type": "code",
      "execution_count": 30,
      "metadata": {
        "colab": {
          "base_uri": "https://localhost:8080/"
        },
        "id": "J4ujChz977X2",
        "outputId": "dd4033c5-8d71-4256-f796-4524c2591416"
      },
      "outputs": [
        {
          "output_type": "execute_result",
          "data": {
            "text/plain": [
              "Address Not Disclosed               672\n",
              "Undisclosed Address                 516\n",
              "(undisclosed Address)               391\n",
              "Address Not Available               175\n",
              "Unknown Address                      72\n",
              "                                   ... \n",
              "Lynmar Plan in Rough Hollow           1\n",
              "MLS #: CORC5922640                    1\n",
              "7784 Rosedale St                      1\n",
              "Buildable plan: Residence 2 Plan      1\n",
              "5983 Midcrown Dr                      1\n",
              "Name: street, Length: 334447, dtype: int64"
            ]
          },
          "metadata": {},
          "execution_count": 30
        }
      ],
      "source": [
        "data.street.value_counts() #обзор значений в столбце"
      ]
    },
    {
      "cell_type": "code",
      "execution_count": 31,
      "metadata": {
        "id": "L5H3j4TWkbaT"
      },
      "outputs": [],
      "source": [
        "data['street']=data['street'].fillna(value='not known') #заполнение отсутствующих значений"
      ]
    },
    {
      "cell_type": "markdown",
      "metadata": {
        "id": "mLkd3HZfB-pH"
      },
      "source": [
        "### baths"
      ]
    },
    {
      "cell_type": "code",
      "execution_count": 32,
      "metadata": {
        "colab": {
          "base_uri": "https://localhost:8080/"
        },
        "id": "-C9iNGNy77l4",
        "outputId": "07e6f909-19a4-45c5-bc95-5cc76bd027d7"
      },
      "outputs": [
        {
          "output_type": "execute_result",
          "data": {
            "text/plain": [
              "2 Baths          51953\n",
              "3 Baths          35356\n",
              "2                20429\n",
              "2.0              16355\n",
              "4 Baths          14712\n",
              "                 ...  \n",
              "32                   1\n",
              "5.25 Baths           1\n",
              "41.0                 1\n",
              "Bathrooms: 21        1\n",
              "44.0                 1\n",
              "Name: baths, Length: 225, dtype: int64"
            ]
          },
          "metadata": {},
          "execution_count": 32
        }
      ],
      "source": [
        "data.baths.value_counts() #обзор значений в столбце"
      ]
    },
    {
      "cell_type": "code",
      "execution_count": 33,
      "metadata": {
        "id": "n-9o3J7pZl4r"
      },
      "outputs": [],
      "source": [
        "data['baths']=pd.to_numeric(data['baths'],  errors='coerce') #приведение к числовому типу"
      ]
    },
    {
      "cell_type": "code",
      "execution_count": 34,
      "metadata": {
        "id": "ht6YM8EBcD1R"
      },
      "outputs": [],
      "source": [
        "data['baths']=data['baths'].fillna(value=data['baths'].mean()) #заполнение отсутствующих значений"
      ]
    },
    {
      "cell_type": "code",
      "execution_count": 35,
      "metadata": {
        "id": "a8yVYzTIdG5_"
      },
      "outputs": [],
      "source": [
        "data['baths']=data['baths'].astype(float).apply(lambda x:round(x, 1)) #приведение к типу float"
      ]
    },
    {
      "cell_type": "code",
      "execution_count": 36,
      "metadata": {
        "colab": {
          "base_uri": "https://localhost:8080/"
        },
        "id": "LDl7NFfZdW6U",
        "outputId": "85274ba8-c74e-4d50-e589-3973041c1b13"
      },
      "outputs": [
        {
          "output_type": "execute_result",
          "data": {
            "text/plain": [
              "array([  3.5,   4.2,   2. ,   3. ,   4. ,   1. ,   4.5,   5. ,   1.5,\n",
              "         2.5,   8. ,   0. ,   7. ,   6. ,   5.5, 750. ,  10. ,  18. ,\n",
              "         9. ,  12. ,   6.5,  14. ,  17. ,  16. ,   7.5,  11. ,  22. ,\n",
              "        13. ,  32. ,  26. ,   9.5,   8.5,  35. ,  40. ,  29. ,  15. ,\n",
              "        21. ,  20. ,  55. ,  41. ,  10.5,  27. ,  12.5,  24. ,  23. ,\n",
              "        34. ,  64. ,  30. ,  44. ])"
            ]
          },
          "metadata": {},
          "execution_count": 36
        }
      ],
      "source": [
        "data['baths'].unique() #обзор уникальных значений в столбце"
      ]
    },
    {
      "cell_type": "markdown",
      "metadata": {
        "id": "kuZ2rmtiCBRK"
      },
      "source": [
        "### homeFacts"
      ]
    },
    {
      "cell_type": "code",
      "execution_count": 37,
      "metadata": {
        "colab": {
          "base_uri": "https://localhost:8080/"
        },
        "id": "_gCQu0ZC77xS",
        "outputId": "e6e9394f-a08f-4c29-b8da-9f826392a03b"
      },
      "outputs": [
        {
          "output_type": "execute_result",
          "data": {
            "text/plain": [
              "{'atAGlanceFacts': [{'factValue': '', 'factLabel': 'Year built'}, {'factValue': '', 'factLabel': 'Remodeled year'}, {'factValue': '', 'factLabel': 'Heating'}, {'factValue': '', 'factLabel': 'Cooling'}, {'factValue': '', 'factLabel': 'Parking'}, {'factValue': '—', 'factLabel': 'lotsize'}, {'factValue': None, 'factLabel': 'Price/sqft'}]}                                                     7142\n",
              "{'atAGlanceFacts': [{'factValue': None, 'factLabel': 'Year built'}, {'factValue': None, 'factLabel': 'Remodeled year'}, {'factValue': None, 'factLabel': 'Heating'}, {'factValue': None, 'factLabel': 'Cooling'}, {'factValue': None, 'factLabel': 'Parking'}, {'factValue': None, 'factLabel': 'lotsize'}, {'factValue': None, 'factLabel': 'Price/sqft'}]}                                          3484\n",
              "{'atAGlanceFacts': [{'factValue': '', 'factLabel': 'Year built'}, {'factValue': '', 'factLabel': 'Remodeled year'}, {'factValue': '', 'factLabel': 'Heating'}, {'factValue': '', 'factLabel': 'Cooling'}, {'factValue': '', 'factLabel': 'Parking'}, {'factValue': '10000', 'factLabel': 'lotsize'}, {'factValue': None, 'factLabel': 'Price/sqft'}]}                                                  533\n",
              "{'atAGlanceFacts': [{'factValue': '', 'factLabel': 'Year built'}, {'factValue': '', 'factLabel': 'Remodeled year'}, {'factValue': '', 'factLabel': 'Heating'}, {'factValue': '', 'factLabel': 'Cooling'}, {'factValue': '', 'factLabel': 'Parking'}, {'factValue': '', 'factLabel': 'lotsize'}, {'factValue': None, 'factLabel': 'Price/sqft'}]}                                                       529\n",
              "{'atAGlanceFacts': [{'factValue': '', 'factLabel': 'Year built'}, {'factValue': '', 'factLabel': 'Remodeled year'}, {'factValue': '', 'factLabel': 'Heating'}, {'factValue': '', 'factLabel': 'Cooling'}, {'factValue': '', 'factLabel': 'Parking'}, {'factValue': '10,000 Sq. Ft.', 'factLabel': 'lotsize'}, {'factValue': None, 'factLabel': 'Price/sqft'}]}                                         370\n",
              "                                                                                                                                                                                                                                                                                                                                                                                                      ... \n",
              "{'atAGlanceFacts': [{'factValue': 'No Data', 'factLabel': 'Year built'}, {'factValue': None, 'factLabel': 'Remodeled year'}, {'factValue': 'Forced air', 'factLabel': 'Heating'}, {'factValue': 'Central', 'factLabel': 'Cooling'}, {'factValue': '1 space', 'factLabel': 'Parking'}, {'factValue': None, 'factLabel': 'lotsize'}, {'factValue': '$164', 'factLabel': 'Price/sqft'}]}                    1\n",
              "{'atAGlanceFacts': [{'factValue': '1975', 'factLabel': 'Year built'}, {'factValue': '1975', 'factLabel': 'Remodeled year'}, {'factValue': 'Central', 'factLabel': 'Heating'}, {'factValue': 'Electric', 'factLabel': 'Cooling'}, {'factValue': '', 'factLabel': 'Parking'}, {'factValue': '—', 'factLabel': 'lotsize'}, {'factValue': '$181 / Sq. Ft.', 'factLabel': 'Price/sqft'}]}                     1\n",
              "{'atAGlanceFacts': [{'factValue': '2019', 'factLabel': 'Year built'}, {'factValue': '', 'factLabel': 'Remodeled year'}, {'factValue': '', 'factLabel': 'Heating'}, {'factValue': 'Central A/C (Electric), Heat Pump', 'factLabel': 'Cooling'}, {'factValue': '', 'factLabel': 'Parking'}, {'factValue': '—', 'factLabel': 'lotsize'}, {'factValue': '$269 / Sq. Ft.', 'factLabel': 'Price/sqft'}]}       1\n",
              "{'atAGlanceFacts': [{'factValue': '2010', 'factLabel': 'Year built'}, {'factValue': '2010', 'factLabel': 'Remodeled year'}, {'factValue': 'Forced Air', 'factLabel': 'Heating'}, {'factValue': 'Central', 'factLabel': 'Cooling'}, {'factValue': '2', 'factLabel': 'Parking'}, {'factValue': '9.17 acres', 'factLabel': 'lotsize'}, {'factValue': '$1,008/sqft', 'factLabel': 'Price/sqft'}]}            1\n",
              "{'atAGlanceFacts': [{'factValue': '2019', 'factLabel': 'Year built'}, {'factValue': None, 'factLabel': 'Remodeled year'}, {'factValue': 'Electric', 'factLabel': 'Heating'}, {'factValue': 'Central', 'factLabel': 'Cooling'}, {'factValue': 'No Data', 'factLabel': 'Parking'}, {'factValue': '6,969 sqft', 'factLabel': 'lotsize'}, {'factValue': '$140', 'factLabel': 'Price/sqft'}]}                 1\n",
              "Name: homeFacts, Length: 318615, dtype: int64"
            ]
          },
          "metadata": {},
          "execution_count": 37
        }
      ],
      "source": [
        "data.homeFacts.value_counts() #обзор значений в столбце"
      ]
    },
    {
      "cell_type": "code",
      "execution_count": 38,
      "metadata": {
        "id": "LqZTGf_TFq3Z"
      },
      "outputs": [],
      "source": [
        "#q = list()\n",
        "#for cur_dict in eval(q):\n",
        "#   for key in eval(cur_dict):\n",
        "#    for item in cur_dict[key]['atAGlanceFacts']:\n",
        "#      if item['factValue'] not in ['', '-', None]:\n",
        "#          new_q.append(item)"
      ]
    },
    {
      "cell_type": "markdown",
      "metadata": {
        "id": "Bn9FNoWICMaX"
      },
      "source": [
        "### fireplace"
      ]
    },
    {
      "cell_type": "code",
      "execution_count": 39,
      "metadata": {
        "colab": {
          "base_uri": "https://localhost:8080/"
        },
        "id": "tU7zu0v5779U",
        "outputId": "209b2b63-83a4-4f7f-df31-2938cebfff75"
      },
      "outputs": [
        {
          "output_type": "execute_result",
          "data": {
            "text/plain": [
              "yes                                                                     49925\n",
              "Yes                                                                     20619\n",
              "1                                                                       14533\n",
              "2                                                                        2432\n",
              "Not Applicable                                                           1990\n",
              "                                                                        ...  \n",
              "Gas, Wood Burning, Two, Propane Logs Convey                                 1\n",
              "Free-standing, Insert, Wood                                                 1\n",
              "Wood Burning, Attached Fireplace Doors/Screen, Electric, Gas Starter        1\n",
              "One, Living Room                                                            1\n",
              "Ceiling Fan, SMAPL, Utility Connection, Walk-In Closets                     1\n",
              "Name: fireplace, Length: 1652, dtype: int64"
            ]
          },
          "metadata": {},
          "execution_count": 39
        }
      ],
      "source": [
        "data['fireplace'].value_counts() #обзор значений в столбце"
      ]
    },
    {
      "cell_type": "code",
      "execution_count": 40,
      "metadata": {
        "id": "amg-qDQAboYc"
      },
      "outputs": [],
      "source": [
        "def transform_fireplace(\n",
        "    value: str\n",
        "):  \n",
        "    if isinstance(value, str):\n",
        "        if  value in value:\n",
        "          return 'yes'\n",
        "data['fireplace']=data['fireplace'].apply(transform_fireplace) #преобразование данных в столбце"
      ]
    },
    {
      "cell_type": "code",
      "execution_count": 41,
      "metadata": {
        "id": "vjjpAj0EiCOi"
      },
      "outputs": [],
      "source": [
        "data['fireplace']=data['fireplace'].fillna(value='not') #заполнение отсутствующих значений"
      ]
    },
    {
      "cell_type": "code",
      "execution_count": 42,
      "metadata": {
        "colab": {
          "base_uri": "https://localhost:8080/"
        },
        "id": "7wwVXsO3lMf7",
        "outputId": "fc02261b-ed11-41e8-fa33-8fd3eaa0a677"
      },
      "outputs": [
        {
          "output_type": "execute_result",
          "data": {
            "text/plain": [
              "not    271878\n",
              "yes    102428\n",
              "Name: fireplace, dtype: int64"
            ]
          },
          "metadata": {},
          "execution_count": 42
        }
      ],
      "source": [
        "data['fireplace'].value_counts() #обзор значений в столбце"
      ]
    },
    {
      "cell_type": "markdown",
      "metadata": {
        "id": "Sh0daj9ICPlx"
      },
      "source": [
        "### city"
      ]
    },
    {
      "cell_type": "code",
      "execution_count": 43,
      "metadata": {
        "colab": {
          "base_uri": "https://localhost:8080/"
        },
        "id": "0Ku0RbqB78IU",
        "outputId": "641609f7-480d-493d-c5c8-813b8840d349"
      },
      "outputs": [
        {
          "output_type": "execute_result",
          "data": {
            "text/plain": [
              "Houston            24388\n",
              "San Antonio        15496\n",
              "Miami              15385\n",
              "Jacksonville        9890\n",
              "Dallas              8750\n",
              "                   ...  \n",
              "Los Altos Hills        1\n",
              "Lake worth             1\n",
              "Lisle                  1\n",
              "Arrington              1\n",
              "Blue Springs           1\n",
              "Name: city, Length: 2019, dtype: int64"
            ]
          },
          "metadata": {},
          "execution_count": 43
        }
      ],
      "source": [
        "data['city'].value_counts() #обзор значений в столбце"
      ]
    },
    {
      "cell_type": "code",
      "execution_count": 44,
      "metadata": {
        "id": "DeDGa1c4j_sR"
      },
      "outputs": [],
      "source": [
        "data['city']=data['city'].fillna(value='Houston')#заполнение отсутствующих значений наиболее часто встречаемым значением"
      ]
    },
    {
      "cell_type": "markdown",
      "metadata": {
        "id": "eUr_ZNrjCR0P"
      },
      "source": [
        "### schools"
      ]
    },
    {
      "cell_type": "code",
      "execution_count": 45,
      "metadata": {
        "colab": {
          "base_uri": "https://localhost:8080/"
        },
        "id": "jpClOAuN78Xx",
        "outputId": "e27f1755-8eda-489c-8262-a81651c74b72"
      },
      "outputs": [
        {
          "output_type": "execute_result",
          "data": {
            "text/plain": [
              "[{'rating': [], 'data': {'Distance': [], 'Grades': []}, 'name': []}]                                                                                                                                                                                                                                                                                       4169\n",
              "[{'rating': ['4/10', '5/10', '6/10'], 'data': {'Distance': ['39.69mi', '39.69mi', '39.69mi'], 'Grades': ['9-12', '6-8', 'PK-5']}, 'name': ['Fort Hancock High School', 'Fort Hancock Middle School', 'Benito Martinez Elementary School']}]                                                                                                                 222\n",
              "[{'rating': ['4/10', '6/10', '3/10'], 'data': {'Distance': ['3.62mi', '3.62mi', '3.62mi'], 'Grades': ['6-8', 'PK-5', '9-12']}, 'name': ['Horizon Middle School', 'Desert Hills Elementary School', 'Horizon High School']}]                                                                                                                                 168\n",
              "[{'rating': ['5/10', '3/10', '5/10'], 'data': {'Distance': ['9.71mi', '8.92mi', '1.56mi'], 'Grades': ['5-8', '9-12', 'K-4']}, 'name': ['Cheatham Middle School', 'Cheatham Co Central', 'West Cheatham Elementary School']}]                                                                                                                                133\n",
              "[{'rating': ['10/10', '2/10'], 'data': {'Distance': ['22.4 mi', '1.5 mi'], 'Grades': ['PK-8', '9-12']}, 'name': ['Air Base Elementary School', 'Booker T. Washington Senior High School']}]                                                                                                                                                                  90\n",
              "                                                                                                                                                                                                                                                                                                                                                           ... \n",
              "[{'rating': ['5', '3', '5', '5', '4'], 'data': {'Distance': ['4.6 mi', '0.7 mi', '1.0 mi', '1.4 mi', '1.2 mi'], 'Grades': ['Preschool to 8', 'Preschool to 8', 'Preschool to 8', 'Preschool to 8', '9 to 12']}, 'name': ['Luke School', 'El Mirage School', 'Surprise Elementary School', 'Dysart Elementary School', 'Dysart High School']}]                 1\n",
              "[{'rating': ['10', '7', '5'], 'data': {'Distance': ['0.7 mi', '1.0 mi', '2.2 mi'], 'Grades': ['Preschool to 5', '6 to 8', '9 to 12']}, 'name': ['West University Elementary School', 'Pershing Middle School', 'Lamar High School']}]                                                                                                                         1\n",
              "[{'rating': ['None/10', '2/10', '3/10'], 'data': {'Distance': ['1.01mi', '0.92mi', '0.39mi'], 'Grades': ['6-8', '9-12', 'PK-5']}, 'name': ['K O Knudson Junior High School', 'Valley High School', 'Will Beckley Elementary School']}]                                                                                                                        1\n",
              "[{'rating': ['9', '7', '3', '7', '7'], 'data': {'Distance': ['2.0 mi', '6.5 mi', '2.6 mi', '2.6 mi', '6.5 mi'], 'Grades': ['Preschool to 8', 'K to 8', '6 to 8', '9 to 12', '9 to 12']}, 'name': ['Windy Ridge K-8', 'Cornerstone Academy Charter', 'Chain of Lakes Middle School', 'Olympia High School', 'Cornerstone Charter Academy High School']}]       1\n",
              "[{'rating': ['NA', 'NA', 'NA'], 'data': {'Distance': ['1.3 mi', '0.5 mi', '1.9 mi'], 'Grades': ['PK-5', '6-8', '9-12']}, 'name': ['Hiliard El', 'Forest Brook Middle', 'North Forest High School']}]                                                                                                                                                          1\n",
              "Name: schools, Length: 295066, dtype: int64"
            ]
          },
          "metadata": {},
          "execution_count": 45
        }
      ],
      "source": [
        "data.schools.value_counts() #обзор значений в столбце"
      ]
    },
    {
      "cell_type": "markdown",
      "metadata": {
        "id": "RH3he3K8CU0b"
      },
      "source": [
        "### sqft"
      ]
    },
    {
      "cell_type": "code",
      "execution_count": 46,
      "metadata": {
        "colab": {
          "base_uri": "https://localhost:8080/"
        },
        "id": "2Ih0TsWu78ig",
        "outputId": "17c6f00d-67da-4052-ca6b-04795c7cbc0e"
      },
      "outputs": [
        {
          "output_type": "execute_result",
          "data": {
            "text/plain": [
              "0                                          11853\n",
              "1,200 sqft                                   824\n",
              "1,000 sqft                                   643\n",
              "1,100 sqft                                   566\n",
              "1,800 sqft                                   558\n",
              "                                           ...  \n",
              "101,415 sqft                                   1\n",
              "3938                                           1\n",
              "Total interior livable area: 4,580 sqft        1\n",
              "32,552 sqft                                    1\n",
              "Total interior livable area: 4,615 sqft        1\n",
              "Name: sqft, Length: 25369, dtype: int64"
            ]
          },
          "metadata": {},
          "execution_count": 46
        }
      ],
      "source": [
        "data['sqft'].value_counts() #обзор значений в столбце"
      ]
    },
    {
      "cell_type": "code",
      "execution_count": 47,
      "metadata": {
        "colab": {
          "base_uri": "https://localhost:8080/"
        },
        "id": "k2VCpl6kkP9p",
        "outputId": "798e1a1c-e090-4fda-f9f4-e49ef1fe140a"
      },
      "outputs": [
        {
          "output_type": "execute_result",
          "data": {
            "text/plain": [
              "array(['2900', '1,947 sqft', '3,000 sqft', ..., '4371', '13,870 sqft',\n",
              "       'Total interior livable area: 4,615 sqft'], dtype=object)"
            ]
          },
          "metadata": {},
          "execution_count": 47
        }
      ],
      "source": [
        "data['sqft'].unique() #обзор уникальных значений"
      ]
    },
    {
      "cell_type": "code",
      "execution_count": 48,
      "metadata": {
        "id": "Pq7UvjqOk4Ti"
      },
      "outputs": [],
      "source": [
        "data['sqft'] = pd.to_numeric(data['sqft'], errors='coerce') #приведение к числовому типу"
      ]
    },
    {
      "cell_type": "code",
      "execution_count": 49,
      "metadata": {
        "colab": {
          "base_uri": "https://localhost:8080/"
        },
        "id": "xpW7EouAlAuh",
        "outputId": "19a54dbe-6c76-4805-e6fe-e48e4d6b74b7"
      },
      "outputs": [
        {
          "output_type": "execute_result",
          "data": {
            "text/plain": [
              "0.0       11853\n",
              "960.0       284\n",
              "800.0       257\n",
              "900.0       234\n",
              "850.0       177\n",
              "          ...  \n",
              "5031.0        1\n",
              "4325.0        1\n",
              "4974.0        1\n",
              "469.0         1\n",
              "4371.0        1\n",
              "Name: sqft, Length: 5427, dtype: int64"
            ]
          },
          "metadata": {},
          "execution_count": 49
        }
      ],
      "source": [
        "data['sqft'].value_counts() #обзор значений в столбце"
      ]
    },
    {
      "cell_type": "code",
      "execution_count": 50,
      "metadata": {
        "id": "8vzpWEHSlQr7"
      },
      "outputs": [],
      "source": [
        "data['sqft']=data['sqft'].fillna(round(data['sqft'].mean(), 1)) #заполнение отсутствующих значений "
      ]
    },
    {
      "cell_type": "code",
      "execution_count": 51,
      "metadata": {
        "colab": {
          "base_uri": "https://localhost:8080/"
        },
        "id": "_LWo4L3Vlhfm",
        "outputId": "4f6b8f60-8dec-4dc4-9c75-6a87e43766d1"
      },
      "outputs": [
        {
          "output_type": "execute_result",
          "data": {
            "text/plain": [
              "8927.6    312718\n",
              "0.0        11853\n",
              "960.0        284\n",
              "800.0        257\n",
              "900.0        234\n",
              "           ...  \n",
              "5031.0         1\n",
              "4325.0         1\n",
              "4974.0         1\n",
              "469.0          1\n",
              "4371.0         1\n",
              "Name: sqft, Length: 5428, dtype: int64"
            ]
          },
          "metadata": {},
          "execution_count": 51
        }
      ],
      "source": [
        "data['sqft'].value_counts() #обзор значений в столбце"
      ]
    },
    {
      "cell_type": "markdown",
      "metadata": {
        "id": "8Uu9UnjWCXWo"
      },
      "source": [
        "### zipcode"
      ]
    },
    {
      "cell_type": "code",
      "execution_count": 52,
      "metadata": {
        "colab": {
          "base_uri": "https://localhost:8080/"
        },
        "id": "JAD-KWYK78s_",
        "outputId": "e640208b-0740-48f7-9acf-e66dd23f5bfd"
      },
      "outputs": [
        {
          "output_type": "execute_result",
          "data": {
            "text/plain": [
              "32137         2139\n",
              "33131         1551\n",
              "34747         1486\n",
              "78245         1383\n",
              "34759         1333\n",
              "              ... \n",
              "92683            1\n",
              "27610-2861       1\n",
              "27613-4042       1\n",
              "27612-5442       1\n",
              "44704            1\n",
              "Name: zipcode, Length: 4541, dtype: int64"
            ]
          },
          "metadata": {},
          "execution_count": 52
        }
      ],
      "source": [
        "data.zipcode.value_counts() #обзор значений в столбце"
      ]
    },
    {
      "cell_type": "code",
      "execution_count": 53,
      "metadata": {
        "id": "GP6joStU2Ynl"
      },
      "outputs": [],
      "source": [
        "data['zipcode'] = pd.to_numeric(data['zipcode'], errors='coerce') #приведение к числовому типу"
      ]
    },
    {
      "cell_type": "code",
      "execution_count": 54,
      "metadata": {
        "id": "AqOhZ9rh2Ynl"
      },
      "outputs": [],
      "source": [
        "data['zipcode']=data['zipcode'].fillna(0) #заполнение отсутствующих значений"
      ]
    },
    {
      "cell_type": "markdown",
      "metadata": {
        "id": "wzBnS6HnCZ8D"
      },
      "source": [
        "### beds"
      ]
    },
    {
      "cell_type": "code",
      "execution_count": 55,
      "metadata": {
        "colab": {
          "base_uri": "https://localhost:8080/"
        },
        "id": "FF9SrBdO783R",
        "outputId": "a43d162f-ab93-4c0f-b0c7-1e3b810d9e95"
      },
      "outputs": [
        {
          "output_type": "execute_result",
          "data": {
            "text/plain": [
              "3 Beds        52947\n",
              "4 Beds        35149\n",
              "3             31191\n",
              "2 Beds        26084\n",
              "4             19915\n",
              "              ...  \n",
              "8.93 acres        1\n",
              "5,510 sqft        1\n",
              "3.8 acres         1\n",
              "7,104 sqft        1\n",
              "8,479 sqft        1\n",
              "Name: beds, Length: 1146, dtype: int64"
            ]
          },
          "metadata": {},
          "execution_count": 55
        }
      ],
      "source": [
        "data['beds'].value_counts() #обзор значений в столбце"
      ]
    },
    {
      "cell_type": "code",
      "execution_count": 56,
      "metadata": {
        "colab": {
          "base_uri": "https://localhost:8080/"
        },
        "id": "sH0wbggaeJFU",
        "outputId": "80451b21-b82f-4f13-95fd-73d267ade92b"
      },
      "outputs": [
        {
          "output_type": "execute_result",
          "data": {
            "text/plain": [
              "array(['4', '3 Beds', '5 Beds', ..., '2.72 acres', '9,565 sqft',\n",
              "       '8,479 sqft'], dtype=object)"
            ]
          },
          "metadata": {},
          "execution_count": 56
        }
      ],
      "source": [
        "data['beds'].unique() #обзор уникальных значений"
      ]
    },
    {
      "cell_type": "code",
      "execution_count": 57,
      "metadata": {
        "id": "v13T_h5eojTm"
      },
      "outputs": [],
      "source": [
        "def transform_beds(\n",
        "    value: str\n",
        "):  \n",
        "    if isinstance(value, str):\n",
        "        if  'acres' in value:\n",
        "            return 0\n",
        "        if  'sqft' in value:\n",
        "            return 0\n",
        "    return value\n",
        "data['beds']=data['beds'].apply(transform_beds) #преобразование значений в столбце"
      ]
    },
    {
      "cell_type": "code",
      "execution_count": 58,
      "metadata": {
        "id": "mjM3bX0NxyqX"
      },
      "outputs": [],
      "source": [
        "data['beds'] = pd.to_numeric(data['beds'], errors='coerce') #приведение к числовому типу"
      ]
    },
    {
      "cell_type": "code",
      "execution_count": 59,
      "metadata": {
        "id": "hJvcURCUyFg4"
      },
      "outputs": [],
      "source": [
        "data['beds']=data['beds'].fillna(round(data['beds'].mean(), 0)) #заполнение отсутствующих значений"
      ]
    },
    {
      "cell_type": "code",
      "execution_count": 60,
      "metadata": {
        "colab": {
          "base_uri": "https://localhost:8080/"
        },
        "id": "f52LYhd4oxnz",
        "outputId": "6ab347f0-28e1-45c5-a4f7-49e2d197487a"
      },
      "outputs": [
        {
          "output_type": "execute_result",
          "data": {
            "text/plain": [
              "3.0      310186\n",
              "4.0       25146\n",
              "2.0       18427\n",
              "5.0        7764\n",
              "1.0        5012\n",
              "0.0        4359\n",
              "6.0        2103\n",
              "7.0         577\n",
              "8.0         357\n",
              "9.0         102\n",
              "10.0         77\n",
              "11.0         40\n",
              "12.0         36\n",
              "16.0         21\n",
              "14.0         15\n",
              "13.0         14\n",
              "15.0         11\n",
              "24.0          9\n",
              "20.0          7\n",
              "18.0          7\n",
              "17.0          4\n",
              "28.0          3\n",
              "30.0          3\n",
              "22.0          3\n",
              "26.0          2\n",
              "29.0          2\n",
              "34.0          2\n",
              "27.0          2\n",
              "32.0          2\n",
              "40.0          2\n",
              "99.0          1\n",
              "33.0          1\n",
              "21.0          1\n",
              "75.0          1\n",
              "19.0          1\n",
              "144.0         1\n",
              "48.0          1\n",
              "23.0          1\n",
              "44.0          1\n",
              "78.0          1\n",
              "35.0          1\n",
              "Name: beds, dtype: int64"
            ]
          },
          "metadata": {},
          "execution_count": 60
        }
      ],
      "source": [
        "data['beds'].value_counts() #обзор значений в столбце"
      ]
    },
    {
      "cell_type": "markdown",
      "metadata": {
        "id": "8xW2mb3GCce7"
      },
      "source": [
        "### state"
      ]
    },
    {
      "cell_type": "code",
      "execution_count": 61,
      "metadata": {
        "colab": {
          "base_uri": "https://localhost:8080/"
        },
        "id": "ZX3d_UBz79Ad",
        "outputId": "cbb0d111-0ae5-478c-e4a5-4ecebc20f0da"
      },
      "outputs": [
        {
          "output_type": "execute_result",
          "data": {
            "text/plain": [
              "FL    114570\n",
              "TX     83269\n",
              "NY     24329\n",
              "CA     23170\n",
              "NC     21768\n",
              "TN     18218\n",
              "WA     13730\n",
              "OH     12423\n",
              "IL      8823\n",
              "NV      8402\n",
              "GA      6632\n",
              "CO      6371\n",
              "PA      5493\n",
              "MI      5119\n",
              "DC      4581\n",
              "AZ      3347\n",
              "IN      3280\n",
              "OR      2774\n",
              "MA      1494\n",
              "UT      1319\n",
              "MD      1086\n",
              "VT       864\n",
              "MO       832\n",
              "VA       800\n",
              "WI       452\n",
              "NJ       436\n",
              "ME       258\n",
              "IA       242\n",
              "KY        90\n",
              "OK        49\n",
              "MS        40\n",
              "SC        28\n",
              "MT         7\n",
              "DE         5\n",
              "Fl         1\n",
              "BA         1\n",
              "AL         1\n",
              "OT         1\n",
              "OS         1\n",
              "Name: state, dtype: int64"
            ]
          },
          "metadata": {},
          "execution_count": 61
        }
      ],
      "source": [
        "data.state.value_counts() #обзор значений в столбце"
      ]
    },
    {
      "cell_type": "markdown",
      "metadata": {
        "id": "oFNMgLhjChSV"
      },
      "source": [
        "### stories"
      ]
    },
    {
      "cell_type": "code",
      "execution_count": 62,
      "metadata": {
        "colab": {
          "base_uri": "https://localhost:8080/"
        },
        "id": "TeKHXqWu79Jt",
        "outputId": "e75d7863-f3ea-4218-e160-fb0eabcdc02b"
      },
      "outputs": [
        {
          "output_type": "execute_result",
          "data": {
            "text/plain": [
              "1.0                                  66808\n",
              "2.0                                  55003\n",
              "1                                    22795\n",
              "2                                    17976\n",
              "3.0                                  11233\n",
              "                                     ...  \n",
              "Manufactured Home, Non-Site Built        1\n",
              "Bedroom - Split Plan                     1\n",
              "78                                       1\n",
              "None                                     1\n",
              "65.0                                     1\n",
              "Name: stories, Length: 348, dtype: int64"
            ]
          },
          "metadata": {},
          "execution_count": 62
        }
      ],
      "source": [
        "data['stories'].value_counts() #обзор значений в столбце"
      ]
    },
    {
      "cell_type": "code",
      "execution_count": 63,
      "metadata": {
        "id": "d3PaM0Luz-6M"
      },
      "outputs": [],
      "source": [
        "data['stories'] = pd.to_numeric(data['stories'], errors='coerce') #приведение к числовому типу"
      ]
    },
    {
      "cell_type": "code",
      "execution_count": 64,
      "metadata": {
        "colab": {
          "base_uri": "https://localhost:8080/"
        },
        "id": "7j98eGgR2HG6",
        "outputId": "5000736f-f779-4acc-b921-0b0272a4ebfa"
      },
      "outputs": [
        {
          "output_type": "execute_result",
          "data": {
            "text/plain": [
              "1.0       90942\n",
              "2.0       75986\n",
              "3.0       15971\n",
              "0.0       11440\n",
              "9.0        3381\n",
              "          ...  \n",
              "1120.0        1\n",
              "2.2           1\n",
              "1002.0        1\n",
              "96.0          1\n",
              "65.0          1\n",
              "Name: stories, Length: 85, dtype: int64"
            ]
          },
          "metadata": {},
          "execution_count": 64
        }
      ],
      "source": [
        "data['stories'].value_counts() #обзор значений в столбце"
      ]
    },
    {
      "cell_type": "code",
      "execution_count": 65,
      "metadata": {
        "id": "1h2t8SyO2Uz9"
      },
      "outputs": [],
      "source": [
        "data['stories']=data['stories'].fillna(round(data['stories'].mean(), 0)) #заполнение отсутствующих значений"
      ]
    },
    {
      "cell_type": "markdown",
      "metadata": {
        "id": "JtB-DNltC1nU"
      },
      "source": [
        "### mls-id"
      ]
    },
    {
      "cell_type": "code",
      "execution_count": 66,
      "metadata": {
        "colab": {
          "base_uri": "https://localhost:8080/"
        },
        "id": "bo01v63a79TF",
        "outputId": "ffe0fc93-1a06-4775-9923-09125c74d39e"
      },
      "outputs": [
        {
          "output_type": "execute_result",
          "data": {
            "text/plain": [
              "No           3\n",
              "No MLS#      3\n",
              "983469       2\n",
              "241766       2\n",
              "A10761504    2\n",
              "            ..\n",
              "1020314      1\n",
              "A10762436    1\n",
              "1592770      1\n",
              "14201834     1\n",
              "F10202858    1\n",
              "Name: mls-id, Length: 24902, dtype: int64"
            ]
          },
          "metadata": {},
          "execution_count": 66
        }
      ],
      "source": [
        "data['mls-id'].value_counts() #обзор значений в столбце"
      ]
    },
    {
      "cell_type": "code",
      "execution_count": 67,
      "metadata": {
        "id": "8nwAj_4UM-7F"
      },
      "outputs": [],
      "source": [
        "data.drop(['mls-id',], axis=1, inplace=True) #удаление столбца, так как значения пересекаются со значениями столбца MlsId"
      ]
    },
    {
      "cell_type": "markdown",
      "metadata": {
        "id": "w6nDaBMwC4Ue"
      },
      "source": [
        "### PrivatePool"
      ]
    },
    {
      "cell_type": "code",
      "execution_count": 68,
      "metadata": {
        "colab": {
          "base_uri": "https://localhost:8080/"
        },
        "id": "7gjcqCkg79c7",
        "outputId": "806738bd-2a78-4251-9618-62d4a782f698"
      },
      "outputs": [
        {
          "output_type": "execute_result",
          "data": {
            "text/plain": [
              "yes    28592\n",
              "Yes    11434\n",
              "Name: PrivatePool, dtype: int64"
            ]
          },
          "metadata": {},
          "execution_count": 68
        }
      ],
      "source": [
        "data.PrivatePool.value_counts() #обзор значений в столбце"
      ]
    },
    {
      "cell_type": "code",
      "execution_count": 69,
      "metadata": {
        "id": "P5ivkJ1hSAyl"
      },
      "outputs": [],
      "source": [
        "data['PrivatePool']=data['PrivatePool'].fillna(value='not') #заполнение отсутствующих зачений"
      ]
    },
    {
      "cell_type": "code",
      "execution_count": 70,
      "metadata": {
        "id": "Iz5zCQ7CTZAO"
      },
      "outputs": [],
      "source": [
        "#data['PrivatePool'] = data['PrivatePool'].astype(str)\n",
        "data['PrivatePool'] = data['PrivatePool'].apply(lambda x: x.lower()) #преобразование данных"
      ]
    },
    {
      "cell_type": "code",
      "execution_count": 71,
      "metadata": {
        "colab": {
          "base_uri": "https://localhost:8080/"
        },
        "id": "YZnxnDC_TmBv",
        "outputId": "4546df83-2599-4aa4-8677-08b06bacbf48"
      },
      "outputs": [
        {
          "output_type": "execute_result",
          "data": {
            "text/plain": [
              "not    334280\n",
              "yes     40026\n",
              "Name: PrivatePool, dtype: int64"
            ]
          },
          "metadata": {},
          "execution_count": 71
        }
      ],
      "source": [
        "data['PrivatePool'].value_counts() #обзор значений в столбце"
      ]
    },
    {
      "cell_type": "markdown",
      "metadata": {
        "id": "xDxkYbdXC9H1"
      },
      "source": [
        "### MlsId"
      ]
    },
    {
      "cell_type": "code",
      "execution_count": 72,
      "metadata": {
        "colab": {
          "base_uri": "https://localhost:8080/"
        },
        "id": "3t3Axg8r79nl",
        "outputId": "596299a0-d0e9-41c7-857c-3dc27496c39c"
      },
      "outputs": [
        {
          "output_type": "execute_result",
          "data": {
            "text/plain": [
              "NO MLS                     24\n",
              "No MLS #                   16\n",
              " A, Houston, TX 77008      13\n",
              " 12A, Orlando, FL 32833    11\n",
              " B, Houston, TX 77008       9\n",
              "                           ..\n",
              "241208                      1\n",
              "687215                      1\n",
              "3866902                     1\n",
              "19491906                    1\n",
              "10374233                    1\n",
              "Name: MlsId, Length: 232622, dtype: int64"
            ]
          },
          "metadata": {},
          "execution_count": 72
        }
      ],
      "source": [
        "data['MlsId'].value_counts() #обзор значений в столбце"
      ]
    },
    {
      "cell_type": "code",
      "execution_count": 73,
      "metadata": {
        "id": "5ByGDTSKUWQE"
      },
      "outputs": [],
      "source": [
        "data['MlsId'] = pd.to_numeric(data['MlsId'], errors='coerce') #преобразование к числовому типу "
      ]
    },
    {
      "cell_type": "code",
      "execution_count": 74,
      "metadata": {
        "colab": {
          "base_uri": "https://localhost:8080/"
        },
        "id": "YDQ5epdIUtRC",
        "outputId": "27486e17-0dad-4854-839e-0b5c3b5e7068"
      },
      "outputs": [
        {
          "output_type": "execute_result",
          "data": {
            "text/plain": [
              "2101941.0     6\n",
              "1412350.0     6\n",
              "2088662.0     6\n",
              "14187092.0    5\n",
              "14061735.0    5\n",
              "             ..\n",
              "10589197.0    1\n",
              "3481963.0     1\n",
              "1418405.0     1\n",
              "14135173.0    1\n",
              "10374233.0    1\n",
              "Name: MlsId, Length: 161084, dtype: int64"
            ]
          },
          "metadata": {},
          "execution_count": 74
        }
      ],
      "source": [
        "data['MlsId'].value_counts() #обзор значений в столбце"
      ]
    },
    {
      "cell_type": "code",
      "execution_count": 75,
      "metadata": {
        "id": "FFR0YynQb0Vv"
      },
      "outputs": [],
      "source": [
        "data=data.drop(['MlsId',], axis=1) #удаление столбца, так как информацией из него можно пренебречь"
      ]
    },
    {
      "cell_type": "markdown",
      "metadata": {
        "id": "zdaGuR5WddYe"
      },
      "source": [
        "# Data Preprocessing"
      ]
    },
    {
      "cell_type": "code",
      "execution_count": 76,
      "metadata": {
        "id": "HLJElOhC7CmR"
      },
      "outputs": [],
      "source": [
        "data=data.drop(['homeFacts', 'schools',], axis=1) #удаляем столбцы, так как не удалось сделать их корректную обработку и вытащить значения\n",
        "data=pd.DataFrame(data=data)"
      ]
    },
    {
      "cell_type": "code",
      "execution_count": 77,
      "metadata": {
        "colab": {
          "base_uri": "https://localhost:8080/"
        },
        "id": "Yd5onoM_XhQx",
        "outputId": "a20f5d6d-a78e-4408-c9cf-bebb603fb967"
      },
      "outputs": [
        {
          "output_type": "execute_result",
          "data": {
            "text/plain": [
              "status          0\n",
              "propertyType    0\n",
              "street          0\n",
              "baths           0\n",
              "fireplace       0\n",
              "city            0\n",
              "sqft            0\n",
              "zipcode         0\n",
              "beds            0\n",
              "state           0\n",
              "stories         0\n",
              "PrivatePool     0\n",
              "new_target      0\n",
              "dtype: int64"
            ]
          },
          "metadata": {},
          "execution_count": 77
        }
      ],
      "source": [
        "data.isna().sum() #проверяем,что у нас нет NaN  в датасете"
      ]
    },
    {
      "cell_type": "code",
      "execution_count": 78,
      "metadata": {
        "colab": {
          "base_uri": "https://localhost:8080/"
        },
        "id": "W-m45IiG_r8z",
        "outputId": "f5711cf3-89aa-410b-fed6-c326da7bb33f"
      },
      "outputs": [
        {
          "output_type": "stream",
          "name": "stdout",
          "text": [
            "<class 'pandas.core.frame.DataFrame'>\n",
            "Int64Index: 374306 entries, 0 to 377184\n",
            "Data columns (total 13 columns):\n",
            " #   Column        Non-Null Count   Dtype  \n",
            "---  ------        --------------   -----  \n",
            " 0   status        374306 non-null  object \n",
            " 1   propertyType  374306 non-null  object \n",
            " 2   street        374306 non-null  object \n",
            " 3   baths         374306 non-null  float64\n",
            " 4   fireplace     374306 non-null  object \n",
            " 5   city          374306 non-null  object \n",
            " 6   sqft          374306 non-null  float64\n",
            " 7   zipcode       374306 non-null  float64\n",
            " 8   beds          374306 non-null  float64\n",
            " 9   state         374306 non-null  object \n",
            " 10  stories       374306 non-null  float64\n",
            " 11  PrivatePool   374306 non-null  object \n",
            " 12  new_target    374306 non-null  float64\n",
            "dtypes: float64(6), object(7)\n",
            "memory usage: 40.0+ MB\n"
          ]
        }
      ],
      "source": [
        "data.info() #общий обзор получившегося датафрейма"
      ]
    },
    {
      "cell_type": "markdown",
      "metadata": {
        "id": "poogsViX634g"
      },
      "source": [
        "## Standartisation"
      ]
    },
    {
      "cell_type": "code",
      "execution_count": 79,
      "metadata": {
        "id": "BGkFpB6fRlD_"
      },
      "outputs": [],
      "source": [
        "\n",
        "scaled_features = data.copy()\n",
        "\n",
        "col_names = ['baths', 'sqft', 'zipcode', 'beds', 'stories']\n",
        "features = scaled_features[col_names]\n",
        "\n",
        "scaler = MinMaxScaler().fit(features.values)\n",
        "features = scaler.transform(features.values)\n",
        "\n",
        "scaled_features[col_names] = features"
      ]
    },
    {
      "cell_type": "code",
      "execution_count": 80,
      "metadata": {
        "id": "Fu7OkklqQUmC"
      },
      "outputs": [],
      "source": [
        "data=scaled_features"
      ]
    },
    {
      "cell_type": "markdown",
      "metadata": {
        "id": "RpNJ2vJX6rHV"
      },
      "source": [
        "## FeatureEngineering"
      ]
    },
    {
      "cell_type": "code",
      "execution_count": 81,
      "metadata": {
        "colab": {
          "base_uri": "https://localhost:8080/",
          "height": 473
        },
        "id": "96wtlR3uETcJ",
        "outputId": "1b6a89f2-2d01-40b4-a8cc-fb3e01da3a1b"
      },
      "outputs": [
        {
          "output_type": "execute_result",
          "data": {
            "text/plain": [
              "    propertyType               street     baths            city      sqft  \\\n",
              "0         single       240 Heather Ln  0.004667  Southern Pines  0.000006   \n",
              "1  single-family    12911 E Heroy Ave  0.005600  Spokane Valley  0.000020   \n",
              "2  single-family    2005 Westridge Rd  0.005600     Los Angeles  0.000020   \n",
              "3  single-family  4311 Livingston Ave  0.005600          Dallas  0.000020   \n",
              "4       lot/land       1524 Kiscoe St  0.005600        Palm Bay  0.000020   \n",
              "\n",
              "    zipcode      beds state   stories  new_target  ...  status_option  \\\n",
              "0  0.085646  0.027778    NC  0.001786    418000.0  ...              0   \n",
              "1  0.299343  0.020833    WA  0.001786    310000.0  ...              0   \n",
              "2  0.271685  0.020833    CA  0.000893   2895000.0  ...              0   \n",
              "3  0.226900  0.020833    TX  0.002679   2395000.0  ...              0   \n",
              "4  0.099286  0.020833    FL  0.001786      5000.0  ...              0   \n",
              "\n",
              "   status_pending  status_pending,  status_pf  status_price change  \\\n",
              "0               0                0          0                    0   \n",
              "1               0                0          0                    0   \n",
              "2               0                0          0                    0   \n",
              "3               0                0          0                    0   \n",
              "4               0                0          0                    0   \n",
              "\n",
              "   status_reactivated  status_temporary  status_under  fireplace_yes  \\\n",
              "0                   0                 0             0              1   \n",
              "1                   0                 0             0              0   \n",
              "2                   0                 0             0              1   \n",
              "3                   0                 0             0              1   \n",
              "4                   0                 0             0              0   \n",
              "\n",
              "   PrivatePool_yes  \n",
              "0                0  \n",
              "1                0  \n",
              "2                1  \n",
              "3                0  \n",
              "4                0  \n",
              "\n",
              "[5 rows x 38 columns]"
            ],
            "text/html": [
              "\n",
              "  <div id=\"df-181003a7-48d3-414b-ac83-ecaa46d5735e\">\n",
              "    <div class=\"colab-df-container\">\n",
              "      <div>\n",
              "<style scoped>\n",
              "    .dataframe tbody tr th:only-of-type {\n",
              "        vertical-align: middle;\n",
              "    }\n",
              "\n",
              "    .dataframe tbody tr th {\n",
              "        vertical-align: top;\n",
              "    }\n",
              "\n",
              "    .dataframe thead th {\n",
              "        text-align: right;\n",
              "    }\n",
              "</style>\n",
              "<table border=\"1\" class=\"dataframe\">\n",
              "  <thead>\n",
              "    <tr style=\"text-align: right;\">\n",
              "      <th></th>\n",
              "      <th>propertyType</th>\n",
              "      <th>street</th>\n",
              "      <th>baths</th>\n",
              "      <th>city</th>\n",
              "      <th>sqft</th>\n",
              "      <th>zipcode</th>\n",
              "      <th>beds</th>\n",
              "      <th>state</th>\n",
              "      <th>stories</th>\n",
              "      <th>new_target</th>\n",
              "      <th>...</th>\n",
              "      <th>status_option</th>\n",
              "      <th>status_pending</th>\n",
              "      <th>status_pending,</th>\n",
              "      <th>status_pf</th>\n",
              "      <th>status_price change</th>\n",
              "      <th>status_reactivated</th>\n",
              "      <th>status_temporary</th>\n",
              "      <th>status_under</th>\n",
              "      <th>fireplace_yes</th>\n",
              "      <th>PrivatePool_yes</th>\n",
              "    </tr>\n",
              "  </thead>\n",
              "  <tbody>\n",
              "    <tr>\n",
              "      <th>0</th>\n",
              "      <td>single</td>\n",
              "      <td>240 Heather Ln</td>\n",
              "      <td>0.004667</td>\n",
              "      <td>Southern Pines</td>\n",
              "      <td>0.000006</td>\n",
              "      <td>0.085646</td>\n",
              "      <td>0.027778</td>\n",
              "      <td>NC</td>\n",
              "      <td>0.001786</td>\n",
              "      <td>418000.0</td>\n",
              "      <td>...</td>\n",
              "      <td>0</td>\n",
              "      <td>0</td>\n",
              "      <td>0</td>\n",
              "      <td>0</td>\n",
              "      <td>0</td>\n",
              "      <td>0</td>\n",
              "      <td>0</td>\n",
              "      <td>0</td>\n",
              "      <td>1</td>\n",
              "      <td>0</td>\n",
              "    </tr>\n",
              "    <tr>\n",
              "      <th>1</th>\n",
              "      <td>single-family</td>\n",
              "      <td>12911 E Heroy Ave</td>\n",
              "      <td>0.005600</td>\n",
              "      <td>Spokane Valley</td>\n",
              "      <td>0.000020</td>\n",
              "      <td>0.299343</td>\n",
              "      <td>0.020833</td>\n",
              "      <td>WA</td>\n",
              "      <td>0.001786</td>\n",
              "      <td>310000.0</td>\n",
              "      <td>...</td>\n",
              "      <td>0</td>\n",
              "      <td>0</td>\n",
              "      <td>0</td>\n",
              "      <td>0</td>\n",
              "      <td>0</td>\n",
              "      <td>0</td>\n",
              "      <td>0</td>\n",
              "      <td>0</td>\n",
              "      <td>0</td>\n",
              "      <td>0</td>\n",
              "    </tr>\n",
              "    <tr>\n",
              "      <th>2</th>\n",
              "      <td>single-family</td>\n",
              "      <td>2005 Westridge Rd</td>\n",
              "      <td>0.005600</td>\n",
              "      <td>Los Angeles</td>\n",
              "      <td>0.000020</td>\n",
              "      <td>0.271685</td>\n",
              "      <td>0.020833</td>\n",
              "      <td>CA</td>\n",
              "      <td>0.000893</td>\n",
              "      <td>2895000.0</td>\n",
              "      <td>...</td>\n",
              "      <td>0</td>\n",
              "      <td>0</td>\n",
              "      <td>0</td>\n",
              "      <td>0</td>\n",
              "      <td>0</td>\n",
              "      <td>0</td>\n",
              "      <td>0</td>\n",
              "      <td>0</td>\n",
              "      <td>1</td>\n",
              "      <td>1</td>\n",
              "    </tr>\n",
              "    <tr>\n",
              "      <th>3</th>\n",
              "      <td>single-family</td>\n",
              "      <td>4311 Livingston Ave</td>\n",
              "      <td>0.005600</td>\n",
              "      <td>Dallas</td>\n",
              "      <td>0.000020</td>\n",
              "      <td>0.226900</td>\n",
              "      <td>0.020833</td>\n",
              "      <td>TX</td>\n",
              "      <td>0.002679</td>\n",
              "      <td>2395000.0</td>\n",
              "      <td>...</td>\n",
              "      <td>0</td>\n",
              "      <td>0</td>\n",
              "      <td>0</td>\n",
              "      <td>0</td>\n",
              "      <td>0</td>\n",
              "      <td>0</td>\n",
              "      <td>0</td>\n",
              "      <td>0</td>\n",
              "      <td>1</td>\n",
              "      <td>0</td>\n",
              "    </tr>\n",
              "    <tr>\n",
              "      <th>4</th>\n",
              "      <td>lot/land</td>\n",
              "      <td>1524 Kiscoe St</td>\n",
              "      <td>0.005600</td>\n",
              "      <td>Palm Bay</td>\n",
              "      <td>0.000020</td>\n",
              "      <td>0.099286</td>\n",
              "      <td>0.020833</td>\n",
              "      <td>FL</td>\n",
              "      <td>0.001786</td>\n",
              "      <td>5000.0</td>\n",
              "      <td>...</td>\n",
              "      <td>0</td>\n",
              "      <td>0</td>\n",
              "      <td>0</td>\n",
              "      <td>0</td>\n",
              "      <td>0</td>\n",
              "      <td>0</td>\n",
              "      <td>0</td>\n",
              "      <td>0</td>\n",
              "      <td>0</td>\n",
              "      <td>0</td>\n",
              "    </tr>\n",
              "  </tbody>\n",
              "</table>\n",
              "<p>5 rows × 38 columns</p>\n",
              "</div>\n",
              "      <button class=\"colab-df-convert\" onclick=\"convertToInteractive('df-181003a7-48d3-414b-ac83-ecaa46d5735e')\"\n",
              "              title=\"Convert this dataframe to an interactive table.\"\n",
              "              style=\"display:none;\">\n",
              "        \n",
              "  <svg xmlns=\"http://www.w3.org/2000/svg\" height=\"24px\"viewBox=\"0 0 24 24\"\n",
              "       width=\"24px\">\n",
              "    <path d=\"M0 0h24v24H0V0z\" fill=\"none\"/>\n",
              "    <path d=\"M18.56 5.44l.94 2.06.94-2.06 2.06-.94-2.06-.94-.94-2.06-.94 2.06-2.06.94zm-11 1L8.5 8.5l.94-2.06 2.06-.94-2.06-.94L8.5 2.5l-.94 2.06-2.06.94zm10 10l.94 2.06.94-2.06 2.06-.94-2.06-.94-.94-2.06-.94 2.06-2.06.94z\"/><path d=\"M17.41 7.96l-1.37-1.37c-.4-.4-.92-.59-1.43-.59-.52 0-1.04.2-1.43.59L10.3 9.45l-7.72 7.72c-.78.78-.78 2.05 0 2.83L4 21.41c.39.39.9.59 1.41.59.51 0 1.02-.2 1.41-.59l7.78-7.78 2.81-2.81c.8-.78.8-2.07 0-2.86zM5.41 20L4 18.59l7.72-7.72 1.47 1.35L5.41 20z\"/>\n",
              "  </svg>\n",
              "      </button>\n",
              "      \n",
              "  <style>\n",
              "    .colab-df-container {\n",
              "      display:flex;\n",
              "      flex-wrap:wrap;\n",
              "      gap: 12px;\n",
              "    }\n",
              "\n",
              "    .colab-df-convert {\n",
              "      background-color: #E8F0FE;\n",
              "      border: none;\n",
              "      border-radius: 50%;\n",
              "      cursor: pointer;\n",
              "      display: none;\n",
              "      fill: #1967D2;\n",
              "      height: 32px;\n",
              "      padding: 0 0 0 0;\n",
              "      width: 32px;\n",
              "    }\n",
              "\n",
              "    .colab-df-convert:hover {\n",
              "      background-color: #E2EBFA;\n",
              "      box-shadow: 0px 1px 2px rgba(60, 64, 67, 0.3), 0px 1px 3px 1px rgba(60, 64, 67, 0.15);\n",
              "      fill: #174EA6;\n",
              "    }\n",
              "\n",
              "    [theme=dark] .colab-df-convert {\n",
              "      background-color: #3B4455;\n",
              "      fill: #D2E3FC;\n",
              "    }\n",
              "\n",
              "    [theme=dark] .colab-df-convert:hover {\n",
              "      background-color: #434B5C;\n",
              "      box-shadow: 0px 1px 3px 1px rgba(0, 0, 0, 0.15);\n",
              "      filter: drop-shadow(0px 1px 2px rgba(0, 0, 0, 0.3));\n",
              "      fill: #FFFFFF;\n",
              "    }\n",
              "  </style>\n",
              "\n",
              "      <script>\n",
              "        const buttonEl =\n",
              "          document.querySelector('#df-181003a7-48d3-414b-ac83-ecaa46d5735e button.colab-df-convert');\n",
              "        buttonEl.style.display =\n",
              "          google.colab.kernel.accessAllowed ? 'block' : 'none';\n",
              "\n",
              "        async function convertToInteractive(key) {\n",
              "          const element = document.querySelector('#df-181003a7-48d3-414b-ac83-ecaa46d5735e');\n",
              "          const dataTable =\n",
              "            await google.colab.kernel.invokeFunction('convertToInteractive',\n",
              "                                                     [key], {});\n",
              "          if (!dataTable) return;\n",
              "\n",
              "          const docLinkHtml = 'Like what you see? Visit the ' +\n",
              "            '<a target=\"_blank\" href=https://colab.research.google.com/notebooks/data_table.ipynb>data table notebook</a>'\n",
              "            + ' to learn more about interactive tables.';\n",
              "          element.innerHTML = '';\n",
              "          dataTable['output_type'] = 'display_data';\n",
              "          await google.colab.output.renderOutput(dataTable, element);\n",
              "          const docLink = document.createElement('div');\n",
              "          docLink.innerHTML = docLinkHtml;\n",
              "          element.appendChild(docLink);\n",
              "        }\n",
              "      </script>\n",
              "    </div>\n",
              "  </div>\n",
              "  "
            ]
          },
          "metadata": {},
          "execution_count": 81
        }
      ],
      "source": [
        "categorical_features=[ 'status', 'fireplace',  'PrivatePool'] #применение get_dummies для преобразования категориальных переменных, в которых не сильно высокая вариативность представленных уникальных значений и поэтому создаваемые новые признаки не будут ззамедлять работу нашего сервиса\n",
        "data = pd.get_dummies(data, columns = categorical_features , prefix_sep = \"_\", drop_first = True)\n",
        "data.head()"
      ]
    },
    {
      "cell_type": "code",
      "execution_count": 82,
      "metadata": {
        "colab": {
          "base_uri": "https://localhost:8080/",
          "height": 317
        },
        "id": "ld8b1kb42Ynv",
        "outputId": "ec8f8fe3-0f88-4532-9cf1-8552d0c9f749"
      },
      "outputs": [
        {
          "output_type": "execute_result",
          "data": {
            "text/plain": [
              "   propertyType  street     baths  city      sqft   zipcode      beds  state  \\\n",
              "0           149  124833  0.004667  1705  0.000006  0.085646  0.027778     21   \n",
              "1           150   43403  0.005600  1715  0.000020  0.299343  0.020833     37   \n",
              "2           150  102248  0.005600  1031  0.000020  0.271685  0.020833      3   \n",
              "3           150  197986  0.005600   430  0.000020  0.226900  0.020833     33   \n",
              "4           105   68022  0.005600  1341  0.000020  0.099286  0.020833      7   \n",
              "\n",
              "    stories  new_target  ...  status_option  status_pending  status_pending,  \\\n",
              "0  0.001786    418000.0  ...              0               0                0   \n",
              "1  0.001786    310000.0  ...              0               0                0   \n",
              "2  0.000893   2895000.0  ...              0               0                0   \n",
              "3  0.002679   2395000.0  ...              0               0                0   \n",
              "4  0.001786      5000.0  ...              0               0                0   \n",
              "\n",
              "   status_pf  status_price change  status_reactivated  status_temporary  \\\n",
              "0          0                    0                   0                 0   \n",
              "1          0                    0                   0                 0   \n",
              "2          0                    0                   0                 0   \n",
              "3          0                    0                   0                 0   \n",
              "4          0                    0                   0                 0   \n",
              "\n",
              "   status_under  fireplace_yes  PrivatePool_yes  \n",
              "0             0              1                0  \n",
              "1             0              0                0  \n",
              "2             0              1                1  \n",
              "3             0              1                0  \n",
              "4             0              0                0  \n",
              "\n",
              "[5 rows x 38 columns]"
            ],
            "text/html": [
              "\n",
              "  <div id=\"df-506249de-313e-40cf-8a4f-373e9d2648ec\">\n",
              "    <div class=\"colab-df-container\">\n",
              "      <div>\n",
              "<style scoped>\n",
              "    .dataframe tbody tr th:only-of-type {\n",
              "        vertical-align: middle;\n",
              "    }\n",
              "\n",
              "    .dataframe tbody tr th {\n",
              "        vertical-align: top;\n",
              "    }\n",
              "\n",
              "    .dataframe thead th {\n",
              "        text-align: right;\n",
              "    }\n",
              "</style>\n",
              "<table border=\"1\" class=\"dataframe\">\n",
              "  <thead>\n",
              "    <tr style=\"text-align: right;\">\n",
              "      <th></th>\n",
              "      <th>propertyType</th>\n",
              "      <th>street</th>\n",
              "      <th>baths</th>\n",
              "      <th>city</th>\n",
              "      <th>sqft</th>\n",
              "      <th>zipcode</th>\n",
              "      <th>beds</th>\n",
              "      <th>state</th>\n",
              "      <th>stories</th>\n",
              "      <th>new_target</th>\n",
              "      <th>...</th>\n",
              "      <th>status_option</th>\n",
              "      <th>status_pending</th>\n",
              "      <th>status_pending,</th>\n",
              "      <th>status_pf</th>\n",
              "      <th>status_price change</th>\n",
              "      <th>status_reactivated</th>\n",
              "      <th>status_temporary</th>\n",
              "      <th>status_under</th>\n",
              "      <th>fireplace_yes</th>\n",
              "      <th>PrivatePool_yes</th>\n",
              "    </tr>\n",
              "  </thead>\n",
              "  <tbody>\n",
              "    <tr>\n",
              "      <th>0</th>\n",
              "      <td>149</td>\n",
              "      <td>124833</td>\n",
              "      <td>0.004667</td>\n",
              "      <td>1705</td>\n",
              "      <td>0.000006</td>\n",
              "      <td>0.085646</td>\n",
              "      <td>0.027778</td>\n",
              "      <td>21</td>\n",
              "      <td>0.001786</td>\n",
              "      <td>418000.0</td>\n",
              "      <td>...</td>\n",
              "      <td>0</td>\n",
              "      <td>0</td>\n",
              "      <td>0</td>\n",
              "      <td>0</td>\n",
              "      <td>0</td>\n",
              "      <td>0</td>\n",
              "      <td>0</td>\n",
              "      <td>0</td>\n",
              "      <td>1</td>\n",
              "      <td>0</td>\n",
              "    </tr>\n",
              "    <tr>\n",
              "      <th>1</th>\n",
              "      <td>150</td>\n",
              "      <td>43403</td>\n",
              "      <td>0.005600</td>\n",
              "      <td>1715</td>\n",
              "      <td>0.000020</td>\n",
              "      <td>0.299343</td>\n",
              "      <td>0.020833</td>\n",
              "      <td>37</td>\n",
              "      <td>0.001786</td>\n",
              "      <td>310000.0</td>\n",
              "      <td>...</td>\n",
              "      <td>0</td>\n",
              "      <td>0</td>\n",
              "      <td>0</td>\n",
              "      <td>0</td>\n",
              "      <td>0</td>\n",
              "      <td>0</td>\n",
              "      <td>0</td>\n",
              "      <td>0</td>\n",
              "      <td>0</td>\n",
              "      <td>0</td>\n",
              "    </tr>\n",
              "    <tr>\n",
              "      <th>2</th>\n",
              "      <td>150</td>\n",
              "      <td>102248</td>\n",
              "      <td>0.005600</td>\n",
              "      <td>1031</td>\n",
              "      <td>0.000020</td>\n",
              "      <td>0.271685</td>\n",
              "      <td>0.020833</td>\n",
              "      <td>3</td>\n",
              "      <td>0.000893</td>\n",
              "      <td>2895000.0</td>\n",
              "      <td>...</td>\n",
              "      <td>0</td>\n",
              "      <td>0</td>\n",
              "      <td>0</td>\n",
              "      <td>0</td>\n",
              "      <td>0</td>\n",
              "      <td>0</td>\n",
              "      <td>0</td>\n",
              "      <td>0</td>\n",
              "      <td>1</td>\n",
              "      <td>1</td>\n",
              "    </tr>\n",
              "    <tr>\n",
              "      <th>3</th>\n",
              "      <td>150</td>\n",
              "      <td>197986</td>\n",
              "      <td>0.005600</td>\n",
              "      <td>430</td>\n",
              "      <td>0.000020</td>\n",
              "      <td>0.226900</td>\n",
              "      <td>0.020833</td>\n",
              "      <td>33</td>\n",
              "      <td>0.002679</td>\n",
              "      <td>2395000.0</td>\n",
              "      <td>...</td>\n",
              "      <td>0</td>\n",
              "      <td>0</td>\n",
              "      <td>0</td>\n",
              "      <td>0</td>\n",
              "      <td>0</td>\n",
              "      <td>0</td>\n",
              "      <td>0</td>\n",
              "      <td>0</td>\n",
              "      <td>1</td>\n",
              "      <td>0</td>\n",
              "    </tr>\n",
              "    <tr>\n",
              "      <th>4</th>\n",
              "      <td>105</td>\n",
              "      <td>68022</td>\n",
              "      <td>0.005600</td>\n",
              "      <td>1341</td>\n",
              "      <td>0.000020</td>\n",
              "      <td>0.099286</td>\n",
              "      <td>0.020833</td>\n",
              "      <td>7</td>\n",
              "      <td>0.001786</td>\n",
              "      <td>5000.0</td>\n",
              "      <td>...</td>\n",
              "      <td>0</td>\n",
              "      <td>0</td>\n",
              "      <td>0</td>\n",
              "      <td>0</td>\n",
              "      <td>0</td>\n",
              "      <td>0</td>\n",
              "      <td>0</td>\n",
              "      <td>0</td>\n",
              "      <td>0</td>\n",
              "      <td>0</td>\n",
              "    </tr>\n",
              "  </tbody>\n",
              "</table>\n",
              "<p>5 rows × 38 columns</p>\n",
              "</div>\n",
              "      <button class=\"colab-df-convert\" onclick=\"convertToInteractive('df-506249de-313e-40cf-8a4f-373e9d2648ec')\"\n",
              "              title=\"Convert this dataframe to an interactive table.\"\n",
              "              style=\"display:none;\">\n",
              "        \n",
              "  <svg xmlns=\"http://www.w3.org/2000/svg\" height=\"24px\"viewBox=\"0 0 24 24\"\n",
              "       width=\"24px\">\n",
              "    <path d=\"M0 0h24v24H0V0z\" fill=\"none\"/>\n",
              "    <path d=\"M18.56 5.44l.94 2.06.94-2.06 2.06-.94-2.06-.94-.94-2.06-.94 2.06-2.06.94zm-11 1L8.5 8.5l.94-2.06 2.06-.94-2.06-.94L8.5 2.5l-.94 2.06-2.06.94zm10 10l.94 2.06.94-2.06 2.06-.94-2.06-.94-.94-2.06-.94 2.06-2.06.94z\"/><path d=\"M17.41 7.96l-1.37-1.37c-.4-.4-.92-.59-1.43-.59-.52 0-1.04.2-1.43.59L10.3 9.45l-7.72 7.72c-.78.78-.78 2.05 0 2.83L4 21.41c.39.39.9.59 1.41.59.51 0 1.02-.2 1.41-.59l7.78-7.78 2.81-2.81c.8-.78.8-2.07 0-2.86zM5.41 20L4 18.59l7.72-7.72 1.47 1.35L5.41 20z\"/>\n",
              "  </svg>\n",
              "      </button>\n",
              "      \n",
              "  <style>\n",
              "    .colab-df-container {\n",
              "      display:flex;\n",
              "      flex-wrap:wrap;\n",
              "      gap: 12px;\n",
              "    }\n",
              "\n",
              "    .colab-df-convert {\n",
              "      background-color: #E8F0FE;\n",
              "      border: none;\n",
              "      border-radius: 50%;\n",
              "      cursor: pointer;\n",
              "      display: none;\n",
              "      fill: #1967D2;\n",
              "      height: 32px;\n",
              "      padding: 0 0 0 0;\n",
              "      width: 32px;\n",
              "    }\n",
              "\n",
              "    .colab-df-convert:hover {\n",
              "      background-color: #E2EBFA;\n",
              "      box-shadow: 0px 1px 2px rgba(60, 64, 67, 0.3), 0px 1px 3px 1px rgba(60, 64, 67, 0.15);\n",
              "      fill: #174EA6;\n",
              "    }\n",
              "\n",
              "    [theme=dark] .colab-df-convert {\n",
              "      background-color: #3B4455;\n",
              "      fill: #D2E3FC;\n",
              "    }\n",
              "\n",
              "    [theme=dark] .colab-df-convert:hover {\n",
              "      background-color: #434B5C;\n",
              "      box-shadow: 0px 1px 3px 1px rgba(0, 0, 0, 0.15);\n",
              "      filter: drop-shadow(0px 1px 2px rgba(0, 0, 0, 0.3));\n",
              "      fill: #FFFFFF;\n",
              "    }\n",
              "  </style>\n",
              "\n",
              "      <script>\n",
              "        const buttonEl =\n",
              "          document.querySelector('#df-506249de-313e-40cf-8a4f-373e9d2648ec button.colab-df-convert');\n",
              "        buttonEl.style.display =\n",
              "          google.colab.kernel.accessAllowed ? 'block' : 'none';\n",
              "\n",
              "        async function convertToInteractive(key) {\n",
              "          const element = document.querySelector('#df-506249de-313e-40cf-8a4f-373e9d2648ec');\n",
              "          const dataTable =\n",
              "            await google.colab.kernel.invokeFunction('convertToInteractive',\n",
              "                                                     [key], {});\n",
              "          if (!dataTable) return;\n",
              "\n",
              "          const docLinkHtml = 'Like what you see? Visit the ' +\n",
              "            '<a target=\"_blank\" href=https://colab.research.google.com/notebooks/data_table.ipynb>data table notebook</a>'\n",
              "            + ' to learn more about interactive tables.';\n",
              "          element.innerHTML = '';\n",
              "          dataTable['output_type'] = 'display_data';\n",
              "          await google.colab.output.renderOutput(dataTable, element);\n",
              "          const docLink = document.createElement('div');\n",
              "          docLink.innerHTML = docLinkHtml;\n",
              "          element.appendChild(docLink);\n",
              "        }\n",
              "      </script>\n",
              "    </div>\n",
              "  </div>\n",
              "  "
            ]
          },
          "metadata": {},
          "execution_count": 82
        }
      ],
      "source": [
        "le = LabelEncoder() #применение label_encoder для преобразования категориальных переменных,вариативность уникальных значений которых может достигать нескольких тысяч\n",
        "data['propertyType'] = le.fit_transform(data['propertyType'])\n",
        "data['street'] = le.fit_transform(data['street'])\n",
        "data['city'] = le.fit_transform(data['city'])\n",
        "data['state'] = le.fit_transform(data['state'])\n",
        "data.head()"
      ]
    },
    {
      "cell_type": "markdown",
      "metadata": {
        "id": "mEVwGFGl8xZQ"
      },
      "source": [
        "## Outliers_preprocessing"
      ]
    },
    {
      "cell_type": "markdown",
      "metadata": {
        "id": "03dRLaACFppl"
      },
      "source": [
        "### beds"
      ]
    },
    {
      "cell_type": "code",
      "execution_count": 83,
      "metadata": {
        "colab": {
          "base_uri": "https://localhost:8080/",
          "height": 505
        },
        "id": "MfBzuo1RFv01",
        "outputId": "77a6b284-380c-4ccb-d514-04977ce0b945"
      },
      "outputs": [
        {
          "output_type": "execute_result",
          "data": {
            "text/plain": [
              "        propertyType  street     baths  city      sqft   zipcode      beds  \\\n",
              "214              149  298217  0.006000   915  0.000007  0.104835  0.041667   \n",
              "260              125  189086  0.010667  1284  0.000020  0.285473  0.097222   \n",
              "334              149  222062  0.009333   152  0.000020  0.062804  0.048611   \n",
              "411              149  247664  0.008000  1388  0.000020  0.100034  0.041667   \n",
              "951              125   76613  0.005333  1118  0.000020  0.100016  0.041667   \n",
              "...              ...     ...       ...   ...       ...       ...       ...   \n",
              "376729           149  176629  0.006667  1422  0.000020  0.293378  0.041667   \n",
              "376816           149  189919  0.009333  1589  0.000020  0.277891  0.041667   \n",
              "376865           125   90599  0.009333    40  0.000020  0.279988  0.076389   \n",
              "376884           149  152053  0.004667   967  0.000005  0.235471  0.041667   \n",
              "377016           149  139954  0.004000    23  0.000005  0.067290  0.041667   \n",
              "\n",
              "        state   stories  new_target  ...  status_option  status_pending  \\\n",
              "214         7  0.001786    504000.0  ...              0               0   \n",
              "260         3  0.001786   2100000.0  ...              0               0   \n",
              "334        15  0.002679   1995000.0  ...              0               0   \n",
              "411         7  0.001786   1990000.0  ...              0               0   \n",
              "951         7  0.001786    599000.0  ...              0               0   \n",
              "...       ...       ...         ...  ...            ...             ...   \n",
              "376729     27  0.003571   1599000.0  ...              0               0   \n",
              "376816      3  0.001786  18995000.0  ...              0               0   \n",
              "376865      3  0.001786   1750000.0  ...              0               0   \n",
              "376884     33  0.001786    182000.0  ...              0               0   \n",
              "377016     35  0.001786    799000.0  ...              0               0   \n",
              "\n",
              "        status_pending,  status_pf  status_price change  status_reactivated  \\\n",
              "214                   0          0                    0                   0   \n",
              "260                   0          0                    0                   0   \n",
              "334                   0          0                    0                   0   \n",
              "411                   0          0                    0                   0   \n",
              "951                   0          0                    0                   0   \n",
              "...                 ...        ...                  ...                 ...   \n",
              "376729                0          0                    0                   0   \n",
              "376816                0          0                    0                   0   \n",
              "376865                0          0                    0                   0   \n",
              "376884                0          0                    0                   0   \n",
              "377016                0          0                    0                   0   \n",
              "\n",
              "        status_temporary  status_under  fireplace_yes  PrivatePool_yes  \n",
              "214                    0             0              0                0  \n",
              "260                    0             0              0                0  \n",
              "334                    0             0              1                0  \n",
              "411                    0             0              0                1  \n",
              "951                    0             0              0                0  \n",
              "...                  ...           ...            ...              ...  \n",
              "376729                 0             0              0                0  \n",
              "376816                 0             0              1                0  \n",
              "376865                 0             0              0                0  \n",
              "376884                 0             0              1                0  \n",
              "377016                 0             0              0                0  \n",
              "\n",
              "[3412 rows x 38 columns]"
            ],
            "text/html": [
              "\n",
              "  <div id=\"df-b53a07ff-f62a-43a4-a171-ad24d87686a0\">\n",
              "    <div class=\"colab-df-container\">\n",
              "      <div>\n",
              "<style scoped>\n",
              "    .dataframe tbody tr th:only-of-type {\n",
              "        vertical-align: middle;\n",
              "    }\n",
              "\n",
              "    .dataframe tbody tr th {\n",
              "        vertical-align: top;\n",
              "    }\n",
              "\n",
              "    .dataframe thead th {\n",
              "        text-align: right;\n",
              "    }\n",
              "</style>\n",
              "<table border=\"1\" class=\"dataframe\">\n",
              "  <thead>\n",
              "    <tr style=\"text-align: right;\">\n",
              "      <th></th>\n",
              "      <th>propertyType</th>\n",
              "      <th>street</th>\n",
              "      <th>baths</th>\n",
              "      <th>city</th>\n",
              "      <th>sqft</th>\n",
              "      <th>zipcode</th>\n",
              "      <th>beds</th>\n",
              "      <th>state</th>\n",
              "      <th>stories</th>\n",
              "      <th>new_target</th>\n",
              "      <th>...</th>\n",
              "      <th>status_option</th>\n",
              "      <th>status_pending</th>\n",
              "      <th>status_pending,</th>\n",
              "      <th>status_pf</th>\n",
              "      <th>status_price change</th>\n",
              "      <th>status_reactivated</th>\n",
              "      <th>status_temporary</th>\n",
              "      <th>status_under</th>\n",
              "      <th>fireplace_yes</th>\n",
              "      <th>PrivatePool_yes</th>\n",
              "    </tr>\n",
              "  </thead>\n",
              "  <tbody>\n",
              "    <tr>\n",
              "      <th>214</th>\n",
              "      <td>149</td>\n",
              "      <td>298217</td>\n",
              "      <td>0.006000</td>\n",
              "      <td>915</td>\n",
              "      <td>0.000007</td>\n",
              "      <td>0.104835</td>\n",
              "      <td>0.041667</td>\n",
              "      <td>7</td>\n",
              "      <td>0.001786</td>\n",
              "      <td>504000.0</td>\n",
              "      <td>...</td>\n",
              "      <td>0</td>\n",
              "      <td>0</td>\n",
              "      <td>0</td>\n",
              "      <td>0</td>\n",
              "      <td>0</td>\n",
              "      <td>0</td>\n",
              "      <td>0</td>\n",
              "      <td>0</td>\n",
              "      <td>0</td>\n",
              "      <td>0</td>\n",
              "    </tr>\n",
              "    <tr>\n",
              "      <th>260</th>\n",
              "      <td>125</td>\n",
              "      <td>189086</td>\n",
              "      <td>0.010667</td>\n",
              "      <td>1284</td>\n",
              "      <td>0.000020</td>\n",
              "      <td>0.285473</td>\n",
              "      <td>0.097222</td>\n",
              "      <td>3</td>\n",
              "      <td>0.001786</td>\n",
              "      <td>2100000.0</td>\n",
              "      <td>...</td>\n",
              "      <td>0</td>\n",
              "      <td>0</td>\n",
              "      <td>0</td>\n",
              "      <td>0</td>\n",
              "      <td>0</td>\n",
              "      <td>0</td>\n",
              "      <td>0</td>\n",
              "      <td>0</td>\n",
              "      <td>0</td>\n",
              "      <td>0</td>\n",
              "    </tr>\n",
              "    <tr>\n",
              "      <th>334</th>\n",
              "      <td>149</td>\n",
              "      <td>222062</td>\n",
              "      <td>0.009333</td>\n",
              "      <td>152</td>\n",
              "      <td>0.000020</td>\n",
              "      <td>0.062804</td>\n",
              "      <td>0.048611</td>\n",
              "      <td>15</td>\n",
              "      <td>0.002679</td>\n",
              "      <td>1995000.0</td>\n",
              "      <td>...</td>\n",
              "      <td>0</td>\n",
              "      <td>0</td>\n",
              "      <td>0</td>\n",
              "      <td>0</td>\n",
              "      <td>0</td>\n",
              "      <td>0</td>\n",
              "      <td>0</td>\n",
              "      <td>0</td>\n",
              "      <td>1</td>\n",
              "      <td>0</td>\n",
              "    </tr>\n",
              "    <tr>\n",
              "      <th>411</th>\n",
              "      <td>149</td>\n",
              "      <td>247664</td>\n",
              "      <td>0.008000</td>\n",
              "      <td>1388</td>\n",
              "      <td>0.000020</td>\n",
              "      <td>0.100034</td>\n",
              "      <td>0.041667</td>\n",
              "      <td>7</td>\n",
              "      <td>0.001786</td>\n",
              "      <td>1990000.0</td>\n",
              "      <td>...</td>\n",
              "      <td>0</td>\n",
              "      <td>0</td>\n",
              "      <td>0</td>\n",
              "      <td>0</td>\n",
              "      <td>0</td>\n",
              "      <td>0</td>\n",
              "      <td>0</td>\n",
              "      <td>0</td>\n",
              "      <td>0</td>\n",
              "      <td>1</td>\n",
              "    </tr>\n",
              "    <tr>\n",
              "      <th>951</th>\n",
              "      <td>125</td>\n",
              "      <td>76613</td>\n",
              "      <td>0.005333</td>\n",
              "      <td>1118</td>\n",
              "      <td>0.000020</td>\n",
              "      <td>0.100016</td>\n",
              "      <td>0.041667</td>\n",
              "      <td>7</td>\n",
              "      <td>0.001786</td>\n",
              "      <td>599000.0</td>\n",
              "      <td>...</td>\n",
              "      <td>0</td>\n",
              "      <td>0</td>\n",
              "      <td>0</td>\n",
              "      <td>0</td>\n",
              "      <td>0</td>\n",
              "      <td>0</td>\n",
              "      <td>0</td>\n",
              "      <td>0</td>\n",
              "      <td>0</td>\n",
              "      <td>0</td>\n",
              "    </tr>\n",
              "    <tr>\n",
              "      <th>...</th>\n",
              "      <td>...</td>\n",
              "      <td>...</td>\n",
              "      <td>...</td>\n",
              "      <td>...</td>\n",
              "      <td>...</td>\n",
              "      <td>...</td>\n",
              "      <td>...</td>\n",
              "      <td>...</td>\n",
              "      <td>...</td>\n",
              "      <td>...</td>\n",
              "      <td>...</td>\n",
              "      <td>...</td>\n",
              "      <td>...</td>\n",
              "      <td>...</td>\n",
              "      <td>...</td>\n",
              "      <td>...</td>\n",
              "      <td>...</td>\n",
              "      <td>...</td>\n",
              "      <td>...</td>\n",
              "      <td>...</td>\n",
              "      <td>...</td>\n",
              "    </tr>\n",
              "    <tr>\n",
              "      <th>376729</th>\n",
              "      <td>149</td>\n",
              "      <td>176629</td>\n",
              "      <td>0.006667</td>\n",
              "      <td>1422</td>\n",
              "      <td>0.000020</td>\n",
              "      <td>0.293378</td>\n",
              "      <td>0.041667</td>\n",
              "      <td>27</td>\n",
              "      <td>0.003571</td>\n",
              "      <td>1599000.0</td>\n",
              "      <td>...</td>\n",
              "      <td>0</td>\n",
              "      <td>0</td>\n",
              "      <td>0</td>\n",
              "      <td>0</td>\n",
              "      <td>0</td>\n",
              "      <td>0</td>\n",
              "      <td>0</td>\n",
              "      <td>0</td>\n",
              "      <td>0</td>\n",
              "      <td>0</td>\n",
              "    </tr>\n",
              "    <tr>\n",
              "      <th>376816</th>\n",
              "      <td>149</td>\n",
              "      <td>189919</td>\n",
              "      <td>0.009333</td>\n",
              "      <td>1589</td>\n",
              "      <td>0.000020</td>\n",
              "      <td>0.277891</td>\n",
              "      <td>0.041667</td>\n",
              "      <td>3</td>\n",
              "      <td>0.001786</td>\n",
              "      <td>18995000.0</td>\n",
              "      <td>...</td>\n",
              "      <td>0</td>\n",
              "      <td>0</td>\n",
              "      <td>0</td>\n",
              "      <td>0</td>\n",
              "      <td>0</td>\n",
              "      <td>0</td>\n",
              "      <td>0</td>\n",
              "      <td>0</td>\n",
              "      <td>1</td>\n",
              "      <td>0</td>\n",
              "    </tr>\n",
              "    <tr>\n",
              "      <th>376865</th>\n",
              "      <td>125</td>\n",
              "      <td>90599</td>\n",
              "      <td>0.009333</td>\n",
              "      <td>40</td>\n",
              "      <td>0.000020</td>\n",
              "      <td>0.279988</td>\n",
              "      <td>0.076389</td>\n",
              "      <td>3</td>\n",
              "      <td>0.001786</td>\n",
              "      <td>1750000.0</td>\n",
              "      <td>...</td>\n",
              "      <td>0</td>\n",
              "      <td>0</td>\n",
              "      <td>0</td>\n",
              "      <td>0</td>\n",
              "      <td>0</td>\n",
              "      <td>0</td>\n",
              "      <td>0</td>\n",
              "      <td>0</td>\n",
              "      <td>0</td>\n",
              "      <td>0</td>\n",
              "    </tr>\n",
              "    <tr>\n",
              "      <th>376884</th>\n",
              "      <td>149</td>\n",
              "      <td>152053</td>\n",
              "      <td>0.004667</td>\n",
              "      <td>967</td>\n",
              "      <td>0.000005</td>\n",
              "      <td>0.235471</td>\n",
              "      <td>0.041667</td>\n",
              "      <td>33</td>\n",
              "      <td>0.001786</td>\n",
              "      <td>182000.0</td>\n",
              "      <td>...</td>\n",
              "      <td>0</td>\n",
              "      <td>0</td>\n",
              "      <td>0</td>\n",
              "      <td>0</td>\n",
              "      <td>0</td>\n",
              "      <td>0</td>\n",
              "      <td>0</td>\n",
              "      <td>0</td>\n",
              "      <td>1</td>\n",
              "      <td>0</td>\n",
              "    </tr>\n",
              "    <tr>\n",
              "      <th>377016</th>\n",
              "      <td>149</td>\n",
              "      <td>139954</td>\n",
              "      <td>0.004000</td>\n",
              "      <td>23</td>\n",
              "      <td>0.000005</td>\n",
              "      <td>0.067290</td>\n",
              "      <td>0.041667</td>\n",
              "      <td>35</td>\n",
              "      <td>0.001786</td>\n",
              "      <td>799000.0</td>\n",
              "      <td>...</td>\n",
              "      <td>0</td>\n",
              "      <td>0</td>\n",
              "      <td>0</td>\n",
              "      <td>0</td>\n",
              "      <td>0</td>\n",
              "      <td>0</td>\n",
              "      <td>0</td>\n",
              "      <td>0</td>\n",
              "      <td>0</td>\n",
              "      <td>0</td>\n",
              "    </tr>\n",
              "  </tbody>\n",
              "</table>\n",
              "<p>3412 rows × 38 columns</p>\n",
              "</div>\n",
              "      <button class=\"colab-df-convert\" onclick=\"convertToInteractive('df-b53a07ff-f62a-43a4-a171-ad24d87686a0')\"\n",
              "              title=\"Convert this dataframe to an interactive table.\"\n",
              "              style=\"display:none;\">\n",
              "        \n",
              "  <svg xmlns=\"http://www.w3.org/2000/svg\" height=\"24px\"viewBox=\"0 0 24 24\"\n",
              "       width=\"24px\">\n",
              "    <path d=\"M0 0h24v24H0V0z\" fill=\"none\"/>\n",
              "    <path d=\"M18.56 5.44l.94 2.06.94-2.06 2.06-.94-2.06-.94-.94-2.06-.94 2.06-2.06.94zm-11 1L8.5 8.5l.94-2.06 2.06-.94-2.06-.94L8.5 2.5l-.94 2.06-2.06.94zm10 10l.94 2.06.94-2.06 2.06-.94-2.06-.94-.94-2.06-.94 2.06-2.06.94z\"/><path d=\"M17.41 7.96l-1.37-1.37c-.4-.4-.92-.59-1.43-.59-.52 0-1.04.2-1.43.59L10.3 9.45l-7.72 7.72c-.78.78-.78 2.05 0 2.83L4 21.41c.39.39.9.59 1.41.59.51 0 1.02-.2 1.41-.59l7.78-7.78 2.81-2.81c.8-.78.8-2.07 0-2.86zM5.41 20L4 18.59l7.72-7.72 1.47 1.35L5.41 20z\"/>\n",
              "  </svg>\n",
              "      </button>\n",
              "      \n",
              "  <style>\n",
              "    .colab-df-container {\n",
              "      display:flex;\n",
              "      flex-wrap:wrap;\n",
              "      gap: 12px;\n",
              "    }\n",
              "\n",
              "    .colab-df-convert {\n",
              "      background-color: #E8F0FE;\n",
              "      border: none;\n",
              "      border-radius: 50%;\n",
              "      cursor: pointer;\n",
              "      display: none;\n",
              "      fill: #1967D2;\n",
              "      height: 32px;\n",
              "      padding: 0 0 0 0;\n",
              "      width: 32px;\n",
              "    }\n",
              "\n",
              "    .colab-df-convert:hover {\n",
              "      background-color: #E2EBFA;\n",
              "      box-shadow: 0px 1px 2px rgba(60, 64, 67, 0.3), 0px 1px 3px 1px rgba(60, 64, 67, 0.15);\n",
              "      fill: #174EA6;\n",
              "    }\n",
              "\n",
              "    [theme=dark] .colab-df-convert {\n",
              "      background-color: #3B4455;\n",
              "      fill: #D2E3FC;\n",
              "    }\n",
              "\n",
              "    [theme=dark] .colab-df-convert:hover {\n",
              "      background-color: #434B5C;\n",
              "      box-shadow: 0px 1px 3px 1px rgba(0, 0, 0, 0.15);\n",
              "      filter: drop-shadow(0px 1px 2px rgba(0, 0, 0, 0.3));\n",
              "      fill: #FFFFFF;\n",
              "    }\n",
              "  </style>\n",
              "\n",
              "      <script>\n",
              "        const buttonEl =\n",
              "          document.querySelector('#df-b53a07ff-f62a-43a4-a171-ad24d87686a0 button.colab-df-convert');\n",
              "        buttonEl.style.display =\n",
              "          google.colab.kernel.accessAllowed ? 'block' : 'none';\n",
              "\n",
              "        async function convertToInteractive(key) {\n",
              "          const element = document.querySelector('#df-b53a07ff-f62a-43a4-a171-ad24d87686a0');\n",
              "          const dataTable =\n",
              "            await google.colab.kernel.invokeFunction('convertToInteractive',\n",
              "                                                     [key], {});\n",
              "          if (!dataTable) return;\n",
              "\n",
              "          const docLinkHtml = 'Like what you see? Visit the ' +\n",
              "            '<a target=\"_blank\" href=https://colab.research.google.com/notebooks/data_table.ipynb>data table notebook</a>'\n",
              "            + ' to learn more about interactive tables.';\n",
              "          element.innerHTML = '';\n",
              "          dataTable['output_type'] = 'display_data';\n",
              "          await google.colab.output.renderOutput(dataTable, element);\n",
              "          const docLink = document.createElement('div');\n",
              "          docLink.innerHTML = docLinkHtml;\n",
              "          element.appendChild(docLink);\n",
              "        }\n",
              "      </script>\n",
              "    </div>\n",
              "  </div>\n",
              "  "
            ]
          },
          "metadata": {},
          "execution_count": 83
        }
      ],
      "source": [
        "lower_bound = data.beds.quantile(q=0.01)\n",
        "upper_bound = data.beds.quantile(q=0.99)\n",
        "data[(data.beds < lower_bound) | (data.beds > upper_bound)]"
      ]
    },
    {
      "cell_type": "code",
      "execution_count": 84,
      "metadata": {
        "id": "gHaGje8CgZbo"
      },
      "outputs": [],
      "source": [
        "data.replace(to_replace=data[(data.beds < lower_bound) | (data.beds > upper_bound)].beds, value=data.beds.mean(), inplace=True)"
      ]
    },
    {
      "cell_type": "code",
      "execution_count": 85,
      "metadata": {
        "colab": {
          "base_uri": "https://localhost:8080/"
        },
        "id": "Lzxb2rYsbv-x",
        "outputId": "598a0a51-3d58-483f-91c7-a59c723d267a"
      },
      "outputs": [
        {
          "output_type": "execute_result",
          "data": {
            "text/plain": [
              "214       0.041667\n",
              "260       0.097222\n",
              "334       0.048611\n",
              "411       0.041667\n",
              "951       0.041667\n",
              "            ...   \n",
              "376729    0.041667\n",
              "376816    0.041667\n",
              "376865    0.076389\n",
              "376884    0.041667\n",
              "377016    0.041667\n",
              "Name: beds, Length: 3412, dtype: float64"
            ]
          },
          "metadata": {},
          "execution_count": 85
        }
      ],
      "source": [
        "data[(data.beds < lower_bound) | (data.beds > upper_bound)].beds"
      ]
    },
    {
      "cell_type": "markdown",
      "metadata": {
        "id": "miTjvvr5FwUR"
      },
      "source": [
        "### stories"
      ]
    },
    {
      "cell_type": "code",
      "execution_count": 86,
      "metadata": {
        "colab": {
          "base_uri": "https://localhost:8080/",
          "height": 505
        },
        "id": "blv7tTjsFzTK",
        "outputId": "dd21faeb-e389-45f8-d5ef-48e96d56744a"
      },
      "outputs": [
        {
          "output_type": "execute_result",
          "data": {
            "text/plain": [
              "        propertyType  street     baths  city      sqft   zipcode      beds  \\\n",
              "67                40  101124  0.005600   320  0.000020  0.182868  0.020833   \n",
              "123               40  161824  0.005600   969  0.000020  0.268849  0.020833   \n",
              "170               40  187759  0.005600   609  0.000020  0.100493  0.020833   \n",
              "202               49  170416  0.005600  1226  0.000020  0.030264  0.020833   \n",
              "402               40  298042  0.005600  1369  0.000020  0.099642  0.020833   \n",
              "...              ...     ...       ...   ...       ...       ...       ...   \n",
              "376880            49  229424  0.005600   210  0.000020  0.031583  0.020833   \n",
              "377023            40   64340  0.005600   215  0.000020  0.033870  0.020833   \n",
              "377090            40  207286  0.005600   796  0.000020  0.099627  0.020833   \n",
              "377102            40  166564  0.001333   609  0.000002  0.100493  0.006944   \n",
              "377181            40  173271  0.005600   320  0.000020  0.183007  0.020833   \n",
              "\n",
              "        state   stories  new_target  ...  status_option  status_pending  \\\n",
              "67         11  0.008036    749000.0  ...              0               0   \n",
              "123        23  0.008036    519900.0  ...              0               0   \n",
              "170         7  0.008036    279900.0  ...              0               0   \n",
              "202        24  0.012500    455000.0  ...              0               0   \n",
              "402         7  0.004464    150000.0  ...              0               0   \n",
              "...       ...       ...         ...  ...            ...             ...   \n",
              "376880     24  0.005357    229000.0  ...              0               0   \n",
              "377023     24  0.007143    750000.0  ...              0               0   \n",
              "377090      7  0.004464    125000.0  ...              0               0   \n",
              "377102      7  0.008036    149999.0  ...              0               0   \n",
              "377181     11  0.008036    674999.0  ...              0               0   \n",
              "\n",
              "        status_pending,  status_pf  status_price change  status_reactivated  \\\n",
              "67                    0          0                    0                   0   \n",
              "123                   0          0                    0                   0   \n",
              "170                   0          0                    0                   0   \n",
              "202                   0          0                    0                   0   \n",
              "402                   0          0                    0                   0   \n",
              "...                 ...        ...                  ...                 ...   \n",
              "376880                0          0                    0                   0   \n",
              "377023                0          0                    0                   0   \n",
              "377090                0          0                    0                   0   \n",
              "377102                0          0                    0                   0   \n",
              "377181                0          0                    0                   0   \n",
              "\n",
              "        status_temporary  status_under  fireplace_yes  PrivatePool_yes  \n",
              "67                     0             0              0                1  \n",
              "123                    0             0              0                1  \n",
              "170                    0             0              0                0  \n",
              "202                    0             0              0                0  \n",
              "402                    0             0              0                0  \n",
              "...                  ...           ...            ...              ...  \n",
              "376880                 0             0              0                0  \n",
              "377023                 0             0              0                0  \n",
              "377090                 0             0              0                0  \n",
              "377102                 0             0              0                1  \n",
              "377181                 0             0              0                0  \n",
              "\n",
              "[7834 rows x 38 columns]"
            ],
            "text/html": [
              "\n",
              "  <div id=\"df-0fac149b-ad84-428a-a6af-70ba4160610e\">\n",
              "    <div class=\"colab-df-container\">\n",
              "      <div>\n",
              "<style scoped>\n",
              "    .dataframe tbody tr th:only-of-type {\n",
              "        vertical-align: middle;\n",
              "    }\n",
              "\n",
              "    .dataframe tbody tr th {\n",
              "        vertical-align: top;\n",
              "    }\n",
              "\n",
              "    .dataframe thead th {\n",
              "        text-align: right;\n",
              "    }\n",
              "</style>\n",
              "<table border=\"1\" class=\"dataframe\">\n",
              "  <thead>\n",
              "    <tr style=\"text-align: right;\">\n",
              "      <th></th>\n",
              "      <th>propertyType</th>\n",
              "      <th>street</th>\n",
              "      <th>baths</th>\n",
              "      <th>city</th>\n",
              "      <th>sqft</th>\n",
              "      <th>zipcode</th>\n",
              "      <th>beds</th>\n",
              "      <th>state</th>\n",
              "      <th>stories</th>\n",
              "      <th>new_target</th>\n",
              "      <th>...</th>\n",
              "      <th>status_option</th>\n",
              "      <th>status_pending</th>\n",
              "      <th>status_pending,</th>\n",
              "      <th>status_pf</th>\n",
              "      <th>status_price change</th>\n",
              "      <th>status_reactivated</th>\n",
              "      <th>status_temporary</th>\n",
              "      <th>status_under</th>\n",
              "      <th>fireplace_yes</th>\n",
              "      <th>PrivatePool_yes</th>\n",
              "    </tr>\n",
              "  </thead>\n",
              "  <tbody>\n",
              "    <tr>\n",
              "      <th>67</th>\n",
              "      <td>40</td>\n",
              "      <td>101124</td>\n",
              "      <td>0.005600</td>\n",
              "      <td>320</td>\n",
              "      <td>0.000020</td>\n",
              "      <td>0.182868</td>\n",
              "      <td>0.020833</td>\n",
              "      <td>11</td>\n",
              "      <td>0.008036</td>\n",
              "      <td>749000.0</td>\n",
              "      <td>...</td>\n",
              "      <td>0</td>\n",
              "      <td>0</td>\n",
              "      <td>0</td>\n",
              "      <td>0</td>\n",
              "      <td>0</td>\n",
              "      <td>0</td>\n",
              "      <td>0</td>\n",
              "      <td>0</td>\n",
              "      <td>0</td>\n",
              "      <td>1</td>\n",
              "    </tr>\n",
              "    <tr>\n",
              "      <th>123</th>\n",
              "      <td>40</td>\n",
              "      <td>161824</td>\n",
              "      <td>0.005600</td>\n",
              "      <td>969</td>\n",
              "      <td>0.000020</td>\n",
              "      <td>0.268849</td>\n",
              "      <td>0.020833</td>\n",
              "      <td>23</td>\n",
              "      <td>0.008036</td>\n",
              "      <td>519900.0</td>\n",
              "      <td>...</td>\n",
              "      <td>0</td>\n",
              "      <td>0</td>\n",
              "      <td>0</td>\n",
              "      <td>0</td>\n",
              "      <td>0</td>\n",
              "      <td>0</td>\n",
              "      <td>0</td>\n",
              "      <td>0</td>\n",
              "      <td>0</td>\n",
              "      <td>1</td>\n",
              "    </tr>\n",
              "    <tr>\n",
              "      <th>170</th>\n",
              "      <td>40</td>\n",
              "      <td>187759</td>\n",
              "      <td>0.005600</td>\n",
              "      <td>609</td>\n",
              "      <td>0.000020</td>\n",
              "      <td>0.100493</td>\n",
              "      <td>0.020833</td>\n",
              "      <td>7</td>\n",
              "      <td>0.008036</td>\n",
              "      <td>279900.0</td>\n",
              "      <td>...</td>\n",
              "      <td>0</td>\n",
              "      <td>0</td>\n",
              "      <td>0</td>\n",
              "      <td>0</td>\n",
              "      <td>0</td>\n",
              "      <td>0</td>\n",
              "      <td>0</td>\n",
              "      <td>0</td>\n",
              "      <td>0</td>\n",
              "      <td>0</td>\n",
              "    </tr>\n",
              "    <tr>\n",
              "      <th>202</th>\n",
              "      <td>49</td>\n",
              "      <td>170416</td>\n",
              "      <td>0.005600</td>\n",
              "      <td>1226</td>\n",
              "      <td>0.000020</td>\n",
              "      <td>0.030264</td>\n",
              "      <td>0.020833</td>\n",
              "      <td>24</td>\n",
              "      <td>0.012500</td>\n",
              "      <td>455000.0</td>\n",
              "      <td>...</td>\n",
              "      <td>0</td>\n",
              "      <td>0</td>\n",
              "      <td>0</td>\n",
              "      <td>0</td>\n",
              "      <td>0</td>\n",
              "      <td>0</td>\n",
              "      <td>0</td>\n",
              "      <td>0</td>\n",
              "      <td>0</td>\n",
              "      <td>0</td>\n",
              "    </tr>\n",
              "    <tr>\n",
              "      <th>402</th>\n",
              "      <td>40</td>\n",
              "      <td>298042</td>\n",
              "      <td>0.005600</td>\n",
              "      <td>1369</td>\n",
              "      <td>0.000020</td>\n",
              "      <td>0.099642</td>\n",
              "      <td>0.020833</td>\n",
              "      <td>7</td>\n",
              "      <td>0.004464</td>\n",
              "      <td>150000.0</td>\n",
              "      <td>...</td>\n",
              "      <td>0</td>\n",
              "      <td>0</td>\n",
              "      <td>0</td>\n",
              "      <td>0</td>\n",
              "      <td>0</td>\n",
              "      <td>0</td>\n",
              "      <td>0</td>\n",
              "      <td>0</td>\n",
              "      <td>0</td>\n",
              "      <td>0</td>\n",
              "    </tr>\n",
              "    <tr>\n",
              "      <th>...</th>\n",
              "      <td>...</td>\n",
              "      <td>...</td>\n",
              "      <td>...</td>\n",
              "      <td>...</td>\n",
              "      <td>...</td>\n",
              "      <td>...</td>\n",
              "      <td>...</td>\n",
              "      <td>...</td>\n",
              "      <td>...</td>\n",
              "      <td>...</td>\n",
              "      <td>...</td>\n",
              "      <td>...</td>\n",
              "      <td>...</td>\n",
              "      <td>...</td>\n",
              "      <td>...</td>\n",
              "      <td>...</td>\n",
              "      <td>...</td>\n",
              "      <td>...</td>\n",
              "      <td>...</td>\n",
              "      <td>...</td>\n",
              "      <td>...</td>\n",
              "    </tr>\n",
              "    <tr>\n",
              "      <th>376880</th>\n",
              "      <td>49</td>\n",
              "      <td>229424</td>\n",
              "      <td>0.005600</td>\n",
              "      <td>210</td>\n",
              "      <td>0.000020</td>\n",
              "      <td>0.031583</td>\n",
              "      <td>0.020833</td>\n",
              "      <td>24</td>\n",
              "      <td>0.005357</td>\n",
              "      <td>229000.0</td>\n",
              "      <td>...</td>\n",
              "      <td>0</td>\n",
              "      <td>0</td>\n",
              "      <td>0</td>\n",
              "      <td>0</td>\n",
              "      <td>0</td>\n",
              "      <td>0</td>\n",
              "      <td>0</td>\n",
              "      <td>0</td>\n",
              "      <td>0</td>\n",
              "      <td>0</td>\n",
              "    </tr>\n",
              "    <tr>\n",
              "      <th>377023</th>\n",
              "      <td>40</td>\n",
              "      <td>64340</td>\n",
              "      <td>0.005600</td>\n",
              "      <td>215</td>\n",
              "      <td>0.000020</td>\n",
              "      <td>0.033870</td>\n",
              "      <td>0.020833</td>\n",
              "      <td>24</td>\n",
              "      <td>0.007143</td>\n",
              "      <td>750000.0</td>\n",
              "      <td>...</td>\n",
              "      <td>0</td>\n",
              "      <td>0</td>\n",
              "      <td>0</td>\n",
              "      <td>0</td>\n",
              "      <td>0</td>\n",
              "      <td>0</td>\n",
              "      <td>0</td>\n",
              "      <td>0</td>\n",
              "      <td>0</td>\n",
              "      <td>0</td>\n",
              "    </tr>\n",
              "    <tr>\n",
              "      <th>377090</th>\n",
              "      <td>40</td>\n",
              "      <td>207286</td>\n",
              "      <td>0.005600</td>\n",
              "      <td>796</td>\n",
              "      <td>0.000020</td>\n",
              "      <td>0.099627</td>\n",
              "      <td>0.020833</td>\n",
              "      <td>7</td>\n",
              "      <td>0.004464</td>\n",
              "      <td>125000.0</td>\n",
              "      <td>...</td>\n",
              "      <td>0</td>\n",
              "      <td>0</td>\n",
              "      <td>0</td>\n",
              "      <td>0</td>\n",
              "      <td>0</td>\n",
              "      <td>0</td>\n",
              "      <td>0</td>\n",
              "      <td>0</td>\n",
              "      <td>0</td>\n",
              "      <td>0</td>\n",
              "    </tr>\n",
              "    <tr>\n",
              "      <th>377102</th>\n",
              "      <td>40</td>\n",
              "      <td>166564</td>\n",
              "      <td>0.001333</td>\n",
              "      <td>609</td>\n",
              "      <td>0.000002</td>\n",
              "      <td>0.100493</td>\n",
              "      <td>0.006944</td>\n",
              "      <td>7</td>\n",
              "      <td>0.008036</td>\n",
              "      <td>149999.0</td>\n",
              "      <td>...</td>\n",
              "      <td>0</td>\n",
              "      <td>0</td>\n",
              "      <td>0</td>\n",
              "      <td>0</td>\n",
              "      <td>0</td>\n",
              "      <td>0</td>\n",
              "      <td>0</td>\n",
              "      <td>0</td>\n",
              "      <td>0</td>\n",
              "      <td>1</td>\n",
              "    </tr>\n",
              "    <tr>\n",
              "      <th>377181</th>\n",
              "      <td>40</td>\n",
              "      <td>173271</td>\n",
              "      <td>0.005600</td>\n",
              "      <td>320</td>\n",
              "      <td>0.000020</td>\n",
              "      <td>0.183007</td>\n",
              "      <td>0.020833</td>\n",
              "      <td>11</td>\n",
              "      <td>0.008036</td>\n",
              "      <td>674999.0</td>\n",
              "      <td>...</td>\n",
              "      <td>0</td>\n",
              "      <td>0</td>\n",
              "      <td>0</td>\n",
              "      <td>0</td>\n",
              "      <td>0</td>\n",
              "      <td>0</td>\n",
              "      <td>0</td>\n",
              "      <td>0</td>\n",
              "      <td>0</td>\n",
              "      <td>0</td>\n",
              "    </tr>\n",
              "  </tbody>\n",
              "</table>\n",
              "<p>7834 rows × 38 columns</p>\n",
              "</div>\n",
              "      <button class=\"colab-df-convert\" onclick=\"convertToInteractive('df-0fac149b-ad84-428a-a6af-70ba4160610e')\"\n",
              "              title=\"Convert this dataframe to an interactive table.\"\n",
              "              style=\"display:none;\">\n",
              "        \n",
              "  <svg xmlns=\"http://www.w3.org/2000/svg\" height=\"24px\"viewBox=\"0 0 24 24\"\n",
              "       width=\"24px\">\n",
              "    <path d=\"M0 0h24v24H0V0z\" fill=\"none\"/>\n",
              "    <path d=\"M18.56 5.44l.94 2.06.94-2.06 2.06-.94-2.06-.94-.94-2.06-.94 2.06-2.06.94zm-11 1L8.5 8.5l.94-2.06 2.06-.94-2.06-.94L8.5 2.5l-.94 2.06-2.06.94zm10 10l.94 2.06.94-2.06 2.06-.94-2.06-.94-.94-2.06-.94 2.06-2.06.94z\"/><path d=\"M17.41 7.96l-1.37-1.37c-.4-.4-.92-.59-1.43-.59-.52 0-1.04.2-1.43.59L10.3 9.45l-7.72 7.72c-.78.78-.78 2.05 0 2.83L4 21.41c.39.39.9.59 1.41.59.51 0 1.02-.2 1.41-.59l7.78-7.78 2.81-2.81c.8-.78.8-2.07 0-2.86zM5.41 20L4 18.59l7.72-7.72 1.47 1.35L5.41 20z\"/>\n",
              "  </svg>\n",
              "      </button>\n",
              "      \n",
              "  <style>\n",
              "    .colab-df-container {\n",
              "      display:flex;\n",
              "      flex-wrap:wrap;\n",
              "      gap: 12px;\n",
              "    }\n",
              "\n",
              "    .colab-df-convert {\n",
              "      background-color: #E8F0FE;\n",
              "      border: none;\n",
              "      border-radius: 50%;\n",
              "      cursor: pointer;\n",
              "      display: none;\n",
              "      fill: #1967D2;\n",
              "      height: 32px;\n",
              "      padding: 0 0 0 0;\n",
              "      width: 32px;\n",
              "    }\n",
              "\n",
              "    .colab-df-convert:hover {\n",
              "      background-color: #E2EBFA;\n",
              "      box-shadow: 0px 1px 2px rgba(60, 64, 67, 0.3), 0px 1px 3px 1px rgba(60, 64, 67, 0.15);\n",
              "      fill: #174EA6;\n",
              "    }\n",
              "\n",
              "    [theme=dark] .colab-df-convert {\n",
              "      background-color: #3B4455;\n",
              "      fill: #D2E3FC;\n",
              "    }\n",
              "\n",
              "    [theme=dark] .colab-df-convert:hover {\n",
              "      background-color: #434B5C;\n",
              "      box-shadow: 0px 1px 3px 1px rgba(0, 0, 0, 0.15);\n",
              "      filter: drop-shadow(0px 1px 2px rgba(0, 0, 0, 0.3));\n",
              "      fill: #FFFFFF;\n",
              "    }\n",
              "  </style>\n",
              "\n",
              "      <script>\n",
              "        const buttonEl =\n",
              "          document.querySelector('#df-0fac149b-ad84-428a-a6af-70ba4160610e button.colab-df-convert');\n",
              "        buttonEl.style.display =\n",
              "          google.colab.kernel.accessAllowed ? 'block' : 'none';\n",
              "\n",
              "        async function convertToInteractive(key) {\n",
              "          const element = document.querySelector('#df-0fac149b-ad84-428a-a6af-70ba4160610e');\n",
              "          const dataTable =\n",
              "            await google.colab.kernel.invokeFunction('convertToInteractive',\n",
              "                                                     [key], {});\n",
              "          if (!dataTable) return;\n",
              "\n",
              "          const docLinkHtml = 'Like what you see? Visit the ' +\n",
              "            '<a target=\"_blank\" href=https://colab.research.google.com/notebooks/data_table.ipynb>data table notebook</a>'\n",
              "            + ' to learn more about interactive tables.';\n",
              "          element.innerHTML = '';\n",
              "          dataTable['output_type'] = 'display_data';\n",
              "          await google.colab.output.renderOutput(dataTable, element);\n",
              "          const docLink = document.createElement('div');\n",
              "          docLink.innerHTML = docLinkHtml;\n",
              "          element.appendChild(docLink);\n",
              "        }\n",
              "      </script>\n",
              "    </div>\n",
              "  </div>\n",
              "  "
            ]
          },
          "metadata": {},
          "execution_count": 86
        }
      ],
      "source": [
        "lower_bound = data.stories.quantile(q=0.025)\n",
        "upper_bound = data.stories.quantile(q=0.975)\n",
        "data[(data.stories < lower_bound) | (data.stories > upper_bound)]"
      ]
    },
    {
      "cell_type": "code",
      "execution_count": 87,
      "metadata": {
        "colab": {
          "base_uri": "https://localhost:8080/"
        },
        "id": "DfSU8WDnNvBT",
        "outputId": "0daa76ca-937e-4ec0-ced9-54d76b4824e8"
      },
      "outputs": [
        {
          "output_type": "execute_result",
          "data": {
            "text/plain": [
              "67        0.001756\n",
              "123       0.001756\n",
              "170       0.001756\n",
              "202       0.001756\n",
              "402       0.001756\n",
              "            ...   \n",
              "376880    0.001756\n",
              "377023    0.001756\n",
              "377090    0.001756\n",
              "377102    0.001756\n",
              "377181    0.001756\n",
              "Name: stories, Length: 7834, dtype: float64"
            ]
          },
          "metadata": {},
          "execution_count": 87
        }
      ],
      "source": [
        "data[(data.stories < lower_bound) | (data.stories > upper_bound)].stories.apply(lambda x:data.stories.mean())"
      ]
    },
    {
      "cell_type": "code",
      "execution_count": 88,
      "metadata": {
        "colab": {
          "base_uri": "https://localhost:8080/",
          "height": 505
        },
        "id": "2rc1XsXadzme",
        "outputId": "28cb019b-f015-465c-887f-70da4da3c918"
      },
      "outputs": [
        {
          "output_type": "execute_result",
          "data": {
            "text/plain": [
              "        propertyType  street     baths  city      sqft   zipcode      beds  \\\n",
              "67                40  101124  0.005600   320  0.000020  0.182868  0.020833   \n",
              "123               40  161824  0.005600   969  0.000020  0.268849  0.020833   \n",
              "170               40  187759  0.005600   609  0.000020  0.100493  0.020833   \n",
              "202               49  170416  0.005600  1226  0.000020  0.030264  0.020833   \n",
              "402               40  298042  0.005600  1369  0.000020  0.099642  0.020833   \n",
              "...              ...     ...       ...   ...       ...       ...       ...   \n",
              "376880            49  229424  0.005600   210  0.000020  0.031583  0.020833   \n",
              "377023            40   64340  0.005600   215  0.000020  0.033870  0.020833   \n",
              "377090            40  207286  0.005600   796  0.000020  0.099627  0.020833   \n",
              "377102            40  166564  0.001333   609  0.000002  0.100493  0.006944   \n",
              "377181            40  173271  0.005600   320  0.000020  0.183007  0.020833   \n",
              "\n",
              "        state   stories  new_target  ...  status_option  status_pending  \\\n",
              "67         11  0.008036    749000.0  ...              0               0   \n",
              "123        23  0.008036    519900.0  ...              0               0   \n",
              "170         7  0.008036    279900.0  ...              0               0   \n",
              "202        24  0.012500    455000.0  ...              0               0   \n",
              "402         7  0.004464    150000.0  ...              0               0   \n",
              "...       ...       ...         ...  ...            ...             ...   \n",
              "376880     24  0.005357    229000.0  ...              0               0   \n",
              "377023     24  0.007143    750000.0  ...              0               0   \n",
              "377090      7  0.004464    125000.0  ...              0               0   \n",
              "377102      7  0.008036    149999.0  ...              0               0   \n",
              "377181     11  0.008036    674999.0  ...              0               0   \n",
              "\n",
              "        status_pending,  status_pf  status_price change  status_reactivated  \\\n",
              "67                    0          0                    0                   0   \n",
              "123                   0          0                    0                   0   \n",
              "170                   0          0                    0                   0   \n",
              "202                   0          0                    0                   0   \n",
              "402                   0          0                    0                   0   \n",
              "...                 ...        ...                  ...                 ...   \n",
              "376880                0          0                    0                   0   \n",
              "377023                0          0                    0                   0   \n",
              "377090                0          0                    0                   0   \n",
              "377102                0          0                    0                   0   \n",
              "377181                0          0                    0                   0   \n",
              "\n",
              "        status_temporary  status_under  fireplace_yes  PrivatePool_yes  \n",
              "67                     0             0              0                1  \n",
              "123                    0             0              0                1  \n",
              "170                    0             0              0                0  \n",
              "202                    0             0              0                0  \n",
              "402                    0             0              0                0  \n",
              "...                  ...           ...            ...              ...  \n",
              "376880                 0             0              0                0  \n",
              "377023                 0             0              0                0  \n",
              "377090                 0             0              0                0  \n",
              "377102                 0             0              0                1  \n",
              "377181                 0             0              0                0  \n",
              "\n",
              "[7834 rows x 38 columns]"
            ],
            "text/html": [
              "\n",
              "  <div id=\"df-347822d4-56ab-4e33-a6b1-adfee3a8cfa1\">\n",
              "    <div class=\"colab-df-container\">\n",
              "      <div>\n",
              "<style scoped>\n",
              "    .dataframe tbody tr th:only-of-type {\n",
              "        vertical-align: middle;\n",
              "    }\n",
              "\n",
              "    .dataframe tbody tr th {\n",
              "        vertical-align: top;\n",
              "    }\n",
              "\n",
              "    .dataframe thead th {\n",
              "        text-align: right;\n",
              "    }\n",
              "</style>\n",
              "<table border=\"1\" class=\"dataframe\">\n",
              "  <thead>\n",
              "    <tr style=\"text-align: right;\">\n",
              "      <th></th>\n",
              "      <th>propertyType</th>\n",
              "      <th>street</th>\n",
              "      <th>baths</th>\n",
              "      <th>city</th>\n",
              "      <th>sqft</th>\n",
              "      <th>zipcode</th>\n",
              "      <th>beds</th>\n",
              "      <th>state</th>\n",
              "      <th>stories</th>\n",
              "      <th>new_target</th>\n",
              "      <th>...</th>\n",
              "      <th>status_option</th>\n",
              "      <th>status_pending</th>\n",
              "      <th>status_pending,</th>\n",
              "      <th>status_pf</th>\n",
              "      <th>status_price change</th>\n",
              "      <th>status_reactivated</th>\n",
              "      <th>status_temporary</th>\n",
              "      <th>status_under</th>\n",
              "      <th>fireplace_yes</th>\n",
              "      <th>PrivatePool_yes</th>\n",
              "    </tr>\n",
              "  </thead>\n",
              "  <tbody>\n",
              "    <tr>\n",
              "      <th>67</th>\n",
              "      <td>40</td>\n",
              "      <td>101124</td>\n",
              "      <td>0.005600</td>\n",
              "      <td>320</td>\n",
              "      <td>0.000020</td>\n",
              "      <td>0.182868</td>\n",
              "      <td>0.020833</td>\n",
              "      <td>11</td>\n",
              "      <td>0.008036</td>\n",
              "      <td>749000.0</td>\n",
              "      <td>...</td>\n",
              "      <td>0</td>\n",
              "      <td>0</td>\n",
              "      <td>0</td>\n",
              "      <td>0</td>\n",
              "      <td>0</td>\n",
              "      <td>0</td>\n",
              "      <td>0</td>\n",
              "      <td>0</td>\n",
              "      <td>0</td>\n",
              "      <td>1</td>\n",
              "    </tr>\n",
              "    <tr>\n",
              "      <th>123</th>\n",
              "      <td>40</td>\n",
              "      <td>161824</td>\n",
              "      <td>0.005600</td>\n",
              "      <td>969</td>\n",
              "      <td>0.000020</td>\n",
              "      <td>0.268849</td>\n",
              "      <td>0.020833</td>\n",
              "      <td>23</td>\n",
              "      <td>0.008036</td>\n",
              "      <td>519900.0</td>\n",
              "      <td>...</td>\n",
              "      <td>0</td>\n",
              "      <td>0</td>\n",
              "      <td>0</td>\n",
              "      <td>0</td>\n",
              "      <td>0</td>\n",
              "      <td>0</td>\n",
              "      <td>0</td>\n",
              "      <td>0</td>\n",
              "      <td>0</td>\n",
              "      <td>1</td>\n",
              "    </tr>\n",
              "    <tr>\n",
              "      <th>170</th>\n",
              "      <td>40</td>\n",
              "      <td>187759</td>\n",
              "      <td>0.005600</td>\n",
              "      <td>609</td>\n",
              "      <td>0.000020</td>\n",
              "      <td>0.100493</td>\n",
              "      <td>0.020833</td>\n",
              "      <td>7</td>\n",
              "      <td>0.008036</td>\n",
              "      <td>279900.0</td>\n",
              "      <td>...</td>\n",
              "      <td>0</td>\n",
              "      <td>0</td>\n",
              "      <td>0</td>\n",
              "      <td>0</td>\n",
              "      <td>0</td>\n",
              "      <td>0</td>\n",
              "      <td>0</td>\n",
              "      <td>0</td>\n",
              "      <td>0</td>\n",
              "      <td>0</td>\n",
              "    </tr>\n",
              "    <tr>\n",
              "      <th>202</th>\n",
              "      <td>49</td>\n",
              "      <td>170416</td>\n",
              "      <td>0.005600</td>\n",
              "      <td>1226</td>\n",
              "      <td>0.000020</td>\n",
              "      <td>0.030264</td>\n",
              "      <td>0.020833</td>\n",
              "      <td>24</td>\n",
              "      <td>0.012500</td>\n",
              "      <td>455000.0</td>\n",
              "      <td>...</td>\n",
              "      <td>0</td>\n",
              "      <td>0</td>\n",
              "      <td>0</td>\n",
              "      <td>0</td>\n",
              "      <td>0</td>\n",
              "      <td>0</td>\n",
              "      <td>0</td>\n",
              "      <td>0</td>\n",
              "      <td>0</td>\n",
              "      <td>0</td>\n",
              "    </tr>\n",
              "    <tr>\n",
              "      <th>402</th>\n",
              "      <td>40</td>\n",
              "      <td>298042</td>\n",
              "      <td>0.005600</td>\n",
              "      <td>1369</td>\n",
              "      <td>0.000020</td>\n",
              "      <td>0.099642</td>\n",
              "      <td>0.020833</td>\n",
              "      <td>7</td>\n",
              "      <td>0.004464</td>\n",
              "      <td>150000.0</td>\n",
              "      <td>...</td>\n",
              "      <td>0</td>\n",
              "      <td>0</td>\n",
              "      <td>0</td>\n",
              "      <td>0</td>\n",
              "      <td>0</td>\n",
              "      <td>0</td>\n",
              "      <td>0</td>\n",
              "      <td>0</td>\n",
              "      <td>0</td>\n",
              "      <td>0</td>\n",
              "    </tr>\n",
              "    <tr>\n",
              "      <th>...</th>\n",
              "      <td>...</td>\n",
              "      <td>...</td>\n",
              "      <td>...</td>\n",
              "      <td>...</td>\n",
              "      <td>...</td>\n",
              "      <td>...</td>\n",
              "      <td>...</td>\n",
              "      <td>...</td>\n",
              "      <td>...</td>\n",
              "      <td>...</td>\n",
              "      <td>...</td>\n",
              "      <td>...</td>\n",
              "      <td>...</td>\n",
              "      <td>...</td>\n",
              "      <td>...</td>\n",
              "      <td>...</td>\n",
              "      <td>...</td>\n",
              "      <td>...</td>\n",
              "      <td>...</td>\n",
              "      <td>...</td>\n",
              "      <td>...</td>\n",
              "    </tr>\n",
              "    <tr>\n",
              "      <th>376880</th>\n",
              "      <td>49</td>\n",
              "      <td>229424</td>\n",
              "      <td>0.005600</td>\n",
              "      <td>210</td>\n",
              "      <td>0.000020</td>\n",
              "      <td>0.031583</td>\n",
              "      <td>0.020833</td>\n",
              "      <td>24</td>\n",
              "      <td>0.005357</td>\n",
              "      <td>229000.0</td>\n",
              "      <td>...</td>\n",
              "      <td>0</td>\n",
              "      <td>0</td>\n",
              "      <td>0</td>\n",
              "      <td>0</td>\n",
              "      <td>0</td>\n",
              "      <td>0</td>\n",
              "      <td>0</td>\n",
              "      <td>0</td>\n",
              "      <td>0</td>\n",
              "      <td>0</td>\n",
              "    </tr>\n",
              "    <tr>\n",
              "      <th>377023</th>\n",
              "      <td>40</td>\n",
              "      <td>64340</td>\n",
              "      <td>0.005600</td>\n",
              "      <td>215</td>\n",
              "      <td>0.000020</td>\n",
              "      <td>0.033870</td>\n",
              "      <td>0.020833</td>\n",
              "      <td>24</td>\n",
              "      <td>0.007143</td>\n",
              "      <td>750000.0</td>\n",
              "      <td>...</td>\n",
              "      <td>0</td>\n",
              "      <td>0</td>\n",
              "      <td>0</td>\n",
              "      <td>0</td>\n",
              "      <td>0</td>\n",
              "      <td>0</td>\n",
              "      <td>0</td>\n",
              "      <td>0</td>\n",
              "      <td>0</td>\n",
              "      <td>0</td>\n",
              "    </tr>\n",
              "    <tr>\n",
              "      <th>377090</th>\n",
              "      <td>40</td>\n",
              "      <td>207286</td>\n",
              "      <td>0.005600</td>\n",
              "      <td>796</td>\n",
              "      <td>0.000020</td>\n",
              "      <td>0.099627</td>\n",
              "      <td>0.020833</td>\n",
              "      <td>7</td>\n",
              "      <td>0.004464</td>\n",
              "      <td>125000.0</td>\n",
              "      <td>...</td>\n",
              "      <td>0</td>\n",
              "      <td>0</td>\n",
              "      <td>0</td>\n",
              "      <td>0</td>\n",
              "      <td>0</td>\n",
              "      <td>0</td>\n",
              "      <td>0</td>\n",
              "      <td>0</td>\n",
              "      <td>0</td>\n",
              "      <td>0</td>\n",
              "    </tr>\n",
              "    <tr>\n",
              "      <th>377102</th>\n",
              "      <td>40</td>\n",
              "      <td>166564</td>\n",
              "      <td>0.001333</td>\n",
              "      <td>609</td>\n",
              "      <td>0.000002</td>\n",
              "      <td>0.100493</td>\n",
              "      <td>0.006944</td>\n",
              "      <td>7</td>\n",
              "      <td>0.008036</td>\n",
              "      <td>149999.0</td>\n",
              "      <td>...</td>\n",
              "      <td>0</td>\n",
              "      <td>0</td>\n",
              "      <td>0</td>\n",
              "      <td>0</td>\n",
              "      <td>0</td>\n",
              "      <td>0</td>\n",
              "      <td>0</td>\n",
              "      <td>0</td>\n",
              "      <td>0</td>\n",
              "      <td>1</td>\n",
              "    </tr>\n",
              "    <tr>\n",
              "      <th>377181</th>\n",
              "      <td>40</td>\n",
              "      <td>173271</td>\n",
              "      <td>0.005600</td>\n",
              "      <td>320</td>\n",
              "      <td>0.000020</td>\n",
              "      <td>0.183007</td>\n",
              "      <td>0.020833</td>\n",
              "      <td>11</td>\n",
              "      <td>0.008036</td>\n",
              "      <td>674999.0</td>\n",
              "      <td>...</td>\n",
              "      <td>0</td>\n",
              "      <td>0</td>\n",
              "      <td>0</td>\n",
              "      <td>0</td>\n",
              "      <td>0</td>\n",
              "      <td>0</td>\n",
              "      <td>0</td>\n",
              "      <td>0</td>\n",
              "      <td>0</td>\n",
              "      <td>0</td>\n",
              "    </tr>\n",
              "  </tbody>\n",
              "</table>\n",
              "<p>7834 rows × 38 columns</p>\n",
              "</div>\n",
              "      <button class=\"colab-df-convert\" onclick=\"convertToInteractive('df-347822d4-56ab-4e33-a6b1-adfee3a8cfa1')\"\n",
              "              title=\"Convert this dataframe to an interactive table.\"\n",
              "              style=\"display:none;\">\n",
              "        \n",
              "  <svg xmlns=\"http://www.w3.org/2000/svg\" height=\"24px\"viewBox=\"0 0 24 24\"\n",
              "       width=\"24px\">\n",
              "    <path d=\"M0 0h24v24H0V0z\" fill=\"none\"/>\n",
              "    <path d=\"M18.56 5.44l.94 2.06.94-2.06 2.06-.94-2.06-.94-.94-2.06-.94 2.06-2.06.94zm-11 1L8.5 8.5l.94-2.06 2.06-.94-2.06-.94L8.5 2.5l-.94 2.06-2.06.94zm10 10l.94 2.06.94-2.06 2.06-.94-2.06-.94-.94-2.06-.94 2.06-2.06.94z\"/><path d=\"M17.41 7.96l-1.37-1.37c-.4-.4-.92-.59-1.43-.59-.52 0-1.04.2-1.43.59L10.3 9.45l-7.72 7.72c-.78.78-.78 2.05 0 2.83L4 21.41c.39.39.9.59 1.41.59.51 0 1.02-.2 1.41-.59l7.78-7.78 2.81-2.81c.8-.78.8-2.07 0-2.86zM5.41 20L4 18.59l7.72-7.72 1.47 1.35L5.41 20z\"/>\n",
              "  </svg>\n",
              "      </button>\n",
              "      \n",
              "  <style>\n",
              "    .colab-df-container {\n",
              "      display:flex;\n",
              "      flex-wrap:wrap;\n",
              "      gap: 12px;\n",
              "    }\n",
              "\n",
              "    .colab-df-convert {\n",
              "      background-color: #E8F0FE;\n",
              "      border: none;\n",
              "      border-radius: 50%;\n",
              "      cursor: pointer;\n",
              "      display: none;\n",
              "      fill: #1967D2;\n",
              "      height: 32px;\n",
              "      padding: 0 0 0 0;\n",
              "      width: 32px;\n",
              "    }\n",
              "\n",
              "    .colab-df-convert:hover {\n",
              "      background-color: #E2EBFA;\n",
              "      box-shadow: 0px 1px 2px rgba(60, 64, 67, 0.3), 0px 1px 3px 1px rgba(60, 64, 67, 0.15);\n",
              "      fill: #174EA6;\n",
              "    }\n",
              "\n",
              "    [theme=dark] .colab-df-convert {\n",
              "      background-color: #3B4455;\n",
              "      fill: #D2E3FC;\n",
              "    }\n",
              "\n",
              "    [theme=dark] .colab-df-convert:hover {\n",
              "      background-color: #434B5C;\n",
              "      box-shadow: 0px 1px 3px 1px rgba(0, 0, 0, 0.15);\n",
              "      filter: drop-shadow(0px 1px 2px rgba(0, 0, 0, 0.3));\n",
              "      fill: #FFFFFF;\n",
              "    }\n",
              "  </style>\n",
              "\n",
              "      <script>\n",
              "        const buttonEl =\n",
              "          document.querySelector('#df-347822d4-56ab-4e33-a6b1-adfee3a8cfa1 button.colab-df-convert');\n",
              "        buttonEl.style.display =\n",
              "          google.colab.kernel.accessAllowed ? 'block' : 'none';\n",
              "\n",
              "        async function convertToInteractive(key) {\n",
              "          const element = document.querySelector('#df-347822d4-56ab-4e33-a6b1-adfee3a8cfa1');\n",
              "          const dataTable =\n",
              "            await google.colab.kernel.invokeFunction('convertToInteractive',\n",
              "                                                     [key], {});\n",
              "          if (!dataTable) return;\n",
              "\n",
              "          const docLinkHtml = 'Like what you see? Visit the ' +\n",
              "            '<a target=\"_blank\" href=https://colab.research.google.com/notebooks/data_table.ipynb>data table notebook</a>'\n",
              "            + ' to learn more about interactive tables.';\n",
              "          element.innerHTML = '';\n",
              "          dataTable['output_type'] = 'display_data';\n",
              "          await google.colab.output.renderOutput(dataTable, element);\n",
              "          const docLink = document.createElement('div');\n",
              "          docLink.innerHTML = docLinkHtml;\n",
              "          element.appendChild(docLink);\n",
              "        }\n",
              "      </script>\n",
              "    </div>\n",
              "  </div>\n",
              "  "
            ]
          },
          "metadata": {},
          "execution_count": 88
        }
      ],
      "source": [
        "data[(data.stories < lower_bound) | (data.stories > upper_bound)]"
      ]
    },
    {
      "cell_type": "markdown",
      "metadata": {
        "id": "g6h9qFWDF0IJ"
      },
      "source": [
        "### baths"
      ]
    },
    {
      "cell_type": "code",
      "execution_count": 89,
      "metadata": {
        "colab": {
          "base_uri": "https://localhost:8080/",
          "height": 505
        },
        "id": "_NIcmZHbF2o7",
        "outputId": "a0e54693-7802-4ade-95b5-23db3beca4d5"
      },
      "outputs": [
        {
          "output_type": "execute_result",
          "data": {
            "text/plain": [
              "        propertyType  street     baths  city      sqft   zipcode      beds  \\\n",
              "75               149  190627  0.006000   915  0.000011  0.104832  0.034722   \n",
              "113              149  164991  0.006667   809  0.000020  0.232611  0.027778   \n",
              "214              149  298217  0.006000   915  0.000007  0.104835  0.041667   \n",
              "260              125  189086  0.010667  1284  0.000020  0.285473  0.097222   \n",
              "295              100  318872  0.000000   809  0.000000  0.232379  0.020833   \n",
              "...              ...     ...       ...   ...       ...       ...       ...   \n",
              "377066           149  204538  0.006667   430  0.000020  0.226972  0.034722   \n",
              "377092           149  102465  0.006667   809  0.000020  0.232327  0.020833   \n",
              "377098           100   13755  0.000000  1415  0.000000  0.102436  0.020833   \n",
              "377152           149   80892  0.006667  1479  0.000020  0.270062  0.027778   \n",
              "377180           149  107420  0.008000  1118  0.000020  0.100107  0.034722   \n",
              "\n",
              "        state   stories  new_target  ...  status_option  status_pending  \\\n",
              "75          7  0.001786    414900.0  ...              0               0   \n",
              "113        33  0.001786   2197000.0  ...              0               0   \n",
              "214         7  0.001786    504000.0  ...              0               0   \n",
              "260         3  0.001786   2100000.0  ...              0               0   \n",
              "295        33  0.001786     39900.0  ...              0               1   \n",
              "...       ...       ...         ...  ...            ...             ...   \n",
              "377066     33  0.001786   1307000.0  ...              0               0   \n",
              "377092     33  0.003571    549000.0  ...              0               0   \n",
              "377098      7  0.001786      7000.0  ...              0               1   \n",
              "377152     23  0.001786   1000000.0  ...              0               0   \n",
              "377180      7  0.000000   1249000.0  ...              0               0   \n",
              "\n",
              "        status_pending,  status_pf  status_price change  status_reactivated  \\\n",
              "75                    0          0                    0                   0   \n",
              "113                   0          0                    0                   0   \n",
              "214                   0          0                    0                   0   \n",
              "260                   0          0                    0                   0   \n",
              "295                   0          0                    0                   0   \n",
              "...                 ...        ...                  ...                 ...   \n",
              "377066                0          0                    0                   0   \n",
              "377092                0          0                    0                   0   \n",
              "377098                0          0                    0                   0   \n",
              "377152                0          0                    0                   0   \n",
              "377180                0          0                    0                   0   \n",
              "\n",
              "        status_temporary  status_under  fireplace_yes  PrivatePool_yes  \n",
              "75                     0             0              0                0  \n",
              "113                    0             0              0                1  \n",
              "214                    0             0              0                0  \n",
              "260                    0             0              0                0  \n",
              "295                    0             0              0                0  \n",
              "...                  ...           ...            ...              ...  \n",
              "377066                 0             0              1                1  \n",
              "377092                 0             0              0                0  \n",
              "377098                 0             0              0                0  \n",
              "377152                 0             0              0                0  \n",
              "377180                 0             0              0                1  \n",
              "\n",
              "[11154 rows x 38 columns]"
            ],
            "text/html": [
              "\n",
              "  <div id=\"df-e74e33b5-40cf-4f71-afa8-3e3e2d4424d5\">\n",
              "    <div class=\"colab-df-container\">\n",
              "      <div>\n",
              "<style scoped>\n",
              "    .dataframe tbody tr th:only-of-type {\n",
              "        vertical-align: middle;\n",
              "    }\n",
              "\n",
              "    .dataframe tbody tr th {\n",
              "        vertical-align: top;\n",
              "    }\n",
              "\n",
              "    .dataframe thead th {\n",
              "        text-align: right;\n",
              "    }\n",
              "</style>\n",
              "<table border=\"1\" class=\"dataframe\">\n",
              "  <thead>\n",
              "    <tr style=\"text-align: right;\">\n",
              "      <th></th>\n",
              "      <th>propertyType</th>\n",
              "      <th>street</th>\n",
              "      <th>baths</th>\n",
              "      <th>city</th>\n",
              "      <th>sqft</th>\n",
              "      <th>zipcode</th>\n",
              "      <th>beds</th>\n",
              "      <th>state</th>\n",
              "      <th>stories</th>\n",
              "      <th>new_target</th>\n",
              "      <th>...</th>\n",
              "      <th>status_option</th>\n",
              "      <th>status_pending</th>\n",
              "      <th>status_pending,</th>\n",
              "      <th>status_pf</th>\n",
              "      <th>status_price change</th>\n",
              "      <th>status_reactivated</th>\n",
              "      <th>status_temporary</th>\n",
              "      <th>status_under</th>\n",
              "      <th>fireplace_yes</th>\n",
              "      <th>PrivatePool_yes</th>\n",
              "    </tr>\n",
              "  </thead>\n",
              "  <tbody>\n",
              "    <tr>\n",
              "      <th>75</th>\n",
              "      <td>149</td>\n",
              "      <td>190627</td>\n",
              "      <td>0.006000</td>\n",
              "      <td>915</td>\n",
              "      <td>0.000011</td>\n",
              "      <td>0.104832</td>\n",
              "      <td>0.034722</td>\n",
              "      <td>7</td>\n",
              "      <td>0.001786</td>\n",
              "      <td>414900.0</td>\n",
              "      <td>...</td>\n",
              "      <td>0</td>\n",
              "      <td>0</td>\n",
              "      <td>0</td>\n",
              "      <td>0</td>\n",
              "      <td>0</td>\n",
              "      <td>0</td>\n",
              "      <td>0</td>\n",
              "      <td>0</td>\n",
              "      <td>0</td>\n",
              "      <td>0</td>\n",
              "    </tr>\n",
              "    <tr>\n",
              "      <th>113</th>\n",
              "      <td>149</td>\n",
              "      <td>164991</td>\n",
              "      <td>0.006667</td>\n",
              "      <td>809</td>\n",
              "      <td>0.000020</td>\n",
              "      <td>0.232611</td>\n",
              "      <td>0.027778</td>\n",
              "      <td>33</td>\n",
              "      <td>0.001786</td>\n",
              "      <td>2197000.0</td>\n",
              "      <td>...</td>\n",
              "      <td>0</td>\n",
              "      <td>0</td>\n",
              "      <td>0</td>\n",
              "      <td>0</td>\n",
              "      <td>0</td>\n",
              "      <td>0</td>\n",
              "      <td>0</td>\n",
              "      <td>0</td>\n",
              "      <td>0</td>\n",
              "      <td>1</td>\n",
              "    </tr>\n",
              "    <tr>\n",
              "      <th>214</th>\n",
              "      <td>149</td>\n",
              "      <td>298217</td>\n",
              "      <td>0.006000</td>\n",
              "      <td>915</td>\n",
              "      <td>0.000007</td>\n",
              "      <td>0.104835</td>\n",
              "      <td>0.041667</td>\n",
              "      <td>7</td>\n",
              "      <td>0.001786</td>\n",
              "      <td>504000.0</td>\n",
              "      <td>...</td>\n",
              "      <td>0</td>\n",
              "      <td>0</td>\n",
              "      <td>0</td>\n",
              "      <td>0</td>\n",
              "      <td>0</td>\n",
              "      <td>0</td>\n",
              "      <td>0</td>\n",
              "      <td>0</td>\n",
              "      <td>0</td>\n",
              "      <td>0</td>\n",
              "    </tr>\n",
              "    <tr>\n",
              "      <th>260</th>\n",
              "      <td>125</td>\n",
              "      <td>189086</td>\n",
              "      <td>0.010667</td>\n",
              "      <td>1284</td>\n",
              "      <td>0.000020</td>\n",
              "      <td>0.285473</td>\n",
              "      <td>0.097222</td>\n",
              "      <td>3</td>\n",
              "      <td>0.001786</td>\n",
              "      <td>2100000.0</td>\n",
              "      <td>...</td>\n",
              "      <td>0</td>\n",
              "      <td>0</td>\n",
              "      <td>0</td>\n",
              "      <td>0</td>\n",
              "      <td>0</td>\n",
              "      <td>0</td>\n",
              "      <td>0</td>\n",
              "      <td>0</td>\n",
              "      <td>0</td>\n",
              "      <td>0</td>\n",
              "    </tr>\n",
              "    <tr>\n",
              "      <th>295</th>\n",
              "      <td>100</td>\n",
              "      <td>318872</td>\n",
              "      <td>0.000000</td>\n",
              "      <td>809</td>\n",
              "      <td>0.000000</td>\n",
              "      <td>0.232379</td>\n",
              "      <td>0.020833</td>\n",
              "      <td>33</td>\n",
              "      <td>0.001786</td>\n",
              "      <td>39900.0</td>\n",
              "      <td>...</td>\n",
              "      <td>0</td>\n",
              "      <td>1</td>\n",
              "      <td>0</td>\n",
              "      <td>0</td>\n",
              "      <td>0</td>\n",
              "      <td>0</td>\n",
              "      <td>0</td>\n",
              "      <td>0</td>\n",
              "      <td>0</td>\n",
              "      <td>0</td>\n",
              "    </tr>\n",
              "    <tr>\n",
              "      <th>...</th>\n",
              "      <td>...</td>\n",
              "      <td>...</td>\n",
              "      <td>...</td>\n",
              "      <td>...</td>\n",
              "      <td>...</td>\n",
              "      <td>...</td>\n",
              "      <td>...</td>\n",
              "      <td>...</td>\n",
              "      <td>...</td>\n",
              "      <td>...</td>\n",
              "      <td>...</td>\n",
              "      <td>...</td>\n",
              "      <td>...</td>\n",
              "      <td>...</td>\n",
              "      <td>...</td>\n",
              "      <td>...</td>\n",
              "      <td>...</td>\n",
              "      <td>...</td>\n",
              "      <td>...</td>\n",
              "      <td>...</td>\n",
              "      <td>...</td>\n",
              "    </tr>\n",
              "    <tr>\n",
              "      <th>377066</th>\n",
              "      <td>149</td>\n",
              "      <td>204538</td>\n",
              "      <td>0.006667</td>\n",
              "      <td>430</td>\n",
              "      <td>0.000020</td>\n",
              "      <td>0.226972</td>\n",
              "      <td>0.034722</td>\n",
              "      <td>33</td>\n",
              "      <td>0.001786</td>\n",
              "      <td>1307000.0</td>\n",
              "      <td>...</td>\n",
              "      <td>0</td>\n",
              "      <td>0</td>\n",
              "      <td>0</td>\n",
              "      <td>0</td>\n",
              "      <td>0</td>\n",
              "      <td>0</td>\n",
              "      <td>0</td>\n",
              "      <td>0</td>\n",
              "      <td>1</td>\n",
              "      <td>1</td>\n",
              "    </tr>\n",
              "    <tr>\n",
              "      <th>377092</th>\n",
              "      <td>149</td>\n",
              "      <td>102465</td>\n",
              "      <td>0.006667</td>\n",
              "      <td>809</td>\n",
              "      <td>0.000020</td>\n",
              "      <td>0.232327</td>\n",
              "      <td>0.020833</td>\n",
              "      <td>33</td>\n",
              "      <td>0.003571</td>\n",
              "      <td>549000.0</td>\n",
              "      <td>...</td>\n",
              "      <td>0</td>\n",
              "      <td>0</td>\n",
              "      <td>0</td>\n",
              "      <td>0</td>\n",
              "      <td>0</td>\n",
              "      <td>0</td>\n",
              "      <td>0</td>\n",
              "      <td>0</td>\n",
              "      <td>0</td>\n",
              "      <td>0</td>\n",
              "    </tr>\n",
              "    <tr>\n",
              "      <th>377098</th>\n",
              "      <td>100</td>\n",
              "      <td>13755</td>\n",
              "      <td>0.000000</td>\n",
              "      <td>1415</td>\n",
              "      <td>0.000000</td>\n",
              "      <td>0.102436</td>\n",
              "      <td>0.020833</td>\n",
              "      <td>7</td>\n",
              "      <td>0.001786</td>\n",
              "      <td>7000.0</td>\n",
              "      <td>...</td>\n",
              "      <td>0</td>\n",
              "      <td>1</td>\n",
              "      <td>0</td>\n",
              "      <td>0</td>\n",
              "      <td>0</td>\n",
              "      <td>0</td>\n",
              "      <td>0</td>\n",
              "      <td>0</td>\n",
              "      <td>0</td>\n",
              "      <td>0</td>\n",
              "    </tr>\n",
              "    <tr>\n",
              "      <th>377152</th>\n",
              "      <td>149</td>\n",
              "      <td>80892</td>\n",
              "      <td>0.006667</td>\n",
              "      <td>1479</td>\n",
              "      <td>0.000020</td>\n",
              "      <td>0.270062</td>\n",
              "      <td>0.027778</td>\n",
              "      <td>23</td>\n",
              "      <td>0.001786</td>\n",
              "      <td>1000000.0</td>\n",
              "      <td>...</td>\n",
              "      <td>0</td>\n",
              "      <td>0</td>\n",
              "      <td>0</td>\n",
              "      <td>0</td>\n",
              "      <td>0</td>\n",
              "      <td>0</td>\n",
              "      <td>0</td>\n",
              "      <td>0</td>\n",
              "      <td>0</td>\n",
              "      <td>0</td>\n",
              "    </tr>\n",
              "    <tr>\n",
              "      <th>377180</th>\n",
              "      <td>149</td>\n",
              "      <td>107420</td>\n",
              "      <td>0.008000</td>\n",
              "      <td>1118</td>\n",
              "      <td>0.000020</td>\n",
              "      <td>0.100107</td>\n",
              "      <td>0.034722</td>\n",
              "      <td>7</td>\n",
              "      <td>0.000000</td>\n",
              "      <td>1249000.0</td>\n",
              "      <td>...</td>\n",
              "      <td>0</td>\n",
              "      <td>0</td>\n",
              "      <td>0</td>\n",
              "      <td>0</td>\n",
              "      <td>0</td>\n",
              "      <td>0</td>\n",
              "      <td>0</td>\n",
              "      <td>0</td>\n",
              "      <td>0</td>\n",
              "      <td>1</td>\n",
              "    </tr>\n",
              "  </tbody>\n",
              "</table>\n",
              "<p>11154 rows × 38 columns</p>\n",
              "</div>\n",
              "      <button class=\"colab-df-convert\" onclick=\"convertToInteractive('df-e74e33b5-40cf-4f71-afa8-3e3e2d4424d5')\"\n",
              "              title=\"Convert this dataframe to an interactive table.\"\n",
              "              style=\"display:none;\">\n",
              "        \n",
              "  <svg xmlns=\"http://www.w3.org/2000/svg\" height=\"24px\"viewBox=\"0 0 24 24\"\n",
              "       width=\"24px\">\n",
              "    <path d=\"M0 0h24v24H0V0z\" fill=\"none\"/>\n",
              "    <path d=\"M18.56 5.44l.94 2.06.94-2.06 2.06-.94-2.06-.94-.94-2.06-.94 2.06-2.06.94zm-11 1L8.5 8.5l.94-2.06 2.06-.94-2.06-.94L8.5 2.5l-.94 2.06-2.06.94zm10 10l.94 2.06.94-2.06 2.06-.94-2.06-.94-.94-2.06-.94 2.06-2.06.94z\"/><path d=\"M17.41 7.96l-1.37-1.37c-.4-.4-.92-.59-1.43-.59-.52 0-1.04.2-1.43.59L10.3 9.45l-7.72 7.72c-.78.78-.78 2.05 0 2.83L4 21.41c.39.39.9.59 1.41.59.51 0 1.02-.2 1.41-.59l7.78-7.78 2.81-2.81c.8-.78.8-2.07 0-2.86zM5.41 20L4 18.59l7.72-7.72 1.47 1.35L5.41 20z\"/>\n",
              "  </svg>\n",
              "      </button>\n",
              "      \n",
              "  <style>\n",
              "    .colab-df-container {\n",
              "      display:flex;\n",
              "      flex-wrap:wrap;\n",
              "      gap: 12px;\n",
              "    }\n",
              "\n",
              "    .colab-df-convert {\n",
              "      background-color: #E8F0FE;\n",
              "      border: none;\n",
              "      border-radius: 50%;\n",
              "      cursor: pointer;\n",
              "      display: none;\n",
              "      fill: #1967D2;\n",
              "      height: 32px;\n",
              "      padding: 0 0 0 0;\n",
              "      width: 32px;\n",
              "    }\n",
              "\n",
              "    .colab-df-convert:hover {\n",
              "      background-color: #E2EBFA;\n",
              "      box-shadow: 0px 1px 2px rgba(60, 64, 67, 0.3), 0px 1px 3px 1px rgba(60, 64, 67, 0.15);\n",
              "      fill: #174EA6;\n",
              "    }\n",
              "\n",
              "    [theme=dark] .colab-df-convert {\n",
              "      background-color: #3B4455;\n",
              "      fill: #D2E3FC;\n",
              "    }\n",
              "\n",
              "    [theme=dark] .colab-df-convert:hover {\n",
              "      background-color: #434B5C;\n",
              "      box-shadow: 0px 1px 3px 1px rgba(0, 0, 0, 0.15);\n",
              "      filter: drop-shadow(0px 1px 2px rgba(0, 0, 0, 0.3));\n",
              "      fill: #FFFFFF;\n",
              "    }\n",
              "  </style>\n",
              "\n",
              "      <script>\n",
              "        const buttonEl =\n",
              "          document.querySelector('#df-e74e33b5-40cf-4f71-afa8-3e3e2d4424d5 button.colab-df-convert');\n",
              "        buttonEl.style.display =\n",
              "          google.colab.kernel.accessAllowed ? 'block' : 'none';\n",
              "\n",
              "        async function convertToInteractive(key) {\n",
              "          const element = document.querySelector('#df-e74e33b5-40cf-4f71-afa8-3e3e2d4424d5');\n",
              "          const dataTable =\n",
              "            await google.colab.kernel.invokeFunction('convertToInteractive',\n",
              "                                                     [key], {});\n",
              "          if (!dataTable) return;\n",
              "\n",
              "          const docLinkHtml = 'Like what you see? Visit the ' +\n",
              "            '<a target=\"_blank\" href=https://colab.research.google.com/notebooks/data_table.ipynb>data table notebook</a>'\n",
              "            + ' to learn more about interactive tables.';\n",
              "          element.innerHTML = '';\n",
              "          dataTable['output_type'] = 'display_data';\n",
              "          await google.colab.output.renderOutput(dataTable, element);\n",
              "          const docLink = document.createElement('div');\n",
              "          docLink.innerHTML = docLinkHtml;\n",
              "          element.appendChild(docLink);\n",
              "        }\n",
              "      </script>\n",
              "    </div>\n",
              "  </div>\n",
              "  "
            ]
          },
          "metadata": {},
          "execution_count": 89
        }
      ],
      "source": [
        "lower_bound = data.baths.quantile(q=0.025)\n",
        "upper_bound = data.baths.quantile(q=0.975)\n",
        "data[(data.baths < lower_bound) | (data.baths > upper_bound)]"
      ]
    },
    {
      "cell_type": "code",
      "execution_count": 90,
      "metadata": {
        "colab": {
          "base_uri": "https://localhost:8080/"
        },
        "id": "VIluWasMOC9F",
        "outputId": "22f17f3f-da6c-4f16-dc1f-aa6acaa4b56a"
      },
      "outputs": [
        {
          "output_type": "execute_result",
          "data": {
            "text/plain": [
              "75        0.005618\n",
              "113       0.005618\n",
              "214       0.005618\n",
              "260       0.005618\n",
              "295       0.005618\n",
              "            ...   \n",
              "377066    0.005618\n",
              "377092    0.005618\n",
              "377098    0.005618\n",
              "377152    0.005618\n",
              "377180    0.005618\n",
              "Name: baths, Length: 11154, dtype: float64"
            ]
          },
          "metadata": {},
          "execution_count": 90
        }
      ],
      "source": [
        "data[(data.baths < lower_bound) | (data.baths > upper_bound)].baths.apply(lambda x:data.baths.mean())"
      ]
    },
    {
      "cell_type": "code",
      "execution_count": 91,
      "metadata": {
        "colab": {
          "base_uri": "https://localhost:8080/",
          "height": 505
        },
        "id": "UjBypLkLd2W_",
        "outputId": "c4cbc488-3a4e-42ea-9a40-3bb13768fe58"
      },
      "outputs": [
        {
          "output_type": "execute_result",
          "data": {
            "text/plain": [
              "        propertyType  street     baths  city      sqft   zipcode      beds  \\\n",
              "75               149  190627  0.006000   915  0.000011  0.104832  0.034722   \n",
              "113              149  164991  0.006667   809  0.000020  0.232611  0.027778   \n",
              "214              149  298217  0.006000   915  0.000007  0.104835  0.041667   \n",
              "260              125  189086  0.010667  1284  0.000020  0.285473  0.097222   \n",
              "295              100  318872  0.000000   809  0.000000  0.232379  0.020833   \n",
              "...              ...     ...       ...   ...       ...       ...       ...   \n",
              "377066           149  204538  0.006667   430  0.000020  0.226972  0.034722   \n",
              "377092           149  102465  0.006667   809  0.000020  0.232327  0.020833   \n",
              "377098           100   13755  0.000000  1415  0.000000  0.102436  0.020833   \n",
              "377152           149   80892  0.006667  1479  0.000020  0.270062  0.027778   \n",
              "377180           149  107420  0.008000  1118  0.000020  0.100107  0.034722   \n",
              "\n",
              "        state   stories  new_target  ...  status_option  status_pending  \\\n",
              "75          7  0.001786    414900.0  ...              0               0   \n",
              "113        33  0.001786   2197000.0  ...              0               0   \n",
              "214         7  0.001786    504000.0  ...              0               0   \n",
              "260         3  0.001786   2100000.0  ...              0               0   \n",
              "295        33  0.001786     39900.0  ...              0               1   \n",
              "...       ...       ...         ...  ...            ...             ...   \n",
              "377066     33  0.001786   1307000.0  ...              0               0   \n",
              "377092     33  0.003571    549000.0  ...              0               0   \n",
              "377098      7  0.001786      7000.0  ...              0               1   \n",
              "377152     23  0.001786   1000000.0  ...              0               0   \n",
              "377180      7  0.000000   1249000.0  ...              0               0   \n",
              "\n",
              "        status_pending,  status_pf  status_price change  status_reactivated  \\\n",
              "75                    0          0                    0                   0   \n",
              "113                   0          0                    0                   0   \n",
              "214                   0          0                    0                   0   \n",
              "260                   0          0                    0                   0   \n",
              "295                   0          0                    0                   0   \n",
              "...                 ...        ...                  ...                 ...   \n",
              "377066                0          0                    0                   0   \n",
              "377092                0          0                    0                   0   \n",
              "377098                0          0                    0                   0   \n",
              "377152                0          0                    0                   0   \n",
              "377180                0          0                    0                   0   \n",
              "\n",
              "        status_temporary  status_under  fireplace_yes  PrivatePool_yes  \n",
              "75                     0             0              0                0  \n",
              "113                    0             0              0                1  \n",
              "214                    0             0              0                0  \n",
              "260                    0             0              0                0  \n",
              "295                    0             0              0                0  \n",
              "...                  ...           ...            ...              ...  \n",
              "377066                 0             0              1                1  \n",
              "377092                 0             0              0                0  \n",
              "377098                 0             0              0                0  \n",
              "377152                 0             0              0                0  \n",
              "377180                 0             0              0                1  \n",
              "\n",
              "[11154 rows x 38 columns]"
            ],
            "text/html": [
              "\n",
              "  <div id=\"df-c4d807a6-558d-4625-97fd-32a92e0740b9\">\n",
              "    <div class=\"colab-df-container\">\n",
              "      <div>\n",
              "<style scoped>\n",
              "    .dataframe tbody tr th:only-of-type {\n",
              "        vertical-align: middle;\n",
              "    }\n",
              "\n",
              "    .dataframe tbody tr th {\n",
              "        vertical-align: top;\n",
              "    }\n",
              "\n",
              "    .dataframe thead th {\n",
              "        text-align: right;\n",
              "    }\n",
              "</style>\n",
              "<table border=\"1\" class=\"dataframe\">\n",
              "  <thead>\n",
              "    <tr style=\"text-align: right;\">\n",
              "      <th></th>\n",
              "      <th>propertyType</th>\n",
              "      <th>street</th>\n",
              "      <th>baths</th>\n",
              "      <th>city</th>\n",
              "      <th>sqft</th>\n",
              "      <th>zipcode</th>\n",
              "      <th>beds</th>\n",
              "      <th>state</th>\n",
              "      <th>stories</th>\n",
              "      <th>new_target</th>\n",
              "      <th>...</th>\n",
              "      <th>status_option</th>\n",
              "      <th>status_pending</th>\n",
              "      <th>status_pending,</th>\n",
              "      <th>status_pf</th>\n",
              "      <th>status_price change</th>\n",
              "      <th>status_reactivated</th>\n",
              "      <th>status_temporary</th>\n",
              "      <th>status_under</th>\n",
              "      <th>fireplace_yes</th>\n",
              "      <th>PrivatePool_yes</th>\n",
              "    </tr>\n",
              "  </thead>\n",
              "  <tbody>\n",
              "    <tr>\n",
              "      <th>75</th>\n",
              "      <td>149</td>\n",
              "      <td>190627</td>\n",
              "      <td>0.006000</td>\n",
              "      <td>915</td>\n",
              "      <td>0.000011</td>\n",
              "      <td>0.104832</td>\n",
              "      <td>0.034722</td>\n",
              "      <td>7</td>\n",
              "      <td>0.001786</td>\n",
              "      <td>414900.0</td>\n",
              "      <td>...</td>\n",
              "      <td>0</td>\n",
              "      <td>0</td>\n",
              "      <td>0</td>\n",
              "      <td>0</td>\n",
              "      <td>0</td>\n",
              "      <td>0</td>\n",
              "      <td>0</td>\n",
              "      <td>0</td>\n",
              "      <td>0</td>\n",
              "      <td>0</td>\n",
              "    </tr>\n",
              "    <tr>\n",
              "      <th>113</th>\n",
              "      <td>149</td>\n",
              "      <td>164991</td>\n",
              "      <td>0.006667</td>\n",
              "      <td>809</td>\n",
              "      <td>0.000020</td>\n",
              "      <td>0.232611</td>\n",
              "      <td>0.027778</td>\n",
              "      <td>33</td>\n",
              "      <td>0.001786</td>\n",
              "      <td>2197000.0</td>\n",
              "      <td>...</td>\n",
              "      <td>0</td>\n",
              "      <td>0</td>\n",
              "      <td>0</td>\n",
              "      <td>0</td>\n",
              "      <td>0</td>\n",
              "      <td>0</td>\n",
              "      <td>0</td>\n",
              "      <td>0</td>\n",
              "      <td>0</td>\n",
              "      <td>1</td>\n",
              "    </tr>\n",
              "    <tr>\n",
              "      <th>214</th>\n",
              "      <td>149</td>\n",
              "      <td>298217</td>\n",
              "      <td>0.006000</td>\n",
              "      <td>915</td>\n",
              "      <td>0.000007</td>\n",
              "      <td>0.104835</td>\n",
              "      <td>0.041667</td>\n",
              "      <td>7</td>\n",
              "      <td>0.001786</td>\n",
              "      <td>504000.0</td>\n",
              "      <td>...</td>\n",
              "      <td>0</td>\n",
              "      <td>0</td>\n",
              "      <td>0</td>\n",
              "      <td>0</td>\n",
              "      <td>0</td>\n",
              "      <td>0</td>\n",
              "      <td>0</td>\n",
              "      <td>0</td>\n",
              "      <td>0</td>\n",
              "      <td>0</td>\n",
              "    </tr>\n",
              "    <tr>\n",
              "      <th>260</th>\n",
              "      <td>125</td>\n",
              "      <td>189086</td>\n",
              "      <td>0.010667</td>\n",
              "      <td>1284</td>\n",
              "      <td>0.000020</td>\n",
              "      <td>0.285473</td>\n",
              "      <td>0.097222</td>\n",
              "      <td>3</td>\n",
              "      <td>0.001786</td>\n",
              "      <td>2100000.0</td>\n",
              "      <td>...</td>\n",
              "      <td>0</td>\n",
              "      <td>0</td>\n",
              "      <td>0</td>\n",
              "      <td>0</td>\n",
              "      <td>0</td>\n",
              "      <td>0</td>\n",
              "      <td>0</td>\n",
              "      <td>0</td>\n",
              "      <td>0</td>\n",
              "      <td>0</td>\n",
              "    </tr>\n",
              "    <tr>\n",
              "      <th>295</th>\n",
              "      <td>100</td>\n",
              "      <td>318872</td>\n",
              "      <td>0.000000</td>\n",
              "      <td>809</td>\n",
              "      <td>0.000000</td>\n",
              "      <td>0.232379</td>\n",
              "      <td>0.020833</td>\n",
              "      <td>33</td>\n",
              "      <td>0.001786</td>\n",
              "      <td>39900.0</td>\n",
              "      <td>...</td>\n",
              "      <td>0</td>\n",
              "      <td>1</td>\n",
              "      <td>0</td>\n",
              "      <td>0</td>\n",
              "      <td>0</td>\n",
              "      <td>0</td>\n",
              "      <td>0</td>\n",
              "      <td>0</td>\n",
              "      <td>0</td>\n",
              "      <td>0</td>\n",
              "    </tr>\n",
              "    <tr>\n",
              "      <th>...</th>\n",
              "      <td>...</td>\n",
              "      <td>...</td>\n",
              "      <td>...</td>\n",
              "      <td>...</td>\n",
              "      <td>...</td>\n",
              "      <td>...</td>\n",
              "      <td>...</td>\n",
              "      <td>...</td>\n",
              "      <td>...</td>\n",
              "      <td>...</td>\n",
              "      <td>...</td>\n",
              "      <td>...</td>\n",
              "      <td>...</td>\n",
              "      <td>...</td>\n",
              "      <td>...</td>\n",
              "      <td>...</td>\n",
              "      <td>...</td>\n",
              "      <td>...</td>\n",
              "      <td>...</td>\n",
              "      <td>...</td>\n",
              "      <td>...</td>\n",
              "    </tr>\n",
              "    <tr>\n",
              "      <th>377066</th>\n",
              "      <td>149</td>\n",
              "      <td>204538</td>\n",
              "      <td>0.006667</td>\n",
              "      <td>430</td>\n",
              "      <td>0.000020</td>\n",
              "      <td>0.226972</td>\n",
              "      <td>0.034722</td>\n",
              "      <td>33</td>\n",
              "      <td>0.001786</td>\n",
              "      <td>1307000.0</td>\n",
              "      <td>...</td>\n",
              "      <td>0</td>\n",
              "      <td>0</td>\n",
              "      <td>0</td>\n",
              "      <td>0</td>\n",
              "      <td>0</td>\n",
              "      <td>0</td>\n",
              "      <td>0</td>\n",
              "      <td>0</td>\n",
              "      <td>1</td>\n",
              "      <td>1</td>\n",
              "    </tr>\n",
              "    <tr>\n",
              "      <th>377092</th>\n",
              "      <td>149</td>\n",
              "      <td>102465</td>\n",
              "      <td>0.006667</td>\n",
              "      <td>809</td>\n",
              "      <td>0.000020</td>\n",
              "      <td>0.232327</td>\n",
              "      <td>0.020833</td>\n",
              "      <td>33</td>\n",
              "      <td>0.003571</td>\n",
              "      <td>549000.0</td>\n",
              "      <td>...</td>\n",
              "      <td>0</td>\n",
              "      <td>0</td>\n",
              "      <td>0</td>\n",
              "      <td>0</td>\n",
              "      <td>0</td>\n",
              "      <td>0</td>\n",
              "      <td>0</td>\n",
              "      <td>0</td>\n",
              "      <td>0</td>\n",
              "      <td>0</td>\n",
              "    </tr>\n",
              "    <tr>\n",
              "      <th>377098</th>\n",
              "      <td>100</td>\n",
              "      <td>13755</td>\n",
              "      <td>0.000000</td>\n",
              "      <td>1415</td>\n",
              "      <td>0.000000</td>\n",
              "      <td>0.102436</td>\n",
              "      <td>0.020833</td>\n",
              "      <td>7</td>\n",
              "      <td>0.001786</td>\n",
              "      <td>7000.0</td>\n",
              "      <td>...</td>\n",
              "      <td>0</td>\n",
              "      <td>1</td>\n",
              "      <td>0</td>\n",
              "      <td>0</td>\n",
              "      <td>0</td>\n",
              "      <td>0</td>\n",
              "      <td>0</td>\n",
              "      <td>0</td>\n",
              "      <td>0</td>\n",
              "      <td>0</td>\n",
              "    </tr>\n",
              "    <tr>\n",
              "      <th>377152</th>\n",
              "      <td>149</td>\n",
              "      <td>80892</td>\n",
              "      <td>0.006667</td>\n",
              "      <td>1479</td>\n",
              "      <td>0.000020</td>\n",
              "      <td>0.270062</td>\n",
              "      <td>0.027778</td>\n",
              "      <td>23</td>\n",
              "      <td>0.001786</td>\n",
              "      <td>1000000.0</td>\n",
              "      <td>...</td>\n",
              "      <td>0</td>\n",
              "      <td>0</td>\n",
              "      <td>0</td>\n",
              "      <td>0</td>\n",
              "      <td>0</td>\n",
              "      <td>0</td>\n",
              "      <td>0</td>\n",
              "      <td>0</td>\n",
              "      <td>0</td>\n",
              "      <td>0</td>\n",
              "    </tr>\n",
              "    <tr>\n",
              "      <th>377180</th>\n",
              "      <td>149</td>\n",
              "      <td>107420</td>\n",
              "      <td>0.008000</td>\n",
              "      <td>1118</td>\n",
              "      <td>0.000020</td>\n",
              "      <td>0.100107</td>\n",
              "      <td>0.034722</td>\n",
              "      <td>7</td>\n",
              "      <td>0.000000</td>\n",
              "      <td>1249000.0</td>\n",
              "      <td>...</td>\n",
              "      <td>0</td>\n",
              "      <td>0</td>\n",
              "      <td>0</td>\n",
              "      <td>0</td>\n",
              "      <td>0</td>\n",
              "      <td>0</td>\n",
              "      <td>0</td>\n",
              "      <td>0</td>\n",
              "      <td>0</td>\n",
              "      <td>1</td>\n",
              "    </tr>\n",
              "  </tbody>\n",
              "</table>\n",
              "<p>11154 rows × 38 columns</p>\n",
              "</div>\n",
              "      <button class=\"colab-df-convert\" onclick=\"convertToInteractive('df-c4d807a6-558d-4625-97fd-32a92e0740b9')\"\n",
              "              title=\"Convert this dataframe to an interactive table.\"\n",
              "              style=\"display:none;\">\n",
              "        \n",
              "  <svg xmlns=\"http://www.w3.org/2000/svg\" height=\"24px\"viewBox=\"0 0 24 24\"\n",
              "       width=\"24px\">\n",
              "    <path d=\"M0 0h24v24H0V0z\" fill=\"none\"/>\n",
              "    <path d=\"M18.56 5.44l.94 2.06.94-2.06 2.06-.94-2.06-.94-.94-2.06-.94 2.06-2.06.94zm-11 1L8.5 8.5l.94-2.06 2.06-.94-2.06-.94L8.5 2.5l-.94 2.06-2.06.94zm10 10l.94 2.06.94-2.06 2.06-.94-2.06-.94-.94-2.06-.94 2.06-2.06.94z\"/><path d=\"M17.41 7.96l-1.37-1.37c-.4-.4-.92-.59-1.43-.59-.52 0-1.04.2-1.43.59L10.3 9.45l-7.72 7.72c-.78.78-.78 2.05 0 2.83L4 21.41c.39.39.9.59 1.41.59.51 0 1.02-.2 1.41-.59l7.78-7.78 2.81-2.81c.8-.78.8-2.07 0-2.86zM5.41 20L4 18.59l7.72-7.72 1.47 1.35L5.41 20z\"/>\n",
              "  </svg>\n",
              "      </button>\n",
              "      \n",
              "  <style>\n",
              "    .colab-df-container {\n",
              "      display:flex;\n",
              "      flex-wrap:wrap;\n",
              "      gap: 12px;\n",
              "    }\n",
              "\n",
              "    .colab-df-convert {\n",
              "      background-color: #E8F0FE;\n",
              "      border: none;\n",
              "      border-radius: 50%;\n",
              "      cursor: pointer;\n",
              "      display: none;\n",
              "      fill: #1967D2;\n",
              "      height: 32px;\n",
              "      padding: 0 0 0 0;\n",
              "      width: 32px;\n",
              "    }\n",
              "\n",
              "    .colab-df-convert:hover {\n",
              "      background-color: #E2EBFA;\n",
              "      box-shadow: 0px 1px 2px rgba(60, 64, 67, 0.3), 0px 1px 3px 1px rgba(60, 64, 67, 0.15);\n",
              "      fill: #174EA6;\n",
              "    }\n",
              "\n",
              "    [theme=dark] .colab-df-convert {\n",
              "      background-color: #3B4455;\n",
              "      fill: #D2E3FC;\n",
              "    }\n",
              "\n",
              "    [theme=dark] .colab-df-convert:hover {\n",
              "      background-color: #434B5C;\n",
              "      box-shadow: 0px 1px 3px 1px rgba(0, 0, 0, 0.15);\n",
              "      filter: drop-shadow(0px 1px 2px rgba(0, 0, 0, 0.3));\n",
              "      fill: #FFFFFF;\n",
              "    }\n",
              "  </style>\n",
              "\n",
              "      <script>\n",
              "        const buttonEl =\n",
              "          document.querySelector('#df-c4d807a6-558d-4625-97fd-32a92e0740b9 button.colab-df-convert');\n",
              "        buttonEl.style.display =\n",
              "          google.colab.kernel.accessAllowed ? 'block' : 'none';\n",
              "\n",
              "        async function convertToInteractive(key) {\n",
              "          const element = document.querySelector('#df-c4d807a6-558d-4625-97fd-32a92e0740b9');\n",
              "          const dataTable =\n",
              "            await google.colab.kernel.invokeFunction('convertToInteractive',\n",
              "                                                     [key], {});\n",
              "          if (!dataTable) return;\n",
              "\n",
              "          const docLinkHtml = 'Like what you see? Visit the ' +\n",
              "            '<a target=\"_blank\" href=https://colab.research.google.com/notebooks/data_table.ipynb>data table notebook</a>'\n",
              "            + ' to learn more about interactive tables.';\n",
              "          element.innerHTML = '';\n",
              "          dataTable['output_type'] = 'display_data';\n",
              "          await google.colab.output.renderOutput(dataTable, element);\n",
              "          const docLink = document.createElement('div');\n",
              "          docLink.innerHTML = docLinkHtml;\n",
              "          element.appendChild(docLink);\n",
              "        }\n",
              "      </script>\n",
              "    </div>\n",
              "  </div>\n",
              "  "
            ]
          },
          "metadata": {},
          "execution_count": 91
        }
      ],
      "source": [
        "data[(data.baths < lower_bound) | (data.baths > upper_bound)]"
      ]
    },
    {
      "cell_type": "markdown",
      "metadata": {
        "id": "ho8he-7PF2-S"
      },
      "source": [
        "### sqft"
      ]
    },
    {
      "cell_type": "code",
      "execution_count": 92,
      "metadata": {
        "colab": {
          "base_uri": "https://localhost:8080/",
          "height": 505
        },
        "id": "V-EvFhBTF5oA",
        "outputId": "1a87ad03-e9a6-42a3-ea5e-eaf256787117"
      },
      "outputs": [
        {
          "output_type": "execute_result",
          "data": {
            "text/plain": [
              "        propertyType  street     baths  city      sqft   zipcode      beds  \\\n",
              "3354             126   79900  0.024000  1031  0.000026  0.271637  0.222222   \n",
              "3511             149  233558  0.005600   926  0.000020  0.274588  0.048611   \n",
              "5294             149  154960  0.005600  1372  0.000020  0.133126  0.034722   \n",
              "7324             126  114990  0.002667   967  0.000137  0.235468  1.000000   \n",
              "7338             149  156004  0.005600  1915  0.000025  0.060390  0.048611   \n",
              "...              ...     ...       ...   ...       ...       ...       ...   \n",
              "373599           149  274440  0.005600  1683  0.000032  0.133171  0.034722   \n",
              "375044           126  222650  0.005600  1803  0.000053  0.296908  0.020833   \n",
              "375276           149  215988  0.008667  1204  0.000023  0.112251  0.034722   \n",
              "376348           149  100216  0.005600   200  0.000028  0.111714  0.034722   \n",
              "376529           126  227077  0.005600   673  1.000000  0.128950  0.020833   \n",
              "\n",
              "        state   stories  new_target  ...  status_option  status_pending  \\\n",
              "3354        3  0.001786   3600000.0  ...              0               0   \n",
              "3511        3  0.001786   6950000.0  ...              0               0   \n",
              "5294       25  0.001786   2195000.0  ...              0               0   \n",
              "7324       33  0.001786   1590000.0  ...              0               0   \n",
              "7338        5  0.001786   8150000.0  ...              0               0   \n",
              "...       ...       ...         ...  ...            ...             ...   \n",
              "373599     25  0.001786    995000.0  ...              0               1   \n",
              "375044     37  0.001786   1100000.0  ...              0               0   \n",
              "375276     32  0.002232   4950000.0  ...              0               0   \n",
              "376348     32  0.001786   3950000.0  ...              0               0   \n",
              "376529     13  0.001786    198000.0  ...              0               0   \n",
              "\n",
              "        status_pending,  status_pf  status_price change  status_reactivated  \\\n",
              "3354                  0          0                    0                   0   \n",
              "3511                  0          0                    0                   0   \n",
              "5294                  0          0                    0                   0   \n",
              "7324                  0          0                    0                   0   \n",
              "7338                  0          0                    0                   0   \n",
              "...                 ...        ...                  ...                 ...   \n",
              "373599                0          0                    0                   0   \n",
              "375044                0          0                    0                   0   \n",
              "375276                0          0                    0                   0   \n",
              "376348                0          0                    0                   0   \n",
              "376529                0          0                    0                   0   \n",
              "\n",
              "        status_temporary  status_under  fireplace_yes  PrivatePool_yes  \n",
              "3354                   0             0              0                0  \n",
              "3511                   0             0              1                0  \n",
              "5294                   0             0              1                0  \n",
              "7324                   0             0              0                0  \n",
              "7338                   0             0              0                0  \n",
              "...                  ...           ...            ...              ...  \n",
              "373599                 0             0              1                0  \n",
              "375044                 0             0              0                0  \n",
              "375276                 0             0              1                0  \n",
              "376348                 0             0              1                0  \n",
              "376529                 0             0              0                0  \n",
              "\n",
              "[218 rows x 38 columns]"
            ],
            "text/html": [
              "\n",
              "  <div id=\"df-953c311d-d449-4461-a13b-01ecdfda5d20\">\n",
              "    <div class=\"colab-df-container\">\n",
              "      <div>\n",
              "<style scoped>\n",
              "    .dataframe tbody tr th:only-of-type {\n",
              "        vertical-align: middle;\n",
              "    }\n",
              "\n",
              "    .dataframe tbody tr th {\n",
              "        vertical-align: top;\n",
              "    }\n",
              "\n",
              "    .dataframe thead th {\n",
              "        text-align: right;\n",
              "    }\n",
              "</style>\n",
              "<table border=\"1\" class=\"dataframe\">\n",
              "  <thead>\n",
              "    <tr style=\"text-align: right;\">\n",
              "      <th></th>\n",
              "      <th>propertyType</th>\n",
              "      <th>street</th>\n",
              "      <th>baths</th>\n",
              "      <th>city</th>\n",
              "      <th>sqft</th>\n",
              "      <th>zipcode</th>\n",
              "      <th>beds</th>\n",
              "      <th>state</th>\n",
              "      <th>stories</th>\n",
              "      <th>new_target</th>\n",
              "      <th>...</th>\n",
              "      <th>status_option</th>\n",
              "      <th>status_pending</th>\n",
              "      <th>status_pending,</th>\n",
              "      <th>status_pf</th>\n",
              "      <th>status_price change</th>\n",
              "      <th>status_reactivated</th>\n",
              "      <th>status_temporary</th>\n",
              "      <th>status_under</th>\n",
              "      <th>fireplace_yes</th>\n",
              "      <th>PrivatePool_yes</th>\n",
              "    </tr>\n",
              "  </thead>\n",
              "  <tbody>\n",
              "    <tr>\n",
              "      <th>3354</th>\n",
              "      <td>126</td>\n",
              "      <td>79900</td>\n",
              "      <td>0.024000</td>\n",
              "      <td>1031</td>\n",
              "      <td>0.000026</td>\n",
              "      <td>0.271637</td>\n",
              "      <td>0.222222</td>\n",
              "      <td>3</td>\n",
              "      <td>0.001786</td>\n",
              "      <td>3600000.0</td>\n",
              "      <td>...</td>\n",
              "      <td>0</td>\n",
              "      <td>0</td>\n",
              "      <td>0</td>\n",
              "      <td>0</td>\n",
              "      <td>0</td>\n",
              "      <td>0</td>\n",
              "      <td>0</td>\n",
              "      <td>0</td>\n",
              "      <td>0</td>\n",
              "      <td>0</td>\n",
              "    </tr>\n",
              "    <tr>\n",
              "      <th>3511</th>\n",
              "      <td>149</td>\n",
              "      <td>233558</td>\n",
              "      <td>0.005600</td>\n",
              "      <td>926</td>\n",
              "      <td>0.000020</td>\n",
              "      <td>0.274588</td>\n",
              "      <td>0.048611</td>\n",
              "      <td>3</td>\n",
              "      <td>0.001786</td>\n",
              "      <td>6950000.0</td>\n",
              "      <td>...</td>\n",
              "      <td>0</td>\n",
              "      <td>0</td>\n",
              "      <td>0</td>\n",
              "      <td>0</td>\n",
              "      <td>0</td>\n",
              "      <td>0</td>\n",
              "      <td>0</td>\n",
              "      <td>0</td>\n",
              "      <td>1</td>\n",
              "      <td>0</td>\n",
              "    </tr>\n",
              "    <tr>\n",
              "      <th>5294</th>\n",
              "      <td>149</td>\n",
              "      <td>154960</td>\n",
              "      <td>0.005600</td>\n",
              "      <td>1372</td>\n",
              "      <td>0.000020</td>\n",
              "      <td>0.133126</td>\n",
              "      <td>0.034722</td>\n",
              "      <td>25</td>\n",
              "      <td>0.001786</td>\n",
              "      <td>2195000.0</td>\n",
              "      <td>...</td>\n",
              "      <td>0</td>\n",
              "      <td>0</td>\n",
              "      <td>0</td>\n",
              "      <td>0</td>\n",
              "      <td>0</td>\n",
              "      <td>0</td>\n",
              "      <td>0</td>\n",
              "      <td>0</td>\n",
              "      <td>1</td>\n",
              "      <td>0</td>\n",
              "    </tr>\n",
              "    <tr>\n",
              "      <th>7324</th>\n",
              "      <td>126</td>\n",
              "      <td>114990</td>\n",
              "      <td>0.002667</td>\n",
              "      <td>967</td>\n",
              "      <td>0.000137</td>\n",
              "      <td>0.235468</td>\n",
              "      <td>1.000000</td>\n",
              "      <td>33</td>\n",
              "      <td>0.001786</td>\n",
              "      <td>1590000.0</td>\n",
              "      <td>...</td>\n",
              "      <td>0</td>\n",
              "      <td>0</td>\n",
              "      <td>0</td>\n",
              "      <td>0</td>\n",
              "      <td>0</td>\n",
              "      <td>0</td>\n",
              "      <td>0</td>\n",
              "      <td>0</td>\n",
              "      <td>0</td>\n",
              "      <td>0</td>\n",
              "    </tr>\n",
              "    <tr>\n",
              "      <th>7338</th>\n",
              "      <td>149</td>\n",
              "      <td>156004</td>\n",
              "      <td>0.005600</td>\n",
              "      <td>1915</td>\n",
              "      <td>0.000025</td>\n",
              "      <td>0.060390</td>\n",
              "      <td>0.048611</td>\n",
              "      <td>5</td>\n",
              "      <td>0.001786</td>\n",
              "      <td>8150000.0</td>\n",
              "      <td>...</td>\n",
              "      <td>0</td>\n",
              "      <td>0</td>\n",
              "      <td>0</td>\n",
              "      <td>0</td>\n",
              "      <td>0</td>\n",
              "      <td>0</td>\n",
              "      <td>0</td>\n",
              "      <td>0</td>\n",
              "      <td>0</td>\n",
              "      <td>0</td>\n",
              "    </tr>\n",
              "    <tr>\n",
              "      <th>...</th>\n",
              "      <td>...</td>\n",
              "      <td>...</td>\n",
              "      <td>...</td>\n",
              "      <td>...</td>\n",
              "      <td>...</td>\n",
              "      <td>...</td>\n",
              "      <td>...</td>\n",
              "      <td>...</td>\n",
              "      <td>...</td>\n",
              "      <td>...</td>\n",
              "      <td>...</td>\n",
              "      <td>...</td>\n",
              "      <td>...</td>\n",
              "      <td>...</td>\n",
              "      <td>...</td>\n",
              "      <td>...</td>\n",
              "      <td>...</td>\n",
              "      <td>...</td>\n",
              "      <td>...</td>\n",
              "      <td>...</td>\n",
              "      <td>...</td>\n",
              "    </tr>\n",
              "    <tr>\n",
              "      <th>373599</th>\n",
              "      <td>149</td>\n",
              "      <td>274440</td>\n",
              "      <td>0.005600</td>\n",
              "      <td>1683</td>\n",
              "      <td>0.000032</td>\n",
              "      <td>0.133171</td>\n",
              "      <td>0.034722</td>\n",
              "      <td>25</td>\n",
              "      <td>0.001786</td>\n",
              "      <td>995000.0</td>\n",
              "      <td>...</td>\n",
              "      <td>0</td>\n",
              "      <td>1</td>\n",
              "      <td>0</td>\n",
              "      <td>0</td>\n",
              "      <td>0</td>\n",
              "      <td>0</td>\n",
              "      <td>0</td>\n",
              "      <td>0</td>\n",
              "      <td>1</td>\n",
              "      <td>0</td>\n",
              "    </tr>\n",
              "    <tr>\n",
              "      <th>375044</th>\n",
              "      <td>126</td>\n",
              "      <td>222650</td>\n",
              "      <td>0.005600</td>\n",
              "      <td>1803</td>\n",
              "      <td>0.000053</td>\n",
              "      <td>0.296908</td>\n",
              "      <td>0.020833</td>\n",
              "      <td>37</td>\n",
              "      <td>0.001786</td>\n",
              "      <td>1100000.0</td>\n",
              "      <td>...</td>\n",
              "      <td>0</td>\n",
              "      <td>0</td>\n",
              "      <td>0</td>\n",
              "      <td>0</td>\n",
              "      <td>0</td>\n",
              "      <td>0</td>\n",
              "      <td>0</td>\n",
              "      <td>0</td>\n",
              "      <td>0</td>\n",
              "      <td>0</td>\n",
              "    </tr>\n",
              "    <tr>\n",
              "      <th>375276</th>\n",
              "      <td>149</td>\n",
              "      <td>215988</td>\n",
              "      <td>0.008667</td>\n",
              "      <td>1204</td>\n",
              "      <td>0.000023</td>\n",
              "      <td>0.112251</td>\n",
              "      <td>0.034722</td>\n",
              "      <td>32</td>\n",
              "      <td>0.002232</td>\n",
              "      <td>4950000.0</td>\n",
              "      <td>...</td>\n",
              "      <td>0</td>\n",
              "      <td>0</td>\n",
              "      <td>0</td>\n",
              "      <td>0</td>\n",
              "      <td>0</td>\n",
              "      <td>0</td>\n",
              "      <td>0</td>\n",
              "      <td>0</td>\n",
              "      <td>1</td>\n",
              "      <td>0</td>\n",
              "    </tr>\n",
              "    <tr>\n",
              "      <th>376348</th>\n",
              "      <td>149</td>\n",
              "      <td>100216</td>\n",
              "      <td>0.005600</td>\n",
              "      <td>200</td>\n",
              "      <td>0.000028</td>\n",
              "      <td>0.111714</td>\n",
              "      <td>0.034722</td>\n",
              "      <td>32</td>\n",
              "      <td>0.001786</td>\n",
              "      <td>3950000.0</td>\n",
              "      <td>...</td>\n",
              "      <td>0</td>\n",
              "      <td>0</td>\n",
              "      <td>0</td>\n",
              "      <td>0</td>\n",
              "      <td>0</td>\n",
              "      <td>0</td>\n",
              "      <td>0</td>\n",
              "      <td>0</td>\n",
              "      <td>1</td>\n",
              "      <td>0</td>\n",
              "    </tr>\n",
              "    <tr>\n",
              "      <th>376529</th>\n",
              "      <td>126</td>\n",
              "      <td>227077</td>\n",
              "      <td>0.005600</td>\n",
              "      <td>673</td>\n",
              "      <td>1.000000</td>\n",
              "      <td>0.128950</td>\n",
              "      <td>0.020833</td>\n",
              "      <td>13</td>\n",
              "      <td>0.001786</td>\n",
              "      <td>198000.0</td>\n",
              "      <td>...</td>\n",
              "      <td>0</td>\n",
              "      <td>0</td>\n",
              "      <td>0</td>\n",
              "      <td>0</td>\n",
              "      <td>0</td>\n",
              "      <td>0</td>\n",
              "      <td>0</td>\n",
              "      <td>0</td>\n",
              "      <td>0</td>\n",
              "      <td>0</td>\n",
              "    </tr>\n",
              "  </tbody>\n",
              "</table>\n",
              "<p>218 rows × 38 columns</p>\n",
              "</div>\n",
              "      <button class=\"colab-df-convert\" onclick=\"convertToInteractive('df-953c311d-d449-4461-a13b-01ecdfda5d20')\"\n",
              "              title=\"Convert this dataframe to an interactive table.\"\n",
              "              style=\"display:none;\">\n",
              "        \n",
              "  <svg xmlns=\"http://www.w3.org/2000/svg\" height=\"24px\"viewBox=\"0 0 24 24\"\n",
              "       width=\"24px\">\n",
              "    <path d=\"M0 0h24v24H0V0z\" fill=\"none\"/>\n",
              "    <path d=\"M18.56 5.44l.94 2.06.94-2.06 2.06-.94-2.06-.94-.94-2.06-.94 2.06-2.06.94zm-11 1L8.5 8.5l.94-2.06 2.06-.94-2.06-.94L8.5 2.5l-.94 2.06-2.06.94zm10 10l.94 2.06.94-2.06 2.06-.94-2.06-.94-.94-2.06-.94 2.06-2.06.94z\"/><path d=\"M17.41 7.96l-1.37-1.37c-.4-.4-.92-.59-1.43-.59-.52 0-1.04.2-1.43.59L10.3 9.45l-7.72 7.72c-.78.78-.78 2.05 0 2.83L4 21.41c.39.39.9.59 1.41.59.51 0 1.02-.2 1.41-.59l7.78-7.78 2.81-2.81c.8-.78.8-2.07 0-2.86zM5.41 20L4 18.59l7.72-7.72 1.47 1.35L5.41 20z\"/>\n",
              "  </svg>\n",
              "      </button>\n",
              "      \n",
              "  <style>\n",
              "    .colab-df-container {\n",
              "      display:flex;\n",
              "      flex-wrap:wrap;\n",
              "      gap: 12px;\n",
              "    }\n",
              "\n",
              "    .colab-df-convert {\n",
              "      background-color: #E8F0FE;\n",
              "      border: none;\n",
              "      border-radius: 50%;\n",
              "      cursor: pointer;\n",
              "      display: none;\n",
              "      fill: #1967D2;\n",
              "      height: 32px;\n",
              "      padding: 0 0 0 0;\n",
              "      width: 32px;\n",
              "    }\n",
              "\n",
              "    .colab-df-convert:hover {\n",
              "      background-color: #E2EBFA;\n",
              "      box-shadow: 0px 1px 2px rgba(60, 64, 67, 0.3), 0px 1px 3px 1px rgba(60, 64, 67, 0.15);\n",
              "      fill: #174EA6;\n",
              "    }\n",
              "\n",
              "    [theme=dark] .colab-df-convert {\n",
              "      background-color: #3B4455;\n",
              "      fill: #D2E3FC;\n",
              "    }\n",
              "\n",
              "    [theme=dark] .colab-df-convert:hover {\n",
              "      background-color: #434B5C;\n",
              "      box-shadow: 0px 1px 3px 1px rgba(0, 0, 0, 0.15);\n",
              "      filter: drop-shadow(0px 1px 2px rgba(0, 0, 0, 0.3));\n",
              "      fill: #FFFFFF;\n",
              "    }\n",
              "  </style>\n",
              "\n",
              "      <script>\n",
              "        const buttonEl =\n",
              "          document.querySelector('#df-953c311d-d449-4461-a13b-01ecdfda5d20 button.colab-df-convert');\n",
              "        buttonEl.style.display =\n",
              "          google.colab.kernel.accessAllowed ? 'block' : 'none';\n",
              "\n",
              "        async function convertToInteractive(key) {\n",
              "          const element = document.querySelector('#df-953c311d-d449-4461-a13b-01ecdfda5d20');\n",
              "          const dataTable =\n",
              "            await google.colab.kernel.invokeFunction('convertToInteractive',\n",
              "                                                     [key], {});\n",
              "          if (!dataTable) return;\n",
              "\n",
              "          const docLinkHtml = 'Like what you see? Visit the ' +\n",
              "            '<a target=\"_blank\" href=https://colab.research.google.com/notebooks/data_table.ipynb>data table notebook</a>'\n",
              "            + ' to learn more about interactive tables.';\n",
              "          element.innerHTML = '';\n",
              "          dataTable['output_type'] = 'display_data';\n",
              "          await google.colab.output.renderOutput(dataTable, element);\n",
              "          const docLink = document.createElement('div');\n",
              "          docLink.innerHTML = docLinkHtml;\n",
              "          element.appendChild(docLink);\n",
              "        }\n",
              "      </script>\n",
              "    </div>\n",
              "  </div>\n",
              "  "
            ]
          },
          "metadata": {},
          "execution_count": 92
        }
      ],
      "source": [
        "lower_bound = data.sqft.quantile(q=0.025)\n",
        "upper_bound = data.sqft.quantile(q=0.975)\n",
        "data[(data.sqft < lower_bound) | (data.sqft > upper_bound)]"
      ]
    },
    {
      "cell_type": "code",
      "execution_count": 93,
      "metadata": {
        "colab": {
          "base_uri": "https://localhost:8080/"
        },
        "id": "y4BSqUXSOPml",
        "outputId": "7baa74a7-1a4b-4bb3-d6d1-97b8ddffbd73"
      },
      "outputs": [
        {
          "output_type": "stream",
          "name": "stderr",
          "text": [
            "/usr/local/lib/python3.7/dist-packages/pandas/core/frame.py:4913: SettingWithCopyWarning: \n",
            "A value is trying to be set on a copy of a slice from a DataFrame\n",
            "\n",
            "See the caveats in the documentation: https://pandas.pydata.org/pandas-docs/stable/user_guide/indexing.html#returning-a-view-versus-a-copy\n",
            "  errors=errors,\n"
          ]
        }
      ],
      "source": [
        "data[(data.sqft < lower_bound) | (data.sqft > upper_bound)].drop(axis=0, columns='sqft', inplace=True)\n"
      ]
    },
    {
      "cell_type": "code",
      "execution_count": 94,
      "metadata": {
        "colab": {
          "base_uri": "https://localhost:8080/",
          "height": 505
        },
        "id": "hVlZnMANd5Iz",
        "outputId": "19467f77-85e9-4a1c-a3c3-f1174138b02c"
      },
      "outputs": [
        {
          "output_type": "execute_result",
          "data": {
            "text/plain": [
              "        propertyType  street     baths  city      sqft   zipcode      beds  \\\n",
              "3354             126   79900  0.024000  1031  0.000026  0.271637  0.222222   \n",
              "3511             149  233558  0.005600   926  0.000020  0.274588  0.048611   \n",
              "5294             149  154960  0.005600  1372  0.000020  0.133126  0.034722   \n",
              "7324             126  114990  0.002667   967  0.000137  0.235468  1.000000   \n",
              "7338             149  156004  0.005600  1915  0.000025  0.060390  0.048611   \n",
              "...              ...     ...       ...   ...       ...       ...       ...   \n",
              "373599           149  274440  0.005600  1683  0.000032  0.133171  0.034722   \n",
              "375044           126  222650  0.005600  1803  0.000053  0.296908  0.020833   \n",
              "375276           149  215988  0.008667  1204  0.000023  0.112251  0.034722   \n",
              "376348           149  100216  0.005600   200  0.000028  0.111714  0.034722   \n",
              "376529           126  227077  0.005600   673  1.000000  0.128950  0.020833   \n",
              "\n",
              "        state   stories  new_target  ...  status_option  status_pending  \\\n",
              "3354        3  0.001786   3600000.0  ...              0               0   \n",
              "3511        3  0.001786   6950000.0  ...              0               0   \n",
              "5294       25  0.001786   2195000.0  ...              0               0   \n",
              "7324       33  0.001786   1590000.0  ...              0               0   \n",
              "7338        5  0.001786   8150000.0  ...              0               0   \n",
              "...       ...       ...         ...  ...            ...             ...   \n",
              "373599     25  0.001786    995000.0  ...              0               1   \n",
              "375044     37  0.001786   1100000.0  ...              0               0   \n",
              "375276     32  0.002232   4950000.0  ...              0               0   \n",
              "376348     32  0.001786   3950000.0  ...              0               0   \n",
              "376529     13  0.001786    198000.0  ...              0               0   \n",
              "\n",
              "        status_pending,  status_pf  status_price change  status_reactivated  \\\n",
              "3354                  0          0                    0                   0   \n",
              "3511                  0          0                    0                   0   \n",
              "5294                  0          0                    0                   0   \n",
              "7324                  0          0                    0                   0   \n",
              "7338                  0          0                    0                   0   \n",
              "...                 ...        ...                  ...                 ...   \n",
              "373599                0          0                    0                   0   \n",
              "375044                0          0                    0                   0   \n",
              "375276                0          0                    0                   0   \n",
              "376348                0          0                    0                   0   \n",
              "376529                0          0                    0                   0   \n",
              "\n",
              "        status_temporary  status_under  fireplace_yes  PrivatePool_yes  \n",
              "3354                   0             0              0                0  \n",
              "3511                   0             0              1                0  \n",
              "5294                   0             0              1                0  \n",
              "7324                   0             0              0                0  \n",
              "7338                   0             0              0                0  \n",
              "...                  ...           ...            ...              ...  \n",
              "373599                 0             0              1                0  \n",
              "375044                 0             0              0                0  \n",
              "375276                 0             0              1                0  \n",
              "376348                 0             0              1                0  \n",
              "376529                 0             0              0                0  \n",
              "\n",
              "[218 rows x 38 columns]"
            ],
            "text/html": [
              "\n",
              "  <div id=\"df-78189adf-f6ec-4e97-a462-8c9cbfda92b0\">\n",
              "    <div class=\"colab-df-container\">\n",
              "      <div>\n",
              "<style scoped>\n",
              "    .dataframe tbody tr th:only-of-type {\n",
              "        vertical-align: middle;\n",
              "    }\n",
              "\n",
              "    .dataframe tbody tr th {\n",
              "        vertical-align: top;\n",
              "    }\n",
              "\n",
              "    .dataframe thead th {\n",
              "        text-align: right;\n",
              "    }\n",
              "</style>\n",
              "<table border=\"1\" class=\"dataframe\">\n",
              "  <thead>\n",
              "    <tr style=\"text-align: right;\">\n",
              "      <th></th>\n",
              "      <th>propertyType</th>\n",
              "      <th>street</th>\n",
              "      <th>baths</th>\n",
              "      <th>city</th>\n",
              "      <th>sqft</th>\n",
              "      <th>zipcode</th>\n",
              "      <th>beds</th>\n",
              "      <th>state</th>\n",
              "      <th>stories</th>\n",
              "      <th>new_target</th>\n",
              "      <th>...</th>\n",
              "      <th>status_option</th>\n",
              "      <th>status_pending</th>\n",
              "      <th>status_pending,</th>\n",
              "      <th>status_pf</th>\n",
              "      <th>status_price change</th>\n",
              "      <th>status_reactivated</th>\n",
              "      <th>status_temporary</th>\n",
              "      <th>status_under</th>\n",
              "      <th>fireplace_yes</th>\n",
              "      <th>PrivatePool_yes</th>\n",
              "    </tr>\n",
              "  </thead>\n",
              "  <tbody>\n",
              "    <tr>\n",
              "      <th>3354</th>\n",
              "      <td>126</td>\n",
              "      <td>79900</td>\n",
              "      <td>0.024000</td>\n",
              "      <td>1031</td>\n",
              "      <td>0.000026</td>\n",
              "      <td>0.271637</td>\n",
              "      <td>0.222222</td>\n",
              "      <td>3</td>\n",
              "      <td>0.001786</td>\n",
              "      <td>3600000.0</td>\n",
              "      <td>...</td>\n",
              "      <td>0</td>\n",
              "      <td>0</td>\n",
              "      <td>0</td>\n",
              "      <td>0</td>\n",
              "      <td>0</td>\n",
              "      <td>0</td>\n",
              "      <td>0</td>\n",
              "      <td>0</td>\n",
              "      <td>0</td>\n",
              "      <td>0</td>\n",
              "    </tr>\n",
              "    <tr>\n",
              "      <th>3511</th>\n",
              "      <td>149</td>\n",
              "      <td>233558</td>\n",
              "      <td>0.005600</td>\n",
              "      <td>926</td>\n",
              "      <td>0.000020</td>\n",
              "      <td>0.274588</td>\n",
              "      <td>0.048611</td>\n",
              "      <td>3</td>\n",
              "      <td>0.001786</td>\n",
              "      <td>6950000.0</td>\n",
              "      <td>...</td>\n",
              "      <td>0</td>\n",
              "      <td>0</td>\n",
              "      <td>0</td>\n",
              "      <td>0</td>\n",
              "      <td>0</td>\n",
              "      <td>0</td>\n",
              "      <td>0</td>\n",
              "      <td>0</td>\n",
              "      <td>1</td>\n",
              "      <td>0</td>\n",
              "    </tr>\n",
              "    <tr>\n",
              "      <th>5294</th>\n",
              "      <td>149</td>\n",
              "      <td>154960</td>\n",
              "      <td>0.005600</td>\n",
              "      <td>1372</td>\n",
              "      <td>0.000020</td>\n",
              "      <td>0.133126</td>\n",
              "      <td>0.034722</td>\n",
              "      <td>25</td>\n",
              "      <td>0.001786</td>\n",
              "      <td>2195000.0</td>\n",
              "      <td>...</td>\n",
              "      <td>0</td>\n",
              "      <td>0</td>\n",
              "      <td>0</td>\n",
              "      <td>0</td>\n",
              "      <td>0</td>\n",
              "      <td>0</td>\n",
              "      <td>0</td>\n",
              "      <td>0</td>\n",
              "      <td>1</td>\n",
              "      <td>0</td>\n",
              "    </tr>\n",
              "    <tr>\n",
              "      <th>7324</th>\n",
              "      <td>126</td>\n",
              "      <td>114990</td>\n",
              "      <td>0.002667</td>\n",
              "      <td>967</td>\n",
              "      <td>0.000137</td>\n",
              "      <td>0.235468</td>\n",
              "      <td>1.000000</td>\n",
              "      <td>33</td>\n",
              "      <td>0.001786</td>\n",
              "      <td>1590000.0</td>\n",
              "      <td>...</td>\n",
              "      <td>0</td>\n",
              "      <td>0</td>\n",
              "      <td>0</td>\n",
              "      <td>0</td>\n",
              "      <td>0</td>\n",
              "      <td>0</td>\n",
              "      <td>0</td>\n",
              "      <td>0</td>\n",
              "      <td>0</td>\n",
              "      <td>0</td>\n",
              "    </tr>\n",
              "    <tr>\n",
              "      <th>7338</th>\n",
              "      <td>149</td>\n",
              "      <td>156004</td>\n",
              "      <td>0.005600</td>\n",
              "      <td>1915</td>\n",
              "      <td>0.000025</td>\n",
              "      <td>0.060390</td>\n",
              "      <td>0.048611</td>\n",
              "      <td>5</td>\n",
              "      <td>0.001786</td>\n",
              "      <td>8150000.0</td>\n",
              "      <td>...</td>\n",
              "      <td>0</td>\n",
              "      <td>0</td>\n",
              "      <td>0</td>\n",
              "      <td>0</td>\n",
              "      <td>0</td>\n",
              "      <td>0</td>\n",
              "      <td>0</td>\n",
              "      <td>0</td>\n",
              "      <td>0</td>\n",
              "      <td>0</td>\n",
              "    </tr>\n",
              "    <tr>\n",
              "      <th>...</th>\n",
              "      <td>...</td>\n",
              "      <td>...</td>\n",
              "      <td>...</td>\n",
              "      <td>...</td>\n",
              "      <td>...</td>\n",
              "      <td>...</td>\n",
              "      <td>...</td>\n",
              "      <td>...</td>\n",
              "      <td>...</td>\n",
              "      <td>...</td>\n",
              "      <td>...</td>\n",
              "      <td>...</td>\n",
              "      <td>...</td>\n",
              "      <td>...</td>\n",
              "      <td>...</td>\n",
              "      <td>...</td>\n",
              "      <td>...</td>\n",
              "      <td>...</td>\n",
              "      <td>...</td>\n",
              "      <td>...</td>\n",
              "      <td>...</td>\n",
              "    </tr>\n",
              "    <tr>\n",
              "      <th>373599</th>\n",
              "      <td>149</td>\n",
              "      <td>274440</td>\n",
              "      <td>0.005600</td>\n",
              "      <td>1683</td>\n",
              "      <td>0.000032</td>\n",
              "      <td>0.133171</td>\n",
              "      <td>0.034722</td>\n",
              "      <td>25</td>\n",
              "      <td>0.001786</td>\n",
              "      <td>995000.0</td>\n",
              "      <td>...</td>\n",
              "      <td>0</td>\n",
              "      <td>1</td>\n",
              "      <td>0</td>\n",
              "      <td>0</td>\n",
              "      <td>0</td>\n",
              "      <td>0</td>\n",
              "      <td>0</td>\n",
              "      <td>0</td>\n",
              "      <td>1</td>\n",
              "      <td>0</td>\n",
              "    </tr>\n",
              "    <tr>\n",
              "      <th>375044</th>\n",
              "      <td>126</td>\n",
              "      <td>222650</td>\n",
              "      <td>0.005600</td>\n",
              "      <td>1803</td>\n",
              "      <td>0.000053</td>\n",
              "      <td>0.296908</td>\n",
              "      <td>0.020833</td>\n",
              "      <td>37</td>\n",
              "      <td>0.001786</td>\n",
              "      <td>1100000.0</td>\n",
              "      <td>...</td>\n",
              "      <td>0</td>\n",
              "      <td>0</td>\n",
              "      <td>0</td>\n",
              "      <td>0</td>\n",
              "      <td>0</td>\n",
              "      <td>0</td>\n",
              "      <td>0</td>\n",
              "      <td>0</td>\n",
              "      <td>0</td>\n",
              "      <td>0</td>\n",
              "    </tr>\n",
              "    <tr>\n",
              "      <th>375276</th>\n",
              "      <td>149</td>\n",
              "      <td>215988</td>\n",
              "      <td>0.008667</td>\n",
              "      <td>1204</td>\n",
              "      <td>0.000023</td>\n",
              "      <td>0.112251</td>\n",
              "      <td>0.034722</td>\n",
              "      <td>32</td>\n",
              "      <td>0.002232</td>\n",
              "      <td>4950000.0</td>\n",
              "      <td>...</td>\n",
              "      <td>0</td>\n",
              "      <td>0</td>\n",
              "      <td>0</td>\n",
              "      <td>0</td>\n",
              "      <td>0</td>\n",
              "      <td>0</td>\n",
              "      <td>0</td>\n",
              "      <td>0</td>\n",
              "      <td>1</td>\n",
              "      <td>0</td>\n",
              "    </tr>\n",
              "    <tr>\n",
              "      <th>376348</th>\n",
              "      <td>149</td>\n",
              "      <td>100216</td>\n",
              "      <td>0.005600</td>\n",
              "      <td>200</td>\n",
              "      <td>0.000028</td>\n",
              "      <td>0.111714</td>\n",
              "      <td>0.034722</td>\n",
              "      <td>32</td>\n",
              "      <td>0.001786</td>\n",
              "      <td>3950000.0</td>\n",
              "      <td>...</td>\n",
              "      <td>0</td>\n",
              "      <td>0</td>\n",
              "      <td>0</td>\n",
              "      <td>0</td>\n",
              "      <td>0</td>\n",
              "      <td>0</td>\n",
              "      <td>0</td>\n",
              "      <td>0</td>\n",
              "      <td>1</td>\n",
              "      <td>0</td>\n",
              "    </tr>\n",
              "    <tr>\n",
              "      <th>376529</th>\n",
              "      <td>126</td>\n",
              "      <td>227077</td>\n",
              "      <td>0.005600</td>\n",
              "      <td>673</td>\n",
              "      <td>1.000000</td>\n",
              "      <td>0.128950</td>\n",
              "      <td>0.020833</td>\n",
              "      <td>13</td>\n",
              "      <td>0.001786</td>\n",
              "      <td>198000.0</td>\n",
              "      <td>...</td>\n",
              "      <td>0</td>\n",
              "      <td>0</td>\n",
              "      <td>0</td>\n",
              "      <td>0</td>\n",
              "      <td>0</td>\n",
              "      <td>0</td>\n",
              "      <td>0</td>\n",
              "      <td>0</td>\n",
              "      <td>0</td>\n",
              "      <td>0</td>\n",
              "    </tr>\n",
              "  </tbody>\n",
              "</table>\n",
              "<p>218 rows × 38 columns</p>\n",
              "</div>\n",
              "      <button class=\"colab-df-convert\" onclick=\"convertToInteractive('df-78189adf-f6ec-4e97-a462-8c9cbfda92b0')\"\n",
              "              title=\"Convert this dataframe to an interactive table.\"\n",
              "              style=\"display:none;\">\n",
              "        \n",
              "  <svg xmlns=\"http://www.w3.org/2000/svg\" height=\"24px\"viewBox=\"0 0 24 24\"\n",
              "       width=\"24px\">\n",
              "    <path d=\"M0 0h24v24H0V0z\" fill=\"none\"/>\n",
              "    <path d=\"M18.56 5.44l.94 2.06.94-2.06 2.06-.94-2.06-.94-.94-2.06-.94 2.06-2.06.94zm-11 1L8.5 8.5l.94-2.06 2.06-.94-2.06-.94L8.5 2.5l-.94 2.06-2.06.94zm10 10l.94 2.06.94-2.06 2.06-.94-2.06-.94-.94-2.06-.94 2.06-2.06.94z\"/><path d=\"M17.41 7.96l-1.37-1.37c-.4-.4-.92-.59-1.43-.59-.52 0-1.04.2-1.43.59L10.3 9.45l-7.72 7.72c-.78.78-.78 2.05 0 2.83L4 21.41c.39.39.9.59 1.41.59.51 0 1.02-.2 1.41-.59l7.78-7.78 2.81-2.81c.8-.78.8-2.07 0-2.86zM5.41 20L4 18.59l7.72-7.72 1.47 1.35L5.41 20z\"/>\n",
              "  </svg>\n",
              "      </button>\n",
              "      \n",
              "  <style>\n",
              "    .colab-df-container {\n",
              "      display:flex;\n",
              "      flex-wrap:wrap;\n",
              "      gap: 12px;\n",
              "    }\n",
              "\n",
              "    .colab-df-convert {\n",
              "      background-color: #E8F0FE;\n",
              "      border: none;\n",
              "      border-radius: 50%;\n",
              "      cursor: pointer;\n",
              "      display: none;\n",
              "      fill: #1967D2;\n",
              "      height: 32px;\n",
              "      padding: 0 0 0 0;\n",
              "      width: 32px;\n",
              "    }\n",
              "\n",
              "    .colab-df-convert:hover {\n",
              "      background-color: #E2EBFA;\n",
              "      box-shadow: 0px 1px 2px rgba(60, 64, 67, 0.3), 0px 1px 3px 1px rgba(60, 64, 67, 0.15);\n",
              "      fill: #174EA6;\n",
              "    }\n",
              "\n",
              "    [theme=dark] .colab-df-convert {\n",
              "      background-color: #3B4455;\n",
              "      fill: #D2E3FC;\n",
              "    }\n",
              "\n",
              "    [theme=dark] .colab-df-convert:hover {\n",
              "      background-color: #434B5C;\n",
              "      box-shadow: 0px 1px 3px 1px rgba(0, 0, 0, 0.15);\n",
              "      filter: drop-shadow(0px 1px 2px rgba(0, 0, 0, 0.3));\n",
              "      fill: #FFFFFF;\n",
              "    }\n",
              "  </style>\n",
              "\n",
              "      <script>\n",
              "        const buttonEl =\n",
              "          document.querySelector('#df-78189adf-f6ec-4e97-a462-8c9cbfda92b0 button.colab-df-convert');\n",
              "        buttonEl.style.display =\n",
              "          google.colab.kernel.accessAllowed ? 'block' : 'none';\n",
              "\n",
              "        async function convertToInteractive(key) {\n",
              "          const element = document.querySelector('#df-78189adf-f6ec-4e97-a462-8c9cbfda92b0');\n",
              "          const dataTable =\n",
              "            await google.colab.kernel.invokeFunction('convertToInteractive',\n",
              "                                                     [key], {});\n",
              "          if (!dataTable) return;\n",
              "\n",
              "          const docLinkHtml = 'Like what you see? Visit the ' +\n",
              "            '<a target=\"_blank\" href=https://colab.research.google.com/notebooks/data_table.ipynb>data table notebook</a>'\n",
              "            + ' to learn more about interactive tables.';\n",
              "          element.innerHTML = '';\n",
              "          dataTable['output_type'] = 'display_data';\n",
              "          await google.colab.output.renderOutput(dataTable, element);\n",
              "          const docLink = document.createElement('div');\n",
              "          docLink.innerHTML = docLinkHtml;\n",
              "          element.appendChild(docLink);\n",
              "        }\n",
              "      </script>\n",
              "    </div>\n",
              "  </div>\n",
              "  "
            ]
          },
          "metadata": {},
          "execution_count": 94
        }
      ],
      "source": [
        "data[(data.sqft < lower_bound) | (data.sqft > upper_bound)]"
      ]
    },
    {
      "cell_type": "markdown",
      "metadata": {
        "id": "8XpXl1mNF7uk"
      },
      "source": [
        "### zipcode"
      ]
    },
    {
      "cell_type": "code",
      "execution_count": 95,
      "metadata": {
        "colab": {
          "base_uri": "https://localhost:8080/",
          "height": 505
        },
        "id": "kryVag_fF-Mg",
        "outputId": "16c46346-521f-468b-acec-0bfe650aed34"
      },
      "outputs": [
        {
          "output_type": "execute_result",
          "data": {
            "text/plain": [
              "        propertyType  street     baths  city      sqft   zipcode      beds  \\\n",
              "1                150   43403  0.005600  1715  0.000020  0.299343  0.020833   \n",
              "17               167  124771  0.005600  1226  0.000020  0.030252  0.020833   \n",
              "42               130  324918  0.005600  1226  0.000020  0.030189  0.020833   \n",
              "69               149  134145  0.002667   958  0.000005  0.026252  0.013889   \n",
              "78                40  168245  0.005600   182  0.000020  0.006417  0.020833   \n",
              "...              ...     ...       ...   ...       ...       ...       ...   \n",
              "377044            40  260741  0.002667   182  0.000020  0.006390  0.020833   \n",
              "377062            42  185573  0.004667   958  0.000007  0.026252  0.034722   \n",
              "377088           150  219118  0.005600  2004  0.000020  0.298392  0.020833   \n",
              "377108            40  255894  0.005600   182  0.000020  0.006429  0.020833   \n",
              "377155           150    6284  0.005600  1637  0.000020  0.296075  0.020833   \n",
              "\n",
              "        state   stories  new_target  ...  status_option  status_pending  \\\n",
              "1          37  0.001786    310000.0  ...              0               0   \n",
              "17         24  0.001786   2650000.0  ...              0               0   \n",
              "42         24  0.001786    850000.0  ...              0               0   \n",
              "69         22  0.000893    269000.0  ...              0               0   \n",
              "78         14  0.001786    916900.0  ...              0               0   \n",
              "...       ...       ...         ...  ...            ...             ...   \n",
              "377044     14  0.000893   1450000.0  ...              0               0   \n",
              "377062     22  0.002679    569900.0  ...              0               0   \n",
              "377088     37  0.001786    299900.0  ...              0               0   \n",
              "377108     14  0.001786    399000.0  ...              0               0   \n",
              "377155     37  0.001786    725000.0  ...              0               0   \n",
              "\n",
              "        status_pending,  status_pf  status_price change  status_reactivated  \\\n",
              "1                     0          0                    0                   0   \n",
              "17                    0          0                    0                   0   \n",
              "42                    0          0                    0                   0   \n",
              "69                    0          0                    0                   0   \n",
              "78                    0          0                    0                   0   \n",
              "...                 ...        ...                  ...                 ...   \n",
              "377044                0          0                    0                   0   \n",
              "377062                0          0                    0                   0   \n",
              "377088                0          0                    0                   0   \n",
              "377108                0          0                    0                   0   \n",
              "377155                0          0                    0                   0   \n",
              "\n",
              "        status_temporary  status_under  fireplace_yes  PrivatePool_yes  \n",
              "1                      0             0              0                0  \n",
              "17                     0             0              0                0  \n",
              "42                     0             0              0                0  \n",
              "69                     0             0              0                0  \n",
              "78                     0             0              0                0  \n",
              "...                  ...           ...            ...              ...  \n",
              "377044                 0             0              0                0  \n",
              "377062                 0             0              0                0  \n",
              "377088                 0             0              1                0  \n",
              "377108                 0             0              0                0  \n",
              "377155                 0             0              0                0  \n",
              "\n",
              "[18533 rows x 38 columns]"
            ],
            "text/html": [
              "\n",
              "  <div id=\"df-277d4b0a-fe7d-446a-a3b8-e5fe6f252b8b\">\n",
              "    <div class=\"colab-df-container\">\n",
              "      <div>\n",
              "<style scoped>\n",
              "    .dataframe tbody tr th:only-of-type {\n",
              "        vertical-align: middle;\n",
              "    }\n",
              "\n",
              "    .dataframe tbody tr th {\n",
              "        vertical-align: top;\n",
              "    }\n",
              "\n",
              "    .dataframe thead th {\n",
              "        text-align: right;\n",
              "    }\n",
              "</style>\n",
              "<table border=\"1\" class=\"dataframe\">\n",
              "  <thead>\n",
              "    <tr style=\"text-align: right;\">\n",
              "      <th></th>\n",
              "      <th>propertyType</th>\n",
              "      <th>street</th>\n",
              "      <th>baths</th>\n",
              "      <th>city</th>\n",
              "      <th>sqft</th>\n",
              "      <th>zipcode</th>\n",
              "      <th>beds</th>\n",
              "      <th>state</th>\n",
              "      <th>stories</th>\n",
              "      <th>new_target</th>\n",
              "      <th>...</th>\n",
              "      <th>status_option</th>\n",
              "      <th>status_pending</th>\n",
              "      <th>status_pending,</th>\n",
              "      <th>status_pf</th>\n",
              "      <th>status_price change</th>\n",
              "      <th>status_reactivated</th>\n",
              "      <th>status_temporary</th>\n",
              "      <th>status_under</th>\n",
              "      <th>fireplace_yes</th>\n",
              "      <th>PrivatePool_yes</th>\n",
              "    </tr>\n",
              "  </thead>\n",
              "  <tbody>\n",
              "    <tr>\n",
              "      <th>1</th>\n",
              "      <td>150</td>\n",
              "      <td>43403</td>\n",
              "      <td>0.005600</td>\n",
              "      <td>1715</td>\n",
              "      <td>0.000020</td>\n",
              "      <td>0.299343</td>\n",
              "      <td>0.020833</td>\n",
              "      <td>37</td>\n",
              "      <td>0.001786</td>\n",
              "      <td>310000.0</td>\n",
              "      <td>...</td>\n",
              "      <td>0</td>\n",
              "      <td>0</td>\n",
              "      <td>0</td>\n",
              "      <td>0</td>\n",
              "      <td>0</td>\n",
              "      <td>0</td>\n",
              "      <td>0</td>\n",
              "      <td>0</td>\n",
              "      <td>0</td>\n",
              "      <td>0</td>\n",
              "    </tr>\n",
              "    <tr>\n",
              "      <th>17</th>\n",
              "      <td>167</td>\n",
              "      <td>124771</td>\n",
              "      <td>0.005600</td>\n",
              "      <td>1226</td>\n",
              "      <td>0.000020</td>\n",
              "      <td>0.030252</td>\n",
              "      <td>0.020833</td>\n",
              "      <td>24</td>\n",
              "      <td>0.001786</td>\n",
              "      <td>2650000.0</td>\n",
              "      <td>...</td>\n",
              "      <td>0</td>\n",
              "      <td>0</td>\n",
              "      <td>0</td>\n",
              "      <td>0</td>\n",
              "      <td>0</td>\n",
              "      <td>0</td>\n",
              "      <td>0</td>\n",
              "      <td>0</td>\n",
              "      <td>0</td>\n",
              "      <td>0</td>\n",
              "    </tr>\n",
              "    <tr>\n",
              "      <th>42</th>\n",
              "      <td>130</td>\n",
              "      <td>324918</td>\n",
              "      <td>0.005600</td>\n",
              "      <td>1226</td>\n",
              "      <td>0.000020</td>\n",
              "      <td>0.030189</td>\n",
              "      <td>0.020833</td>\n",
              "      <td>24</td>\n",
              "      <td>0.001786</td>\n",
              "      <td>850000.0</td>\n",
              "      <td>...</td>\n",
              "      <td>0</td>\n",
              "      <td>0</td>\n",
              "      <td>0</td>\n",
              "      <td>0</td>\n",
              "      <td>0</td>\n",
              "      <td>0</td>\n",
              "      <td>0</td>\n",
              "      <td>0</td>\n",
              "      <td>0</td>\n",
              "      <td>0</td>\n",
              "    </tr>\n",
              "    <tr>\n",
              "      <th>69</th>\n",
              "      <td>149</td>\n",
              "      <td>134145</td>\n",
              "      <td>0.002667</td>\n",
              "      <td>958</td>\n",
              "      <td>0.000005</td>\n",
              "      <td>0.026252</td>\n",
              "      <td>0.013889</td>\n",
              "      <td>22</td>\n",
              "      <td>0.000893</td>\n",
              "      <td>269000.0</td>\n",
              "      <td>...</td>\n",
              "      <td>0</td>\n",
              "      <td>0</td>\n",
              "      <td>0</td>\n",
              "      <td>0</td>\n",
              "      <td>0</td>\n",
              "      <td>0</td>\n",
              "      <td>0</td>\n",
              "      <td>0</td>\n",
              "      <td>0</td>\n",
              "      <td>0</td>\n",
              "    </tr>\n",
              "    <tr>\n",
              "      <th>78</th>\n",
              "      <td>40</td>\n",
              "      <td>168245</td>\n",
              "      <td>0.005600</td>\n",
              "      <td>182</td>\n",
              "      <td>0.000020</td>\n",
              "      <td>0.006417</td>\n",
              "      <td>0.020833</td>\n",
              "      <td>14</td>\n",
              "      <td>0.001786</td>\n",
              "      <td>916900.0</td>\n",
              "      <td>...</td>\n",
              "      <td>0</td>\n",
              "      <td>0</td>\n",
              "      <td>0</td>\n",
              "      <td>0</td>\n",
              "      <td>0</td>\n",
              "      <td>0</td>\n",
              "      <td>0</td>\n",
              "      <td>0</td>\n",
              "      <td>0</td>\n",
              "      <td>0</td>\n",
              "    </tr>\n",
              "    <tr>\n",
              "      <th>...</th>\n",
              "      <td>...</td>\n",
              "      <td>...</td>\n",
              "      <td>...</td>\n",
              "      <td>...</td>\n",
              "      <td>...</td>\n",
              "      <td>...</td>\n",
              "      <td>...</td>\n",
              "      <td>...</td>\n",
              "      <td>...</td>\n",
              "      <td>...</td>\n",
              "      <td>...</td>\n",
              "      <td>...</td>\n",
              "      <td>...</td>\n",
              "      <td>...</td>\n",
              "      <td>...</td>\n",
              "      <td>...</td>\n",
              "      <td>...</td>\n",
              "      <td>...</td>\n",
              "      <td>...</td>\n",
              "      <td>...</td>\n",
              "      <td>...</td>\n",
              "    </tr>\n",
              "    <tr>\n",
              "      <th>377044</th>\n",
              "      <td>40</td>\n",
              "      <td>260741</td>\n",
              "      <td>0.002667</td>\n",
              "      <td>182</td>\n",
              "      <td>0.000020</td>\n",
              "      <td>0.006390</td>\n",
              "      <td>0.020833</td>\n",
              "      <td>14</td>\n",
              "      <td>0.000893</td>\n",
              "      <td>1450000.0</td>\n",
              "      <td>...</td>\n",
              "      <td>0</td>\n",
              "      <td>0</td>\n",
              "      <td>0</td>\n",
              "      <td>0</td>\n",
              "      <td>0</td>\n",
              "      <td>0</td>\n",
              "      <td>0</td>\n",
              "      <td>0</td>\n",
              "      <td>0</td>\n",
              "      <td>0</td>\n",
              "    </tr>\n",
              "    <tr>\n",
              "      <th>377062</th>\n",
              "      <td>42</td>\n",
              "      <td>185573</td>\n",
              "      <td>0.004667</td>\n",
              "      <td>958</td>\n",
              "      <td>0.000007</td>\n",
              "      <td>0.026252</td>\n",
              "      <td>0.034722</td>\n",
              "      <td>22</td>\n",
              "      <td>0.002679</td>\n",
              "      <td>569900.0</td>\n",
              "      <td>...</td>\n",
              "      <td>0</td>\n",
              "      <td>0</td>\n",
              "      <td>0</td>\n",
              "      <td>0</td>\n",
              "      <td>0</td>\n",
              "      <td>0</td>\n",
              "      <td>0</td>\n",
              "      <td>0</td>\n",
              "      <td>0</td>\n",
              "      <td>0</td>\n",
              "    </tr>\n",
              "    <tr>\n",
              "      <th>377088</th>\n",
              "      <td>150</td>\n",
              "      <td>219118</td>\n",
              "      <td>0.005600</td>\n",
              "      <td>2004</td>\n",
              "      <td>0.000020</td>\n",
              "      <td>0.298392</td>\n",
              "      <td>0.020833</td>\n",
              "      <td>37</td>\n",
              "      <td>0.001786</td>\n",
              "      <td>299900.0</td>\n",
              "      <td>...</td>\n",
              "      <td>0</td>\n",
              "      <td>0</td>\n",
              "      <td>0</td>\n",
              "      <td>0</td>\n",
              "      <td>0</td>\n",
              "      <td>0</td>\n",
              "      <td>0</td>\n",
              "      <td>0</td>\n",
              "      <td>1</td>\n",
              "      <td>0</td>\n",
              "    </tr>\n",
              "    <tr>\n",
              "      <th>377108</th>\n",
              "      <td>40</td>\n",
              "      <td>255894</td>\n",
              "      <td>0.005600</td>\n",
              "      <td>182</td>\n",
              "      <td>0.000020</td>\n",
              "      <td>0.006429</td>\n",
              "      <td>0.020833</td>\n",
              "      <td>14</td>\n",
              "      <td>0.001786</td>\n",
              "      <td>399000.0</td>\n",
              "      <td>...</td>\n",
              "      <td>0</td>\n",
              "      <td>0</td>\n",
              "      <td>0</td>\n",
              "      <td>0</td>\n",
              "      <td>0</td>\n",
              "      <td>0</td>\n",
              "      <td>0</td>\n",
              "      <td>0</td>\n",
              "      <td>0</td>\n",
              "      <td>0</td>\n",
              "    </tr>\n",
              "    <tr>\n",
              "      <th>377155</th>\n",
              "      <td>150</td>\n",
              "      <td>6284</td>\n",
              "      <td>0.005600</td>\n",
              "      <td>1637</td>\n",
              "      <td>0.000020</td>\n",
              "      <td>0.296075</td>\n",
              "      <td>0.020833</td>\n",
              "      <td>37</td>\n",
              "      <td>0.001786</td>\n",
              "      <td>725000.0</td>\n",
              "      <td>...</td>\n",
              "      <td>0</td>\n",
              "      <td>0</td>\n",
              "      <td>0</td>\n",
              "      <td>0</td>\n",
              "      <td>0</td>\n",
              "      <td>0</td>\n",
              "      <td>0</td>\n",
              "      <td>0</td>\n",
              "      <td>0</td>\n",
              "      <td>0</td>\n",
              "    </tr>\n",
              "  </tbody>\n",
              "</table>\n",
              "<p>18533 rows × 38 columns</p>\n",
              "</div>\n",
              "      <button class=\"colab-df-convert\" onclick=\"convertToInteractive('df-277d4b0a-fe7d-446a-a3b8-e5fe6f252b8b')\"\n",
              "              title=\"Convert this dataframe to an interactive table.\"\n",
              "              style=\"display:none;\">\n",
              "        \n",
              "  <svg xmlns=\"http://www.w3.org/2000/svg\" height=\"24px\"viewBox=\"0 0 24 24\"\n",
              "       width=\"24px\">\n",
              "    <path d=\"M0 0h24v24H0V0z\" fill=\"none\"/>\n",
              "    <path d=\"M18.56 5.44l.94 2.06.94-2.06 2.06-.94-2.06-.94-.94-2.06-.94 2.06-2.06.94zm-11 1L8.5 8.5l.94-2.06 2.06-.94-2.06-.94L8.5 2.5l-.94 2.06-2.06.94zm10 10l.94 2.06.94-2.06 2.06-.94-2.06-.94-.94-2.06-.94 2.06-2.06.94z\"/><path d=\"M17.41 7.96l-1.37-1.37c-.4-.4-.92-.59-1.43-.59-.52 0-1.04.2-1.43.59L10.3 9.45l-7.72 7.72c-.78.78-.78 2.05 0 2.83L4 21.41c.39.39.9.59 1.41.59.51 0 1.02-.2 1.41-.59l7.78-7.78 2.81-2.81c.8-.78.8-2.07 0-2.86zM5.41 20L4 18.59l7.72-7.72 1.47 1.35L5.41 20z\"/>\n",
              "  </svg>\n",
              "      </button>\n",
              "      \n",
              "  <style>\n",
              "    .colab-df-container {\n",
              "      display:flex;\n",
              "      flex-wrap:wrap;\n",
              "      gap: 12px;\n",
              "    }\n",
              "\n",
              "    .colab-df-convert {\n",
              "      background-color: #E8F0FE;\n",
              "      border: none;\n",
              "      border-radius: 50%;\n",
              "      cursor: pointer;\n",
              "      display: none;\n",
              "      fill: #1967D2;\n",
              "      height: 32px;\n",
              "      padding: 0 0 0 0;\n",
              "      width: 32px;\n",
              "    }\n",
              "\n",
              "    .colab-df-convert:hover {\n",
              "      background-color: #E2EBFA;\n",
              "      box-shadow: 0px 1px 2px rgba(60, 64, 67, 0.3), 0px 1px 3px 1px rgba(60, 64, 67, 0.15);\n",
              "      fill: #174EA6;\n",
              "    }\n",
              "\n",
              "    [theme=dark] .colab-df-convert {\n",
              "      background-color: #3B4455;\n",
              "      fill: #D2E3FC;\n",
              "    }\n",
              "\n",
              "    [theme=dark] .colab-df-convert:hover {\n",
              "      background-color: #434B5C;\n",
              "      box-shadow: 0px 1px 3px 1px rgba(0, 0, 0, 0.15);\n",
              "      filter: drop-shadow(0px 1px 2px rgba(0, 0, 0, 0.3));\n",
              "      fill: #FFFFFF;\n",
              "    }\n",
              "  </style>\n",
              "\n",
              "      <script>\n",
              "        const buttonEl =\n",
              "          document.querySelector('#df-277d4b0a-fe7d-446a-a3b8-e5fe6f252b8b button.colab-df-convert');\n",
              "        buttonEl.style.display =\n",
              "          google.colab.kernel.accessAllowed ? 'block' : 'none';\n",
              "\n",
              "        async function convertToInteractive(key) {\n",
              "          const element = document.querySelector('#df-277d4b0a-fe7d-446a-a3b8-e5fe6f252b8b');\n",
              "          const dataTable =\n",
              "            await google.colab.kernel.invokeFunction('convertToInteractive',\n",
              "                                                     [key], {});\n",
              "          if (!dataTable) return;\n",
              "\n",
              "          const docLinkHtml = 'Like what you see? Visit the ' +\n",
              "            '<a target=\"_blank\" href=https://colab.research.google.com/notebooks/data_table.ipynb>data table notebook</a>'\n",
              "            + ' to learn more about interactive tables.';\n",
              "          element.innerHTML = '';\n",
              "          dataTable['output_type'] = 'display_data';\n",
              "          await google.colab.output.renderOutput(dataTable, element);\n",
              "          const docLink = document.createElement('div');\n",
              "          docLink.innerHTML = docLinkHtml;\n",
              "          element.appendChild(docLink);\n",
              "        }\n",
              "      </script>\n",
              "    </div>\n",
              "  </div>\n",
              "  "
            ]
          },
          "metadata": {},
          "execution_count": 95
        }
      ],
      "source": [
        "lower_bound = data.zipcode.quantile(q=0.025)\n",
        "upper_bound = data.zipcode.quantile(q=0.975)\n",
        "data[(data.zipcode < lower_bound) | (data.zipcode > upper_bound)]"
      ]
    },
    {
      "cell_type": "code",
      "execution_count": 96,
      "metadata": {
        "colab": {
          "base_uri": "https://localhost:8080/"
        },
        "id": "o2FUEdAEZWrZ",
        "outputId": "59d04a5e-f456-479b-e975-7f04e0f41ef3"
      },
      "outputs": [
        {
          "output_type": "stream",
          "name": "stderr",
          "text": [
            "/usr/local/lib/python3.7/dist-packages/pandas/core/frame.py:4913: SettingWithCopyWarning: \n",
            "A value is trying to be set on a copy of a slice from a DataFrame\n",
            "\n",
            "See the caveats in the documentation: https://pandas.pydata.org/pandas-docs/stable/user_guide/indexing.html#returning-a-view-versus-a-copy\n",
            "  errors=errors,\n"
          ]
        }
      ],
      "source": [
        "data[(data.zipcode > upper_bound)].drop(axis=0, columns='zipcode', inplace=True)"
      ]
    },
    {
      "cell_type": "code",
      "execution_count": 97,
      "metadata": {
        "colab": {
          "base_uri": "https://localhost:8080/",
          "height": 505
        },
        "id": "mhiOhgoseJlM",
        "outputId": "d8b415fa-b190-40b2-a1c2-3b55bc59352d"
      },
      "outputs": [
        {
          "output_type": "execute_result",
          "data": {
            "text/plain": [
              "        propertyType  street     baths  city      sqft   zipcode      beds  \\\n",
              "1                150   43403  0.005600  1715  0.000020  0.299343  0.020833   \n",
              "17               167  124771  0.005600  1226  0.000020  0.030252  0.020833   \n",
              "42               130  324918  0.005600  1226  0.000020  0.030189  0.020833   \n",
              "69               149  134145  0.002667   958  0.000005  0.026252  0.013889   \n",
              "78                40  168245  0.005600   182  0.000020  0.006417  0.020833   \n",
              "...              ...     ...       ...   ...       ...       ...       ...   \n",
              "377044            40  260741  0.002667   182  0.000020  0.006390  0.020833   \n",
              "377062            42  185573  0.004667   958  0.000007  0.026252  0.034722   \n",
              "377088           150  219118  0.005600  2004  0.000020  0.298392  0.020833   \n",
              "377108            40  255894  0.005600   182  0.000020  0.006429  0.020833   \n",
              "377155           150    6284  0.005600  1637  0.000020  0.296075  0.020833   \n",
              "\n",
              "        state   stories  new_target  ...  status_option  status_pending  \\\n",
              "1          37  0.001786    310000.0  ...              0               0   \n",
              "17         24  0.001786   2650000.0  ...              0               0   \n",
              "42         24  0.001786    850000.0  ...              0               0   \n",
              "69         22  0.000893    269000.0  ...              0               0   \n",
              "78         14  0.001786    916900.0  ...              0               0   \n",
              "...       ...       ...         ...  ...            ...             ...   \n",
              "377044     14  0.000893   1450000.0  ...              0               0   \n",
              "377062     22  0.002679    569900.0  ...              0               0   \n",
              "377088     37  0.001786    299900.0  ...              0               0   \n",
              "377108     14  0.001786    399000.0  ...              0               0   \n",
              "377155     37  0.001786    725000.0  ...              0               0   \n",
              "\n",
              "        status_pending,  status_pf  status_price change  status_reactivated  \\\n",
              "1                     0          0                    0                   0   \n",
              "17                    0          0                    0                   0   \n",
              "42                    0          0                    0                   0   \n",
              "69                    0          0                    0                   0   \n",
              "78                    0          0                    0                   0   \n",
              "...                 ...        ...                  ...                 ...   \n",
              "377044                0          0                    0                   0   \n",
              "377062                0          0                    0                   0   \n",
              "377088                0          0                    0                   0   \n",
              "377108                0          0                    0                   0   \n",
              "377155                0          0                    0                   0   \n",
              "\n",
              "        status_temporary  status_under  fireplace_yes  PrivatePool_yes  \n",
              "1                      0             0              0                0  \n",
              "17                     0             0              0                0  \n",
              "42                     0             0              0                0  \n",
              "69                     0             0              0                0  \n",
              "78                     0             0              0                0  \n",
              "...                  ...           ...            ...              ...  \n",
              "377044                 0             0              0                0  \n",
              "377062                 0             0              0                0  \n",
              "377088                 0             0              1                0  \n",
              "377108                 0             0              0                0  \n",
              "377155                 0             0              0                0  \n",
              "\n",
              "[18533 rows x 38 columns]"
            ],
            "text/html": [
              "\n",
              "  <div id=\"df-8fc257a5-9c16-4f17-8cfa-ef343509142f\">\n",
              "    <div class=\"colab-df-container\">\n",
              "      <div>\n",
              "<style scoped>\n",
              "    .dataframe tbody tr th:only-of-type {\n",
              "        vertical-align: middle;\n",
              "    }\n",
              "\n",
              "    .dataframe tbody tr th {\n",
              "        vertical-align: top;\n",
              "    }\n",
              "\n",
              "    .dataframe thead th {\n",
              "        text-align: right;\n",
              "    }\n",
              "</style>\n",
              "<table border=\"1\" class=\"dataframe\">\n",
              "  <thead>\n",
              "    <tr style=\"text-align: right;\">\n",
              "      <th></th>\n",
              "      <th>propertyType</th>\n",
              "      <th>street</th>\n",
              "      <th>baths</th>\n",
              "      <th>city</th>\n",
              "      <th>sqft</th>\n",
              "      <th>zipcode</th>\n",
              "      <th>beds</th>\n",
              "      <th>state</th>\n",
              "      <th>stories</th>\n",
              "      <th>new_target</th>\n",
              "      <th>...</th>\n",
              "      <th>status_option</th>\n",
              "      <th>status_pending</th>\n",
              "      <th>status_pending,</th>\n",
              "      <th>status_pf</th>\n",
              "      <th>status_price change</th>\n",
              "      <th>status_reactivated</th>\n",
              "      <th>status_temporary</th>\n",
              "      <th>status_under</th>\n",
              "      <th>fireplace_yes</th>\n",
              "      <th>PrivatePool_yes</th>\n",
              "    </tr>\n",
              "  </thead>\n",
              "  <tbody>\n",
              "    <tr>\n",
              "      <th>1</th>\n",
              "      <td>150</td>\n",
              "      <td>43403</td>\n",
              "      <td>0.005600</td>\n",
              "      <td>1715</td>\n",
              "      <td>0.000020</td>\n",
              "      <td>0.299343</td>\n",
              "      <td>0.020833</td>\n",
              "      <td>37</td>\n",
              "      <td>0.001786</td>\n",
              "      <td>310000.0</td>\n",
              "      <td>...</td>\n",
              "      <td>0</td>\n",
              "      <td>0</td>\n",
              "      <td>0</td>\n",
              "      <td>0</td>\n",
              "      <td>0</td>\n",
              "      <td>0</td>\n",
              "      <td>0</td>\n",
              "      <td>0</td>\n",
              "      <td>0</td>\n",
              "      <td>0</td>\n",
              "    </tr>\n",
              "    <tr>\n",
              "      <th>17</th>\n",
              "      <td>167</td>\n",
              "      <td>124771</td>\n",
              "      <td>0.005600</td>\n",
              "      <td>1226</td>\n",
              "      <td>0.000020</td>\n",
              "      <td>0.030252</td>\n",
              "      <td>0.020833</td>\n",
              "      <td>24</td>\n",
              "      <td>0.001786</td>\n",
              "      <td>2650000.0</td>\n",
              "      <td>...</td>\n",
              "      <td>0</td>\n",
              "      <td>0</td>\n",
              "      <td>0</td>\n",
              "      <td>0</td>\n",
              "      <td>0</td>\n",
              "      <td>0</td>\n",
              "      <td>0</td>\n",
              "      <td>0</td>\n",
              "      <td>0</td>\n",
              "      <td>0</td>\n",
              "    </tr>\n",
              "    <tr>\n",
              "      <th>42</th>\n",
              "      <td>130</td>\n",
              "      <td>324918</td>\n",
              "      <td>0.005600</td>\n",
              "      <td>1226</td>\n",
              "      <td>0.000020</td>\n",
              "      <td>0.030189</td>\n",
              "      <td>0.020833</td>\n",
              "      <td>24</td>\n",
              "      <td>0.001786</td>\n",
              "      <td>850000.0</td>\n",
              "      <td>...</td>\n",
              "      <td>0</td>\n",
              "      <td>0</td>\n",
              "      <td>0</td>\n",
              "      <td>0</td>\n",
              "      <td>0</td>\n",
              "      <td>0</td>\n",
              "      <td>0</td>\n",
              "      <td>0</td>\n",
              "      <td>0</td>\n",
              "      <td>0</td>\n",
              "    </tr>\n",
              "    <tr>\n",
              "      <th>69</th>\n",
              "      <td>149</td>\n",
              "      <td>134145</td>\n",
              "      <td>0.002667</td>\n",
              "      <td>958</td>\n",
              "      <td>0.000005</td>\n",
              "      <td>0.026252</td>\n",
              "      <td>0.013889</td>\n",
              "      <td>22</td>\n",
              "      <td>0.000893</td>\n",
              "      <td>269000.0</td>\n",
              "      <td>...</td>\n",
              "      <td>0</td>\n",
              "      <td>0</td>\n",
              "      <td>0</td>\n",
              "      <td>0</td>\n",
              "      <td>0</td>\n",
              "      <td>0</td>\n",
              "      <td>0</td>\n",
              "      <td>0</td>\n",
              "      <td>0</td>\n",
              "      <td>0</td>\n",
              "    </tr>\n",
              "    <tr>\n",
              "      <th>78</th>\n",
              "      <td>40</td>\n",
              "      <td>168245</td>\n",
              "      <td>0.005600</td>\n",
              "      <td>182</td>\n",
              "      <td>0.000020</td>\n",
              "      <td>0.006417</td>\n",
              "      <td>0.020833</td>\n",
              "      <td>14</td>\n",
              "      <td>0.001786</td>\n",
              "      <td>916900.0</td>\n",
              "      <td>...</td>\n",
              "      <td>0</td>\n",
              "      <td>0</td>\n",
              "      <td>0</td>\n",
              "      <td>0</td>\n",
              "      <td>0</td>\n",
              "      <td>0</td>\n",
              "      <td>0</td>\n",
              "      <td>0</td>\n",
              "      <td>0</td>\n",
              "      <td>0</td>\n",
              "    </tr>\n",
              "    <tr>\n",
              "      <th>...</th>\n",
              "      <td>...</td>\n",
              "      <td>...</td>\n",
              "      <td>...</td>\n",
              "      <td>...</td>\n",
              "      <td>...</td>\n",
              "      <td>...</td>\n",
              "      <td>...</td>\n",
              "      <td>...</td>\n",
              "      <td>...</td>\n",
              "      <td>...</td>\n",
              "      <td>...</td>\n",
              "      <td>...</td>\n",
              "      <td>...</td>\n",
              "      <td>...</td>\n",
              "      <td>...</td>\n",
              "      <td>...</td>\n",
              "      <td>...</td>\n",
              "      <td>...</td>\n",
              "      <td>...</td>\n",
              "      <td>...</td>\n",
              "      <td>...</td>\n",
              "    </tr>\n",
              "    <tr>\n",
              "      <th>377044</th>\n",
              "      <td>40</td>\n",
              "      <td>260741</td>\n",
              "      <td>0.002667</td>\n",
              "      <td>182</td>\n",
              "      <td>0.000020</td>\n",
              "      <td>0.006390</td>\n",
              "      <td>0.020833</td>\n",
              "      <td>14</td>\n",
              "      <td>0.000893</td>\n",
              "      <td>1450000.0</td>\n",
              "      <td>...</td>\n",
              "      <td>0</td>\n",
              "      <td>0</td>\n",
              "      <td>0</td>\n",
              "      <td>0</td>\n",
              "      <td>0</td>\n",
              "      <td>0</td>\n",
              "      <td>0</td>\n",
              "      <td>0</td>\n",
              "      <td>0</td>\n",
              "      <td>0</td>\n",
              "    </tr>\n",
              "    <tr>\n",
              "      <th>377062</th>\n",
              "      <td>42</td>\n",
              "      <td>185573</td>\n",
              "      <td>0.004667</td>\n",
              "      <td>958</td>\n",
              "      <td>0.000007</td>\n",
              "      <td>0.026252</td>\n",
              "      <td>0.034722</td>\n",
              "      <td>22</td>\n",
              "      <td>0.002679</td>\n",
              "      <td>569900.0</td>\n",
              "      <td>...</td>\n",
              "      <td>0</td>\n",
              "      <td>0</td>\n",
              "      <td>0</td>\n",
              "      <td>0</td>\n",
              "      <td>0</td>\n",
              "      <td>0</td>\n",
              "      <td>0</td>\n",
              "      <td>0</td>\n",
              "      <td>0</td>\n",
              "      <td>0</td>\n",
              "    </tr>\n",
              "    <tr>\n",
              "      <th>377088</th>\n",
              "      <td>150</td>\n",
              "      <td>219118</td>\n",
              "      <td>0.005600</td>\n",
              "      <td>2004</td>\n",
              "      <td>0.000020</td>\n",
              "      <td>0.298392</td>\n",
              "      <td>0.020833</td>\n",
              "      <td>37</td>\n",
              "      <td>0.001786</td>\n",
              "      <td>299900.0</td>\n",
              "      <td>...</td>\n",
              "      <td>0</td>\n",
              "      <td>0</td>\n",
              "      <td>0</td>\n",
              "      <td>0</td>\n",
              "      <td>0</td>\n",
              "      <td>0</td>\n",
              "      <td>0</td>\n",
              "      <td>0</td>\n",
              "      <td>1</td>\n",
              "      <td>0</td>\n",
              "    </tr>\n",
              "    <tr>\n",
              "      <th>377108</th>\n",
              "      <td>40</td>\n",
              "      <td>255894</td>\n",
              "      <td>0.005600</td>\n",
              "      <td>182</td>\n",
              "      <td>0.000020</td>\n",
              "      <td>0.006429</td>\n",
              "      <td>0.020833</td>\n",
              "      <td>14</td>\n",
              "      <td>0.001786</td>\n",
              "      <td>399000.0</td>\n",
              "      <td>...</td>\n",
              "      <td>0</td>\n",
              "      <td>0</td>\n",
              "      <td>0</td>\n",
              "      <td>0</td>\n",
              "      <td>0</td>\n",
              "      <td>0</td>\n",
              "      <td>0</td>\n",
              "      <td>0</td>\n",
              "      <td>0</td>\n",
              "      <td>0</td>\n",
              "    </tr>\n",
              "    <tr>\n",
              "      <th>377155</th>\n",
              "      <td>150</td>\n",
              "      <td>6284</td>\n",
              "      <td>0.005600</td>\n",
              "      <td>1637</td>\n",
              "      <td>0.000020</td>\n",
              "      <td>0.296075</td>\n",
              "      <td>0.020833</td>\n",
              "      <td>37</td>\n",
              "      <td>0.001786</td>\n",
              "      <td>725000.0</td>\n",
              "      <td>...</td>\n",
              "      <td>0</td>\n",
              "      <td>0</td>\n",
              "      <td>0</td>\n",
              "      <td>0</td>\n",
              "      <td>0</td>\n",
              "      <td>0</td>\n",
              "      <td>0</td>\n",
              "      <td>0</td>\n",
              "      <td>0</td>\n",
              "      <td>0</td>\n",
              "    </tr>\n",
              "  </tbody>\n",
              "</table>\n",
              "<p>18533 rows × 38 columns</p>\n",
              "</div>\n",
              "      <button class=\"colab-df-convert\" onclick=\"convertToInteractive('df-8fc257a5-9c16-4f17-8cfa-ef343509142f')\"\n",
              "              title=\"Convert this dataframe to an interactive table.\"\n",
              "              style=\"display:none;\">\n",
              "        \n",
              "  <svg xmlns=\"http://www.w3.org/2000/svg\" height=\"24px\"viewBox=\"0 0 24 24\"\n",
              "       width=\"24px\">\n",
              "    <path d=\"M0 0h24v24H0V0z\" fill=\"none\"/>\n",
              "    <path d=\"M18.56 5.44l.94 2.06.94-2.06 2.06-.94-2.06-.94-.94-2.06-.94 2.06-2.06.94zm-11 1L8.5 8.5l.94-2.06 2.06-.94-2.06-.94L8.5 2.5l-.94 2.06-2.06.94zm10 10l.94 2.06.94-2.06 2.06-.94-2.06-.94-.94-2.06-.94 2.06-2.06.94z\"/><path d=\"M17.41 7.96l-1.37-1.37c-.4-.4-.92-.59-1.43-.59-.52 0-1.04.2-1.43.59L10.3 9.45l-7.72 7.72c-.78.78-.78 2.05 0 2.83L4 21.41c.39.39.9.59 1.41.59.51 0 1.02-.2 1.41-.59l7.78-7.78 2.81-2.81c.8-.78.8-2.07 0-2.86zM5.41 20L4 18.59l7.72-7.72 1.47 1.35L5.41 20z\"/>\n",
              "  </svg>\n",
              "      </button>\n",
              "      \n",
              "  <style>\n",
              "    .colab-df-container {\n",
              "      display:flex;\n",
              "      flex-wrap:wrap;\n",
              "      gap: 12px;\n",
              "    }\n",
              "\n",
              "    .colab-df-convert {\n",
              "      background-color: #E8F0FE;\n",
              "      border: none;\n",
              "      border-radius: 50%;\n",
              "      cursor: pointer;\n",
              "      display: none;\n",
              "      fill: #1967D2;\n",
              "      height: 32px;\n",
              "      padding: 0 0 0 0;\n",
              "      width: 32px;\n",
              "    }\n",
              "\n",
              "    .colab-df-convert:hover {\n",
              "      background-color: #E2EBFA;\n",
              "      box-shadow: 0px 1px 2px rgba(60, 64, 67, 0.3), 0px 1px 3px 1px rgba(60, 64, 67, 0.15);\n",
              "      fill: #174EA6;\n",
              "    }\n",
              "\n",
              "    [theme=dark] .colab-df-convert {\n",
              "      background-color: #3B4455;\n",
              "      fill: #D2E3FC;\n",
              "    }\n",
              "\n",
              "    [theme=dark] .colab-df-convert:hover {\n",
              "      background-color: #434B5C;\n",
              "      box-shadow: 0px 1px 3px 1px rgba(0, 0, 0, 0.15);\n",
              "      filter: drop-shadow(0px 1px 2px rgba(0, 0, 0, 0.3));\n",
              "      fill: #FFFFFF;\n",
              "    }\n",
              "  </style>\n",
              "\n",
              "      <script>\n",
              "        const buttonEl =\n",
              "          document.querySelector('#df-8fc257a5-9c16-4f17-8cfa-ef343509142f button.colab-df-convert');\n",
              "        buttonEl.style.display =\n",
              "          google.colab.kernel.accessAllowed ? 'block' : 'none';\n",
              "\n",
              "        async function convertToInteractive(key) {\n",
              "          const element = document.querySelector('#df-8fc257a5-9c16-4f17-8cfa-ef343509142f');\n",
              "          const dataTable =\n",
              "            await google.colab.kernel.invokeFunction('convertToInteractive',\n",
              "                                                     [key], {});\n",
              "          if (!dataTable) return;\n",
              "\n",
              "          const docLinkHtml = 'Like what you see? Visit the ' +\n",
              "            '<a target=\"_blank\" href=https://colab.research.google.com/notebooks/data_table.ipynb>data table notebook</a>'\n",
              "            + ' to learn more about interactive tables.';\n",
              "          element.innerHTML = '';\n",
              "          dataTable['output_type'] = 'display_data';\n",
              "          await google.colab.output.renderOutput(dataTable, element);\n",
              "          const docLink = document.createElement('div');\n",
              "          docLink.innerHTML = docLinkHtml;\n",
              "          element.appendChild(docLink);\n",
              "        }\n",
              "      </script>\n",
              "    </div>\n",
              "  </div>\n",
              "  "
            ]
          },
          "metadata": {},
          "execution_count": 97
        }
      ],
      "source": [
        "data[(data.zipcode < lower_bound) | (data.zipcode > upper_bound)]"
      ]
    },
    {
      "cell_type": "code",
      "source": [
        "data.info()"
      ],
      "metadata": {
        "colab": {
          "base_uri": "https://localhost:8080/"
        },
        "id": "G9EjSZLq-qdU",
        "outputId": "6582fe38-8e54-4bc4-f89c-e580feb94ed1"
      },
      "execution_count": 98,
      "outputs": [
        {
          "output_type": "stream",
          "name": "stdout",
          "text": [
            "<class 'pandas.core.frame.DataFrame'>\n",
            "Int64Index: 374306 entries, 0 to 377184\n",
            "Data columns (total 38 columns):\n",
            " #   Column                 Non-Null Count   Dtype  \n",
            "---  ------                 --------------   -----  \n",
            " 0   propertyType           374306 non-null  int64  \n",
            " 1   street                 374306 non-null  int64  \n",
            " 2   baths                  374306 non-null  float64\n",
            " 3   city                   374306 non-null  int64  \n",
            " 4   sqft                   374306 non-null  float64\n",
            " 5   zipcode                374306 non-null  float64\n",
            " 6   beds                   374306 non-null  float64\n",
            " 7   state                  374306 non-null  int64  \n",
            " 8   stories                374306 non-null  float64\n",
            " 9   new_target             374306 non-null  float64\n",
            " 10  status_active          374306 non-null  uint8  \n",
            " 11  status_apartment       374306 non-null  uint8  \n",
            " 12  status_auction         374306 non-null  uint8  \n",
            " 13  status_back on market  374306 non-null  uint8  \n",
            " 14  status_closed          374306 non-null  uint8  \n",
            " 15  status_coming soon     374306 non-null  uint8  \n",
            " 16  status_conditional     374306 non-null  uint8  \n",
            " 17  status_contingency     374306 non-null  uint8  \n",
            " 18  status_contingent      374306 non-null  uint8  \n",
            " 19  status_contract        374306 non-null  uint8  \n",
            " 20  status_due             374306 non-null  uint8  \n",
            " 21  status_for sale        374306 non-null  uint8  \n",
            " 22  status_foreclosure     374306 non-null  uint8  \n",
            " 23  status_lease/purchase  374306 non-null  uint8  \n",
            " 24  status_listing         374306 non-null  uint8  \n",
            " 25  status_new             374306 non-null  uint8  \n",
            " 26  status_not known       374306 non-null  uint8  \n",
            " 27  status_offer           374306 non-null  uint8  \n",
            " 28  status_option          374306 non-null  uint8  \n",
            " 29  status_pending         374306 non-null  uint8  \n",
            " 30  status_pending,        374306 non-null  uint8  \n",
            " 31  status_pf              374306 non-null  uint8  \n",
            " 32  status_price change    374306 non-null  uint8  \n",
            " 33  status_reactivated     374306 non-null  uint8  \n",
            " 34  status_temporary       374306 non-null  uint8  \n",
            " 35  status_under           374306 non-null  uint8  \n",
            " 36  fireplace_yes          374306 non-null  uint8  \n",
            " 37  PrivatePool_yes        374306 non-null  uint8  \n",
            "dtypes: float64(6), int64(4), uint8(28)\n",
            "memory usage: 41.4 MB\n"
          ]
        }
      ]
    },
    {
      "cell_type": "markdown",
      "source": [
        "# Split for two dataframes"
      ],
      "metadata": {
        "id": "SH2l1fHySSg6"
      }
    },
    {
      "cell_type": "code",
      "source": [
        "data.new_target.describe()"
      ],
      "metadata": {
        "colab": {
          "base_uri": "https://localhost:8080/"
        },
        "id": "kIOh822tSRRa",
        "outputId": "0e72447e-646a-4a3f-db78-2c640f058a8e"
      },
      "execution_count": 99,
      "outputs": [
        {
          "output_type": "execute_result",
          "data": {
            "text/plain": [
              "count    3.743060e+05\n",
              "mean     6.454072e+05\n",
              "std      1.842196e+06\n",
              "min      1.000000e+00\n",
              "25%      1.877965e+05\n",
              "50%      3.200000e+05\n",
              "75%      5.845000e+05\n",
              "max      1.950000e+08\n",
              "Name: new_target, dtype: float64"
            ]
          },
          "metadata": {},
          "execution_count": 99
        }
      ]
    },
    {
      "cell_type": "code",
      "source": [
        "data.new_target.value_counts()"
      ],
      "metadata": {
        "colab": {
          "base_uri": "https://localhost:8080/"
        },
        "id": "73-G8iZyVxsb",
        "outputId": "d5c7c0da-469d-488d-9588-085b04c7cac2"
      },
      "execution_count": 100,
      "outputs": [
        {
          "output_type": "execute_result",
          "data": {
            "text/plain": [
              "225000.0    1806\n",
              "275000.0    1650\n",
              "250000.0    1644\n",
              "350000.0    1641\n",
              "325000.0    1562\n",
              "            ... \n",
              "218111.0       1\n",
              "136466.0       1\n",
              "236070.0       1\n",
              "752911.0       1\n",
              "171306.0       1\n",
              "Name: new_target, Length: 34184, dtype: int64"
            ]
          },
          "metadata": {},
          "execution_count": 100
        }
      ]
    },
    {
      "cell_type": "code",
      "source": [
        "data_first=data[data['new_target']<320000]"
      ],
      "metadata": {
        "id": "PLj01JiCWHDh"
      },
      "execution_count": 101,
      "outputs": []
    },
    {
      "cell_type": "code",
      "source": [
        "data_second=data[data['new_target']>320000]"
      ],
      "metadata": {
        "id": "btSf-eO5W8TO"
      },
      "execution_count": 102,
      "outputs": []
    },
    {
      "cell_type": "markdown",
      "source": [
        "# ML for first data"
      ],
      "metadata": {
        "id": "6TDzeeUlRiGO"
      }
    },
    {
      "cell_type": "markdown",
      "metadata": {
        "id": "FW_FYgHRYKPa"
      },
      "source": [
        "## Data Split"
      ]
    },
    {
      "cell_type": "code",
      "execution_count": 103,
      "metadata": {
        "id": "-2n8LxfCESBA"
      },
      "outputs": [],
      "source": [
        "X = data_first.drop(['new_target'], axis=1) \n",
        "y = data_first['new_target']\n",
        "X_train, X_test, y_train, y_test = train_test_split(X, y, test_size=VAL_SIZE, shuffle=True, random_state=RANDOM_SEED)"
      ]
    },
    {
      "cell_type": "markdown",
      "metadata": {
        "id": "lerNq5C3Y2No"
      },
      "source": [
        "## ML "
      ]
    },
    {
      "cell_type": "markdown",
      "metadata": {
        "id": "m740Ct7aacMH"
      },
      "source": [
        "### Gradient Boosting for regression."
      ]
    },
    {
      "cell_type": "code",
      "execution_count": 104,
      "metadata": {
        "id": "4LW2FuUQafWb"
      },
      "outputs": [],
      "source": [
        "#n_estimators = [int(x) for x in np.linspace(start = 200, stop = 1000, num = 10)]\n",
        "\n",
        "#random_grid = {'n_estimators': n_estimators}\n",
        "#gbr = GradientBoostingRegressor(random_state=42)\n",
        "#gbr_random = RandomizedSearchCV(estimator=gbr, param_distributions=random_grid, n_iter=30, \n",
        "#                               cv=3, verbose=2, random_state=42, return_train_score=True)\n",
        "#gbr_random.fit(X_train, np.log(y_train))\n",
        "#print(gbr_random.best_params_)"
      ]
    },
    {
      "cell_type": "code",
      "execution_count": 105,
      "metadata": {
        "colab": {
          "base_uri": "https://localhost:8080/"
        },
        "id": "YWJeI9ESahvH",
        "outputId": "935647ba-9957-40af-f28d-8feb1b46dfd4"
      },
      "outputs": [
        {
          "output_type": "execute_result",
          "data": {
            "text/plain": [
              "GradientBoostingRegressor(n_estimators=1000, random_state=42)"
            ]
          },
          "metadata": {},
          "execution_count": 105
        }
      ],
      "source": [
        "gbr = GradientBoostingRegressor(random_state=42,\n",
        "                              n_estimators=1000)\n",
        "gbr.fit(X_train, np.log(y_train))"
      ]
    },
    {
      "cell_type": "code",
      "execution_count": 106,
      "metadata": {
        "id": "sTerbeI2akM4"
      },
      "outputs": [],
      "source": [
        "predict_test_gbr = np.exp(gbr.predict(X_test))"
      ]
    },
    {
      "cell_type": "code",
      "execution_count": 107,
      "metadata": {
        "colab": {
          "base_uri": "https://localhost:8080/"
        },
        "id": "KwTaFsnTBdo8",
        "outputId": "fec0e28d-ebe2-44f3-baf2-37eb911ad199"
      },
      "outputs": [
        {
          "output_type": "stream",
          "name": "stdout",
          "text": [
            "11.54616554955024\n"
          ]
        }
      ],
      "source": [
        "print((mape(y_test, predict_test_gbr)))"
      ]
    },
    {
      "cell_type": "markdown",
      "metadata": {
        "id": "UzmVdzj5anJs"
      },
      "source": [
        "### A random forest regressor."
      ]
    },
    {
      "cell_type": "code",
      "execution_count": 108,
      "metadata": {
        "id": "D7CJNcMnap9Z"
      },
      "outputs": [],
      "source": [
        "#n_estimators = [int(x) for x in np.linspace(start = 200, stop = 500, num = 3)]\n",
        "#min_samples_split=[1, 2, 3, 5]\n",
        "#min_samples_leaf=[1, 2, 3, 5]\n",
        "#max_features=[0.25, 0.5, 0.75, 1.0]\n",
        "#bootstrap=[True, False]\n",
        "#max_depth = [int(x) for x in np.linspace(70, 200, num = 11)]\n",
        "#max_depth.append(None)\n",
        "\n",
        "\n",
        "#random_grid = {'n_estimators': n_estimators,\n",
        "#               'min_samples_split': min_samples_split,\n",
        "#               'min_samples_leaf': min_samples_leaf,\n",
        "#               'max_features': max_features,\n",
        "#               'bootstrap': bootstrap,\n",
        "#               'max_depth': max_depth}\n",
        "#rf = RandomForestRegressor(random_state=42)\n",
        "#rf_random = RandomizedSearchCV(estimator=rf, param_distributions=random_grid, n_iter=2, \n",
        "#                               cv=3, verbose=2, random_state=42, return_train_score=True)\n",
        "#rf_random.fit(X_train, np.log(y_train))\n",
        "#print(rf_random.best_params_)"
      ]
    },
    {
      "cell_type": "code",
      "execution_count": 109,
      "metadata": {
        "colab": {
          "base_uri": "https://localhost:8080/"
        },
        "id": "WMs9ax-FasRy",
        "outputId": "a47c4e86-94d5-4fbb-f080-1459964de8ce"
      },
      "outputs": [
        {
          "output_type": "execute_result",
          "data": {
            "text/plain": [
              "RandomForestRegressor(max_depth=122, max_features=0.5, min_samples_leaf=5,\n",
              "                      min_samples_split=3, n_estimators=500, random_state=42)"
            ]
          },
          "metadata": {},
          "execution_count": 109
        }
      ],
      "source": [
        "rf = RandomForestRegressor(random_state=42,\n",
        "                           n_estimators=500,\n",
        "                            max_depth=122,\n",
        "                           min_samples_split=3,\n",
        "                           min_samples_leaf=5,\n",
        "                            max_features=0.5,\n",
        "                            bootstrap=True)\n",
        "rf.fit(X_train, np.log(y_train))"
      ]
    },
    {
      "cell_type": "code",
      "execution_count": 110,
      "metadata": {
        "id": "O-LeV8h1auEf"
      },
      "outputs": [],
      "source": [
        "predict_test_rt = np.exp(rf.predict(X_test))"
      ]
    },
    {
      "cell_type": "code",
      "execution_count": 111,
      "metadata": {
        "colab": {
          "base_uri": "https://localhost:8080/"
        },
        "id": "l3aMxDJXGh_v",
        "outputId": "7f05f02e-526c-4034-eeff-64ed668a4542"
      },
      "outputs": [
        {
          "output_type": "stream",
          "name": "stdout",
          "text": [
            "14.655683418999528\n"
          ]
        }
      ],
      "source": [
        "print((mape(y_test, predict_test_rt)))"
      ]
    },
    {
      "cell_type": "markdown",
      "metadata": {
        "id": "1vbjiJwoJlIO"
      },
      "source": [
        "### GaussianProcessRegressor"
      ]
    },
    {
      "cell_type": "code",
      "execution_count": 112,
      "metadata": {
        "id": "bmw2tGOoKC_a"
      },
      "outputs": [],
      "source": [
        "gpr= GaussianProcessRegressor(kernel=None, \n",
        "                               alpha=1e-10,\n",
        "                               optimizer='fmin_l_bfgs_b',\n",
        "                               n_restarts_optimizer=0, \n",
        "                               normalize_y=False,\n",
        "                               random_state=42) "
      ]
    },
    {
      "cell_type": "code",
      "execution_count": 113,
      "metadata": {
        "colab": {
          "base_uri": "https://localhost:8080/"
        },
        "id": "X5LIjfyEKQbP",
        "outputId": "57a21ae1-ba3a-4375-ce1e-4edc23ddd630"
      },
      "outputs": [
        {
          "output_type": "stream",
          "name": "stderr",
          "text": [
            "/usr/local/lib/python3.7/dist-packages/sklearn/base.py:444: UserWarning: X has feature names, but GaussianProcessRegressor was fitted without feature names\n",
            "  f\"X has feature names, but {self.__class__.__name__} was fitted without\"\n"
          ]
        }
      ],
      "source": [
        "predict_test_gpr = np.exp(gpr.predict(X_test))"
      ]
    },
    {
      "cell_type": "code",
      "execution_count": 114,
      "metadata": {
        "colab": {
          "base_uri": "https://localhost:8080/"
        },
        "id": "53pmgTKeKnVX",
        "outputId": "131d2faa-7bbf-432e-e993-81750a7e84fb"
      },
      "outputs": [
        {
          "output_type": "stream",
          "name": "stdout",
          "text": [
            "0.9998463654580755\n"
          ]
        }
      ],
      "source": [
        "print((mape(y_test, predict_test_gpr)))"
      ]
    },
    {
      "cell_type": "markdown",
      "metadata": {
        "id": "-iDSoDS3Joh2"
      },
      "source": [
        "### SGDRegressor"
      ]
    },
    {
      "cell_type": "code",
      "execution_count": 115,
      "metadata": {
        "id": "ESFIUttQJ7Cl"
      },
      "outputs": [],
      "source": [
        "#loss=['squared_error', 'huber', 'epsilon_insensitive', 'squared_epsilon_insensitive']\n",
        "#penalty=['l2', 'l1', 'elasticnet']\n",
        "#learning_rate=['constant','optimal','invscaling','adaptive']\n",
        "\n",
        "#random_grid = {'loss':loss,\n",
        "#                'penalty':penalty,\n",
        "#              'learning_rate':learning_rate}\n",
        "#sgd = SGDRegressor(random_state=42)\n",
        "#sgd_random = RandomizedSearchCV(estimator=sgd, param_distributions=random_grid, n_iter=3, \n",
        " #                              cv=3, verbose=2, random_state=42, return_train_score=True)\n",
        "#sgd_random.fit(X_train, np.log(y_train))\n",
        "#print(sgd_random.best_params_)"
      ]
    },
    {
      "cell_type": "code",
      "execution_count": 116,
      "metadata": {
        "colab": {
          "base_uri": "https://localhost:8080/"
        },
        "id": "PN2UnhOxKEF7",
        "outputId": "b47367ab-efdb-4c49-ed5a-c0b4112c0ea6"
      },
      "outputs": [
        {
          "output_type": "execute_result",
          "data": {
            "text/plain": [
              "SGDRegressor(early_stopping=True, learning_rate='adaptive', loss='huber',\n",
              "             penalty='l1', random_state=42, validation_fraction=0.2)"
            ]
          },
          "metadata": {},
          "execution_count": 116
        }
      ],
      "source": [
        "sgd = SGDRegressor(loss='huber',\n",
        "                    penalty='l1',\n",
        "                    learning_rate='adaptive', \n",
        "                    early_stopping=True,\n",
        "                    random_state=42,\n",
        "                    validation_fraction=0.2,\n",
        "                    n_iter_no_change=5 )\n",
        "sgd.fit(X_train, np.log(y_train))"
      ]
    },
    {
      "cell_type": "code",
      "execution_count": 117,
      "metadata": {
        "id": "bOxD5yYgKR4H"
      },
      "outputs": [],
      "source": [
        "predict_test_sgd = np.exp(sgd.predict(X_test))"
      ]
    },
    {
      "cell_type": "code",
      "execution_count": 118,
      "metadata": {
        "colab": {
          "base_uri": "https://localhost:8080/"
        },
        "id": "FqqNEsuCKo1b",
        "outputId": "6cb373a5-d4f3-4763-cba3-80ffd7038afc"
      },
      "outputs": [
        {
          "output_type": "stream",
          "name": "stdout",
          "text": [
            "5.65261237419819\n"
          ]
        }
      ],
      "source": [
        "print((mape(y_test, predict_test_sgd)))"
      ]
    },
    {
      "cell_type": "markdown",
      "metadata": {
        "id": "fCkiKpzhJv5c"
      },
      "source": [
        "### KNeighborsRegressor"
      ]
    },
    {
      "cell_type": "code",
      "execution_count": 119,
      "metadata": {
        "id": "InOG4c5eJ9Hq"
      },
      "outputs": [],
      "source": [
        "#weights=['uniform', 'distance']\n",
        "#algorithm=['auto', 'ball_tree', 'kd_tree', 'brute']\n",
        "#p=[1, 2]\n",
        "\n",
        "#random_grid = {'weights':weights,\n",
        "#                'algorithm':algorithm,\n",
        "#                'p':p}\n",
        "#knr = KNeighborsRegressor()\n",
        "#knr_random = RandomizedSearchCV(estimator=knr, param_distributions=random_grid, n_iter=1, \n",
        "#                               cv=3, verbose=2,  return_train_score=True)\n",
        "#knr_random.fit(X_train, np.log(y_train))\n",
        "#print(knr_random.best_params_)"
      ]
    },
    {
      "cell_type": "code",
      "execution_count": 120,
      "metadata": {
        "id": "IRTsU6A8KG3w",
        "colab": {
          "base_uri": "https://localhost:8080/"
        },
        "outputId": "3fe981b7-eb5e-4cd1-f48d-7e99076cf693"
      },
      "outputs": [
        {
          "output_type": "execute_result",
          "data": {
            "text/plain": [
              "KNeighborsRegressor(weights='distance')"
            ]
          },
          "metadata": {},
          "execution_count": 120
        }
      ],
      "source": [
        "knr = KNeighborsRegressor(weights='distance',\n",
        "                algorithm='auto',\n",
        "                p=2)\n",
        "knr.fit(X_train, np.log(y_train))"
      ]
    },
    {
      "cell_type": "code",
      "execution_count": 121,
      "metadata": {
        "id": "wGfUU4x8KV-4"
      },
      "outputs": [],
      "source": [
        "predict_test_knr = np.exp(knr.predict(X_test))"
      ]
    },
    {
      "cell_type": "code",
      "execution_count": 122,
      "metadata": {
        "id": "q324bFaqKWAj",
        "colab": {
          "base_uri": "https://localhost:8080/"
        },
        "outputId": "838017fe-c675-47f9-c387-ec8046c67218"
      },
      "outputs": [
        {
          "output_type": "stream",
          "name": "stdout",
          "text": [
            "8.952334416581982\n"
          ]
        }
      ],
      "source": [
        "print((mape(y_test, predict_test_knr)))"
      ]
    },
    {
      "cell_type": "markdown",
      "source": [
        "# ML for second data"
      ],
      "metadata": {
        "id": "rhOJ5O48SG51"
      }
    },
    {
      "cell_type": "markdown",
      "metadata": {
        "id": "JyA8dCzFSG51"
      },
      "source": [
        "## Data Split"
      ]
    },
    {
      "cell_type": "code",
      "execution_count": 123,
      "metadata": {
        "id": "eUlhlNNOSG52"
      },
      "outputs": [],
      "source": [
        "X = data_second.drop(['new_target'], axis=1) \n",
        "y = data_second['new_target']\n",
        "X_train, X_test, y_train, y_test = train_test_split(X, y, test_size=VAL_SIZE, shuffle=True, random_state=RANDOM_SEED)"
      ]
    },
    {
      "cell_type": "markdown",
      "metadata": {
        "id": "dhVlxPAASG52"
      },
      "source": [
        "## ML "
      ]
    },
    {
      "cell_type": "markdown",
      "metadata": {
        "id": "z7kDp-WQSG52"
      },
      "source": [
        "### Gradient Boosting for regression."
      ]
    },
    {
      "cell_type": "code",
      "execution_count": 124,
      "metadata": {
        "id": "d4wjOLGZSG52"
      },
      "outputs": [],
      "source": [
        "#n_estimators = [int(x) for x in np.linspace(start = 200, stop = 1000, num = 10)]\n",
        "\n",
        "#random_grid = {'n_estimators': n_estimators}\n",
        "#gbr = GradientBoostingRegressor(random_state=42)\n",
        "#gbr_random = RandomizedSearchCV(estimator=gbr, param_distributions=random_grid, n_iter=30, \n",
        "#                               cv=3, verbose=2, random_state=42, return_train_score=True)\n",
        "#gbr_random.fit(X_train, np.log(y_train))\n",
        "#print(gbr_random.best_params_)"
      ]
    },
    {
      "cell_type": "code",
      "execution_count": 125,
      "metadata": {
        "colab": {
          "base_uri": "https://localhost:8080/"
        },
        "outputId": "eb552850-b917-440e-d636-be3526aaa104",
        "id": "o79XwKqDSG52"
      },
      "outputs": [
        {
          "output_type": "execute_result",
          "data": {
            "text/plain": [
              "GradientBoostingRegressor(n_estimators=1000, random_state=42)"
            ]
          },
          "metadata": {},
          "execution_count": 125
        }
      ],
      "source": [
        "gbr = GradientBoostingRegressor(random_state=42,\n",
        "                              n_estimators=1000)\n",
        "gbr.fit(X_train, np.log(y_train))"
      ]
    },
    {
      "cell_type": "code",
      "execution_count": 126,
      "metadata": {
        "id": "bYdDCOliSG53"
      },
      "outputs": [],
      "source": [
        "predict_test_gbr = np.exp(gbr.predict(X_test))"
      ]
    },
    {
      "cell_type": "code",
      "execution_count": 127,
      "metadata": {
        "colab": {
          "base_uri": "https://localhost:8080/"
        },
        "outputId": "1e07acdb-4af2-4207-9ff6-962a82458a18",
        "id": "r8_up16rSG53"
      },
      "outputs": [
        {
          "output_type": "stream",
          "name": "stdout",
          "text": [
            "0.37372500287121996\n"
          ]
        }
      ],
      "source": [
        "print((mape(y_test, predict_test_gbr)))"
      ]
    },
    {
      "cell_type": "markdown",
      "metadata": {
        "id": "tYPN-XrpSG53"
      },
      "source": [
        "### A random forest regressor."
      ]
    },
    {
      "cell_type": "code",
      "execution_count": 128,
      "metadata": {
        "id": "ekhJw8vqSG53"
      },
      "outputs": [],
      "source": [
        "#n_estimators = [int(x) for x in np.linspace(start = 200, stop = 500, num = 3)]\n",
        "#min_samples_split=[1, 2, 3, 5]\n",
        "#min_samples_leaf=[1, 2, 3, 5]\n",
        "#max_features=[0.25, 0.5, 0.75, 1.0]\n",
        "#bootstrap=[True, False]\n",
        "#max_depth = [int(x) for x in np.linspace(70, 200, num = 11)]\n",
        "#max_depth.append(None)\n",
        "\n",
        "\n",
        "#random_grid = {'n_estimators': n_estimators,\n",
        "#               'min_samples_split': min_samples_split,\n",
        "#               'min_samples_leaf': min_samples_leaf,\n",
        "#               'max_features': max_features,\n",
        "#               'bootstrap': bootstrap,\n",
        "#               'max_depth': max_depth}\n",
        "#rf = RandomForestRegressor(random_state=42)\n",
        "#rf_random = RandomizedSearchCV(estimator=rf, param_distributions=random_grid, n_iter=2, \n",
        "#                               cv=3, verbose=2, random_state=42, return_train_score=True)\n",
        "#rf_random.fit(X_train, np.log(y_train))\n",
        "#print(rf_random.best_params_)"
      ]
    },
    {
      "cell_type": "code",
      "execution_count": 129,
      "metadata": {
        "colab": {
          "base_uri": "https://localhost:8080/"
        },
        "outputId": "70a45066-9cd4-45ac-fbbc-4a02dd8607fb",
        "id": "XtjISm0mSG53"
      },
      "outputs": [
        {
          "output_type": "execute_result",
          "data": {
            "text/plain": [
              "RandomForestRegressor(bootstrap=False, max_depth=161, max_features=0.75,\n",
              "                      min_samples_leaf=3, n_estimators=350, random_state=42)"
            ]
          },
          "metadata": {},
          "execution_count": 129
        }
      ],
      "source": [
        "rf = RandomForestRegressor(random_state=42,\n",
        "                           n_estimators=350 ,\n",
        "                            max_depth=161,\n",
        "                           min_samples_split=2 ,\n",
        "                           min_samples_leaf=3 ,\n",
        "                            max_features=0.75,\n",
        "                            bootstrap=False )\n",
        "rf.fit(X_train, np.log(y_train))"
      ]
    },
    {
      "cell_type": "code",
      "execution_count": 130,
      "metadata": {
        "id": "5jyIb5h4SG53"
      },
      "outputs": [],
      "source": [
        "predict_test_rt = np.exp(rf.predict(X_test))"
      ]
    },
    {
      "cell_type": "code",
      "execution_count": 131,
      "metadata": {
        "colab": {
          "base_uri": "https://localhost:8080/"
        },
        "outputId": "28506331-8fcf-4155-fb74-f0b33bbe0371",
        "id": "hjk1DJVwSG54"
      },
      "outputs": [
        {
          "output_type": "stream",
          "name": "stdout",
          "text": [
            "0.330844503106748\n"
          ]
        }
      ],
      "source": [
        "print((mape(y_test, predict_test_rt)))"
      ]
    },
    {
      "cell_type": "markdown",
      "metadata": {
        "id": "Di0txS34SG54"
      },
      "source": [
        "### GaussianProcessRegressor"
      ]
    },
    {
      "cell_type": "code",
      "execution_count": 132,
      "metadata": {
        "id": "l0ASPTmMSG54"
      },
      "outputs": [],
      "source": [
        "gpr= GaussianProcessRegressor(kernel=None, \n",
        "                               alpha=1e-10,\n",
        "                               optimizer='fmin_l_bfgs_b',\n",
        "                               n_restarts_optimizer=0, \n",
        "                               normalize_y=False,\n",
        "                               random_state=42) "
      ]
    },
    {
      "cell_type": "code",
      "execution_count": 133,
      "metadata": {
        "colab": {
          "base_uri": "https://localhost:8080/"
        },
        "outputId": "ee621895-9073-423b-864c-47b60f8c3491",
        "id": "--dvPceqSG54"
      },
      "outputs": [
        {
          "output_type": "stream",
          "name": "stderr",
          "text": [
            "/usr/local/lib/python3.7/dist-packages/sklearn/base.py:444: UserWarning: X has feature names, but GaussianProcessRegressor was fitted without feature names\n",
            "  f\"X has feature names, but {self.__class__.__name__} was fitted without\"\n"
          ]
        }
      ],
      "source": [
        "predict_test_gpr = np.exp(gpr.predict(X_test))"
      ]
    },
    {
      "cell_type": "code",
      "execution_count": 134,
      "metadata": {
        "colab": {
          "base_uri": "https://localhost:8080/"
        },
        "outputId": "aaf6477c-4ed1-4146-c65c-f0ddd8b3bc2a",
        "id": "hE5BERHzSG54"
      },
      "outputs": [
        {
          "output_type": "stream",
          "name": "stdout",
          "text": [
            "0.9999983089281075\n"
          ]
        }
      ],
      "source": [
        "print((mape(y_test, predict_test_gpr)))"
      ]
    },
    {
      "cell_type": "markdown",
      "metadata": {
        "id": "JTFkp93LSG54"
      },
      "source": [
        "### SGDRegressor"
      ]
    },
    {
      "cell_type": "code",
      "execution_count": 135,
      "metadata": {
        "id": "wTaNHD70SG55"
      },
      "outputs": [],
      "source": [
        "#loss=['squared_error', 'huber', 'epsilon_insensitive', 'squared_epsilon_insensitive']\n",
        "#penalty=['l2', 'l1', 'elasticnet']\n",
        "#learning_rate=['constant','optimal','invscaling','adaptive']\n",
        "\n",
        "#random_grid = {'loss':loss,\n",
        "#                'penalty':penalty,\n",
        "#              'learning_rate':learning_rate}\n",
        "#sgd = SGDRegressor(random_state=42)\n",
        "#sgd_random = RandomizedSearchCV(estimator=sgd, param_distributions=random_grid, n_iter=3, \n",
        "#                               cv=3, verbose=2, random_state=42, return_train_score=True)\n",
        "#sgd_random.fit(X_train, np.log(y_train))\n",
        "#print(sgd_random.best_params_)"
      ]
    },
    {
      "cell_type": "code",
      "execution_count": 136,
      "metadata": {
        "colab": {
          "base_uri": "https://localhost:8080/"
        },
        "outputId": "c4482395-ecb6-4376-a88e-4afd532dc32c",
        "id": "ieW7dAp-SG55"
      },
      "outputs": [
        {
          "output_type": "execute_result",
          "data": {
            "text/plain": [
              "SGDRegressor(early_stopping=True, learning_rate='adaptive', loss='huber',\n",
              "             penalty='l1', random_state=42, validation_fraction=0.2)"
            ]
          },
          "metadata": {},
          "execution_count": 136
        }
      ],
      "source": [
        "sgd = SGDRegressor(loss='huber',\n",
        "                    penalty='l1',\n",
        "                    learning_rate='adaptive', \n",
        "                    early_stopping=True,\n",
        "                    random_state=42,\n",
        "                    validation_fraction=0.2,\n",
        "                    n_iter_no_change=5 )\n",
        "sgd.fit(X_train, np.log(y_train))"
      ]
    },
    {
      "cell_type": "code",
      "execution_count": 137,
      "metadata": {
        "id": "5FnAvtCVSG55"
      },
      "outputs": [],
      "source": [
        "predict_test_sgd = np.exp(sgd.predict(X_test))"
      ]
    },
    {
      "cell_type": "code",
      "execution_count": 138,
      "metadata": {
        "colab": {
          "base_uri": "https://localhost:8080/"
        },
        "outputId": "addb8a28-1d57-49e8-94e2-001fcc9f1d9c",
        "id": "D4FBAq8gSG55"
      },
      "outputs": [
        {
          "output_type": "stream",
          "name": "stdout",
          "text": [
            "2.9493319067045e+278\n"
          ]
        }
      ],
      "source": [
        "print((mape(y_test, predict_test_sgd)))"
      ]
    },
    {
      "cell_type": "markdown",
      "metadata": {
        "id": "uerqtZYsSG55"
      },
      "source": [
        "### KNeighborsRegressor"
      ]
    },
    {
      "cell_type": "code",
      "execution_count": 139,
      "metadata": {
        "id": "QxdEfUWBSG57"
      },
      "outputs": [],
      "source": [
        "#weights=['uniform', 'distance']\n",
        "#algorithm=['auto', 'ball_tree', 'kd_tree', 'brute']\n",
        "#p=[1, 2]\n",
        "\n",
        "#random_grid = {'weights':weights,\n",
        "#                'algorithm':algorithm,\n",
        "#                'p':p}\n",
        "#knr = KNeighborsRegressor()\n",
        "#knr_random = RandomizedSearchCV(estimator=knr, param_distributions=random_grid, n_iter=1, \n",
        "#                               cv=3, verbose=2,  return_train_score=True)\n",
        "#knr_random.fit(X_train, np.log(y_train))\n",
        "#print(knr_random.best_params_)"
      ]
    },
    {
      "cell_type": "code",
      "execution_count": 140,
      "metadata": {
        "colab": {
          "base_uri": "https://localhost:8080/"
        },
        "outputId": "387e2955-0a59-4a8c-9b8c-30ca5e71914a",
        "id": "Czz5fSBwSG57"
      },
      "outputs": [
        {
          "output_type": "execute_result",
          "data": {
            "text/plain": [
              "KNeighborsRegressor(algorithm='kd_tree')"
            ]
          },
          "metadata": {},
          "execution_count": 140
        }
      ],
      "source": [
        "knr = KNeighborsRegressor(weights='uniform',\n",
        "                algorithm='kd_tree',\n",
        "                p=2)\n",
        "knr.fit(X_train, np.log(y_train))"
      ]
    },
    {
      "cell_type": "code",
      "execution_count": 141,
      "metadata": {
        "id": "CbubColXSG57"
      },
      "outputs": [],
      "source": [
        "predict_test_knr = np.exp(knr.predict(X_test))"
      ]
    },
    {
      "cell_type": "code",
      "execution_count": 142,
      "metadata": {
        "colab": {
          "base_uri": "https://localhost:8080/"
        },
        "outputId": "016c5681-99d1-4494-d298-733e14f112ea",
        "id": "AP4ynJfQSG57"
      },
      "outputs": [
        {
          "output_type": "stream",
          "name": "stdout",
          "text": [
            "0.5496897544557469\n"
          ]
        }
      ],
      "source": [
        "print((mape(y_test, predict_test_knr)))"
      ]
    }
  ],
  "metadata": {
    "colab": {
      "collapsed_sections": [],
      "toc_visible": true,
      "provenance": [],
      "include_colab_link": true
    },
    "kernelspec": {
      "display_name": "Python 3",
      "language": "python",
      "name": "python3"
    },
    "language_info": {
      "codemirror_mode": {
        "name": "ipython",
        "version": 3
      },
      "file_extension": ".py",
      "mimetype": "text/x-python",
      "name": "python",
      "nbconvert_exporter": "python",
      "pygments_lexer": "ipython3",
      "version": "3.7.12"
    }
  },
  "nbformat": 4,
  "nbformat_minor": 0
}