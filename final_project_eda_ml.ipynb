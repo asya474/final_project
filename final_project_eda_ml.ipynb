{
  "metadata": {
    "kernelspec": {
      "language": "python",
      "display_name": "Python 3",
      "name": "python3"
    },
    "language_info": {
      "name": "python",
      "version": "3.7.12",
      "mimetype": "text/x-python",
      "codemirror_mode": {
        "name": "ipython",
        "version": 3
      },
      "pygments_lexer": "ipython3",
      "nbconvert_exporter": "python",
      "file_extension": ".py"
    },
    "colab": {
      "provenance": [],
      "collapsed_sections": [
        "m740Ct7aacMH",
        "5T3q133KJbTy",
        "1vbjiJwoJlIO",
        "-iDSoDS3Joh2",
        "0REe47DfJr1O",
        "fCkiKpzhJv5c"
      ],
      "toc_visible": true,
      "include_colab_link": true
    }
  },
  "nbformat_minor": 0,
  "nbformat": 4,
  "cells": [
    {
      "cell_type": "markdown",
      "metadata": {
        "id": "view-in-github",
        "colab_type": "text"
      },
      "source": [
        "<a href=\"https://colab.research.google.com/github/asya474/final_project/blob/main/final_project_eda_ml.ipynb\" target=\"_parent\"><img src=\"https://colab.research.google.com/assets/colab-badge.svg\" alt=\"Open In Colab\"/></a>"
      ]
    },
    {
      "cell_type": "markdown",
      "source": [
        "Основные цели и задачи проекта\n",
        "\n",
        "Основной целью проекта является создание сервиса для предсказания стоимости домов, используя накопленные данные о сделках. Используемый алгоритм должен быть достаточно быстрым и эффективным с точки зрения выбранной метрики.\n",
        "Выбрана метрика MAPE для поставленной задачи регрессии, так как в данных в основном представлены категориальные признаки, в поставленной задаче отсутствует необходимость применять сильно большие штрафы к модели за неправильно обработанные данные и так же относительная метрика более проста и удобна для оценки качества модели, что и пригодится нам для построения безлайна для соответствующего сервиса.\n",
        "\n",
        "Краткая информация о данных\n",
        "\n",
        "Датасет, используемый в проекте, представляет из себя обычные табличные данные, и состоит из следующих столбцов: • status статус сделки • private pool наличие частного бассейна • propertyType тип собственности с информацией о количестве комнат и стиле интерьера • street адрес • baths количество бассейнов • homeFacts информация о здании • fireplace наличие камина • city город • schools информация о школах в округе • sqft площадь жилья в квадратных футах • zipcode почтовый индекс • beds количество кроватей и площадь спальни • state штат • stories подсобные помещения • mls-id мультилистинг • PrivatePool наличие частного бассейна • MlsId мультилистинг • target стоимость жилья\n",
        "\n",
        "Этапы работы над проектом\n",
        "\n",
        "1. Знакомство с датасетом \n",
        "2.Выбор метрики, которая отвечала бы бизнес-целям. \n",
        "3.Очистка данных, заполнение пропусков \n",
        "4.Стандартизация числовых столбцов, применением методов label-encoding, get_dummies к категориальным переменным.\n",
        "5.Выбор алгоритмов машинного обучения,Я оптимизация гиперпараметров, выбор лучшей модели"
      ],
      "metadata": {
        "id": "7UY-pOfLXcqT"
      }
    },
    {
      "cell_type": "code",
      "source": [
        "import numpy as np\n",
        "import pandas as pd\n",
        "import matplotlib.pyplot as plt\n",
        "import seaborn as sns\n",
        "import pickle\n",
        "import zipfile\n",
        "import time\n",
        "import csv\n",
        "import sys\n",
        "import os\n",
        "!pip install tensorflow_addons -q\n",
        "import tensorflow_addons as tfa\n",
        "import re\n",
        "\n",
        "from sklearn.model_selection import RandomizedSearchCV\n",
        "from sklearn.ensemble import *\n",
        "from sklearn.model_selection import train_test_split, StratifiedKFold\n",
        "from sklearn.metrics import mean_absolute_percentage_error\n",
        "from sklearn.preprocessing import *\n",
        "from sklearn.neural_network import MLPRegressor\n",
        "from sklearn.gaussian_process import GaussianProcessRegressor\n",
        "from sklearn.linear_model import SGDRegressor\n",
        "from sklearn.svm import SVR\n",
        "from sklearn.neighbors import KNeighborsRegressor\n",
        "from sklearn.inspection import permutation_importance\n",
        "from matplotlib import pyplot as plt\n",
        "import PIL\n",
        "from PIL import ImageOps, ImageFilter\n",
        "#увеличим дефолтный размер графиков\n",
        "from pylab import rcParams\n",
        "rcParams['figure.figsize'] = 10, 5\n",
        "#графики в svg выглядят более четкими\n",
        "%config InlineBackend.figure_format = 'svg'\n",
        "%matplotlib inline\n",
        "import seaborn as sns\n",
        "#print(os.listdir(\"/content/drive/MyDrive/Colab Notebooks/input\"))\n"
      ],
      "metadata": {
        "id": "elk1vwU2mab2",
        "execution": {
          "iopub.status.busy": "2022-09-06T05:25:29.801501Z",
          "iopub.execute_input": "2022-09-06T05:25:29.801965Z",
          "iopub.status.idle": "2022-09-06T05:25:39.536576Z",
          "shell.execute_reply.started": "2022-09-06T05:25:29.801928Z",
          "shell.execute_reply": "2022-09-06T05:25:39.535606Z"
        },
        "trusted": true
      },
      "execution_count": null,
      "outputs": []
    },
    {
      "cell_type": "code",
      "source": [
        "RANDOM_SEED = 42\n",
        "VAL_SIZE = 0.20 \n",
        "mape=mean_absolute_percentage_error #в качестве метрики выбрано МАРЕ, "
      ],
      "metadata": {
        "id": "SNl-IT-uxwpq",
        "execution": {
          "iopub.status.busy": "2022-09-06T05:25:39.538934Z",
          "iopub.execute_input": "2022-09-06T05:25:39.539227Z",
          "iopub.status.idle": "2022-09-06T05:25:39.546644Z",
          "shell.execute_reply.started": "2022-09-06T05:25:39.539198Z",
          "shell.execute_reply": "2022-09-06T05:25:39.545670Z"
        },
        "trusted": true
      },
      "execution_count": null,
      "outputs": []
    },
    {
      "cell_type": "code",
      "source": [
        "from google.colab import drive\n",
        "drive.mount('/content/drive')"
      ],
      "metadata": {
        "colab": {
          "base_uri": "https://localhost:8080/"
        },
        "id": "L3g0J3ee4grv",
        "outputId": "088fe241-af6b-4e7d-a94b-85ba2167ea65"
      },
      "execution_count": null,
      "outputs": [
        {
          "output_type": "stream",
          "name": "stdout",
          "text": [
            "Drive already mounted at /content/drive; to attempt to forcibly remount, call drive.mount(\"/content/drive\", force_remount=True).\n"
          ]
        }
      ]
    },
    {
      "cell_type": "markdown",
      "source": [
        "## EDA"
      ],
      "metadata": {
        "id": "Z4puC012cG13"
      }
    },
    {
      "cell_type": "code",
      "source": [
        "zip_file='/content/drive/MyDrive/data.csv.zip'\n",
        "z=zipfile.ZipFile(zip_file, 'r')\n",
        "z.extractall()\n",
        "print(os.listdir())"
      ],
      "metadata": {
        "id": "R8N83RVXmf5T",
        "outputId": "239fafb7-9769-4067-f29c-ef0ecfccdee6",
        "execution": {
          "iopub.status.busy": "2022-09-06T05:25:39.547910Z",
          "iopub.execute_input": "2022-09-06T05:25:39.548189Z",
          "iopub.status.idle": "2022-09-06T05:25:39.558762Z",
          "shell.execute_reply.started": "2022-09-06T05:25:39.548165Z",
          "shell.execute_reply": "2022-09-06T05:25:39.557879Z"
        },
        "trusted": true,
        "colab": {
          "base_uri": "https://localhost:8080/"
        }
      },
      "execution_count": null,
      "outputs": [
        {
          "output_type": "stream",
          "name": "stdout",
          "text": [
            "['.config', 'data.csv', 'drive', '__MACOSX', 'sample_data']\n"
          ]
        }
      ]
    },
    {
      "cell_type": "code",
      "source": [
        "data=pd.read_csv('data.csv') #загрузка датасета"
      ],
      "metadata": {
        "id": "73RyWKaL6vMN"
      },
      "execution_count": null,
      "outputs": []
    },
    {
      "cell_type": "code",
      "source": [
        "data.info() #вывод основной информации о датасете"
      ],
      "metadata": {
        "id": "2DL0IICQ1rsO",
        "outputId": "47d55683-38fb-4d30-d627-374aa7bc8f0b",
        "execution": {
          "iopub.status.busy": "2022-09-06T05:25:43.812909Z",
          "iopub.execute_input": "2022-09-06T05:25:43.813524Z",
          "iopub.status.idle": "2022-09-06T05:25:44.149850Z",
          "shell.execute_reply.started": "2022-09-06T05:25:43.813484Z",
          "shell.execute_reply": "2022-09-06T05:25:44.148677Z"
        },
        "trusted": true,
        "colab": {
          "base_uri": "https://localhost:8080/"
        }
      },
      "execution_count": null,
      "outputs": [
        {
          "output_type": "stream",
          "name": "stdout",
          "text": [
            "<class 'pandas.core.frame.DataFrame'>\n",
            "RangeIndex: 377185 entries, 0 to 377184\n",
            "Data columns (total 18 columns):\n",
            " #   Column        Non-Null Count   Dtype \n",
            "---  ------        --------------   ----- \n",
            " 0   status        337267 non-null  object\n",
            " 1   private pool  4181 non-null    object\n",
            " 2   propertyType  342452 non-null  object\n",
            " 3   street        377183 non-null  object\n",
            " 4   baths         270847 non-null  object\n",
            " 5   homeFacts     377185 non-null  object\n",
            " 6   fireplace     103115 non-null  object\n",
            " 7   city          377151 non-null  object\n",
            " 8   schools       377185 non-null  object\n",
            " 9   sqft          336608 non-null  object\n",
            " 10  zipcode       377185 non-null  object\n",
            " 11  beds          285903 non-null  object\n",
            " 12  state         377185 non-null  object\n",
            " 13  stories       226470 non-null  object\n",
            " 14  mls-id        24942 non-null   object\n",
            " 15  PrivatePool   40311 non-null   object\n",
            " 16  MlsId         310305 non-null  object\n",
            " 17  target        374704 non-null  object\n",
            "dtypes: object(18)\n",
            "memory usage: 51.8+ MB\n"
          ]
        }
      ]
    },
    {
      "cell_type": "code",
      "source": [
        "data.nunique() #вывод уникальных значений"
      ],
      "metadata": {
        "id": "P9SK2fBZMkZs",
        "outputId": "b1d8af13-45d3-45ce-fda6-51e836af7a96",
        "execution": {
          "iopub.status.busy": "2022-09-06T05:25:44.151669Z",
          "iopub.execute_input": "2022-09-06T05:25:44.152218Z",
          "iopub.status.idle": "2022-09-06T05:25:45.623211Z",
          "shell.execute_reply.started": "2022-09-06T05:25:44.152174Z",
          "shell.execute_reply": "2022-09-06T05:25:45.622279Z"
        },
        "trusted": true,
        "colab": {
          "base_uri": "https://localhost:8080/"
        }
      },
      "execution_count": null,
      "outputs": [
        {
          "output_type": "execute_result",
          "data": {
            "text/plain": [
              "status             159\n",
              "private pool         1\n",
              "propertyType      1280\n",
              "street          337076\n",
              "baths              229\n",
              "homeFacts       321009\n",
              "fireplace         1653\n",
              "city              2026\n",
              "schools         297365\n",
              "sqft             25405\n",
              "zipcode           4549\n",
              "beds              1184\n",
              "state               39\n",
              "stories            348\n",
              "mls-id           24907\n",
              "PrivatePool          2\n",
              "MlsId           232944\n",
              "target           43939\n",
              "dtype: int64"
            ]
          },
          "metadata": {},
          "execution_count": 8
        }
      ]
    },
    {
      "cell_type": "code",
      "source": [
        "data.isna().sum() #проверка на содержание NaN в столбце"
      ],
      "metadata": {
        "id": "vZ3Z5DI7M2gj",
        "outputId": "6dc3e9b0-3fa2-4370-ebe8-f79b59132be7",
        "execution": {
          "iopub.status.busy": "2022-09-06T05:25:45.624320Z",
          "iopub.execute_input": "2022-09-06T05:25:45.624616Z",
          "iopub.status.idle": "2022-09-06T05:25:45.958034Z",
          "shell.execute_reply.started": "2022-09-06T05:25:45.624590Z",
          "shell.execute_reply": "2022-09-06T05:25:45.957205Z"
        },
        "trusted": true,
        "colab": {
          "base_uri": "https://localhost:8080/"
        }
      },
      "execution_count": null,
      "outputs": [
        {
          "output_type": "execute_result",
          "data": {
            "text/plain": [
              "status           39918\n",
              "private pool    373004\n",
              "propertyType     34733\n",
              "street               2\n",
              "baths           106338\n",
              "homeFacts            0\n",
              "fireplace       274070\n",
              "city                34\n",
              "schools              0\n",
              "sqft             40577\n",
              "zipcode              0\n",
              "beds             91282\n",
              "state                0\n",
              "stories         150715\n",
              "mls-id          352243\n",
              "PrivatePool     336874\n",
              "MlsId            66880\n",
              "target            2481\n",
              "dtype: int64"
            ]
          },
          "metadata": {},
          "execution_count": 9
        }
      ]
    },
    {
      "cell_type": "code",
      "source": [],
      "metadata": {
        "id": "mizgbp-Noewx"
      },
      "execution_count": null,
      "outputs": []
    },
    {
      "cell_type": "markdown",
      "source": [
        "### target"
      ],
      "metadata": {
        "id": "2T7ET0UlC_4P"
      }
    },
    {
      "cell_type": "code",
      "source": [
        "data.target.value_counts() #обзор значений в столбце "
      ],
      "metadata": {
        "id": "nL0dngE679xa",
        "outputId": "c26eeeba-d764-419f-f5f6-e9092bdd459e",
        "execution": {
          "iopub.status.busy": "2022-09-06T05:25:45.959117Z",
          "iopub.execute_input": "2022-09-06T05:25:45.959414Z",
          "iopub.status.idle": "2022-09-06T05:25:46.021200Z",
          "shell.execute_reply.started": "2022-09-06T05:25:45.959386Z",
          "shell.execute_reply": "2022-09-06T05:25:46.020193Z"
        },
        "trusted": true,
        "colab": {
          "base_uri": "https://localhost:8080/"
        }
      },
      "execution_count": null,
      "outputs": [
        {
          "output_type": "execute_result",
          "data": {
            "text/plain": [
              "$225,000     1462\n",
              "$275,000     1355\n",
              "$250,000     1312\n",
              "$350,000     1296\n",
              "$299,900     1276\n",
              "             ... \n",
              "$390,359        1\n",
              "$458,900+       1\n",
              "274,359         1\n",
              "$273,490+       1\n",
              "$171,306        1\n",
              "Name: target, Length: 43939, dtype: int64"
            ]
          },
          "metadata": {},
          "execution_count": 10
        }
      ]
    },
    {
      "cell_type": "code",
      "source": [
        "data['new_target'] = data['target'].str.replace('+', '') #удаляем + из значений столбца"
      ],
      "metadata": {
        "id": "FCQ9ydfhvg5H",
        "outputId": "6752f963-b81a-4336-cdd6-58f7fe176111",
        "execution": {
          "iopub.status.busy": "2022-09-06T05:25:46.022332Z",
          "iopub.execute_input": "2022-09-06T05:25:46.022613Z",
          "iopub.status.idle": "2022-09-06T05:25:46.171410Z",
          "shell.execute_reply.started": "2022-09-06T05:25:46.022588Z",
          "shell.execute_reply": "2022-09-06T05:25:46.170599Z"
        },
        "trusted": true,
        "colab": {
          "base_uri": "https://localhost:8080/"
        }
      },
      "execution_count": null,
      "outputs": [
        {
          "output_type": "stream",
          "name": "stderr",
          "text": [
            "/usr/local/lib/python3.7/dist-packages/ipykernel_launcher.py:1: FutureWarning: The default value of regex will change from True to False in a future version. In addition, single character regular expressions will *not* be treated as literal strings when regex=True.\n",
            "  \"\"\"Entry point for launching an IPython kernel.\n"
          ]
        }
      ]
    },
    {
      "cell_type": "code",
      "source": [
        "data['new_target'] = data['new_target'].str.replace('$', '') #удаляем $ из значений столбца"
      ],
      "metadata": {
        "id": "SWeCeMYRTY01",
        "outputId": "e9297eff-5314-4368-bcd7-22153e1caead",
        "execution": {
          "iopub.status.busy": "2022-09-06T05:25:46.174931Z",
          "iopub.execute_input": "2022-09-06T05:25:46.176290Z",
          "iopub.status.idle": "2022-09-06T05:25:46.377493Z",
          "shell.execute_reply.started": "2022-09-06T05:25:46.176248Z",
          "shell.execute_reply": "2022-09-06T05:25:46.376557Z"
        },
        "trusted": true,
        "colab": {
          "base_uri": "https://localhost:8080/"
        }
      },
      "execution_count": null,
      "outputs": [
        {
          "output_type": "stream",
          "name": "stderr",
          "text": [
            "/usr/local/lib/python3.7/dist-packages/ipykernel_launcher.py:1: FutureWarning: The default value of regex will change from True to False in a future version. In addition, single character regular expressions will *not* be treated as literal strings when regex=True.\n",
            "  \"\"\"Entry point for launching an IPython kernel.\n"
          ]
        }
      ]
    },
    {
      "cell_type": "code",
      "source": [
        "data['new_target'] = data['new_target'].str.replace(',', '') #удаляем , из значений столбца"
      ],
      "metadata": {
        "id": "LCv3RpWOkmVW",
        "execution": {
          "iopub.status.busy": "2022-09-06T05:25:46.378926Z",
          "iopub.execute_input": "2022-09-06T05:25:46.379432Z",
          "iopub.status.idle": "2022-09-06T05:25:46.590220Z",
          "shell.execute_reply.started": "2022-09-06T05:25:46.379391Z",
          "shell.execute_reply": "2022-09-06T05:25:46.589106Z"
        },
        "trusted": true
      },
      "execution_count": null,
      "outputs": []
    },
    {
      "cell_type": "code",
      "source": [
        "data['new_target']=pd.to_numeric(data['new_target'], downcast='integer', errors='coerce') #приводим значения к типу integer"
      ],
      "metadata": {
        "id": "xTqmYrj2ksLi",
        "execution": {
          "iopub.status.busy": "2022-09-06T05:25:46.591875Z",
          "iopub.execute_input": "2022-09-06T05:25:46.592855Z",
          "iopub.status.idle": "2022-09-06T05:25:46.778673Z",
          "shell.execute_reply.started": "2022-09-06T05:25:46.592815Z",
          "shell.execute_reply": "2022-09-06T05:25:46.777769Z"
        },
        "trusted": true
      },
      "execution_count": null,
      "outputs": []
    },
    {
      "cell_type": "code",
      "source": [
        "data['new_target'].value_counts() #обзор значений в столбце"
      ],
      "metadata": {
        "id": "DygfevqXTcV1",
        "outputId": "0c9a1cca-f3ac-4ee3-eae3-617bc7f105fa",
        "execution": {
          "iopub.status.busy": "2022-09-06T05:25:46.779972Z",
          "iopub.execute_input": "2022-09-06T05:25:46.780784Z",
          "iopub.status.idle": "2022-09-06T05:25:46.798806Z",
          "shell.execute_reply.started": "2022-09-06T05:25:46.780747Z",
          "shell.execute_reply": "2022-09-06T05:25:46.798069Z"
        },
        "trusted": true,
        "colab": {
          "base_uri": "https://localhost:8080/"
        }
      },
      "execution_count": null,
      "outputs": [
        {
          "output_type": "execute_result",
          "data": {
            "text/plain": [
              "225000.0    1806\n",
              "275000.0    1650\n",
              "250000.0    1644\n",
              "350000.0    1641\n",
              "325000.0    1562\n",
              "            ... \n",
              "218111.0       1\n",
              "136466.0       1\n",
              "236070.0       1\n",
              "752911.0       1\n",
              "171306.0       1\n",
              "Name: new_target, Length: 34184, dtype: int64"
            ]
          },
          "metadata": {},
          "execution_count": 15
        }
      ]
    },
    {
      "cell_type": "code",
      "source": [
        "data.drop(['target',], axis=1, inplace=True) #удаляем старый столбец с таргетом и грязными данными, будем в дальнейшем использовать новый"
      ],
      "metadata": {
        "id": "NkbEvi_SbmK4",
        "execution": {
          "iopub.status.busy": "2022-09-06T05:25:46.799828Z",
          "iopub.execute_input": "2022-09-06T05:25:46.800476Z",
          "iopub.status.idle": "2022-09-06T05:25:46.895710Z",
          "shell.execute_reply.started": "2022-09-06T05:25:46.800429Z",
          "shell.execute_reply": "2022-09-06T05:25:46.894606Z"
        },
        "trusted": true
      },
      "execution_count": null,
      "outputs": []
    },
    {
      "cell_type": "code",
      "source": [
        "data.dropna(subset=['new_target'], inplace=True) #удаляем строки, содержащие NaN"
      ],
      "metadata": {
        "id": "LHleBGfncnKJ",
        "execution": {
          "iopub.status.busy": "2022-09-06T05:25:46.897226Z",
          "iopub.execute_input": "2022-09-06T05:25:46.897630Z",
          "iopub.status.idle": "2022-09-06T05:25:47.050673Z",
          "shell.execute_reply.started": "2022-09-06T05:25:46.897601Z",
          "shell.execute_reply": "2022-09-06T05:25:47.049753Z"
        },
        "trusted": true
      },
      "execution_count": null,
      "outputs": []
    },
    {
      "cell_type": "markdown",
      "source": [
        "### status"
      ],
      "metadata": {
        "id": "v_L48mTCBrTJ"
      }
    },
    {
      "cell_type": "code",
      "source": [
        "data.status.value_counts() #краткий обзор значений"
      ],
      "metadata": {
        "id": "A7k6pV9Z9HB5",
        "outputId": "ac4acd0a-42bf-4b76-b647-7ec7236c8ffe",
        "execution": {
          "iopub.status.busy": "2022-09-06T05:25:47.127618Z",
          "iopub.execute_input": "2022-09-06T05:25:47.128036Z",
          "iopub.status.idle": "2022-09-06T05:25:47.159701Z",
          "shell.execute_reply.started": "2022-09-06T05:25:47.128007Z",
          "shell.execute_reply": "2022-09-06T05:25:47.158634Z"
        },
        "trusted": true,
        "colab": {
          "base_uri": "https://localhost:8080/"
        }
      },
      "execution_count": null,
      "outputs": [
        {
          "output_type": "execute_result",
          "data": {
            "text/plain": [
              "for sale                   156100\n",
              "Active                     105206\n",
              "For sale                    43465\n",
              "foreclosure                  5677\n",
              "New construction             5459\n",
              "                            ...  \n",
              "Coming soon: Nov 8.             1\n",
              "Coming soon: Oct 29.            1\n",
              "Coming soon: Dec 15.            1\n",
              "Pending W/Backup Wanted         1\n",
              "Coming soon: Dec 23.            1\n",
              "Name: status, Length: 155, dtype: int64"
            ]
          },
          "metadata": {},
          "execution_count": 18
        }
      ]
    },
    {
      "cell_type": "code",
      "source": [
        "data.status.unique() #вывод уникальных значений, как видим из разнообразия представленных типов можно вычленить более унифицированные. Попробуем вычленить основные типы с помощью дальнейших преобразований"
      ],
      "metadata": {
        "id": "uTigmEAsxF6v",
        "outputId": "41e00df7-add8-41e5-9a98-c65bd6708f1b",
        "execution": {
          "iopub.status.busy": "2022-09-06T05:25:47.161543Z",
          "iopub.execute_input": "2022-09-06T05:25:47.161955Z",
          "iopub.status.idle": "2022-09-06T05:25:47.197576Z",
          "shell.execute_reply.started": "2022-09-06T05:25:47.161906Z",
          "shell.execute_reply": "2022-09-06T05:25:47.196919Z"
        },
        "trusted": true,
        "colab": {
          "base_uri": "https://localhost:8080/"
        }
      },
      "execution_count": null,
      "outputs": [
        {
          "output_type": "execute_result",
          "data": {
            "text/plain": [
              "array(['Active', 'for sale', nan, 'New construction', 'New', 'For sale',\n",
              "       'Pending', 'P', 'Active/Contingent', ' / auction',\n",
              "       'Under Contract', 'Pre-foreclosure / auction',\n",
              "       'Under Contract   Showing', 'Pre-foreclosure',\n",
              "       'Under Contract Backups', 'Active Under Contract', 'foreclosure',\n",
              "       'Foreclosed', 'Option Pending', 'Under Contract Show', 'Auction',\n",
              "       'A Active', 'Contingent', 'Pending   Continue To Show',\n",
              "       'Price Change', 'Back on Market', 'Active Option', 'Foreclosure',\n",
              "       'Coming soon: Nov 21.', 'Contingent Finance And Inspection',\n",
              "       'Coming soon: Dec 4.', 'P Pending Sale', 'Coming soon: Nov 23.',\n",
              "       'Active With Contingencies', 'Pending Ab', 'Pf', 'Contingent Show',\n",
              "       'Contract P', 'Contingent Take Backup', 'Apartment for rent',\n",
              "       'Backup Contract', 'Option Contract', 'Pending Continue To Show',\n",
              "       'pending', 'Pending Inspection', 'Active Option Contract', 'C',\n",
              "       'Auction - Active', 'Contingent   Show', 'Pi',\n",
              "       'Due Diligence Period', 'Contract Contingent On Buyer Sale',\n",
              "       'U Under Contract', 'Coming soon: Nov 29.', 'Coming soon: Dec 2.',\n",
              "       'Active Contingency', 'Pending With Contingencies',\n",
              "       'Lease/Purchase Pending', 'Pending Bring Backup',\n",
              "       'C Continue Show', 'Pending Taking Backups',\n",
              "       'Offer Pending Signature', 'Under Contract - Show',\n",
              "       'Contingent Lien Holder Release', 'Active - Auction',\n",
              "       'Active With Offer', 'Coming soon: Nov 30.', 'Listing Extended',\n",
              "       'Pending, Continue to Show', 'For Sale', 'Contingency Contract',\n",
              "       'Coming soon: Dec 10.', 'Contingent Escape',\n",
              "       'Pending - Taking Backups', 'Coming soon: Dec 24.',\n",
              "       'Active Backup', 'Coming soon: Nov 14.', 'Coming soon: Nov 22.',\n",
              "       'Coming soon: Oct 21.', 'Under contract', 'Coming soon: Dec 14.',\n",
              "       'Coming soon: Oct 24.', 'Condo for rent', 'Active Contingent',\n",
              "       'Coming soon: Dec 18.', 'Pending Offer Approval', 'Pending In',\n",
              "       'Coming soon: Dec 16.', 'Ct', 'Pending W/Insp Finance',\n",
              "       'Coming soon: Dec 3.', 'Coming soon: Dec 25.',\n",
              "       'Coming soon: Nov 11.', 'Coming soon: Nov 28.',\n",
              "       'Contingent Finance and Inspection', 'Temporary Active',\n",
              "       'CT Insp - Inspection Contingency', 'Coming soon: Nov 17.',\n",
              "       'Pending (Do Not Show)', 'Contingency 48 Hr (+/ )',\n",
              "       'Pending   Continue To Show   Financing', 'Pending W/ Cont.',\n",
              "       'Coming soon: Dec 6.', 'Back On Market', 'Coming soon: Nov 27.',\n",
              "       'Pending W/Escape Clause', 'Coming soon: Nov 26.',\n",
              "       'Pending - Continue to Show', 'Closed', 'Under Contract - No Show',\n",
              "       'Contract', 'Coming soon: Dec 7.', 'Coming soon: Dec 27.',\n",
              "       'Coming soon: Dec 11.', 'Coming soon: Dec 5.',\n",
              "       'Coming soon: Nov 13.', 'Contingent   Release', 'Accepted Offer',\n",
              "       'Conditional Contract', 'Active - Contingent',\n",
              "       'Active with Contract', 'Coming soon: Nov 19.',\n",
              "       'Coming soon: Nov 8.', 'Coming soon: Oct 29.',\n",
              "       'Coming soon: Dec 15.', 'Pending W/Backup Wanted',\n",
              "       'Pending Backups Wanted', 'Pending Fe', 'Coming soon: Oct 30.',\n",
              "       'Contingent   No Show', 'Coming soon: Dec 9.', 'Pending Sale',\n",
              "       'Accepting backups', 'Coming soon: Dec 20.',\n",
              "       'Pending Take Backups', 'Contingent   Foreclosure',\n",
              "       'Conting Accpt Backups', 'Lease/Purchase', 'Coming soon: Dec 13.',\n",
              "       'Contingent - Sale of Home', 'Ps', 'Under Contract W/ Bckp',\n",
              "       'Re Activated', 'Pending - Backup Offer Requested',\n",
              "       'Coming soon: Dec 12.', 'Reactivated', 'Uc Continue To Show',\n",
              "       'Contingent - Financing', 'Coming soon: Nov 5.',\n",
              "       'Coming soon: Nov 12.', 'Coming soon: Dec 1.', 'Pending Sh',\n",
              "       'Coming soon: Nov 25.', 'Under Contract Taking Back Up Offers',\n",
              "       'Backup', 'Coming soon: Dec 23.'], dtype=object)"
            ]
          },
          "metadata": {},
          "execution_count": 19
        }
      ]
    },
    {
      "cell_type": "code",
      "source": [
        "data['status'] = data.status.astype(str) #приводим к типу строка, понижаем регистр и берем первое значение строки \n",
        "data['status'] = data.status.apply(lambda x: x.split(' ')[0].lower())"
      ],
      "metadata": {
        "id": "XMXY5iqne_kJ",
        "execution": {
          "iopub.status.busy": "2022-09-06T05:25:47.198592Z",
          "iopub.execute_input": "2022-09-06T05:25:47.199228Z",
          "iopub.status.idle": "2022-09-06T05:25:47.386358Z",
          "shell.execute_reply.started": "2022-09-06T05:25:47.199200Z",
          "shell.execute_reply": "2022-09-06T05:25:47.385548Z"
        },
        "trusted": true
      },
      "execution_count": null,
      "outputs": []
    },
    {
      "cell_type": "code",
      "source": [
        "data.status.unique() #обзор получившихся уникальных значений"
      ],
      "metadata": {
        "id": "t-7ZDWGifL1W",
        "outputId": "73afcc35-f5ac-42d9-f643-0f7225c111e1",
        "execution": {
          "iopub.status.busy": "2022-09-06T05:25:47.387669Z",
          "iopub.execute_input": "2022-09-06T05:25:47.388220Z",
          "iopub.status.idle": "2022-09-06T05:25:47.422579Z",
          "shell.execute_reply.started": "2022-09-06T05:25:47.388189Z",
          "shell.execute_reply": "2022-09-06T05:25:47.420627Z"
        },
        "trusted": true,
        "colab": {
          "base_uri": "https://localhost:8080/"
        }
      },
      "execution_count": null,
      "outputs": [
        {
          "output_type": "execute_result",
          "data": {
            "text/plain": [
              "array(['active', 'for', 'nan', 'new', 'pending', 'p', 'active/contingent',\n",
              "       '', 'under', 'pre-foreclosure', 'foreclosure', 'foreclosed',\n",
              "       'option', 'auction', 'a', 'contingent', 'price', 'back', 'coming',\n",
              "       'pf', 'contract', 'apartment', 'backup', 'c', 'pi', 'due', 'u',\n",
              "       'lease/purchase', 'offer', 'listing', 'pending,', 'contingency',\n",
              "       'condo', 'ct', 'temporary', 'closed', 'accepted', 'conditional',\n",
              "       'accepting', 'conting', 'ps', 're', 'reactivated', 'uc'],\n",
              "      dtype=object)"
            ]
          },
          "metadata": {},
          "execution_count": 21
        }
      ]
    },
    {
      "cell_type": "code",
      "source": [
        "def transform_status(\n",
        "    value: str\n",
        "):  \n",
        "    if isinstance(value, str):\n",
        "        if  value in ['for']:\n",
        "            return 'for sale'\n",
        "        if  value in ['nan', '']:\n",
        "            return 'not known'\n",
        "        if  value in ['a', 'active/contingent']:\n",
        "            return 'active'\n",
        "        if  value in ['price']:\n",
        "            return 'price change'\n",
        "        if  value in ['back', 'backup']:\n",
        "            return 'back on market'\n",
        "        if  value in ['coming', 'c']:\n",
        "            return 'coming soon'\n",
        "        if value in ['p', 'pi', 'ps']:\n",
        "            return 'pending'\n",
        "        if value in ['u', 'uc']:\n",
        "            return 'under'\n",
        "        if value in ['re']:\n",
        "            return 'reactivated'\n",
        "        if value in ['ct']:\n",
        "            return 'contract'\n",
        "        if value in ['pre-foreclosure', 'foreclosure', 'foreclosed']:\n",
        "            return 'foreclosure'\n",
        "        if value in ['accepting', 'accepted']:\n",
        "            return 'accepted'\n",
        "        if value in ['contingency', 'conting']:\n",
        "            return 'contingency'\n",
        "        if value in ['condo', 'conditional']:\n",
        "            return 'conditional'\n",
        "\n",
        "    return value\n",
        "data.status=data.status.apply(transform_status) #функция для преобразования, так как видно,что некоторые аббревиатуры используются для более полных категорий,например"
      ],
      "metadata": {
        "id": "PS6FmMWixmt_",
        "execution": {
          "iopub.status.busy": "2022-09-06T05:25:47.424679Z",
          "iopub.execute_input": "2022-09-06T05:25:47.425121Z",
          "iopub.status.idle": "2022-09-06T05:25:47.609914Z",
          "shell.execute_reply.started": "2022-09-06T05:25:47.425080Z",
          "shell.execute_reply": "2022-09-06T05:25:47.609117Z"
        },
        "trusted": true
      },
      "execution_count": null,
      "outputs": []
    },
    {
      "cell_type": "code",
      "source": [
        "data.status.unique() #обзор получившихся в итоге уникальных значений"
      ],
      "metadata": {
        "id": "EEA982A1ooJe",
        "outputId": "00eb3d62-9349-4479-8060-6cd86c88b964",
        "execution": {
          "iopub.status.busy": "2022-09-06T05:25:47.611206Z",
          "iopub.execute_input": "2022-09-06T05:25:47.611747Z",
          "iopub.status.idle": "2022-09-06T05:25:47.644399Z",
          "shell.execute_reply.started": "2022-09-06T05:25:47.611705Z",
          "shell.execute_reply": "2022-09-06T05:25:47.643427Z"
        },
        "trusted": true,
        "colab": {
          "base_uri": "https://localhost:8080/"
        }
      },
      "execution_count": null,
      "outputs": [
        {
          "output_type": "execute_result",
          "data": {
            "text/plain": [
              "array(['active', 'for sale', 'not known', 'new', 'pending', 'under',\n",
              "       'foreclosure', 'option', 'auction', 'contingent', 'price change',\n",
              "       'back on market', 'coming soon', 'pf', 'contract', 'apartment',\n",
              "       'due', 'lease/purchase', 'offer', 'listing', 'pending,',\n",
              "       'contingency', 'conditional', 'temporary', 'closed', 'accepted',\n",
              "       'reactivated'], dtype=object)"
            ]
          },
          "metadata": {},
          "execution_count": 23
        }
      ]
    },
    {
      "cell_type": "markdown",
      "source": [
        "### private pool"
      ],
      "metadata": {
        "id": "kbNZbm5rBw3A"
      }
    },
    {
      "cell_type": "code",
      "source": [
        "data['private pool'].value_counts() #обзор значений в столбце"
      ],
      "metadata": {
        "id": "5eT2cszn7wix",
        "outputId": "19b8fd57-c007-4e5d-b08d-a01c7ca2ca0f",
        "execution": {
          "iopub.status.busy": "2022-09-06T05:25:47.698502Z",
          "iopub.execute_input": "2022-09-06T05:25:47.699127Z",
          "iopub.status.idle": "2022-09-06T05:25:47.715743Z",
          "shell.execute_reply.started": "2022-09-06T05:25:47.699096Z",
          "shell.execute_reply": "2022-09-06T05:25:47.714831Z"
        },
        "trusted": true,
        "colab": {
          "base_uri": "https://localhost:8080/"
        }
      },
      "execution_count": null,
      "outputs": [
        {
          "output_type": "execute_result",
          "data": {
            "text/plain": [
              "Yes    4151\n",
              "Name: private pool, dtype: int64"
            ]
          },
          "metadata": {},
          "execution_count": 24
        }
      ]
    },
    {
      "cell_type": "code",
      "source": [
        "data.drop(['private pool',], axis=1, inplace=True) #удаляем столбец,так как значения совпадает со столбцом PrivatePool"
      ],
      "metadata": {
        "id": "8DZ_QhwWDacD",
        "execution": {
          "iopub.status.busy": "2022-09-06T05:25:47.717346Z",
          "iopub.execute_input": "2022-09-06T05:25:47.717727Z",
          "iopub.status.idle": "2022-09-06T05:25:47.819125Z",
          "shell.execute_reply.started": "2022-09-06T05:25:47.717689Z",
          "shell.execute_reply": "2022-09-06T05:25:47.817747Z"
        },
        "trusted": true
      },
      "execution_count": null,
      "outputs": []
    },
    {
      "cell_type": "markdown",
      "source": [
        "### propertyType"
      ],
      "metadata": {
        "id": "WyjRShaXB1Wq"
      }
    },
    {
      "cell_type": "code",
      "source": [
        "data['propertyType'].value_counts() #обзор значений в столбце"
      ],
      "metadata": {
        "id": "mOIW9YDx77N-",
        "outputId": "88f1c27e-499a-4ad6-d999-9e8e7c42517f",
        "execution": {
          "iopub.status.busy": "2022-09-06T05:25:47.820402Z",
          "iopub.execute_input": "2022-09-06T05:25:47.821352Z",
          "iopub.status.idle": "2022-09-06T05:25:47.852640Z",
          "shell.execute_reply.started": "2022-09-06T05:25:47.821316Z",
          "shell.execute_reply": "2022-09-06T05:25:47.851607Z"
        },
        "trusted": true,
        "colab": {
          "base_uri": "https://localhost:8080/"
        }
      },
      "execution_count": null,
      "outputs": [
        {
          "output_type": "execute_result",
          "data": {
            "text/plain": [
              "single-family home                                             91159\n",
              "Single Family                                                  61888\n",
              "Single Family Home                                             31725\n",
              "condo                                                          25878\n",
              "lot/land                                                       20532\n",
              "                                                               ...  \n",
              "1 Story, Contemporary, Other (See Remarks)                         1\n",
              "Custom, Elevated, Other                                            1\n",
              "Contemporary, Farmhouse                                            1\n",
              "2 Stories, Traditional, Mediterranean, Texas Hill Country          1\n",
              "Bilevel, Converted Dwelling, Loft with Bedrooms, Condo/Unit        1\n",
              "Name: propertyType, Length: 1279, dtype: int64"
            ]
          },
          "metadata": {},
          "execution_count": 26
        }
      ]
    },
    {
      "cell_type": "code",
      "source": [
        "data['propertyType'].unique() #обзор уникальных значений"
      ],
      "metadata": {
        "id": "yq1zRZwIEoNx",
        "outputId": "c6ef1df3-b0b5-444f-9fb2-ff5b59cd3cbc",
        "execution": {
          "iopub.status.busy": "2022-09-06T05:25:47.853965Z",
          "iopub.execute_input": "2022-09-06T05:25:47.854217Z",
          "iopub.status.idle": "2022-09-06T05:25:47.881555Z",
          "shell.execute_reply.started": "2022-09-06T05:25:47.854193Z",
          "shell.execute_reply": "2022-09-06T05:25:47.880467Z"
        },
        "trusted": true,
        "colab": {
          "base_uri": "https://localhost:8080/"
        }
      },
      "execution_count": null,
      "outputs": [
        {
          "output_type": "execute_result",
          "data": {
            "text/plain": [
              "array(['Single Family Home', 'single-family home', 'lot/land', ...,\n",
              "       'Cabin/Lodge, Contemporary, Converted Barn, Cottage, Loft with Bedrooms, Log Home, Post & Beam',\n",
              "       'Lake House, Single Detached, Tudor',\n",
              "       'Bilevel, Converted Dwelling, Loft with Bedrooms, Condo/Unit'],\n",
              "      dtype=object)"
            ]
          },
          "metadata": {},
          "execution_count": 27
        }
      ]
    },
    {
      "cell_type": "code",
      "source": [
        "data['propertyType'] = data['propertyType'].astype(str) #преобразование значений в строках\n",
        "data['propertyType'] = data['propertyType'].apply(lambda x: x.split(' ')[0].lower().replace(',', ''))"
      ],
      "metadata": {
        "id": "ej1ZXGahE6rC",
        "execution": {
          "iopub.status.busy": "2022-09-06T05:25:47.882991Z",
          "iopub.execute_input": "2022-09-06T05:25:47.883351Z",
          "iopub.status.idle": "2022-09-06T05:25:48.108193Z",
          "shell.execute_reply.started": "2022-09-06T05:25:47.883325Z",
          "shell.execute_reply": "2022-09-06T05:25:48.107098Z"
        },
        "trusted": true
      },
      "execution_count": null,
      "outputs": []
    },
    {
      "cell_type": "code",
      "source": [
        "data['propertyType'].unique()\n",
        "#требуется более точечная ифна с этим сериес,чем просто обрезка данных, тут и данные о стиле интерьера, и данные о колве комнат"
      ],
      "metadata": {
        "id": "LSPRUbdBFKB1",
        "outputId": "aa043436-7460-46e4-93e4-3908005bcfc8",
        "execution": {
          "iopub.status.busy": "2022-09-06T05:25:48.109725Z",
          "iopub.execute_input": "2022-09-06T05:25:48.110067Z",
          "iopub.status.idle": "2022-09-06T05:25:48.148960Z",
          "shell.execute_reply.started": "2022-09-06T05:25:48.110039Z",
          "shell.execute_reply": "2022-09-06T05:25:48.148252Z"
        },
        "trusted": true,
        "colab": {
          "base_uri": "https://localhost:8080/"
        }
      },
      "execution_count": null,
      "outputs": [
        {
          "output_type": "execute_result",
          "data": {
            "text/plain": [
              "array(['single', 'single-family', 'lot/land', 'townhouse', 'florida',\n",
              "       'nan', 'coop', 'english', '2', 'multi-family', 'penthouse',\n",
              "       'condo', 'land', 'condo/townhome/row', '', 'detached', '1',\n",
              "       'other', 'colonial', 'transitional', 'high', 'mobile/manufactured',\n",
              "       'tri-level', 'craftsman', 'federal', 'multi', 'traditional',\n",
              "       'custom', 'cooperative', 'contemporary/modern', 'cape', 'mobile',\n",
              "       'miscellaneous', 'mfd/mobile', 'bungalow', 'spanish/mediterranean',\n",
              "       'contemporary', 'multi-level', 'condo/unit', 'ranch', 'low-rise',\n",
              "       'rancher', 'urban', 'two', 'garden', 'farms/ranches', 'a-frame',\n",
              "       'attached', 'one', 'georgian', 'dwelling', 'victorian',\n",
              "       'apartment', 'cluster', 'manufactured', 'condominium',\n",
              "       'condo/townhome', 'hi', 'mediterranean', 'cabin', 'bermuda',\n",
              "       'split', 'farm', 'split-level', 'singlefamilyresidence', 'log',\n",
              "       'bilevel', 'mountain', 'commercial/industrial', 'cottage',\n",
              "       'high-rise', 'mid-rise', 'tudor/provincial', 'straight',\n",
              "       'houseboat', 'mid-century', 'french', 'garden/zero', 'charleston',\n",
              "       '4+', 'farm/ranch', 'split-entry', 'co-op', 'residential',\n",
              "       'unknown', '3', 'courtyard', 'resort', 'elevated', 'multiple',\n",
              "       'tudor', 'designated', '3+', 'quad', 'arts', 'multiplex',\n",
              "       'fourplex', 'spanish', 'historical/conservation', 'camp', 'santa',\n",
              "       'duplex', 'european', 'key', 'bi-level', 'art', 'coach/carriage',\n",
              "       'loft/balcony', 'farmhouse', 'less', 'carriage', '5-9', 'texas',\n",
              "       'lake', 'hi-rise', 'dutch', 'loft', 'raised', 'country',\n",
              "       'territorial/santa', 'modernist', 'stilt', 'coastal', 'end',\n",
              "       'historical', 'cabin/lodge', 'beaux', 'farmhouse/national',\n",
              "       'trinity', '4-plex', 'conventional', 'old', 'historic/older',\n",
              "       'store', 'side-by-side', 'triplex', 'tuscan', 'chalet', '10+',\n",
              "       'gambrel', 'modern', 'step', 'rustic', 'patio', 'studio',\n",
              "       '2-story', 'townhome', 'yes', 'new', 'back-to-back', 'airlite',\n",
              "       'architectural', 'low', 'flat', 'american', 'denver', 'antique',\n",
              "       '30x40', 'post', 'manuf/mobile', 'guest', 'southern', '2.5',\n",
              "       'historic', 'double-wide', 'modular/prefab', 'hill', 'mid',\n",
              "       'expanded', 'townhouse-interior', 'mid-level', 'garage',\n",
              "       'single-wide', 'villa', 'manor', 'victorian/federal', 'forest',\n",
              "       'walk-out', 'townhouse-end', 'queen', 'ground', 'conversion',\n",
              "       'fairway', 'moorage', 'warehouse', 'prairie', 'cottage/camp'],\n",
              "      dtype=object)"
            ]
          },
          "metadata": {},
          "execution_count": 29
        }
      ]
    },
    {
      "cell_type": "code",
      "source": [
        "def transform_status(\n",
        "    value: str\n",
        "):  \n",
        "    if isinstance(value, str):\n",
        "        if  value in ['nan', '']:\n",
        "            return 'not known'\n",
        "        if  value in ['1']:\n",
        "            return 'one'\n",
        "        if  value in ['2', '2.5', '2-story']:\n",
        "            return 'two'\n",
        "        if  value in ['3']:\n",
        "            return 'back on market'\n",
        "        if  value in ['coming', 'c']:\n",
        "            return 'coming soon'\n",
        "        if value in ['p', 'pi', 'ps']:\n",
        "            return 'pending'\n",
        "        if value in ['u', 'uc']:\n",
        "            return 'under'\n",
        "        if value in ['re']:\n",
        "            return 'reactivated'\n",
        "        if value in ['ct']:\n",
        "            return 'contract'\n",
        "        if value in ['pre-foreclosure', 'foreclosure', 'foreclosed']:\n",
        "            return 'foreclosure'\n",
        "        if value in ['accepting', 'accepted']:\n",
        "            return 'accepted'\n",
        "        if value in ['contingency', 'conting']:\n",
        "            return 'contingency'\n",
        "        if value in ['condo', 'conditional']:\n",
        "            return 'conditional'\n",
        "\n",
        "    return value\n",
        "data.status=data.status.apply(transform_status) #функция для снижения вариативности представленных значений, так как некоторые повторяются"
      ],
      "metadata": {
        "id": "mDZWjH2uLFSc",
        "execution": {
          "iopub.status.busy": "2022-09-06T05:25:48.150270Z",
          "iopub.execute_input": "2022-09-06T05:25:48.150852Z",
          "iopub.status.idle": "2022-09-06T05:25:48.438851Z",
          "shell.execute_reply.started": "2022-09-06T05:25:48.150821Z",
          "shell.execute_reply": "2022-09-06T05:25:48.437785Z"
        },
        "trusted": true
      },
      "execution_count": null,
      "outputs": []
    },
    {
      "cell_type": "markdown",
      "source": [
        "### street"
      ],
      "metadata": {
        "id": "tKw7eaBBB5Yj"
      }
    },
    {
      "cell_type": "code",
      "source": [
        "data.street.value_counts() #обзор значений в столбце"
      ],
      "metadata": {
        "id": "J4ujChz977X2",
        "outputId": "c174fc03-0c2b-4c96-f8b3-58e4724a0235",
        "execution": {
          "iopub.status.busy": "2022-09-06T05:25:48.742538Z",
          "iopub.execute_input": "2022-09-06T05:25:48.743089Z",
          "iopub.status.idle": "2022-09-06T05:25:49.004344Z",
          "shell.execute_reply.started": "2022-09-06T05:25:48.743060Z",
          "shell.execute_reply": "2022-09-06T05:25:49.003044Z"
        },
        "trusted": true,
        "colab": {
          "base_uri": "https://localhost:8080/"
        }
      },
      "execution_count": null,
      "outputs": [
        {
          "output_type": "execute_result",
          "data": {
            "text/plain": [
              "Address Not Disclosed               672\n",
              "Undisclosed Address                 516\n",
              "(undisclosed Address)               391\n",
              "Address Not Available               175\n",
              "Unknown Address                      72\n",
              "                                   ... \n",
              "Lynmar Plan in Rough Hollow           1\n",
              "MLS #: CORC5922640                    1\n",
              "7784 Rosedale St                      1\n",
              "Buildable plan: Residence 2 Plan      1\n",
              "5983 Midcrown Dr                      1\n",
              "Name: street, Length: 334447, dtype: int64"
            ]
          },
          "metadata": {},
          "execution_count": 31
        }
      ]
    },
    {
      "cell_type": "code",
      "source": [
        "data['street']=data['street'].fillna(value='not known') #заполнение отсутствующих значений"
      ],
      "metadata": {
        "id": "L5H3j4TWkbaT",
        "execution": {
          "iopub.status.busy": "2022-09-06T05:25:49.005845Z",
          "iopub.execute_input": "2022-09-06T05:25:49.006239Z",
          "iopub.status.idle": "2022-09-06T05:25:49.050021Z",
          "shell.execute_reply.started": "2022-09-06T05:25:49.006200Z",
          "shell.execute_reply": "2022-09-06T05:25:49.049142Z"
        },
        "trusted": true
      },
      "execution_count": null,
      "outputs": []
    },
    {
      "cell_type": "markdown",
      "source": [
        "### baths"
      ],
      "metadata": {
        "id": "mLkd3HZfB-pH"
      }
    },
    {
      "cell_type": "code",
      "source": [
        "data.baths.value_counts() #обзор значений в столбце"
      ],
      "metadata": {
        "id": "-C9iNGNy77l4",
        "outputId": "2913d0d8-04f6-484f-8038-823b9a7b60e7",
        "execution": {
          "iopub.status.busy": "2022-09-06T05:25:49.051372Z",
          "iopub.execute_input": "2022-09-06T05:25:49.051854Z",
          "iopub.status.idle": "2022-09-06T05:25:49.080881Z",
          "shell.execute_reply.started": "2022-09-06T05:25:49.051812Z",
          "shell.execute_reply": "2022-09-06T05:25:49.079765Z"
        },
        "trusted": true,
        "colab": {
          "base_uri": "https://localhost:8080/"
        }
      },
      "execution_count": null,
      "outputs": [
        {
          "output_type": "execute_result",
          "data": {
            "text/plain": [
              "2 Baths          51953\n",
              "3 Baths          35356\n",
              "2                20429\n",
              "2.0              16355\n",
              "4 Baths          14712\n",
              "                 ...  \n",
              "32                   1\n",
              "5.25 Baths           1\n",
              "41.0                 1\n",
              "Bathrooms: 21        1\n",
              "44.0                 1\n",
              "Name: baths, Length: 225, dtype: int64"
            ]
          },
          "metadata": {},
          "execution_count": 33
        }
      ]
    },
    {
      "cell_type": "code",
      "source": [
        "data['baths']=pd.to_numeric(data['baths'],  errors='coerce') #приведение к числовому типу"
      ],
      "metadata": {
        "id": "n-9o3J7pZl4r",
        "execution": {
          "iopub.status.busy": "2022-09-06T05:25:49.082474Z",
          "iopub.execute_input": "2022-09-06T05:25:49.082852Z",
          "iopub.status.idle": "2022-09-06T05:25:49.312969Z",
          "shell.execute_reply.started": "2022-09-06T05:25:49.082823Z",
          "shell.execute_reply": "2022-09-06T05:25:49.312122Z"
        },
        "trusted": true
      },
      "execution_count": null,
      "outputs": []
    },
    {
      "cell_type": "code",
      "source": [
        "data['baths']=data['baths'].fillna(value=data['baths'].mean()) #заполнение отсутствующих значений"
      ],
      "metadata": {
        "id": "ht6YM8EBcD1R",
        "execution": {
          "iopub.status.busy": "2022-09-06T05:25:49.358450Z",
          "iopub.execute_input": "2022-09-06T05:25:49.358782Z",
          "iopub.status.idle": "2022-09-06T05:25:49.369215Z",
          "shell.execute_reply.started": "2022-09-06T05:25:49.358744Z",
          "shell.execute_reply": "2022-09-06T05:25:49.368364Z"
        },
        "trusted": true
      },
      "execution_count": null,
      "outputs": []
    },
    {
      "cell_type": "code",
      "source": [
        "data['baths']=data['baths'].astype(float).apply(lambda x:round(x, 1)) #приведение к типу float"
      ],
      "metadata": {
        "id": "a8yVYzTIdG5_",
        "execution": {
          "iopub.status.busy": "2022-09-06T05:25:49.383265Z",
          "iopub.execute_input": "2022-09-06T05:25:49.383500Z",
          "iopub.status.idle": "2022-09-06T05:25:49.660711Z",
          "shell.execute_reply.started": "2022-09-06T05:25:49.383478Z",
          "shell.execute_reply": "2022-09-06T05:25:49.659765Z"
        },
        "trusted": true
      },
      "execution_count": null,
      "outputs": []
    },
    {
      "cell_type": "code",
      "source": [
        "data['baths'].unique() #обзор уникальных значений в столбце"
      ],
      "metadata": {
        "id": "LDl7NFfZdW6U",
        "outputId": "cc938336-b725-48fb-9466-14e77f8bc999",
        "execution": {
          "iopub.status.busy": "2022-09-06T05:25:49.662035Z",
          "iopub.execute_input": "2022-09-06T05:25:49.662333Z",
          "iopub.status.idle": "2022-09-06T05:25:49.672540Z",
          "shell.execute_reply.started": "2022-09-06T05:25:49.662305Z",
          "shell.execute_reply": "2022-09-06T05:25:49.671378Z"
        },
        "trusted": true,
        "colab": {
          "base_uri": "https://localhost:8080/"
        }
      },
      "execution_count": null,
      "outputs": [
        {
          "output_type": "execute_result",
          "data": {
            "text/plain": [
              "array([  3.5,   4.2,   2. ,   3. ,   4. ,   1. ,   4.5,   5. ,   1.5,\n",
              "         2.5,   8. ,   0. ,   7. ,   6. ,   5.5, 750. ,  10. ,  18. ,\n",
              "         9. ,  12. ,   6.5,  14. ,  17. ,  16. ,   7.5,  11. ,  22. ,\n",
              "        13. ,  32. ,  26. ,   9.5,   8.5,  35. ,  40. ,  29. ,  15. ,\n",
              "        21. ,  20. ,  55. ,  41. ,  10.5,  27. ,  12.5,  24. ,  23. ,\n",
              "        34. ,  64. ,  30. ,  44. ])"
            ]
          },
          "metadata": {},
          "execution_count": 37
        }
      ]
    },
    {
      "cell_type": "markdown",
      "source": [
        "### homeFacts"
      ],
      "metadata": {
        "id": "kuZ2rmtiCBRK"
      }
    },
    {
      "cell_type": "code",
      "source": [
        "data.homeFacts.value_counts() #обзор значений в столбце"
      ],
      "metadata": {
        "id": "_gCQu0ZC77xS",
        "outputId": "eb622155-1054-4135-af8c-3ac2dc557ab2",
        "execution": {
          "iopub.status.busy": "2022-09-06T05:25:49.673710Z",
          "iopub.execute_input": "2022-09-06T05:25:49.674536Z",
          "iopub.status.idle": "2022-09-06T05:25:50.085622Z",
          "shell.execute_reply.started": "2022-09-06T05:25:49.674509Z",
          "shell.execute_reply": "2022-09-06T05:25:50.084653Z"
        },
        "trusted": true,
        "colab": {
          "base_uri": "https://localhost:8080/"
        }
      },
      "execution_count": null,
      "outputs": [
        {
          "output_type": "execute_result",
          "data": {
            "text/plain": [
              "{'atAGlanceFacts': [{'factValue': '', 'factLabel': 'Year built'}, {'factValue': '', 'factLabel': 'Remodeled year'}, {'factValue': '', 'factLabel': 'Heating'}, {'factValue': '', 'factLabel': 'Cooling'}, {'factValue': '', 'factLabel': 'Parking'}, {'factValue': '—', 'factLabel': 'lotsize'}, {'factValue': None, 'factLabel': 'Price/sqft'}]}                                                     7142\n",
              "{'atAGlanceFacts': [{'factValue': None, 'factLabel': 'Year built'}, {'factValue': None, 'factLabel': 'Remodeled year'}, {'factValue': None, 'factLabel': 'Heating'}, {'factValue': None, 'factLabel': 'Cooling'}, {'factValue': None, 'factLabel': 'Parking'}, {'factValue': None, 'factLabel': 'lotsize'}, {'factValue': None, 'factLabel': 'Price/sqft'}]}                                          3484\n",
              "{'atAGlanceFacts': [{'factValue': '', 'factLabel': 'Year built'}, {'factValue': '', 'factLabel': 'Remodeled year'}, {'factValue': '', 'factLabel': 'Heating'}, {'factValue': '', 'factLabel': 'Cooling'}, {'factValue': '', 'factLabel': 'Parking'}, {'factValue': '10000', 'factLabel': 'lotsize'}, {'factValue': None, 'factLabel': 'Price/sqft'}]}                                                  533\n",
              "{'atAGlanceFacts': [{'factValue': '', 'factLabel': 'Year built'}, {'factValue': '', 'factLabel': 'Remodeled year'}, {'factValue': '', 'factLabel': 'Heating'}, {'factValue': '', 'factLabel': 'Cooling'}, {'factValue': '', 'factLabel': 'Parking'}, {'factValue': '', 'factLabel': 'lotsize'}, {'factValue': None, 'factLabel': 'Price/sqft'}]}                                                       529\n",
              "{'atAGlanceFacts': [{'factValue': '', 'factLabel': 'Year built'}, {'factValue': '', 'factLabel': 'Remodeled year'}, {'factValue': '', 'factLabel': 'Heating'}, {'factValue': '', 'factLabel': 'Cooling'}, {'factValue': '', 'factLabel': 'Parking'}, {'factValue': '10,000 Sq. Ft.', 'factLabel': 'lotsize'}, {'factValue': None, 'factLabel': 'Price/sqft'}]}                                         370\n",
              "                                                                                                                                                                                                                                                                                                                                                                                                      ... \n",
              "{'atAGlanceFacts': [{'factValue': 'No Data', 'factLabel': 'Year built'}, {'factValue': None, 'factLabel': 'Remodeled year'}, {'factValue': 'Forced air', 'factLabel': 'Heating'}, {'factValue': 'Central', 'factLabel': 'Cooling'}, {'factValue': '1 space', 'factLabel': 'Parking'}, {'factValue': None, 'factLabel': 'lotsize'}, {'factValue': '$164', 'factLabel': 'Price/sqft'}]}                    1\n",
              "{'atAGlanceFacts': [{'factValue': '1975', 'factLabel': 'Year built'}, {'factValue': '1975', 'factLabel': 'Remodeled year'}, {'factValue': 'Central', 'factLabel': 'Heating'}, {'factValue': 'Electric', 'factLabel': 'Cooling'}, {'factValue': '', 'factLabel': 'Parking'}, {'factValue': '—', 'factLabel': 'lotsize'}, {'factValue': '$181 / Sq. Ft.', 'factLabel': 'Price/sqft'}]}                     1\n",
              "{'atAGlanceFacts': [{'factValue': '2019', 'factLabel': 'Year built'}, {'factValue': '', 'factLabel': 'Remodeled year'}, {'factValue': '', 'factLabel': 'Heating'}, {'factValue': 'Central A/C (Electric), Heat Pump', 'factLabel': 'Cooling'}, {'factValue': '', 'factLabel': 'Parking'}, {'factValue': '—', 'factLabel': 'lotsize'}, {'factValue': '$269 / Sq. Ft.', 'factLabel': 'Price/sqft'}]}       1\n",
              "{'atAGlanceFacts': [{'factValue': '2010', 'factLabel': 'Year built'}, {'factValue': '2010', 'factLabel': 'Remodeled year'}, {'factValue': 'Forced Air', 'factLabel': 'Heating'}, {'factValue': 'Central', 'factLabel': 'Cooling'}, {'factValue': '2', 'factLabel': 'Parking'}, {'factValue': '9.17 acres', 'factLabel': 'lotsize'}, {'factValue': '$1,008/sqft', 'factLabel': 'Price/sqft'}]}            1\n",
              "{'atAGlanceFacts': [{'factValue': '2019', 'factLabel': 'Year built'}, {'factValue': None, 'factLabel': 'Remodeled year'}, {'factValue': 'Electric', 'factLabel': 'Heating'}, {'factValue': 'Central', 'factLabel': 'Cooling'}, {'factValue': 'No Data', 'factLabel': 'Parking'}, {'factValue': '6,969 sqft', 'factLabel': 'lotsize'}, {'factValue': '$140', 'factLabel': 'Price/sqft'}]}                 1\n",
              "Name: homeFacts, Length: 318615, dtype: int64"
            ]
          },
          "metadata": {},
          "execution_count": 38
        }
      ]
    },
    {
      "cell_type": "code",
      "source": [
        "#homefacts=pd.DataFrame.from_dict(data['homeFacts'])"
      ],
      "metadata": {
        "id": "mG0VpaPW8J7E"
      },
      "execution_count": null,
      "outputs": []
    },
    {
      "cell_type": "code",
      "source": [
        "#homefacts.head()"
      ],
      "metadata": {
        "id": "NdEzBH1VAgGv"
      },
      "execution_count": null,
      "outputs": []
    },
    {
      "cell_type": "code",
      "source": [
        "#homefacts.homeFacts = homefacts.homeFacts.astype(str)\n",
        "#homefacts.homeFacts=homefacts.homeFacts.apply(lambda x: x.split(' {'))"
      ],
      "metadata": {
        "id": "PZIQqV7LA5ZA"
      },
      "execution_count": null,
      "outputs": []
    },
    {
      "cell_type": "code",
      "source": [
        "#homefacts.head()"
      ],
      "metadata": {
        "id": "o2TL2HV-B801"
      },
      "execution_count": null,
      "outputs": []
    },
    {
      "cell_type": "code",
      "source": [
        "#homefacts.homeFacts[0]"
      ],
      "metadata": {
        "id": "LqZTGf_TFq3Z"
      },
      "execution_count": null,
      "outputs": []
    },
    {
      "cell_type": "code",
      "source": [
        "#homefacts.homeFacts[0][1]"
      ],
      "metadata": {
        "id": "cW6ZAYLkGi5Z"
      },
      "execution_count": null,
      "outputs": []
    },
    {
      "cell_type": "markdown",
      "source": [
        "### fireplace"
      ],
      "metadata": {
        "id": "Bn9FNoWICMaX"
      }
    },
    {
      "cell_type": "code",
      "source": [
        "data['fireplace'].value_counts() #обзор значений в столбце"
      ],
      "metadata": {
        "id": "tU7zu0v5779U",
        "execution": {
          "iopub.status.busy": "2022-09-06T05:25:50.086956Z",
          "iopub.execute_input": "2022-09-06T05:25:50.087799Z",
          "iopub.status.idle": "2022-09-06T05:25:50.108353Z",
          "shell.execute_reply.started": "2022-09-06T05:25:50.087762Z",
          "shell.execute_reply": "2022-09-06T05:25:50.107489Z"
        },
        "trusted": true,
        "colab": {
          "base_uri": "https://localhost:8080/"
        },
        "outputId": "892b2702-da72-4d73-cf45-f00ad4d4aa46"
      },
      "execution_count": null,
      "outputs": [
        {
          "output_type": "execute_result",
          "data": {
            "text/plain": [
              "yes                                                                     49925\n",
              "Yes                                                                     20619\n",
              "1                                                                       14533\n",
              "2                                                                        2432\n",
              "Not Applicable                                                           1990\n",
              "                                                                        ...  \n",
              "Gas, Wood Burning, Two, Propane Logs Convey                                 1\n",
              "Free-standing, Insert, Wood                                                 1\n",
              "Wood Burning, Attached Fireplace Doors/Screen, Electric, Gas Starter        1\n",
              "One, Living Room                                                            1\n",
              "Ceiling Fan, SMAPL, Utility Connection, Walk-In Closets                     1\n",
              "Name: fireplace, Length: 1652, dtype: int64"
            ]
          },
          "metadata": {},
          "execution_count": 45
        }
      ]
    },
    {
      "cell_type": "code",
      "source": [
        "def transform_fireplace(\n",
        "    value: str\n",
        "):  \n",
        "    if isinstance(value, str):\n",
        "        if  value in value:\n",
        "          return 'yes'\n",
        "data['fireplace']=data['fireplace'].apply(transform_fireplace) #преобразование данных в столбце"
      ],
      "metadata": {
        "id": "amg-qDQAboYc",
        "execution": {
          "iopub.status.busy": "2022-09-06T05:25:50.109344Z",
          "iopub.execute_input": "2022-09-06T05:25:50.109583Z",
          "iopub.status.idle": "2022-09-06T05:25:50.214391Z",
          "shell.execute_reply.started": "2022-09-06T05:25:50.109560Z",
          "shell.execute_reply": "2022-09-06T05:25:50.213632Z"
        },
        "trusted": true
      },
      "execution_count": null,
      "outputs": []
    },
    {
      "cell_type": "code",
      "source": [
        "data['fireplace']=data['fireplace'].fillna(value='not') #заполнение отсутствующих значений"
      ],
      "metadata": {
        "id": "vjjpAj0EiCOi",
        "execution": {
          "iopub.status.busy": "2022-09-06T05:25:50.234431Z",
          "iopub.execute_input": "2022-09-06T05:25:50.234682Z",
          "iopub.status.idle": "2022-09-06T05:25:50.262091Z",
          "shell.execute_reply.started": "2022-09-06T05:25:50.234659Z",
          "shell.execute_reply": "2022-09-06T05:25:50.261206Z"
        },
        "trusted": true
      },
      "execution_count": null,
      "outputs": []
    },
    {
      "cell_type": "code",
      "source": [
        "data['fireplace'].value_counts() #обзор значений в столбце"
      ],
      "metadata": {
        "id": "7wwVXsO3lMf7",
        "execution": {
          "iopub.status.busy": "2022-09-06T05:25:50.263159Z",
          "iopub.execute_input": "2022-09-06T05:25:50.263568Z",
          "iopub.status.idle": "2022-09-06T05:25:50.283389Z",
          "shell.execute_reply.started": "2022-09-06T05:25:50.263535Z",
          "shell.execute_reply": "2022-09-06T05:25:50.282688Z"
        },
        "trusted": true,
        "colab": {
          "base_uri": "https://localhost:8080/"
        },
        "outputId": "10050cab-9832-4b91-dfea-266f35b9aca7"
      },
      "execution_count": null,
      "outputs": [
        {
          "output_type": "execute_result",
          "data": {
            "text/plain": [
              "not    271878\n",
              "yes    102428\n",
              "Name: fireplace, dtype: int64"
            ]
          },
          "metadata": {},
          "execution_count": 48
        }
      ]
    },
    {
      "cell_type": "markdown",
      "source": [
        "### city"
      ],
      "metadata": {
        "id": "Sh0daj9ICPlx"
      }
    },
    {
      "cell_type": "code",
      "source": [
        "data['city'].value_counts() #обзор значений в столбце"
      ],
      "metadata": {
        "id": "0Ku0RbqB78IU",
        "execution": {
          "iopub.status.busy": "2022-09-06T05:25:50.284868Z",
          "iopub.execute_input": "2022-09-06T05:25:50.285540Z",
          "iopub.status.idle": "2022-09-06T05:25:50.320807Z",
          "shell.execute_reply.started": "2022-09-06T05:25:50.285512Z",
          "shell.execute_reply": "2022-09-06T05:25:50.319799Z"
        },
        "trusted": true,
        "colab": {
          "base_uri": "https://localhost:8080/"
        },
        "outputId": "864c942f-bcce-4572-f254-21d9ebdc3778"
      },
      "execution_count": null,
      "outputs": [
        {
          "output_type": "execute_result",
          "data": {
            "text/plain": [
              "Houston            24388\n",
              "San Antonio        15496\n",
              "Miami              15385\n",
              "Jacksonville        9890\n",
              "Dallas              8750\n",
              "                   ...  \n",
              "Los Altos Hills        1\n",
              "Lake worth             1\n",
              "Lisle                  1\n",
              "Arrington              1\n",
              "Blue Springs           1\n",
              "Name: city, Length: 2019, dtype: int64"
            ]
          },
          "metadata": {},
          "execution_count": 49
        }
      ]
    },
    {
      "cell_type": "code",
      "source": [
        "data['city']=data['city'].fillna(value='Houston')#заполнение отсутствующих значений наиболее часто встречаемым значением"
      ],
      "metadata": {
        "id": "DeDGa1c4j_sR",
        "execution": {
          "iopub.status.busy": "2022-09-06T05:25:50.343858Z",
          "iopub.execute_input": "2022-09-06T05:25:50.344312Z",
          "iopub.status.idle": "2022-09-06T05:25:50.372404Z",
          "shell.execute_reply.started": "2022-09-06T05:25:50.344278Z",
          "shell.execute_reply": "2022-09-06T05:25:50.371389Z"
        },
        "trusted": true
      },
      "execution_count": null,
      "outputs": []
    },
    {
      "cell_type": "markdown",
      "source": [
        "### schools"
      ],
      "metadata": {
        "id": "eUr_ZNrjCR0P"
      }
    },
    {
      "cell_type": "code",
      "source": [
        "data.schools.value_counts() #обзор значений в столбце"
      ],
      "metadata": {
        "id": "jpClOAuN78Xx",
        "outputId": "7a7b5a74-2d40-4d77-fcae-3a872b63f5cf",
        "execution": {
          "iopub.status.busy": "2022-09-06T05:25:50.373604Z",
          "iopub.execute_input": "2022-09-06T05:25:50.374086Z",
          "iopub.status.idle": "2022-09-06T05:25:50.776238Z",
          "shell.execute_reply.started": "2022-09-06T05:25:50.374059Z",
          "shell.execute_reply": "2022-09-06T05:25:50.775140Z"
        },
        "trusted": true,
        "colab": {
          "base_uri": "https://localhost:8080/"
        }
      },
      "execution_count": null,
      "outputs": [
        {
          "output_type": "execute_result",
          "data": {
            "text/plain": [
              "[{'rating': [], 'data': {'Distance': [], 'Grades': []}, 'name': []}]                                                                                                                                                                                                                                                                                       4169\n",
              "[{'rating': ['4/10', '5/10', '6/10'], 'data': {'Distance': ['39.69mi', '39.69mi', '39.69mi'], 'Grades': ['9-12', '6-8', 'PK-5']}, 'name': ['Fort Hancock High School', 'Fort Hancock Middle School', 'Benito Martinez Elementary School']}]                                                                                                                 222\n",
              "[{'rating': ['4/10', '6/10', '3/10'], 'data': {'Distance': ['3.62mi', '3.62mi', '3.62mi'], 'Grades': ['6-8', 'PK-5', '9-12']}, 'name': ['Horizon Middle School', 'Desert Hills Elementary School', 'Horizon High School']}]                                                                                                                                 168\n",
              "[{'rating': ['5/10', '3/10', '5/10'], 'data': {'Distance': ['9.71mi', '8.92mi', '1.56mi'], 'Grades': ['5-8', '9-12', 'K-4']}, 'name': ['Cheatham Middle School', 'Cheatham Co Central', 'West Cheatham Elementary School']}]                                                                                                                                133\n",
              "[{'rating': ['10/10', '2/10'], 'data': {'Distance': ['22.4 mi', '1.5 mi'], 'Grades': ['PK-8', '9-12']}, 'name': ['Air Base Elementary School', 'Booker T. Washington Senior High School']}]                                                                                                                                                                  90\n",
              "                                                                                                                                                                                                                                                                                                                                                           ... \n",
              "[{'rating': ['5', '3', '5', '5', '4'], 'data': {'Distance': ['4.6 mi', '0.7 mi', '1.0 mi', '1.4 mi', '1.2 mi'], 'Grades': ['Preschool to 8', 'Preschool to 8', 'Preschool to 8', 'Preschool to 8', '9 to 12']}, 'name': ['Luke School', 'El Mirage School', 'Surprise Elementary School', 'Dysart Elementary School', 'Dysart High School']}]                 1\n",
              "[{'rating': ['10', '7', '5'], 'data': {'Distance': ['0.7 mi', '1.0 mi', '2.2 mi'], 'Grades': ['Preschool to 5', '6 to 8', '9 to 12']}, 'name': ['West University Elementary School', 'Pershing Middle School', 'Lamar High School']}]                                                                                                                         1\n",
              "[{'rating': ['None/10', '2/10', '3/10'], 'data': {'Distance': ['1.01mi', '0.92mi', '0.39mi'], 'Grades': ['6-8', '9-12', 'PK-5']}, 'name': ['K O Knudson Junior High School', 'Valley High School', 'Will Beckley Elementary School']}]                                                                                                                        1\n",
              "[{'rating': ['9', '7', '3', '7', '7'], 'data': {'Distance': ['2.0 mi', '6.5 mi', '2.6 mi', '2.6 mi', '6.5 mi'], 'Grades': ['Preschool to 8', 'K to 8', '6 to 8', '9 to 12', '9 to 12']}, 'name': ['Windy Ridge K-8', 'Cornerstone Academy Charter', 'Chain of Lakes Middle School', 'Olympia High School', 'Cornerstone Charter Academy High School']}]       1\n",
              "[{'rating': ['NA', 'NA', 'NA'], 'data': {'Distance': ['1.3 mi', '0.5 mi', '1.9 mi'], 'Grades': ['PK-5', '6-8', '9-12']}, 'name': ['Hiliard El', 'Forest Brook Middle', 'North Forest High School']}]                                                                                                                                                          1\n",
              "Name: schools, Length: 295066, dtype: int64"
            ]
          },
          "metadata": {},
          "execution_count": 51
        }
      ]
    },
    {
      "cell_type": "markdown",
      "source": [
        "### sqft"
      ],
      "metadata": {
        "id": "RH3he3K8CU0b"
      }
    },
    {
      "cell_type": "code",
      "source": [
        "data['sqft'].value_counts() #обзор значений в столбце"
      ],
      "metadata": {
        "id": "2Ih0TsWu78ig",
        "execution": {
          "iopub.status.busy": "2022-09-06T05:25:50.777890Z",
          "iopub.execute_input": "2022-09-06T05:25:50.778284Z",
          "iopub.status.idle": "2022-09-06T05:25:50.840899Z",
          "shell.execute_reply.started": "2022-09-06T05:25:50.778254Z",
          "shell.execute_reply": "2022-09-06T05:25:50.839808Z"
        },
        "trusted": true,
        "colab": {
          "base_uri": "https://localhost:8080/"
        },
        "outputId": "6c49aabd-af3a-4df9-9536-b26e03f34e0d"
      },
      "execution_count": null,
      "outputs": [
        {
          "output_type": "execute_result",
          "data": {
            "text/plain": [
              "0                                          11853\n",
              "1,200 sqft                                   824\n",
              "1,000 sqft                                   643\n",
              "1,100 sqft                                   566\n",
              "1,800 sqft                                   558\n",
              "                                           ...  \n",
              "101,415 sqft                                   1\n",
              "3938                                           1\n",
              "Total interior livable area: 4,580 sqft        1\n",
              "32,552 sqft                                    1\n",
              "Total interior livable area: 4,615 sqft        1\n",
              "Name: sqft, Length: 25369, dtype: int64"
            ]
          },
          "metadata": {},
          "execution_count": 52
        }
      ]
    },
    {
      "cell_type": "code",
      "source": [
        "data['sqft'].unique() #обзор уникальных значений"
      ],
      "metadata": {
        "id": "k2VCpl6kkP9p",
        "execution": {
          "iopub.status.busy": "2022-09-06T05:25:50.843042Z",
          "iopub.execute_input": "2022-09-06T05:25:50.843367Z",
          "iopub.status.idle": "2022-09-06T05:25:50.892606Z",
          "shell.execute_reply.started": "2022-09-06T05:25:50.843337Z",
          "shell.execute_reply": "2022-09-06T05:25:50.891691Z"
        },
        "trusted": true,
        "colab": {
          "base_uri": "https://localhost:8080/"
        },
        "outputId": "792be8e7-0647-4fab-f419-42b7438436d4"
      },
      "execution_count": null,
      "outputs": [
        {
          "output_type": "execute_result",
          "data": {
            "text/plain": [
              "array(['2900', '1,947 sqft', '3,000 sqft', ..., '4371', '13,870 sqft',\n",
              "       'Total interior livable area: 4,615 sqft'], dtype=object)"
            ]
          },
          "metadata": {},
          "execution_count": 53
        }
      ]
    },
    {
      "cell_type": "code",
      "source": [
        "data['sqft'] = pd.to_numeric(data['sqft'], errors='coerce') #приведение к числовому типу"
      ],
      "metadata": {
        "id": "Pq7UvjqOk4Ti",
        "execution": {
          "iopub.status.busy": "2022-09-06T05:25:50.893939Z",
          "iopub.execute_input": "2022-09-06T05:25:50.894219Z",
          "iopub.status.idle": "2022-09-06T05:25:51.205618Z",
          "shell.execute_reply.started": "2022-09-06T05:25:50.894194Z",
          "shell.execute_reply": "2022-09-06T05:25:51.204770Z"
        },
        "trusted": true
      },
      "execution_count": null,
      "outputs": []
    },
    {
      "cell_type": "code",
      "source": [
        "data['sqft'].value_counts() #обзор значений в столбце"
      ],
      "metadata": {
        "id": "xpW7EouAlAuh",
        "execution": {
          "iopub.status.busy": "2022-09-06T05:25:51.206923Z",
          "iopub.execute_input": "2022-09-06T05:25:51.207211Z",
          "iopub.status.idle": "2022-09-06T05:25:51.219269Z",
          "shell.execute_reply.started": "2022-09-06T05:25:51.207186Z",
          "shell.execute_reply": "2022-09-06T05:25:51.218275Z"
        },
        "trusted": true,
        "colab": {
          "base_uri": "https://localhost:8080/"
        },
        "outputId": "13a336d1-e651-4539-c4e0-c1f87f20cbaf"
      },
      "execution_count": null,
      "outputs": [
        {
          "output_type": "execute_result",
          "data": {
            "text/plain": [
              "0.0       11853\n",
              "960.0       284\n",
              "800.0       257\n",
              "900.0       234\n",
              "850.0       177\n",
              "          ...  \n",
              "5031.0        1\n",
              "4325.0        1\n",
              "4974.0        1\n",
              "469.0         1\n",
              "4371.0        1\n",
              "Name: sqft, Length: 5427, dtype: int64"
            ]
          },
          "metadata": {},
          "execution_count": 55
        }
      ]
    },
    {
      "cell_type": "code",
      "source": [
        "data['sqft']=data['sqft'].fillna(round(data['sqft'].mean(), 1)) #заполнение отсутствующих значений "
      ],
      "metadata": {
        "id": "8vzpWEHSlQr7",
        "execution": {
          "iopub.status.busy": "2022-09-06T05:25:51.230040Z",
          "iopub.execute_input": "2022-09-06T05:25:51.230305Z",
          "iopub.status.idle": "2022-09-06T05:25:51.243374Z",
          "shell.execute_reply.started": "2022-09-06T05:25:51.230280Z",
          "shell.execute_reply": "2022-09-06T05:25:51.242690Z"
        },
        "trusted": true
      },
      "execution_count": null,
      "outputs": []
    },
    {
      "cell_type": "code",
      "source": [
        "data['sqft'].value_counts() #обзор значений в столбце"
      ],
      "metadata": {
        "id": "_LWo4L3Vlhfm",
        "execution": {
          "iopub.status.busy": "2022-09-06T05:25:51.244710Z",
          "iopub.execute_input": "2022-09-06T05:25:51.244995Z",
          "iopub.status.idle": "2022-09-06T05:25:51.259596Z",
          "shell.execute_reply.started": "2022-09-06T05:25:51.244968Z",
          "shell.execute_reply": "2022-09-06T05:25:51.259009Z"
        },
        "trusted": true,
        "colab": {
          "base_uri": "https://localhost:8080/"
        },
        "outputId": "8c35c6ba-746e-44e7-87d4-488abfbfd1f7"
      },
      "execution_count": null,
      "outputs": [
        {
          "output_type": "execute_result",
          "data": {
            "text/plain": [
              "8927.6    312718\n",
              "0.0        11853\n",
              "960.0        284\n",
              "800.0        257\n",
              "900.0        234\n",
              "           ...  \n",
              "5031.0         1\n",
              "4325.0         1\n",
              "4974.0         1\n",
              "469.0          1\n",
              "4371.0         1\n",
              "Name: sqft, Length: 5428, dtype: int64"
            ]
          },
          "metadata": {},
          "execution_count": 57
        }
      ]
    },
    {
      "cell_type": "markdown",
      "source": [
        "### zipcode"
      ],
      "metadata": {
        "id": "8Uu9UnjWCXWo"
      }
    },
    {
      "cell_type": "code",
      "source": [
        "data.zipcode.value_counts() #обзор значений в столбце"
      ],
      "metadata": {
        "id": "JAD-KWYK78s_",
        "execution": {
          "iopub.status.busy": "2022-09-06T05:25:51.261221Z",
          "iopub.execute_input": "2022-09-06T05:25:51.261581Z",
          "iopub.status.idle": "2022-09-06T05:25:51.303263Z",
          "shell.execute_reply.started": "2022-09-06T05:25:51.261550Z",
          "shell.execute_reply": "2022-09-06T05:25:51.302484Z"
        },
        "trusted": true,
        "colab": {
          "base_uri": "https://localhost:8080/"
        },
        "outputId": "c0ebe7ba-845e-4a9f-ccec-7fb1fb7188c3"
      },
      "execution_count": null,
      "outputs": [
        {
          "output_type": "execute_result",
          "data": {
            "text/plain": [
              "32137         2139\n",
              "33131         1551\n",
              "34747         1486\n",
              "78245         1383\n",
              "34759         1333\n",
              "              ... \n",
              "92683            1\n",
              "27610-2861       1\n",
              "27613-4042       1\n",
              "27612-5442       1\n",
              "44704            1\n",
              "Name: zipcode, Length: 4541, dtype: int64"
            ]
          },
          "metadata": {},
          "execution_count": 58
        }
      ]
    },
    {
      "cell_type": "code",
      "source": [
        "data['zipcode'] = pd.to_numeric(data['zipcode'], errors='coerce') #приведение к числовому типу"
      ],
      "metadata": {
        "execution": {
          "iopub.status.busy": "2022-09-06T05:25:51.306314Z",
          "iopub.execute_input": "2022-09-06T05:25:51.307137Z",
          "iopub.status.idle": "2022-09-06T05:25:51.553649Z",
          "shell.execute_reply.started": "2022-09-06T05:25:51.307100Z",
          "shell.execute_reply": "2022-09-06T05:25:51.552712Z"
        },
        "trusted": true,
        "id": "GP6joStU2Ynl"
      },
      "execution_count": null,
      "outputs": []
    },
    {
      "cell_type": "code",
      "source": [
        "data['zipcode']=data['zipcode'].fillna(0) #заполнение отсутствующих значений"
      ],
      "metadata": {
        "execution": {
          "iopub.status.busy": "2022-09-06T05:25:51.554874Z",
          "iopub.execute_input": "2022-09-06T05:25:51.555141Z",
          "iopub.status.idle": "2022-09-06T05:25:51.561527Z",
          "shell.execute_reply.started": "2022-09-06T05:25:51.555116Z",
          "shell.execute_reply": "2022-09-06T05:25:51.560590Z"
        },
        "trusted": true,
        "id": "AqOhZ9rh2Ynl"
      },
      "execution_count": null,
      "outputs": []
    },
    {
      "cell_type": "markdown",
      "source": [
        "### beds"
      ],
      "metadata": {
        "id": "wzBnS6HnCZ8D"
      }
    },
    {
      "cell_type": "code",
      "source": [
        "data['beds'].value_counts() #обзор значений в столбце"
      ],
      "metadata": {
        "id": "FF9SrBdO783R",
        "execution": {
          "iopub.status.busy": "2022-09-06T05:26:40.413061Z",
          "iopub.execute_input": "2022-09-06T05:26:40.413367Z",
          "iopub.status.idle": "2022-09-06T05:26:40.441239Z",
          "shell.execute_reply.started": "2022-09-06T05:26:40.413338Z",
          "shell.execute_reply": "2022-09-06T05:26:40.440265Z"
        },
        "trusted": true,
        "colab": {
          "base_uri": "https://localhost:8080/"
        },
        "outputId": "9c214325-b2f8-4738-f5e3-ee17966cb214"
      },
      "execution_count": null,
      "outputs": [
        {
          "output_type": "execute_result",
          "data": {
            "text/plain": [
              "3 Beds        52947\n",
              "4 Beds        35149\n",
              "3             31191\n",
              "2 Beds        26084\n",
              "4             19915\n",
              "              ...  \n",
              "8.93 acres        1\n",
              "5,510 sqft        1\n",
              "3.8 acres         1\n",
              "7,104 sqft        1\n",
              "8,479 sqft        1\n",
              "Name: beds, Length: 1146, dtype: int64"
            ]
          },
          "metadata": {},
          "execution_count": 61
        }
      ]
    },
    {
      "cell_type": "code",
      "source": [
        "data['beds'].unique() #обзор уникальных значений"
      ],
      "metadata": {
        "id": "sH0wbggaeJFU",
        "execution": {
          "iopub.status.busy": "2022-09-06T05:26:40.442652Z",
          "iopub.execute_input": "2022-09-06T05:26:40.443028Z",
          "iopub.status.idle": "2022-09-06T05:26:40.468695Z",
          "shell.execute_reply.started": "2022-09-06T05:26:40.442935Z",
          "shell.execute_reply": "2022-09-06T05:26:40.467778Z"
        },
        "trusted": true,
        "colab": {
          "base_uri": "https://localhost:8080/"
        },
        "outputId": "ef5bc7c6-1f84-4fa7-8afe-42df0a5bc788"
      },
      "execution_count": null,
      "outputs": [
        {
          "output_type": "execute_result",
          "data": {
            "text/plain": [
              "array(['4', '3 Beds', '5 Beds', ..., '2.72 acres', '9,565 sqft',\n",
              "       '8,479 sqft'], dtype=object)"
            ]
          },
          "metadata": {},
          "execution_count": 62
        }
      ]
    },
    {
      "cell_type": "code",
      "source": [
        "def transform_beds(\n",
        "    value: str\n",
        "):  \n",
        "    if isinstance(value, str):\n",
        "        if  'acres' in value:\n",
        "            return 0\n",
        "        if  'sqft' in value:\n",
        "            return 0\n",
        "    return value\n",
        "data['beds']=data['beds'].apply(transform_beds) #преобразование значений в столбце"
      ],
      "metadata": {
        "id": "v13T_h5eojTm",
        "execution": {
          "iopub.status.busy": "2022-09-06T05:26:40.470174Z",
          "iopub.execute_input": "2022-09-06T05:26:40.470707Z",
          "iopub.status.idle": "2022-09-06T05:26:40.587358Z",
          "shell.execute_reply.started": "2022-09-06T05:26:40.470678Z",
          "shell.execute_reply": "2022-09-06T05:26:40.586238Z"
        },
        "trusted": true
      },
      "execution_count": null,
      "outputs": []
    },
    {
      "cell_type": "code",
      "source": [
        "data['beds'] = pd.to_numeric(data['beds'], errors='coerce') #приведение к числовому типу"
      ],
      "metadata": {
        "id": "mjM3bX0NxyqX",
        "execution": {
          "iopub.status.busy": "2022-09-06T05:26:40.588646Z",
          "iopub.execute_input": "2022-09-06T05:26:40.588975Z",
          "iopub.status.idle": "2022-09-06T05:26:40.840355Z",
          "shell.execute_reply.started": "2022-09-06T05:26:40.588939Z",
          "shell.execute_reply": "2022-09-06T05:26:40.839461Z"
        },
        "trusted": true
      },
      "execution_count": null,
      "outputs": []
    },
    {
      "cell_type": "code",
      "source": [
        "data['beds']=data['beds'].fillna(round(data['beds'].mean(), 0)) #заполнение отсутствующих значений"
      ],
      "metadata": {
        "id": "hJvcURCUyFg4",
        "execution": {
          "iopub.status.busy": "2022-09-06T05:26:40.849724Z",
          "iopub.execute_input": "2022-09-06T05:26:40.850051Z",
          "iopub.status.idle": "2022-09-06T05:26:40.863203Z",
          "shell.execute_reply.started": "2022-09-06T05:26:40.850027Z",
          "shell.execute_reply": "2022-09-06T05:26:40.862220Z"
        },
        "trusted": true
      },
      "execution_count": null,
      "outputs": []
    },
    {
      "cell_type": "code",
      "source": [
        "data['beds'].value_counts() #обзор значений в столбце"
      ],
      "metadata": {
        "id": "f52LYhd4oxnz",
        "execution": {
          "iopub.status.busy": "2022-09-06T05:26:40.864598Z",
          "iopub.execute_input": "2022-09-06T05:26:40.865991Z",
          "iopub.status.idle": "2022-09-06T05:26:40.880462Z",
          "shell.execute_reply.started": "2022-09-06T05:26:40.865942Z",
          "shell.execute_reply": "2022-09-06T05:26:40.879781Z"
        },
        "trusted": true,
        "colab": {
          "base_uri": "https://localhost:8080/"
        },
        "outputId": "1ef4c728-1357-4cfc-c8a0-0b0e1f19b18e"
      },
      "execution_count": null,
      "outputs": [
        {
          "output_type": "execute_result",
          "data": {
            "text/plain": [
              "3.0      310186\n",
              "4.0       25146\n",
              "2.0       18427\n",
              "5.0        7764\n",
              "1.0        5012\n",
              "0.0        4359\n",
              "6.0        2103\n",
              "7.0         577\n",
              "8.0         357\n",
              "9.0         102\n",
              "10.0         77\n",
              "11.0         40\n",
              "12.0         36\n",
              "16.0         21\n",
              "14.0         15\n",
              "13.0         14\n",
              "15.0         11\n",
              "24.0          9\n",
              "20.0          7\n",
              "18.0          7\n",
              "17.0          4\n",
              "28.0          3\n",
              "30.0          3\n",
              "22.0          3\n",
              "26.0          2\n",
              "29.0          2\n",
              "34.0          2\n",
              "27.0          2\n",
              "32.0          2\n",
              "40.0          2\n",
              "99.0          1\n",
              "33.0          1\n",
              "21.0          1\n",
              "75.0          1\n",
              "19.0          1\n",
              "144.0         1\n",
              "48.0          1\n",
              "23.0          1\n",
              "44.0          1\n",
              "78.0          1\n",
              "35.0          1\n",
              "Name: beds, dtype: int64"
            ]
          },
          "metadata": {},
          "execution_count": 66
        }
      ]
    },
    {
      "cell_type": "markdown",
      "source": [
        "### state"
      ],
      "metadata": {
        "id": "8xW2mb3GCce7"
      }
    },
    {
      "cell_type": "code",
      "source": [
        "data.state.value_counts() #обзор значений в столбце"
      ],
      "metadata": {
        "id": "ZX3d_UBz79Ad",
        "execution": {
          "iopub.status.busy": "2022-09-06T05:26:40.904706Z",
          "iopub.execute_input": "2022-09-06T05:26:40.905066Z",
          "iopub.status.idle": "2022-09-06T05:26:40.933879Z",
          "shell.execute_reply.started": "2022-09-06T05:26:40.905027Z",
          "shell.execute_reply": "2022-09-06T05:26:40.932917Z"
        },
        "trusted": true,
        "colab": {
          "base_uri": "https://localhost:8080/"
        },
        "outputId": "f8823936-c9f0-42e3-bec4-fa70b744b5ef"
      },
      "execution_count": null,
      "outputs": [
        {
          "output_type": "execute_result",
          "data": {
            "text/plain": [
              "FL    114570\n",
              "TX     83269\n",
              "NY     24329\n",
              "CA     23170\n",
              "NC     21768\n",
              "TN     18218\n",
              "WA     13730\n",
              "OH     12423\n",
              "IL      8823\n",
              "NV      8402\n",
              "GA      6632\n",
              "CO      6371\n",
              "PA      5493\n",
              "MI      5119\n",
              "DC      4581\n",
              "AZ      3347\n",
              "IN      3280\n",
              "OR      2774\n",
              "MA      1494\n",
              "UT      1319\n",
              "MD      1086\n",
              "VT       864\n",
              "MO       832\n",
              "VA       800\n",
              "WI       452\n",
              "NJ       436\n",
              "ME       258\n",
              "IA       242\n",
              "KY        90\n",
              "OK        49\n",
              "MS        40\n",
              "SC        28\n",
              "MT         7\n",
              "DE         5\n",
              "Fl         1\n",
              "BA         1\n",
              "AL         1\n",
              "OT         1\n",
              "OS         1\n",
              "Name: state, dtype: int64"
            ]
          },
          "metadata": {},
          "execution_count": 67
        }
      ]
    },
    {
      "cell_type": "markdown",
      "source": [
        "### stories"
      ],
      "metadata": {
        "id": "oFNMgLhjChSV"
      }
    },
    {
      "cell_type": "code",
      "source": [
        "data['stories'].value_counts() #обзор значений в столбце"
      ],
      "metadata": {
        "id": "TeKHXqWu79Jt",
        "execution": {
          "iopub.status.busy": "2022-09-06T05:26:41.357794Z",
          "iopub.execute_input": "2022-09-06T05:26:41.358205Z",
          "iopub.status.idle": "2022-09-06T05:26:41.387559Z",
          "shell.execute_reply.started": "2022-09-06T05:26:41.358163Z",
          "shell.execute_reply": "2022-09-06T05:26:41.386574Z"
        },
        "trusted": true,
        "colab": {
          "base_uri": "https://localhost:8080/"
        },
        "outputId": "c0b0918e-d54b-45e2-880a-6840fac19b8c"
      },
      "execution_count": null,
      "outputs": [
        {
          "output_type": "execute_result",
          "data": {
            "text/plain": [
              "1.0                                  66808\n",
              "2.0                                  55003\n",
              "1                                    22795\n",
              "2                                    17976\n",
              "3.0                                  11233\n",
              "                                     ...  \n",
              "Manufactured Home, Non-Site Built        1\n",
              "Bedroom - Split Plan                     1\n",
              "78                                       1\n",
              "None                                     1\n",
              "65.0                                     1\n",
              "Name: stories, Length: 348, dtype: int64"
            ]
          },
          "metadata": {},
          "execution_count": 68
        }
      ]
    },
    {
      "cell_type": "code",
      "source": [
        "data['stories'] = pd.to_numeric(data['stories'], errors='coerce') #приведение к числовому типу"
      ],
      "metadata": {
        "id": "d3PaM0Luz-6M",
        "execution": {
          "iopub.status.busy": "2022-09-06T05:26:41.388941Z",
          "iopub.execute_input": "2022-09-06T05:26:41.389385Z",
          "iopub.status.idle": "2022-09-06T05:26:41.547341Z",
          "shell.execute_reply.started": "2022-09-06T05:26:41.389344Z",
          "shell.execute_reply": "2022-09-06T05:26:41.546415Z"
        },
        "trusted": true
      },
      "execution_count": null,
      "outputs": []
    },
    {
      "cell_type": "code",
      "source": [
        "data['stories'].value_counts() #обзор значений в столбце"
      ],
      "metadata": {
        "id": "7j98eGgR2HG6",
        "execution": {
          "iopub.status.busy": "2022-09-06T05:26:41.548649Z",
          "iopub.execute_input": "2022-09-06T05:26:41.548925Z",
          "iopub.status.idle": "2022-09-06T05:26:41.563284Z",
          "shell.execute_reply.started": "2022-09-06T05:26:41.548901Z",
          "shell.execute_reply": "2022-09-06T05:26:41.562210Z"
        },
        "trusted": true,
        "colab": {
          "base_uri": "https://localhost:8080/"
        },
        "outputId": "3226caad-2c0d-4a4c-c5db-e44a60ecdd28"
      },
      "execution_count": null,
      "outputs": [
        {
          "output_type": "execute_result",
          "data": {
            "text/plain": [
              "1.0       90942\n",
              "2.0       75986\n",
              "3.0       15971\n",
              "0.0       11440\n",
              "9.0        3381\n",
              "          ...  \n",
              "1120.0        1\n",
              "2.2           1\n",
              "1002.0        1\n",
              "96.0          1\n",
              "65.0          1\n",
              "Name: stories, Length: 85, dtype: int64"
            ]
          },
          "metadata": {},
          "execution_count": 70
        }
      ]
    },
    {
      "cell_type": "code",
      "source": [
        "data['stories']=data['stories'].fillna(round(data['stories'].mean(), 0)) #заполнение отсутствующих значений"
      ],
      "metadata": {
        "id": "1h2t8SyO2Uz9",
        "execution": {
          "iopub.status.busy": "2022-09-06T05:26:41.587693Z",
          "iopub.execute_input": "2022-09-06T05:26:41.588174Z",
          "iopub.status.idle": "2022-09-06T05:26:41.599402Z",
          "shell.execute_reply.started": "2022-09-06T05:26:41.588147Z",
          "shell.execute_reply": "2022-09-06T05:26:41.598628Z"
        },
        "trusted": true
      },
      "execution_count": null,
      "outputs": []
    },
    {
      "cell_type": "markdown",
      "source": [
        "### mls-id"
      ],
      "metadata": {
        "id": "JtB-DNltC1nU"
      }
    },
    {
      "cell_type": "code",
      "source": [
        "data['mls-id'].value_counts() #обзор значений в столбце"
      ],
      "metadata": {
        "id": "bo01v63a79TF",
        "execution": {
          "iopub.status.busy": "2022-09-06T05:26:41.622060Z",
          "iopub.execute_input": "2022-09-06T05:26:41.622532Z",
          "iopub.status.idle": "2022-09-06T05:26:41.645101Z",
          "shell.execute_reply.started": "2022-09-06T05:26:41.622505Z",
          "shell.execute_reply": "2022-09-06T05:26:41.644241Z"
        },
        "trusted": true,
        "colab": {
          "base_uri": "https://localhost:8080/"
        },
        "outputId": "87b5070e-ad5c-41ac-9a83-af02133a6216"
      },
      "execution_count": null,
      "outputs": [
        {
          "output_type": "execute_result",
          "data": {
            "text/plain": [
              "No           3\n",
              "No MLS#      3\n",
              "983469       2\n",
              "241766       2\n",
              "A10761504    2\n",
              "            ..\n",
              "1020314      1\n",
              "A10762436    1\n",
              "1592770      1\n",
              "14201834     1\n",
              "F10202858    1\n",
              "Name: mls-id, Length: 24902, dtype: int64"
            ]
          },
          "metadata": {},
          "execution_count": 72
        }
      ]
    },
    {
      "cell_type": "code",
      "source": [
        "data.drop(['mls-id',], axis=1, inplace=True) #удаление столбца, так как значения пересекаются со значениями столбца MlsId"
      ],
      "metadata": {
        "id": "8nwAj_4UM-7F",
        "execution": {
          "iopub.status.busy": "2022-09-06T05:26:41.646431Z",
          "iopub.execute_input": "2022-09-06T05:26:41.647412Z",
          "iopub.status.idle": "2022-09-06T05:26:41.737691Z",
          "shell.execute_reply.started": "2022-09-06T05:26:41.647370Z",
          "shell.execute_reply": "2022-09-06T05:26:41.736497Z"
        },
        "trusted": true
      },
      "execution_count": null,
      "outputs": []
    },
    {
      "cell_type": "markdown",
      "source": [
        "### PrivatePool"
      ],
      "metadata": {
        "id": "w6nDaBMwC4Ue"
      }
    },
    {
      "cell_type": "code",
      "source": [
        "data.PrivatePool.value_counts() #обзор значений в столбце"
      ],
      "metadata": {
        "id": "7gjcqCkg79c7",
        "execution": {
          "iopub.status.busy": "2022-09-06T05:26:41.739145Z",
          "iopub.execute_input": "2022-09-06T05:26:41.739825Z",
          "iopub.status.idle": "2022-09-06T05:26:41.758072Z",
          "shell.execute_reply.started": "2022-09-06T05:26:41.739783Z",
          "shell.execute_reply": "2022-09-06T05:26:41.757097Z"
        },
        "trusted": true,
        "colab": {
          "base_uri": "https://localhost:8080/"
        },
        "outputId": "6c5f2540-8441-4b73-b287-b3cd46d1f570"
      },
      "execution_count": null,
      "outputs": [
        {
          "output_type": "execute_result",
          "data": {
            "text/plain": [
              "yes    28592\n",
              "Yes    11434\n",
              "Name: PrivatePool, dtype: int64"
            ]
          },
          "metadata": {},
          "execution_count": 74
        }
      ]
    },
    {
      "cell_type": "code",
      "source": [
        "data['PrivatePool']=data['PrivatePool'].fillna(value='not') #заполнение отсутствующих зачений"
      ],
      "metadata": {
        "id": "P5ivkJ1hSAyl",
        "execution": {
          "iopub.status.busy": "2022-09-06T05:26:41.759286Z",
          "iopub.execute_input": "2022-09-06T05:26:41.759592Z",
          "iopub.status.idle": "2022-09-06T05:26:41.790811Z",
          "shell.execute_reply.started": "2022-09-06T05:26:41.759565Z",
          "shell.execute_reply": "2022-09-06T05:26:41.790101Z"
        },
        "trusted": true
      },
      "execution_count": null,
      "outputs": []
    },
    {
      "cell_type": "code",
      "source": [
        "#data['PrivatePool'] = data['PrivatePool'].astype(str)\n",
        "data['PrivatePool'] = data['PrivatePool'].apply(lambda x: x.lower()) #преобразование данных"
      ],
      "metadata": {
        "id": "Iz5zCQ7CTZAO",
        "execution": {
          "iopub.status.busy": "2022-09-06T05:26:41.792161Z",
          "iopub.execute_input": "2022-09-06T05:26:41.792800Z",
          "iopub.status.idle": "2022-09-06T05:26:41.889282Z",
          "shell.execute_reply.started": "2022-09-06T05:26:41.792748Z",
          "shell.execute_reply": "2022-09-06T05:26:41.888116Z"
        },
        "trusted": true
      },
      "execution_count": null,
      "outputs": []
    },
    {
      "cell_type": "code",
      "source": [
        "data['PrivatePool'].value_counts() #обзор значений в столбце"
      ],
      "metadata": {
        "id": "YZnxnDC_TmBv",
        "execution": {
          "iopub.status.busy": "2022-09-06T05:26:41.890719Z",
          "iopub.execute_input": "2022-09-06T05:26:41.891073Z",
          "iopub.status.idle": "2022-09-06T05:26:41.929199Z",
          "shell.execute_reply.started": "2022-09-06T05:26:41.891042Z",
          "shell.execute_reply": "2022-09-06T05:26:41.928257Z"
        },
        "trusted": true,
        "colab": {
          "base_uri": "https://localhost:8080/"
        },
        "outputId": "f1e05936-532e-471a-b694-39902dfbfbc8"
      },
      "execution_count": null,
      "outputs": [
        {
          "output_type": "execute_result",
          "data": {
            "text/plain": [
              "not    334280\n",
              "yes     40026\n",
              "Name: PrivatePool, dtype: int64"
            ]
          },
          "metadata": {},
          "execution_count": 77
        }
      ]
    },
    {
      "cell_type": "markdown",
      "source": [
        "### MlsId"
      ],
      "metadata": {
        "id": "xDxkYbdXC9H1"
      }
    },
    {
      "cell_type": "code",
      "source": [
        "data['MlsId'].value_counts() #обзор значений в столбце"
      ],
      "metadata": {
        "id": "3t3Axg8r79nl",
        "execution": {
          "iopub.status.busy": "2022-09-06T05:26:41.930531Z",
          "iopub.execute_input": "2022-09-06T05:26:41.930849Z",
          "iopub.status.idle": "2022-09-06T05:26:42.127869Z",
          "shell.execute_reply.started": "2022-09-06T05:26:41.930821Z",
          "shell.execute_reply": "2022-09-06T05:26:42.126814Z"
        },
        "trusted": true,
        "colab": {
          "base_uri": "https://localhost:8080/"
        },
        "outputId": "8fa51b7c-5860-4eba-cd3e-edcd64cc61e3"
      },
      "execution_count": null,
      "outputs": [
        {
          "output_type": "execute_result",
          "data": {
            "text/plain": [
              "NO MLS                     24\n",
              "No MLS #                   16\n",
              " A, Houston, TX 77008      13\n",
              " 12A, Orlando, FL 32833    11\n",
              " B, Houston, TX 77008       9\n",
              "                           ..\n",
              "241208                      1\n",
              "687215                      1\n",
              "3866902                     1\n",
              "19491906                    1\n",
              "10374233                    1\n",
              "Name: MlsId, Length: 232622, dtype: int64"
            ]
          },
          "metadata": {},
          "execution_count": 78
        }
      ]
    },
    {
      "cell_type": "code",
      "source": [
        "data['MlsId'] = pd.to_numeric(data['MlsId'], errors='coerce') #преобразование к числовому типу "
      ],
      "metadata": {
        "id": "5ByGDTSKUWQE",
        "execution": {
          "iopub.status.busy": "2022-09-06T05:26:42.129319Z",
          "iopub.execute_input": "2022-09-06T05:26:42.129638Z",
          "iopub.status.idle": "2022-09-06T05:26:42.374929Z",
          "shell.execute_reply.started": "2022-09-06T05:26:42.129608Z",
          "shell.execute_reply": "2022-09-06T05:26:42.373787Z"
        },
        "trusted": true
      },
      "execution_count": null,
      "outputs": []
    },
    {
      "cell_type": "code",
      "source": [
        "data['MlsId'].value_counts() #обзор значений в столбце"
      ],
      "metadata": {
        "id": "YDQ5epdIUtRC",
        "execution": {
          "iopub.status.busy": "2022-09-06T05:26:42.376347Z",
          "iopub.execute_input": "2022-09-06T05:26:42.376654Z",
          "iopub.status.idle": "2022-09-06T05:26:42.409863Z",
          "shell.execute_reply.started": "2022-09-06T05:26:42.376626Z",
          "shell.execute_reply": "2022-09-06T05:26:42.409167Z"
        },
        "trusted": true,
        "colab": {
          "base_uri": "https://localhost:8080/"
        },
        "outputId": "b1fdc066-787c-4dac-aeeb-eeb01de1a02d"
      },
      "execution_count": null,
      "outputs": [
        {
          "output_type": "execute_result",
          "data": {
            "text/plain": [
              "2101941.0     6\n",
              "1412350.0     6\n",
              "2088662.0     6\n",
              "14187092.0    5\n",
              "14061735.0    5\n",
              "             ..\n",
              "10589197.0    1\n",
              "3481963.0     1\n",
              "1418405.0     1\n",
              "14135173.0    1\n",
              "10374233.0    1\n",
              "Name: MlsId, Length: 161084, dtype: int64"
            ]
          },
          "metadata": {},
          "execution_count": 80
        }
      ]
    },
    {
      "cell_type": "code",
      "source": [
        "data=data.drop(['MlsId',], axis=1) #удаление столбца, так как информацией из него можно пренебречь"
      ],
      "metadata": {
        "id": "FFR0YynQb0Vv",
        "execution": {
          "iopub.status.busy": "2022-09-06T05:26:42.411126Z",
          "iopub.execute_input": "2022-09-06T05:26:42.411723Z",
          "iopub.status.idle": "2022-09-06T05:26:42.496857Z",
          "shell.execute_reply.started": "2022-09-06T05:26:42.411689Z",
          "shell.execute_reply": "2022-09-06T05:26:42.495967Z"
        },
        "trusted": true
      },
      "execution_count": null,
      "outputs": []
    },
    {
      "cell_type": "markdown",
      "source": [
        "# Data Preprocessing"
      ],
      "metadata": {
        "id": "zdaGuR5WddYe"
      }
    },
    {
      "cell_type": "code",
      "source": [
        "data=data.drop(['homeFacts', 'schools',], axis=1) #удаляем столбцы, так как не удалось сделать их корректную обработку и вытащить значения\n",
        "data=pd.DataFrame(data=data)"
      ],
      "metadata": {
        "id": "HLJElOhC7CmR",
        "execution": {
          "iopub.status.busy": "2022-09-06T05:26:42.928246Z",
          "iopub.execute_input": "2022-09-06T05:26:42.929356Z",
          "iopub.status.idle": "2022-09-06T05:26:42.999247Z",
          "shell.execute_reply.started": "2022-09-06T05:26:42.929323Z",
          "shell.execute_reply": "2022-09-06T05:26:42.998083Z"
        },
        "trusted": true
      },
      "execution_count": null,
      "outputs": []
    },
    {
      "cell_type": "code",
      "source": [
        "data.isna().sum() #проверяем,что у нас нет NaN  в датасете"
      ],
      "metadata": {
        "id": "Yd5onoM_XhQx",
        "execution": {
          "iopub.status.busy": "2022-09-06T05:26:42.498390Z",
          "iopub.execute_input": "2022-09-06T05:26:42.499405Z",
          "iopub.status.idle": "2022-09-06T05:26:42.710379Z",
          "shell.execute_reply.started": "2022-09-06T05:26:42.499365Z",
          "shell.execute_reply": "2022-09-06T05:26:42.709181Z"
        },
        "trusted": true,
        "colab": {
          "base_uri": "https://localhost:8080/"
        },
        "outputId": "9c00d2f2-1645-4f19-d088-3d48b66b8b22"
      },
      "execution_count": null,
      "outputs": [
        {
          "output_type": "execute_result",
          "data": {
            "text/plain": [
              "status          0\n",
              "propertyType    0\n",
              "street          0\n",
              "baths           0\n",
              "fireplace       0\n",
              "city            0\n",
              "sqft            0\n",
              "zipcode         0\n",
              "beds            0\n",
              "state           0\n",
              "stories         0\n",
              "PrivatePool     0\n",
              "new_target      0\n",
              "dtype: int64"
            ]
          },
          "metadata": {},
          "execution_count": 83
        }
      ]
    },
    {
      "cell_type": "code",
      "source": [
        "data.info() #общий обзор получившегося датафрейма"
      ],
      "metadata": {
        "id": "W-m45IiG_r8z",
        "execution": {
          "iopub.status.busy": "2022-09-06T05:26:42.712218Z",
          "iopub.execute_input": "2022-09-06T05:26:42.712686Z",
          "iopub.status.idle": "2022-09-06T05:26:42.926931Z",
          "shell.execute_reply.started": "2022-09-06T05:26:42.712628Z",
          "shell.execute_reply": "2022-09-06T05:26:42.926112Z"
        },
        "trusted": true,
        "colab": {
          "base_uri": "https://localhost:8080/"
        },
        "outputId": "07cd210e-c086-48b2-9544-19c17a773ee6"
      },
      "execution_count": null,
      "outputs": [
        {
          "output_type": "stream",
          "name": "stdout",
          "text": [
            "<class 'pandas.core.frame.DataFrame'>\n",
            "Int64Index: 374306 entries, 0 to 377184\n",
            "Data columns (total 13 columns):\n",
            " #   Column        Non-Null Count   Dtype  \n",
            "---  ------        --------------   -----  \n",
            " 0   status        374306 non-null  object \n",
            " 1   propertyType  374306 non-null  object \n",
            " 2   street        374306 non-null  object \n",
            " 3   baths         374306 non-null  float64\n",
            " 4   fireplace     374306 non-null  object \n",
            " 5   city          374306 non-null  object \n",
            " 6   sqft          374306 non-null  float64\n",
            " 7   zipcode       374306 non-null  float64\n",
            " 8   beds          374306 non-null  float64\n",
            " 9   state         374306 non-null  object \n",
            " 10  stories       374306 non-null  float64\n",
            " 11  PrivatePool   374306 non-null  object \n",
            " 12  new_target    374306 non-null  float64\n",
            "dtypes: float64(6), object(7)\n",
            "memory usage: 40.0+ MB\n"
          ]
        }
      ]
    },
    {
      "cell_type": "markdown",
      "source": [
        "## Standartisation"
      ],
      "metadata": {
        "id": "poogsViX634g"
      }
    },
    {
      "cell_type": "code",
      "source": [
        "\n",
        "scaled_features = data.copy()\n",
        "\n",
        "col_names = ['baths', 'sqft', 'zipcode', 'beds', 'stories']\n",
        "features = scaled_features[col_names]\n",
        "\n",
        "scaler = RobustScaler(quantile_range=(0.05, 0.75)).fit(features.values)\n",
        "features = scaler.transform(features.values)\n",
        "\n",
        "scaled_features[col_names] = features"
      ],
      "metadata": {
        "id": "BGkFpB6fRlD_"
      },
      "execution_count": null,
      "outputs": []
    },
    {
      "cell_type": "code",
      "source": [
        "data=scaled_features"
      ],
      "metadata": {
        "colab": {
          "base_uri": "https://localhost:8080/",
          "height": 206
        },
        "id": "Fu7OkklqQUmC",
        "outputId": "b7aaff7a-7be4-4357-8098-003681146f7d"
      },
      "execution_count": null,
      "outputs": [
        {
          "output_type": "execute_result",
          "data": {
            "text/plain": [
              "     status   propertyType               street  baths fireplace  \\\n",
              "0    active         single       240 Heather Ln   -0.7       yes   \n",
              "1  for sale  single-family    12911 E Heroy Ave    0.0       not   \n",
              "2  for sale  single-family    2005 Westridge Rd    0.0       yes   \n",
              "3  for sale  single-family  4311 Livingston Ave    0.0       yes   \n",
              "4  for sale       lot/land       1524 Kiscoe St    0.0       not   \n",
              "\n",
              "             city    sqft    zipcode  beds state  stories PrivatePool  \\\n",
              "0  Southern Pines -6027.6  -1.592484   1.0    NC      0.0         not   \n",
              "1  Spokane Valley     0.0  11.198855   0.0    WA      0.0         not   \n",
              "2     Los Angeles     0.0   9.543344   0.0    CA     -1.0         yes   \n",
              "3          Dallas     0.0   6.862597   0.0    TX      1.0         not   \n",
              "4        Palm Bay     0.0  -0.776015   0.0    FL      0.0         not   \n",
              "\n",
              "   new_target  \n",
              "0    418000.0  \n",
              "1    310000.0  \n",
              "2   2895000.0  \n",
              "3   2395000.0  \n",
              "4      5000.0  "
            ],
            "text/html": [
              "\n",
              "  <div id=\"df-5e6e80c9-4eb6-435c-bfdc-c283c2a39604\">\n",
              "    <div class=\"colab-df-container\">\n",
              "      <div>\n",
              "<style scoped>\n",
              "    .dataframe tbody tr th:only-of-type {\n",
              "        vertical-align: middle;\n",
              "    }\n",
              "\n",
              "    .dataframe tbody tr th {\n",
              "        vertical-align: top;\n",
              "    }\n",
              "\n",
              "    .dataframe thead th {\n",
              "        text-align: right;\n",
              "    }\n",
              "</style>\n",
              "<table border=\"1\" class=\"dataframe\">\n",
              "  <thead>\n",
              "    <tr style=\"text-align: right;\">\n",
              "      <th></th>\n",
              "      <th>status</th>\n",
              "      <th>propertyType</th>\n",
              "      <th>street</th>\n",
              "      <th>baths</th>\n",
              "      <th>fireplace</th>\n",
              "      <th>city</th>\n",
              "      <th>sqft</th>\n",
              "      <th>zipcode</th>\n",
              "      <th>beds</th>\n",
              "      <th>state</th>\n",
              "      <th>stories</th>\n",
              "      <th>PrivatePool</th>\n",
              "      <th>new_target</th>\n",
              "    </tr>\n",
              "  </thead>\n",
              "  <tbody>\n",
              "    <tr>\n",
              "      <th>0</th>\n",
              "      <td>active</td>\n",
              "      <td>single</td>\n",
              "      <td>240 Heather Ln</td>\n",
              "      <td>-0.7</td>\n",
              "      <td>yes</td>\n",
              "      <td>Southern Pines</td>\n",
              "      <td>-6027.6</td>\n",
              "      <td>-1.592484</td>\n",
              "      <td>1.0</td>\n",
              "      <td>NC</td>\n",
              "      <td>0.0</td>\n",
              "      <td>not</td>\n",
              "      <td>418000.0</td>\n",
              "    </tr>\n",
              "    <tr>\n",
              "      <th>1</th>\n",
              "      <td>for sale</td>\n",
              "      <td>single-family</td>\n",
              "      <td>12911 E Heroy Ave</td>\n",
              "      <td>0.0</td>\n",
              "      <td>not</td>\n",
              "      <td>Spokane Valley</td>\n",
              "      <td>0.0</td>\n",
              "      <td>11.198855</td>\n",
              "      <td>0.0</td>\n",
              "      <td>WA</td>\n",
              "      <td>0.0</td>\n",
              "      <td>not</td>\n",
              "      <td>310000.0</td>\n",
              "    </tr>\n",
              "    <tr>\n",
              "      <th>2</th>\n",
              "      <td>for sale</td>\n",
              "      <td>single-family</td>\n",
              "      <td>2005 Westridge Rd</td>\n",
              "      <td>0.0</td>\n",
              "      <td>yes</td>\n",
              "      <td>Los Angeles</td>\n",
              "      <td>0.0</td>\n",
              "      <td>9.543344</td>\n",
              "      <td>0.0</td>\n",
              "      <td>CA</td>\n",
              "      <td>-1.0</td>\n",
              "      <td>yes</td>\n",
              "      <td>2895000.0</td>\n",
              "    </tr>\n",
              "    <tr>\n",
              "      <th>3</th>\n",
              "      <td>for sale</td>\n",
              "      <td>single-family</td>\n",
              "      <td>4311 Livingston Ave</td>\n",
              "      <td>0.0</td>\n",
              "      <td>yes</td>\n",
              "      <td>Dallas</td>\n",
              "      <td>0.0</td>\n",
              "      <td>6.862597</td>\n",
              "      <td>0.0</td>\n",
              "      <td>TX</td>\n",
              "      <td>1.0</td>\n",
              "      <td>not</td>\n",
              "      <td>2395000.0</td>\n",
              "    </tr>\n",
              "    <tr>\n",
              "      <th>4</th>\n",
              "      <td>for sale</td>\n",
              "      <td>lot/land</td>\n",
              "      <td>1524 Kiscoe St</td>\n",
              "      <td>0.0</td>\n",
              "      <td>not</td>\n",
              "      <td>Palm Bay</td>\n",
              "      <td>0.0</td>\n",
              "      <td>-0.776015</td>\n",
              "      <td>0.0</td>\n",
              "      <td>FL</td>\n",
              "      <td>0.0</td>\n",
              "      <td>not</td>\n",
              "      <td>5000.0</td>\n",
              "    </tr>\n",
              "  </tbody>\n",
              "</table>\n",
              "</div>\n",
              "      <button class=\"colab-df-convert\" onclick=\"convertToInteractive('df-5e6e80c9-4eb6-435c-bfdc-c283c2a39604')\"\n",
              "              title=\"Convert this dataframe to an interactive table.\"\n",
              "              style=\"display:none;\">\n",
              "        \n",
              "  <svg xmlns=\"http://www.w3.org/2000/svg\" height=\"24px\"viewBox=\"0 0 24 24\"\n",
              "       width=\"24px\">\n",
              "    <path d=\"M0 0h24v24H0V0z\" fill=\"none\"/>\n",
              "    <path d=\"M18.56 5.44l.94 2.06.94-2.06 2.06-.94-2.06-.94-.94-2.06-.94 2.06-2.06.94zm-11 1L8.5 8.5l.94-2.06 2.06-.94-2.06-.94L8.5 2.5l-.94 2.06-2.06.94zm10 10l.94 2.06.94-2.06 2.06-.94-2.06-.94-.94-2.06-.94 2.06-2.06.94z\"/><path d=\"M17.41 7.96l-1.37-1.37c-.4-.4-.92-.59-1.43-.59-.52 0-1.04.2-1.43.59L10.3 9.45l-7.72 7.72c-.78.78-.78 2.05 0 2.83L4 21.41c.39.39.9.59 1.41.59.51 0 1.02-.2 1.41-.59l7.78-7.78 2.81-2.81c.8-.78.8-2.07 0-2.86zM5.41 20L4 18.59l7.72-7.72 1.47 1.35L5.41 20z\"/>\n",
              "  </svg>\n",
              "      </button>\n",
              "      \n",
              "  <style>\n",
              "    .colab-df-container {\n",
              "      display:flex;\n",
              "      flex-wrap:wrap;\n",
              "      gap: 12px;\n",
              "    }\n",
              "\n",
              "    .colab-df-convert {\n",
              "      background-color: #E8F0FE;\n",
              "      border: none;\n",
              "      border-radius: 50%;\n",
              "      cursor: pointer;\n",
              "      display: none;\n",
              "      fill: #1967D2;\n",
              "      height: 32px;\n",
              "      padding: 0 0 0 0;\n",
              "      width: 32px;\n",
              "    }\n",
              "\n",
              "    .colab-df-convert:hover {\n",
              "      background-color: #E2EBFA;\n",
              "      box-shadow: 0px 1px 2px rgba(60, 64, 67, 0.3), 0px 1px 3px 1px rgba(60, 64, 67, 0.15);\n",
              "      fill: #174EA6;\n",
              "    }\n",
              "\n",
              "    [theme=dark] .colab-df-convert {\n",
              "      background-color: #3B4455;\n",
              "      fill: #D2E3FC;\n",
              "    }\n",
              "\n",
              "    [theme=dark] .colab-df-convert:hover {\n",
              "      background-color: #434B5C;\n",
              "      box-shadow: 0px 1px 3px 1px rgba(0, 0, 0, 0.15);\n",
              "      filter: drop-shadow(0px 1px 2px rgba(0, 0, 0, 0.3));\n",
              "      fill: #FFFFFF;\n",
              "    }\n",
              "  </style>\n",
              "\n",
              "      <script>\n",
              "        const buttonEl =\n",
              "          document.querySelector('#df-5e6e80c9-4eb6-435c-bfdc-c283c2a39604 button.colab-df-convert');\n",
              "        buttonEl.style.display =\n",
              "          google.colab.kernel.accessAllowed ? 'block' : 'none';\n",
              "\n",
              "        async function convertToInteractive(key) {\n",
              "          const element = document.querySelector('#df-5e6e80c9-4eb6-435c-bfdc-c283c2a39604');\n",
              "          const dataTable =\n",
              "            await google.colab.kernel.invokeFunction('convertToInteractive',\n",
              "                                                     [key], {});\n",
              "          if (!dataTable) return;\n",
              "\n",
              "          const docLinkHtml = 'Like what you see? Visit the ' +\n",
              "            '<a target=\"_blank\" href=https://colab.research.google.com/notebooks/data_table.ipynb>data table notebook</a>'\n",
              "            + ' to learn more about interactive tables.';\n",
              "          element.innerHTML = '';\n",
              "          dataTable['output_type'] = 'display_data';\n",
              "          await google.colab.output.renderOutput(dataTable, element);\n",
              "          const docLink = document.createElement('div');\n",
              "          docLink.innerHTML = docLinkHtml;\n",
              "          element.appendChild(docLink);\n",
              "        }\n",
              "      </script>\n",
              "    </div>\n",
              "  </div>\n",
              "  "
            ]
          },
          "metadata": {},
          "execution_count": 86
        }
      ]
    },
    {
      "cell_type": "markdown",
      "source": [
        "## FeatureEngineering"
      ],
      "metadata": {
        "id": "RpNJ2vJX6rHV"
      }
    },
    {
      "cell_type": "code",
      "source": [
        "categorical_features=[ 'status', 'fireplace',  'PrivatePool'] #применение get_dummies для преобразования категориальных переменных, в которых не сильно высокая вариативность представленных уникальных значений и поэтому создаваемые новые признаки не будут ззамедлять работу нашего сервиса\n",
        "data = pd.get_dummies(data, columns = categorical_features , prefix_sep = \"_\", drop_first = True)\n",
        "data.head()"
      ],
      "metadata": {
        "id": "96wtlR3uETcJ",
        "execution": {
          "iopub.status.busy": "2022-09-06T05:26:43.009426Z",
          "iopub.execute_input": "2022-09-06T05:26:43.010533Z",
          "iopub.status.idle": "2022-09-06T05:26:43.267046Z",
          "shell.execute_reply.started": "2022-09-06T05:26:43.010493Z",
          "shell.execute_reply": "2022-09-06T05:26:43.265805Z"
        },
        "trusted": true,
        "colab": {
          "base_uri": "https://localhost:8080/",
          "height": 473
        },
        "outputId": "4ccc1f20-1bb2-4fdf-f8e7-eda801ea7a41"
      },
      "execution_count": null,
      "outputs": [
        {
          "output_type": "execute_result",
          "data": {
            "text/plain": [
              "    propertyType               street  baths            city    sqft  \\\n",
              "0         single       240 Heather Ln   -0.7  Southern Pines -6027.6   \n",
              "1  single-family    12911 E Heroy Ave    0.0  Spokane Valley     0.0   \n",
              "2  single-family    2005 Westridge Rd    0.0     Los Angeles     0.0   \n",
              "3  single-family  4311 Livingston Ave    0.0          Dallas     0.0   \n",
              "4       lot/land       1524 Kiscoe St    0.0        Palm Bay     0.0   \n",
              "\n",
              "     zipcode  beds state  stories  new_target  ...  status_option  \\\n",
              "0  -1.592484   1.0    NC      0.0    418000.0  ...              0   \n",
              "1  11.198855   0.0    WA      0.0    310000.0  ...              0   \n",
              "2   9.543344   0.0    CA     -1.0   2895000.0  ...              0   \n",
              "3   6.862597   0.0    TX      1.0   2395000.0  ...              0   \n",
              "4  -0.776015   0.0    FL      0.0      5000.0  ...              0   \n",
              "\n",
              "   status_pending  status_pending,  status_pf  status_price change  \\\n",
              "0               0                0          0                    0   \n",
              "1               0                0          0                    0   \n",
              "2               0                0          0                    0   \n",
              "3               0                0          0                    0   \n",
              "4               0                0          0                    0   \n",
              "\n",
              "   status_reactivated  status_temporary  status_under  fireplace_yes  \\\n",
              "0                   0                 0             0              1   \n",
              "1                   0                 0             0              0   \n",
              "2                   0                 0             0              1   \n",
              "3                   0                 0             0              1   \n",
              "4                   0                 0             0              0   \n",
              "\n",
              "   PrivatePool_yes  \n",
              "0                0  \n",
              "1                0  \n",
              "2                1  \n",
              "3                0  \n",
              "4                0  \n",
              "\n",
              "[5 rows x 38 columns]"
            ],
            "text/html": [
              "\n",
              "  <div id=\"df-db6d2fc0-2291-4591-af80-fa470f2033ee\">\n",
              "    <div class=\"colab-df-container\">\n",
              "      <div>\n",
              "<style scoped>\n",
              "    .dataframe tbody tr th:only-of-type {\n",
              "        vertical-align: middle;\n",
              "    }\n",
              "\n",
              "    .dataframe tbody tr th {\n",
              "        vertical-align: top;\n",
              "    }\n",
              "\n",
              "    .dataframe thead th {\n",
              "        text-align: right;\n",
              "    }\n",
              "</style>\n",
              "<table border=\"1\" class=\"dataframe\">\n",
              "  <thead>\n",
              "    <tr style=\"text-align: right;\">\n",
              "      <th></th>\n",
              "      <th>propertyType</th>\n",
              "      <th>street</th>\n",
              "      <th>baths</th>\n",
              "      <th>city</th>\n",
              "      <th>sqft</th>\n",
              "      <th>zipcode</th>\n",
              "      <th>beds</th>\n",
              "      <th>state</th>\n",
              "      <th>stories</th>\n",
              "      <th>new_target</th>\n",
              "      <th>...</th>\n",
              "      <th>status_option</th>\n",
              "      <th>status_pending</th>\n",
              "      <th>status_pending,</th>\n",
              "      <th>status_pf</th>\n",
              "      <th>status_price change</th>\n",
              "      <th>status_reactivated</th>\n",
              "      <th>status_temporary</th>\n",
              "      <th>status_under</th>\n",
              "      <th>fireplace_yes</th>\n",
              "      <th>PrivatePool_yes</th>\n",
              "    </tr>\n",
              "  </thead>\n",
              "  <tbody>\n",
              "    <tr>\n",
              "      <th>0</th>\n",
              "      <td>single</td>\n",
              "      <td>240 Heather Ln</td>\n",
              "      <td>-0.7</td>\n",
              "      <td>Southern Pines</td>\n",
              "      <td>-6027.6</td>\n",
              "      <td>-1.592484</td>\n",
              "      <td>1.0</td>\n",
              "      <td>NC</td>\n",
              "      <td>0.0</td>\n",
              "      <td>418000.0</td>\n",
              "      <td>...</td>\n",
              "      <td>0</td>\n",
              "      <td>0</td>\n",
              "      <td>0</td>\n",
              "      <td>0</td>\n",
              "      <td>0</td>\n",
              "      <td>0</td>\n",
              "      <td>0</td>\n",
              "      <td>0</td>\n",
              "      <td>1</td>\n",
              "      <td>0</td>\n",
              "    </tr>\n",
              "    <tr>\n",
              "      <th>1</th>\n",
              "      <td>single-family</td>\n",
              "      <td>12911 E Heroy Ave</td>\n",
              "      <td>0.0</td>\n",
              "      <td>Spokane Valley</td>\n",
              "      <td>0.0</td>\n",
              "      <td>11.198855</td>\n",
              "      <td>0.0</td>\n",
              "      <td>WA</td>\n",
              "      <td>0.0</td>\n",
              "      <td>310000.0</td>\n",
              "      <td>...</td>\n",
              "      <td>0</td>\n",
              "      <td>0</td>\n",
              "      <td>0</td>\n",
              "      <td>0</td>\n",
              "      <td>0</td>\n",
              "      <td>0</td>\n",
              "      <td>0</td>\n",
              "      <td>0</td>\n",
              "      <td>0</td>\n",
              "      <td>0</td>\n",
              "    </tr>\n",
              "    <tr>\n",
              "      <th>2</th>\n",
              "      <td>single-family</td>\n",
              "      <td>2005 Westridge Rd</td>\n",
              "      <td>0.0</td>\n",
              "      <td>Los Angeles</td>\n",
              "      <td>0.0</td>\n",
              "      <td>9.543344</td>\n",
              "      <td>0.0</td>\n",
              "      <td>CA</td>\n",
              "      <td>-1.0</td>\n",
              "      <td>2895000.0</td>\n",
              "      <td>...</td>\n",
              "      <td>0</td>\n",
              "      <td>0</td>\n",
              "      <td>0</td>\n",
              "      <td>0</td>\n",
              "      <td>0</td>\n",
              "      <td>0</td>\n",
              "      <td>0</td>\n",
              "      <td>0</td>\n",
              "      <td>1</td>\n",
              "      <td>1</td>\n",
              "    </tr>\n",
              "    <tr>\n",
              "      <th>3</th>\n",
              "      <td>single-family</td>\n",
              "      <td>4311 Livingston Ave</td>\n",
              "      <td>0.0</td>\n",
              "      <td>Dallas</td>\n",
              "      <td>0.0</td>\n",
              "      <td>6.862597</td>\n",
              "      <td>0.0</td>\n",
              "      <td>TX</td>\n",
              "      <td>1.0</td>\n",
              "      <td>2395000.0</td>\n",
              "      <td>...</td>\n",
              "      <td>0</td>\n",
              "      <td>0</td>\n",
              "      <td>0</td>\n",
              "      <td>0</td>\n",
              "      <td>0</td>\n",
              "      <td>0</td>\n",
              "      <td>0</td>\n",
              "      <td>0</td>\n",
              "      <td>1</td>\n",
              "      <td>0</td>\n",
              "    </tr>\n",
              "    <tr>\n",
              "      <th>4</th>\n",
              "      <td>lot/land</td>\n",
              "      <td>1524 Kiscoe St</td>\n",
              "      <td>0.0</td>\n",
              "      <td>Palm Bay</td>\n",
              "      <td>0.0</td>\n",
              "      <td>-0.776015</td>\n",
              "      <td>0.0</td>\n",
              "      <td>FL</td>\n",
              "      <td>0.0</td>\n",
              "      <td>5000.0</td>\n",
              "      <td>...</td>\n",
              "      <td>0</td>\n",
              "      <td>0</td>\n",
              "      <td>0</td>\n",
              "      <td>0</td>\n",
              "      <td>0</td>\n",
              "      <td>0</td>\n",
              "      <td>0</td>\n",
              "      <td>0</td>\n",
              "      <td>0</td>\n",
              "      <td>0</td>\n",
              "    </tr>\n",
              "  </tbody>\n",
              "</table>\n",
              "<p>5 rows × 38 columns</p>\n",
              "</div>\n",
              "      <button class=\"colab-df-convert\" onclick=\"convertToInteractive('df-db6d2fc0-2291-4591-af80-fa470f2033ee')\"\n",
              "              title=\"Convert this dataframe to an interactive table.\"\n",
              "              style=\"display:none;\">\n",
              "        \n",
              "  <svg xmlns=\"http://www.w3.org/2000/svg\" height=\"24px\"viewBox=\"0 0 24 24\"\n",
              "       width=\"24px\">\n",
              "    <path d=\"M0 0h24v24H0V0z\" fill=\"none\"/>\n",
              "    <path d=\"M18.56 5.44l.94 2.06.94-2.06 2.06-.94-2.06-.94-.94-2.06-.94 2.06-2.06.94zm-11 1L8.5 8.5l.94-2.06 2.06-.94-2.06-.94L8.5 2.5l-.94 2.06-2.06.94zm10 10l.94 2.06.94-2.06 2.06-.94-2.06-.94-.94-2.06-.94 2.06-2.06.94z\"/><path d=\"M17.41 7.96l-1.37-1.37c-.4-.4-.92-.59-1.43-.59-.52 0-1.04.2-1.43.59L10.3 9.45l-7.72 7.72c-.78.78-.78 2.05 0 2.83L4 21.41c.39.39.9.59 1.41.59.51 0 1.02-.2 1.41-.59l7.78-7.78 2.81-2.81c.8-.78.8-2.07 0-2.86zM5.41 20L4 18.59l7.72-7.72 1.47 1.35L5.41 20z\"/>\n",
              "  </svg>\n",
              "      </button>\n",
              "      \n",
              "  <style>\n",
              "    .colab-df-container {\n",
              "      display:flex;\n",
              "      flex-wrap:wrap;\n",
              "      gap: 12px;\n",
              "    }\n",
              "\n",
              "    .colab-df-convert {\n",
              "      background-color: #E8F0FE;\n",
              "      border: none;\n",
              "      border-radius: 50%;\n",
              "      cursor: pointer;\n",
              "      display: none;\n",
              "      fill: #1967D2;\n",
              "      height: 32px;\n",
              "      padding: 0 0 0 0;\n",
              "      width: 32px;\n",
              "    }\n",
              "\n",
              "    .colab-df-convert:hover {\n",
              "      background-color: #E2EBFA;\n",
              "      box-shadow: 0px 1px 2px rgba(60, 64, 67, 0.3), 0px 1px 3px 1px rgba(60, 64, 67, 0.15);\n",
              "      fill: #174EA6;\n",
              "    }\n",
              "\n",
              "    [theme=dark] .colab-df-convert {\n",
              "      background-color: #3B4455;\n",
              "      fill: #D2E3FC;\n",
              "    }\n",
              "\n",
              "    [theme=dark] .colab-df-convert:hover {\n",
              "      background-color: #434B5C;\n",
              "      box-shadow: 0px 1px 3px 1px rgba(0, 0, 0, 0.15);\n",
              "      filter: drop-shadow(0px 1px 2px rgba(0, 0, 0, 0.3));\n",
              "      fill: #FFFFFF;\n",
              "    }\n",
              "  </style>\n",
              "\n",
              "      <script>\n",
              "        const buttonEl =\n",
              "          document.querySelector('#df-db6d2fc0-2291-4591-af80-fa470f2033ee button.colab-df-convert');\n",
              "        buttonEl.style.display =\n",
              "          google.colab.kernel.accessAllowed ? 'block' : 'none';\n",
              "\n",
              "        async function convertToInteractive(key) {\n",
              "          const element = document.querySelector('#df-db6d2fc0-2291-4591-af80-fa470f2033ee');\n",
              "          const dataTable =\n",
              "            await google.colab.kernel.invokeFunction('convertToInteractive',\n",
              "                                                     [key], {});\n",
              "          if (!dataTable) return;\n",
              "\n",
              "          const docLinkHtml = 'Like what you see? Visit the ' +\n",
              "            '<a target=\"_blank\" href=https://colab.research.google.com/notebooks/data_table.ipynb>data table notebook</a>'\n",
              "            + ' to learn more about interactive tables.';\n",
              "          element.innerHTML = '';\n",
              "          dataTable['output_type'] = 'display_data';\n",
              "          await google.colab.output.renderOutput(dataTable, element);\n",
              "          const docLink = document.createElement('div');\n",
              "          docLink.innerHTML = docLinkHtml;\n",
              "          element.appendChild(docLink);\n",
              "        }\n",
              "      </script>\n",
              "    </div>\n",
              "  </div>\n",
              "  "
            ]
          },
          "metadata": {},
          "execution_count": 87
        }
      ]
    },
    {
      "cell_type": "code",
      "source": [
        "le = LabelEncoder() #применение label_encoder для преобразования категориальных переменных,вариативность уникальных значений которых может достигать нескольких тысяч\n",
        "data['propertyType'] = le.fit_transform(data['propertyType'])\n",
        "data['street'] = le.fit_transform(data['street'])\n",
        "data['city'] = le.fit_transform(data['city'])\n",
        "data['state'] = le.fit_transform(data['state'])\n",
        "data.head()"
      ],
      "metadata": {
        "execution": {
          "iopub.status.busy": "2022-09-06T05:26:43.268536Z",
          "iopub.execute_input": "2022-09-06T05:26:43.269550Z",
          "iopub.status.idle": "2022-09-06T05:26:44.742811Z",
          "shell.execute_reply.started": "2022-09-06T05:26:43.269509Z",
          "shell.execute_reply": "2022-09-06T05:26:44.741806Z"
        },
        "trusted": true,
        "id": "ld8b1kb42Ynv",
        "colab": {
          "base_uri": "https://localhost:8080/",
          "height": 317
        },
        "outputId": "5b66250c-43de-4d07-b5d3-c8f8dda61476"
      },
      "execution_count": null,
      "outputs": [
        {
          "output_type": "execute_result",
          "data": {
            "text/plain": [
              "   propertyType  street  baths  city    sqft    zipcode  beds  state  stories  \\\n",
              "0           149  124833   -0.7  1705 -6027.6  -1.592484   1.0     21      0.0   \n",
              "1           150   43403    0.0  1715     0.0  11.198855   0.0     37      0.0   \n",
              "2           150  102248    0.0  1031     0.0   9.543344   0.0      3     -1.0   \n",
              "3           150  197986    0.0   430     0.0   6.862597   0.0     33      1.0   \n",
              "4           105   68022    0.0  1341     0.0  -0.776015   0.0      7      0.0   \n",
              "\n",
              "   new_target  ...  status_option  status_pending  status_pending,  status_pf  \\\n",
              "0    418000.0  ...              0               0                0          0   \n",
              "1    310000.0  ...              0               0                0          0   \n",
              "2   2895000.0  ...              0               0                0          0   \n",
              "3   2395000.0  ...              0               0                0          0   \n",
              "4      5000.0  ...              0               0                0          0   \n",
              "\n",
              "   status_price change  status_reactivated  status_temporary  status_under  \\\n",
              "0                    0                   0                 0             0   \n",
              "1                    0                   0                 0             0   \n",
              "2                    0                   0                 0             0   \n",
              "3                    0                   0                 0             0   \n",
              "4                    0                   0                 0             0   \n",
              "\n",
              "   fireplace_yes  PrivatePool_yes  \n",
              "0              1                0  \n",
              "1              0                0  \n",
              "2              1                1  \n",
              "3              1                0  \n",
              "4              0                0  \n",
              "\n",
              "[5 rows x 38 columns]"
            ],
            "text/html": [
              "\n",
              "  <div id=\"df-73aaa8e4-5605-4ade-84f7-0dca5c535ff9\">\n",
              "    <div class=\"colab-df-container\">\n",
              "      <div>\n",
              "<style scoped>\n",
              "    .dataframe tbody tr th:only-of-type {\n",
              "        vertical-align: middle;\n",
              "    }\n",
              "\n",
              "    .dataframe tbody tr th {\n",
              "        vertical-align: top;\n",
              "    }\n",
              "\n",
              "    .dataframe thead th {\n",
              "        text-align: right;\n",
              "    }\n",
              "</style>\n",
              "<table border=\"1\" class=\"dataframe\">\n",
              "  <thead>\n",
              "    <tr style=\"text-align: right;\">\n",
              "      <th></th>\n",
              "      <th>propertyType</th>\n",
              "      <th>street</th>\n",
              "      <th>baths</th>\n",
              "      <th>city</th>\n",
              "      <th>sqft</th>\n",
              "      <th>zipcode</th>\n",
              "      <th>beds</th>\n",
              "      <th>state</th>\n",
              "      <th>stories</th>\n",
              "      <th>new_target</th>\n",
              "      <th>...</th>\n",
              "      <th>status_option</th>\n",
              "      <th>status_pending</th>\n",
              "      <th>status_pending,</th>\n",
              "      <th>status_pf</th>\n",
              "      <th>status_price change</th>\n",
              "      <th>status_reactivated</th>\n",
              "      <th>status_temporary</th>\n",
              "      <th>status_under</th>\n",
              "      <th>fireplace_yes</th>\n",
              "      <th>PrivatePool_yes</th>\n",
              "    </tr>\n",
              "  </thead>\n",
              "  <tbody>\n",
              "    <tr>\n",
              "      <th>0</th>\n",
              "      <td>149</td>\n",
              "      <td>124833</td>\n",
              "      <td>-0.7</td>\n",
              "      <td>1705</td>\n",
              "      <td>-6027.6</td>\n",
              "      <td>-1.592484</td>\n",
              "      <td>1.0</td>\n",
              "      <td>21</td>\n",
              "      <td>0.0</td>\n",
              "      <td>418000.0</td>\n",
              "      <td>...</td>\n",
              "      <td>0</td>\n",
              "      <td>0</td>\n",
              "      <td>0</td>\n",
              "      <td>0</td>\n",
              "      <td>0</td>\n",
              "      <td>0</td>\n",
              "      <td>0</td>\n",
              "      <td>0</td>\n",
              "      <td>1</td>\n",
              "      <td>0</td>\n",
              "    </tr>\n",
              "    <tr>\n",
              "      <th>1</th>\n",
              "      <td>150</td>\n",
              "      <td>43403</td>\n",
              "      <td>0.0</td>\n",
              "      <td>1715</td>\n",
              "      <td>0.0</td>\n",
              "      <td>11.198855</td>\n",
              "      <td>0.0</td>\n",
              "      <td>37</td>\n",
              "      <td>0.0</td>\n",
              "      <td>310000.0</td>\n",
              "      <td>...</td>\n",
              "      <td>0</td>\n",
              "      <td>0</td>\n",
              "      <td>0</td>\n",
              "      <td>0</td>\n",
              "      <td>0</td>\n",
              "      <td>0</td>\n",
              "      <td>0</td>\n",
              "      <td>0</td>\n",
              "      <td>0</td>\n",
              "      <td>0</td>\n",
              "    </tr>\n",
              "    <tr>\n",
              "      <th>2</th>\n",
              "      <td>150</td>\n",
              "      <td>102248</td>\n",
              "      <td>0.0</td>\n",
              "      <td>1031</td>\n",
              "      <td>0.0</td>\n",
              "      <td>9.543344</td>\n",
              "      <td>0.0</td>\n",
              "      <td>3</td>\n",
              "      <td>-1.0</td>\n",
              "      <td>2895000.0</td>\n",
              "      <td>...</td>\n",
              "      <td>0</td>\n",
              "      <td>0</td>\n",
              "      <td>0</td>\n",
              "      <td>0</td>\n",
              "      <td>0</td>\n",
              "      <td>0</td>\n",
              "      <td>0</td>\n",
              "      <td>0</td>\n",
              "      <td>1</td>\n",
              "      <td>1</td>\n",
              "    </tr>\n",
              "    <tr>\n",
              "      <th>3</th>\n",
              "      <td>150</td>\n",
              "      <td>197986</td>\n",
              "      <td>0.0</td>\n",
              "      <td>430</td>\n",
              "      <td>0.0</td>\n",
              "      <td>6.862597</td>\n",
              "      <td>0.0</td>\n",
              "      <td>33</td>\n",
              "      <td>1.0</td>\n",
              "      <td>2395000.0</td>\n",
              "      <td>...</td>\n",
              "      <td>0</td>\n",
              "      <td>0</td>\n",
              "      <td>0</td>\n",
              "      <td>0</td>\n",
              "      <td>0</td>\n",
              "      <td>0</td>\n",
              "      <td>0</td>\n",
              "      <td>0</td>\n",
              "      <td>1</td>\n",
              "      <td>0</td>\n",
              "    </tr>\n",
              "    <tr>\n",
              "      <th>4</th>\n",
              "      <td>105</td>\n",
              "      <td>68022</td>\n",
              "      <td>0.0</td>\n",
              "      <td>1341</td>\n",
              "      <td>0.0</td>\n",
              "      <td>-0.776015</td>\n",
              "      <td>0.0</td>\n",
              "      <td>7</td>\n",
              "      <td>0.0</td>\n",
              "      <td>5000.0</td>\n",
              "      <td>...</td>\n",
              "      <td>0</td>\n",
              "      <td>0</td>\n",
              "      <td>0</td>\n",
              "      <td>0</td>\n",
              "      <td>0</td>\n",
              "      <td>0</td>\n",
              "      <td>0</td>\n",
              "      <td>0</td>\n",
              "      <td>0</td>\n",
              "      <td>0</td>\n",
              "    </tr>\n",
              "  </tbody>\n",
              "</table>\n",
              "<p>5 rows × 38 columns</p>\n",
              "</div>\n",
              "      <button class=\"colab-df-convert\" onclick=\"convertToInteractive('df-73aaa8e4-5605-4ade-84f7-0dca5c535ff9')\"\n",
              "              title=\"Convert this dataframe to an interactive table.\"\n",
              "              style=\"display:none;\">\n",
              "        \n",
              "  <svg xmlns=\"http://www.w3.org/2000/svg\" height=\"24px\"viewBox=\"0 0 24 24\"\n",
              "       width=\"24px\">\n",
              "    <path d=\"M0 0h24v24H0V0z\" fill=\"none\"/>\n",
              "    <path d=\"M18.56 5.44l.94 2.06.94-2.06 2.06-.94-2.06-.94-.94-2.06-.94 2.06-2.06.94zm-11 1L8.5 8.5l.94-2.06 2.06-.94-2.06-.94L8.5 2.5l-.94 2.06-2.06.94zm10 10l.94 2.06.94-2.06 2.06-.94-2.06-.94-.94-2.06-.94 2.06-2.06.94z\"/><path d=\"M17.41 7.96l-1.37-1.37c-.4-.4-.92-.59-1.43-.59-.52 0-1.04.2-1.43.59L10.3 9.45l-7.72 7.72c-.78.78-.78 2.05 0 2.83L4 21.41c.39.39.9.59 1.41.59.51 0 1.02-.2 1.41-.59l7.78-7.78 2.81-2.81c.8-.78.8-2.07 0-2.86zM5.41 20L4 18.59l7.72-7.72 1.47 1.35L5.41 20z\"/>\n",
              "  </svg>\n",
              "      </button>\n",
              "      \n",
              "  <style>\n",
              "    .colab-df-container {\n",
              "      display:flex;\n",
              "      flex-wrap:wrap;\n",
              "      gap: 12px;\n",
              "    }\n",
              "\n",
              "    .colab-df-convert {\n",
              "      background-color: #E8F0FE;\n",
              "      border: none;\n",
              "      border-radius: 50%;\n",
              "      cursor: pointer;\n",
              "      display: none;\n",
              "      fill: #1967D2;\n",
              "      height: 32px;\n",
              "      padding: 0 0 0 0;\n",
              "      width: 32px;\n",
              "    }\n",
              "\n",
              "    .colab-df-convert:hover {\n",
              "      background-color: #E2EBFA;\n",
              "      box-shadow: 0px 1px 2px rgba(60, 64, 67, 0.3), 0px 1px 3px 1px rgba(60, 64, 67, 0.15);\n",
              "      fill: #174EA6;\n",
              "    }\n",
              "\n",
              "    [theme=dark] .colab-df-convert {\n",
              "      background-color: #3B4455;\n",
              "      fill: #D2E3FC;\n",
              "    }\n",
              "\n",
              "    [theme=dark] .colab-df-convert:hover {\n",
              "      background-color: #434B5C;\n",
              "      box-shadow: 0px 1px 3px 1px rgba(0, 0, 0, 0.15);\n",
              "      filter: drop-shadow(0px 1px 2px rgba(0, 0, 0, 0.3));\n",
              "      fill: #FFFFFF;\n",
              "    }\n",
              "  </style>\n",
              "\n",
              "      <script>\n",
              "        const buttonEl =\n",
              "          document.querySelector('#df-73aaa8e4-5605-4ade-84f7-0dca5c535ff9 button.colab-df-convert');\n",
              "        buttonEl.style.display =\n",
              "          google.colab.kernel.accessAllowed ? 'block' : 'none';\n",
              "\n",
              "        async function convertToInteractive(key) {\n",
              "          const element = document.querySelector('#df-73aaa8e4-5605-4ade-84f7-0dca5c535ff9');\n",
              "          const dataTable =\n",
              "            await google.colab.kernel.invokeFunction('convertToInteractive',\n",
              "                                                     [key], {});\n",
              "          if (!dataTable) return;\n",
              "\n",
              "          const docLinkHtml = 'Like what you see? Visit the ' +\n",
              "            '<a target=\"_blank\" href=https://colab.research.google.com/notebooks/data_table.ipynb>data table notebook</a>'\n",
              "            + ' to learn more about interactive tables.';\n",
              "          element.innerHTML = '';\n",
              "          dataTable['output_type'] = 'display_data';\n",
              "          await google.colab.output.renderOutput(dataTable, element);\n",
              "          const docLink = document.createElement('div');\n",
              "          docLink.innerHTML = docLinkHtml;\n",
              "          element.appendChild(docLink);\n",
              "        }\n",
              "      </script>\n",
              "    </div>\n",
              "  </div>\n",
              "  "
            ]
          },
          "metadata": {},
          "execution_count": 88
        }
      ]
    },
    {
      "cell_type": "markdown",
      "source": [
        "## Outliers_preprocessing"
      ],
      "metadata": {
        "id": "mEVwGFGl8xZQ"
      }
    },
    {
      "cell_type": "markdown",
      "source": [
        "### beds"
      ],
      "metadata": {
        "id": "03dRLaACFppl"
      }
    },
    {
      "cell_type": "code",
      "source": [
        "lower_bound = data.beds.quantile(q=0.01)\n",
        "upper_bound = data.beds.quantile(q=0.99)\n",
        "data[(data.beds < lower_bound) | (data.beds > upper_bound)]"
      ],
      "metadata": {
        "colab": {
          "base_uri": "https://localhost:8080/"
        },
        "id": "MfBzuo1RFv01",
        "outputId": "616ddcda-72ee-45ab-f018-5fd460e24a40"
      },
      "execution_count": null,
      "outputs": [
        {
          "output_type": "execute_result",
          "data": {
            "text/plain": [
              "        propertyType  street  baths  city    sqft    zipcode  beds  state  \\\n",
              "214              149  298217    0.3   915 -5785.6  -0.443902   3.0      7   \n",
              "260              125  189086    3.8  1284     0.0  10.368661  11.0      3   \n",
              "334              149  222062    2.8   152     0.0  -2.959766   4.0     15   \n",
              "411              149  247664    1.8  1388     0.0  -0.731228   3.0      7   \n",
              "951              125   76613   -0.2  1118     0.0  -0.732311   3.0      7   \n",
              "...              ...     ...    ...   ...     ...        ...   ...    ...   \n",
              "376729           149  176629    0.8  1422     0.0  10.841819   3.0     27   \n",
              "376816           149  189919    2.8  1589     0.0   9.914827   3.0      3   \n",
              "376865           125   90599    2.8    40     0.0  10.040340   8.0      3   \n",
              "376884           149  152053   -0.7   967 -6501.6   7.375666   3.0     33   \n",
              "377016           149  139954   -1.2    23 -6625.6  -2.691222   3.0     35   \n",
              "\n",
              "        stories  new_target  ...  status_option  status_pending  \\\n",
              "214         0.0    504000.0  ...              0               0   \n",
              "260         0.0   2100000.0  ...              0               0   \n",
              "334         1.0   1995000.0  ...              0               0   \n",
              "411         0.0   1990000.0  ...              0               0   \n",
              "951         0.0    599000.0  ...              0               0   \n",
              "...         ...         ...  ...            ...             ...   \n",
              "376729      2.0   1599000.0  ...              0               0   \n",
              "376816      0.0  18995000.0  ...              0               0   \n",
              "376865      0.0   1750000.0  ...              0               0   \n",
              "376884      0.0    182000.0  ...              0               0   \n",
              "377016      0.0    799000.0  ...              0               0   \n",
              "\n",
              "        status_pending,  status_pf  status_price change  status_reactivated  \\\n",
              "214                   0          0                    0                   0   \n",
              "260                   0          0                    0                   0   \n",
              "334                   0          0                    0                   0   \n",
              "411                   0          0                    0                   0   \n",
              "951                   0          0                    0                   0   \n",
              "...                 ...        ...                  ...                 ...   \n",
              "376729                0          0                    0                   0   \n",
              "376816                0          0                    0                   0   \n",
              "376865                0          0                    0                   0   \n",
              "376884                0          0                    0                   0   \n",
              "377016                0          0                    0                   0   \n",
              "\n",
              "        status_temporary  status_under  fireplace_yes  PrivatePool_yes  \n",
              "214                    0             0              0                0  \n",
              "260                    0             0              0                0  \n",
              "334                    0             0              1                0  \n",
              "411                    0             0              0                1  \n",
              "951                    0             0              0                0  \n",
              "...                  ...           ...            ...              ...  \n",
              "376729                 0             0              0                0  \n",
              "376816                 0             0              1                0  \n",
              "376865                 0             0              0                0  \n",
              "376884                 0             0              1                0  \n",
              "377016                 0             0              0                0  \n",
              "\n",
              "[3412 rows x 38 columns]"
            ],
            "text/html": [
              "\n",
              "  <div id=\"df-21bad796-abdc-4cfe-9524-1814dbf24660\">\n",
              "    <div class=\"colab-df-container\">\n",
              "      <div>\n",
              "<style scoped>\n",
              "    .dataframe tbody tr th:only-of-type {\n",
              "        vertical-align: middle;\n",
              "    }\n",
              "\n",
              "    .dataframe tbody tr th {\n",
              "        vertical-align: top;\n",
              "    }\n",
              "\n",
              "    .dataframe thead th {\n",
              "        text-align: right;\n",
              "    }\n",
              "</style>\n",
              "<table border=\"1\" class=\"dataframe\">\n",
              "  <thead>\n",
              "    <tr style=\"text-align: right;\">\n",
              "      <th></th>\n",
              "      <th>propertyType</th>\n",
              "      <th>street</th>\n",
              "      <th>baths</th>\n",
              "      <th>city</th>\n",
              "      <th>sqft</th>\n",
              "      <th>zipcode</th>\n",
              "      <th>beds</th>\n",
              "      <th>state</th>\n",
              "      <th>stories</th>\n",
              "      <th>new_target</th>\n",
              "      <th>...</th>\n",
              "      <th>status_option</th>\n",
              "      <th>status_pending</th>\n",
              "      <th>status_pending,</th>\n",
              "      <th>status_pf</th>\n",
              "      <th>status_price change</th>\n",
              "      <th>status_reactivated</th>\n",
              "      <th>status_temporary</th>\n",
              "      <th>status_under</th>\n",
              "      <th>fireplace_yes</th>\n",
              "      <th>PrivatePool_yes</th>\n",
              "    </tr>\n",
              "  </thead>\n",
              "  <tbody>\n",
              "    <tr>\n",
              "      <th>214</th>\n",
              "      <td>149</td>\n",
              "      <td>298217</td>\n",
              "      <td>0.3</td>\n",
              "      <td>915</td>\n",
              "      <td>-5785.6</td>\n",
              "      <td>-0.443902</td>\n",
              "      <td>3.0</td>\n",
              "      <td>7</td>\n",
              "      <td>0.0</td>\n",
              "      <td>504000.0</td>\n",
              "      <td>...</td>\n",
              "      <td>0</td>\n",
              "      <td>0</td>\n",
              "      <td>0</td>\n",
              "      <td>0</td>\n",
              "      <td>0</td>\n",
              "      <td>0</td>\n",
              "      <td>0</td>\n",
              "      <td>0</td>\n",
              "      <td>0</td>\n",
              "      <td>0</td>\n",
              "    </tr>\n",
              "    <tr>\n",
              "      <th>260</th>\n",
              "      <td>125</td>\n",
              "      <td>189086</td>\n",
              "      <td>3.8</td>\n",
              "      <td>1284</td>\n",
              "      <td>0.0</td>\n",
              "      <td>10.368661</td>\n",
              "      <td>11.0</td>\n",
              "      <td>3</td>\n",
              "      <td>0.0</td>\n",
              "      <td>2100000.0</td>\n",
              "      <td>...</td>\n",
              "      <td>0</td>\n",
              "      <td>0</td>\n",
              "      <td>0</td>\n",
              "      <td>0</td>\n",
              "      <td>0</td>\n",
              "      <td>0</td>\n",
              "      <td>0</td>\n",
              "      <td>0</td>\n",
              "      <td>0</td>\n",
              "      <td>0</td>\n",
              "    </tr>\n",
              "    <tr>\n",
              "      <th>334</th>\n",
              "      <td>149</td>\n",
              "      <td>222062</td>\n",
              "      <td>2.8</td>\n",
              "      <td>152</td>\n",
              "      <td>0.0</td>\n",
              "      <td>-2.959766</td>\n",
              "      <td>4.0</td>\n",
              "      <td>15</td>\n",
              "      <td>1.0</td>\n",
              "      <td>1995000.0</td>\n",
              "      <td>...</td>\n",
              "      <td>0</td>\n",
              "      <td>0</td>\n",
              "      <td>0</td>\n",
              "      <td>0</td>\n",
              "      <td>0</td>\n",
              "      <td>0</td>\n",
              "      <td>0</td>\n",
              "      <td>0</td>\n",
              "      <td>1</td>\n",
              "      <td>0</td>\n",
              "    </tr>\n",
              "    <tr>\n",
              "      <th>411</th>\n",
              "      <td>149</td>\n",
              "      <td>247664</td>\n",
              "      <td>1.8</td>\n",
              "      <td>1388</td>\n",
              "      <td>0.0</td>\n",
              "      <td>-0.731228</td>\n",
              "      <td>3.0</td>\n",
              "      <td>7</td>\n",
              "      <td>0.0</td>\n",
              "      <td>1990000.0</td>\n",
              "      <td>...</td>\n",
              "      <td>0</td>\n",
              "      <td>0</td>\n",
              "      <td>0</td>\n",
              "      <td>0</td>\n",
              "      <td>0</td>\n",
              "      <td>0</td>\n",
              "      <td>0</td>\n",
              "      <td>0</td>\n",
              "      <td>0</td>\n",
              "      <td>1</td>\n",
              "    </tr>\n",
              "    <tr>\n",
              "      <th>951</th>\n",
              "      <td>125</td>\n",
              "      <td>76613</td>\n",
              "      <td>-0.2</td>\n",
              "      <td>1118</td>\n",
              "      <td>0.0</td>\n",
              "      <td>-0.732311</td>\n",
              "      <td>3.0</td>\n",
              "      <td>7</td>\n",
              "      <td>0.0</td>\n",
              "      <td>599000.0</td>\n",
              "      <td>...</td>\n",
              "      <td>0</td>\n",
              "      <td>0</td>\n",
              "      <td>0</td>\n",
              "      <td>0</td>\n",
              "      <td>0</td>\n",
              "      <td>0</td>\n",
              "      <td>0</td>\n",
              "      <td>0</td>\n",
              "      <td>0</td>\n",
              "      <td>0</td>\n",
              "    </tr>\n",
              "    <tr>\n",
              "      <th>...</th>\n",
              "      <td>...</td>\n",
              "      <td>...</td>\n",
              "      <td>...</td>\n",
              "      <td>...</td>\n",
              "      <td>...</td>\n",
              "      <td>...</td>\n",
              "      <td>...</td>\n",
              "      <td>...</td>\n",
              "      <td>...</td>\n",
              "      <td>...</td>\n",
              "      <td>...</td>\n",
              "      <td>...</td>\n",
              "      <td>...</td>\n",
              "      <td>...</td>\n",
              "      <td>...</td>\n",
              "      <td>...</td>\n",
              "      <td>...</td>\n",
              "      <td>...</td>\n",
              "      <td>...</td>\n",
              "      <td>...</td>\n",
              "      <td>...</td>\n",
              "    </tr>\n",
              "    <tr>\n",
              "      <th>376729</th>\n",
              "      <td>149</td>\n",
              "      <td>176629</td>\n",
              "      <td>0.8</td>\n",
              "      <td>1422</td>\n",
              "      <td>0.0</td>\n",
              "      <td>10.841819</td>\n",
              "      <td>3.0</td>\n",
              "      <td>27</td>\n",
              "      <td>2.0</td>\n",
              "      <td>1599000.0</td>\n",
              "      <td>...</td>\n",
              "      <td>0</td>\n",
              "      <td>0</td>\n",
              "      <td>0</td>\n",
              "      <td>0</td>\n",
              "      <td>0</td>\n",
              "      <td>0</td>\n",
              "      <td>0</td>\n",
              "      <td>0</td>\n",
              "      <td>0</td>\n",
              "      <td>0</td>\n",
              "    </tr>\n",
              "    <tr>\n",
              "      <th>376816</th>\n",
              "      <td>149</td>\n",
              "      <td>189919</td>\n",
              "      <td>2.8</td>\n",
              "      <td>1589</td>\n",
              "      <td>0.0</td>\n",
              "      <td>9.914827</td>\n",
              "      <td>3.0</td>\n",
              "      <td>3</td>\n",
              "      <td>0.0</td>\n",
              "      <td>18995000.0</td>\n",
              "      <td>...</td>\n",
              "      <td>0</td>\n",
              "      <td>0</td>\n",
              "      <td>0</td>\n",
              "      <td>0</td>\n",
              "      <td>0</td>\n",
              "      <td>0</td>\n",
              "      <td>0</td>\n",
              "      <td>0</td>\n",
              "      <td>1</td>\n",
              "      <td>0</td>\n",
              "    </tr>\n",
              "    <tr>\n",
              "      <th>376865</th>\n",
              "      <td>125</td>\n",
              "      <td>90599</td>\n",
              "      <td>2.8</td>\n",
              "      <td>40</td>\n",
              "      <td>0.0</td>\n",
              "      <td>10.040340</td>\n",
              "      <td>8.0</td>\n",
              "      <td>3</td>\n",
              "      <td>0.0</td>\n",
              "      <td>1750000.0</td>\n",
              "      <td>...</td>\n",
              "      <td>0</td>\n",
              "      <td>0</td>\n",
              "      <td>0</td>\n",
              "      <td>0</td>\n",
              "      <td>0</td>\n",
              "      <td>0</td>\n",
              "      <td>0</td>\n",
              "      <td>0</td>\n",
              "      <td>0</td>\n",
              "      <td>0</td>\n",
              "    </tr>\n",
              "    <tr>\n",
              "      <th>376884</th>\n",
              "      <td>149</td>\n",
              "      <td>152053</td>\n",
              "      <td>-0.7</td>\n",
              "      <td>967</td>\n",
              "      <td>-6501.6</td>\n",
              "      <td>7.375666</td>\n",
              "      <td>3.0</td>\n",
              "      <td>33</td>\n",
              "      <td>0.0</td>\n",
              "      <td>182000.0</td>\n",
              "      <td>...</td>\n",
              "      <td>0</td>\n",
              "      <td>0</td>\n",
              "      <td>0</td>\n",
              "      <td>0</td>\n",
              "      <td>0</td>\n",
              "      <td>0</td>\n",
              "      <td>0</td>\n",
              "      <td>0</td>\n",
              "      <td>1</td>\n",
              "      <td>0</td>\n",
              "    </tr>\n",
              "    <tr>\n",
              "      <th>377016</th>\n",
              "      <td>149</td>\n",
              "      <td>139954</td>\n",
              "      <td>-1.2</td>\n",
              "      <td>23</td>\n",
              "      <td>-6625.6</td>\n",
              "      <td>-2.691222</td>\n",
              "      <td>3.0</td>\n",
              "      <td>35</td>\n",
              "      <td>0.0</td>\n",
              "      <td>799000.0</td>\n",
              "      <td>...</td>\n",
              "      <td>0</td>\n",
              "      <td>0</td>\n",
              "      <td>0</td>\n",
              "      <td>0</td>\n",
              "      <td>0</td>\n",
              "      <td>0</td>\n",
              "      <td>0</td>\n",
              "      <td>0</td>\n",
              "      <td>0</td>\n",
              "      <td>0</td>\n",
              "    </tr>\n",
              "  </tbody>\n",
              "</table>\n",
              "<p>3412 rows × 38 columns</p>\n",
              "</div>\n",
              "      <button class=\"colab-df-convert\" onclick=\"convertToInteractive('df-21bad796-abdc-4cfe-9524-1814dbf24660')\"\n",
              "              title=\"Convert this dataframe to an interactive table.\"\n",
              "              style=\"display:none;\">\n",
              "        \n",
              "  <svg xmlns=\"http://www.w3.org/2000/svg\" height=\"24px\"viewBox=\"0 0 24 24\"\n",
              "       width=\"24px\">\n",
              "    <path d=\"M0 0h24v24H0V0z\" fill=\"none\"/>\n",
              "    <path d=\"M18.56 5.44l.94 2.06.94-2.06 2.06-.94-2.06-.94-.94-2.06-.94 2.06-2.06.94zm-11 1L8.5 8.5l.94-2.06 2.06-.94-2.06-.94L8.5 2.5l-.94 2.06-2.06.94zm10 10l.94 2.06.94-2.06 2.06-.94-2.06-.94-.94-2.06-.94 2.06-2.06.94z\"/><path d=\"M17.41 7.96l-1.37-1.37c-.4-.4-.92-.59-1.43-.59-.52 0-1.04.2-1.43.59L10.3 9.45l-7.72 7.72c-.78.78-.78 2.05 0 2.83L4 21.41c.39.39.9.59 1.41.59.51 0 1.02-.2 1.41-.59l7.78-7.78 2.81-2.81c.8-.78.8-2.07 0-2.86zM5.41 20L4 18.59l7.72-7.72 1.47 1.35L5.41 20z\"/>\n",
              "  </svg>\n",
              "      </button>\n",
              "      \n",
              "  <style>\n",
              "    .colab-df-container {\n",
              "      display:flex;\n",
              "      flex-wrap:wrap;\n",
              "      gap: 12px;\n",
              "    }\n",
              "\n",
              "    .colab-df-convert {\n",
              "      background-color: #E8F0FE;\n",
              "      border: none;\n",
              "      border-radius: 50%;\n",
              "      cursor: pointer;\n",
              "      display: none;\n",
              "      fill: #1967D2;\n",
              "      height: 32px;\n",
              "      padding: 0 0 0 0;\n",
              "      width: 32px;\n",
              "    }\n",
              "\n",
              "    .colab-df-convert:hover {\n",
              "      background-color: #E2EBFA;\n",
              "      box-shadow: 0px 1px 2px rgba(60, 64, 67, 0.3), 0px 1px 3px 1px rgba(60, 64, 67, 0.15);\n",
              "      fill: #174EA6;\n",
              "    }\n",
              "\n",
              "    [theme=dark] .colab-df-convert {\n",
              "      background-color: #3B4455;\n",
              "      fill: #D2E3FC;\n",
              "    }\n",
              "\n",
              "    [theme=dark] .colab-df-convert:hover {\n",
              "      background-color: #434B5C;\n",
              "      box-shadow: 0px 1px 3px 1px rgba(0, 0, 0, 0.15);\n",
              "      filter: drop-shadow(0px 1px 2px rgba(0, 0, 0, 0.3));\n",
              "      fill: #FFFFFF;\n",
              "    }\n",
              "  </style>\n",
              "\n",
              "      <script>\n",
              "        const buttonEl =\n",
              "          document.querySelector('#df-21bad796-abdc-4cfe-9524-1814dbf24660 button.colab-df-convert');\n",
              "        buttonEl.style.display =\n",
              "          google.colab.kernel.accessAllowed ? 'block' : 'none';\n",
              "\n",
              "        async function convertToInteractive(key) {\n",
              "          const element = document.querySelector('#df-21bad796-abdc-4cfe-9524-1814dbf24660');\n",
              "          const dataTable =\n",
              "            await google.colab.kernel.invokeFunction('convertToInteractive',\n",
              "                                                     [key], {});\n",
              "          if (!dataTable) return;\n",
              "\n",
              "          const docLinkHtml = 'Like what you see? Visit the ' +\n",
              "            '<a target=\"_blank\" href=https://colab.research.google.com/notebooks/data_table.ipynb>data table notebook</a>'\n",
              "            + ' to learn more about interactive tables.';\n",
              "          element.innerHTML = '';\n",
              "          dataTable['output_type'] = 'display_data';\n",
              "          await google.colab.output.renderOutput(dataTable, element);\n",
              "          const docLink = document.createElement('div');\n",
              "          docLink.innerHTML = docLinkHtml;\n",
              "          element.appendChild(docLink);\n",
              "        }\n",
              "      </script>\n",
              "    </div>\n",
              "  </div>\n",
              "  "
            ]
          },
          "metadata": {},
          "execution_count": 89
        }
      ]
    },
    {
      "cell_type": "code",
      "source": [
        "data.replace(to_replace=data[(data.beds < lower_bound) | (data.beds > upper_bound)].beds, value=data.beds.mean(), inplace=True)"
      ],
      "metadata": {
        "id": "gHaGje8CgZbo"
      },
      "execution_count": null,
      "outputs": []
    },
    {
      "cell_type": "code",
      "source": [
        "data[(data.beds < lower_bound) | (data.beds > upper_bound)].beds"
      ],
      "metadata": {
        "colab": {
          "base_uri": "https://localhost:8080/"
        },
        "id": "Lzxb2rYsbv-x",
        "outputId": "b653110d-ffac-4218-8b76-4815062ba8c0"
      },
      "execution_count": null,
      "outputs": [
        {
          "output_type": "execute_result",
          "data": {
            "text/plain": [
              "214        3.0\n",
              "260       11.0\n",
              "334        4.0\n",
              "411        3.0\n",
              "951        3.0\n",
              "          ... \n",
              "376729     3.0\n",
              "376816     3.0\n",
              "376865     8.0\n",
              "376884     3.0\n",
              "377016     3.0\n",
              "Name: beds, Length: 3412, dtype: float64"
            ]
          },
          "metadata": {},
          "execution_count": 91
        }
      ]
    },
    {
      "cell_type": "markdown",
      "source": [
        "### stories"
      ],
      "metadata": {
        "id": "miTjvvr5FwUR"
      }
    },
    {
      "cell_type": "code",
      "source": [
        "lower_bound = data.stories.quantile(q=0.025)\n",
        "upper_bound = data.stories.quantile(q=0.975)\n",
        "data[(data.stories < lower_bound) | (data.stories > upper_bound)]"
      ],
      "metadata": {
        "colab": {
          "base_uri": "https://localhost:8080/"
        },
        "id": "blv7tTjsFzTK",
        "outputId": "e3efbd7f-7f3d-4588-f960-2a26643e4814"
      },
      "execution_count": null,
      "outputs": [
        {
          "output_type": "execute_result",
          "data": {
            "text/plain": [
              "        propertyType  street  baths  city    sqft   zipcode  beds  state  \\\n",
              "67                40  101124    0.0   320     0.0  4.226998   0.0     11   \n",
              "123               40  161824    0.0   969     0.0  9.373585   0.0     23   \n",
              "170               40  187759    0.0   609     0.0 -0.703777   0.0      7   \n",
              "202               49  170416    0.0  1226     0.0 -4.907479   0.0     24   \n",
              "402               40  298042    0.0  1369     0.0 -0.754705   0.0      7   \n",
              "...              ...     ...    ...   ...     ...       ...   ...    ...   \n",
              "376880            49  229424    0.0   210     0.0 -4.828559   0.0     24   \n",
              "377023            40   64340    0.0   215     0.0 -4.691668   0.0     24   \n",
              "377090            40  207286    0.0   796     0.0 -0.755608   0.0      7   \n",
              "377102            40  166564   -3.2   609 -8077.6 -0.703777  -2.0      7   \n",
              "377181            40  173271    0.0   320     0.0  4.235306   0.0     11   \n",
              "\n",
              "        stories  new_target  ...  status_option  status_pending  \\\n",
              "67          7.0    749000.0  ...              0               0   \n",
              "123         7.0    519900.0  ...              0               0   \n",
              "170         7.0    279900.0  ...              0               0   \n",
              "202        12.0    455000.0  ...              0               0   \n",
              "402         3.0    150000.0  ...              0               0   \n",
              "...         ...         ...  ...            ...             ...   \n",
              "376880      4.0    229000.0  ...              0               0   \n",
              "377023      6.0    750000.0  ...              0               0   \n",
              "377090      3.0    125000.0  ...              0               0   \n",
              "377102      7.0    149999.0  ...              0               0   \n",
              "377181      7.0    674999.0  ...              0               0   \n",
              "\n",
              "        status_pending,  status_pf  status_price change  status_reactivated  \\\n",
              "67                    0          0                    0                   0   \n",
              "123                   0          0                    0                   0   \n",
              "170                   0          0                    0                   0   \n",
              "202                   0          0                    0                   0   \n",
              "402                   0          0                    0                   0   \n",
              "...                 ...        ...                  ...                 ...   \n",
              "376880                0          0                    0                   0   \n",
              "377023                0          0                    0                   0   \n",
              "377090                0          0                    0                   0   \n",
              "377102                0          0                    0                   0   \n",
              "377181                0          0                    0                   0   \n",
              "\n",
              "        status_temporary  status_under  fireplace_yes  PrivatePool_yes  \n",
              "67                     0             0              0                1  \n",
              "123                    0             0              0                1  \n",
              "170                    0             0              0                0  \n",
              "202                    0             0              0                0  \n",
              "402                    0             0              0                0  \n",
              "...                  ...           ...            ...              ...  \n",
              "376880                 0             0              0                0  \n",
              "377023                 0             0              0                0  \n",
              "377090                 0             0              0                0  \n",
              "377102                 0             0              0                1  \n",
              "377181                 0             0              0                0  \n",
              "\n",
              "[7834 rows x 38 columns]"
            ],
            "text/html": [
              "\n",
              "  <div id=\"df-7e91f765-40a9-4efe-b846-783f2041e56f\">\n",
              "    <div class=\"colab-df-container\">\n",
              "      <div>\n",
              "<style scoped>\n",
              "    .dataframe tbody tr th:only-of-type {\n",
              "        vertical-align: middle;\n",
              "    }\n",
              "\n",
              "    .dataframe tbody tr th {\n",
              "        vertical-align: top;\n",
              "    }\n",
              "\n",
              "    .dataframe thead th {\n",
              "        text-align: right;\n",
              "    }\n",
              "</style>\n",
              "<table border=\"1\" class=\"dataframe\">\n",
              "  <thead>\n",
              "    <tr style=\"text-align: right;\">\n",
              "      <th></th>\n",
              "      <th>propertyType</th>\n",
              "      <th>street</th>\n",
              "      <th>baths</th>\n",
              "      <th>city</th>\n",
              "      <th>sqft</th>\n",
              "      <th>zipcode</th>\n",
              "      <th>beds</th>\n",
              "      <th>state</th>\n",
              "      <th>stories</th>\n",
              "      <th>new_target</th>\n",
              "      <th>...</th>\n",
              "      <th>status_option</th>\n",
              "      <th>status_pending</th>\n",
              "      <th>status_pending,</th>\n",
              "      <th>status_pf</th>\n",
              "      <th>status_price change</th>\n",
              "      <th>status_reactivated</th>\n",
              "      <th>status_temporary</th>\n",
              "      <th>status_under</th>\n",
              "      <th>fireplace_yes</th>\n",
              "      <th>PrivatePool_yes</th>\n",
              "    </tr>\n",
              "  </thead>\n",
              "  <tbody>\n",
              "    <tr>\n",
              "      <th>67</th>\n",
              "      <td>40</td>\n",
              "      <td>101124</td>\n",
              "      <td>0.0</td>\n",
              "      <td>320</td>\n",
              "      <td>0.0</td>\n",
              "      <td>4.226998</td>\n",
              "      <td>0.0</td>\n",
              "      <td>11</td>\n",
              "      <td>7.0</td>\n",
              "      <td>749000.0</td>\n",
              "      <td>...</td>\n",
              "      <td>0</td>\n",
              "      <td>0</td>\n",
              "      <td>0</td>\n",
              "      <td>0</td>\n",
              "      <td>0</td>\n",
              "      <td>0</td>\n",
              "      <td>0</td>\n",
              "      <td>0</td>\n",
              "      <td>0</td>\n",
              "      <td>1</td>\n",
              "    </tr>\n",
              "    <tr>\n",
              "      <th>123</th>\n",
              "      <td>40</td>\n",
              "      <td>161824</td>\n",
              "      <td>0.0</td>\n",
              "      <td>969</td>\n",
              "      <td>0.0</td>\n",
              "      <td>9.373585</td>\n",
              "      <td>0.0</td>\n",
              "      <td>23</td>\n",
              "      <td>7.0</td>\n",
              "      <td>519900.0</td>\n",
              "      <td>...</td>\n",
              "      <td>0</td>\n",
              "      <td>0</td>\n",
              "      <td>0</td>\n",
              "      <td>0</td>\n",
              "      <td>0</td>\n",
              "      <td>0</td>\n",
              "      <td>0</td>\n",
              "      <td>0</td>\n",
              "      <td>0</td>\n",
              "      <td>1</td>\n",
              "    </tr>\n",
              "    <tr>\n",
              "      <th>170</th>\n",
              "      <td>40</td>\n",
              "      <td>187759</td>\n",
              "      <td>0.0</td>\n",
              "      <td>609</td>\n",
              "      <td>0.0</td>\n",
              "      <td>-0.703777</td>\n",
              "      <td>0.0</td>\n",
              "      <td>7</td>\n",
              "      <td>7.0</td>\n",
              "      <td>279900.0</td>\n",
              "      <td>...</td>\n",
              "      <td>0</td>\n",
              "      <td>0</td>\n",
              "      <td>0</td>\n",
              "      <td>0</td>\n",
              "      <td>0</td>\n",
              "      <td>0</td>\n",
              "      <td>0</td>\n",
              "      <td>0</td>\n",
              "      <td>0</td>\n",
              "      <td>0</td>\n",
              "    </tr>\n",
              "    <tr>\n",
              "      <th>202</th>\n",
              "      <td>49</td>\n",
              "      <td>170416</td>\n",
              "      <td>0.0</td>\n",
              "      <td>1226</td>\n",
              "      <td>0.0</td>\n",
              "      <td>-4.907479</td>\n",
              "      <td>0.0</td>\n",
              "      <td>24</td>\n",
              "      <td>12.0</td>\n",
              "      <td>455000.0</td>\n",
              "      <td>...</td>\n",
              "      <td>0</td>\n",
              "      <td>0</td>\n",
              "      <td>0</td>\n",
              "      <td>0</td>\n",
              "      <td>0</td>\n",
              "      <td>0</td>\n",
              "      <td>0</td>\n",
              "      <td>0</td>\n",
              "      <td>0</td>\n",
              "      <td>0</td>\n",
              "    </tr>\n",
              "    <tr>\n",
              "      <th>402</th>\n",
              "      <td>40</td>\n",
              "      <td>298042</td>\n",
              "      <td>0.0</td>\n",
              "      <td>1369</td>\n",
              "      <td>0.0</td>\n",
              "      <td>-0.754705</td>\n",
              "      <td>0.0</td>\n",
              "      <td>7</td>\n",
              "      <td>3.0</td>\n",
              "      <td>150000.0</td>\n",
              "      <td>...</td>\n",
              "      <td>0</td>\n",
              "      <td>0</td>\n",
              "      <td>0</td>\n",
              "      <td>0</td>\n",
              "      <td>0</td>\n",
              "      <td>0</td>\n",
              "      <td>0</td>\n",
              "      <td>0</td>\n",
              "      <td>0</td>\n",
              "      <td>0</td>\n",
              "    </tr>\n",
              "    <tr>\n",
              "      <th>...</th>\n",
              "      <td>...</td>\n",
              "      <td>...</td>\n",
              "      <td>...</td>\n",
              "      <td>...</td>\n",
              "      <td>...</td>\n",
              "      <td>...</td>\n",
              "      <td>...</td>\n",
              "      <td>...</td>\n",
              "      <td>...</td>\n",
              "      <td>...</td>\n",
              "      <td>...</td>\n",
              "      <td>...</td>\n",
              "      <td>...</td>\n",
              "      <td>...</td>\n",
              "      <td>...</td>\n",
              "      <td>...</td>\n",
              "      <td>...</td>\n",
              "      <td>...</td>\n",
              "      <td>...</td>\n",
              "      <td>...</td>\n",
              "      <td>...</td>\n",
              "    </tr>\n",
              "    <tr>\n",
              "      <th>376880</th>\n",
              "      <td>49</td>\n",
              "      <td>229424</td>\n",
              "      <td>0.0</td>\n",
              "      <td>210</td>\n",
              "      <td>0.0</td>\n",
              "      <td>-4.828559</td>\n",
              "      <td>0.0</td>\n",
              "      <td>24</td>\n",
              "      <td>4.0</td>\n",
              "      <td>229000.0</td>\n",
              "      <td>...</td>\n",
              "      <td>0</td>\n",
              "      <td>0</td>\n",
              "      <td>0</td>\n",
              "      <td>0</td>\n",
              "      <td>0</td>\n",
              "      <td>0</td>\n",
              "      <td>0</td>\n",
              "      <td>0</td>\n",
              "      <td>0</td>\n",
              "      <td>0</td>\n",
              "    </tr>\n",
              "    <tr>\n",
              "      <th>377023</th>\n",
              "      <td>40</td>\n",
              "      <td>64340</td>\n",
              "      <td>0.0</td>\n",
              "      <td>215</td>\n",
              "      <td>0.0</td>\n",
              "      <td>-4.691668</td>\n",
              "      <td>0.0</td>\n",
              "      <td>24</td>\n",
              "      <td>6.0</td>\n",
              "      <td>750000.0</td>\n",
              "      <td>...</td>\n",
              "      <td>0</td>\n",
              "      <td>0</td>\n",
              "      <td>0</td>\n",
              "      <td>0</td>\n",
              "      <td>0</td>\n",
              "      <td>0</td>\n",
              "      <td>0</td>\n",
              "      <td>0</td>\n",
              "      <td>0</td>\n",
              "      <td>0</td>\n",
              "    </tr>\n",
              "    <tr>\n",
              "      <th>377090</th>\n",
              "      <td>40</td>\n",
              "      <td>207286</td>\n",
              "      <td>0.0</td>\n",
              "      <td>796</td>\n",
              "      <td>0.0</td>\n",
              "      <td>-0.755608</td>\n",
              "      <td>0.0</td>\n",
              "      <td>7</td>\n",
              "      <td>3.0</td>\n",
              "      <td>125000.0</td>\n",
              "      <td>...</td>\n",
              "      <td>0</td>\n",
              "      <td>0</td>\n",
              "      <td>0</td>\n",
              "      <td>0</td>\n",
              "      <td>0</td>\n",
              "      <td>0</td>\n",
              "      <td>0</td>\n",
              "      <td>0</td>\n",
              "      <td>0</td>\n",
              "      <td>0</td>\n",
              "    </tr>\n",
              "    <tr>\n",
              "      <th>377102</th>\n",
              "      <td>40</td>\n",
              "      <td>166564</td>\n",
              "      <td>-3.2</td>\n",
              "      <td>609</td>\n",
              "      <td>-8077.6</td>\n",
              "      <td>-0.703777</td>\n",
              "      <td>-2.0</td>\n",
              "      <td>7</td>\n",
              "      <td>7.0</td>\n",
              "      <td>149999.0</td>\n",
              "      <td>...</td>\n",
              "      <td>0</td>\n",
              "      <td>0</td>\n",
              "      <td>0</td>\n",
              "      <td>0</td>\n",
              "      <td>0</td>\n",
              "      <td>0</td>\n",
              "      <td>0</td>\n",
              "      <td>0</td>\n",
              "      <td>0</td>\n",
              "      <td>1</td>\n",
              "    </tr>\n",
              "    <tr>\n",
              "      <th>377181</th>\n",
              "      <td>40</td>\n",
              "      <td>173271</td>\n",
              "      <td>0.0</td>\n",
              "      <td>320</td>\n",
              "      <td>0.0</td>\n",
              "      <td>4.235306</td>\n",
              "      <td>0.0</td>\n",
              "      <td>11</td>\n",
              "      <td>7.0</td>\n",
              "      <td>674999.0</td>\n",
              "      <td>...</td>\n",
              "      <td>0</td>\n",
              "      <td>0</td>\n",
              "      <td>0</td>\n",
              "      <td>0</td>\n",
              "      <td>0</td>\n",
              "      <td>0</td>\n",
              "      <td>0</td>\n",
              "      <td>0</td>\n",
              "      <td>0</td>\n",
              "      <td>0</td>\n",
              "    </tr>\n",
              "  </tbody>\n",
              "</table>\n",
              "<p>7834 rows × 38 columns</p>\n",
              "</div>\n",
              "      <button class=\"colab-df-convert\" onclick=\"convertToInteractive('df-7e91f765-40a9-4efe-b846-783f2041e56f')\"\n",
              "              title=\"Convert this dataframe to an interactive table.\"\n",
              "              style=\"display:none;\">\n",
              "        \n",
              "  <svg xmlns=\"http://www.w3.org/2000/svg\" height=\"24px\"viewBox=\"0 0 24 24\"\n",
              "       width=\"24px\">\n",
              "    <path d=\"M0 0h24v24H0V0z\" fill=\"none\"/>\n",
              "    <path d=\"M18.56 5.44l.94 2.06.94-2.06 2.06-.94-2.06-.94-.94-2.06-.94 2.06-2.06.94zm-11 1L8.5 8.5l.94-2.06 2.06-.94-2.06-.94L8.5 2.5l-.94 2.06-2.06.94zm10 10l.94 2.06.94-2.06 2.06-.94-2.06-.94-.94-2.06-.94 2.06-2.06.94z\"/><path d=\"M17.41 7.96l-1.37-1.37c-.4-.4-.92-.59-1.43-.59-.52 0-1.04.2-1.43.59L10.3 9.45l-7.72 7.72c-.78.78-.78 2.05 0 2.83L4 21.41c.39.39.9.59 1.41.59.51 0 1.02-.2 1.41-.59l7.78-7.78 2.81-2.81c.8-.78.8-2.07 0-2.86zM5.41 20L4 18.59l7.72-7.72 1.47 1.35L5.41 20z\"/>\n",
              "  </svg>\n",
              "      </button>\n",
              "      \n",
              "  <style>\n",
              "    .colab-df-container {\n",
              "      display:flex;\n",
              "      flex-wrap:wrap;\n",
              "      gap: 12px;\n",
              "    }\n",
              "\n",
              "    .colab-df-convert {\n",
              "      background-color: #E8F0FE;\n",
              "      border: none;\n",
              "      border-radius: 50%;\n",
              "      cursor: pointer;\n",
              "      display: none;\n",
              "      fill: #1967D2;\n",
              "      height: 32px;\n",
              "      padding: 0 0 0 0;\n",
              "      width: 32px;\n",
              "    }\n",
              "\n",
              "    .colab-df-convert:hover {\n",
              "      background-color: #E2EBFA;\n",
              "      box-shadow: 0px 1px 2px rgba(60, 64, 67, 0.3), 0px 1px 3px 1px rgba(60, 64, 67, 0.15);\n",
              "      fill: #174EA6;\n",
              "    }\n",
              "\n",
              "    [theme=dark] .colab-df-convert {\n",
              "      background-color: #3B4455;\n",
              "      fill: #D2E3FC;\n",
              "    }\n",
              "\n",
              "    [theme=dark] .colab-df-convert:hover {\n",
              "      background-color: #434B5C;\n",
              "      box-shadow: 0px 1px 3px 1px rgba(0, 0, 0, 0.15);\n",
              "      filter: drop-shadow(0px 1px 2px rgba(0, 0, 0, 0.3));\n",
              "      fill: #FFFFFF;\n",
              "    }\n",
              "  </style>\n",
              "\n",
              "      <script>\n",
              "        const buttonEl =\n",
              "          document.querySelector('#df-7e91f765-40a9-4efe-b846-783f2041e56f button.colab-df-convert');\n",
              "        buttonEl.style.display =\n",
              "          google.colab.kernel.accessAllowed ? 'block' : 'none';\n",
              "\n",
              "        async function convertToInteractive(key) {\n",
              "          const element = document.querySelector('#df-7e91f765-40a9-4efe-b846-783f2041e56f');\n",
              "          const dataTable =\n",
              "            await google.colab.kernel.invokeFunction('convertToInteractive',\n",
              "                                                     [key], {});\n",
              "          if (!dataTable) return;\n",
              "\n",
              "          const docLinkHtml = 'Like what you see? Visit the ' +\n",
              "            '<a target=\"_blank\" href=https://colab.research.google.com/notebooks/data_table.ipynb>data table notebook</a>'\n",
              "            + ' to learn more about interactive tables.';\n",
              "          element.innerHTML = '';\n",
              "          dataTable['output_type'] = 'display_data';\n",
              "          await google.colab.output.renderOutput(dataTable, element);\n",
              "          const docLink = document.createElement('div');\n",
              "          docLink.innerHTML = docLinkHtml;\n",
              "          element.appendChild(docLink);\n",
              "        }\n",
              "      </script>\n",
              "    </div>\n",
              "  </div>\n",
              "  "
            ]
          },
          "metadata": {},
          "execution_count": 92
        }
      ]
    },
    {
      "cell_type": "code",
      "source": [
        "data[(data.stories < lower_bound) | (data.stories > upper_bound)].stories.apply(lambda x:data.stories.mean())"
      ],
      "metadata": {
        "colab": {
          "base_uri": "https://localhost:8080/"
        },
        "id": "DfSU8WDnNvBT",
        "outputId": "6f883a9f-31c2-448f-b27f-343824d1b629"
      },
      "execution_count": null,
      "outputs": [
        {
          "output_type": "execute_result",
          "data": {
            "text/plain": [
              "67       -0.033396\n",
              "123      -0.033396\n",
              "170      -0.033396\n",
              "202      -0.033396\n",
              "402      -0.033396\n",
              "            ...   \n",
              "376880   -0.033396\n",
              "377023   -0.033396\n",
              "377090   -0.033396\n",
              "377102   -0.033396\n",
              "377181   -0.033396\n",
              "Name: stories, Length: 7834, dtype: float64"
            ]
          },
          "metadata": {},
          "execution_count": 93
        }
      ]
    },
    {
      "cell_type": "code",
      "source": [
        "data[(data.stories < lower_bound) | (data.stories > upper_bound)]"
      ],
      "metadata": {
        "colab": {
          "base_uri": "https://localhost:8080/"
        },
        "id": "2rc1XsXadzme",
        "outputId": "799ec502-5d6e-4ad4-f648-81b20943da37"
      },
      "execution_count": null,
      "outputs": [
        {
          "output_type": "execute_result",
          "data": {
            "text/plain": [
              "        propertyType  street  baths  city    sqft   zipcode  beds  state  \\\n",
              "67                40  101124    0.0   320     0.0  4.226998   0.0     11   \n",
              "123               40  161824    0.0   969     0.0  9.373585   0.0     23   \n",
              "170               40  187759    0.0   609     0.0 -0.703777   0.0      7   \n",
              "202               49  170416    0.0  1226     0.0 -4.907479   0.0     24   \n",
              "402               40  298042    0.0  1369     0.0 -0.754705   0.0      7   \n",
              "...              ...     ...    ...   ...     ...       ...   ...    ...   \n",
              "376880            49  229424    0.0   210     0.0 -4.828559   0.0     24   \n",
              "377023            40   64340    0.0   215     0.0 -4.691668   0.0     24   \n",
              "377090            40  207286    0.0   796     0.0 -0.755608   0.0      7   \n",
              "377102            40  166564   -3.2   609 -8077.6 -0.703777  -2.0      7   \n",
              "377181            40  173271    0.0   320     0.0  4.235306   0.0     11   \n",
              "\n",
              "        stories  new_target  ...  status_option  status_pending  \\\n",
              "67          7.0    749000.0  ...              0               0   \n",
              "123         7.0    519900.0  ...              0               0   \n",
              "170         7.0    279900.0  ...              0               0   \n",
              "202        12.0    455000.0  ...              0               0   \n",
              "402         3.0    150000.0  ...              0               0   \n",
              "...         ...         ...  ...            ...             ...   \n",
              "376880      4.0    229000.0  ...              0               0   \n",
              "377023      6.0    750000.0  ...              0               0   \n",
              "377090      3.0    125000.0  ...              0               0   \n",
              "377102      7.0    149999.0  ...              0               0   \n",
              "377181      7.0    674999.0  ...              0               0   \n",
              "\n",
              "        status_pending,  status_pf  status_price change  status_reactivated  \\\n",
              "67                    0          0                    0                   0   \n",
              "123                   0          0                    0                   0   \n",
              "170                   0          0                    0                   0   \n",
              "202                   0          0                    0                   0   \n",
              "402                   0          0                    0                   0   \n",
              "...                 ...        ...                  ...                 ...   \n",
              "376880                0          0                    0                   0   \n",
              "377023                0          0                    0                   0   \n",
              "377090                0          0                    0                   0   \n",
              "377102                0          0                    0                   0   \n",
              "377181                0          0                    0                   0   \n",
              "\n",
              "        status_temporary  status_under  fireplace_yes  PrivatePool_yes  \n",
              "67                     0             0              0                1  \n",
              "123                    0             0              0                1  \n",
              "170                    0             0              0                0  \n",
              "202                    0             0              0                0  \n",
              "402                    0             0              0                0  \n",
              "...                  ...           ...            ...              ...  \n",
              "376880                 0             0              0                0  \n",
              "377023                 0             0              0                0  \n",
              "377090                 0             0              0                0  \n",
              "377102                 0             0              0                1  \n",
              "377181                 0             0              0                0  \n",
              "\n",
              "[7834 rows x 38 columns]"
            ],
            "text/html": [
              "\n",
              "  <div id=\"df-060f0f63-e3c8-4da1-9021-06e44df6a53b\">\n",
              "    <div class=\"colab-df-container\">\n",
              "      <div>\n",
              "<style scoped>\n",
              "    .dataframe tbody tr th:only-of-type {\n",
              "        vertical-align: middle;\n",
              "    }\n",
              "\n",
              "    .dataframe tbody tr th {\n",
              "        vertical-align: top;\n",
              "    }\n",
              "\n",
              "    .dataframe thead th {\n",
              "        text-align: right;\n",
              "    }\n",
              "</style>\n",
              "<table border=\"1\" class=\"dataframe\">\n",
              "  <thead>\n",
              "    <tr style=\"text-align: right;\">\n",
              "      <th></th>\n",
              "      <th>propertyType</th>\n",
              "      <th>street</th>\n",
              "      <th>baths</th>\n",
              "      <th>city</th>\n",
              "      <th>sqft</th>\n",
              "      <th>zipcode</th>\n",
              "      <th>beds</th>\n",
              "      <th>state</th>\n",
              "      <th>stories</th>\n",
              "      <th>new_target</th>\n",
              "      <th>...</th>\n",
              "      <th>status_option</th>\n",
              "      <th>status_pending</th>\n",
              "      <th>status_pending,</th>\n",
              "      <th>status_pf</th>\n",
              "      <th>status_price change</th>\n",
              "      <th>status_reactivated</th>\n",
              "      <th>status_temporary</th>\n",
              "      <th>status_under</th>\n",
              "      <th>fireplace_yes</th>\n",
              "      <th>PrivatePool_yes</th>\n",
              "    </tr>\n",
              "  </thead>\n",
              "  <tbody>\n",
              "    <tr>\n",
              "      <th>67</th>\n",
              "      <td>40</td>\n",
              "      <td>101124</td>\n",
              "      <td>0.0</td>\n",
              "      <td>320</td>\n",
              "      <td>0.0</td>\n",
              "      <td>4.226998</td>\n",
              "      <td>0.0</td>\n",
              "      <td>11</td>\n",
              "      <td>7.0</td>\n",
              "      <td>749000.0</td>\n",
              "      <td>...</td>\n",
              "      <td>0</td>\n",
              "      <td>0</td>\n",
              "      <td>0</td>\n",
              "      <td>0</td>\n",
              "      <td>0</td>\n",
              "      <td>0</td>\n",
              "      <td>0</td>\n",
              "      <td>0</td>\n",
              "      <td>0</td>\n",
              "      <td>1</td>\n",
              "    </tr>\n",
              "    <tr>\n",
              "      <th>123</th>\n",
              "      <td>40</td>\n",
              "      <td>161824</td>\n",
              "      <td>0.0</td>\n",
              "      <td>969</td>\n",
              "      <td>0.0</td>\n",
              "      <td>9.373585</td>\n",
              "      <td>0.0</td>\n",
              "      <td>23</td>\n",
              "      <td>7.0</td>\n",
              "      <td>519900.0</td>\n",
              "      <td>...</td>\n",
              "      <td>0</td>\n",
              "      <td>0</td>\n",
              "      <td>0</td>\n",
              "      <td>0</td>\n",
              "      <td>0</td>\n",
              "      <td>0</td>\n",
              "      <td>0</td>\n",
              "      <td>0</td>\n",
              "      <td>0</td>\n",
              "      <td>1</td>\n",
              "    </tr>\n",
              "    <tr>\n",
              "      <th>170</th>\n",
              "      <td>40</td>\n",
              "      <td>187759</td>\n",
              "      <td>0.0</td>\n",
              "      <td>609</td>\n",
              "      <td>0.0</td>\n",
              "      <td>-0.703777</td>\n",
              "      <td>0.0</td>\n",
              "      <td>7</td>\n",
              "      <td>7.0</td>\n",
              "      <td>279900.0</td>\n",
              "      <td>...</td>\n",
              "      <td>0</td>\n",
              "      <td>0</td>\n",
              "      <td>0</td>\n",
              "      <td>0</td>\n",
              "      <td>0</td>\n",
              "      <td>0</td>\n",
              "      <td>0</td>\n",
              "      <td>0</td>\n",
              "      <td>0</td>\n",
              "      <td>0</td>\n",
              "    </tr>\n",
              "    <tr>\n",
              "      <th>202</th>\n",
              "      <td>49</td>\n",
              "      <td>170416</td>\n",
              "      <td>0.0</td>\n",
              "      <td>1226</td>\n",
              "      <td>0.0</td>\n",
              "      <td>-4.907479</td>\n",
              "      <td>0.0</td>\n",
              "      <td>24</td>\n",
              "      <td>12.0</td>\n",
              "      <td>455000.0</td>\n",
              "      <td>...</td>\n",
              "      <td>0</td>\n",
              "      <td>0</td>\n",
              "      <td>0</td>\n",
              "      <td>0</td>\n",
              "      <td>0</td>\n",
              "      <td>0</td>\n",
              "      <td>0</td>\n",
              "      <td>0</td>\n",
              "      <td>0</td>\n",
              "      <td>0</td>\n",
              "    </tr>\n",
              "    <tr>\n",
              "      <th>402</th>\n",
              "      <td>40</td>\n",
              "      <td>298042</td>\n",
              "      <td>0.0</td>\n",
              "      <td>1369</td>\n",
              "      <td>0.0</td>\n",
              "      <td>-0.754705</td>\n",
              "      <td>0.0</td>\n",
              "      <td>7</td>\n",
              "      <td>3.0</td>\n",
              "      <td>150000.0</td>\n",
              "      <td>...</td>\n",
              "      <td>0</td>\n",
              "      <td>0</td>\n",
              "      <td>0</td>\n",
              "      <td>0</td>\n",
              "      <td>0</td>\n",
              "      <td>0</td>\n",
              "      <td>0</td>\n",
              "      <td>0</td>\n",
              "      <td>0</td>\n",
              "      <td>0</td>\n",
              "    </tr>\n",
              "    <tr>\n",
              "      <th>...</th>\n",
              "      <td>...</td>\n",
              "      <td>...</td>\n",
              "      <td>...</td>\n",
              "      <td>...</td>\n",
              "      <td>...</td>\n",
              "      <td>...</td>\n",
              "      <td>...</td>\n",
              "      <td>...</td>\n",
              "      <td>...</td>\n",
              "      <td>...</td>\n",
              "      <td>...</td>\n",
              "      <td>...</td>\n",
              "      <td>...</td>\n",
              "      <td>...</td>\n",
              "      <td>...</td>\n",
              "      <td>...</td>\n",
              "      <td>...</td>\n",
              "      <td>...</td>\n",
              "      <td>...</td>\n",
              "      <td>...</td>\n",
              "      <td>...</td>\n",
              "    </tr>\n",
              "    <tr>\n",
              "      <th>376880</th>\n",
              "      <td>49</td>\n",
              "      <td>229424</td>\n",
              "      <td>0.0</td>\n",
              "      <td>210</td>\n",
              "      <td>0.0</td>\n",
              "      <td>-4.828559</td>\n",
              "      <td>0.0</td>\n",
              "      <td>24</td>\n",
              "      <td>4.0</td>\n",
              "      <td>229000.0</td>\n",
              "      <td>...</td>\n",
              "      <td>0</td>\n",
              "      <td>0</td>\n",
              "      <td>0</td>\n",
              "      <td>0</td>\n",
              "      <td>0</td>\n",
              "      <td>0</td>\n",
              "      <td>0</td>\n",
              "      <td>0</td>\n",
              "      <td>0</td>\n",
              "      <td>0</td>\n",
              "    </tr>\n",
              "    <tr>\n",
              "      <th>377023</th>\n",
              "      <td>40</td>\n",
              "      <td>64340</td>\n",
              "      <td>0.0</td>\n",
              "      <td>215</td>\n",
              "      <td>0.0</td>\n",
              "      <td>-4.691668</td>\n",
              "      <td>0.0</td>\n",
              "      <td>24</td>\n",
              "      <td>6.0</td>\n",
              "      <td>750000.0</td>\n",
              "      <td>...</td>\n",
              "      <td>0</td>\n",
              "      <td>0</td>\n",
              "      <td>0</td>\n",
              "      <td>0</td>\n",
              "      <td>0</td>\n",
              "      <td>0</td>\n",
              "      <td>0</td>\n",
              "      <td>0</td>\n",
              "      <td>0</td>\n",
              "      <td>0</td>\n",
              "    </tr>\n",
              "    <tr>\n",
              "      <th>377090</th>\n",
              "      <td>40</td>\n",
              "      <td>207286</td>\n",
              "      <td>0.0</td>\n",
              "      <td>796</td>\n",
              "      <td>0.0</td>\n",
              "      <td>-0.755608</td>\n",
              "      <td>0.0</td>\n",
              "      <td>7</td>\n",
              "      <td>3.0</td>\n",
              "      <td>125000.0</td>\n",
              "      <td>...</td>\n",
              "      <td>0</td>\n",
              "      <td>0</td>\n",
              "      <td>0</td>\n",
              "      <td>0</td>\n",
              "      <td>0</td>\n",
              "      <td>0</td>\n",
              "      <td>0</td>\n",
              "      <td>0</td>\n",
              "      <td>0</td>\n",
              "      <td>0</td>\n",
              "    </tr>\n",
              "    <tr>\n",
              "      <th>377102</th>\n",
              "      <td>40</td>\n",
              "      <td>166564</td>\n",
              "      <td>-3.2</td>\n",
              "      <td>609</td>\n",
              "      <td>-8077.6</td>\n",
              "      <td>-0.703777</td>\n",
              "      <td>-2.0</td>\n",
              "      <td>7</td>\n",
              "      <td>7.0</td>\n",
              "      <td>149999.0</td>\n",
              "      <td>...</td>\n",
              "      <td>0</td>\n",
              "      <td>0</td>\n",
              "      <td>0</td>\n",
              "      <td>0</td>\n",
              "      <td>0</td>\n",
              "      <td>0</td>\n",
              "      <td>0</td>\n",
              "      <td>0</td>\n",
              "      <td>0</td>\n",
              "      <td>1</td>\n",
              "    </tr>\n",
              "    <tr>\n",
              "      <th>377181</th>\n",
              "      <td>40</td>\n",
              "      <td>173271</td>\n",
              "      <td>0.0</td>\n",
              "      <td>320</td>\n",
              "      <td>0.0</td>\n",
              "      <td>4.235306</td>\n",
              "      <td>0.0</td>\n",
              "      <td>11</td>\n",
              "      <td>7.0</td>\n",
              "      <td>674999.0</td>\n",
              "      <td>...</td>\n",
              "      <td>0</td>\n",
              "      <td>0</td>\n",
              "      <td>0</td>\n",
              "      <td>0</td>\n",
              "      <td>0</td>\n",
              "      <td>0</td>\n",
              "      <td>0</td>\n",
              "      <td>0</td>\n",
              "      <td>0</td>\n",
              "      <td>0</td>\n",
              "    </tr>\n",
              "  </tbody>\n",
              "</table>\n",
              "<p>7834 rows × 38 columns</p>\n",
              "</div>\n",
              "      <button class=\"colab-df-convert\" onclick=\"convertToInteractive('df-060f0f63-e3c8-4da1-9021-06e44df6a53b')\"\n",
              "              title=\"Convert this dataframe to an interactive table.\"\n",
              "              style=\"display:none;\">\n",
              "        \n",
              "  <svg xmlns=\"http://www.w3.org/2000/svg\" height=\"24px\"viewBox=\"0 0 24 24\"\n",
              "       width=\"24px\">\n",
              "    <path d=\"M0 0h24v24H0V0z\" fill=\"none\"/>\n",
              "    <path d=\"M18.56 5.44l.94 2.06.94-2.06 2.06-.94-2.06-.94-.94-2.06-.94 2.06-2.06.94zm-11 1L8.5 8.5l.94-2.06 2.06-.94-2.06-.94L8.5 2.5l-.94 2.06-2.06.94zm10 10l.94 2.06.94-2.06 2.06-.94-2.06-.94-.94-2.06-.94 2.06-2.06.94z\"/><path d=\"M17.41 7.96l-1.37-1.37c-.4-.4-.92-.59-1.43-.59-.52 0-1.04.2-1.43.59L10.3 9.45l-7.72 7.72c-.78.78-.78 2.05 0 2.83L4 21.41c.39.39.9.59 1.41.59.51 0 1.02-.2 1.41-.59l7.78-7.78 2.81-2.81c.8-.78.8-2.07 0-2.86zM5.41 20L4 18.59l7.72-7.72 1.47 1.35L5.41 20z\"/>\n",
              "  </svg>\n",
              "      </button>\n",
              "      \n",
              "  <style>\n",
              "    .colab-df-container {\n",
              "      display:flex;\n",
              "      flex-wrap:wrap;\n",
              "      gap: 12px;\n",
              "    }\n",
              "\n",
              "    .colab-df-convert {\n",
              "      background-color: #E8F0FE;\n",
              "      border: none;\n",
              "      border-radius: 50%;\n",
              "      cursor: pointer;\n",
              "      display: none;\n",
              "      fill: #1967D2;\n",
              "      height: 32px;\n",
              "      padding: 0 0 0 0;\n",
              "      width: 32px;\n",
              "    }\n",
              "\n",
              "    .colab-df-convert:hover {\n",
              "      background-color: #E2EBFA;\n",
              "      box-shadow: 0px 1px 2px rgba(60, 64, 67, 0.3), 0px 1px 3px 1px rgba(60, 64, 67, 0.15);\n",
              "      fill: #174EA6;\n",
              "    }\n",
              "\n",
              "    [theme=dark] .colab-df-convert {\n",
              "      background-color: #3B4455;\n",
              "      fill: #D2E3FC;\n",
              "    }\n",
              "\n",
              "    [theme=dark] .colab-df-convert:hover {\n",
              "      background-color: #434B5C;\n",
              "      box-shadow: 0px 1px 3px 1px rgba(0, 0, 0, 0.15);\n",
              "      filter: drop-shadow(0px 1px 2px rgba(0, 0, 0, 0.3));\n",
              "      fill: #FFFFFF;\n",
              "    }\n",
              "  </style>\n",
              "\n",
              "      <script>\n",
              "        const buttonEl =\n",
              "          document.querySelector('#df-060f0f63-e3c8-4da1-9021-06e44df6a53b button.colab-df-convert');\n",
              "        buttonEl.style.display =\n",
              "          google.colab.kernel.accessAllowed ? 'block' : 'none';\n",
              "\n",
              "        async function convertToInteractive(key) {\n",
              "          const element = document.querySelector('#df-060f0f63-e3c8-4da1-9021-06e44df6a53b');\n",
              "          const dataTable =\n",
              "            await google.colab.kernel.invokeFunction('convertToInteractive',\n",
              "                                                     [key], {});\n",
              "          if (!dataTable) return;\n",
              "\n",
              "          const docLinkHtml = 'Like what you see? Visit the ' +\n",
              "            '<a target=\"_blank\" href=https://colab.research.google.com/notebooks/data_table.ipynb>data table notebook</a>'\n",
              "            + ' to learn more about interactive tables.';\n",
              "          element.innerHTML = '';\n",
              "          dataTable['output_type'] = 'display_data';\n",
              "          await google.colab.output.renderOutput(dataTable, element);\n",
              "          const docLink = document.createElement('div');\n",
              "          docLink.innerHTML = docLinkHtml;\n",
              "          element.appendChild(docLink);\n",
              "        }\n",
              "      </script>\n",
              "    </div>\n",
              "  </div>\n",
              "  "
            ]
          },
          "metadata": {},
          "execution_count": 94
        }
      ]
    },
    {
      "cell_type": "markdown",
      "source": [
        "### baths"
      ],
      "metadata": {
        "id": "g6h9qFWDF0IJ"
      }
    },
    {
      "cell_type": "code",
      "source": [
        "lower_bound = data.baths.quantile(q=0.025)\n",
        "upper_bound = data.baths.quantile(q=0.975)\n",
        "data[(data.baths < lower_bound) | (data.baths > upper_bound)]"
      ],
      "metadata": {
        "colab": {
          "base_uri": "https://localhost:8080/"
        },
        "id": "_NIcmZHbF2o7",
        "outputId": "acdb53ac-d317-4be4-9c42-30467220ef95"
      },
      "execution_count": null,
      "outputs": [
        {
          "output_type": "execute_result",
          "data": {
            "text/plain": [
              "        propertyType  street  baths  city    sqft    zipcode  beds  state  \\\n",
              "75               149  190627    0.3   915 -3796.6  -0.444082   2.0      7   \n",
              "113              149  164991    0.8   809     0.0   7.204462   1.0     33   \n",
              "214              149  298217    0.3   915 -5785.6  -0.443902   3.0      7   \n",
              "260              125  189086    3.8  1284     0.0  10.368661  11.0      3   \n",
              "295              100  318872   -4.2   809 -8927.6   7.190557   0.0     33   \n",
              "...              ...     ...    ...   ...     ...        ...   ...    ...   \n",
              "377066           149  204538    0.8   430     0.0   6.866931   2.0     33   \n",
              "377092           149  102465    0.8   809     0.0   7.187487   0.0     33   \n",
              "377098           100   13755   -4.2  1415 -8927.6  -0.587474   0.0      7   \n",
              "377152           149   80892    0.8  1479     0.0   9.446184   1.0     23   \n",
              "377180           149  107420    1.8  1118     0.0  -0.726893   2.0      7   \n",
              "\n",
              "        stories  new_target  ...  status_option  status_pending  \\\n",
              "75          0.0    414900.0  ...              0               0   \n",
              "113         0.0   2197000.0  ...              0               0   \n",
              "214         0.0    504000.0  ...              0               0   \n",
              "260         0.0   2100000.0  ...              0               0   \n",
              "295         0.0     39900.0  ...              0               1   \n",
              "...         ...         ...  ...            ...             ...   \n",
              "377066      0.0   1307000.0  ...              0               0   \n",
              "377092      2.0    549000.0  ...              0               0   \n",
              "377098      0.0      7000.0  ...              0               1   \n",
              "377152      0.0   1000000.0  ...              0               0   \n",
              "377180     -2.0   1249000.0  ...              0               0   \n",
              "\n",
              "        status_pending,  status_pf  status_price change  status_reactivated  \\\n",
              "75                    0          0                    0                   0   \n",
              "113                   0          0                    0                   0   \n",
              "214                   0          0                    0                   0   \n",
              "260                   0          0                    0                   0   \n",
              "295                   0          0                    0                   0   \n",
              "...                 ...        ...                  ...                 ...   \n",
              "377066                0          0                    0                   0   \n",
              "377092                0          0                    0                   0   \n",
              "377098                0          0                    0                   0   \n",
              "377152                0          0                    0                   0   \n",
              "377180                0          0                    0                   0   \n",
              "\n",
              "        status_temporary  status_under  fireplace_yes  PrivatePool_yes  \n",
              "75                     0             0              0                0  \n",
              "113                    0             0              0                1  \n",
              "214                    0             0              0                0  \n",
              "260                    0             0              0                0  \n",
              "295                    0             0              0                0  \n",
              "...                  ...           ...            ...              ...  \n",
              "377066                 0             0              1                1  \n",
              "377092                 0             0              0                0  \n",
              "377098                 0             0              0                0  \n",
              "377152                 0             0              0                0  \n",
              "377180                 0             0              0                1  \n",
              "\n",
              "[11154 rows x 38 columns]"
            ],
            "text/html": [
              "\n",
              "  <div id=\"df-319e1a47-abed-431d-b74a-1a55e42a03a9\">\n",
              "    <div class=\"colab-df-container\">\n",
              "      <div>\n",
              "<style scoped>\n",
              "    .dataframe tbody tr th:only-of-type {\n",
              "        vertical-align: middle;\n",
              "    }\n",
              "\n",
              "    .dataframe tbody tr th {\n",
              "        vertical-align: top;\n",
              "    }\n",
              "\n",
              "    .dataframe thead th {\n",
              "        text-align: right;\n",
              "    }\n",
              "</style>\n",
              "<table border=\"1\" class=\"dataframe\">\n",
              "  <thead>\n",
              "    <tr style=\"text-align: right;\">\n",
              "      <th></th>\n",
              "      <th>propertyType</th>\n",
              "      <th>street</th>\n",
              "      <th>baths</th>\n",
              "      <th>city</th>\n",
              "      <th>sqft</th>\n",
              "      <th>zipcode</th>\n",
              "      <th>beds</th>\n",
              "      <th>state</th>\n",
              "      <th>stories</th>\n",
              "      <th>new_target</th>\n",
              "      <th>...</th>\n",
              "      <th>status_option</th>\n",
              "      <th>status_pending</th>\n",
              "      <th>status_pending,</th>\n",
              "      <th>status_pf</th>\n",
              "      <th>status_price change</th>\n",
              "      <th>status_reactivated</th>\n",
              "      <th>status_temporary</th>\n",
              "      <th>status_under</th>\n",
              "      <th>fireplace_yes</th>\n",
              "      <th>PrivatePool_yes</th>\n",
              "    </tr>\n",
              "  </thead>\n",
              "  <tbody>\n",
              "    <tr>\n",
              "      <th>75</th>\n",
              "      <td>149</td>\n",
              "      <td>190627</td>\n",
              "      <td>0.3</td>\n",
              "      <td>915</td>\n",
              "      <td>-3796.6</td>\n",
              "      <td>-0.444082</td>\n",
              "      <td>2.0</td>\n",
              "      <td>7</td>\n",
              "      <td>0.0</td>\n",
              "      <td>414900.0</td>\n",
              "      <td>...</td>\n",
              "      <td>0</td>\n",
              "      <td>0</td>\n",
              "      <td>0</td>\n",
              "      <td>0</td>\n",
              "      <td>0</td>\n",
              "      <td>0</td>\n",
              "      <td>0</td>\n",
              "      <td>0</td>\n",
              "      <td>0</td>\n",
              "      <td>0</td>\n",
              "    </tr>\n",
              "    <tr>\n",
              "      <th>113</th>\n",
              "      <td>149</td>\n",
              "      <td>164991</td>\n",
              "      <td>0.8</td>\n",
              "      <td>809</td>\n",
              "      <td>0.0</td>\n",
              "      <td>7.204462</td>\n",
              "      <td>1.0</td>\n",
              "      <td>33</td>\n",
              "      <td>0.0</td>\n",
              "      <td>2197000.0</td>\n",
              "      <td>...</td>\n",
              "      <td>0</td>\n",
              "      <td>0</td>\n",
              "      <td>0</td>\n",
              "      <td>0</td>\n",
              "      <td>0</td>\n",
              "      <td>0</td>\n",
              "      <td>0</td>\n",
              "      <td>0</td>\n",
              "      <td>0</td>\n",
              "      <td>1</td>\n",
              "    </tr>\n",
              "    <tr>\n",
              "      <th>214</th>\n",
              "      <td>149</td>\n",
              "      <td>298217</td>\n",
              "      <td>0.3</td>\n",
              "      <td>915</td>\n",
              "      <td>-5785.6</td>\n",
              "      <td>-0.443902</td>\n",
              "      <td>3.0</td>\n",
              "      <td>7</td>\n",
              "      <td>0.0</td>\n",
              "      <td>504000.0</td>\n",
              "      <td>...</td>\n",
              "      <td>0</td>\n",
              "      <td>0</td>\n",
              "      <td>0</td>\n",
              "      <td>0</td>\n",
              "      <td>0</td>\n",
              "      <td>0</td>\n",
              "      <td>0</td>\n",
              "      <td>0</td>\n",
              "      <td>0</td>\n",
              "      <td>0</td>\n",
              "    </tr>\n",
              "    <tr>\n",
              "      <th>260</th>\n",
              "      <td>125</td>\n",
              "      <td>189086</td>\n",
              "      <td>3.8</td>\n",
              "      <td>1284</td>\n",
              "      <td>0.0</td>\n",
              "      <td>10.368661</td>\n",
              "      <td>11.0</td>\n",
              "      <td>3</td>\n",
              "      <td>0.0</td>\n",
              "      <td>2100000.0</td>\n",
              "      <td>...</td>\n",
              "      <td>0</td>\n",
              "      <td>0</td>\n",
              "      <td>0</td>\n",
              "      <td>0</td>\n",
              "      <td>0</td>\n",
              "      <td>0</td>\n",
              "      <td>0</td>\n",
              "      <td>0</td>\n",
              "      <td>0</td>\n",
              "      <td>0</td>\n",
              "    </tr>\n",
              "    <tr>\n",
              "      <th>295</th>\n",
              "      <td>100</td>\n",
              "      <td>318872</td>\n",
              "      <td>-4.2</td>\n",
              "      <td>809</td>\n",
              "      <td>-8927.6</td>\n",
              "      <td>7.190557</td>\n",
              "      <td>0.0</td>\n",
              "      <td>33</td>\n",
              "      <td>0.0</td>\n",
              "      <td>39900.0</td>\n",
              "      <td>...</td>\n",
              "      <td>0</td>\n",
              "      <td>1</td>\n",
              "      <td>0</td>\n",
              "      <td>0</td>\n",
              "      <td>0</td>\n",
              "      <td>0</td>\n",
              "      <td>0</td>\n",
              "      <td>0</td>\n",
              "      <td>0</td>\n",
              "      <td>0</td>\n",
              "    </tr>\n",
              "    <tr>\n",
              "      <th>...</th>\n",
              "      <td>...</td>\n",
              "      <td>...</td>\n",
              "      <td>...</td>\n",
              "      <td>...</td>\n",
              "      <td>...</td>\n",
              "      <td>...</td>\n",
              "      <td>...</td>\n",
              "      <td>...</td>\n",
              "      <td>...</td>\n",
              "      <td>...</td>\n",
              "      <td>...</td>\n",
              "      <td>...</td>\n",
              "      <td>...</td>\n",
              "      <td>...</td>\n",
              "      <td>...</td>\n",
              "      <td>...</td>\n",
              "      <td>...</td>\n",
              "      <td>...</td>\n",
              "      <td>...</td>\n",
              "      <td>...</td>\n",
              "      <td>...</td>\n",
              "    </tr>\n",
              "    <tr>\n",
              "      <th>377066</th>\n",
              "      <td>149</td>\n",
              "      <td>204538</td>\n",
              "      <td>0.8</td>\n",
              "      <td>430</td>\n",
              "      <td>0.0</td>\n",
              "      <td>6.866931</td>\n",
              "      <td>2.0</td>\n",
              "      <td>33</td>\n",
              "      <td>0.0</td>\n",
              "      <td>1307000.0</td>\n",
              "      <td>...</td>\n",
              "      <td>0</td>\n",
              "      <td>0</td>\n",
              "      <td>0</td>\n",
              "      <td>0</td>\n",
              "      <td>0</td>\n",
              "      <td>0</td>\n",
              "      <td>0</td>\n",
              "      <td>0</td>\n",
              "      <td>1</td>\n",
              "      <td>1</td>\n",
              "    </tr>\n",
              "    <tr>\n",
              "      <th>377092</th>\n",
              "      <td>149</td>\n",
              "      <td>102465</td>\n",
              "      <td>0.8</td>\n",
              "      <td>809</td>\n",
              "      <td>0.0</td>\n",
              "      <td>7.187487</td>\n",
              "      <td>0.0</td>\n",
              "      <td>33</td>\n",
              "      <td>2.0</td>\n",
              "      <td>549000.0</td>\n",
              "      <td>...</td>\n",
              "      <td>0</td>\n",
              "      <td>0</td>\n",
              "      <td>0</td>\n",
              "      <td>0</td>\n",
              "      <td>0</td>\n",
              "      <td>0</td>\n",
              "      <td>0</td>\n",
              "      <td>0</td>\n",
              "      <td>0</td>\n",
              "      <td>0</td>\n",
              "    </tr>\n",
              "    <tr>\n",
              "      <th>377098</th>\n",
              "      <td>100</td>\n",
              "      <td>13755</td>\n",
              "      <td>-4.2</td>\n",
              "      <td>1415</td>\n",
              "      <td>-8927.6</td>\n",
              "      <td>-0.587474</td>\n",
              "      <td>0.0</td>\n",
              "      <td>7</td>\n",
              "      <td>0.0</td>\n",
              "      <td>7000.0</td>\n",
              "      <td>...</td>\n",
              "      <td>0</td>\n",
              "      <td>1</td>\n",
              "      <td>0</td>\n",
              "      <td>0</td>\n",
              "      <td>0</td>\n",
              "      <td>0</td>\n",
              "      <td>0</td>\n",
              "      <td>0</td>\n",
              "      <td>0</td>\n",
              "      <td>0</td>\n",
              "    </tr>\n",
              "    <tr>\n",
              "      <th>377152</th>\n",
              "      <td>149</td>\n",
              "      <td>80892</td>\n",
              "      <td>0.8</td>\n",
              "      <td>1479</td>\n",
              "      <td>0.0</td>\n",
              "      <td>9.446184</td>\n",
              "      <td>1.0</td>\n",
              "      <td>23</td>\n",
              "      <td>0.0</td>\n",
              "      <td>1000000.0</td>\n",
              "      <td>...</td>\n",
              "      <td>0</td>\n",
              "      <td>0</td>\n",
              "      <td>0</td>\n",
              "      <td>0</td>\n",
              "      <td>0</td>\n",
              "      <td>0</td>\n",
              "      <td>0</td>\n",
              "      <td>0</td>\n",
              "      <td>0</td>\n",
              "      <td>0</td>\n",
              "    </tr>\n",
              "    <tr>\n",
              "      <th>377180</th>\n",
              "      <td>149</td>\n",
              "      <td>107420</td>\n",
              "      <td>1.8</td>\n",
              "      <td>1118</td>\n",
              "      <td>0.0</td>\n",
              "      <td>-0.726893</td>\n",
              "      <td>2.0</td>\n",
              "      <td>7</td>\n",
              "      <td>-2.0</td>\n",
              "      <td>1249000.0</td>\n",
              "      <td>...</td>\n",
              "      <td>0</td>\n",
              "      <td>0</td>\n",
              "      <td>0</td>\n",
              "      <td>0</td>\n",
              "      <td>0</td>\n",
              "      <td>0</td>\n",
              "      <td>0</td>\n",
              "      <td>0</td>\n",
              "      <td>0</td>\n",
              "      <td>1</td>\n",
              "    </tr>\n",
              "  </tbody>\n",
              "</table>\n",
              "<p>11154 rows × 38 columns</p>\n",
              "</div>\n",
              "      <button class=\"colab-df-convert\" onclick=\"convertToInteractive('df-319e1a47-abed-431d-b74a-1a55e42a03a9')\"\n",
              "              title=\"Convert this dataframe to an interactive table.\"\n",
              "              style=\"display:none;\">\n",
              "        \n",
              "  <svg xmlns=\"http://www.w3.org/2000/svg\" height=\"24px\"viewBox=\"0 0 24 24\"\n",
              "       width=\"24px\">\n",
              "    <path d=\"M0 0h24v24H0V0z\" fill=\"none\"/>\n",
              "    <path d=\"M18.56 5.44l.94 2.06.94-2.06 2.06-.94-2.06-.94-.94-2.06-.94 2.06-2.06.94zm-11 1L8.5 8.5l.94-2.06 2.06-.94-2.06-.94L8.5 2.5l-.94 2.06-2.06.94zm10 10l.94 2.06.94-2.06 2.06-.94-2.06-.94-.94-2.06-.94 2.06-2.06.94z\"/><path d=\"M17.41 7.96l-1.37-1.37c-.4-.4-.92-.59-1.43-.59-.52 0-1.04.2-1.43.59L10.3 9.45l-7.72 7.72c-.78.78-.78 2.05 0 2.83L4 21.41c.39.39.9.59 1.41.59.51 0 1.02-.2 1.41-.59l7.78-7.78 2.81-2.81c.8-.78.8-2.07 0-2.86zM5.41 20L4 18.59l7.72-7.72 1.47 1.35L5.41 20z\"/>\n",
              "  </svg>\n",
              "      </button>\n",
              "      \n",
              "  <style>\n",
              "    .colab-df-container {\n",
              "      display:flex;\n",
              "      flex-wrap:wrap;\n",
              "      gap: 12px;\n",
              "    }\n",
              "\n",
              "    .colab-df-convert {\n",
              "      background-color: #E8F0FE;\n",
              "      border: none;\n",
              "      border-radius: 50%;\n",
              "      cursor: pointer;\n",
              "      display: none;\n",
              "      fill: #1967D2;\n",
              "      height: 32px;\n",
              "      padding: 0 0 0 0;\n",
              "      width: 32px;\n",
              "    }\n",
              "\n",
              "    .colab-df-convert:hover {\n",
              "      background-color: #E2EBFA;\n",
              "      box-shadow: 0px 1px 2px rgba(60, 64, 67, 0.3), 0px 1px 3px 1px rgba(60, 64, 67, 0.15);\n",
              "      fill: #174EA6;\n",
              "    }\n",
              "\n",
              "    [theme=dark] .colab-df-convert {\n",
              "      background-color: #3B4455;\n",
              "      fill: #D2E3FC;\n",
              "    }\n",
              "\n",
              "    [theme=dark] .colab-df-convert:hover {\n",
              "      background-color: #434B5C;\n",
              "      box-shadow: 0px 1px 3px 1px rgba(0, 0, 0, 0.15);\n",
              "      filter: drop-shadow(0px 1px 2px rgba(0, 0, 0, 0.3));\n",
              "      fill: #FFFFFF;\n",
              "    }\n",
              "  </style>\n",
              "\n",
              "      <script>\n",
              "        const buttonEl =\n",
              "          document.querySelector('#df-319e1a47-abed-431d-b74a-1a55e42a03a9 button.colab-df-convert');\n",
              "        buttonEl.style.display =\n",
              "          google.colab.kernel.accessAllowed ? 'block' : 'none';\n",
              "\n",
              "        async function convertToInteractive(key) {\n",
              "          const element = document.querySelector('#df-319e1a47-abed-431d-b74a-1a55e42a03a9');\n",
              "          const dataTable =\n",
              "            await google.colab.kernel.invokeFunction('convertToInteractive',\n",
              "                                                     [key], {});\n",
              "          if (!dataTable) return;\n",
              "\n",
              "          const docLinkHtml = 'Like what you see? Visit the ' +\n",
              "            '<a target=\"_blank\" href=https://colab.research.google.com/notebooks/data_table.ipynb>data table notebook</a>'\n",
              "            + ' to learn more about interactive tables.';\n",
              "          element.innerHTML = '';\n",
              "          dataTable['output_type'] = 'display_data';\n",
              "          await google.colab.output.renderOutput(dataTable, element);\n",
              "          const docLink = document.createElement('div');\n",
              "          docLink.innerHTML = docLinkHtml;\n",
              "          element.appendChild(docLink);\n",
              "        }\n",
              "      </script>\n",
              "    </div>\n",
              "  </div>\n",
              "  "
            ]
          },
          "metadata": {},
          "execution_count": 95
        }
      ]
    },
    {
      "cell_type": "code",
      "source": [
        "data[(data.baths < lower_bound) | (data.baths > upper_bound)].baths.apply(lambda x:data.baths.mean())"
      ],
      "metadata": {
        "colab": {
          "base_uri": "https://localhost:8080/"
        },
        "id": "VIluWasMOC9F",
        "outputId": "b0140095-e3b2-48ae-b0d1-dd1fd7b56da4"
      },
      "execution_count": null,
      "outputs": [
        {
          "output_type": "execute_result",
          "data": {
            "text/plain": [
              "75        0.013718\n",
              "113       0.013718\n",
              "214       0.013718\n",
              "260       0.013718\n",
              "295       0.013718\n",
              "            ...   \n",
              "377066    0.013718\n",
              "377092    0.013718\n",
              "377098    0.013718\n",
              "377152    0.013718\n",
              "377180    0.013718\n",
              "Name: baths, Length: 11154, dtype: float64"
            ]
          },
          "metadata": {},
          "execution_count": 96
        }
      ]
    },
    {
      "cell_type": "code",
      "source": [
        "data[(data.baths < lower_bound) | (data.baths > upper_bound)]"
      ],
      "metadata": {
        "colab": {
          "base_uri": "https://localhost:8080/"
        },
        "id": "UjBypLkLd2W_",
        "outputId": "c8a67248-effb-4c52-b042-70e888132771"
      },
      "execution_count": null,
      "outputs": [
        {
          "output_type": "execute_result",
          "data": {
            "text/plain": [
              "        propertyType  street  baths  city    sqft    zipcode  beds  state  \\\n",
              "75               149  190627    0.3   915 -3796.6  -0.444082   2.0      7   \n",
              "113              149  164991    0.8   809     0.0   7.204462   1.0     33   \n",
              "214              149  298217    0.3   915 -5785.6  -0.443902   3.0      7   \n",
              "260              125  189086    3.8  1284     0.0  10.368661  11.0      3   \n",
              "295              100  318872   -4.2   809 -8927.6   7.190557   0.0     33   \n",
              "...              ...     ...    ...   ...     ...        ...   ...    ...   \n",
              "377066           149  204538    0.8   430     0.0   6.866931   2.0     33   \n",
              "377092           149  102465    0.8   809     0.0   7.187487   0.0     33   \n",
              "377098           100   13755   -4.2  1415 -8927.6  -0.587474   0.0      7   \n",
              "377152           149   80892    0.8  1479     0.0   9.446184   1.0     23   \n",
              "377180           149  107420    1.8  1118     0.0  -0.726893   2.0      7   \n",
              "\n",
              "        stories  new_target  ...  status_option  status_pending  \\\n",
              "75          0.0    414900.0  ...              0               0   \n",
              "113         0.0   2197000.0  ...              0               0   \n",
              "214         0.0    504000.0  ...              0               0   \n",
              "260         0.0   2100000.0  ...              0               0   \n",
              "295         0.0     39900.0  ...              0               1   \n",
              "...         ...         ...  ...            ...             ...   \n",
              "377066      0.0   1307000.0  ...              0               0   \n",
              "377092      2.0    549000.0  ...              0               0   \n",
              "377098      0.0      7000.0  ...              0               1   \n",
              "377152      0.0   1000000.0  ...              0               0   \n",
              "377180     -2.0   1249000.0  ...              0               0   \n",
              "\n",
              "        status_pending,  status_pf  status_price change  status_reactivated  \\\n",
              "75                    0          0                    0                   0   \n",
              "113                   0          0                    0                   0   \n",
              "214                   0          0                    0                   0   \n",
              "260                   0          0                    0                   0   \n",
              "295                   0          0                    0                   0   \n",
              "...                 ...        ...                  ...                 ...   \n",
              "377066                0          0                    0                   0   \n",
              "377092                0          0                    0                   0   \n",
              "377098                0          0                    0                   0   \n",
              "377152                0          0                    0                   0   \n",
              "377180                0          0                    0                   0   \n",
              "\n",
              "        status_temporary  status_under  fireplace_yes  PrivatePool_yes  \n",
              "75                     0             0              0                0  \n",
              "113                    0             0              0                1  \n",
              "214                    0             0              0                0  \n",
              "260                    0             0              0                0  \n",
              "295                    0             0              0                0  \n",
              "...                  ...           ...            ...              ...  \n",
              "377066                 0             0              1                1  \n",
              "377092                 0             0              0                0  \n",
              "377098                 0             0              0                0  \n",
              "377152                 0             0              0                0  \n",
              "377180                 0             0              0                1  \n",
              "\n",
              "[11154 rows x 38 columns]"
            ],
            "text/html": [
              "\n",
              "  <div id=\"df-a5f89824-6de0-4a7c-813c-18434a11d302\">\n",
              "    <div class=\"colab-df-container\">\n",
              "      <div>\n",
              "<style scoped>\n",
              "    .dataframe tbody tr th:only-of-type {\n",
              "        vertical-align: middle;\n",
              "    }\n",
              "\n",
              "    .dataframe tbody tr th {\n",
              "        vertical-align: top;\n",
              "    }\n",
              "\n",
              "    .dataframe thead th {\n",
              "        text-align: right;\n",
              "    }\n",
              "</style>\n",
              "<table border=\"1\" class=\"dataframe\">\n",
              "  <thead>\n",
              "    <tr style=\"text-align: right;\">\n",
              "      <th></th>\n",
              "      <th>propertyType</th>\n",
              "      <th>street</th>\n",
              "      <th>baths</th>\n",
              "      <th>city</th>\n",
              "      <th>sqft</th>\n",
              "      <th>zipcode</th>\n",
              "      <th>beds</th>\n",
              "      <th>state</th>\n",
              "      <th>stories</th>\n",
              "      <th>new_target</th>\n",
              "      <th>...</th>\n",
              "      <th>status_option</th>\n",
              "      <th>status_pending</th>\n",
              "      <th>status_pending,</th>\n",
              "      <th>status_pf</th>\n",
              "      <th>status_price change</th>\n",
              "      <th>status_reactivated</th>\n",
              "      <th>status_temporary</th>\n",
              "      <th>status_under</th>\n",
              "      <th>fireplace_yes</th>\n",
              "      <th>PrivatePool_yes</th>\n",
              "    </tr>\n",
              "  </thead>\n",
              "  <tbody>\n",
              "    <tr>\n",
              "      <th>75</th>\n",
              "      <td>149</td>\n",
              "      <td>190627</td>\n",
              "      <td>0.3</td>\n",
              "      <td>915</td>\n",
              "      <td>-3796.6</td>\n",
              "      <td>-0.444082</td>\n",
              "      <td>2.0</td>\n",
              "      <td>7</td>\n",
              "      <td>0.0</td>\n",
              "      <td>414900.0</td>\n",
              "      <td>...</td>\n",
              "      <td>0</td>\n",
              "      <td>0</td>\n",
              "      <td>0</td>\n",
              "      <td>0</td>\n",
              "      <td>0</td>\n",
              "      <td>0</td>\n",
              "      <td>0</td>\n",
              "      <td>0</td>\n",
              "      <td>0</td>\n",
              "      <td>0</td>\n",
              "    </tr>\n",
              "    <tr>\n",
              "      <th>113</th>\n",
              "      <td>149</td>\n",
              "      <td>164991</td>\n",
              "      <td>0.8</td>\n",
              "      <td>809</td>\n",
              "      <td>0.0</td>\n",
              "      <td>7.204462</td>\n",
              "      <td>1.0</td>\n",
              "      <td>33</td>\n",
              "      <td>0.0</td>\n",
              "      <td>2197000.0</td>\n",
              "      <td>...</td>\n",
              "      <td>0</td>\n",
              "      <td>0</td>\n",
              "      <td>0</td>\n",
              "      <td>0</td>\n",
              "      <td>0</td>\n",
              "      <td>0</td>\n",
              "      <td>0</td>\n",
              "      <td>0</td>\n",
              "      <td>0</td>\n",
              "      <td>1</td>\n",
              "    </tr>\n",
              "    <tr>\n",
              "      <th>214</th>\n",
              "      <td>149</td>\n",
              "      <td>298217</td>\n",
              "      <td>0.3</td>\n",
              "      <td>915</td>\n",
              "      <td>-5785.6</td>\n",
              "      <td>-0.443902</td>\n",
              "      <td>3.0</td>\n",
              "      <td>7</td>\n",
              "      <td>0.0</td>\n",
              "      <td>504000.0</td>\n",
              "      <td>...</td>\n",
              "      <td>0</td>\n",
              "      <td>0</td>\n",
              "      <td>0</td>\n",
              "      <td>0</td>\n",
              "      <td>0</td>\n",
              "      <td>0</td>\n",
              "      <td>0</td>\n",
              "      <td>0</td>\n",
              "      <td>0</td>\n",
              "      <td>0</td>\n",
              "    </tr>\n",
              "    <tr>\n",
              "      <th>260</th>\n",
              "      <td>125</td>\n",
              "      <td>189086</td>\n",
              "      <td>3.8</td>\n",
              "      <td>1284</td>\n",
              "      <td>0.0</td>\n",
              "      <td>10.368661</td>\n",
              "      <td>11.0</td>\n",
              "      <td>3</td>\n",
              "      <td>0.0</td>\n",
              "      <td>2100000.0</td>\n",
              "      <td>...</td>\n",
              "      <td>0</td>\n",
              "      <td>0</td>\n",
              "      <td>0</td>\n",
              "      <td>0</td>\n",
              "      <td>0</td>\n",
              "      <td>0</td>\n",
              "      <td>0</td>\n",
              "      <td>0</td>\n",
              "      <td>0</td>\n",
              "      <td>0</td>\n",
              "    </tr>\n",
              "    <tr>\n",
              "      <th>295</th>\n",
              "      <td>100</td>\n",
              "      <td>318872</td>\n",
              "      <td>-4.2</td>\n",
              "      <td>809</td>\n",
              "      <td>-8927.6</td>\n",
              "      <td>7.190557</td>\n",
              "      <td>0.0</td>\n",
              "      <td>33</td>\n",
              "      <td>0.0</td>\n",
              "      <td>39900.0</td>\n",
              "      <td>...</td>\n",
              "      <td>0</td>\n",
              "      <td>1</td>\n",
              "      <td>0</td>\n",
              "      <td>0</td>\n",
              "      <td>0</td>\n",
              "      <td>0</td>\n",
              "      <td>0</td>\n",
              "      <td>0</td>\n",
              "      <td>0</td>\n",
              "      <td>0</td>\n",
              "    </tr>\n",
              "    <tr>\n",
              "      <th>...</th>\n",
              "      <td>...</td>\n",
              "      <td>...</td>\n",
              "      <td>...</td>\n",
              "      <td>...</td>\n",
              "      <td>...</td>\n",
              "      <td>...</td>\n",
              "      <td>...</td>\n",
              "      <td>...</td>\n",
              "      <td>...</td>\n",
              "      <td>...</td>\n",
              "      <td>...</td>\n",
              "      <td>...</td>\n",
              "      <td>...</td>\n",
              "      <td>...</td>\n",
              "      <td>...</td>\n",
              "      <td>...</td>\n",
              "      <td>...</td>\n",
              "      <td>...</td>\n",
              "      <td>...</td>\n",
              "      <td>...</td>\n",
              "      <td>...</td>\n",
              "    </tr>\n",
              "    <tr>\n",
              "      <th>377066</th>\n",
              "      <td>149</td>\n",
              "      <td>204538</td>\n",
              "      <td>0.8</td>\n",
              "      <td>430</td>\n",
              "      <td>0.0</td>\n",
              "      <td>6.866931</td>\n",
              "      <td>2.0</td>\n",
              "      <td>33</td>\n",
              "      <td>0.0</td>\n",
              "      <td>1307000.0</td>\n",
              "      <td>...</td>\n",
              "      <td>0</td>\n",
              "      <td>0</td>\n",
              "      <td>0</td>\n",
              "      <td>0</td>\n",
              "      <td>0</td>\n",
              "      <td>0</td>\n",
              "      <td>0</td>\n",
              "      <td>0</td>\n",
              "      <td>1</td>\n",
              "      <td>1</td>\n",
              "    </tr>\n",
              "    <tr>\n",
              "      <th>377092</th>\n",
              "      <td>149</td>\n",
              "      <td>102465</td>\n",
              "      <td>0.8</td>\n",
              "      <td>809</td>\n",
              "      <td>0.0</td>\n",
              "      <td>7.187487</td>\n",
              "      <td>0.0</td>\n",
              "      <td>33</td>\n",
              "      <td>2.0</td>\n",
              "      <td>549000.0</td>\n",
              "      <td>...</td>\n",
              "      <td>0</td>\n",
              "      <td>0</td>\n",
              "      <td>0</td>\n",
              "      <td>0</td>\n",
              "      <td>0</td>\n",
              "      <td>0</td>\n",
              "      <td>0</td>\n",
              "      <td>0</td>\n",
              "      <td>0</td>\n",
              "      <td>0</td>\n",
              "    </tr>\n",
              "    <tr>\n",
              "      <th>377098</th>\n",
              "      <td>100</td>\n",
              "      <td>13755</td>\n",
              "      <td>-4.2</td>\n",
              "      <td>1415</td>\n",
              "      <td>-8927.6</td>\n",
              "      <td>-0.587474</td>\n",
              "      <td>0.0</td>\n",
              "      <td>7</td>\n",
              "      <td>0.0</td>\n",
              "      <td>7000.0</td>\n",
              "      <td>...</td>\n",
              "      <td>0</td>\n",
              "      <td>1</td>\n",
              "      <td>0</td>\n",
              "      <td>0</td>\n",
              "      <td>0</td>\n",
              "      <td>0</td>\n",
              "      <td>0</td>\n",
              "      <td>0</td>\n",
              "      <td>0</td>\n",
              "      <td>0</td>\n",
              "    </tr>\n",
              "    <tr>\n",
              "      <th>377152</th>\n",
              "      <td>149</td>\n",
              "      <td>80892</td>\n",
              "      <td>0.8</td>\n",
              "      <td>1479</td>\n",
              "      <td>0.0</td>\n",
              "      <td>9.446184</td>\n",
              "      <td>1.0</td>\n",
              "      <td>23</td>\n",
              "      <td>0.0</td>\n",
              "      <td>1000000.0</td>\n",
              "      <td>...</td>\n",
              "      <td>0</td>\n",
              "      <td>0</td>\n",
              "      <td>0</td>\n",
              "      <td>0</td>\n",
              "      <td>0</td>\n",
              "      <td>0</td>\n",
              "      <td>0</td>\n",
              "      <td>0</td>\n",
              "      <td>0</td>\n",
              "      <td>0</td>\n",
              "    </tr>\n",
              "    <tr>\n",
              "      <th>377180</th>\n",
              "      <td>149</td>\n",
              "      <td>107420</td>\n",
              "      <td>1.8</td>\n",
              "      <td>1118</td>\n",
              "      <td>0.0</td>\n",
              "      <td>-0.726893</td>\n",
              "      <td>2.0</td>\n",
              "      <td>7</td>\n",
              "      <td>-2.0</td>\n",
              "      <td>1249000.0</td>\n",
              "      <td>...</td>\n",
              "      <td>0</td>\n",
              "      <td>0</td>\n",
              "      <td>0</td>\n",
              "      <td>0</td>\n",
              "      <td>0</td>\n",
              "      <td>0</td>\n",
              "      <td>0</td>\n",
              "      <td>0</td>\n",
              "      <td>0</td>\n",
              "      <td>1</td>\n",
              "    </tr>\n",
              "  </tbody>\n",
              "</table>\n",
              "<p>11154 rows × 38 columns</p>\n",
              "</div>\n",
              "      <button class=\"colab-df-convert\" onclick=\"convertToInteractive('df-a5f89824-6de0-4a7c-813c-18434a11d302')\"\n",
              "              title=\"Convert this dataframe to an interactive table.\"\n",
              "              style=\"display:none;\">\n",
              "        \n",
              "  <svg xmlns=\"http://www.w3.org/2000/svg\" height=\"24px\"viewBox=\"0 0 24 24\"\n",
              "       width=\"24px\">\n",
              "    <path d=\"M0 0h24v24H0V0z\" fill=\"none\"/>\n",
              "    <path d=\"M18.56 5.44l.94 2.06.94-2.06 2.06-.94-2.06-.94-.94-2.06-.94 2.06-2.06.94zm-11 1L8.5 8.5l.94-2.06 2.06-.94-2.06-.94L8.5 2.5l-.94 2.06-2.06.94zm10 10l.94 2.06.94-2.06 2.06-.94-2.06-.94-.94-2.06-.94 2.06-2.06.94z\"/><path d=\"M17.41 7.96l-1.37-1.37c-.4-.4-.92-.59-1.43-.59-.52 0-1.04.2-1.43.59L10.3 9.45l-7.72 7.72c-.78.78-.78 2.05 0 2.83L4 21.41c.39.39.9.59 1.41.59.51 0 1.02-.2 1.41-.59l7.78-7.78 2.81-2.81c.8-.78.8-2.07 0-2.86zM5.41 20L4 18.59l7.72-7.72 1.47 1.35L5.41 20z\"/>\n",
              "  </svg>\n",
              "      </button>\n",
              "      \n",
              "  <style>\n",
              "    .colab-df-container {\n",
              "      display:flex;\n",
              "      flex-wrap:wrap;\n",
              "      gap: 12px;\n",
              "    }\n",
              "\n",
              "    .colab-df-convert {\n",
              "      background-color: #E8F0FE;\n",
              "      border: none;\n",
              "      border-radius: 50%;\n",
              "      cursor: pointer;\n",
              "      display: none;\n",
              "      fill: #1967D2;\n",
              "      height: 32px;\n",
              "      padding: 0 0 0 0;\n",
              "      width: 32px;\n",
              "    }\n",
              "\n",
              "    .colab-df-convert:hover {\n",
              "      background-color: #E2EBFA;\n",
              "      box-shadow: 0px 1px 2px rgba(60, 64, 67, 0.3), 0px 1px 3px 1px rgba(60, 64, 67, 0.15);\n",
              "      fill: #174EA6;\n",
              "    }\n",
              "\n",
              "    [theme=dark] .colab-df-convert {\n",
              "      background-color: #3B4455;\n",
              "      fill: #D2E3FC;\n",
              "    }\n",
              "\n",
              "    [theme=dark] .colab-df-convert:hover {\n",
              "      background-color: #434B5C;\n",
              "      box-shadow: 0px 1px 3px 1px rgba(0, 0, 0, 0.15);\n",
              "      filter: drop-shadow(0px 1px 2px rgba(0, 0, 0, 0.3));\n",
              "      fill: #FFFFFF;\n",
              "    }\n",
              "  </style>\n",
              "\n",
              "      <script>\n",
              "        const buttonEl =\n",
              "          document.querySelector('#df-a5f89824-6de0-4a7c-813c-18434a11d302 button.colab-df-convert');\n",
              "        buttonEl.style.display =\n",
              "          google.colab.kernel.accessAllowed ? 'block' : 'none';\n",
              "\n",
              "        async function convertToInteractive(key) {\n",
              "          const element = document.querySelector('#df-a5f89824-6de0-4a7c-813c-18434a11d302');\n",
              "          const dataTable =\n",
              "            await google.colab.kernel.invokeFunction('convertToInteractive',\n",
              "                                                     [key], {});\n",
              "          if (!dataTable) return;\n",
              "\n",
              "          const docLinkHtml = 'Like what you see? Visit the ' +\n",
              "            '<a target=\"_blank\" href=https://colab.research.google.com/notebooks/data_table.ipynb>data table notebook</a>'\n",
              "            + ' to learn more about interactive tables.';\n",
              "          element.innerHTML = '';\n",
              "          dataTable['output_type'] = 'display_data';\n",
              "          await google.colab.output.renderOutput(dataTable, element);\n",
              "          const docLink = document.createElement('div');\n",
              "          docLink.innerHTML = docLinkHtml;\n",
              "          element.appendChild(docLink);\n",
              "        }\n",
              "      </script>\n",
              "    </div>\n",
              "  </div>\n",
              "  "
            ]
          },
          "metadata": {},
          "execution_count": 97
        }
      ]
    },
    {
      "cell_type": "markdown",
      "source": [
        "### sqft"
      ],
      "metadata": {
        "id": "ho8he-7PF2-S"
      }
    },
    {
      "cell_type": "code",
      "source": [
        "lower_bound = data.sqft.quantile(q=0.025)\n",
        "upper_bound = data.sqft.quantile(q=0.975)\n",
        "data[(data.sqft < lower_bound) | (data.sqft > upper_bound)]"
      ],
      "metadata": {
        "colab": {
          "base_uri": "https://localhost:8080/"
        },
        "id": "V-EvFhBTF5oA",
        "outputId": "1f03c151-12e2-496b-85ec-fb66583adf88"
      },
      "execution_count": null,
      "outputs": [
        {
          "output_type": "execute_result",
          "data": {
            "text/plain": [
              "        propertyType  street  baths  city         sqft    zipcode   beds  \\\n",
              "3354             126   79900   13.8  1031       3124.4   9.540454   29.0   \n",
              "3511             149  233558    0.0   926         92.4   9.717076    4.0   \n",
              "5294             149  154960    0.0  1372         67.4   1.249534    2.0   \n",
              "7324             126  114990   -2.2   967      53448.4   7.375486  141.0   \n",
              "7338             149  156004    0.0  1915       2696.4  -3.104241    4.0   \n",
              "...              ...     ...    ...   ...          ...        ...    ...   \n",
              "373599           149  274440    0.0  1683       5634.4   1.252243    2.0   \n",
              "375044           126  222650    0.0  1803      15072.4  11.053115    0.0   \n",
              "375276           149  215988    2.3  1204       1422.4   0.000000    2.0   \n",
              "376348           149  100216    0.0   200       3737.4  -0.032146    2.0   \n",
              "376529           126  227077    0.0   673  456593551.4   0.999591    0.0   \n",
              "\n",
              "        state  stories  new_target  ...  status_option  status_pending  \\\n",
              "3354        3      0.0   3600000.0  ...              0               0   \n",
              "3511        3      0.0   6950000.0  ...              0               0   \n",
              "5294       25      0.0   2195000.0  ...              0               0   \n",
              "7324       33      0.0   1590000.0  ...              0               0   \n",
              "7338        5      0.0   8150000.0  ...              0               0   \n",
              "...       ...      ...         ...  ...            ...             ...   \n",
              "373599     25      0.0    995000.0  ...              0               1   \n",
              "375044     37      0.0   1100000.0  ...              0               0   \n",
              "375276     32      0.5   4950000.0  ...              0               0   \n",
              "376348     32      0.0   3950000.0  ...              0               0   \n",
              "376529     13      0.0    198000.0  ...              0               0   \n",
              "\n",
              "        status_pending,  status_pf  status_price change  status_reactivated  \\\n",
              "3354                  0          0                    0                   0   \n",
              "3511                  0          0                    0                   0   \n",
              "5294                  0          0                    0                   0   \n",
              "7324                  0          0                    0                   0   \n",
              "7338                  0          0                    0                   0   \n",
              "...                 ...        ...                  ...                 ...   \n",
              "373599                0          0                    0                   0   \n",
              "375044                0          0                    0                   0   \n",
              "375276                0          0                    0                   0   \n",
              "376348                0          0                    0                   0   \n",
              "376529                0          0                    0                   0   \n",
              "\n",
              "        status_temporary  status_under  fireplace_yes  PrivatePool_yes  \n",
              "3354                   0             0              0                0  \n",
              "3511                   0             0              1                0  \n",
              "5294                   0             0              1                0  \n",
              "7324                   0             0              0                0  \n",
              "7338                   0             0              0                0  \n",
              "...                  ...           ...            ...              ...  \n",
              "373599                 0             0              1                0  \n",
              "375044                 0             0              0                0  \n",
              "375276                 0             0              1                0  \n",
              "376348                 0             0              1                0  \n",
              "376529                 0             0              0                0  \n",
              "\n",
              "[218 rows x 38 columns]"
            ],
            "text/html": [
              "\n",
              "  <div id=\"df-4a0d63e5-b3e3-445c-88e1-e2ff49505103\">\n",
              "    <div class=\"colab-df-container\">\n",
              "      <div>\n",
              "<style scoped>\n",
              "    .dataframe tbody tr th:only-of-type {\n",
              "        vertical-align: middle;\n",
              "    }\n",
              "\n",
              "    .dataframe tbody tr th {\n",
              "        vertical-align: top;\n",
              "    }\n",
              "\n",
              "    .dataframe thead th {\n",
              "        text-align: right;\n",
              "    }\n",
              "</style>\n",
              "<table border=\"1\" class=\"dataframe\">\n",
              "  <thead>\n",
              "    <tr style=\"text-align: right;\">\n",
              "      <th></th>\n",
              "      <th>propertyType</th>\n",
              "      <th>street</th>\n",
              "      <th>baths</th>\n",
              "      <th>city</th>\n",
              "      <th>sqft</th>\n",
              "      <th>zipcode</th>\n",
              "      <th>beds</th>\n",
              "      <th>state</th>\n",
              "      <th>stories</th>\n",
              "      <th>new_target</th>\n",
              "      <th>...</th>\n",
              "      <th>status_option</th>\n",
              "      <th>status_pending</th>\n",
              "      <th>status_pending,</th>\n",
              "      <th>status_pf</th>\n",
              "      <th>status_price change</th>\n",
              "      <th>status_reactivated</th>\n",
              "      <th>status_temporary</th>\n",
              "      <th>status_under</th>\n",
              "      <th>fireplace_yes</th>\n",
              "      <th>PrivatePool_yes</th>\n",
              "    </tr>\n",
              "  </thead>\n",
              "  <tbody>\n",
              "    <tr>\n",
              "      <th>3354</th>\n",
              "      <td>126</td>\n",
              "      <td>79900</td>\n",
              "      <td>13.8</td>\n",
              "      <td>1031</td>\n",
              "      <td>3124.4</td>\n",
              "      <td>9.540454</td>\n",
              "      <td>29.0</td>\n",
              "      <td>3</td>\n",
              "      <td>0.0</td>\n",
              "      <td>3600000.0</td>\n",
              "      <td>...</td>\n",
              "      <td>0</td>\n",
              "      <td>0</td>\n",
              "      <td>0</td>\n",
              "      <td>0</td>\n",
              "      <td>0</td>\n",
              "      <td>0</td>\n",
              "      <td>0</td>\n",
              "      <td>0</td>\n",
              "      <td>0</td>\n",
              "      <td>0</td>\n",
              "    </tr>\n",
              "    <tr>\n",
              "      <th>3511</th>\n",
              "      <td>149</td>\n",
              "      <td>233558</td>\n",
              "      <td>0.0</td>\n",
              "      <td>926</td>\n",
              "      <td>92.4</td>\n",
              "      <td>9.717076</td>\n",
              "      <td>4.0</td>\n",
              "      <td>3</td>\n",
              "      <td>0.0</td>\n",
              "      <td>6950000.0</td>\n",
              "      <td>...</td>\n",
              "      <td>0</td>\n",
              "      <td>0</td>\n",
              "      <td>0</td>\n",
              "      <td>0</td>\n",
              "      <td>0</td>\n",
              "      <td>0</td>\n",
              "      <td>0</td>\n",
              "      <td>0</td>\n",
              "      <td>1</td>\n",
              "      <td>0</td>\n",
              "    </tr>\n",
              "    <tr>\n",
              "      <th>5294</th>\n",
              "      <td>149</td>\n",
              "      <td>154960</td>\n",
              "      <td>0.0</td>\n",
              "      <td>1372</td>\n",
              "      <td>67.4</td>\n",
              "      <td>1.249534</td>\n",
              "      <td>2.0</td>\n",
              "      <td>25</td>\n",
              "      <td>0.0</td>\n",
              "      <td>2195000.0</td>\n",
              "      <td>...</td>\n",
              "      <td>0</td>\n",
              "      <td>0</td>\n",
              "      <td>0</td>\n",
              "      <td>0</td>\n",
              "      <td>0</td>\n",
              "      <td>0</td>\n",
              "      <td>0</td>\n",
              "      <td>0</td>\n",
              "      <td>1</td>\n",
              "      <td>0</td>\n",
              "    </tr>\n",
              "    <tr>\n",
              "      <th>7324</th>\n",
              "      <td>126</td>\n",
              "      <td>114990</td>\n",
              "      <td>-2.2</td>\n",
              "      <td>967</td>\n",
              "      <td>53448.4</td>\n",
              "      <td>7.375486</td>\n",
              "      <td>141.0</td>\n",
              "      <td>33</td>\n",
              "      <td>0.0</td>\n",
              "      <td>1590000.0</td>\n",
              "      <td>...</td>\n",
              "      <td>0</td>\n",
              "      <td>0</td>\n",
              "      <td>0</td>\n",
              "      <td>0</td>\n",
              "      <td>0</td>\n",
              "      <td>0</td>\n",
              "      <td>0</td>\n",
              "      <td>0</td>\n",
              "      <td>0</td>\n",
              "      <td>0</td>\n",
              "    </tr>\n",
              "    <tr>\n",
              "      <th>7338</th>\n",
              "      <td>149</td>\n",
              "      <td>156004</td>\n",
              "      <td>0.0</td>\n",
              "      <td>1915</td>\n",
              "      <td>2696.4</td>\n",
              "      <td>-3.104241</td>\n",
              "      <td>4.0</td>\n",
              "      <td>5</td>\n",
              "      <td>0.0</td>\n",
              "      <td>8150000.0</td>\n",
              "      <td>...</td>\n",
              "      <td>0</td>\n",
              "      <td>0</td>\n",
              "      <td>0</td>\n",
              "      <td>0</td>\n",
              "      <td>0</td>\n",
              "      <td>0</td>\n",
              "      <td>0</td>\n",
              "      <td>0</td>\n",
              "      <td>0</td>\n",
              "      <td>0</td>\n",
              "    </tr>\n",
              "    <tr>\n",
              "      <th>...</th>\n",
              "      <td>...</td>\n",
              "      <td>...</td>\n",
              "      <td>...</td>\n",
              "      <td>...</td>\n",
              "      <td>...</td>\n",
              "      <td>...</td>\n",
              "      <td>...</td>\n",
              "      <td>...</td>\n",
              "      <td>...</td>\n",
              "      <td>...</td>\n",
              "      <td>...</td>\n",
              "      <td>...</td>\n",
              "      <td>...</td>\n",
              "      <td>...</td>\n",
              "      <td>...</td>\n",
              "      <td>...</td>\n",
              "      <td>...</td>\n",
              "      <td>...</td>\n",
              "      <td>...</td>\n",
              "      <td>...</td>\n",
              "      <td>...</td>\n",
              "    </tr>\n",
              "    <tr>\n",
              "      <th>373599</th>\n",
              "      <td>149</td>\n",
              "      <td>274440</td>\n",
              "      <td>0.0</td>\n",
              "      <td>1683</td>\n",
              "      <td>5634.4</td>\n",
              "      <td>1.252243</td>\n",
              "      <td>2.0</td>\n",
              "      <td>25</td>\n",
              "      <td>0.0</td>\n",
              "      <td>995000.0</td>\n",
              "      <td>...</td>\n",
              "      <td>0</td>\n",
              "      <td>1</td>\n",
              "      <td>0</td>\n",
              "      <td>0</td>\n",
              "      <td>0</td>\n",
              "      <td>0</td>\n",
              "      <td>0</td>\n",
              "      <td>0</td>\n",
              "      <td>1</td>\n",
              "      <td>0</td>\n",
              "    </tr>\n",
              "    <tr>\n",
              "      <th>375044</th>\n",
              "      <td>126</td>\n",
              "      <td>222650</td>\n",
              "      <td>0.0</td>\n",
              "      <td>1803</td>\n",
              "      <td>15072.4</td>\n",
              "      <td>11.053115</td>\n",
              "      <td>0.0</td>\n",
              "      <td>37</td>\n",
              "      <td>0.0</td>\n",
              "      <td>1100000.0</td>\n",
              "      <td>...</td>\n",
              "      <td>0</td>\n",
              "      <td>0</td>\n",
              "      <td>0</td>\n",
              "      <td>0</td>\n",
              "      <td>0</td>\n",
              "      <td>0</td>\n",
              "      <td>0</td>\n",
              "      <td>0</td>\n",
              "      <td>0</td>\n",
              "      <td>0</td>\n",
              "    </tr>\n",
              "    <tr>\n",
              "      <th>375276</th>\n",
              "      <td>149</td>\n",
              "      <td>215988</td>\n",
              "      <td>2.3</td>\n",
              "      <td>1204</td>\n",
              "      <td>1422.4</td>\n",
              "      <td>0.000000</td>\n",
              "      <td>2.0</td>\n",
              "      <td>32</td>\n",
              "      <td>0.5</td>\n",
              "      <td>4950000.0</td>\n",
              "      <td>...</td>\n",
              "      <td>0</td>\n",
              "      <td>0</td>\n",
              "      <td>0</td>\n",
              "      <td>0</td>\n",
              "      <td>0</td>\n",
              "      <td>0</td>\n",
              "      <td>0</td>\n",
              "      <td>0</td>\n",
              "      <td>1</td>\n",
              "      <td>0</td>\n",
              "    </tr>\n",
              "    <tr>\n",
              "      <th>376348</th>\n",
              "      <td>149</td>\n",
              "      <td>100216</td>\n",
              "      <td>0.0</td>\n",
              "      <td>200</td>\n",
              "      <td>3737.4</td>\n",
              "      <td>-0.032146</td>\n",
              "      <td>2.0</td>\n",
              "      <td>32</td>\n",
              "      <td>0.0</td>\n",
              "      <td>3950000.0</td>\n",
              "      <td>...</td>\n",
              "      <td>0</td>\n",
              "      <td>0</td>\n",
              "      <td>0</td>\n",
              "      <td>0</td>\n",
              "      <td>0</td>\n",
              "      <td>0</td>\n",
              "      <td>0</td>\n",
              "      <td>0</td>\n",
              "      <td>1</td>\n",
              "      <td>0</td>\n",
              "    </tr>\n",
              "    <tr>\n",
              "      <th>376529</th>\n",
              "      <td>126</td>\n",
              "      <td>227077</td>\n",
              "      <td>0.0</td>\n",
              "      <td>673</td>\n",
              "      <td>456593551.4</td>\n",
              "      <td>0.999591</td>\n",
              "      <td>0.0</td>\n",
              "      <td>13</td>\n",
              "      <td>0.0</td>\n",
              "      <td>198000.0</td>\n",
              "      <td>...</td>\n",
              "      <td>0</td>\n",
              "      <td>0</td>\n",
              "      <td>0</td>\n",
              "      <td>0</td>\n",
              "      <td>0</td>\n",
              "      <td>0</td>\n",
              "      <td>0</td>\n",
              "      <td>0</td>\n",
              "      <td>0</td>\n",
              "      <td>0</td>\n",
              "    </tr>\n",
              "  </tbody>\n",
              "</table>\n",
              "<p>218 rows × 38 columns</p>\n",
              "</div>\n",
              "      <button class=\"colab-df-convert\" onclick=\"convertToInteractive('df-4a0d63e5-b3e3-445c-88e1-e2ff49505103')\"\n",
              "              title=\"Convert this dataframe to an interactive table.\"\n",
              "              style=\"display:none;\">\n",
              "        \n",
              "  <svg xmlns=\"http://www.w3.org/2000/svg\" height=\"24px\"viewBox=\"0 0 24 24\"\n",
              "       width=\"24px\">\n",
              "    <path d=\"M0 0h24v24H0V0z\" fill=\"none\"/>\n",
              "    <path d=\"M18.56 5.44l.94 2.06.94-2.06 2.06-.94-2.06-.94-.94-2.06-.94 2.06-2.06.94zm-11 1L8.5 8.5l.94-2.06 2.06-.94-2.06-.94L8.5 2.5l-.94 2.06-2.06.94zm10 10l.94 2.06.94-2.06 2.06-.94-2.06-.94-.94-2.06-.94 2.06-2.06.94z\"/><path d=\"M17.41 7.96l-1.37-1.37c-.4-.4-.92-.59-1.43-.59-.52 0-1.04.2-1.43.59L10.3 9.45l-7.72 7.72c-.78.78-.78 2.05 0 2.83L4 21.41c.39.39.9.59 1.41.59.51 0 1.02-.2 1.41-.59l7.78-7.78 2.81-2.81c.8-.78.8-2.07 0-2.86zM5.41 20L4 18.59l7.72-7.72 1.47 1.35L5.41 20z\"/>\n",
              "  </svg>\n",
              "      </button>\n",
              "      \n",
              "  <style>\n",
              "    .colab-df-container {\n",
              "      display:flex;\n",
              "      flex-wrap:wrap;\n",
              "      gap: 12px;\n",
              "    }\n",
              "\n",
              "    .colab-df-convert {\n",
              "      background-color: #E8F0FE;\n",
              "      border: none;\n",
              "      border-radius: 50%;\n",
              "      cursor: pointer;\n",
              "      display: none;\n",
              "      fill: #1967D2;\n",
              "      height: 32px;\n",
              "      padding: 0 0 0 0;\n",
              "      width: 32px;\n",
              "    }\n",
              "\n",
              "    .colab-df-convert:hover {\n",
              "      background-color: #E2EBFA;\n",
              "      box-shadow: 0px 1px 2px rgba(60, 64, 67, 0.3), 0px 1px 3px 1px rgba(60, 64, 67, 0.15);\n",
              "      fill: #174EA6;\n",
              "    }\n",
              "\n",
              "    [theme=dark] .colab-df-convert {\n",
              "      background-color: #3B4455;\n",
              "      fill: #D2E3FC;\n",
              "    }\n",
              "\n",
              "    [theme=dark] .colab-df-convert:hover {\n",
              "      background-color: #434B5C;\n",
              "      box-shadow: 0px 1px 3px 1px rgba(0, 0, 0, 0.15);\n",
              "      filter: drop-shadow(0px 1px 2px rgba(0, 0, 0, 0.3));\n",
              "      fill: #FFFFFF;\n",
              "    }\n",
              "  </style>\n",
              "\n",
              "      <script>\n",
              "        const buttonEl =\n",
              "          document.querySelector('#df-4a0d63e5-b3e3-445c-88e1-e2ff49505103 button.colab-df-convert');\n",
              "        buttonEl.style.display =\n",
              "          google.colab.kernel.accessAllowed ? 'block' : 'none';\n",
              "\n",
              "        async function convertToInteractive(key) {\n",
              "          const element = document.querySelector('#df-4a0d63e5-b3e3-445c-88e1-e2ff49505103');\n",
              "          const dataTable =\n",
              "            await google.colab.kernel.invokeFunction('convertToInteractive',\n",
              "                                                     [key], {});\n",
              "          if (!dataTable) return;\n",
              "\n",
              "          const docLinkHtml = 'Like what you see? Visit the ' +\n",
              "            '<a target=\"_blank\" href=https://colab.research.google.com/notebooks/data_table.ipynb>data table notebook</a>'\n",
              "            + ' to learn more about interactive tables.';\n",
              "          element.innerHTML = '';\n",
              "          dataTable['output_type'] = 'display_data';\n",
              "          await google.colab.output.renderOutput(dataTable, element);\n",
              "          const docLink = document.createElement('div');\n",
              "          docLink.innerHTML = docLinkHtml;\n",
              "          element.appendChild(docLink);\n",
              "        }\n",
              "      </script>\n",
              "    </div>\n",
              "  </div>\n",
              "  "
            ]
          },
          "metadata": {},
          "execution_count": 98
        }
      ]
    },
    {
      "cell_type": "code",
      "source": [
        "data[(data.sqft < lower_bound) | (data.sqft > upper_bound)].drop(axis=0, columns='sqft', inplace=True)\n"
      ],
      "metadata": {
        "colab": {
          "base_uri": "https://localhost:8080/"
        },
        "id": "y4BSqUXSOPml",
        "outputId": "b6955d87-554d-4da5-9173-a04d8dce8ae3"
      },
      "execution_count": null,
      "outputs": [
        {
          "output_type": "stream",
          "name": "stderr",
          "text": [
            "/usr/local/lib/python3.7/dist-packages/pandas/core/frame.py:4913: SettingWithCopyWarning: \n",
            "A value is trying to be set on a copy of a slice from a DataFrame\n",
            "\n",
            "See the caveats in the documentation: https://pandas.pydata.org/pandas-docs/stable/user_guide/indexing.html#returning-a-view-versus-a-copy\n",
            "  errors=errors,\n"
          ]
        }
      ]
    },
    {
      "cell_type": "code",
      "source": [
        "data[(data.sqft < lower_bound) | (data.sqft > upper_bound)]"
      ],
      "metadata": {
        "colab": {
          "base_uri": "https://localhost:8080/"
        },
        "id": "hVlZnMANd5Iz",
        "outputId": "ba226df2-69bf-48d4-e093-e7bf8d951ad6"
      },
      "execution_count": null,
      "outputs": [
        {
          "output_type": "execute_result",
          "data": {
            "text/plain": [
              "        propertyType  street  baths  city         sqft    zipcode   beds  \\\n",
              "3354             126   79900   13.8  1031       3124.4   9.540454   29.0   \n",
              "3511             149  233558    0.0   926         92.4   9.717076    4.0   \n",
              "5294             149  154960    0.0  1372         67.4   1.249534    2.0   \n",
              "7324             126  114990   -2.2   967      53448.4   7.375486  141.0   \n",
              "7338             149  156004    0.0  1915       2696.4  -3.104241    4.0   \n",
              "...              ...     ...    ...   ...          ...        ...    ...   \n",
              "373599           149  274440    0.0  1683       5634.4   1.252243    2.0   \n",
              "375044           126  222650    0.0  1803      15072.4  11.053115    0.0   \n",
              "375276           149  215988    2.3  1204       1422.4   0.000000    2.0   \n",
              "376348           149  100216    0.0   200       3737.4  -0.032146    2.0   \n",
              "376529           126  227077    0.0   673  456593551.4   0.999591    0.0   \n",
              "\n",
              "        state  stories  new_target  ...  status_option  status_pending  \\\n",
              "3354        3      0.0   3600000.0  ...              0               0   \n",
              "3511        3      0.0   6950000.0  ...              0               0   \n",
              "5294       25      0.0   2195000.0  ...              0               0   \n",
              "7324       33      0.0   1590000.0  ...              0               0   \n",
              "7338        5      0.0   8150000.0  ...              0               0   \n",
              "...       ...      ...         ...  ...            ...             ...   \n",
              "373599     25      0.0    995000.0  ...              0               1   \n",
              "375044     37      0.0   1100000.0  ...              0               0   \n",
              "375276     32      0.5   4950000.0  ...              0               0   \n",
              "376348     32      0.0   3950000.0  ...              0               0   \n",
              "376529     13      0.0    198000.0  ...              0               0   \n",
              "\n",
              "        status_pending,  status_pf  status_price change  status_reactivated  \\\n",
              "3354                  0          0                    0                   0   \n",
              "3511                  0          0                    0                   0   \n",
              "5294                  0          0                    0                   0   \n",
              "7324                  0          0                    0                   0   \n",
              "7338                  0          0                    0                   0   \n",
              "...                 ...        ...                  ...                 ...   \n",
              "373599                0          0                    0                   0   \n",
              "375044                0          0                    0                   0   \n",
              "375276                0          0                    0                   0   \n",
              "376348                0          0                    0                   0   \n",
              "376529                0          0                    0                   0   \n",
              "\n",
              "        status_temporary  status_under  fireplace_yes  PrivatePool_yes  \n",
              "3354                   0             0              0                0  \n",
              "3511                   0             0              1                0  \n",
              "5294                   0             0              1                0  \n",
              "7324                   0             0              0                0  \n",
              "7338                   0             0              0                0  \n",
              "...                  ...           ...            ...              ...  \n",
              "373599                 0             0              1                0  \n",
              "375044                 0             0              0                0  \n",
              "375276                 0             0              1                0  \n",
              "376348                 0             0              1                0  \n",
              "376529                 0             0              0                0  \n",
              "\n",
              "[218 rows x 38 columns]"
            ],
            "text/html": [
              "\n",
              "  <div id=\"df-1548e048-e182-4b69-b5d6-e6121de31a6e\">\n",
              "    <div class=\"colab-df-container\">\n",
              "      <div>\n",
              "<style scoped>\n",
              "    .dataframe tbody tr th:only-of-type {\n",
              "        vertical-align: middle;\n",
              "    }\n",
              "\n",
              "    .dataframe tbody tr th {\n",
              "        vertical-align: top;\n",
              "    }\n",
              "\n",
              "    .dataframe thead th {\n",
              "        text-align: right;\n",
              "    }\n",
              "</style>\n",
              "<table border=\"1\" class=\"dataframe\">\n",
              "  <thead>\n",
              "    <tr style=\"text-align: right;\">\n",
              "      <th></th>\n",
              "      <th>propertyType</th>\n",
              "      <th>street</th>\n",
              "      <th>baths</th>\n",
              "      <th>city</th>\n",
              "      <th>sqft</th>\n",
              "      <th>zipcode</th>\n",
              "      <th>beds</th>\n",
              "      <th>state</th>\n",
              "      <th>stories</th>\n",
              "      <th>new_target</th>\n",
              "      <th>...</th>\n",
              "      <th>status_option</th>\n",
              "      <th>status_pending</th>\n",
              "      <th>status_pending,</th>\n",
              "      <th>status_pf</th>\n",
              "      <th>status_price change</th>\n",
              "      <th>status_reactivated</th>\n",
              "      <th>status_temporary</th>\n",
              "      <th>status_under</th>\n",
              "      <th>fireplace_yes</th>\n",
              "      <th>PrivatePool_yes</th>\n",
              "    </tr>\n",
              "  </thead>\n",
              "  <tbody>\n",
              "    <tr>\n",
              "      <th>3354</th>\n",
              "      <td>126</td>\n",
              "      <td>79900</td>\n",
              "      <td>13.8</td>\n",
              "      <td>1031</td>\n",
              "      <td>3124.4</td>\n",
              "      <td>9.540454</td>\n",
              "      <td>29.0</td>\n",
              "      <td>3</td>\n",
              "      <td>0.0</td>\n",
              "      <td>3600000.0</td>\n",
              "      <td>...</td>\n",
              "      <td>0</td>\n",
              "      <td>0</td>\n",
              "      <td>0</td>\n",
              "      <td>0</td>\n",
              "      <td>0</td>\n",
              "      <td>0</td>\n",
              "      <td>0</td>\n",
              "      <td>0</td>\n",
              "      <td>0</td>\n",
              "      <td>0</td>\n",
              "    </tr>\n",
              "    <tr>\n",
              "      <th>3511</th>\n",
              "      <td>149</td>\n",
              "      <td>233558</td>\n",
              "      <td>0.0</td>\n",
              "      <td>926</td>\n",
              "      <td>92.4</td>\n",
              "      <td>9.717076</td>\n",
              "      <td>4.0</td>\n",
              "      <td>3</td>\n",
              "      <td>0.0</td>\n",
              "      <td>6950000.0</td>\n",
              "      <td>...</td>\n",
              "      <td>0</td>\n",
              "      <td>0</td>\n",
              "      <td>0</td>\n",
              "      <td>0</td>\n",
              "      <td>0</td>\n",
              "      <td>0</td>\n",
              "      <td>0</td>\n",
              "      <td>0</td>\n",
              "      <td>1</td>\n",
              "      <td>0</td>\n",
              "    </tr>\n",
              "    <tr>\n",
              "      <th>5294</th>\n",
              "      <td>149</td>\n",
              "      <td>154960</td>\n",
              "      <td>0.0</td>\n",
              "      <td>1372</td>\n",
              "      <td>67.4</td>\n",
              "      <td>1.249534</td>\n",
              "      <td>2.0</td>\n",
              "      <td>25</td>\n",
              "      <td>0.0</td>\n",
              "      <td>2195000.0</td>\n",
              "      <td>...</td>\n",
              "      <td>0</td>\n",
              "      <td>0</td>\n",
              "      <td>0</td>\n",
              "      <td>0</td>\n",
              "      <td>0</td>\n",
              "      <td>0</td>\n",
              "      <td>0</td>\n",
              "      <td>0</td>\n",
              "      <td>1</td>\n",
              "      <td>0</td>\n",
              "    </tr>\n",
              "    <tr>\n",
              "      <th>7324</th>\n",
              "      <td>126</td>\n",
              "      <td>114990</td>\n",
              "      <td>-2.2</td>\n",
              "      <td>967</td>\n",
              "      <td>53448.4</td>\n",
              "      <td>7.375486</td>\n",
              "      <td>141.0</td>\n",
              "      <td>33</td>\n",
              "      <td>0.0</td>\n",
              "      <td>1590000.0</td>\n",
              "      <td>...</td>\n",
              "      <td>0</td>\n",
              "      <td>0</td>\n",
              "      <td>0</td>\n",
              "      <td>0</td>\n",
              "      <td>0</td>\n",
              "      <td>0</td>\n",
              "      <td>0</td>\n",
              "      <td>0</td>\n",
              "      <td>0</td>\n",
              "      <td>0</td>\n",
              "    </tr>\n",
              "    <tr>\n",
              "      <th>7338</th>\n",
              "      <td>149</td>\n",
              "      <td>156004</td>\n",
              "      <td>0.0</td>\n",
              "      <td>1915</td>\n",
              "      <td>2696.4</td>\n",
              "      <td>-3.104241</td>\n",
              "      <td>4.0</td>\n",
              "      <td>5</td>\n",
              "      <td>0.0</td>\n",
              "      <td>8150000.0</td>\n",
              "      <td>...</td>\n",
              "      <td>0</td>\n",
              "      <td>0</td>\n",
              "      <td>0</td>\n",
              "      <td>0</td>\n",
              "      <td>0</td>\n",
              "      <td>0</td>\n",
              "      <td>0</td>\n",
              "      <td>0</td>\n",
              "      <td>0</td>\n",
              "      <td>0</td>\n",
              "    </tr>\n",
              "    <tr>\n",
              "      <th>...</th>\n",
              "      <td>...</td>\n",
              "      <td>...</td>\n",
              "      <td>...</td>\n",
              "      <td>...</td>\n",
              "      <td>...</td>\n",
              "      <td>...</td>\n",
              "      <td>...</td>\n",
              "      <td>...</td>\n",
              "      <td>...</td>\n",
              "      <td>...</td>\n",
              "      <td>...</td>\n",
              "      <td>...</td>\n",
              "      <td>...</td>\n",
              "      <td>...</td>\n",
              "      <td>...</td>\n",
              "      <td>...</td>\n",
              "      <td>...</td>\n",
              "      <td>...</td>\n",
              "      <td>...</td>\n",
              "      <td>...</td>\n",
              "      <td>...</td>\n",
              "    </tr>\n",
              "    <tr>\n",
              "      <th>373599</th>\n",
              "      <td>149</td>\n",
              "      <td>274440</td>\n",
              "      <td>0.0</td>\n",
              "      <td>1683</td>\n",
              "      <td>5634.4</td>\n",
              "      <td>1.252243</td>\n",
              "      <td>2.0</td>\n",
              "      <td>25</td>\n",
              "      <td>0.0</td>\n",
              "      <td>995000.0</td>\n",
              "      <td>...</td>\n",
              "      <td>0</td>\n",
              "      <td>1</td>\n",
              "      <td>0</td>\n",
              "      <td>0</td>\n",
              "      <td>0</td>\n",
              "      <td>0</td>\n",
              "      <td>0</td>\n",
              "      <td>0</td>\n",
              "      <td>1</td>\n",
              "      <td>0</td>\n",
              "    </tr>\n",
              "    <tr>\n",
              "      <th>375044</th>\n",
              "      <td>126</td>\n",
              "      <td>222650</td>\n",
              "      <td>0.0</td>\n",
              "      <td>1803</td>\n",
              "      <td>15072.4</td>\n",
              "      <td>11.053115</td>\n",
              "      <td>0.0</td>\n",
              "      <td>37</td>\n",
              "      <td>0.0</td>\n",
              "      <td>1100000.0</td>\n",
              "      <td>...</td>\n",
              "      <td>0</td>\n",
              "      <td>0</td>\n",
              "      <td>0</td>\n",
              "      <td>0</td>\n",
              "      <td>0</td>\n",
              "      <td>0</td>\n",
              "      <td>0</td>\n",
              "      <td>0</td>\n",
              "      <td>0</td>\n",
              "      <td>0</td>\n",
              "    </tr>\n",
              "    <tr>\n",
              "      <th>375276</th>\n",
              "      <td>149</td>\n",
              "      <td>215988</td>\n",
              "      <td>2.3</td>\n",
              "      <td>1204</td>\n",
              "      <td>1422.4</td>\n",
              "      <td>0.000000</td>\n",
              "      <td>2.0</td>\n",
              "      <td>32</td>\n",
              "      <td>0.5</td>\n",
              "      <td>4950000.0</td>\n",
              "      <td>...</td>\n",
              "      <td>0</td>\n",
              "      <td>0</td>\n",
              "      <td>0</td>\n",
              "      <td>0</td>\n",
              "      <td>0</td>\n",
              "      <td>0</td>\n",
              "      <td>0</td>\n",
              "      <td>0</td>\n",
              "      <td>1</td>\n",
              "      <td>0</td>\n",
              "    </tr>\n",
              "    <tr>\n",
              "      <th>376348</th>\n",
              "      <td>149</td>\n",
              "      <td>100216</td>\n",
              "      <td>0.0</td>\n",
              "      <td>200</td>\n",
              "      <td>3737.4</td>\n",
              "      <td>-0.032146</td>\n",
              "      <td>2.0</td>\n",
              "      <td>32</td>\n",
              "      <td>0.0</td>\n",
              "      <td>3950000.0</td>\n",
              "      <td>...</td>\n",
              "      <td>0</td>\n",
              "      <td>0</td>\n",
              "      <td>0</td>\n",
              "      <td>0</td>\n",
              "      <td>0</td>\n",
              "      <td>0</td>\n",
              "      <td>0</td>\n",
              "      <td>0</td>\n",
              "      <td>1</td>\n",
              "      <td>0</td>\n",
              "    </tr>\n",
              "    <tr>\n",
              "      <th>376529</th>\n",
              "      <td>126</td>\n",
              "      <td>227077</td>\n",
              "      <td>0.0</td>\n",
              "      <td>673</td>\n",
              "      <td>456593551.4</td>\n",
              "      <td>0.999591</td>\n",
              "      <td>0.0</td>\n",
              "      <td>13</td>\n",
              "      <td>0.0</td>\n",
              "      <td>198000.0</td>\n",
              "      <td>...</td>\n",
              "      <td>0</td>\n",
              "      <td>0</td>\n",
              "      <td>0</td>\n",
              "      <td>0</td>\n",
              "      <td>0</td>\n",
              "      <td>0</td>\n",
              "      <td>0</td>\n",
              "      <td>0</td>\n",
              "      <td>0</td>\n",
              "      <td>0</td>\n",
              "    </tr>\n",
              "  </tbody>\n",
              "</table>\n",
              "<p>218 rows × 38 columns</p>\n",
              "</div>\n",
              "      <button class=\"colab-df-convert\" onclick=\"convertToInteractive('df-1548e048-e182-4b69-b5d6-e6121de31a6e')\"\n",
              "              title=\"Convert this dataframe to an interactive table.\"\n",
              "              style=\"display:none;\">\n",
              "        \n",
              "  <svg xmlns=\"http://www.w3.org/2000/svg\" height=\"24px\"viewBox=\"0 0 24 24\"\n",
              "       width=\"24px\">\n",
              "    <path d=\"M0 0h24v24H0V0z\" fill=\"none\"/>\n",
              "    <path d=\"M18.56 5.44l.94 2.06.94-2.06 2.06-.94-2.06-.94-.94-2.06-.94 2.06-2.06.94zm-11 1L8.5 8.5l.94-2.06 2.06-.94-2.06-.94L8.5 2.5l-.94 2.06-2.06.94zm10 10l.94 2.06.94-2.06 2.06-.94-2.06-.94-.94-2.06-.94 2.06-2.06.94z\"/><path d=\"M17.41 7.96l-1.37-1.37c-.4-.4-.92-.59-1.43-.59-.52 0-1.04.2-1.43.59L10.3 9.45l-7.72 7.72c-.78.78-.78 2.05 0 2.83L4 21.41c.39.39.9.59 1.41.59.51 0 1.02-.2 1.41-.59l7.78-7.78 2.81-2.81c.8-.78.8-2.07 0-2.86zM5.41 20L4 18.59l7.72-7.72 1.47 1.35L5.41 20z\"/>\n",
              "  </svg>\n",
              "      </button>\n",
              "      \n",
              "  <style>\n",
              "    .colab-df-container {\n",
              "      display:flex;\n",
              "      flex-wrap:wrap;\n",
              "      gap: 12px;\n",
              "    }\n",
              "\n",
              "    .colab-df-convert {\n",
              "      background-color: #E8F0FE;\n",
              "      border: none;\n",
              "      border-radius: 50%;\n",
              "      cursor: pointer;\n",
              "      display: none;\n",
              "      fill: #1967D2;\n",
              "      height: 32px;\n",
              "      padding: 0 0 0 0;\n",
              "      width: 32px;\n",
              "    }\n",
              "\n",
              "    .colab-df-convert:hover {\n",
              "      background-color: #E2EBFA;\n",
              "      box-shadow: 0px 1px 2px rgba(60, 64, 67, 0.3), 0px 1px 3px 1px rgba(60, 64, 67, 0.15);\n",
              "      fill: #174EA6;\n",
              "    }\n",
              "\n",
              "    [theme=dark] .colab-df-convert {\n",
              "      background-color: #3B4455;\n",
              "      fill: #D2E3FC;\n",
              "    }\n",
              "\n",
              "    [theme=dark] .colab-df-convert:hover {\n",
              "      background-color: #434B5C;\n",
              "      box-shadow: 0px 1px 3px 1px rgba(0, 0, 0, 0.15);\n",
              "      filter: drop-shadow(0px 1px 2px rgba(0, 0, 0, 0.3));\n",
              "      fill: #FFFFFF;\n",
              "    }\n",
              "  </style>\n",
              "\n",
              "      <script>\n",
              "        const buttonEl =\n",
              "          document.querySelector('#df-1548e048-e182-4b69-b5d6-e6121de31a6e button.colab-df-convert');\n",
              "        buttonEl.style.display =\n",
              "          google.colab.kernel.accessAllowed ? 'block' : 'none';\n",
              "\n",
              "        async function convertToInteractive(key) {\n",
              "          const element = document.querySelector('#df-1548e048-e182-4b69-b5d6-e6121de31a6e');\n",
              "          const dataTable =\n",
              "            await google.colab.kernel.invokeFunction('convertToInteractive',\n",
              "                                                     [key], {});\n",
              "          if (!dataTable) return;\n",
              "\n",
              "          const docLinkHtml = 'Like what you see? Visit the ' +\n",
              "            '<a target=\"_blank\" href=https://colab.research.google.com/notebooks/data_table.ipynb>data table notebook</a>'\n",
              "            + ' to learn more about interactive tables.';\n",
              "          element.innerHTML = '';\n",
              "          dataTable['output_type'] = 'display_data';\n",
              "          await google.colab.output.renderOutput(dataTable, element);\n",
              "          const docLink = document.createElement('div');\n",
              "          docLink.innerHTML = docLinkHtml;\n",
              "          element.appendChild(docLink);\n",
              "        }\n",
              "      </script>\n",
              "    </div>\n",
              "  </div>\n",
              "  "
            ]
          },
          "metadata": {},
          "execution_count": 100
        }
      ]
    },
    {
      "cell_type": "markdown",
      "source": [
        "### zipcode"
      ],
      "metadata": {
        "id": "8XpXl1mNF7uk"
      }
    },
    {
      "cell_type": "code",
      "source": [
        "lower_bound = data.zipcode.quantile(q=0.025)\n",
        "upper_bound = data.zipcode.quantile(q=0.975)\n",
        "data[(data.zipcode < lower_bound) | (data.zipcode > upper_bound)]"
      ],
      "metadata": {
        "colab": {
          "base_uri": "https://localhost:8080/"
        },
        "id": "kryVag_fF-Mg",
        "outputId": "0c38a281-dd2e-4aa5-a9be-687624e37609"
      },
      "execution_count": null,
      "outputs": [
        {
          "output_type": "execute_result",
          "data": {
            "text/plain": [
              "        propertyType  street  baths  city    sqft    zipcode  beds  state  \\\n",
              "1                150   43403    0.0  1715     0.0  11.198855   0.0     37   \n",
              "17               167  124771    0.0  1226     0.0  -4.908201   0.0     24   \n",
              "42               130  324918    0.0  1226     0.0  -4.911994   0.0     24   \n",
              "69               149  134145   -2.2   958 -6655.6  -5.147670  -1.0     22   \n",
              "78                40  168245    0.0   182     0.0  -6.334899   0.0     14   \n",
              "...              ...     ...    ...   ...     ...        ...   ...    ...   \n",
              "377044            40  260741   -2.2   182     0.0  -6.336525   0.0     14   \n",
              "377062            42  185573   -0.7   958 -5757.6  -5.147670   2.0     22   \n",
              "377088           150  219118    0.0  2004     0.0  11.141968   0.0     37   \n",
              "377108            40  255894    0.0   182     0.0  -6.334177   0.0     14   \n",
              "377155           150    6284    0.0  1637     0.0  11.003271   0.0     37   \n",
              "\n",
              "        stories  new_target  ...  status_option  status_pending  \\\n",
              "1           0.0    310000.0  ...              0               0   \n",
              "17          0.0   2650000.0  ...              0               0   \n",
              "42          0.0    850000.0  ...              0               0   \n",
              "69         -1.0    269000.0  ...              0               0   \n",
              "78          0.0    916900.0  ...              0               0   \n",
              "...         ...         ...  ...            ...             ...   \n",
              "377044     -1.0   1450000.0  ...              0               0   \n",
              "377062      1.0    569900.0  ...              0               0   \n",
              "377088      0.0    299900.0  ...              0               0   \n",
              "377108      0.0    399000.0  ...              0               0   \n",
              "377155      0.0    725000.0  ...              0               0   \n",
              "\n",
              "        status_pending,  status_pf  status_price change  status_reactivated  \\\n",
              "1                     0          0                    0                   0   \n",
              "17                    0          0                    0                   0   \n",
              "42                    0          0                    0                   0   \n",
              "69                    0          0                    0                   0   \n",
              "78                    0          0                    0                   0   \n",
              "...                 ...        ...                  ...                 ...   \n",
              "377044                0          0                    0                   0   \n",
              "377062                0          0                    0                   0   \n",
              "377088                0          0                    0                   0   \n",
              "377108                0          0                    0                   0   \n",
              "377155                0          0                    0                   0   \n",
              "\n",
              "        status_temporary  status_under  fireplace_yes  PrivatePool_yes  \n",
              "1                      0             0              0                0  \n",
              "17                     0             0              0                0  \n",
              "42                     0             0              0                0  \n",
              "69                     0             0              0                0  \n",
              "78                     0             0              0                0  \n",
              "...                  ...           ...            ...              ...  \n",
              "377044                 0             0              0                0  \n",
              "377062                 0             0              0                0  \n",
              "377088                 0             0              1                0  \n",
              "377108                 0             0              0                0  \n",
              "377155                 0             0              0                0  \n",
              "\n",
              "[18533 rows x 38 columns]"
            ],
            "text/html": [
              "\n",
              "  <div id=\"df-ab79553e-286d-4a21-ac5b-1151d6a3a2d6\">\n",
              "    <div class=\"colab-df-container\">\n",
              "      <div>\n",
              "<style scoped>\n",
              "    .dataframe tbody tr th:only-of-type {\n",
              "        vertical-align: middle;\n",
              "    }\n",
              "\n",
              "    .dataframe tbody tr th {\n",
              "        vertical-align: top;\n",
              "    }\n",
              "\n",
              "    .dataframe thead th {\n",
              "        text-align: right;\n",
              "    }\n",
              "</style>\n",
              "<table border=\"1\" class=\"dataframe\">\n",
              "  <thead>\n",
              "    <tr style=\"text-align: right;\">\n",
              "      <th></th>\n",
              "      <th>propertyType</th>\n",
              "      <th>street</th>\n",
              "      <th>baths</th>\n",
              "      <th>city</th>\n",
              "      <th>sqft</th>\n",
              "      <th>zipcode</th>\n",
              "      <th>beds</th>\n",
              "      <th>state</th>\n",
              "      <th>stories</th>\n",
              "      <th>new_target</th>\n",
              "      <th>...</th>\n",
              "      <th>status_option</th>\n",
              "      <th>status_pending</th>\n",
              "      <th>status_pending,</th>\n",
              "      <th>status_pf</th>\n",
              "      <th>status_price change</th>\n",
              "      <th>status_reactivated</th>\n",
              "      <th>status_temporary</th>\n",
              "      <th>status_under</th>\n",
              "      <th>fireplace_yes</th>\n",
              "      <th>PrivatePool_yes</th>\n",
              "    </tr>\n",
              "  </thead>\n",
              "  <tbody>\n",
              "    <tr>\n",
              "      <th>1</th>\n",
              "      <td>150</td>\n",
              "      <td>43403</td>\n",
              "      <td>0.0</td>\n",
              "      <td>1715</td>\n",
              "      <td>0.0</td>\n",
              "      <td>11.198855</td>\n",
              "      <td>0.0</td>\n",
              "      <td>37</td>\n",
              "      <td>0.0</td>\n",
              "      <td>310000.0</td>\n",
              "      <td>...</td>\n",
              "      <td>0</td>\n",
              "      <td>0</td>\n",
              "      <td>0</td>\n",
              "      <td>0</td>\n",
              "      <td>0</td>\n",
              "      <td>0</td>\n",
              "      <td>0</td>\n",
              "      <td>0</td>\n",
              "      <td>0</td>\n",
              "      <td>0</td>\n",
              "    </tr>\n",
              "    <tr>\n",
              "      <th>17</th>\n",
              "      <td>167</td>\n",
              "      <td>124771</td>\n",
              "      <td>0.0</td>\n",
              "      <td>1226</td>\n",
              "      <td>0.0</td>\n",
              "      <td>-4.908201</td>\n",
              "      <td>0.0</td>\n",
              "      <td>24</td>\n",
              "      <td>0.0</td>\n",
              "      <td>2650000.0</td>\n",
              "      <td>...</td>\n",
              "      <td>0</td>\n",
              "      <td>0</td>\n",
              "      <td>0</td>\n",
              "      <td>0</td>\n",
              "      <td>0</td>\n",
              "      <td>0</td>\n",
              "      <td>0</td>\n",
              "      <td>0</td>\n",
              "      <td>0</td>\n",
              "      <td>0</td>\n",
              "    </tr>\n",
              "    <tr>\n",
              "      <th>42</th>\n",
              "      <td>130</td>\n",
              "      <td>324918</td>\n",
              "      <td>0.0</td>\n",
              "      <td>1226</td>\n",
              "      <td>0.0</td>\n",
              "      <td>-4.911994</td>\n",
              "      <td>0.0</td>\n",
              "      <td>24</td>\n",
              "      <td>0.0</td>\n",
              "      <td>850000.0</td>\n",
              "      <td>...</td>\n",
              "      <td>0</td>\n",
              "      <td>0</td>\n",
              "      <td>0</td>\n",
              "      <td>0</td>\n",
              "      <td>0</td>\n",
              "      <td>0</td>\n",
              "      <td>0</td>\n",
              "      <td>0</td>\n",
              "      <td>0</td>\n",
              "      <td>0</td>\n",
              "    </tr>\n",
              "    <tr>\n",
              "      <th>69</th>\n",
              "      <td>149</td>\n",
              "      <td>134145</td>\n",
              "      <td>-2.2</td>\n",
              "      <td>958</td>\n",
              "      <td>-6655.6</td>\n",
              "      <td>-5.147670</td>\n",
              "      <td>-1.0</td>\n",
              "      <td>22</td>\n",
              "      <td>-1.0</td>\n",
              "      <td>269000.0</td>\n",
              "      <td>...</td>\n",
              "      <td>0</td>\n",
              "      <td>0</td>\n",
              "      <td>0</td>\n",
              "      <td>0</td>\n",
              "      <td>0</td>\n",
              "      <td>0</td>\n",
              "      <td>0</td>\n",
              "      <td>0</td>\n",
              "      <td>0</td>\n",
              "      <td>0</td>\n",
              "    </tr>\n",
              "    <tr>\n",
              "      <th>78</th>\n",
              "      <td>40</td>\n",
              "      <td>168245</td>\n",
              "      <td>0.0</td>\n",
              "      <td>182</td>\n",
              "      <td>0.0</td>\n",
              "      <td>-6.334899</td>\n",
              "      <td>0.0</td>\n",
              "      <td>14</td>\n",
              "      <td>0.0</td>\n",
              "      <td>916900.0</td>\n",
              "      <td>...</td>\n",
              "      <td>0</td>\n",
              "      <td>0</td>\n",
              "      <td>0</td>\n",
              "      <td>0</td>\n",
              "      <td>0</td>\n",
              "      <td>0</td>\n",
              "      <td>0</td>\n",
              "      <td>0</td>\n",
              "      <td>0</td>\n",
              "      <td>0</td>\n",
              "    </tr>\n",
              "    <tr>\n",
              "      <th>...</th>\n",
              "      <td>...</td>\n",
              "      <td>...</td>\n",
              "      <td>...</td>\n",
              "      <td>...</td>\n",
              "      <td>...</td>\n",
              "      <td>...</td>\n",
              "      <td>...</td>\n",
              "      <td>...</td>\n",
              "      <td>...</td>\n",
              "      <td>...</td>\n",
              "      <td>...</td>\n",
              "      <td>...</td>\n",
              "      <td>...</td>\n",
              "      <td>...</td>\n",
              "      <td>...</td>\n",
              "      <td>...</td>\n",
              "      <td>...</td>\n",
              "      <td>...</td>\n",
              "      <td>...</td>\n",
              "      <td>...</td>\n",
              "      <td>...</td>\n",
              "    </tr>\n",
              "    <tr>\n",
              "      <th>377044</th>\n",
              "      <td>40</td>\n",
              "      <td>260741</td>\n",
              "      <td>-2.2</td>\n",
              "      <td>182</td>\n",
              "      <td>0.0</td>\n",
              "      <td>-6.336525</td>\n",
              "      <td>0.0</td>\n",
              "      <td>14</td>\n",
              "      <td>-1.0</td>\n",
              "      <td>1450000.0</td>\n",
              "      <td>...</td>\n",
              "      <td>0</td>\n",
              "      <td>0</td>\n",
              "      <td>0</td>\n",
              "      <td>0</td>\n",
              "      <td>0</td>\n",
              "      <td>0</td>\n",
              "      <td>0</td>\n",
              "      <td>0</td>\n",
              "      <td>0</td>\n",
              "      <td>0</td>\n",
              "    </tr>\n",
              "    <tr>\n",
              "      <th>377062</th>\n",
              "      <td>42</td>\n",
              "      <td>185573</td>\n",
              "      <td>-0.7</td>\n",
              "      <td>958</td>\n",
              "      <td>-5757.6</td>\n",
              "      <td>-5.147670</td>\n",
              "      <td>2.0</td>\n",
              "      <td>22</td>\n",
              "      <td>1.0</td>\n",
              "      <td>569900.0</td>\n",
              "      <td>...</td>\n",
              "      <td>0</td>\n",
              "      <td>0</td>\n",
              "      <td>0</td>\n",
              "      <td>0</td>\n",
              "      <td>0</td>\n",
              "      <td>0</td>\n",
              "      <td>0</td>\n",
              "      <td>0</td>\n",
              "      <td>0</td>\n",
              "      <td>0</td>\n",
              "    </tr>\n",
              "    <tr>\n",
              "      <th>377088</th>\n",
              "      <td>150</td>\n",
              "      <td>219118</td>\n",
              "      <td>0.0</td>\n",
              "      <td>2004</td>\n",
              "      <td>0.0</td>\n",
              "      <td>11.141968</td>\n",
              "      <td>0.0</td>\n",
              "      <td>37</td>\n",
              "      <td>0.0</td>\n",
              "      <td>299900.0</td>\n",
              "      <td>...</td>\n",
              "      <td>0</td>\n",
              "      <td>0</td>\n",
              "      <td>0</td>\n",
              "      <td>0</td>\n",
              "      <td>0</td>\n",
              "      <td>0</td>\n",
              "      <td>0</td>\n",
              "      <td>0</td>\n",
              "      <td>1</td>\n",
              "      <td>0</td>\n",
              "    </tr>\n",
              "    <tr>\n",
              "      <th>377108</th>\n",
              "      <td>40</td>\n",
              "      <td>255894</td>\n",
              "      <td>0.0</td>\n",
              "      <td>182</td>\n",
              "      <td>0.0</td>\n",
              "      <td>-6.334177</td>\n",
              "      <td>0.0</td>\n",
              "      <td>14</td>\n",
              "      <td>0.0</td>\n",
              "      <td>399000.0</td>\n",
              "      <td>...</td>\n",
              "      <td>0</td>\n",
              "      <td>0</td>\n",
              "      <td>0</td>\n",
              "      <td>0</td>\n",
              "      <td>0</td>\n",
              "      <td>0</td>\n",
              "      <td>0</td>\n",
              "      <td>0</td>\n",
              "      <td>0</td>\n",
              "      <td>0</td>\n",
              "    </tr>\n",
              "    <tr>\n",
              "      <th>377155</th>\n",
              "      <td>150</td>\n",
              "      <td>6284</td>\n",
              "      <td>0.0</td>\n",
              "      <td>1637</td>\n",
              "      <td>0.0</td>\n",
              "      <td>11.003271</td>\n",
              "      <td>0.0</td>\n",
              "      <td>37</td>\n",
              "      <td>0.0</td>\n",
              "      <td>725000.0</td>\n",
              "      <td>...</td>\n",
              "      <td>0</td>\n",
              "      <td>0</td>\n",
              "      <td>0</td>\n",
              "      <td>0</td>\n",
              "      <td>0</td>\n",
              "      <td>0</td>\n",
              "      <td>0</td>\n",
              "      <td>0</td>\n",
              "      <td>0</td>\n",
              "      <td>0</td>\n",
              "    </tr>\n",
              "  </tbody>\n",
              "</table>\n",
              "<p>18533 rows × 38 columns</p>\n",
              "</div>\n",
              "      <button class=\"colab-df-convert\" onclick=\"convertToInteractive('df-ab79553e-286d-4a21-ac5b-1151d6a3a2d6')\"\n",
              "              title=\"Convert this dataframe to an interactive table.\"\n",
              "              style=\"display:none;\">\n",
              "        \n",
              "  <svg xmlns=\"http://www.w3.org/2000/svg\" height=\"24px\"viewBox=\"0 0 24 24\"\n",
              "       width=\"24px\">\n",
              "    <path d=\"M0 0h24v24H0V0z\" fill=\"none\"/>\n",
              "    <path d=\"M18.56 5.44l.94 2.06.94-2.06 2.06-.94-2.06-.94-.94-2.06-.94 2.06-2.06.94zm-11 1L8.5 8.5l.94-2.06 2.06-.94-2.06-.94L8.5 2.5l-.94 2.06-2.06.94zm10 10l.94 2.06.94-2.06 2.06-.94-2.06-.94-.94-2.06-.94 2.06-2.06.94z\"/><path d=\"M17.41 7.96l-1.37-1.37c-.4-.4-.92-.59-1.43-.59-.52 0-1.04.2-1.43.59L10.3 9.45l-7.72 7.72c-.78.78-.78 2.05 0 2.83L4 21.41c.39.39.9.59 1.41.59.51 0 1.02-.2 1.41-.59l7.78-7.78 2.81-2.81c.8-.78.8-2.07 0-2.86zM5.41 20L4 18.59l7.72-7.72 1.47 1.35L5.41 20z\"/>\n",
              "  </svg>\n",
              "      </button>\n",
              "      \n",
              "  <style>\n",
              "    .colab-df-container {\n",
              "      display:flex;\n",
              "      flex-wrap:wrap;\n",
              "      gap: 12px;\n",
              "    }\n",
              "\n",
              "    .colab-df-convert {\n",
              "      background-color: #E8F0FE;\n",
              "      border: none;\n",
              "      border-radius: 50%;\n",
              "      cursor: pointer;\n",
              "      display: none;\n",
              "      fill: #1967D2;\n",
              "      height: 32px;\n",
              "      padding: 0 0 0 0;\n",
              "      width: 32px;\n",
              "    }\n",
              "\n",
              "    .colab-df-convert:hover {\n",
              "      background-color: #E2EBFA;\n",
              "      box-shadow: 0px 1px 2px rgba(60, 64, 67, 0.3), 0px 1px 3px 1px rgba(60, 64, 67, 0.15);\n",
              "      fill: #174EA6;\n",
              "    }\n",
              "\n",
              "    [theme=dark] .colab-df-convert {\n",
              "      background-color: #3B4455;\n",
              "      fill: #D2E3FC;\n",
              "    }\n",
              "\n",
              "    [theme=dark] .colab-df-convert:hover {\n",
              "      background-color: #434B5C;\n",
              "      box-shadow: 0px 1px 3px 1px rgba(0, 0, 0, 0.15);\n",
              "      filter: drop-shadow(0px 1px 2px rgba(0, 0, 0, 0.3));\n",
              "      fill: #FFFFFF;\n",
              "    }\n",
              "  </style>\n",
              "\n",
              "      <script>\n",
              "        const buttonEl =\n",
              "          document.querySelector('#df-ab79553e-286d-4a21-ac5b-1151d6a3a2d6 button.colab-df-convert');\n",
              "        buttonEl.style.display =\n",
              "          google.colab.kernel.accessAllowed ? 'block' : 'none';\n",
              "\n",
              "        async function convertToInteractive(key) {\n",
              "          const element = document.querySelector('#df-ab79553e-286d-4a21-ac5b-1151d6a3a2d6');\n",
              "          const dataTable =\n",
              "            await google.colab.kernel.invokeFunction('convertToInteractive',\n",
              "                                                     [key], {});\n",
              "          if (!dataTable) return;\n",
              "\n",
              "          const docLinkHtml = 'Like what you see? Visit the ' +\n",
              "            '<a target=\"_blank\" href=https://colab.research.google.com/notebooks/data_table.ipynb>data table notebook</a>'\n",
              "            + ' to learn more about interactive tables.';\n",
              "          element.innerHTML = '';\n",
              "          dataTable['output_type'] = 'display_data';\n",
              "          await google.colab.output.renderOutput(dataTable, element);\n",
              "          const docLink = document.createElement('div');\n",
              "          docLink.innerHTML = docLinkHtml;\n",
              "          element.appendChild(docLink);\n",
              "        }\n",
              "      </script>\n",
              "    </div>\n",
              "  </div>\n",
              "  "
            ]
          },
          "metadata": {},
          "execution_count": 101
        }
      ]
    },
    {
      "cell_type": "code",
      "source": [
        "data[(data.zipcode > upper_bound)].drop(axis=0, columns='zipcode', inplace=True)"
      ],
      "metadata": {
        "colab": {
          "base_uri": "https://localhost:8080/"
        },
        "id": "o2FUEdAEZWrZ",
        "outputId": "38e653be-4a1b-4047-dda3-e2cf4ce3eb12"
      },
      "execution_count": null,
      "outputs": [
        {
          "output_type": "stream",
          "name": "stderr",
          "text": [
            "/usr/local/lib/python3.7/dist-packages/pandas/core/frame.py:4913: SettingWithCopyWarning: \n",
            "A value is trying to be set on a copy of a slice from a DataFrame\n",
            "\n",
            "See the caveats in the documentation: https://pandas.pydata.org/pandas-docs/stable/user_guide/indexing.html#returning-a-view-versus-a-copy\n",
            "  errors=errors,\n"
          ]
        }
      ]
    },
    {
      "cell_type": "code",
      "source": [
        "data[(data.zipcode < lower_bound) | (data.zipcode > upper_bound)]"
      ],
      "metadata": {
        "colab": {
          "base_uri": "https://localhost:8080/"
        },
        "id": "mhiOhgoseJlM",
        "outputId": "03b811e1-d521-464f-8409-6f5c4e54912b"
      },
      "execution_count": null,
      "outputs": [
        {
          "output_type": "execute_result",
          "data": {
            "text/plain": [
              "        propertyType  street  baths  city    sqft    zipcode  beds  state  \\\n",
              "1                150   43403    0.0  1715     0.0  11.198855   0.0     37   \n",
              "17               167  124771    0.0  1226     0.0  -4.908201   0.0     24   \n",
              "42               130  324918    0.0  1226     0.0  -4.911994   0.0     24   \n",
              "69               149  134145   -2.2   958 -6655.6  -5.147670  -1.0     22   \n",
              "78                40  168245    0.0   182     0.0  -6.334899   0.0     14   \n",
              "...              ...     ...    ...   ...     ...        ...   ...    ...   \n",
              "377044            40  260741   -2.2   182     0.0  -6.336525   0.0     14   \n",
              "377062            42  185573   -0.7   958 -5757.6  -5.147670   2.0     22   \n",
              "377088           150  219118    0.0  2004     0.0  11.141968   0.0     37   \n",
              "377108            40  255894    0.0   182     0.0  -6.334177   0.0     14   \n",
              "377155           150    6284    0.0  1637     0.0  11.003271   0.0     37   \n",
              "\n",
              "        stories  new_target  ...  status_option  status_pending  \\\n",
              "1           0.0    310000.0  ...              0               0   \n",
              "17          0.0   2650000.0  ...              0               0   \n",
              "42          0.0    850000.0  ...              0               0   \n",
              "69         -1.0    269000.0  ...              0               0   \n",
              "78          0.0    916900.0  ...              0               0   \n",
              "...         ...         ...  ...            ...             ...   \n",
              "377044     -1.0   1450000.0  ...              0               0   \n",
              "377062      1.0    569900.0  ...              0               0   \n",
              "377088      0.0    299900.0  ...              0               0   \n",
              "377108      0.0    399000.0  ...              0               0   \n",
              "377155      0.0    725000.0  ...              0               0   \n",
              "\n",
              "        status_pending,  status_pf  status_price change  status_reactivated  \\\n",
              "1                     0          0                    0                   0   \n",
              "17                    0          0                    0                   0   \n",
              "42                    0          0                    0                   0   \n",
              "69                    0          0                    0                   0   \n",
              "78                    0          0                    0                   0   \n",
              "...                 ...        ...                  ...                 ...   \n",
              "377044                0          0                    0                   0   \n",
              "377062                0          0                    0                   0   \n",
              "377088                0          0                    0                   0   \n",
              "377108                0          0                    0                   0   \n",
              "377155                0          0                    0                   0   \n",
              "\n",
              "        status_temporary  status_under  fireplace_yes  PrivatePool_yes  \n",
              "1                      0             0              0                0  \n",
              "17                     0             0              0                0  \n",
              "42                     0             0              0                0  \n",
              "69                     0             0              0                0  \n",
              "78                     0             0              0                0  \n",
              "...                  ...           ...            ...              ...  \n",
              "377044                 0             0              0                0  \n",
              "377062                 0             0              0                0  \n",
              "377088                 0             0              1                0  \n",
              "377108                 0             0              0                0  \n",
              "377155                 0             0              0                0  \n",
              "\n",
              "[18533 rows x 38 columns]"
            ],
            "text/html": [
              "\n",
              "  <div id=\"df-531f5b0a-97be-42de-a0aa-5ffe2c1db6ed\">\n",
              "    <div class=\"colab-df-container\">\n",
              "      <div>\n",
              "<style scoped>\n",
              "    .dataframe tbody tr th:only-of-type {\n",
              "        vertical-align: middle;\n",
              "    }\n",
              "\n",
              "    .dataframe tbody tr th {\n",
              "        vertical-align: top;\n",
              "    }\n",
              "\n",
              "    .dataframe thead th {\n",
              "        text-align: right;\n",
              "    }\n",
              "</style>\n",
              "<table border=\"1\" class=\"dataframe\">\n",
              "  <thead>\n",
              "    <tr style=\"text-align: right;\">\n",
              "      <th></th>\n",
              "      <th>propertyType</th>\n",
              "      <th>street</th>\n",
              "      <th>baths</th>\n",
              "      <th>city</th>\n",
              "      <th>sqft</th>\n",
              "      <th>zipcode</th>\n",
              "      <th>beds</th>\n",
              "      <th>state</th>\n",
              "      <th>stories</th>\n",
              "      <th>new_target</th>\n",
              "      <th>...</th>\n",
              "      <th>status_option</th>\n",
              "      <th>status_pending</th>\n",
              "      <th>status_pending,</th>\n",
              "      <th>status_pf</th>\n",
              "      <th>status_price change</th>\n",
              "      <th>status_reactivated</th>\n",
              "      <th>status_temporary</th>\n",
              "      <th>status_under</th>\n",
              "      <th>fireplace_yes</th>\n",
              "      <th>PrivatePool_yes</th>\n",
              "    </tr>\n",
              "  </thead>\n",
              "  <tbody>\n",
              "    <tr>\n",
              "      <th>1</th>\n",
              "      <td>150</td>\n",
              "      <td>43403</td>\n",
              "      <td>0.0</td>\n",
              "      <td>1715</td>\n",
              "      <td>0.0</td>\n",
              "      <td>11.198855</td>\n",
              "      <td>0.0</td>\n",
              "      <td>37</td>\n",
              "      <td>0.0</td>\n",
              "      <td>310000.0</td>\n",
              "      <td>...</td>\n",
              "      <td>0</td>\n",
              "      <td>0</td>\n",
              "      <td>0</td>\n",
              "      <td>0</td>\n",
              "      <td>0</td>\n",
              "      <td>0</td>\n",
              "      <td>0</td>\n",
              "      <td>0</td>\n",
              "      <td>0</td>\n",
              "      <td>0</td>\n",
              "    </tr>\n",
              "    <tr>\n",
              "      <th>17</th>\n",
              "      <td>167</td>\n",
              "      <td>124771</td>\n",
              "      <td>0.0</td>\n",
              "      <td>1226</td>\n",
              "      <td>0.0</td>\n",
              "      <td>-4.908201</td>\n",
              "      <td>0.0</td>\n",
              "      <td>24</td>\n",
              "      <td>0.0</td>\n",
              "      <td>2650000.0</td>\n",
              "      <td>...</td>\n",
              "      <td>0</td>\n",
              "      <td>0</td>\n",
              "      <td>0</td>\n",
              "      <td>0</td>\n",
              "      <td>0</td>\n",
              "      <td>0</td>\n",
              "      <td>0</td>\n",
              "      <td>0</td>\n",
              "      <td>0</td>\n",
              "      <td>0</td>\n",
              "    </tr>\n",
              "    <tr>\n",
              "      <th>42</th>\n",
              "      <td>130</td>\n",
              "      <td>324918</td>\n",
              "      <td>0.0</td>\n",
              "      <td>1226</td>\n",
              "      <td>0.0</td>\n",
              "      <td>-4.911994</td>\n",
              "      <td>0.0</td>\n",
              "      <td>24</td>\n",
              "      <td>0.0</td>\n",
              "      <td>850000.0</td>\n",
              "      <td>...</td>\n",
              "      <td>0</td>\n",
              "      <td>0</td>\n",
              "      <td>0</td>\n",
              "      <td>0</td>\n",
              "      <td>0</td>\n",
              "      <td>0</td>\n",
              "      <td>0</td>\n",
              "      <td>0</td>\n",
              "      <td>0</td>\n",
              "      <td>0</td>\n",
              "    </tr>\n",
              "    <tr>\n",
              "      <th>69</th>\n",
              "      <td>149</td>\n",
              "      <td>134145</td>\n",
              "      <td>-2.2</td>\n",
              "      <td>958</td>\n",
              "      <td>-6655.6</td>\n",
              "      <td>-5.147670</td>\n",
              "      <td>-1.0</td>\n",
              "      <td>22</td>\n",
              "      <td>-1.0</td>\n",
              "      <td>269000.0</td>\n",
              "      <td>...</td>\n",
              "      <td>0</td>\n",
              "      <td>0</td>\n",
              "      <td>0</td>\n",
              "      <td>0</td>\n",
              "      <td>0</td>\n",
              "      <td>0</td>\n",
              "      <td>0</td>\n",
              "      <td>0</td>\n",
              "      <td>0</td>\n",
              "      <td>0</td>\n",
              "    </tr>\n",
              "    <tr>\n",
              "      <th>78</th>\n",
              "      <td>40</td>\n",
              "      <td>168245</td>\n",
              "      <td>0.0</td>\n",
              "      <td>182</td>\n",
              "      <td>0.0</td>\n",
              "      <td>-6.334899</td>\n",
              "      <td>0.0</td>\n",
              "      <td>14</td>\n",
              "      <td>0.0</td>\n",
              "      <td>916900.0</td>\n",
              "      <td>...</td>\n",
              "      <td>0</td>\n",
              "      <td>0</td>\n",
              "      <td>0</td>\n",
              "      <td>0</td>\n",
              "      <td>0</td>\n",
              "      <td>0</td>\n",
              "      <td>0</td>\n",
              "      <td>0</td>\n",
              "      <td>0</td>\n",
              "      <td>0</td>\n",
              "    </tr>\n",
              "    <tr>\n",
              "      <th>...</th>\n",
              "      <td>...</td>\n",
              "      <td>...</td>\n",
              "      <td>...</td>\n",
              "      <td>...</td>\n",
              "      <td>...</td>\n",
              "      <td>...</td>\n",
              "      <td>...</td>\n",
              "      <td>...</td>\n",
              "      <td>...</td>\n",
              "      <td>...</td>\n",
              "      <td>...</td>\n",
              "      <td>...</td>\n",
              "      <td>...</td>\n",
              "      <td>...</td>\n",
              "      <td>...</td>\n",
              "      <td>...</td>\n",
              "      <td>...</td>\n",
              "      <td>...</td>\n",
              "      <td>...</td>\n",
              "      <td>...</td>\n",
              "      <td>...</td>\n",
              "    </tr>\n",
              "    <tr>\n",
              "      <th>377044</th>\n",
              "      <td>40</td>\n",
              "      <td>260741</td>\n",
              "      <td>-2.2</td>\n",
              "      <td>182</td>\n",
              "      <td>0.0</td>\n",
              "      <td>-6.336525</td>\n",
              "      <td>0.0</td>\n",
              "      <td>14</td>\n",
              "      <td>-1.0</td>\n",
              "      <td>1450000.0</td>\n",
              "      <td>...</td>\n",
              "      <td>0</td>\n",
              "      <td>0</td>\n",
              "      <td>0</td>\n",
              "      <td>0</td>\n",
              "      <td>0</td>\n",
              "      <td>0</td>\n",
              "      <td>0</td>\n",
              "      <td>0</td>\n",
              "      <td>0</td>\n",
              "      <td>0</td>\n",
              "    </tr>\n",
              "    <tr>\n",
              "      <th>377062</th>\n",
              "      <td>42</td>\n",
              "      <td>185573</td>\n",
              "      <td>-0.7</td>\n",
              "      <td>958</td>\n",
              "      <td>-5757.6</td>\n",
              "      <td>-5.147670</td>\n",
              "      <td>2.0</td>\n",
              "      <td>22</td>\n",
              "      <td>1.0</td>\n",
              "      <td>569900.0</td>\n",
              "      <td>...</td>\n",
              "      <td>0</td>\n",
              "      <td>0</td>\n",
              "      <td>0</td>\n",
              "      <td>0</td>\n",
              "      <td>0</td>\n",
              "      <td>0</td>\n",
              "      <td>0</td>\n",
              "      <td>0</td>\n",
              "      <td>0</td>\n",
              "      <td>0</td>\n",
              "    </tr>\n",
              "    <tr>\n",
              "      <th>377088</th>\n",
              "      <td>150</td>\n",
              "      <td>219118</td>\n",
              "      <td>0.0</td>\n",
              "      <td>2004</td>\n",
              "      <td>0.0</td>\n",
              "      <td>11.141968</td>\n",
              "      <td>0.0</td>\n",
              "      <td>37</td>\n",
              "      <td>0.0</td>\n",
              "      <td>299900.0</td>\n",
              "      <td>...</td>\n",
              "      <td>0</td>\n",
              "      <td>0</td>\n",
              "      <td>0</td>\n",
              "      <td>0</td>\n",
              "      <td>0</td>\n",
              "      <td>0</td>\n",
              "      <td>0</td>\n",
              "      <td>0</td>\n",
              "      <td>1</td>\n",
              "      <td>0</td>\n",
              "    </tr>\n",
              "    <tr>\n",
              "      <th>377108</th>\n",
              "      <td>40</td>\n",
              "      <td>255894</td>\n",
              "      <td>0.0</td>\n",
              "      <td>182</td>\n",
              "      <td>0.0</td>\n",
              "      <td>-6.334177</td>\n",
              "      <td>0.0</td>\n",
              "      <td>14</td>\n",
              "      <td>0.0</td>\n",
              "      <td>399000.0</td>\n",
              "      <td>...</td>\n",
              "      <td>0</td>\n",
              "      <td>0</td>\n",
              "      <td>0</td>\n",
              "      <td>0</td>\n",
              "      <td>0</td>\n",
              "      <td>0</td>\n",
              "      <td>0</td>\n",
              "      <td>0</td>\n",
              "      <td>0</td>\n",
              "      <td>0</td>\n",
              "    </tr>\n",
              "    <tr>\n",
              "      <th>377155</th>\n",
              "      <td>150</td>\n",
              "      <td>6284</td>\n",
              "      <td>0.0</td>\n",
              "      <td>1637</td>\n",
              "      <td>0.0</td>\n",
              "      <td>11.003271</td>\n",
              "      <td>0.0</td>\n",
              "      <td>37</td>\n",
              "      <td>0.0</td>\n",
              "      <td>725000.0</td>\n",
              "      <td>...</td>\n",
              "      <td>0</td>\n",
              "      <td>0</td>\n",
              "      <td>0</td>\n",
              "      <td>0</td>\n",
              "      <td>0</td>\n",
              "      <td>0</td>\n",
              "      <td>0</td>\n",
              "      <td>0</td>\n",
              "      <td>0</td>\n",
              "      <td>0</td>\n",
              "    </tr>\n",
              "  </tbody>\n",
              "</table>\n",
              "<p>18533 rows × 38 columns</p>\n",
              "</div>\n",
              "      <button class=\"colab-df-convert\" onclick=\"convertToInteractive('df-531f5b0a-97be-42de-a0aa-5ffe2c1db6ed')\"\n",
              "              title=\"Convert this dataframe to an interactive table.\"\n",
              "              style=\"display:none;\">\n",
              "        \n",
              "  <svg xmlns=\"http://www.w3.org/2000/svg\" height=\"24px\"viewBox=\"0 0 24 24\"\n",
              "       width=\"24px\">\n",
              "    <path d=\"M0 0h24v24H0V0z\" fill=\"none\"/>\n",
              "    <path d=\"M18.56 5.44l.94 2.06.94-2.06 2.06-.94-2.06-.94-.94-2.06-.94 2.06-2.06.94zm-11 1L8.5 8.5l.94-2.06 2.06-.94-2.06-.94L8.5 2.5l-.94 2.06-2.06.94zm10 10l.94 2.06.94-2.06 2.06-.94-2.06-.94-.94-2.06-.94 2.06-2.06.94z\"/><path d=\"M17.41 7.96l-1.37-1.37c-.4-.4-.92-.59-1.43-.59-.52 0-1.04.2-1.43.59L10.3 9.45l-7.72 7.72c-.78.78-.78 2.05 0 2.83L4 21.41c.39.39.9.59 1.41.59.51 0 1.02-.2 1.41-.59l7.78-7.78 2.81-2.81c.8-.78.8-2.07 0-2.86zM5.41 20L4 18.59l7.72-7.72 1.47 1.35L5.41 20z\"/>\n",
              "  </svg>\n",
              "      </button>\n",
              "      \n",
              "  <style>\n",
              "    .colab-df-container {\n",
              "      display:flex;\n",
              "      flex-wrap:wrap;\n",
              "      gap: 12px;\n",
              "    }\n",
              "\n",
              "    .colab-df-convert {\n",
              "      background-color: #E8F0FE;\n",
              "      border: none;\n",
              "      border-radius: 50%;\n",
              "      cursor: pointer;\n",
              "      display: none;\n",
              "      fill: #1967D2;\n",
              "      height: 32px;\n",
              "      padding: 0 0 0 0;\n",
              "      width: 32px;\n",
              "    }\n",
              "\n",
              "    .colab-df-convert:hover {\n",
              "      background-color: #E2EBFA;\n",
              "      box-shadow: 0px 1px 2px rgba(60, 64, 67, 0.3), 0px 1px 3px 1px rgba(60, 64, 67, 0.15);\n",
              "      fill: #174EA6;\n",
              "    }\n",
              "\n",
              "    [theme=dark] .colab-df-convert {\n",
              "      background-color: #3B4455;\n",
              "      fill: #D2E3FC;\n",
              "    }\n",
              "\n",
              "    [theme=dark] .colab-df-convert:hover {\n",
              "      background-color: #434B5C;\n",
              "      box-shadow: 0px 1px 3px 1px rgba(0, 0, 0, 0.15);\n",
              "      filter: drop-shadow(0px 1px 2px rgba(0, 0, 0, 0.3));\n",
              "      fill: #FFFFFF;\n",
              "    }\n",
              "  </style>\n",
              "\n",
              "      <script>\n",
              "        const buttonEl =\n",
              "          document.querySelector('#df-531f5b0a-97be-42de-a0aa-5ffe2c1db6ed button.colab-df-convert');\n",
              "        buttonEl.style.display =\n",
              "          google.colab.kernel.accessAllowed ? 'block' : 'none';\n",
              "\n",
              "        async function convertToInteractive(key) {\n",
              "          const element = document.querySelector('#df-531f5b0a-97be-42de-a0aa-5ffe2c1db6ed');\n",
              "          const dataTable =\n",
              "            await google.colab.kernel.invokeFunction('convertToInteractive',\n",
              "                                                     [key], {});\n",
              "          if (!dataTable) return;\n",
              "\n",
              "          const docLinkHtml = 'Like what you see? Visit the ' +\n",
              "            '<a target=\"_blank\" href=https://colab.research.google.com/notebooks/data_table.ipynb>data table notebook</a>'\n",
              "            + ' to learn more about interactive tables.';\n",
              "          element.innerHTML = '';\n",
              "          dataTable['output_type'] = 'display_data';\n",
              "          await google.colab.output.renderOutput(dataTable, element);\n",
              "          const docLink = document.createElement('div');\n",
              "          docLink.innerHTML = docLinkHtml;\n",
              "          element.appendChild(docLink);\n",
              "        }\n",
              "      </script>\n",
              "    </div>\n",
              "  </div>\n",
              "  "
            ]
          },
          "metadata": {},
          "execution_count": 103
        }
      ]
    },
    {
      "cell_type": "markdown",
      "source": [
        "# Data Split"
      ],
      "metadata": {
        "id": "FW_FYgHRYKPa"
      }
    },
    {
      "cell_type": "code",
      "source": [
        "X = data.drop(['new_target'], axis=1) \n",
        "y = data['new_target']\n",
        "X_train, X_test, y_train, y_test = train_test_split(X, y, test_size=VAL_SIZE, shuffle=True, random_state=RANDOM_SEED)"
      ],
      "metadata": {
        "id": "-2n8LxfCESBA",
        "execution": {
          "iopub.status.busy": "2022-09-06T05:26:44.744396Z",
          "iopub.execute_input": "2022-09-06T05:26:44.745302Z",
          "iopub.status.idle": "2022-09-06T05:26:44.914268Z",
          "shell.execute_reply.started": "2022-09-06T05:26:44.745252Z",
          "shell.execute_reply": "2022-09-06T05:26:44.913436Z"
        },
        "trusted": true
      },
      "execution_count": null,
      "outputs": []
    },
    {
      "cell_type": "markdown",
      "source": [
        "## Feature Importance"
      ],
      "metadata": {
        "id": "ibuBI9pHJ7sg"
      }
    },
    {
      "cell_type": "code",
      "source": [
        "model = RandomForestRegressor(random_state=42,\n",
        "                           n_estimators=600 ,\n",
        "                            max_depth=161,\n",
        "                           min_samples_split=2 ,\n",
        "                           min_samples_leaf=3 ,\n",
        "                            max_features=0.75,\n",
        "                            bootstrap=False )\n",
        "model.fit(X_train, np.log(y_train))"
      ],
      "metadata": {
        "id": "jNOT9AqaXfc4"
      },
      "execution_count": null,
      "outputs": []
    },
    {
      "cell_type": "code",
      "source": [
        "def predict_target(city,state):\n",
        "   data = pd.DataFrame.from_dict({'city':[city],\n",
        "                                'state': [state]})\n",
        "   predict = model.predict_proba(data)[0]\n",
        "   return {model.classes_[i]: predict[i] for i in range(3)}"
      ],
      "metadata": {
        "id": "01wHGNm5bLnl"
      },
      "execution_count": null,
      "outputs": []
    },
    {
      "cell_type": "code",
      "source": [
        "# Installing and importing Gradio\n",
        "#!pip install gradio\n",
        "#import gradio as gr\n",
        "#city = gr.inputs.Slider(minimum=0, maximum=10, default=5, label=\"city\")\n",
        "#state = gr.inputs.Slider(minimum=0, maximum=10, default=5, label=\"state\")\n",
        "#gr.Interface(predict_target, [city, state], \"label\", live=True, interpretation=\"default\").launch(debug=True)"
      ],
      "metadata": {
        "id": "_vPTvmA-bR2j"
      },
      "execution_count": null,
      "outputs": []
    },
    {
      "cell_type": "markdown",
      "source": [
        "# ML"
      ],
      "metadata": {
        "id": "lerNq5C3Y2No"
      }
    },
    {
      "cell_type": "markdown",
      "source": [
        "## Gradient Boosting for regression."
      ],
      "metadata": {
        "id": "m740Ct7aacMH"
      }
    },
    {
      "cell_type": "code",
      "source": [
        "#n_estimators = [int(x) for x in np.linspace(start = 200, stop = 1000, num = 10)]\n",
        "\n",
        "#random_grid = {'n_estimators': n_estimators}\n",
        "#gbr = GradientBoostingRegressor(random_state=42)\n",
        "#gbr_random = RandomizedSearchCV(estimator=gbr, param_distributions=random_grid, n_iter=30, \n",
        "#                               cv=3, verbose=2, random_state=42, return_train_score=True)\n",
        "#gbr_random.fit(X_train, np.log(y_train))\n",
        "#print(gbr_random.best_params_)"
      ],
      "metadata": {
        "id": "4LW2FuUQafWb",
        "execution": {
          "iopub.status.busy": "2022-09-06T08:08:58.639297Z",
          "iopub.status.idle": "2022-09-06T08:08:58.639773Z",
          "shell.execute_reply.started": "2022-09-06T08:08:58.639545Z",
          "shell.execute_reply": "2022-09-06T08:08:58.639565Z"
        },
        "trusted": true
      },
      "execution_count": null,
      "outputs": []
    },
    {
      "cell_type": "code",
      "source": [
        "\n",
        "#gbr = GradientBoostingRegressor(random_state=42,\n",
        "#                              n_estimators=1000)\n",
        "#gbr.fit(X_train, np.log(y_train))"
      ],
      "metadata": {
        "id": "YWJeI9ESahvH",
        "execution": {
          "iopub.status.busy": "2022-09-06T08:08:58.641554Z",
          "iopub.status.idle": "2022-09-06T08:08:58.641997Z",
          "shell.execute_reply.started": "2022-09-06T08:08:58.641784Z",
          "shell.execute_reply": "2022-09-06T08:08:58.641805Z"
        },
        "trusted": true
      },
      "execution_count": null,
      "outputs": []
    },
    {
      "cell_type": "code",
      "source": [
        "#predict_test_gbr = np.exp(gbr.predict(X_test))"
      ],
      "metadata": {
        "id": "sTerbeI2akM4",
        "execution": {
          "iopub.status.busy": "2022-09-06T08:08:58.644015Z",
          "iopub.status.idle": "2022-09-06T08:08:58.644426Z",
          "shell.execute_reply.started": "2022-09-06T08:08:58.644225Z",
          "shell.execute_reply": "2022-09-06T08:08:58.644244Z"
        },
        "trusted": true
      },
      "execution_count": null,
      "outputs": []
    },
    {
      "cell_type": "code",
      "source": [
        "#print((mape(y_test, predict_test_gbr)))"
      ],
      "metadata": {
        "id": "KwTaFsnTBdo8"
      },
      "execution_count": null,
      "outputs": []
    },
    {
      "cell_type": "markdown",
      "source": [
        "## A random forest regressor."
      ],
      "metadata": {
        "id": "UzmVdzj5anJs"
      }
    },
    {
      "cell_type": "code",
      "source": [
        "#n_estimators = [int(x) for x in np.linspace(start = 200, stop = 1000, num = 3)]\n",
        "#min_samples_split=[1, 2, 3, 5]\n",
        "#min_samples_leaf=[1, 2, 3, 5]\n",
        "#max_features=[0.25, 0.5, 0.75, 1.0]\n",
        "#bootstrap=[True, False]\n",
        "#max_depth = [int(x) for x in np.linspace(70, 200, num = 11)]\n",
        "#max_depth.append(None)\n",
        "\n",
        "\n",
        "#random_grid = {'n_estimators': n_estimators,\n",
        "#               'min_samples_split': min_samples_split,\n",
        "#               'min_samples_leaf': min_samples_leaf,\n",
        "#               'max_features': max_features,\n",
        "#               'bootstrap': bootstrap,\n",
        "#               'max_depth': max_depth}\n",
        "#rf = RandomForestRegressor(random_state=42)\n",
        "#rf_random = RandomizedSearchCV(estimator=rf, param_distributions=random_grid, n_iter=3, \n",
        "#                               cv=3, verbose=2, random_state=42, return_train_score=True)\n",
        "#rf_random.fit(X_train, np.log(y_train))\n",
        "#print(rf_random.best_params_)\n"
      ],
      "metadata": {
        "id": "D7CJNcMnap9Z",
        "execution": {
          "iopub.status.busy": "2022-09-06T08:08:58.646059Z",
          "iopub.status.idle": "2022-09-06T08:08:58.646462Z",
          "shell.execute_reply.started": "2022-09-06T08:08:58.646262Z",
          "shell.execute_reply": "2022-09-06T08:08:58.646281Z"
        },
        "trusted": true
      },
      "execution_count": null,
      "outputs": []
    },
    {
      "cell_type": "code",
      "source": [
        "#rf = RandomForestRegressor(random_state=42,\n",
        "#                           n_estimators=600 ,\n",
        "#                            max_depth=161,\n",
        "#                           min_samples_split=2 ,\n",
        "#                           min_samples_leaf=3 ,\n",
        "#                            max_features=0.75,\n",
        "#                            bootstrap=False )\n",
        "#rf.fit(X_train, np.log(y_train))"
      ],
      "metadata": {
        "id": "WMs9ax-FasRy",
        "execution": {
          "iopub.status.busy": "2022-09-06T08:08:58.648015Z",
          "iopub.status.idle": "2022-09-06T08:08:58.648420Z",
          "shell.execute_reply.started": "2022-09-06T08:08:58.648216Z",
          "shell.execute_reply": "2022-09-06T08:08:58.648235Z"
        },
        "trusted": true
      },
      "execution_count": null,
      "outputs": []
    },
    {
      "cell_type": "code",
      "source": [
        "#predict_test_rt = np.exp(rf.predict(X_test))"
      ],
      "metadata": {
        "id": "O-LeV8h1auEf",
        "execution": {
          "iopub.status.busy": "2022-09-06T08:08:58.650151Z",
          "iopub.status.idle": "2022-09-06T08:08:58.650811Z",
          "shell.execute_reply.started": "2022-09-06T08:08:58.650483Z",
          "shell.execute_reply": "2022-09-06T08:08:58.650517Z"
        },
        "trusted": true
      },
      "execution_count": null,
      "outputs": []
    },
    {
      "cell_type": "code",
      "source": [
        "#print((mape(y_test, predict_test_rt)))"
      ],
      "metadata": {
        "id": "l3aMxDJXGh_v"
      },
      "execution_count": null,
      "outputs": []
    },
    {
      "cell_type": "markdown",
      "source": [
        "## MLPRegressor"
      ],
      "metadata": {
        "id": "5T3q133KJbTy"
      }
    },
    {
      "cell_type": "code",
      "source": [
        "#hidden_layer_sizes=[100, 130,150]\n",
        "#activation=['identity', 'logistic', 'tanh', 'relu']\n",
        "#solver=['sgd', 'adam']\n",
        "#learning_rate=['constant', 'invscaling', 'adaptive'}\n",
        "               \n",
        "#random_grid = {'hidden_layer_sizes':hidden_layer_sizes,\n",
        "#                'activation':activation,\n",
        "#                'solver':solver,\n",
        "#                'learning_rate':learning_rate}\n",
        "#mlp = MLPRegressor(random_state=42)\n",
        "#mlp_random = RandomizedSearchCV(estimator=mlp, param_distributions=random_grid, n_iter=3, \n",
        "#                               cv=3, verbose=2, random_state=42, return_train_score=True)\n",
        "#mlp_random.fit(X_train, np.log(y_train))\n",
        "#print(mlp_random.best_params_)"
      ],
      "metadata": {
        "id": "lWTRv6NBJ4is"
      },
      "execution_count": null,
      "outputs": []
    },
    {
      "cell_type": "code",
      "source": [
        "#mlp = RandomForestRegressor(random_state=42,\n",
        "#                           hidden_layer_sizes=,\n",
        "#                            activation=,\n",
        "#                            solver=,\n",
        "#                            learning_rate=,\n",
        "#                            early_stopping=True, \n",
        "#                            validation_fraction=0.2, \n",
        "#                            n_iter_no_change=5 )\n",
        "#mlp.fit(X_train, np.log(y_train))"
      ],
      "metadata": {
        "id": "iWzwME1bKBrj"
      },
      "execution_count": null,
      "outputs": []
    },
    {
      "cell_type": "code",
      "source": [
        "#predict_test_mlp = np.exp(mlp.predict(X_test))"
      ],
      "metadata": {
        "id": "_oOJxfVyKM-s"
      },
      "execution_count": null,
      "outputs": []
    },
    {
      "cell_type": "code",
      "source": [
        "#print((mape(y_test, predict_test_mlp)))"
      ],
      "metadata": {
        "id": "DE92HdjoKkrg"
      },
      "execution_count": null,
      "outputs": []
    },
    {
      "cell_type": "markdown",
      "source": [
        "## GaussianProcessRegressor"
      ],
      "metadata": {
        "id": "1vbjiJwoJlIO"
      }
    },
    {
      "cell_type": "code",
      "source": [
        "# gpr= GaussianProcessRegressor(kernel=None, \n",
        "#                               alpha=1e-10,\n",
        "#                               optimizer='fmin_l_bfgs_b',\n",
        "#                               n_restarts_optimizer=0, \n",
        "#                               normalize_y=False,\n",
        "#                               random_state=42) "
      ],
      "metadata": {
        "id": "bmw2tGOoKC_a"
      },
      "execution_count": null,
      "outputs": []
    },
    {
      "cell_type": "code",
      "source": [
        "#predict_test_gpr = np.exp(gpr.predict(X_test))"
      ],
      "metadata": {
        "id": "X5LIjfyEKQbP"
      },
      "execution_count": null,
      "outputs": []
    },
    {
      "cell_type": "code",
      "source": [
        "#print((mape(y_test, predict_test_gpr)))"
      ],
      "metadata": {
        "id": "53pmgTKeKnVX"
      },
      "execution_count": null,
      "outputs": []
    },
    {
      "cell_type": "markdown",
      "source": [
        "## SGDRegressor"
      ],
      "metadata": {
        "id": "-iDSoDS3Joh2"
      }
    },
    {
      "cell_type": "markdown",
      "source": [],
      "metadata": {
        "id": "8WNz0Qwzuib1"
      }
    },
    {
      "cell_type": "code",
      "source": [
        "#loss=['squared_error', 'huber', 'epsilon_insensitive', 'squared_epsilon_insensitive']\n",
        "#penalty=['l2', 'l1', 'elasticnet']\n",
        "#learning_rate=['constant','optimal','invscaling','adaptive']\n",
        "\n",
        "#random_grid = {'loss':loss,\n",
        "#                'penalty':penalty,\n",
        "#              'learning_rate':learning_rate}\n",
        "#sgd = SGDRegressor(random_state=42)\n",
        "#sgd_random = RandomizedSearchCV(estimator=sgd, param_distributions=random_grid, n_iter=3, \n",
        "#                               cv=3, verbose=2, random_state=42, return_train_score=True)\n",
        "#sgdf_random.fit(X_train, np.log(y_train))\n",
        "#print(sgd_random.best_params_)"
      ],
      "metadata": {
        "id": "ESFIUttQJ7Cl"
      },
      "execution_count": null,
      "outputs": []
    },
    {
      "cell_type": "code",
      "source": [
        "#sgd = SGDRegressor(loss=,\n",
        "#                    penalty=,\n",
        "#                    learning_rate=, \n",
        "#                    early_stopping=True\n",
        "#                    random_state=42\n",
        "#                    validation_fraction=0.2\n",
        "#                    n_iter_no_change=5 )\n",
        "#sgd.fit(X_train, np.log(y_train))"
      ],
      "metadata": {
        "id": "PN2UnhOxKEF7"
      },
      "execution_count": null,
      "outputs": []
    },
    {
      "cell_type": "code",
      "source": [
        "#predict_test_sgd = np.exp(sgd.predict(X_test))"
      ],
      "metadata": {
        "id": "bOxD5yYgKR4H"
      },
      "execution_count": null,
      "outputs": []
    },
    {
      "cell_type": "code",
      "source": [
        "#print((mape(y_test, predict_test_sgd)))"
      ],
      "metadata": {
        "id": "FqqNEsuCKo1b"
      },
      "execution_count": null,
      "outputs": []
    },
    {
      "cell_type": "markdown",
      "source": [
        "## SVR"
      ],
      "metadata": {
        "id": "0REe47DfJr1O"
      }
    },
    {
      "cell_type": "code",
      "source": [
        "#kernel=['linear', 'poly', 'rbf', 'sigmoid', 'precomputed']\n",
        "#max_iter=[100, 150, 200]\n",
        "\n",
        "#random_grid = {'kernel':kernel,\n",
        "#                'max_iter':max_iter}\n",
        "#svr = SVR()\n",
        "#svr_random = RandomizedSearchCV(estimator=svr, param_distributions=random_grid, n_iter=3, \n",
        "#                               cv=3, verbose=2, return_train_score=True)\n",
        "#svr_random.fit(X_train, np.log(y_train))\n",
        "#print(svr_random.best_params_)"
      ],
      "metadata": {
        "id": "bPETIMqMJ8CC"
      },
      "execution_count": null,
      "outputs": []
    },
    {
      "cell_type": "code",
      "source": [
        "#svr = SVR(kernel=,\n",
        "#          max_iter=)\n",
        "#svr.fit(X_train, np.log(y_train))"
      ],
      "metadata": {
        "id": "nTqCTItGKFPz"
      },
      "execution_count": null,
      "outputs": []
    },
    {
      "cell_type": "code",
      "source": [
        "#predict_test_svr = np.exp(svr.predict(X_test))"
      ],
      "metadata": {
        "id": "SH834alEKTfD"
      },
      "execution_count": null,
      "outputs": []
    },
    {
      "cell_type": "code",
      "source": [
        "#print((mape(y_test, predict_test_svr)))"
      ],
      "metadata": {
        "id": "WqCiMzrKKqJb"
      },
      "execution_count": null,
      "outputs": []
    },
    {
      "cell_type": "markdown",
      "source": [
        "## KNeighborsRegressor"
      ],
      "metadata": {
        "id": "fCkiKpzhJv5c"
      }
    },
    {
      "cell_type": "code",
      "source": [
        "#weights=['uniform', 'distance']\n",
        "#algorithm=['auto', 'ball_tree', 'kd_tree', 'brute']\n",
        "#p=[1, 2]\n",
        "#metric=[\"minkowski\", \"precomputed\"]\n",
        "\n",
        "#random_grid = {'weights':weights,\n",
        "#                'algorithm':algorithm,\n",
        "#                'p':p,\n",
        "#                'metric':metric}\n",
        "#knr = KNeighborsRegressor()\n",
        "#knr_random = RandomizedSearchCV(estimator=knr, param_distributions=random_grid, n_iter=3, \n",
        "#                               cv=3, verbose=2,  return_train_score=True)\n",
        "#knr_random.fit(X_train, np.log(y_train))\n",
        "#print(knr_random.best_params_)"
      ],
      "metadata": {
        "id": "InOG4c5eJ9Hq"
      },
      "execution_count": null,
      "outputs": []
    },
    {
      "cell_type": "code",
      "source": [
        "#knr = KNeighborsRegressor(weights=,\n",
        "#                algorithm=,\n",
        "#                p=,\n",
        "#                metric= )\n",
        "#knr.fit(X_train, np.log(y_train))"
      ],
      "metadata": {
        "id": "IRTsU6A8KG3w"
      },
      "execution_count": null,
      "outputs": []
    },
    {
      "cell_type": "code",
      "source": [
        "#predict_test_knr = np.exp(knr.predict(X_test))"
      ],
      "metadata": {
        "id": "wGfUU4x8KV-4"
      },
      "execution_count": null,
      "outputs": []
    },
    {
      "cell_type": "code",
      "source": [
        "#print((mape(y_test, predict_test_knr)))"
      ],
      "metadata": {
        "id": "q324bFaqKWAj"
      },
      "execution_count": null,
      "outputs": []
    },
    {
      "cell_type": "markdown",
      "source": [
        "## Stack of estimators with a final regressor."
      ],
      "metadata": {
        "id": "PDy7nM3SawA1"
      }
    },
    {
      "cell_type": "code",
      "source": [
        "#estimators = [('abr', AdaBoostRegressor(n_estimators=200, \n",
        "#                          random_state=RANDOM_SEED)),\n",
        "#             ('gbr', GradientBoostingRegressor(random_state=42,\n",
        "#                        n_estimators=1000))]\n",
        "#sr = StackingRegressor(estimators=estimators,\n",
        "#                      final_estimator=None,\n",
        "#                      n_jobs=1, \n",
        "#                       cv=2, \n",
        "#                       passthrough= False)\n",
        "#sr.fit(X_train, np.log(y_train))\n",
        "#predict_test = np.exp(sr.predict(X_test))\n",
        "\n",
        "#print((mape(y_test, predict_test)))"
      ],
      "metadata": {
        "id": "7uale-X5ay94",
        "execution": {
          "iopub.status.busy": "2022-09-06T08:08:58.652436Z",
          "iopub.status.idle": "2022-09-06T08:08:58.652883Z",
          "shell.execute_reply.started": "2022-09-06T08:08:58.652656Z",
          "shell.execute_reply": "2022-09-06T08:08:58.652674Z"
        },
        "trusted": true
      },
      "execution_count": null,
      "outputs": []
    }
  ]
}