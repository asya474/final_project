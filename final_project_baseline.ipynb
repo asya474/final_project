{
  "cells": [
    {
      "cell_type": "markdown",
      "metadata": {
        "id": "view-in-github",
        "colab_type": "text"
      },
      "source": [
        "<a href=\"https://colab.research.google.com/github/asya474/final_project/blob/main/final_project_baseline.ipynb\" target=\"_parent\"><img src=\"https://colab.research.google.com/assets/colab-badge.svg\" alt=\"Open In Colab\"/></a>"
      ]
    },
    {
      "cell_type": "markdown",
      "metadata": {
        "id": "7UY-pOfLXcqT"
      },
      "source": [
        "Основные цели и задачи проекта\n",
        "\n",
        "Основной целью проекта является создание сервиса для предсказания стоимости домов, используя накопленные данные о сделках. Используемый алгоритм должен быть достаточно быстрым и эффективным с точки зрения выбранной метрики.\n",
        "Выбрана метрика MAPE для поставленной задачи регрессии, так как в данных в основном представлены категориальные признаки, в поставленной задаче отсутствует необходимость применять сильно большие штрафы к модели за неправильно обработанные данные и так же относительная метрика более проста и удобна для оценки качества модели, что и пригодится нам для построения безлайна для соответствующего сервиса.\n",
        "\n",
        "Краткая информация о данных\n",
        "\n",
        "Датасет, используемый в проекте, представляет из себя обычные табличные данные, и состоит из следующих столбцов: • status статус сделки • private pool наличие частного бассейна • propertyType тип собственности с информацией о количестве комнат и стиле интерьера • street адрес • baths количество бассейнов • homeFacts информация о здании • fireplace наличие камина • city город • schools информация о школах в округе • sqft площадь жилья в квадратных футах • zipcode почтовый индекс • beds количество кроватей и площадь спальни • state штат • stories подсобные помещения • mls-id мультилистинг • PrivatePool наличие частного бассейна • MlsId мультилистинг • target стоимость жилья\n",
        "\n",
        "Этапы работы над проектом\n",
        "\n",
        "1. Знакомство с датасетом \n",
        "2.Выбор метрики, которая отвечала бы бизнес-целям. \n",
        "3.Очистка данных, заполнение пропусков \n",
        "4.Стандартизация числовых столбцов, применением методов label-encoding, get_dummies к категориальным переменным.\n",
        "5.Выбор алгоритмов машинного обучения,Я оптимизация гиперпараметров, выбор лучшей модели"
      ]
    },
    {
      "cell_type": "code",
      "execution_count": 1,
      "metadata": {
        "id": "elk1vwU2mab2"
      },
      "outputs": [],
      "source": [
        "import numpy as np\n",
        "import pandas as pd\n",
        "import matplotlib.pyplot as plt\n",
        "import seaborn as sns\n",
        "import pickle\n",
        "import zipfile\n",
        "import time\n",
        "import csv\n",
        "import sys\n",
        "import os\n",
        "!pip install tensorflow_addons -q\n",
        "import tensorflow_addons as tfa\n",
        "import re\n",
        "\n",
        "from sklearn.model_selection import RandomizedSearchCV\n",
        "from sklearn.ensemble import *\n",
        "from sklearn.model_selection import train_test_split, StratifiedKFold\n",
        "from sklearn.metrics import mean_absolute_percentage_error\n",
        "from sklearn.preprocessing import *\n",
        "from sklearn.neural_network import MLPRegressor\n",
        "from sklearn.gaussian_process import GaussianProcessRegressor\n",
        "from sklearn.linear_model import SGDRegressor\n",
        "from sklearn.svm import SVR\n",
        "from sklearn.neighbors import KNeighborsRegressor\n",
        "from sklearn.inspection import permutation_importance\n",
        "from matplotlib import pyplot as plt\n",
        "import PIL\n",
        "from PIL import ImageOps, ImageFilter\n",
        "#увеличим дефолтный размер графиков\n",
        "from pylab import rcParams\n",
        "rcParams['figure.figsize'] = 10, 5\n",
        "#графики в svg выглядят более четкими\n",
        "%config InlineBackend.figure_format = 'svg'\n",
        "%matplotlib inline\n",
        "import seaborn as sns\n",
        "#print(os.listdir(\"/content/drive/MyDrive/Colab Notebooks/input\"))\n"
      ]
    },
    {
      "cell_type": "code",
      "execution_count": 2,
      "metadata": {
        "id": "SNl-IT-uxwpq"
      },
      "outputs": [],
      "source": [
        "RANDOM_SEED = 42\n",
        "VAL_SIZE = 0.20 \n",
        "mape=mean_absolute_percentage_error #в качестве метрики выбрано МАРЕ, "
      ]
    },
    {
      "cell_type": "code",
      "execution_count": 3,
      "metadata": {
        "colab": {
          "base_uri": "https://localhost:8080/"
        },
        "id": "L3g0J3ee4grv",
        "outputId": "314f24eb-a517-4f8f-b28d-130dd48f40e4"
      },
      "outputs": [
        {
          "output_type": "stream",
          "name": "stdout",
          "text": [
            "Drive already mounted at /content/drive; to attempt to forcibly remount, call drive.mount(\"/content/drive\", force_remount=True).\n"
          ]
        }
      ],
      "source": [
        "from google.colab import drive\n",
        "drive.mount('/content/drive')"
      ]
    },
    {
      "cell_type": "markdown",
      "metadata": {
        "id": "Z4puC012cG13"
      },
      "source": [
        "## EDA"
      ]
    },
    {
      "cell_type": "code",
      "execution_count": 4,
      "metadata": {
        "colab": {
          "base_uri": "https://localhost:8080/"
        },
        "id": "R8N83RVXmf5T",
        "outputId": "b38e3295-1670-47f0-acf0-0532921e768d"
      },
      "outputs": [
        {
          "output_type": "stream",
          "name": "stdout",
          "text": [
            "['.config', '__MACOSX', 'data.csv', 'drive', 'sample_data']\n"
          ]
        }
      ],
      "source": [
        "zip_file='/content/drive/MyDrive/data.csv.zip'\n",
        "z=zipfile.ZipFile(zip_file, 'r')\n",
        "z.extractall()\n",
        "print(os.listdir())"
      ]
    },
    {
      "cell_type": "code",
      "execution_count": 5,
      "metadata": {
        "id": "73RyWKaL6vMN"
      },
      "outputs": [],
      "source": [
        "data=pd.read_csv('data.csv') #загрузка датасета"
      ]
    },
    {
      "cell_type": "code",
      "execution_count": 6,
      "metadata": {
        "colab": {
          "base_uri": "https://localhost:8080/"
        },
        "id": "2DL0IICQ1rsO",
        "outputId": "cb68ff63-fd00-4c8f-97a3-759bef75f7ab"
      },
      "outputs": [
        {
          "output_type": "stream",
          "name": "stdout",
          "text": [
            "<class 'pandas.core.frame.DataFrame'>\n",
            "RangeIndex: 377185 entries, 0 to 377184\n",
            "Data columns (total 18 columns):\n",
            " #   Column        Non-Null Count   Dtype \n",
            "---  ------        --------------   ----- \n",
            " 0   status        337267 non-null  object\n",
            " 1   private pool  4181 non-null    object\n",
            " 2   propertyType  342452 non-null  object\n",
            " 3   street        377183 non-null  object\n",
            " 4   baths         270847 non-null  object\n",
            " 5   homeFacts     377185 non-null  object\n",
            " 6   fireplace     103115 non-null  object\n",
            " 7   city          377151 non-null  object\n",
            " 8   schools       377185 non-null  object\n",
            " 9   sqft          336608 non-null  object\n",
            " 10  zipcode       377185 non-null  object\n",
            " 11  beds          285903 non-null  object\n",
            " 12  state         377185 non-null  object\n",
            " 13  stories       226470 non-null  object\n",
            " 14  mls-id        24942 non-null   object\n",
            " 15  PrivatePool   40311 non-null   object\n",
            " 16  MlsId         310305 non-null  object\n",
            " 17  target        374704 non-null  object\n",
            "dtypes: object(18)\n",
            "memory usage: 51.8+ MB\n"
          ]
        }
      ],
      "source": [
        "data.info() #вывод основной информации о датасете"
      ]
    },
    {
      "cell_type": "code",
      "execution_count": 7,
      "metadata": {
        "colab": {
          "base_uri": "https://localhost:8080/"
        },
        "id": "P9SK2fBZMkZs",
        "outputId": "0ce04c23-26d8-42fc-d80a-9cf68fd8f1da"
      },
      "outputs": [
        {
          "output_type": "execute_result",
          "data": {
            "text/plain": [
              "status             159\n",
              "private pool         1\n",
              "propertyType      1280\n",
              "street          337076\n",
              "baths              229\n",
              "homeFacts       321009\n",
              "fireplace         1653\n",
              "city              2026\n",
              "schools         297365\n",
              "sqft             25405\n",
              "zipcode           4549\n",
              "beds              1184\n",
              "state               39\n",
              "stories            348\n",
              "mls-id           24907\n",
              "PrivatePool          2\n",
              "MlsId           232944\n",
              "target           43939\n",
              "dtype: int64"
            ]
          },
          "metadata": {},
          "execution_count": 7
        }
      ],
      "source": [
        "data.nunique() #вывод уникальных значений"
      ]
    },
    {
      "cell_type": "code",
      "execution_count": 8,
      "metadata": {
        "colab": {
          "base_uri": "https://localhost:8080/"
        },
        "id": "vZ3Z5DI7M2gj",
        "outputId": "da73db11-3079-4860-baa8-a06bca3471eb"
      },
      "outputs": [
        {
          "output_type": "execute_result",
          "data": {
            "text/plain": [
              "status           39918\n",
              "private pool    373004\n",
              "propertyType     34733\n",
              "street               2\n",
              "baths           106338\n",
              "homeFacts            0\n",
              "fireplace       274070\n",
              "city                34\n",
              "schools              0\n",
              "sqft             40577\n",
              "zipcode              0\n",
              "beds             91282\n",
              "state                0\n",
              "stories         150715\n",
              "mls-id          352243\n",
              "PrivatePool     336874\n",
              "MlsId            66880\n",
              "target            2481\n",
              "dtype: int64"
            ]
          },
          "metadata": {},
          "execution_count": 8
        }
      ],
      "source": [
        "data.isna().sum() #проверка на содержание NaN в столбце"
      ]
    },
    {
      "cell_type": "code",
      "execution_count": 8,
      "metadata": {
        "id": "mizgbp-Noewx"
      },
      "outputs": [],
      "source": []
    },
    {
      "cell_type": "markdown",
      "metadata": {
        "id": "2T7ET0UlC_4P"
      },
      "source": [
        "### target"
      ]
    },
    {
      "cell_type": "code",
      "execution_count": 9,
      "metadata": {
        "colab": {
          "base_uri": "https://localhost:8080/"
        },
        "id": "nL0dngE679xa",
        "outputId": "03335036-8c57-4758-f6cc-93b02e1bf7cd"
      },
      "outputs": [
        {
          "output_type": "execute_result",
          "data": {
            "text/plain": [
              "$225,000     1462\n",
              "$275,000     1355\n",
              "$250,000     1312\n",
              "$350,000     1296\n",
              "$299,900     1276\n",
              "             ... \n",
              "$390,359        1\n",
              "$458,900+       1\n",
              "274,359         1\n",
              "$273,490+       1\n",
              "$171,306        1\n",
              "Name: target, Length: 43939, dtype: int64"
            ]
          },
          "metadata": {},
          "execution_count": 9
        }
      ],
      "source": [
        "data.target.value_counts() #обзор значений в столбце "
      ]
    },
    {
      "cell_type": "code",
      "execution_count": 10,
      "metadata": {
        "colab": {
          "base_uri": "https://localhost:8080/"
        },
        "id": "FCQ9ydfhvg5H",
        "outputId": "34424f28-f319-414e-f814-48801877b2ac"
      },
      "outputs": [
        {
          "output_type": "stream",
          "name": "stderr",
          "text": [
            "/usr/local/lib/python3.7/dist-packages/ipykernel_launcher.py:1: FutureWarning: The default value of regex will change from True to False in a future version. In addition, single character regular expressions will *not* be treated as literal strings when regex=True.\n",
            "  \"\"\"Entry point for launching an IPython kernel.\n"
          ]
        }
      ],
      "source": [
        "data['new_target'] = data['target'].str.replace('+', '') #удаляем + из значений столбца"
      ]
    },
    {
      "cell_type": "code",
      "execution_count": 11,
      "metadata": {
        "colab": {
          "base_uri": "https://localhost:8080/"
        },
        "id": "SWeCeMYRTY01",
        "outputId": "8aadd3a2-c015-42b2-e6b5-f7a5cda14a2d"
      },
      "outputs": [
        {
          "output_type": "stream",
          "name": "stderr",
          "text": [
            "/usr/local/lib/python3.7/dist-packages/ipykernel_launcher.py:1: FutureWarning: The default value of regex will change from True to False in a future version. In addition, single character regular expressions will *not* be treated as literal strings when regex=True.\n",
            "  \"\"\"Entry point for launching an IPython kernel.\n"
          ]
        }
      ],
      "source": [
        "data['new_target'] = data['new_target'].str.replace('$', '') #удаляем $ из значений столбца"
      ]
    },
    {
      "cell_type": "code",
      "execution_count": 12,
      "metadata": {
        "id": "LCv3RpWOkmVW"
      },
      "outputs": [],
      "source": [
        "data['new_target'] = data['new_target'].str.replace(',', '') #удаляем , из значений столбца"
      ]
    },
    {
      "cell_type": "code",
      "execution_count": 13,
      "metadata": {
        "id": "xTqmYrj2ksLi"
      },
      "outputs": [],
      "source": [
        "data['new_target']=pd.to_numeric(data['new_target'], downcast='integer', errors='coerce') #приводим значения к типу integer"
      ]
    },
    {
      "cell_type": "code",
      "execution_count": 14,
      "metadata": {
        "colab": {
          "base_uri": "https://localhost:8080/"
        },
        "id": "DygfevqXTcV1",
        "outputId": "17f78ec6-c75e-43f8-8e82-eb33b62e7721"
      },
      "outputs": [
        {
          "output_type": "execute_result",
          "data": {
            "text/plain": [
              "225000.0    1806\n",
              "275000.0    1650\n",
              "250000.0    1644\n",
              "350000.0    1641\n",
              "325000.0    1562\n",
              "            ... \n",
              "218111.0       1\n",
              "136466.0       1\n",
              "236070.0       1\n",
              "752911.0       1\n",
              "171306.0       1\n",
              "Name: new_target, Length: 34184, dtype: int64"
            ]
          },
          "metadata": {},
          "execution_count": 14
        }
      ],
      "source": [
        "data['new_target'].value_counts() #обзор значений в столбце"
      ]
    },
    {
      "cell_type": "code",
      "execution_count": 15,
      "metadata": {
        "id": "NkbEvi_SbmK4"
      },
      "outputs": [],
      "source": [
        "data.drop(['target',], axis=1, inplace=True) #удаляем старый столбец с таргетом и грязными данными, будем в дальнейшем использовать новый"
      ]
    },
    {
      "cell_type": "code",
      "execution_count": 16,
      "metadata": {
        "id": "LHleBGfncnKJ"
      },
      "outputs": [],
      "source": [
        "data.dropna(subset=['new_target'], inplace=True) #удаляем строки, содержащие NaN"
      ]
    },
    {
      "cell_type": "markdown",
      "metadata": {
        "id": "v_L48mTCBrTJ"
      },
      "source": [
        "### status"
      ]
    },
    {
      "cell_type": "code",
      "execution_count": 17,
      "metadata": {
        "colab": {
          "base_uri": "https://localhost:8080/"
        },
        "id": "A7k6pV9Z9HB5",
        "outputId": "2fd5ca0f-1a3c-479d-e548-d0261b15dd0a"
      },
      "outputs": [
        {
          "output_type": "execute_result",
          "data": {
            "text/plain": [
              "for sale                   156100\n",
              "Active                     105206\n",
              "For sale                    43465\n",
              "foreclosure                  5677\n",
              "New construction             5459\n",
              "                            ...  \n",
              "Coming soon: Nov 8.             1\n",
              "Coming soon: Oct 29.            1\n",
              "Coming soon: Dec 15.            1\n",
              "Pending W/Backup Wanted         1\n",
              "Coming soon: Dec 23.            1\n",
              "Name: status, Length: 155, dtype: int64"
            ]
          },
          "metadata": {},
          "execution_count": 17
        }
      ],
      "source": [
        "data.status.value_counts() #краткий обзор значений"
      ]
    },
    {
      "cell_type": "code",
      "execution_count": 18,
      "metadata": {
        "colab": {
          "base_uri": "https://localhost:8080/"
        },
        "id": "uTigmEAsxF6v",
        "outputId": "6817b559-d167-4570-a2f7-22f22798fd54"
      },
      "outputs": [
        {
          "output_type": "execute_result",
          "data": {
            "text/plain": [
              "array(['Active', 'for sale', nan, 'New construction', 'New', 'For sale',\n",
              "       'Pending', 'P', 'Active/Contingent', ' / auction',\n",
              "       'Under Contract', 'Pre-foreclosure / auction',\n",
              "       'Under Contract   Showing', 'Pre-foreclosure',\n",
              "       'Under Contract Backups', 'Active Under Contract', 'foreclosure',\n",
              "       'Foreclosed', 'Option Pending', 'Under Contract Show', 'Auction',\n",
              "       'A Active', 'Contingent', 'Pending   Continue To Show',\n",
              "       'Price Change', 'Back on Market', 'Active Option', 'Foreclosure',\n",
              "       'Coming soon: Nov 21.', 'Contingent Finance And Inspection',\n",
              "       'Coming soon: Dec 4.', 'P Pending Sale', 'Coming soon: Nov 23.',\n",
              "       'Active With Contingencies', 'Pending Ab', 'Pf', 'Contingent Show',\n",
              "       'Contract P', 'Contingent Take Backup', 'Apartment for rent',\n",
              "       'Backup Contract', 'Option Contract', 'Pending Continue To Show',\n",
              "       'pending', 'Pending Inspection', 'Active Option Contract', 'C',\n",
              "       'Auction - Active', 'Contingent   Show', 'Pi',\n",
              "       'Due Diligence Period', 'Contract Contingent On Buyer Sale',\n",
              "       'U Under Contract', 'Coming soon: Nov 29.', 'Coming soon: Dec 2.',\n",
              "       'Active Contingency', 'Pending With Contingencies',\n",
              "       'Lease/Purchase Pending', 'Pending Bring Backup',\n",
              "       'C Continue Show', 'Pending Taking Backups',\n",
              "       'Offer Pending Signature', 'Under Contract - Show',\n",
              "       'Contingent Lien Holder Release', 'Active - Auction',\n",
              "       'Active With Offer', 'Coming soon: Nov 30.', 'Listing Extended',\n",
              "       'Pending, Continue to Show', 'For Sale', 'Contingency Contract',\n",
              "       'Coming soon: Dec 10.', 'Contingent Escape',\n",
              "       'Pending - Taking Backups', 'Coming soon: Dec 24.',\n",
              "       'Active Backup', 'Coming soon: Nov 14.', 'Coming soon: Nov 22.',\n",
              "       'Coming soon: Oct 21.', 'Under contract', 'Coming soon: Dec 14.',\n",
              "       'Coming soon: Oct 24.', 'Condo for rent', 'Active Contingent',\n",
              "       'Coming soon: Dec 18.', 'Pending Offer Approval', 'Pending In',\n",
              "       'Coming soon: Dec 16.', 'Ct', 'Pending W/Insp Finance',\n",
              "       'Coming soon: Dec 3.', 'Coming soon: Dec 25.',\n",
              "       'Coming soon: Nov 11.', 'Coming soon: Nov 28.',\n",
              "       'Contingent Finance and Inspection', 'Temporary Active',\n",
              "       'CT Insp - Inspection Contingency', 'Coming soon: Nov 17.',\n",
              "       'Pending (Do Not Show)', 'Contingency 48 Hr (+/ )',\n",
              "       'Pending   Continue To Show   Financing', 'Pending W/ Cont.',\n",
              "       'Coming soon: Dec 6.', 'Back On Market', 'Coming soon: Nov 27.',\n",
              "       'Pending W/Escape Clause', 'Coming soon: Nov 26.',\n",
              "       'Pending - Continue to Show', 'Closed', 'Under Contract - No Show',\n",
              "       'Contract', 'Coming soon: Dec 7.', 'Coming soon: Dec 27.',\n",
              "       'Coming soon: Dec 11.', 'Coming soon: Dec 5.',\n",
              "       'Coming soon: Nov 13.', 'Contingent   Release', 'Accepted Offer',\n",
              "       'Conditional Contract', 'Active - Contingent',\n",
              "       'Active with Contract', 'Coming soon: Nov 19.',\n",
              "       'Coming soon: Nov 8.', 'Coming soon: Oct 29.',\n",
              "       'Coming soon: Dec 15.', 'Pending W/Backup Wanted',\n",
              "       'Pending Backups Wanted', 'Pending Fe', 'Coming soon: Oct 30.',\n",
              "       'Contingent   No Show', 'Coming soon: Dec 9.', 'Pending Sale',\n",
              "       'Accepting backups', 'Coming soon: Dec 20.',\n",
              "       'Pending Take Backups', 'Contingent   Foreclosure',\n",
              "       'Conting Accpt Backups', 'Lease/Purchase', 'Coming soon: Dec 13.',\n",
              "       'Contingent - Sale of Home', 'Ps', 'Under Contract W/ Bckp',\n",
              "       'Re Activated', 'Pending - Backup Offer Requested',\n",
              "       'Coming soon: Dec 12.', 'Reactivated', 'Uc Continue To Show',\n",
              "       'Contingent - Financing', 'Coming soon: Nov 5.',\n",
              "       'Coming soon: Nov 12.', 'Coming soon: Dec 1.', 'Pending Sh',\n",
              "       'Coming soon: Nov 25.', 'Under Contract Taking Back Up Offers',\n",
              "       'Backup', 'Coming soon: Dec 23.'], dtype=object)"
            ]
          },
          "metadata": {},
          "execution_count": 18
        }
      ],
      "source": [
        "data.status.unique() #вывод уникальных значений, как видим из разнообразия представленных типов можно вычленить более унифицированные. Попробуем вычленить основные типы с помощью дальнейших преобразований"
      ]
    },
    {
      "cell_type": "code",
      "execution_count": 19,
      "metadata": {
        "id": "XMXY5iqne_kJ"
      },
      "outputs": [],
      "source": [
        "data['status'] = data.status.astype(str) #приводим к типу строка, понижаем регистр и берем первое значение строки \n",
        "data['status'] = data.status.apply(lambda x: x.split(' ')[0].lower())"
      ]
    },
    {
      "cell_type": "code",
      "execution_count": 20,
      "metadata": {
        "colab": {
          "base_uri": "https://localhost:8080/"
        },
        "id": "t-7ZDWGifL1W",
        "outputId": "8e695c9e-84ff-4262-b7c3-5dff98ba84c6"
      },
      "outputs": [
        {
          "output_type": "execute_result",
          "data": {
            "text/plain": [
              "array(['active', 'for', 'nan', 'new', 'pending', 'p', 'active/contingent',\n",
              "       '', 'under', 'pre-foreclosure', 'foreclosure', 'foreclosed',\n",
              "       'option', 'auction', 'a', 'contingent', 'price', 'back', 'coming',\n",
              "       'pf', 'contract', 'apartment', 'backup', 'c', 'pi', 'due', 'u',\n",
              "       'lease/purchase', 'offer', 'listing', 'pending,', 'contingency',\n",
              "       'condo', 'ct', 'temporary', 'closed', 'accepted', 'conditional',\n",
              "       'accepting', 'conting', 'ps', 're', 'reactivated', 'uc'],\n",
              "      dtype=object)"
            ]
          },
          "metadata": {},
          "execution_count": 20
        }
      ],
      "source": [
        "data.status.unique() #обзор получившихся уникальных значений"
      ]
    },
    {
      "cell_type": "code",
      "execution_count": 21,
      "metadata": {
        "id": "PS6FmMWixmt_"
      },
      "outputs": [],
      "source": [
        "def transform_status(\n",
        "    value: str\n",
        "):  \n",
        "    if isinstance(value, str):\n",
        "        if  value in ['for']:\n",
        "            return 'for sale'\n",
        "        if  value in ['nan', '']:\n",
        "            return 'not known'\n",
        "        if  value in ['a', 'active/contingent']:\n",
        "            return 'active'\n",
        "        if  value in ['price']:\n",
        "            return 'price change'\n",
        "        if  value in ['back', 'backup']:\n",
        "            return 'back on market'\n",
        "        if  value in ['coming', 'c']:\n",
        "            return 'coming soon'\n",
        "        if value in ['p', 'pi', 'ps']:\n",
        "            return 'pending'\n",
        "        if value in ['u', 'uc']:\n",
        "            return 'under'\n",
        "        if value in ['re']:\n",
        "            return 'reactivated'\n",
        "        if value in ['ct']:\n",
        "            return 'contract'\n",
        "        if value in ['pre-foreclosure', 'foreclosure', 'foreclosed']:\n",
        "            return 'foreclosure'\n",
        "        if value in ['accepting', 'accepted']:\n",
        "            return 'accepted'\n",
        "        if value in ['contingency', 'conting']:\n",
        "            return 'contingency'\n",
        "        if value in ['condo', 'conditional']:\n",
        "            return 'conditional'\n",
        "\n",
        "    return value\n",
        "data.status=data.status.apply(transform_status) #функция для преобразования, так как видно,что некоторые аббревиатуры используются для более полных категорий,например"
      ]
    },
    {
      "cell_type": "code",
      "execution_count": 22,
      "metadata": {
        "colab": {
          "base_uri": "https://localhost:8080/"
        },
        "id": "EEA982A1ooJe",
        "outputId": "74f75e73-e84c-4fb8-9728-94ec33e6cbf3"
      },
      "outputs": [
        {
          "output_type": "execute_result",
          "data": {
            "text/plain": [
              "array(['active', 'for sale', 'not known', 'new', 'pending', 'under',\n",
              "       'foreclosure', 'option', 'auction', 'contingent', 'price change',\n",
              "       'back on market', 'coming soon', 'pf', 'contract', 'apartment',\n",
              "       'due', 'lease/purchase', 'offer', 'listing', 'pending,',\n",
              "       'contingency', 'conditional', 'temporary', 'closed', 'accepted',\n",
              "       'reactivated'], dtype=object)"
            ]
          },
          "metadata": {},
          "execution_count": 22
        }
      ],
      "source": [
        "data.status.unique() #обзор получившихся в итоге уникальных значений"
      ]
    },
    {
      "cell_type": "markdown",
      "metadata": {
        "id": "kbNZbm5rBw3A"
      },
      "source": [
        "### private pool"
      ]
    },
    {
      "cell_type": "code",
      "execution_count": 23,
      "metadata": {
        "colab": {
          "base_uri": "https://localhost:8080/"
        },
        "id": "5eT2cszn7wix",
        "outputId": "077c0551-9e96-49bd-ac46-120fefa261b6"
      },
      "outputs": [
        {
          "output_type": "execute_result",
          "data": {
            "text/plain": [
              "Yes    4151\n",
              "Name: private pool, dtype: int64"
            ]
          },
          "metadata": {},
          "execution_count": 23
        }
      ],
      "source": [
        "data['private pool'].value_counts() #обзор значений в столбце"
      ]
    },
    {
      "cell_type": "code",
      "execution_count": 24,
      "metadata": {
        "id": "8DZ_QhwWDacD"
      },
      "outputs": [],
      "source": [
        "data.drop(['private pool',], axis=1, inplace=True) #удаляем столбец,так как значения совпадает со столбцом PrivatePool"
      ]
    },
    {
      "cell_type": "markdown",
      "metadata": {
        "id": "WyjRShaXB1Wq"
      },
      "source": [
        "### propertyType"
      ]
    },
    {
      "cell_type": "code",
      "execution_count": 25,
      "metadata": {
        "colab": {
          "base_uri": "https://localhost:8080/"
        },
        "id": "mOIW9YDx77N-",
        "outputId": "f363687e-772e-4d81-92d7-be23f680c2a4"
      },
      "outputs": [
        {
          "output_type": "execute_result",
          "data": {
            "text/plain": [
              "single-family home                                             91159\n",
              "Single Family                                                  61888\n",
              "Single Family Home                                             31725\n",
              "condo                                                          25878\n",
              "lot/land                                                       20532\n",
              "                                                               ...  \n",
              "1 Story, Contemporary, Other (See Remarks)                         1\n",
              "Custom, Elevated, Other                                            1\n",
              "Contemporary, Farmhouse                                            1\n",
              "2 Stories, Traditional, Mediterranean, Texas Hill Country          1\n",
              "Bilevel, Converted Dwelling, Loft with Bedrooms, Condo/Unit        1\n",
              "Name: propertyType, Length: 1279, dtype: int64"
            ]
          },
          "metadata": {},
          "execution_count": 25
        }
      ],
      "source": [
        "data['propertyType'].value_counts() #обзор значений в столбце"
      ]
    },
    {
      "cell_type": "code",
      "execution_count": 26,
      "metadata": {
        "colab": {
          "base_uri": "https://localhost:8080/"
        },
        "id": "yq1zRZwIEoNx",
        "outputId": "425d6a62-06bd-4f02-92e3-1c0d422f8f52"
      },
      "outputs": [
        {
          "output_type": "execute_result",
          "data": {
            "text/plain": [
              "array(['Single Family Home', 'single-family home', 'lot/land', ...,\n",
              "       'Cabin/Lodge, Contemporary, Converted Barn, Cottage, Loft with Bedrooms, Log Home, Post & Beam',\n",
              "       'Lake House, Single Detached, Tudor',\n",
              "       'Bilevel, Converted Dwelling, Loft with Bedrooms, Condo/Unit'],\n",
              "      dtype=object)"
            ]
          },
          "metadata": {},
          "execution_count": 26
        }
      ],
      "source": [
        "data['propertyType'].unique() #обзор уникальных значений"
      ]
    },
    {
      "cell_type": "code",
      "execution_count": 27,
      "metadata": {
        "id": "ej1ZXGahE6rC"
      },
      "outputs": [],
      "source": [
        "data['propertyType'] = data['propertyType'].astype(str) #преобразование значений в строках\n",
        "data['propertyType'] = data['propertyType'].apply(lambda x: x.split(' ')[0].lower().replace(',', ''))"
      ]
    },
    {
      "cell_type": "code",
      "execution_count": 28,
      "metadata": {
        "colab": {
          "base_uri": "https://localhost:8080/"
        },
        "id": "LSPRUbdBFKB1",
        "outputId": "f30420cd-11d3-46e5-fc23-e8dcbd15cb95"
      },
      "outputs": [
        {
          "output_type": "execute_result",
          "data": {
            "text/plain": [
              "array(['single', 'single-family', 'lot/land', 'townhouse', 'florida',\n",
              "       'nan', 'coop', 'english', '2', 'multi-family', 'penthouse',\n",
              "       'condo', 'land', 'condo/townhome/row', '', 'detached', '1',\n",
              "       'other', 'colonial', 'transitional', 'high', 'mobile/manufactured',\n",
              "       'tri-level', 'craftsman', 'federal', 'multi', 'traditional',\n",
              "       'custom', 'cooperative', 'contemporary/modern', 'cape', 'mobile',\n",
              "       'miscellaneous', 'mfd/mobile', 'bungalow', 'spanish/mediterranean',\n",
              "       'contemporary', 'multi-level', 'condo/unit', 'ranch', 'low-rise',\n",
              "       'rancher', 'urban', 'two', 'garden', 'farms/ranches', 'a-frame',\n",
              "       'attached', 'one', 'georgian', 'dwelling', 'victorian',\n",
              "       'apartment', 'cluster', 'manufactured', 'condominium',\n",
              "       'condo/townhome', 'hi', 'mediterranean', 'cabin', 'bermuda',\n",
              "       'split', 'farm', 'split-level', 'singlefamilyresidence', 'log',\n",
              "       'bilevel', 'mountain', 'commercial/industrial', 'cottage',\n",
              "       'high-rise', 'mid-rise', 'tudor/provincial', 'straight',\n",
              "       'houseboat', 'mid-century', 'french', 'garden/zero', 'charleston',\n",
              "       '4+', 'farm/ranch', 'split-entry', 'co-op', 'residential',\n",
              "       'unknown', '3', 'courtyard', 'resort', 'elevated', 'multiple',\n",
              "       'tudor', 'designated', '3+', 'quad', 'arts', 'multiplex',\n",
              "       'fourplex', 'spanish', 'historical/conservation', 'camp', 'santa',\n",
              "       'duplex', 'european', 'key', 'bi-level', 'art', 'coach/carriage',\n",
              "       'loft/balcony', 'farmhouse', 'less', 'carriage', '5-9', 'texas',\n",
              "       'lake', 'hi-rise', 'dutch', 'loft', 'raised', 'country',\n",
              "       'territorial/santa', 'modernist', 'stilt', 'coastal', 'end',\n",
              "       'historical', 'cabin/lodge', 'beaux', 'farmhouse/national',\n",
              "       'trinity', '4-plex', 'conventional', 'old', 'historic/older',\n",
              "       'store', 'side-by-side', 'triplex', 'tuscan', 'chalet', '10+',\n",
              "       'gambrel', 'modern', 'step', 'rustic', 'patio', 'studio',\n",
              "       '2-story', 'townhome', 'yes', 'new', 'back-to-back', 'airlite',\n",
              "       'architectural', 'low', 'flat', 'american', 'denver', 'antique',\n",
              "       '30x40', 'post', 'manuf/mobile', 'guest', 'southern', '2.5',\n",
              "       'historic', 'double-wide', 'modular/prefab', 'hill', 'mid',\n",
              "       'expanded', 'townhouse-interior', 'mid-level', 'garage',\n",
              "       'single-wide', 'villa', 'manor', 'victorian/federal', 'forest',\n",
              "       'walk-out', 'townhouse-end', 'queen', 'ground', 'conversion',\n",
              "       'fairway', 'moorage', 'warehouse', 'prairie', 'cottage/camp'],\n",
              "      dtype=object)"
            ]
          },
          "metadata": {},
          "execution_count": 28
        }
      ],
      "source": [
        "data['propertyType'].unique()\n",
        "#требуется более точечная ифна с этим сериес,чем просто обрезка данных, тут и данные о стиле интерьера, и данные о колве комнат"
      ]
    },
    {
      "cell_type": "code",
      "execution_count": 29,
      "metadata": {
        "id": "mDZWjH2uLFSc"
      },
      "outputs": [],
      "source": [
        "def transform_status(\n",
        "    value: str\n",
        "):  \n",
        "    if isinstance(value, str):\n",
        "        if  value in ['nan', '']:\n",
        "            return 'not known'\n",
        "        if  value in ['1']:\n",
        "            return 'one'\n",
        "        if  value in ['2', '2.5', '2-story']:\n",
        "            return 'two'\n",
        "        if  value in ['3']:\n",
        "            return 'back on market'\n",
        "        if  value in ['coming', 'c']:\n",
        "            return 'coming soon'\n",
        "        if value in ['p', 'pi', 'ps']:\n",
        "            return 'pending'\n",
        "        if value in ['u', 'uc']:\n",
        "            return 'under'\n",
        "        if value in ['re']:\n",
        "            return 'reactivated'\n",
        "        if value in ['ct']:\n",
        "            return 'contract'\n",
        "        if value in ['pre-foreclosure', 'foreclosure', 'foreclosed']:\n",
        "            return 'foreclosure'\n",
        "        if value in ['accepting', 'accepted']:\n",
        "            return 'accepted'\n",
        "        if value in ['contingency', 'conting']:\n",
        "            return 'contingency'\n",
        "        if value in ['condo', 'conditional']:\n",
        "            return 'conditional'\n",
        "\n",
        "    return value\n",
        "data.status=data.status.apply(transform_status) #функция для снижения вариативности представленных значений, так как некоторые повторяются"
      ]
    },
    {
      "cell_type": "markdown",
      "metadata": {
        "id": "tKw7eaBBB5Yj"
      },
      "source": [
        "### street"
      ]
    },
    {
      "cell_type": "code",
      "execution_count": 30,
      "metadata": {
        "colab": {
          "base_uri": "https://localhost:8080/"
        },
        "id": "J4ujChz977X2",
        "outputId": "bea7bb95-6efa-402d-fc80-f7d9c5e52db3"
      },
      "outputs": [
        {
          "output_type": "execute_result",
          "data": {
            "text/plain": [
              "Address Not Disclosed               672\n",
              "Undisclosed Address                 516\n",
              "(undisclosed Address)               391\n",
              "Address Not Available               175\n",
              "Unknown Address                      72\n",
              "                                   ... \n",
              "Lynmar Plan in Rough Hollow           1\n",
              "MLS #: CORC5922640                    1\n",
              "7784 Rosedale St                      1\n",
              "Buildable plan: Residence 2 Plan      1\n",
              "5983 Midcrown Dr                      1\n",
              "Name: street, Length: 334447, dtype: int64"
            ]
          },
          "metadata": {},
          "execution_count": 30
        }
      ],
      "source": [
        "data.street.value_counts() #обзор значений в столбце"
      ]
    },
    {
      "cell_type": "code",
      "execution_count": 31,
      "metadata": {
        "id": "L5H3j4TWkbaT"
      },
      "outputs": [],
      "source": [
        "data['street']=data['street'].fillna(value='not known') #заполнение отсутствующих значений"
      ]
    },
    {
      "cell_type": "markdown",
      "metadata": {
        "id": "mLkd3HZfB-pH"
      },
      "source": [
        "### baths"
      ]
    },
    {
      "cell_type": "code",
      "execution_count": 32,
      "metadata": {
        "colab": {
          "base_uri": "https://localhost:8080/"
        },
        "id": "-C9iNGNy77l4",
        "outputId": "7cf03e25-04f9-47c4-ac26-0f5b9feb81ab"
      },
      "outputs": [
        {
          "output_type": "execute_result",
          "data": {
            "text/plain": [
              "2 Baths          51953\n",
              "3 Baths          35356\n",
              "2                20429\n",
              "2.0              16355\n",
              "4 Baths          14712\n",
              "                 ...  \n",
              "32                   1\n",
              "5.25 Baths           1\n",
              "41.0                 1\n",
              "Bathrooms: 21        1\n",
              "44.0                 1\n",
              "Name: baths, Length: 225, dtype: int64"
            ]
          },
          "metadata": {},
          "execution_count": 32
        }
      ],
      "source": [
        "data.baths.value_counts() #обзор значений в столбце"
      ]
    },
    {
      "cell_type": "code",
      "execution_count": 33,
      "metadata": {
        "id": "n-9o3J7pZl4r"
      },
      "outputs": [],
      "source": [
        "data['baths']=pd.to_numeric(data['baths'],  errors='coerce') #приведение к числовому типу"
      ]
    },
    {
      "cell_type": "code",
      "execution_count": 34,
      "metadata": {
        "id": "ht6YM8EBcD1R"
      },
      "outputs": [],
      "source": [
        "data['baths']=data['baths'].fillna(value=data['baths'].mean()) #заполнение отсутствующих значений"
      ]
    },
    {
      "cell_type": "code",
      "execution_count": 35,
      "metadata": {
        "id": "a8yVYzTIdG5_"
      },
      "outputs": [],
      "source": [
        "data['baths']=data['baths'].astype(float).apply(lambda x:round(x, 1)) #приведение к типу float"
      ]
    },
    {
      "cell_type": "code",
      "execution_count": 36,
      "metadata": {
        "colab": {
          "base_uri": "https://localhost:8080/"
        },
        "id": "LDl7NFfZdW6U",
        "outputId": "bc4b3b25-ca56-441c-bae6-88f39adfb7c9"
      },
      "outputs": [
        {
          "output_type": "execute_result",
          "data": {
            "text/plain": [
              "array([  3.5,   4.2,   2. ,   3. ,   4. ,   1. ,   4.5,   5. ,   1.5,\n",
              "         2.5,   8. ,   0. ,   7. ,   6. ,   5.5, 750. ,  10. ,  18. ,\n",
              "         9. ,  12. ,   6.5,  14. ,  17. ,  16. ,   7.5,  11. ,  22. ,\n",
              "        13. ,  32. ,  26. ,   9.5,   8.5,  35. ,  40. ,  29. ,  15. ,\n",
              "        21. ,  20. ,  55. ,  41. ,  10.5,  27. ,  12.5,  24. ,  23. ,\n",
              "        34. ,  64. ,  30. ,  44. ])"
            ]
          },
          "metadata": {},
          "execution_count": 36
        }
      ],
      "source": [
        "data['baths'].unique() #обзор уникальных значений в столбце"
      ]
    },
    {
      "cell_type": "markdown",
      "metadata": {
        "id": "kuZ2rmtiCBRK"
      },
      "source": [
        "### homeFacts"
      ]
    },
    {
      "cell_type": "code",
      "execution_count": 37,
      "metadata": {
        "colab": {
          "base_uri": "https://localhost:8080/"
        },
        "id": "_gCQu0ZC77xS",
        "outputId": "50b6f806-1fd5-411f-e256-d5711b2a05fd"
      },
      "outputs": [
        {
          "output_type": "execute_result",
          "data": {
            "text/plain": [
              "{'atAGlanceFacts': [{'factValue': '', 'factLabel': 'Year built'}, {'factValue': '', 'factLabel': 'Remodeled year'}, {'factValue': '', 'factLabel': 'Heating'}, {'factValue': '', 'factLabel': 'Cooling'}, {'factValue': '', 'factLabel': 'Parking'}, {'factValue': '—', 'factLabel': 'lotsize'}, {'factValue': None, 'factLabel': 'Price/sqft'}]}                                                     7142\n",
              "{'atAGlanceFacts': [{'factValue': None, 'factLabel': 'Year built'}, {'factValue': None, 'factLabel': 'Remodeled year'}, {'factValue': None, 'factLabel': 'Heating'}, {'factValue': None, 'factLabel': 'Cooling'}, {'factValue': None, 'factLabel': 'Parking'}, {'factValue': None, 'factLabel': 'lotsize'}, {'factValue': None, 'factLabel': 'Price/sqft'}]}                                          3484\n",
              "{'atAGlanceFacts': [{'factValue': '', 'factLabel': 'Year built'}, {'factValue': '', 'factLabel': 'Remodeled year'}, {'factValue': '', 'factLabel': 'Heating'}, {'factValue': '', 'factLabel': 'Cooling'}, {'factValue': '', 'factLabel': 'Parking'}, {'factValue': '10000', 'factLabel': 'lotsize'}, {'factValue': None, 'factLabel': 'Price/sqft'}]}                                                  533\n",
              "{'atAGlanceFacts': [{'factValue': '', 'factLabel': 'Year built'}, {'factValue': '', 'factLabel': 'Remodeled year'}, {'factValue': '', 'factLabel': 'Heating'}, {'factValue': '', 'factLabel': 'Cooling'}, {'factValue': '', 'factLabel': 'Parking'}, {'factValue': '', 'factLabel': 'lotsize'}, {'factValue': None, 'factLabel': 'Price/sqft'}]}                                                       529\n",
              "{'atAGlanceFacts': [{'factValue': '', 'factLabel': 'Year built'}, {'factValue': '', 'factLabel': 'Remodeled year'}, {'factValue': '', 'factLabel': 'Heating'}, {'factValue': '', 'factLabel': 'Cooling'}, {'factValue': '', 'factLabel': 'Parking'}, {'factValue': '10,000 Sq. Ft.', 'factLabel': 'lotsize'}, {'factValue': None, 'factLabel': 'Price/sqft'}]}                                         370\n",
              "                                                                                                                                                                                                                                                                                                                                                                                                      ... \n",
              "{'atAGlanceFacts': [{'factValue': 'No Data', 'factLabel': 'Year built'}, {'factValue': None, 'factLabel': 'Remodeled year'}, {'factValue': 'Forced air', 'factLabel': 'Heating'}, {'factValue': 'Central', 'factLabel': 'Cooling'}, {'factValue': '1 space', 'factLabel': 'Parking'}, {'factValue': None, 'factLabel': 'lotsize'}, {'factValue': '$164', 'factLabel': 'Price/sqft'}]}                    1\n",
              "{'atAGlanceFacts': [{'factValue': '1975', 'factLabel': 'Year built'}, {'factValue': '1975', 'factLabel': 'Remodeled year'}, {'factValue': 'Central', 'factLabel': 'Heating'}, {'factValue': 'Electric', 'factLabel': 'Cooling'}, {'factValue': '', 'factLabel': 'Parking'}, {'factValue': '—', 'factLabel': 'lotsize'}, {'factValue': '$181 / Sq. Ft.', 'factLabel': 'Price/sqft'}]}                     1\n",
              "{'atAGlanceFacts': [{'factValue': '2019', 'factLabel': 'Year built'}, {'factValue': '', 'factLabel': 'Remodeled year'}, {'factValue': '', 'factLabel': 'Heating'}, {'factValue': 'Central A/C (Electric), Heat Pump', 'factLabel': 'Cooling'}, {'factValue': '', 'factLabel': 'Parking'}, {'factValue': '—', 'factLabel': 'lotsize'}, {'factValue': '$269 / Sq. Ft.', 'factLabel': 'Price/sqft'}]}       1\n",
              "{'atAGlanceFacts': [{'factValue': '2010', 'factLabel': 'Year built'}, {'factValue': '2010', 'factLabel': 'Remodeled year'}, {'factValue': 'Forced Air', 'factLabel': 'Heating'}, {'factValue': 'Central', 'factLabel': 'Cooling'}, {'factValue': '2', 'factLabel': 'Parking'}, {'factValue': '9.17 acres', 'factLabel': 'lotsize'}, {'factValue': '$1,008/sqft', 'factLabel': 'Price/sqft'}]}            1\n",
              "{'atAGlanceFacts': [{'factValue': '2019', 'factLabel': 'Year built'}, {'factValue': None, 'factLabel': 'Remodeled year'}, {'factValue': 'Electric', 'factLabel': 'Heating'}, {'factValue': 'Central', 'factLabel': 'Cooling'}, {'factValue': 'No Data', 'factLabel': 'Parking'}, {'factValue': '6,969 sqft', 'factLabel': 'lotsize'}, {'factValue': '$140', 'factLabel': 'Price/sqft'}]}                 1\n",
              "Name: homeFacts, Length: 318615, dtype: int64"
            ]
          },
          "metadata": {},
          "execution_count": 37
        }
      ],
      "source": [
        "data.homeFacts.value_counts() #обзор значений в столбце"
      ]
    },
    {
      "cell_type": "code",
      "execution_count": 38,
      "metadata": {
        "id": "LqZTGf_TFq3Z"
      },
      "outputs": [],
      "source": [
        "#q = list()\n",
        "#for cur_dict in eval(q):\n",
        "#   for key in eval(cur_dict):\n",
        "#    for item in cur_dict[key]['atAGlanceFacts']:\n",
        "#      if item['factValue'] not in ['', '-', None]:\n",
        "#          new_q.append(item)"
      ]
    },
    {
      "cell_type": "markdown",
      "metadata": {
        "id": "Bn9FNoWICMaX"
      },
      "source": [
        "### fireplace"
      ]
    },
    {
      "cell_type": "code",
      "execution_count": 39,
      "metadata": {
        "colab": {
          "base_uri": "https://localhost:8080/"
        },
        "id": "tU7zu0v5779U",
        "outputId": "9950ca9f-9359-43a9-f5f3-72e4f0153e44"
      },
      "outputs": [
        {
          "output_type": "execute_result",
          "data": {
            "text/plain": [
              "yes                                                                     49925\n",
              "Yes                                                                     20619\n",
              "1                                                                       14533\n",
              "2                                                                        2432\n",
              "Not Applicable                                                           1990\n",
              "                                                                        ...  \n",
              "Gas, Wood Burning, Two, Propane Logs Convey                                 1\n",
              "Free-standing, Insert, Wood                                                 1\n",
              "Wood Burning, Attached Fireplace Doors/Screen, Electric, Gas Starter        1\n",
              "One, Living Room                                                            1\n",
              "Ceiling Fan, SMAPL, Utility Connection, Walk-In Closets                     1\n",
              "Name: fireplace, Length: 1652, dtype: int64"
            ]
          },
          "metadata": {},
          "execution_count": 39
        }
      ],
      "source": [
        "data['fireplace'].value_counts() #обзор значений в столбце"
      ]
    },
    {
      "cell_type": "code",
      "execution_count": 40,
      "metadata": {
        "id": "amg-qDQAboYc"
      },
      "outputs": [],
      "source": [
        "def transform_fireplace(\n",
        "    value: str\n",
        "):  \n",
        "    if isinstance(value, str):\n",
        "        if  value in value:\n",
        "          return 'yes'\n",
        "data['fireplace']=data['fireplace'].apply(transform_fireplace) #преобразование данных в столбце"
      ]
    },
    {
      "cell_type": "code",
      "execution_count": 41,
      "metadata": {
        "id": "vjjpAj0EiCOi"
      },
      "outputs": [],
      "source": [
        "data['fireplace']=data['fireplace'].fillna(value='not') #заполнение отсутствующих значений"
      ]
    },
    {
      "cell_type": "code",
      "execution_count": 42,
      "metadata": {
        "colab": {
          "base_uri": "https://localhost:8080/"
        },
        "id": "7wwVXsO3lMf7",
        "outputId": "6e90ba14-e2e3-4c4b-e675-febdffa5d0d7"
      },
      "outputs": [
        {
          "output_type": "execute_result",
          "data": {
            "text/plain": [
              "not    271878\n",
              "yes    102428\n",
              "Name: fireplace, dtype: int64"
            ]
          },
          "metadata": {},
          "execution_count": 42
        }
      ],
      "source": [
        "data['fireplace'].value_counts() #обзор значений в столбце"
      ]
    },
    {
      "cell_type": "markdown",
      "metadata": {
        "id": "Sh0daj9ICPlx"
      },
      "source": [
        "### city"
      ]
    },
    {
      "cell_type": "code",
      "execution_count": 43,
      "metadata": {
        "colab": {
          "base_uri": "https://localhost:8080/"
        },
        "id": "0Ku0RbqB78IU",
        "outputId": "06f6a398-b477-4a84-9ac6-b52de0d1994e"
      },
      "outputs": [
        {
          "output_type": "execute_result",
          "data": {
            "text/plain": [
              "Houston            24388\n",
              "San Antonio        15496\n",
              "Miami              15385\n",
              "Jacksonville        9890\n",
              "Dallas              8750\n",
              "                   ...  \n",
              "Los Altos Hills        1\n",
              "Lake worth             1\n",
              "Lisle                  1\n",
              "Arrington              1\n",
              "Blue Springs           1\n",
              "Name: city, Length: 2019, dtype: int64"
            ]
          },
          "metadata": {},
          "execution_count": 43
        }
      ],
      "source": [
        "data['city'].value_counts() #обзор значений в столбце"
      ]
    },
    {
      "cell_type": "code",
      "execution_count": 44,
      "metadata": {
        "id": "DeDGa1c4j_sR"
      },
      "outputs": [],
      "source": [
        "data['city']=data['city'].fillna(value='Houston')#заполнение отсутствующих значений наиболее часто встречаемым значением"
      ]
    },
    {
      "cell_type": "markdown",
      "metadata": {
        "id": "eUr_ZNrjCR0P"
      },
      "source": [
        "### schools"
      ]
    },
    {
      "cell_type": "code",
      "execution_count": 45,
      "metadata": {
        "colab": {
          "base_uri": "https://localhost:8080/"
        },
        "id": "jpClOAuN78Xx",
        "outputId": "4a6d2ecc-2da7-46be-e2cd-dde6dec64d04"
      },
      "outputs": [
        {
          "output_type": "execute_result",
          "data": {
            "text/plain": [
              "[{'rating': [], 'data': {'Distance': [], 'Grades': []}, 'name': []}]                                                                                                                                                                                                                                                                                       4169\n",
              "[{'rating': ['4/10', '5/10', '6/10'], 'data': {'Distance': ['39.69mi', '39.69mi', '39.69mi'], 'Grades': ['9-12', '6-8', 'PK-5']}, 'name': ['Fort Hancock High School', 'Fort Hancock Middle School', 'Benito Martinez Elementary School']}]                                                                                                                 222\n",
              "[{'rating': ['4/10', '6/10', '3/10'], 'data': {'Distance': ['3.62mi', '3.62mi', '3.62mi'], 'Grades': ['6-8', 'PK-5', '9-12']}, 'name': ['Horizon Middle School', 'Desert Hills Elementary School', 'Horizon High School']}]                                                                                                                                 168\n",
              "[{'rating': ['5/10', '3/10', '5/10'], 'data': {'Distance': ['9.71mi', '8.92mi', '1.56mi'], 'Grades': ['5-8', '9-12', 'K-4']}, 'name': ['Cheatham Middle School', 'Cheatham Co Central', 'West Cheatham Elementary School']}]                                                                                                                                133\n",
              "[{'rating': ['10/10', '2/10'], 'data': {'Distance': ['22.4 mi', '1.5 mi'], 'Grades': ['PK-8', '9-12']}, 'name': ['Air Base Elementary School', 'Booker T. Washington Senior High School']}]                                                                                                                                                                  90\n",
              "                                                                                                                                                                                                                                                                                                                                                           ... \n",
              "[{'rating': ['5', '3', '5', '5', '4'], 'data': {'Distance': ['4.6 mi', '0.7 mi', '1.0 mi', '1.4 mi', '1.2 mi'], 'Grades': ['Preschool to 8', 'Preschool to 8', 'Preschool to 8', 'Preschool to 8', '9 to 12']}, 'name': ['Luke School', 'El Mirage School', 'Surprise Elementary School', 'Dysart Elementary School', 'Dysart High School']}]                 1\n",
              "[{'rating': ['10', '7', '5'], 'data': {'Distance': ['0.7 mi', '1.0 mi', '2.2 mi'], 'Grades': ['Preschool to 5', '6 to 8', '9 to 12']}, 'name': ['West University Elementary School', 'Pershing Middle School', 'Lamar High School']}]                                                                                                                         1\n",
              "[{'rating': ['None/10', '2/10', '3/10'], 'data': {'Distance': ['1.01mi', '0.92mi', '0.39mi'], 'Grades': ['6-8', '9-12', 'PK-5']}, 'name': ['K O Knudson Junior High School', 'Valley High School', 'Will Beckley Elementary School']}]                                                                                                                        1\n",
              "[{'rating': ['9', '7', '3', '7', '7'], 'data': {'Distance': ['2.0 mi', '6.5 mi', '2.6 mi', '2.6 mi', '6.5 mi'], 'Grades': ['Preschool to 8', 'K to 8', '6 to 8', '9 to 12', '9 to 12']}, 'name': ['Windy Ridge K-8', 'Cornerstone Academy Charter', 'Chain of Lakes Middle School', 'Olympia High School', 'Cornerstone Charter Academy High School']}]       1\n",
              "[{'rating': ['NA', 'NA', 'NA'], 'data': {'Distance': ['1.3 mi', '0.5 mi', '1.9 mi'], 'Grades': ['PK-5', '6-8', '9-12']}, 'name': ['Hiliard El', 'Forest Brook Middle', 'North Forest High School']}]                                                                                                                                                          1\n",
              "Name: schools, Length: 295066, dtype: int64"
            ]
          },
          "metadata": {},
          "execution_count": 45
        }
      ],
      "source": [
        "data.schools.value_counts() #обзор значений в столбце"
      ]
    },
    {
      "cell_type": "markdown",
      "metadata": {
        "id": "RH3he3K8CU0b"
      },
      "source": [
        "### sqft"
      ]
    },
    {
      "cell_type": "code",
      "execution_count": 46,
      "metadata": {
        "colab": {
          "base_uri": "https://localhost:8080/"
        },
        "id": "2Ih0TsWu78ig",
        "outputId": "9698ea41-b0ba-47c7-c6f9-369f8ffef5bc"
      },
      "outputs": [
        {
          "output_type": "execute_result",
          "data": {
            "text/plain": [
              "0                                          11853\n",
              "1,200 sqft                                   824\n",
              "1,000 sqft                                   643\n",
              "1,100 sqft                                   566\n",
              "1,800 sqft                                   558\n",
              "                                           ...  \n",
              "101,415 sqft                                   1\n",
              "3938                                           1\n",
              "Total interior livable area: 4,580 sqft        1\n",
              "32,552 sqft                                    1\n",
              "Total interior livable area: 4,615 sqft        1\n",
              "Name: sqft, Length: 25369, dtype: int64"
            ]
          },
          "metadata": {},
          "execution_count": 46
        }
      ],
      "source": [
        "data['sqft'].value_counts() #обзор значений в столбце"
      ]
    },
    {
      "cell_type": "code",
      "execution_count": 47,
      "metadata": {
        "colab": {
          "base_uri": "https://localhost:8080/"
        },
        "id": "k2VCpl6kkP9p",
        "outputId": "738384ed-a95c-41be-f6cd-f520c377dedf"
      },
      "outputs": [
        {
          "output_type": "execute_result",
          "data": {
            "text/plain": [
              "array(['2900', '1,947 sqft', '3,000 sqft', ..., '4371', '13,870 sqft',\n",
              "       'Total interior livable area: 4,615 sqft'], dtype=object)"
            ]
          },
          "metadata": {},
          "execution_count": 47
        }
      ],
      "source": [
        "data['sqft'].unique() #обзор уникальных значений"
      ]
    },
    {
      "cell_type": "code",
      "execution_count": 48,
      "metadata": {
        "id": "Pq7UvjqOk4Ti"
      },
      "outputs": [],
      "source": [
        "data['sqft'] = pd.to_numeric(data['sqft'], errors='coerce') #приведение к числовому типу"
      ]
    },
    {
      "cell_type": "code",
      "execution_count": 49,
      "metadata": {
        "colab": {
          "base_uri": "https://localhost:8080/"
        },
        "id": "xpW7EouAlAuh",
        "outputId": "f8fda6cf-2813-429b-9184-35d80bc619aa"
      },
      "outputs": [
        {
          "output_type": "execute_result",
          "data": {
            "text/plain": [
              "0.0       11853\n",
              "960.0       284\n",
              "800.0       257\n",
              "900.0       234\n",
              "850.0       177\n",
              "          ...  \n",
              "5031.0        1\n",
              "4325.0        1\n",
              "4974.0        1\n",
              "469.0         1\n",
              "4371.0        1\n",
              "Name: sqft, Length: 5427, dtype: int64"
            ]
          },
          "metadata": {},
          "execution_count": 49
        }
      ],
      "source": [
        "data['sqft'].value_counts() #обзор значений в столбце"
      ]
    },
    {
      "cell_type": "code",
      "execution_count": 50,
      "metadata": {
        "id": "8vzpWEHSlQr7"
      },
      "outputs": [],
      "source": [
        "data['sqft']=data['sqft'].fillna(round(data['sqft'].mean(), 1)) #заполнение отсутствующих значений "
      ]
    },
    {
      "cell_type": "code",
      "execution_count": 51,
      "metadata": {
        "colab": {
          "base_uri": "https://localhost:8080/"
        },
        "id": "_LWo4L3Vlhfm",
        "outputId": "dda444a3-2cbc-4527-cecf-21d83633c6be"
      },
      "outputs": [
        {
          "output_type": "execute_result",
          "data": {
            "text/plain": [
              "8927.6    312718\n",
              "0.0        11853\n",
              "960.0        284\n",
              "800.0        257\n",
              "900.0        234\n",
              "           ...  \n",
              "5031.0         1\n",
              "4325.0         1\n",
              "4974.0         1\n",
              "469.0          1\n",
              "4371.0         1\n",
              "Name: sqft, Length: 5428, dtype: int64"
            ]
          },
          "metadata": {},
          "execution_count": 51
        }
      ],
      "source": [
        "data['sqft'].value_counts() #обзор значений в столбце"
      ]
    },
    {
      "cell_type": "markdown",
      "metadata": {
        "id": "8Uu9UnjWCXWo"
      },
      "source": [
        "### zipcode"
      ]
    },
    {
      "cell_type": "code",
      "execution_count": 52,
      "metadata": {
        "colab": {
          "base_uri": "https://localhost:8080/"
        },
        "id": "JAD-KWYK78s_",
        "outputId": "27f27c8b-7dcf-4d29-df37-e2247a26eb78"
      },
      "outputs": [
        {
          "output_type": "execute_result",
          "data": {
            "text/plain": [
              "32137         2139\n",
              "33131         1551\n",
              "34747         1486\n",
              "78245         1383\n",
              "34759         1333\n",
              "              ... \n",
              "92683            1\n",
              "27610-2861       1\n",
              "27613-4042       1\n",
              "27612-5442       1\n",
              "44704            1\n",
              "Name: zipcode, Length: 4541, dtype: int64"
            ]
          },
          "metadata": {},
          "execution_count": 52
        }
      ],
      "source": [
        "data.zipcode.value_counts() #обзор значений в столбце"
      ]
    },
    {
      "cell_type": "code",
      "execution_count": 53,
      "metadata": {
        "id": "GP6joStU2Ynl"
      },
      "outputs": [],
      "source": [
        "data['zipcode'] = pd.to_numeric(data['zipcode'], errors='coerce') #приведение к числовому типу"
      ]
    },
    {
      "cell_type": "code",
      "execution_count": 54,
      "metadata": {
        "id": "AqOhZ9rh2Ynl"
      },
      "outputs": [],
      "source": [
        "data['zipcode']=data['zipcode'].fillna(0) #заполнение отсутствующих значений"
      ]
    },
    {
      "cell_type": "markdown",
      "metadata": {
        "id": "wzBnS6HnCZ8D"
      },
      "source": [
        "### beds"
      ]
    },
    {
      "cell_type": "code",
      "execution_count": 55,
      "metadata": {
        "colab": {
          "base_uri": "https://localhost:8080/"
        },
        "id": "FF9SrBdO783R",
        "outputId": "5a4e38f1-21a0-4cf8-8071-f8dd017641fc"
      },
      "outputs": [
        {
          "output_type": "execute_result",
          "data": {
            "text/plain": [
              "3 Beds        52947\n",
              "4 Beds        35149\n",
              "3             31191\n",
              "2 Beds        26084\n",
              "4             19915\n",
              "              ...  \n",
              "8.93 acres        1\n",
              "5,510 sqft        1\n",
              "3.8 acres         1\n",
              "7,104 sqft        1\n",
              "8,479 sqft        1\n",
              "Name: beds, Length: 1146, dtype: int64"
            ]
          },
          "metadata": {},
          "execution_count": 55
        }
      ],
      "source": [
        "data['beds'].value_counts() #обзор значений в столбце"
      ]
    },
    {
      "cell_type": "code",
      "execution_count": 56,
      "metadata": {
        "colab": {
          "base_uri": "https://localhost:8080/"
        },
        "id": "sH0wbggaeJFU",
        "outputId": "391d1dca-76ac-413a-84c1-28addc95a555"
      },
      "outputs": [
        {
          "output_type": "execute_result",
          "data": {
            "text/plain": [
              "array(['4', '3 Beds', '5 Beds', ..., '2.72 acres', '9,565 sqft',\n",
              "       '8,479 sqft'], dtype=object)"
            ]
          },
          "metadata": {},
          "execution_count": 56
        }
      ],
      "source": [
        "data['beds'].unique() #обзор уникальных значений"
      ]
    },
    {
      "cell_type": "code",
      "execution_count": 57,
      "metadata": {
        "id": "v13T_h5eojTm"
      },
      "outputs": [],
      "source": [
        "def transform_beds(\n",
        "    value: str\n",
        "):  \n",
        "    if isinstance(value, str):\n",
        "        if  'acres' in value:\n",
        "            return 0\n",
        "        if  'sqft' in value:\n",
        "            return 0\n",
        "    return value\n",
        "data['beds']=data['beds'].apply(transform_beds) #преобразование значений в столбце"
      ]
    },
    {
      "cell_type": "code",
      "execution_count": 58,
      "metadata": {
        "id": "mjM3bX0NxyqX"
      },
      "outputs": [],
      "source": [
        "data['beds'] = pd.to_numeric(data['beds'], errors='coerce') #приведение к числовому типу"
      ]
    },
    {
      "cell_type": "code",
      "execution_count": 59,
      "metadata": {
        "id": "hJvcURCUyFg4"
      },
      "outputs": [],
      "source": [
        "data['beds']=data['beds'].fillna(round(data['beds'].mean(), 0)) #заполнение отсутствующих значений"
      ]
    },
    {
      "cell_type": "code",
      "execution_count": 60,
      "metadata": {
        "colab": {
          "base_uri": "https://localhost:8080/"
        },
        "id": "f52LYhd4oxnz",
        "outputId": "6accd685-4671-46c0-f51a-db72e073c03c"
      },
      "outputs": [
        {
          "output_type": "execute_result",
          "data": {
            "text/plain": [
              "3.0      310186\n",
              "4.0       25146\n",
              "2.0       18427\n",
              "5.0        7764\n",
              "1.0        5012\n",
              "0.0        4359\n",
              "6.0        2103\n",
              "7.0         577\n",
              "8.0         357\n",
              "9.0         102\n",
              "10.0         77\n",
              "11.0         40\n",
              "12.0         36\n",
              "16.0         21\n",
              "14.0         15\n",
              "13.0         14\n",
              "15.0         11\n",
              "24.0          9\n",
              "20.0          7\n",
              "18.0          7\n",
              "17.0          4\n",
              "28.0          3\n",
              "30.0          3\n",
              "22.0          3\n",
              "26.0          2\n",
              "29.0          2\n",
              "34.0          2\n",
              "27.0          2\n",
              "32.0          2\n",
              "40.0          2\n",
              "99.0          1\n",
              "33.0          1\n",
              "21.0          1\n",
              "75.0          1\n",
              "19.0          1\n",
              "144.0         1\n",
              "48.0          1\n",
              "23.0          1\n",
              "44.0          1\n",
              "78.0          1\n",
              "35.0          1\n",
              "Name: beds, dtype: int64"
            ]
          },
          "metadata": {},
          "execution_count": 60
        }
      ],
      "source": [
        "data['beds'].value_counts() #обзор значений в столбце"
      ]
    },
    {
      "cell_type": "markdown",
      "metadata": {
        "id": "8xW2mb3GCce7"
      },
      "source": [
        "### state"
      ]
    },
    {
      "cell_type": "code",
      "execution_count": 61,
      "metadata": {
        "colab": {
          "base_uri": "https://localhost:8080/"
        },
        "id": "ZX3d_UBz79Ad",
        "outputId": "a2921820-e01c-40ba-cb74-5a9cc006d4fd"
      },
      "outputs": [
        {
          "output_type": "execute_result",
          "data": {
            "text/plain": [
              "FL    114570\n",
              "TX     83269\n",
              "NY     24329\n",
              "CA     23170\n",
              "NC     21768\n",
              "TN     18218\n",
              "WA     13730\n",
              "OH     12423\n",
              "IL      8823\n",
              "NV      8402\n",
              "GA      6632\n",
              "CO      6371\n",
              "PA      5493\n",
              "MI      5119\n",
              "DC      4581\n",
              "AZ      3347\n",
              "IN      3280\n",
              "OR      2774\n",
              "MA      1494\n",
              "UT      1319\n",
              "MD      1086\n",
              "VT       864\n",
              "MO       832\n",
              "VA       800\n",
              "WI       452\n",
              "NJ       436\n",
              "ME       258\n",
              "IA       242\n",
              "KY        90\n",
              "OK        49\n",
              "MS        40\n",
              "SC        28\n",
              "MT         7\n",
              "DE         5\n",
              "Fl         1\n",
              "BA         1\n",
              "AL         1\n",
              "OT         1\n",
              "OS         1\n",
              "Name: state, dtype: int64"
            ]
          },
          "metadata": {},
          "execution_count": 61
        }
      ],
      "source": [
        "data.state.value_counts() #обзор значений в столбце"
      ]
    },
    {
      "cell_type": "markdown",
      "metadata": {
        "id": "oFNMgLhjChSV"
      },
      "source": [
        "### stories"
      ]
    },
    {
      "cell_type": "code",
      "execution_count": 62,
      "metadata": {
        "colab": {
          "base_uri": "https://localhost:8080/"
        },
        "id": "TeKHXqWu79Jt",
        "outputId": "59aaef1f-25dd-4e9d-c8b0-5f3002a30f2f"
      },
      "outputs": [
        {
          "output_type": "execute_result",
          "data": {
            "text/plain": [
              "1.0                                  66808\n",
              "2.0                                  55003\n",
              "1                                    22795\n",
              "2                                    17976\n",
              "3.0                                  11233\n",
              "                                     ...  \n",
              "Manufactured Home, Non-Site Built        1\n",
              "Bedroom - Split Plan                     1\n",
              "78                                       1\n",
              "None                                     1\n",
              "65.0                                     1\n",
              "Name: stories, Length: 348, dtype: int64"
            ]
          },
          "metadata": {},
          "execution_count": 62
        }
      ],
      "source": [
        "data['stories'].value_counts() #обзор значений в столбце"
      ]
    },
    {
      "cell_type": "code",
      "execution_count": 63,
      "metadata": {
        "id": "d3PaM0Luz-6M"
      },
      "outputs": [],
      "source": [
        "data['stories'] = pd.to_numeric(data['stories'], errors='coerce') #приведение к числовому типу"
      ]
    },
    {
      "cell_type": "code",
      "execution_count": 64,
      "metadata": {
        "colab": {
          "base_uri": "https://localhost:8080/"
        },
        "id": "7j98eGgR2HG6",
        "outputId": "e13dc20f-65a4-4a4c-e14f-2ba80e98333a"
      },
      "outputs": [
        {
          "output_type": "execute_result",
          "data": {
            "text/plain": [
              "1.0       90942\n",
              "2.0       75986\n",
              "3.0       15971\n",
              "0.0       11440\n",
              "9.0        3381\n",
              "          ...  \n",
              "1120.0        1\n",
              "2.2           1\n",
              "1002.0        1\n",
              "96.0          1\n",
              "65.0          1\n",
              "Name: stories, Length: 85, dtype: int64"
            ]
          },
          "metadata": {},
          "execution_count": 64
        }
      ],
      "source": [
        "data['stories'].value_counts() #обзор значений в столбце"
      ]
    },
    {
      "cell_type": "code",
      "execution_count": 65,
      "metadata": {
        "id": "1h2t8SyO2Uz9"
      },
      "outputs": [],
      "source": [
        "data['stories']=data['stories'].fillna(round(data['stories'].mean(), 0)) #заполнение отсутствующих значений"
      ]
    },
    {
      "cell_type": "markdown",
      "metadata": {
        "id": "JtB-DNltC1nU"
      },
      "source": [
        "### mls-id"
      ]
    },
    {
      "cell_type": "code",
      "execution_count": 66,
      "metadata": {
        "colab": {
          "base_uri": "https://localhost:8080/"
        },
        "id": "bo01v63a79TF",
        "outputId": "56c5814d-26dd-4553-f649-72ff87eb6c73"
      },
      "outputs": [
        {
          "output_type": "execute_result",
          "data": {
            "text/plain": [
              "No           3\n",
              "No MLS#      3\n",
              "983469       2\n",
              "241766       2\n",
              "A10761504    2\n",
              "            ..\n",
              "1020314      1\n",
              "A10762436    1\n",
              "1592770      1\n",
              "14201834     1\n",
              "F10202858    1\n",
              "Name: mls-id, Length: 24902, dtype: int64"
            ]
          },
          "metadata": {},
          "execution_count": 66
        }
      ],
      "source": [
        "data['mls-id'].value_counts() #обзор значений в столбце"
      ]
    },
    {
      "cell_type": "code",
      "execution_count": 67,
      "metadata": {
        "id": "8nwAj_4UM-7F"
      },
      "outputs": [],
      "source": [
        "data.drop(['mls-id',], axis=1, inplace=True) #удаление столбца, так как значения пересекаются со значениями столбца MlsId"
      ]
    },
    {
      "cell_type": "markdown",
      "metadata": {
        "id": "w6nDaBMwC4Ue"
      },
      "source": [
        "### PrivatePool"
      ]
    },
    {
      "cell_type": "code",
      "execution_count": 68,
      "metadata": {
        "colab": {
          "base_uri": "https://localhost:8080/"
        },
        "id": "7gjcqCkg79c7",
        "outputId": "63b0f710-cfce-43f4-fbba-8dd1e466c331"
      },
      "outputs": [
        {
          "output_type": "execute_result",
          "data": {
            "text/plain": [
              "yes    28592\n",
              "Yes    11434\n",
              "Name: PrivatePool, dtype: int64"
            ]
          },
          "metadata": {},
          "execution_count": 68
        }
      ],
      "source": [
        "data.PrivatePool.value_counts() #обзор значений в столбце"
      ]
    },
    {
      "cell_type": "code",
      "execution_count": 69,
      "metadata": {
        "id": "P5ivkJ1hSAyl"
      },
      "outputs": [],
      "source": [
        "data['PrivatePool']=data['PrivatePool'].fillna(value='not') #заполнение отсутствующих зачений"
      ]
    },
    {
      "cell_type": "code",
      "execution_count": 70,
      "metadata": {
        "id": "Iz5zCQ7CTZAO"
      },
      "outputs": [],
      "source": [
        "#data['PrivatePool'] = data['PrivatePool'].astype(str)\n",
        "data['PrivatePool'] = data['PrivatePool'].apply(lambda x: x.lower()) #преобразование данных"
      ]
    },
    {
      "cell_type": "code",
      "execution_count": 71,
      "metadata": {
        "colab": {
          "base_uri": "https://localhost:8080/"
        },
        "id": "YZnxnDC_TmBv",
        "outputId": "77390019-5dc0-44f6-bf8d-5d46457a1146"
      },
      "outputs": [
        {
          "output_type": "execute_result",
          "data": {
            "text/plain": [
              "not    334280\n",
              "yes     40026\n",
              "Name: PrivatePool, dtype: int64"
            ]
          },
          "metadata": {},
          "execution_count": 71
        }
      ],
      "source": [
        "data['PrivatePool'].value_counts() #обзор значений в столбце"
      ]
    },
    {
      "cell_type": "markdown",
      "metadata": {
        "id": "xDxkYbdXC9H1"
      },
      "source": [
        "### MlsId"
      ]
    },
    {
      "cell_type": "code",
      "execution_count": 72,
      "metadata": {
        "colab": {
          "base_uri": "https://localhost:8080/"
        },
        "id": "3t3Axg8r79nl",
        "outputId": "1211a26d-fcbf-4af8-8894-937881acea55"
      },
      "outputs": [
        {
          "output_type": "execute_result",
          "data": {
            "text/plain": [
              "NO MLS                     24\n",
              "No MLS #                   16\n",
              " A, Houston, TX 77008      13\n",
              " 12A, Orlando, FL 32833    11\n",
              " B, Houston, TX 77008       9\n",
              "                           ..\n",
              "241208                      1\n",
              "687215                      1\n",
              "3866902                     1\n",
              "19491906                    1\n",
              "10374233                    1\n",
              "Name: MlsId, Length: 232622, dtype: int64"
            ]
          },
          "metadata": {},
          "execution_count": 72
        }
      ],
      "source": [
        "data['MlsId'].value_counts() #обзор значений в столбце"
      ]
    },
    {
      "cell_type": "code",
      "execution_count": 73,
      "metadata": {
        "id": "5ByGDTSKUWQE"
      },
      "outputs": [],
      "source": [
        "data['MlsId'] = pd.to_numeric(data['MlsId'], errors='coerce') #преобразование к числовому типу "
      ]
    },
    {
      "cell_type": "code",
      "execution_count": 74,
      "metadata": {
        "colab": {
          "base_uri": "https://localhost:8080/"
        },
        "id": "YDQ5epdIUtRC",
        "outputId": "d65d4045-6c20-4d3e-cf1c-0bf0d6587ca9"
      },
      "outputs": [
        {
          "output_type": "execute_result",
          "data": {
            "text/plain": [
              "2101941.0     6\n",
              "1412350.0     6\n",
              "2088662.0     6\n",
              "14187092.0    5\n",
              "14061735.0    5\n",
              "             ..\n",
              "10589197.0    1\n",
              "3481963.0     1\n",
              "1418405.0     1\n",
              "14135173.0    1\n",
              "10374233.0    1\n",
              "Name: MlsId, Length: 161084, dtype: int64"
            ]
          },
          "metadata": {},
          "execution_count": 74
        }
      ],
      "source": [
        "data['MlsId'].value_counts() #обзор значений в столбце"
      ]
    },
    {
      "cell_type": "code",
      "execution_count": 75,
      "metadata": {
        "id": "FFR0YynQb0Vv"
      },
      "outputs": [],
      "source": [
        "data=data.drop(['MlsId',], axis=1) #удаление столбца, так как информацией из него можно пренебречь"
      ]
    },
    {
      "cell_type": "markdown",
      "metadata": {
        "id": "zdaGuR5WddYe"
      },
      "source": [
        "# Data Preprocessing"
      ]
    },
    {
      "cell_type": "code",
      "execution_count": 76,
      "metadata": {
        "id": "HLJElOhC7CmR"
      },
      "outputs": [],
      "source": [
        "data=data.drop(['homeFacts', 'schools',], axis=1) #удаляем столбцы, так как не удалось сделать их корректную обработку и вытащить значения\n",
        "data=pd.DataFrame(data=data)"
      ]
    },
    {
      "cell_type": "code",
      "execution_count": 77,
      "metadata": {
        "colab": {
          "base_uri": "https://localhost:8080/"
        },
        "id": "Yd5onoM_XhQx",
        "outputId": "4f3489b3-326b-4232-8777-806886922b05"
      },
      "outputs": [
        {
          "output_type": "execute_result",
          "data": {
            "text/plain": [
              "status          0\n",
              "propertyType    0\n",
              "street          0\n",
              "baths           0\n",
              "fireplace       0\n",
              "city            0\n",
              "sqft            0\n",
              "zipcode         0\n",
              "beds            0\n",
              "state           0\n",
              "stories         0\n",
              "PrivatePool     0\n",
              "new_target      0\n",
              "dtype: int64"
            ]
          },
          "metadata": {},
          "execution_count": 77
        }
      ],
      "source": [
        "data.isna().sum() #проверяем,что у нас нет NaN  в датасете"
      ]
    },
    {
      "cell_type": "code",
      "execution_count": 78,
      "metadata": {
        "colab": {
          "base_uri": "https://localhost:8080/"
        },
        "id": "W-m45IiG_r8z",
        "outputId": "66c706d4-44bb-48a9-a2b9-561301a5578c"
      },
      "outputs": [
        {
          "output_type": "stream",
          "name": "stdout",
          "text": [
            "<class 'pandas.core.frame.DataFrame'>\n",
            "Int64Index: 374306 entries, 0 to 377184\n",
            "Data columns (total 13 columns):\n",
            " #   Column        Non-Null Count   Dtype  \n",
            "---  ------        --------------   -----  \n",
            " 0   status        374306 non-null  object \n",
            " 1   propertyType  374306 non-null  object \n",
            " 2   street        374306 non-null  object \n",
            " 3   baths         374306 non-null  float64\n",
            " 4   fireplace     374306 non-null  object \n",
            " 5   city          374306 non-null  object \n",
            " 6   sqft          374306 non-null  float64\n",
            " 7   zipcode       374306 non-null  float64\n",
            " 8   beds          374306 non-null  float64\n",
            " 9   state         374306 non-null  object \n",
            " 10  stories       374306 non-null  float64\n",
            " 11  PrivatePool   374306 non-null  object \n",
            " 12  new_target    374306 non-null  float64\n",
            "dtypes: float64(6), object(7)\n",
            "memory usage: 40.0+ MB\n"
          ]
        }
      ],
      "source": [
        "data.info() #общий обзор получившегося датафрейма"
      ]
    },
    {
      "cell_type": "markdown",
      "metadata": {
        "id": "poogsViX634g"
      },
      "source": [
        "## Standartisation"
      ]
    },
    {
      "cell_type": "code",
      "execution_count": 79,
      "metadata": {
        "id": "BGkFpB6fRlD_"
      },
      "outputs": [],
      "source": [
        "\n",
        "scaled_features = data.copy()\n",
        "\n",
        "col_names = ['baths', 'sqft', 'zipcode', 'beds', 'stories']\n",
        "features = scaled_features[col_names]\n",
        "\n",
        "scaler = MinMaxScaler().fit(features.values)\n",
        "features = scaler.transform(features.values)\n",
        "\n",
        "scaled_features[col_names] = features"
      ]
    },
    {
      "cell_type": "code",
      "execution_count": 80,
      "metadata": {
        "id": "Fu7OkklqQUmC"
      },
      "outputs": [],
      "source": [
        "data=scaled_features"
      ]
    },
    {
      "cell_type": "markdown",
      "metadata": {
        "id": "RpNJ2vJX6rHV"
      },
      "source": [
        "## FeatureEngineering"
      ]
    },
    {
      "cell_type": "code",
      "execution_count": 81,
      "metadata": {
        "colab": {
          "base_uri": "https://localhost:8080/",
          "height": 473
        },
        "id": "96wtlR3uETcJ",
        "outputId": "69cd3498-2dcb-48d6-8aa3-f121bbb34ef0"
      },
      "outputs": [
        {
          "output_type": "execute_result",
          "data": {
            "text/plain": [
              "    propertyType               street     baths            city      sqft  \\\n",
              "0         single       240 Heather Ln  0.004667  Southern Pines  0.000006   \n",
              "1  single-family    12911 E Heroy Ave  0.005600  Spokane Valley  0.000020   \n",
              "2  single-family    2005 Westridge Rd  0.005600     Los Angeles  0.000020   \n",
              "3  single-family  4311 Livingston Ave  0.005600          Dallas  0.000020   \n",
              "4       lot/land       1524 Kiscoe St  0.005600        Palm Bay  0.000020   \n",
              "\n",
              "    zipcode      beds state   stories  new_target  ...  status_option  \\\n",
              "0  0.085646  0.027778    NC  0.001786    418000.0  ...              0   \n",
              "1  0.299343  0.020833    WA  0.001786    310000.0  ...              0   \n",
              "2  0.271685  0.020833    CA  0.000893   2895000.0  ...              0   \n",
              "3  0.226900  0.020833    TX  0.002679   2395000.0  ...              0   \n",
              "4  0.099286  0.020833    FL  0.001786      5000.0  ...              0   \n",
              "\n",
              "   status_pending  status_pending,  status_pf  status_price change  \\\n",
              "0               0                0          0                    0   \n",
              "1               0                0          0                    0   \n",
              "2               0                0          0                    0   \n",
              "3               0                0          0                    0   \n",
              "4               0                0          0                    0   \n",
              "\n",
              "   status_reactivated  status_temporary  status_under  fireplace_yes  \\\n",
              "0                   0                 0             0              1   \n",
              "1                   0                 0             0              0   \n",
              "2                   0                 0             0              1   \n",
              "3                   0                 0             0              1   \n",
              "4                   0                 0             0              0   \n",
              "\n",
              "   PrivatePool_yes  \n",
              "0                0  \n",
              "1                0  \n",
              "2                1  \n",
              "3                0  \n",
              "4                0  \n",
              "\n",
              "[5 rows x 38 columns]"
            ],
            "text/html": [
              "\n",
              "  <div id=\"df-78b62739-07a8-4cbd-a6d3-12fe1f819ee1\">\n",
              "    <div class=\"colab-df-container\">\n",
              "      <div>\n",
              "<style scoped>\n",
              "    .dataframe tbody tr th:only-of-type {\n",
              "        vertical-align: middle;\n",
              "    }\n",
              "\n",
              "    .dataframe tbody tr th {\n",
              "        vertical-align: top;\n",
              "    }\n",
              "\n",
              "    .dataframe thead th {\n",
              "        text-align: right;\n",
              "    }\n",
              "</style>\n",
              "<table border=\"1\" class=\"dataframe\">\n",
              "  <thead>\n",
              "    <tr style=\"text-align: right;\">\n",
              "      <th></th>\n",
              "      <th>propertyType</th>\n",
              "      <th>street</th>\n",
              "      <th>baths</th>\n",
              "      <th>city</th>\n",
              "      <th>sqft</th>\n",
              "      <th>zipcode</th>\n",
              "      <th>beds</th>\n",
              "      <th>state</th>\n",
              "      <th>stories</th>\n",
              "      <th>new_target</th>\n",
              "      <th>...</th>\n",
              "      <th>status_option</th>\n",
              "      <th>status_pending</th>\n",
              "      <th>status_pending,</th>\n",
              "      <th>status_pf</th>\n",
              "      <th>status_price change</th>\n",
              "      <th>status_reactivated</th>\n",
              "      <th>status_temporary</th>\n",
              "      <th>status_under</th>\n",
              "      <th>fireplace_yes</th>\n",
              "      <th>PrivatePool_yes</th>\n",
              "    </tr>\n",
              "  </thead>\n",
              "  <tbody>\n",
              "    <tr>\n",
              "      <th>0</th>\n",
              "      <td>single</td>\n",
              "      <td>240 Heather Ln</td>\n",
              "      <td>0.004667</td>\n",
              "      <td>Southern Pines</td>\n",
              "      <td>0.000006</td>\n",
              "      <td>0.085646</td>\n",
              "      <td>0.027778</td>\n",
              "      <td>NC</td>\n",
              "      <td>0.001786</td>\n",
              "      <td>418000.0</td>\n",
              "      <td>...</td>\n",
              "      <td>0</td>\n",
              "      <td>0</td>\n",
              "      <td>0</td>\n",
              "      <td>0</td>\n",
              "      <td>0</td>\n",
              "      <td>0</td>\n",
              "      <td>0</td>\n",
              "      <td>0</td>\n",
              "      <td>1</td>\n",
              "      <td>0</td>\n",
              "    </tr>\n",
              "    <tr>\n",
              "      <th>1</th>\n",
              "      <td>single-family</td>\n",
              "      <td>12911 E Heroy Ave</td>\n",
              "      <td>0.005600</td>\n",
              "      <td>Spokane Valley</td>\n",
              "      <td>0.000020</td>\n",
              "      <td>0.299343</td>\n",
              "      <td>0.020833</td>\n",
              "      <td>WA</td>\n",
              "      <td>0.001786</td>\n",
              "      <td>310000.0</td>\n",
              "      <td>...</td>\n",
              "      <td>0</td>\n",
              "      <td>0</td>\n",
              "      <td>0</td>\n",
              "      <td>0</td>\n",
              "      <td>0</td>\n",
              "      <td>0</td>\n",
              "      <td>0</td>\n",
              "      <td>0</td>\n",
              "      <td>0</td>\n",
              "      <td>0</td>\n",
              "    </tr>\n",
              "    <tr>\n",
              "      <th>2</th>\n",
              "      <td>single-family</td>\n",
              "      <td>2005 Westridge Rd</td>\n",
              "      <td>0.005600</td>\n",
              "      <td>Los Angeles</td>\n",
              "      <td>0.000020</td>\n",
              "      <td>0.271685</td>\n",
              "      <td>0.020833</td>\n",
              "      <td>CA</td>\n",
              "      <td>0.000893</td>\n",
              "      <td>2895000.0</td>\n",
              "      <td>...</td>\n",
              "      <td>0</td>\n",
              "      <td>0</td>\n",
              "      <td>0</td>\n",
              "      <td>0</td>\n",
              "      <td>0</td>\n",
              "      <td>0</td>\n",
              "      <td>0</td>\n",
              "      <td>0</td>\n",
              "      <td>1</td>\n",
              "      <td>1</td>\n",
              "    </tr>\n",
              "    <tr>\n",
              "      <th>3</th>\n",
              "      <td>single-family</td>\n",
              "      <td>4311 Livingston Ave</td>\n",
              "      <td>0.005600</td>\n",
              "      <td>Dallas</td>\n",
              "      <td>0.000020</td>\n",
              "      <td>0.226900</td>\n",
              "      <td>0.020833</td>\n",
              "      <td>TX</td>\n",
              "      <td>0.002679</td>\n",
              "      <td>2395000.0</td>\n",
              "      <td>...</td>\n",
              "      <td>0</td>\n",
              "      <td>0</td>\n",
              "      <td>0</td>\n",
              "      <td>0</td>\n",
              "      <td>0</td>\n",
              "      <td>0</td>\n",
              "      <td>0</td>\n",
              "      <td>0</td>\n",
              "      <td>1</td>\n",
              "      <td>0</td>\n",
              "    </tr>\n",
              "    <tr>\n",
              "      <th>4</th>\n",
              "      <td>lot/land</td>\n",
              "      <td>1524 Kiscoe St</td>\n",
              "      <td>0.005600</td>\n",
              "      <td>Palm Bay</td>\n",
              "      <td>0.000020</td>\n",
              "      <td>0.099286</td>\n",
              "      <td>0.020833</td>\n",
              "      <td>FL</td>\n",
              "      <td>0.001786</td>\n",
              "      <td>5000.0</td>\n",
              "      <td>...</td>\n",
              "      <td>0</td>\n",
              "      <td>0</td>\n",
              "      <td>0</td>\n",
              "      <td>0</td>\n",
              "      <td>0</td>\n",
              "      <td>0</td>\n",
              "      <td>0</td>\n",
              "      <td>0</td>\n",
              "      <td>0</td>\n",
              "      <td>0</td>\n",
              "    </tr>\n",
              "  </tbody>\n",
              "</table>\n",
              "<p>5 rows × 38 columns</p>\n",
              "</div>\n",
              "      <button class=\"colab-df-convert\" onclick=\"convertToInteractive('df-78b62739-07a8-4cbd-a6d3-12fe1f819ee1')\"\n",
              "              title=\"Convert this dataframe to an interactive table.\"\n",
              "              style=\"display:none;\">\n",
              "        \n",
              "  <svg xmlns=\"http://www.w3.org/2000/svg\" height=\"24px\"viewBox=\"0 0 24 24\"\n",
              "       width=\"24px\">\n",
              "    <path d=\"M0 0h24v24H0V0z\" fill=\"none\"/>\n",
              "    <path d=\"M18.56 5.44l.94 2.06.94-2.06 2.06-.94-2.06-.94-.94-2.06-.94 2.06-2.06.94zm-11 1L8.5 8.5l.94-2.06 2.06-.94-2.06-.94L8.5 2.5l-.94 2.06-2.06.94zm10 10l.94 2.06.94-2.06 2.06-.94-2.06-.94-.94-2.06-.94 2.06-2.06.94z\"/><path d=\"M17.41 7.96l-1.37-1.37c-.4-.4-.92-.59-1.43-.59-.52 0-1.04.2-1.43.59L10.3 9.45l-7.72 7.72c-.78.78-.78 2.05 0 2.83L4 21.41c.39.39.9.59 1.41.59.51 0 1.02-.2 1.41-.59l7.78-7.78 2.81-2.81c.8-.78.8-2.07 0-2.86zM5.41 20L4 18.59l7.72-7.72 1.47 1.35L5.41 20z\"/>\n",
              "  </svg>\n",
              "      </button>\n",
              "      \n",
              "  <style>\n",
              "    .colab-df-container {\n",
              "      display:flex;\n",
              "      flex-wrap:wrap;\n",
              "      gap: 12px;\n",
              "    }\n",
              "\n",
              "    .colab-df-convert {\n",
              "      background-color: #E8F0FE;\n",
              "      border: none;\n",
              "      border-radius: 50%;\n",
              "      cursor: pointer;\n",
              "      display: none;\n",
              "      fill: #1967D2;\n",
              "      height: 32px;\n",
              "      padding: 0 0 0 0;\n",
              "      width: 32px;\n",
              "    }\n",
              "\n",
              "    .colab-df-convert:hover {\n",
              "      background-color: #E2EBFA;\n",
              "      box-shadow: 0px 1px 2px rgba(60, 64, 67, 0.3), 0px 1px 3px 1px rgba(60, 64, 67, 0.15);\n",
              "      fill: #174EA6;\n",
              "    }\n",
              "\n",
              "    [theme=dark] .colab-df-convert {\n",
              "      background-color: #3B4455;\n",
              "      fill: #D2E3FC;\n",
              "    }\n",
              "\n",
              "    [theme=dark] .colab-df-convert:hover {\n",
              "      background-color: #434B5C;\n",
              "      box-shadow: 0px 1px 3px 1px rgba(0, 0, 0, 0.15);\n",
              "      filter: drop-shadow(0px 1px 2px rgba(0, 0, 0, 0.3));\n",
              "      fill: #FFFFFF;\n",
              "    }\n",
              "  </style>\n",
              "\n",
              "      <script>\n",
              "        const buttonEl =\n",
              "          document.querySelector('#df-78b62739-07a8-4cbd-a6d3-12fe1f819ee1 button.colab-df-convert');\n",
              "        buttonEl.style.display =\n",
              "          google.colab.kernel.accessAllowed ? 'block' : 'none';\n",
              "\n",
              "        async function convertToInteractive(key) {\n",
              "          const element = document.querySelector('#df-78b62739-07a8-4cbd-a6d3-12fe1f819ee1');\n",
              "          const dataTable =\n",
              "            await google.colab.kernel.invokeFunction('convertToInteractive',\n",
              "                                                     [key], {});\n",
              "          if (!dataTable) return;\n",
              "\n",
              "          const docLinkHtml = 'Like what you see? Visit the ' +\n",
              "            '<a target=\"_blank\" href=https://colab.research.google.com/notebooks/data_table.ipynb>data table notebook</a>'\n",
              "            + ' to learn more about interactive tables.';\n",
              "          element.innerHTML = '';\n",
              "          dataTable['output_type'] = 'display_data';\n",
              "          await google.colab.output.renderOutput(dataTable, element);\n",
              "          const docLink = document.createElement('div');\n",
              "          docLink.innerHTML = docLinkHtml;\n",
              "          element.appendChild(docLink);\n",
              "        }\n",
              "      </script>\n",
              "    </div>\n",
              "  </div>\n",
              "  "
            ]
          },
          "metadata": {},
          "execution_count": 81
        }
      ],
      "source": [
        "categorical_features=[ 'status', 'fireplace',  'PrivatePool'] #применение get_dummies для преобразования категориальных переменных, в которых не сильно высокая вариативность представленных уникальных значений и поэтому создаваемые новые признаки не будут ззамедлять работу нашего сервиса\n",
        "data = pd.get_dummies(data, columns = categorical_features , prefix_sep = \"_\", drop_first = True)\n",
        "data.head()"
      ]
    },
    {
      "cell_type": "code",
      "execution_count": 82,
      "metadata": {
        "colab": {
          "base_uri": "https://localhost:8080/",
          "height": 317
        },
        "id": "ld8b1kb42Ynv",
        "outputId": "a2d56667-2c41-493e-fcc9-1640c974be56"
      },
      "outputs": [
        {
          "output_type": "execute_result",
          "data": {
            "text/plain": [
              "   propertyType  street     baths  city      sqft   zipcode      beds  state  \\\n",
              "0           149  124833  0.004667  1705  0.000006  0.085646  0.027778     21   \n",
              "1           150   43403  0.005600  1715  0.000020  0.299343  0.020833     37   \n",
              "2           150  102248  0.005600  1031  0.000020  0.271685  0.020833      3   \n",
              "3           150  197986  0.005600   430  0.000020  0.226900  0.020833     33   \n",
              "4           105   68022  0.005600  1341  0.000020  0.099286  0.020833      7   \n",
              "\n",
              "    stories  new_target  ...  status_option  status_pending  status_pending,  \\\n",
              "0  0.001786    418000.0  ...              0               0                0   \n",
              "1  0.001786    310000.0  ...              0               0                0   \n",
              "2  0.000893   2895000.0  ...              0               0                0   \n",
              "3  0.002679   2395000.0  ...              0               0                0   \n",
              "4  0.001786      5000.0  ...              0               0                0   \n",
              "\n",
              "   status_pf  status_price change  status_reactivated  status_temporary  \\\n",
              "0          0                    0                   0                 0   \n",
              "1          0                    0                   0                 0   \n",
              "2          0                    0                   0                 0   \n",
              "3          0                    0                   0                 0   \n",
              "4          0                    0                   0                 0   \n",
              "\n",
              "   status_under  fireplace_yes  PrivatePool_yes  \n",
              "0             0              1                0  \n",
              "1             0              0                0  \n",
              "2             0              1                1  \n",
              "3             0              1                0  \n",
              "4             0              0                0  \n",
              "\n",
              "[5 rows x 38 columns]"
            ],
            "text/html": [
              "\n",
              "  <div id=\"df-72a641a9-63d4-4abc-adc6-b454f1b6e68f\">\n",
              "    <div class=\"colab-df-container\">\n",
              "      <div>\n",
              "<style scoped>\n",
              "    .dataframe tbody tr th:only-of-type {\n",
              "        vertical-align: middle;\n",
              "    }\n",
              "\n",
              "    .dataframe tbody tr th {\n",
              "        vertical-align: top;\n",
              "    }\n",
              "\n",
              "    .dataframe thead th {\n",
              "        text-align: right;\n",
              "    }\n",
              "</style>\n",
              "<table border=\"1\" class=\"dataframe\">\n",
              "  <thead>\n",
              "    <tr style=\"text-align: right;\">\n",
              "      <th></th>\n",
              "      <th>propertyType</th>\n",
              "      <th>street</th>\n",
              "      <th>baths</th>\n",
              "      <th>city</th>\n",
              "      <th>sqft</th>\n",
              "      <th>zipcode</th>\n",
              "      <th>beds</th>\n",
              "      <th>state</th>\n",
              "      <th>stories</th>\n",
              "      <th>new_target</th>\n",
              "      <th>...</th>\n",
              "      <th>status_option</th>\n",
              "      <th>status_pending</th>\n",
              "      <th>status_pending,</th>\n",
              "      <th>status_pf</th>\n",
              "      <th>status_price change</th>\n",
              "      <th>status_reactivated</th>\n",
              "      <th>status_temporary</th>\n",
              "      <th>status_under</th>\n",
              "      <th>fireplace_yes</th>\n",
              "      <th>PrivatePool_yes</th>\n",
              "    </tr>\n",
              "  </thead>\n",
              "  <tbody>\n",
              "    <tr>\n",
              "      <th>0</th>\n",
              "      <td>149</td>\n",
              "      <td>124833</td>\n",
              "      <td>0.004667</td>\n",
              "      <td>1705</td>\n",
              "      <td>0.000006</td>\n",
              "      <td>0.085646</td>\n",
              "      <td>0.027778</td>\n",
              "      <td>21</td>\n",
              "      <td>0.001786</td>\n",
              "      <td>418000.0</td>\n",
              "      <td>...</td>\n",
              "      <td>0</td>\n",
              "      <td>0</td>\n",
              "      <td>0</td>\n",
              "      <td>0</td>\n",
              "      <td>0</td>\n",
              "      <td>0</td>\n",
              "      <td>0</td>\n",
              "      <td>0</td>\n",
              "      <td>1</td>\n",
              "      <td>0</td>\n",
              "    </tr>\n",
              "    <tr>\n",
              "      <th>1</th>\n",
              "      <td>150</td>\n",
              "      <td>43403</td>\n",
              "      <td>0.005600</td>\n",
              "      <td>1715</td>\n",
              "      <td>0.000020</td>\n",
              "      <td>0.299343</td>\n",
              "      <td>0.020833</td>\n",
              "      <td>37</td>\n",
              "      <td>0.001786</td>\n",
              "      <td>310000.0</td>\n",
              "      <td>...</td>\n",
              "      <td>0</td>\n",
              "      <td>0</td>\n",
              "      <td>0</td>\n",
              "      <td>0</td>\n",
              "      <td>0</td>\n",
              "      <td>0</td>\n",
              "      <td>0</td>\n",
              "      <td>0</td>\n",
              "      <td>0</td>\n",
              "      <td>0</td>\n",
              "    </tr>\n",
              "    <tr>\n",
              "      <th>2</th>\n",
              "      <td>150</td>\n",
              "      <td>102248</td>\n",
              "      <td>0.005600</td>\n",
              "      <td>1031</td>\n",
              "      <td>0.000020</td>\n",
              "      <td>0.271685</td>\n",
              "      <td>0.020833</td>\n",
              "      <td>3</td>\n",
              "      <td>0.000893</td>\n",
              "      <td>2895000.0</td>\n",
              "      <td>...</td>\n",
              "      <td>0</td>\n",
              "      <td>0</td>\n",
              "      <td>0</td>\n",
              "      <td>0</td>\n",
              "      <td>0</td>\n",
              "      <td>0</td>\n",
              "      <td>0</td>\n",
              "      <td>0</td>\n",
              "      <td>1</td>\n",
              "      <td>1</td>\n",
              "    </tr>\n",
              "    <tr>\n",
              "      <th>3</th>\n",
              "      <td>150</td>\n",
              "      <td>197986</td>\n",
              "      <td>0.005600</td>\n",
              "      <td>430</td>\n",
              "      <td>0.000020</td>\n",
              "      <td>0.226900</td>\n",
              "      <td>0.020833</td>\n",
              "      <td>33</td>\n",
              "      <td>0.002679</td>\n",
              "      <td>2395000.0</td>\n",
              "      <td>...</td>\n",
              "      <td>0</td>\n",
              "      <td>0</td>\n",
              "      <td>0</td>\n",
              "      <td>0</td>\n",
              "      <td>0</td>\n",
              "      <td>0</td>\n",
              "      <td>0</td>\n",
              "      <td>0</td>\n",
              "      <td>1</td>\n",
              "      <td>0</td>\n",
              "    </tr>\n",
              "    <tr>\n",
              "      <th>4</th>\n",
              "      <td>105</td>\n",
              "      <td>68022</td>\n",
              "      <td>0.005600</td>\n",
              "      <td>1341</td>\n",
              "      <td>0.000020</td>\n",
              "      <td>0.099286</td>\n",
              "      <td>0.020833</td>\n",
              "      <td>7</td>\n",
              "      <td>0.001786</td>\n",
              "      <td>5000.0</td>\n",
              "      <td>...</td>\n",
              "      <td>0</td>\n",
              "      <td>0</td>\n",
              "      <td>0</td>\n",
              "      <td>0</td>\n",
              "      <td>0</td>\n",
              "      <td>0</td>\n",
              "      <td>0</td>\n",
              "      <td>0</td>\n",
              "      <td>0</td>\n",
              "      <td>0</td>\n",
              "    </tr>\n",
              "  </tbody>\n",
              "</table>\n",
              "<p>5 rows × 38 columns</p>\n",
              "</div>\n",
              "      <button class=\"colab-df-convert\" onclick=\"convertToInteractive('df-72a641a9-63d4-4abc-adc6-b454f1b6e68f')\"\n",
              "              title=\"Convert this dataframe to an interactive table.\"\n",
              "              style=\"display:none;\">\n",
              "        \n",
              "  <svg xmlns=\"http://www.w3.org/2000/svg\" height=\"24px\"viewBox=\"0 0 24 24\"\n",
              "       width=\"24px\">\n",
              "    <path d=\"M0 0h24v24H0V0z\" fill=\"none\"/>\n",
              "    <path d=\"M18.56 5.44l.94 2.06.94-2.06 2.06-.94-2.06-.94-.94-2.06-.94 2.06-2.06.94zm-11 1L8.5 8.5l.94-2.06 2.06-.94-2.06-.94L8.5 2.5l-.94 2.06-2.06.94zm10 10l.94 2.06.94-2.06 2.06-.94-2.06-.94-.94-2.06-.94 2.06-2.06.94z\"/><path d=\"M17.41 7.96l-1.37-1.37c-.4-.4-.92-.59-1.43-.59-.52 0-1.04.2-1.43.59L10.3 9.45l-7.72 7.72c-.78.78-.78 2.05 0 2.83L4 21.41c.39.39.9.59 1.41.59.51 0 1.02-.2 1.41-.59l7.78-7.78 2.81-2.81c.8-.78.8-2.07 0-2.86zM5.41 20L4 18.59l7.72-7.72 1.47 1.35L5.41 20z\"/>\n",
              "  </svg>\n",
              "      </button>\n",
              "      \n",
              "  <style>\n",
              "    .colab-df-container {\n",
              "      display:flex;\n",
              "      flex-wrap:wrap;\n",
              "      gap: 12px;\n",
              "    }\n",
              "\n",
              "    .colab-df-convert {\n",
              "      background-color: #E8F0FE;\n",
              "      border: none;\n",
              "      border-radius: 50%;\n",
              "      cursor: pointer;\n",
              "      display: none;\n",
              "      fill: #1967D2;\n",
              "      height: 32px;\n",
              "      padding: 0 0 0 0;\n",
              "      width: 32px;\n",
              "    }\n",
              "\n",
              "    .colab-df-convert:hover {\n",
              "      background-color: #E2EBFA;\n",
              "      box-shadow: 0px 1px 2px rgba(60, 64, 67, 0.3), 0px 1px 3px 1px rgba(60, 64, 67, 0.15);\n",
              "      fill: #174EA6;\n",
              "    }\n",
              "\n",
              "    [theme=dark] .colab-df-convert {\n",
              "      background-color: #3B4455;\n",
              "      fill: #D2E3FC;\n",
              "    }\n",
              "\n",
              "    [theme=dark] .colab-df-convert:hover {\n",
              "      background-color: #434B5C;\n",
              "      box-shadow: 0px 1px 3px 1px rgba(0, 0, 0, 0.15);\n",
              "      filter: drop-shadow(0px 1px 2px rgba(0, 0, 0, 0.3));\n",
              "      fill: #FFFFFF;\n",
              "    }\n",
              "  </style>\n",
              "\n",
              "      <script>\n",
              "        const buttonEl =\n",
              "          document.querySelector('#df-72a641a9-63d4-4abc-adc6-b454f1b6e68f button.colab-df-convert');\n",
              "        buttonEl.style.display =\n",
              "          google.colab.kernel.accessAllowed ? 'block' : 'none';\n",
              "\n",
              "        async function convertToInteractive(key) {\n",
              "          const element = document.querySelector('#df-72a641a9-63d4-4abc-adc6-b454f1b6e68f');\n",
              "          const dataTable =\n",
              "            await google.colab.kernel.invokeFunction('convertToInteractive',\n",
              "                                                     [key], {});\n",
              "          if (!dataTable) return;\n",
              "\n",
              "          const docLinkHtml = 'Like what you see? Visit the ' +\n",
              "            '<a target=\"_blank\" href=https://colab.research.google.com/notebooks/data_table.ipynb>data table notebook</a>'\n",
              "            + ' to learn more about interactive tables.';\n",
              "          element.innerHTML = '';\n",
              "          dataTable['output_type'] = 'display_data';\n",
              "          await google.colab.output.renderOutput(dataTable, element);\n",
              "          const docLink = document.createElement('div');\n",
              "          docLink.innerHTML = docLinkHtml;\n",
              "          element.appendChild(docLink);\n",
              "        }\n",
              "      </script>\n",
              "    </div>\n",
              "  </div>\n",
              "  "
            ]
          },
          "metadata": {},
          "execution_count": 82
        }
      ],
      "source": [
        "le = LabelEncoder() #применение label_encoder для преобразования категориальных переменных,вариативность уникальных значений которых может достигать нескольких тысяч\n",
        "data['propertyType'] = le.fit_transform(data['propertyType'])\n",
        "data['street'] = le.fit_transform(data['street'])\n",
        "data['city'] = le.fit_transform(data['city'])\n",
        "data['state'] = le.fit_transform(data['state'])\n",
        "data.head()"
      ]
    },
    {
      "cell_type": "markdown",
      "metadata": {
        "id": "mEVwGFGl8xZQ"
      },
      "source": [
        "## Outliers_preprocessing"
      ]
    },
    {
      "cell_type": "markdown",
      "metadata": {
        "id": "03dRLaACFppl"
      },
      "source": [
        "### beds"
      ]
    },
    {
      "cell_type": "code",
      "execution_count": 83,
      "metadata": {
        "colab": {
          "base_uri": "https://localhost:8080/",
          "height": 505
        },
        "id": "MfBzuo1RFv01",
        "outputId": "31c4b7e6-597c-4ed4-aeef-684043921c04"
      },
      "outputs": [
        {
          "output_type": "execute_result",
          "data": {
            "text/plain": [
              "        propertyType  street     baths  city      sqft   zipcode      beds  \\\n",
              "214              149  298217  0.006000   915  0.000007  0.104835  0.041667   \n",
              "260              125  189086  0.010667  1284  0.000020  0.285473  0.097222   \n",
              "334              149  222062  0.009333   152  0.000020  0.062804  0.048611   \n",
              "411              149  247664  0.008000  1388  0.000020  0.100034  0.041667   \n",
              "951              125   76613  0.005333  1118  0.000020  0.100016  0.041667   \n",
              "...              ...     ...       ...   ...       ...       ...       ...   \n",
              "376729           149  176629  0.006667  1422  0.000020  0.293378  0.041667   \n",
              "376816           149  189919  0.009333  1589  0.000020  0.277891  0.041667   \n",
              "376865           125   90599  0.009333    40  0.000020  0.279988  0.076389   \n",
              "376884           149  152053  0.004667   967  0.000005  0.235471  0.041667   \n",
              "377016           149  139954  0.004000    23  0.000005  0.067290  0.041667   \n",
              "\n",
              "        state   stories  new_target  ...  status_option  status_pending  \\\n",
              "214         7  0.001786    504000.0  ...              0               0   \n",
              "260         3  0.001786   2100000.0  ...              0               0   \n",
              "334        15  0.002679   1995000.0  ...              0               0   \n",
              "411         7  0.001786   1990000.0  ...              0               0   \n",
              "951         7  0.001786    599000.0  ...              0               0   \n",
              "...       ...       ...         ...  ...            ...             ...   \n",
              "376729     27  0.003571   1599000.0  ...              0               0   \n",
              "376816      3  0.001786  18995000.0  ...              0               0   \n",
              "376865      3  0.001786   1750000.0  ...              0               0   \n",
              "376884     33  0.001786    182000.0  ...              0               0   \n",
              "377016     35  0.001786    799000.0  ...              0               0   \n",
              "\n",
              "        status_pending,  status_pf  status_price change  status_reactivated  \\\n",
              "214                   0          0                    0                   0   \n",
              "260                   0          0                    0                   0   \n",
              "334                   0          0                    0                   0   \n",
              "411                   0          0                    0                   0   \n",
              "951                   0          0                    0                   0   \n",
              "...                 ...        ...                  ...                 ...   \n",
              "376729                0          0                    0                   0   \n",
              "376816                0          0                    0                   0   \n",
              "376865                0          0                    0                   0   \n",
              "376884                0          0                    0                   0   \n",
              "377016                0          0                    0                   0   \n",
              "\n",
              "        status_temporary  status_under  fireplace_yes  PrivatePool_yes  \n",
              "214                    0             0              0                0  \n",
              "260                    0             0              0                0  \n",
              "334                    0             0              1                0  \n",
              "411                    0             0              0                1  \n",
              "951                    0             0              0                0  \n",
              "...                  ...           ...            ...              ...  \n",
              "376729                 0             0              0                0  \n",
              "376816                 0             0              1                0  \n",
              "376865                 0             0              0                0  \n",
              "376884                 0             0              1                0  \n",
              "377016                 0             0              0                0  \n",
              "\n",
              "[3412 rows x 38 columns]"
            ],
            "text/html": [
              "\n",
              "  <div id=\"df-83308453-1f6f-4c76-bb82-d271b665b6f6\">\n",
              "    <div class=\"colab-df-container\">\n",
              "      <div>\n",
              "<style scoped>\n",
              "    .dataframe tbody tr th:only-of-type {\n",
              "        vertical-align: middle;\n",
              "    }\n",
              "\n",
              "    .dataframe tbody tr th {\n",
              "        vertical-align: top;\n",
              "    }\n",
              "\n",
              "    .dataframe thead th {\n",
              "        text-align: right;\n",
              "    }\n",
              "</style>\n",
              "<table border=\"1\" class=\"dataframe\">\n",
              "  <thead>\n",
              "    <tr style=\"text-align: right;\">\n",
              "      <th></th>\n",
              "      <th>propertyType</th>\n",
              "      <th>street</th>\n",
              "      <th>baths</th>\n",
              "      <th>city</th>\n",
              "      <th>sqft</th>\n",
              "      <th>zipcode</th>\n",
              "      <th>beds</th>\n",
              "      <th>state</th>\n",
              "      <th>stories</th>\n",
              "      <th>new_target</th>\n",
              "      <th>...</th>\n",
              "      <th>status_option</th>\n",
              "      <th>status_pending</th>\n",
              "      <th>status_pending,</th>\n",
              "      <th>status_pf</th>\n",
              "      <th>status_price change</th>\n",
              "      <th>status_reactivated</th>\n",
              "      <th>status_temporary</th>\n",
              "      <th>status_under</th>\n",
              "      <th>fireplace_yes</th>\n",
              "      <th>PrivatePool_yes</th>\n",
              "    </tr>\n",
              "  </thead>\n",
              "  <tbody>\n",
              "    <tr>\n",
              "      <th>214</th>\n",
              "      <td>149</td>\n",
              "      <td>298217</td>\n",
              "      <td>0.006000</td>\n",
              "      <td>915</td>\n",
              "      <td>0.000007</td>\n",
              "      <td>0.104835</td>\n",
              "      <td>0.041667</td>\n",
              "      <td>7</td>\n",
              "      <td>0.001786</td>\n",
              "      <td>504000.0</td>\n",
              "      <td>...</td>\n",
              "      <td>0</td>\n",
              "      <td>0</td>\n",
              "      <td>0</td>\n",
              "      <td>0</td>\n",
              "      <td>0</td>\n",
              "      <td>0</td>\n",
              "      <td>0</td>\n",
              "      <td>0</td>\n",
              "      <td>0</td>\n",
              "      <td>0</td>\n",
              "    </tr>\n",
              "    <tr>\n",
              "      <th>260</th>\n",
              "      <td>125</td>\n",
              "      <td>189086</td>\n",
              "      <td>0.010667</td>\n",
              "      <td>1284</td>\n",
              "      <td>0.000020</td>\n",
              "      <td>0.285473</td>\n",
              "      <td>0.097222</td>\n",
              "      <td>3</td>\n",
              "      <td>0.001786</td>\n",
              "      <td>2100000.0</td>\n",
              "      <td>...</td>\n",
              "      <td>0</td>\n",
              "      <td>0</td>\n",
              "      <td>0</td>\n",
              "      <td>0</td>\n",
              "      <td>0</td>\n",
              "      <td>0</td>\n",
              "      <td>0</td>\n",
              "      <td>0</td>\n",
              "      <td>0</td>\n",
              "      <td>0</td>\n",
              "    </tr>\n",
              "    <tr>\n",
              "      <th>334</th>\n",
              "      <td>149</td>\n",
              "      <td>222062</td>\n",
              "      <td>0.009333</td>\n",
              "      <td>152</td>\n",
              "      <td>0.000020</td>\n",
              "      <td>0.062804</td>\n",
              "      <td>0.048611</td>\n",
              "      <td>15</td>\n",
              "      <td>0.002679</td>\n",
              "      <td>1995000.0</td>\n",
              "      <td>...</td>\n",
              "      <td>0</td>\n",
              "      <td>0</td>\n",
              "      <td>0</td>\n",
              "      <td>0</td>\n",
              "      <td>0</td>\n",
              "      <td>0</td>\n",
              "      <td>0</td>\n",
              "      <td>0</td>\n",
              "      <td>1</td>\n",
              "      <td>0</td>\n",
              "    </tr>\n",
              "    <tr>\n",
              "      <th>411</th>\n",
              "      <td>149</td>\n",
              "      <td>247664</td>\n",
              "      <td>0.008000</td>\n",
              "      <td>1388</td>\n",
              "      <td>0.000020</td>\n",
              "      <td>0.100034</td>\n",
              "      <td>0.041667</td>\n",
              "      <td>7</td>\n",
              "      <td>0.001786</td>\n",
              "      <td>1990000.0</td>\n",
              "      <td>...</td>\n",
              "      <td>0</td>\n",
              "      <td>0</td>\n",
              "      <td>0</td>\n",
              "      <td>0</td>\n",
              "      <td>0</td>\n",
              "      <td>0</td>\n",
              "      <td>0</td>\n",
              "      <td>0</td>\n",
              "      <td>0</td>\n",
              "      <td>1</td>\n",
              "    </tr>\n",
              "    <tr>\n",
              "      <th>951</th>\n",
              "      <td>125</td>\n",
              "      <td>76613</td>\n",
              "      <td>0.005333</td>\n",
              "      <td>1118</td>\n",
              "      <td>0.000020</td>\n",
              "      <td>0.100016</td>\n",
              "      <td>0.041667</td>\n",
              "      <td>7</td>\n",
              "      <td>0.001786</td>\n",
              "      <td>599000.0</td>\n",
              "      <td>...</td>\n",
              "      <td>0</td>\n",
              "      <td>0</td>\n",
              "      <td>0</td>\n",
              "      <td>0</td>\n",
              "      <td>0</td>\n",
              "      <td>0</td>\n",
              "      <td>0</td>\n",
              "      <td>0</td>\n",
              "      <td>0</td>\n",
              "      <td>0</td>\n",
              "    </tr>\n",
              "    <tr>\n",
              "      <th>...</th>\n",
              "      <td>...</td>\n",
              "      <td>...</td>\n",
              "      <td>...</td>\n",
              "      <td>...</td>\n",
              "      <td>...</td>\n",
              "      <td>...</td>\n",
              "      <td>...</td>\n",
              "      <td>...</td>\n",
              "      <td>...</td>\n",
              "      <td>...</td>\n",
              "      <td>...</td>\n",
              "      <td>...</td>\n",
              "      <td>...</td>\n",
              "      <td>...</td>\n",
              "      <td>...</td>\n",
              "      <td>...</td>\n",
              "      <td>...</td>\n",
              "      <td>...</td>\n",
              "      <td>...</td>\n",
              "      <td>...</td>\n",
              "      <td>...</td>\n",
              "    </tr>\n",
              "    <tr>\n",
              "      <th>376729</th>\n",
              "      <td>149</td>\n",
              "      <td>176629</td>\n",
              "      <td>0.006667</td>\n",
              "      <td>1422</td>\n",
              "      <td>0.000020</td>\n",
              "      <td>0.293378</td>\n",
              "      <td>0.041667</td>\n",
              "      <td>27</td>\n",
              "      <td>0.003571</td>\n",
              "      <td>1599000.0</td>\n",
              "      <td>...</td>\n",
              "      <td>0</td>\n",
              "      <td>0</td>\n",
              "      <td>0</td>\n",
              "      <td>0</td>\n",
              "      <td>0</td>\n",
              "      <td>0</td>\n",
              "      <td>0</td>\n",
              "      <td>0</td>\n",
              "      <td>0</td>\n",
              "      <td>0</td>\n",
              "    </tr>\n",
              "    <tr>\n",
              "      <th>376816</th>\n",
              "      <td>149</td>\n",
              "      <td>189919</td>\n",
              "      <td>0.009333</td>\n",
              "      <td>1589</td>\n",
              "      <td>0.000020</td>\n",
              "      <td>0.277891</td>\n",
              "      <td>0.041667</td>\n",
              "      <td>3</td>\n",
              "      <td>0.001786</td>\n",
              "      <td>18995000.0</td>\n",
              "      <td>...</td>\n",
              "      <td>0</td>\n",
              "      <td>0</td>\n",
              "      <td>0</td>\n",
              "      <td>0</td>\n",
              "      <td>0</td>\n",
              "      <td>0</td>\n",
              "      <td>0</td>\n",
              "      <td>0</td>\n",
              "      <td>1</td>\n",
              "      <td>0</td>\n",
              "    </tr>\n",
              "    <tr>\n",
              "      <th>376865</th>\n",
              "      <td>125</td>\n",
              "      <td>90599</td>\n",
              "      <td>0.009333</td>\n",
              "      <td>40</td>\n",
              "      <td>0.000020</td>\n",
              "      <td>0.279988</td>\n",
              "      <td>0.076389</td>\n",
              "      <td>3</td>\n",
              "      <td>0.001786</td>\n",
              "      <td>1750000.0</td>\n",
              "      <td>...</td>\n",
              "      <td>0</td>\n",
              "      <td>0</td>\n",
              "      <td>0</td>\n",
              "      <td>0</td>\n",
              "      <td>0</td>\n",
              "      <td>0</td>\n",
              "      <td>0</td>\n",
              "      <td>0</td>\n",
              "      <td>0</td>\n",
              "      <td>0</td>\n",
              "    </tr>\n",
              "    <tr>\n",
              "      <th>376884</th>\n",
              "      <td>149</td>\n",
              "      <td>152053</td>\n",
              "      <td>0.004667</td>\n",
              "      <td>967</td>\n",
              "      <td>0.000005</td>\n",
              "      <td>0.235471</td>\n",
              "      <td>0.041667</td>\n",
              "      <td>33</td>\n",
              "      <td>0.001786</td>\n",
              "      <td>182000.0</td>\n",
              "      <td>...</td>\n",
              "      <td>0</td>\n",
              "      <td>0</td>\n",
              "      <td>0</td>\n",
              "      <td>0</td>\n",
              "      <td>0</td>\n",
              "      <td>0</td>\n",
              "      <td>0</td>\n",
              "      <td>0</td>\n",
              "      <td>1</td>\n",
              "      <td>0</td>\n",
              "    </tr>\n",
              "    <tr>\n",
              "      <th>377016</th>\n",
              "      <td>149</td>\n",
              "      <td>139954</td>\n",
              "      <td>0.004000</td>\n",
              "      <td>23</td>\n",
              "      <td>0.000005</td>\n",
              "      <td>0.067290</td>\n",
              "      <td>0.041667</td>\n",
              "      <td>35</td>\n",
              "      <td>0.001786</td>\n",
              "      <td>799000.0</td>\n",
              "      <td>...</td>\n",
              "      <td>0</td>\n",
              "      <td>0</td>\n",
              "      <td>0</td>\n",
              "      <td>0</td>\n",
              "      <td>0</td>\n",
              "      <td>0</td>\n",
              "      <td>0</td>\n",
              "      <td>0</td>\n",
              "      <td>0</td>\n",
              "      <td>0</td>\n",
              "    </tr>\n",
              "  </tbody>\n",
              "</table>\n",
              "<p>3412 rows × 38 columns</p>\n",
              "</div>\n",
              "      <button class=\"colab-df-convert\" onclick=\"convertToInteractive('df-83308453-1f6f-4c76-bb82-d271b665b6f6')\"\n",
              "              title=\"Convert this dataframe to an interactive table.\"\n",
              "              style=\"display:none;\">\n",
              "        \n",
              "  <svg xmlns=\"http://www.w3.org/2000/svg\" height=\"24px\"viewBox=\"0 0 24 24\"\n",
              "       width=\"24px\">\n",
              "    <path d=\"M0 0h24v24H0V0z\" fill=\"none\"/>\n",
              "    <path d=\"M18.56 5.44l.94 2.06.94-2.06 2.06-.94-2.06-.94-.94-2.06-.94 2.06-2.06.94zm-11 1L8.5 8.5l.94-2.06 2.06-.94-2.06-.94L8.5 2.5l-.94 2.06-2.06.94zm10 10l.94 2.06.94-2.06 2.06-.94-2.06-.94-.94-2.06-.94 2.06-2.06.94z\"/><path d=\"M17.41 7.96l-1.37-1.37c-.4-.4-.92-.59-1.43-.59-.52 0-1.04.2-1.43.59L10.3 9.45l-7.72 7.72c-.78.78-.78 2.05 0 2.83L4 21.41c.39.39.9.59 1.41.59.51 0 1.02-.2 1.41-.59l7.78-7.78 2.81-2.81c.8-.78.8-2.07 0-2.86zM5.41 20L4 18.59l7.72-7.72 1.47 1.35L5.41 20z\"/>\n",
              "  </svg>\n",
              "      </button>\n",
              "      \n",
              "  <style>\n",
              "    .colab-df-container {\n",
              "      display:flex;\n",
              "      flex-wrap:wrap;\n",
              "      gap: 12px;\n",
              "    }\n",
              "\n",
              "    .colab-df-convert {\n",
              "      background-color: #E8F0FE;\n",
              "      border: none;\n",
              "      border-radius: 50%;\n",
              "      cursor: pointer;\n",
              "      display: none;\n",
              "      fill: #1967D2;\n",
              "      height: 32px;\n",
              "      padding: 0 0 0 0;\n",
              "      width: 32px;\n",
              "    }\n",
              "\n",
              "    .colab-df-convert:hover {\n",
              "      background-color: #E2EBFA;\n",
              "      box-shadow: 0px 1px 2px rgba(60, 64, 67, 0.3), 0px 1px 3px 1px rgba(60, 64, 67, 0.15);\n",
              "      fill: #174EA6;\n",
              "    }\n",
              "\n",
              "    [theme=dark] .colab-df-convert {\n",
              "      background-color: #3B4455;\n",
              "      fill: #D2E3FC;\n",
              "    }\n",
              "\n",
              "    [theme=dark] .colab-df-convert:hover {\n",
              "      background-color: #434B5C;\n",
              "      box-shadow: 0px 1px 3px 1px rgba(0, 0, 0, 0.15);\n",
              "      filter: drop-shadow(0px 1px 2px rgba(0, 0, 0, 0.3));\n",
              "      fill: #FFFFFF;\n",
              "    }\n",
              "  </style>\n",
              "\n",
              "      <script>\n",
              "        const buttonEl =\n",
              "          document.querySelector('#df-83308453-1f6f-4c76-bb82-d271b665b6f6 button.colab-df-convert');\n",
              "        buttonEl.style.display =\n",
              "          google.colab.kernel.accessAllowed ? 'block' : 'none';\n",
              "\n",
              "        async function convertToInteractive(key) {\n",
              "          const element = document.querySelector('#df-83308453-1f6f-4c76-bb82-d271b665b6f6');\n",
              "          const dataTable =\n",
              "            await google.colab.kernel.invokeFunction('convertToInteractive',\n",
              "                                                     [key], {});\n",
              "          if (!dataTable) return;\n",
              "\n",
              "          const docLinkHtml = 'Like what you see? Visit the ' +\n",
              "            '<a target=\"_blank\" href=https://colab.research.google.com/notebooks/data_table.ipynb>data table notebook</a>'\n",
              "            + ' to learn more about interactive tables.';\n",
              "          element.innerHTML = '';\n",
              "          dataTable['output_type'] = 'display_data';\n",
              "          await google.colab.output.renderOutput(dataTable, element);\n",
              "          const docLink = document.createElement('div');\n",
              "          docLink.innerHTML = docLinkHtml;\n",
              "          element.appendChild(docLink);\n",
              "        }\n",
              "      </script>\n",
              "    </div>\n",
              "  </div>\n",
              "  "
            ]
          },
          "metadata": {},
          "execution_count": 83
        }
      ],
      "source": [
        "lower_bound = data.beds.quantile(q=0.01)\n",
        "upper_bound = data.beds.quantile(q=0.99)\n",
        "data[(data.beds < lower_bound) | (data.beds > upper_bound)]"
      ]
    },
    {
      "cell_type": "code",
      "execution_count": 84,
      "metadata": {
        "id": "gHaGje8CgZbo"
      },
      "outputs": [],
      "source": [
        "data.replace(to_replace=data[(data.beds < lower_bound) | (data.beds > upper_bound)].beds, value=data.beds.mean(), inplace=True)"
      ]
    },
    {
      "cell_type": "code",
      "execution_count": 85,
      "metadata": {
        "colab": {
          "base_uri": "https://localhost:8080/"
        },
        "id": "Lzxb2rYsbv-x",
        "outputId": "2fbf12e5-a971-4343-d428-2245f838bed0"
      },
      "outputs": [
        {
          "output_type": "execute_result",
          "data": {
            "text/plain": [
              "214       0.041667\n",
              "260       0.097222\n",
              "334       0.048611\n",
              "411       0.041667\n",
              "951       0.041667\n",
              "            ...   \n",
              "376729    0.041667\n",
              "376816    0.041667\n",
              "376865    0.076389\n",
              "376884    0.041667\n",
              "377016    0.041667\n",
              "Name: beds, Length: 3412, dtype: float64"
            ]
          },
          "metadata": {},
          "execution_count": 85
        }
      ],
      "source": [
        "data[(data.beds < lower_bound) | (data.beds > upper_bound)].beds"
      ]
    },
    {
      "cell_type": "markdown",
      "metadata": {
        "id": "miTjvvr5FwUR"
      },
      "source": [
        "### stories"
      ]
    },
    {
      "cell_type": "code",
      "execution_count": 86,
      "metadata": {
        "colab": {
          "base_uri": "https://localhost:8080/",
          "height": 505
        },
        "id": "blv7tTjsFzTK",
        "outputId": "d1cb0d52-af41-460d-9685-eca6790428e6"
      },
      "outputs": [
        {
          "output_type": "execute_result",
          "data": {
            "text/plain": [
              "        propertyType  street     baths  city      sqft   zipcode      beds  \\\n",
              "67                40  101124  0.005600   320  0.000020  0.182868  0.020833   \n",
              "123               40  161824  0.005600   969  0.000020  0.268849  0.020833   \n",
              "170               40  187759  0.005600   609  0.000020  0.100493  0.020833   \n",
              "202               49  170416  0.005600  1226  0.000020  0.030264  0.020833   \n",
              "402               40  298042  0.005600  1369  0.000020  0.099642  0.020833   \n",
              "...              ...     ...       ...   ...       ...       ...       ...   \n",
              "376880            49  229424  0.005600   210  0.000020  0.031583  0.020833   \n",
              "377023            40   64340  0.005600   215  0.000020  0.033870  0.020833   \n",
              "377090            40  207286  0.005600   796  0.000020  0.099627  0.020833   \n",
              "377102            40  166564  0.001333   609  0.000002  0.100493  0.006944   \n",
              "377181            40  173271  0.005600   320  0.000020  0.183007  0.020833   \n",
              "\n",
              "        state   stories  new_target  ...  status_option  status_pending  \\\n",
              "67         11  0.008036    749000.0  ...              0               0   \n",
              "123        23  0.008036    519900.0  ...              0               0   \n",
              "170         7  0.008036    279900.0  ...              0               0   \n",
              "202        24  0.012500    455000.0  ...              0               0   \n",
              "402         7  0.004464    150000.0  ...              0               0   \n",
              "...       ...       ...         ...  ...            ...             ...   \n",
              "376880     24  0.005357    229000.0  ...              0               0   \n",
              "377023     24  0.007143    750000.0  ...              0               0   \n",
              "377090      7  0.004464    125000.0  ...              0               0   \n",
              "377102      7  0.008036    149999.0  ...              0               0   \n",
              "377181     11  0.008036    674999.0  ...              0               0   \n",
              "\n",
              "        status_pending,  status_pf  status_price change  status_reactivated  \\\n",
              "67                    0          0                    0                   0   \n",
              "123                   0          0                    0                   0   \n",
              "170                   0          0                    0                   0   \n",
              "202                   0          0                    0                   0   \n",
              "402                   0          0                    0                   0   \n",
              "...                 ...        ...                  ...                 ...   \n",
              "376880                0          0                    0                   0   \n",
              "377023                0          0                    0                   0   \n",
              "377090                0          0                    0                   0   \n",
              "377102                0          0                    0                   0   \n",
              "377181                0          0                    0                   0   \n",
              "\n",
              "        status_temporary  status_under  fireplace_yes  PrivatePool_yes  \n",
              "67                     0             0              0                1  \n",
              "123                    0             0              0                1  \n",
              "170                    0             0              0                0  \n",
              "202                    0             0              0                0  \n",
              "402                    0             0              0                0  \n",
              "...                  ...           ...            ...              ...  \n",
              "376880                 0             0              0                0  \n",
              "377023                 0             0              0                0  \n",
              "377090                 0             0              0                0  \n",
              "377102                 0             0              0                1  \n",
              "377181                 0             0              0                0  \n",
              "\n",
              "[7834 rows x 38 columns]"
            ],
            "text/html": [
              "\n",
              "  <div id=\"df-ebbd703c-2acb-4e66-b3b0-89dea01fec24\">\n",
              "    <div class=\"colab-df-container\">\n",
              "      <div>\n",
              "<style scoped>\n",
              "    .dataframe tbody tr th:only-of-type {\n",
              "        vertical-align: middle;\n",
              "    }\n",
              "\n",
              "    .dataframe tbody tr th {\n",
              "        vertical-align: top;\n",
              "    }\n",
              "\n",
              "    .dataframe thead th {\n",
              "        text-align: right;\n",
              "    }\n",
              "</style>\n",
              "<table border=\"1\" class=\"dataframe\">\n",
              "  <thead>\n",
              "    <tr style=\"text-align: right;\">\n",
              "      <th></th>\n",
              "      <th>propertyType</th>\n",
              "      <th>street</th>\n",
              "      <th>baths</th>\n",
              "      <th>city</th>\n",
              "      <th>sqft</th>\n",
              "      <th>zipcode</th>\n",
              "      <th>beds</th>\n",
              "      <th>state</th>\n",
              "      <th>stories</th>\n",
              "      <th>new_target</th>\n",
              "      <th>...</th>\n",
              "      <th>status_option</th>\n",
              "      <th>status_pending</th>\n",
              "      <th>status_pending,</th>\n",
              "      <th>status_pf</th>\n",
              "      <th>status_price change</th>\n",
              "      <th>status_reactivated</th>\n",
              "      <th>status_temporary</th>\n",
              "      <th>status_under</th>\n",
              "      <th>fireplace_yes</th>\n",
              "      <th>PrivatePool_yes</th>\n",
              "    </tr>\n",
              "  </thead>\n",
              "  <tbody>\n",
              "    <tr>\n",
              "      <th>67</th>\n",
              "      <td>40</td>\n",
              "      <td>101124</td>\n",
              "      <td>0.005600</td>\n",
              "      <td>320</td>\n",
              "      <td>0.000020</td>\n",
              "      <td>0.182868</td>\n",
              "      <td>0.020833</td>\n",
              "      <td>11</td>\n",
              "      <td>0.008036</td>\n",
              "      <td>749000.0</td>\n",
              "      <td>...</td>\n",
              "      <td>0</td>\n",
              "      <td>0</td>\n",
              "      <td>0</td>\n",
              "      <td>0</td>\n",
              "      <td>0</td>\n",
              "      <td>0</td>\n",
              "      <td>0</td>\n",
              "      <td>0</td>\n",
              "      <td>0</td>\n",
              "      <td>1</td>\n",
              "    </tr>\n",
              "    <tr>\n",
              "      <th>123</th>\n",
              "      <td>40</td>\n",
              "      <td>161824</td>\n",
              "      <td>0.005600</td>\n",
              "      <td>969</td>\n",
              "      <td>0.000020</td>\n",
              "      <td>0.268849</td>\n",
              "      <td>0.020833</td>\n",
              "      <td>23</td>\n",
              "      <td>0.008036</td>\n",
              "      <td>519900.0</td>\n",
              "      <td>...</td>\n",
              "      <td>0</td>\n",
              "      <td>0</td>\n",
              "      <td>0</td>\n",
              "      <td>0</td>\n",
              "      <td>0</td>\n",
              "      <td>0</td>\n",
              "      <td>0</td>\n",
              "      <td>0</td>\n",
              "      <td>0</td>\n",
              "      <td>1</td>\n",
              "    </tr>\n",
              "    <tr>\n",
              "      <th>170</th>\n",
              "      <td>40</td>\n",
              "      <td>187759</td>\n",
              "      <td>0.005600</td>\n",
              "      <td>609</td>\n",
              "      <td>0.000020</td>\n",
              "      <td>0.100493</td>\n",
              "      <td>0.020833</td>\n",
              "      <td>7</td>\n",
              "      <td>0.008036</td>\n",
              "      <td>279900.0</td>\n",
              "      <td>...</td>\n",
              "      <td>0</td>\n",
              "      <td>0</td>\n",
              "      <td>0</td>\n",
              "      <td>0</td>\n",
              "      <td>0</td>\n",
              "      <td>0</td>\n",
              "      <td>0</td>\n",
              "      <td>0</td>\n",
              "      <td>0</td>\n",
              "      <td>0</td>\n",
              "    </tr>\n",
              "    <tr>\n",
              "      <th>202</th>\n",
              "      <td>49</td>\n",
              "      <td>170416</td>\n",
              "      <td>0.005600</td>\n",
              "      <td>1226</td>\n",
              "      <td>0.000020</td>\n",
              "      <td>0.030264</td>\n",
              "      <td>0.020833</td>\n",
              "      <td>24</td>\n",
              "      <td>0.012500</td>\n",
              "      <td>455000.0</td>\n",
              "      <td>...</td>\n",
              "      <td>0</td>\n",
              "      <td>0</td>\n",
              "      <td>0</td>\n",
              "      <td>0</td>\n",
              "      <td>0</td>\n",
              "      <td>0</td>\n",
              "      <td>0</td>\n",
              "      <td>0</td>\n",
              "      <td>0</td>\n",
              "      <td>0</td>\n",
              "    </tr>\n",
              "    <tr>\n",
              "      <th>402</th>\n",
              "      <td>40</td>\n",
              "      <td>298042</td>\n",
              "      <td>0.005600</td>\n",
              "      <td>1369</td>\n",
              "      <td>0.000020</td>\n",
              "      <td>0.099642</td>\n",
              "      <td>0.020833</td>\n",
              "      <td>7</td>\n",
              "      <td>0.004464</td>\n",
              "      <td>150000.0</td>\n",
              "      <td>...</td>\n",
              "      <td>0</td>\n",
              "      <td>0</td>\n",
              "      <td>0</td>\n",
              "      <td>0</td>\n",
              "      <td>0</td>\n",
              "      <td>0</td>\n",
              "      <td>0</td>\n",
              "      <td>0</td>\n",
              "      <td>0</td>\n",
              "      <td>0</td>\n",
              "    </tr>\n",
              "    <tr>\n",
              "      <th>...</th>\n",
              "      <td>...</td>\n",
              "      <td>...</td>\n",
              "      <td>...</td>\n",
              "      <td>...</td>\n",
              "      <td>...</td>\n",
              "      <td>...</td>\n",
              "      <td>...</td>\n",
              "      <td>...</td>\n",
              "      <td>...</td>\n",
              "      <td>...</td>\n",
              "      <td>...</td>\n",
              "      <td>...</td>\n",
              "      <td>...</td>\n",
              "      <td>...</td>\n",
              "      <td>...</td>\n",
              "      <td>...</td>\n",
              "      <td>...</td>\n",
              "      <td>...</td>\n",
              "      <td>...</td>\n",
              "      <td>...</td>\n",
              "      <td>...</td>\n",
              "    </tr>\n",
              "    <tr>\n",
              "      <th>376880</th>\n",
              "      <td>49</td>\n",
              "      <td>229424</td>\n",
              "      <td>0.005600</td>\n",
              "      <td>210</td>\n",
              "      <td>0.000020</td>\n",
              "      <td>0.031583</td>\n",
              "      <td>0.020833</td>\n",
              "      <td>24</td>\n",
              "      <td>0.005357</td>\n",
              "      <td>229000.0</td>\n",
              "      <td>...</td>\n",
              "      <td>0</td>\n",
              "      <td>0</td>\n",
              "      <td>0</td>\n",
              "      <td>0</td>\n",
              "      <td>0</td>\n",
              "      <td>0</td>\n",
              "      <td>0</td>\n",
              "      <td>0</td>\n",
              "      <td>0</td>\n",
              "      <td>0</td>\n",
              "    </tr>\n",
              "    <tr>\n",
              "      <th>377023</th>\n",
              "      <td>40</td>\n",
              "      <td>64340</td>\n",
              "      <td>0.005600</td>\n",
              "      <td>215</td>\n",
              "      <td>0.000020</td>\n",
              "      <td>0.033870</td>\n",
              "      <td>0.020833</td>\n",
              "      <td>24</td>\n",
              "      <td>0.007143</td>\n",
              "      <td>750000.0</td>\n",
              "      <td>...</td>\n",
              "      <td>0</td>\n",
              "      <td>0</td>\n",
              "      <td>0</td>\n",
              "      <td>0</td>\n",
              "      <td>0</td>\n",
              "      <td>0</td>\n",
              "      <td>0</td>\n",
              "      <td>0</td>\n",
              "      <td>0</td>\n",
              "      <td>0</td>\n",
              "    </tr>\n",
              "    <tr>\n",
              "      <th>377090</th>\n",
              "      <td>40</td>\n",
              "      <td>207286</td>\n",
              "      <td>0.005600</td>\n",
              "      <td>796</td>\n",
              "      <td>0.000020</td>\n",
              "      <td>0.099627</td>\n",
              "      <td>0.020833</td>\n",
              "      <td>7</td>\n",
              "      <td>0.004464</td>\n",
              "      <td>125000.0</td>\n",
              "      <td>...</td>\n",
              "      <td>0</td>\n",
              "      <td>0</td>\n",
              "      <td>0</td>\n",
              "      <td>0</td>\n",
              "      <td>0</td>\n",
              "      <td>0</td>\n",
              "      <td>0</td>\n",
              "      <td>0</td>\n",
              "      <td>0</td>\n",
              "      <td>0</td>\n",
              "    </tr>\n",
              "    <tr>\n",
              "      <th>377102</th>\n",
              "      <td>40</td>\n",
              "      <td>166564</td>\n",
              "      <td>0.001333</td>\n",
              "      <td>609</td>\n",
              "      <td>0.000002</td>\n",
              "      <td>0.100493</td>\n",
              "      <td>0.006944</td>\n",
              "      <td>7</td>\n",
              "      <td>0.008036</td>\n",
              "      <td>149999.0</td>\n",
              "      <td>...</td>\n",
              "      <td>0</td>\n",
              "      <td>0</td>\n",
              "      <td>0</td>\n",
              "      <td>0</td>\n",
              "      <td>0</td>\n",
              "      <td>0</td>\n",
              "      <td>0</td>\n",
              "      <td>0</td>\n",
              "      <td>0</td>\n",
              "      <td>1</td>\n",
              "    </tr>\n",
              "    <tr>\n",
              "      <th>377181</th>\n",
              "      <td>40</td>\n",
              "      <td>173271</td>\n",
              "      <td>0.005600</td>\n",
              "      <td>320</td>\n",
              "      <td>0.000020</td>\n",
              "      <td>0.183007</td>\n",
              "      <td>0.020833</td>\n",
              "      <td>11</td>\n",
              "      <td>0.008036</td>\n",
              "      <td>674999.0</td>\n",
              "      <td>...</td>\n",
              "      <td>0</td>\n",
              "      <td>0</td>\n",
              "      <td>0</td>\n",
              "      <td>0</td>\n",
              "      <td>0</td>\n",
              "      <td>0</td>\n",
              "      <td>0</td>\n",
              "      <td>0</td>\n",
              "      <td>0</td>\n",
              "      <td>0</td>\n",
              "    </tr>\n",
              "  </tbody>\n",
              "</table>\n",
              "<p>7834 rows × 38 columns</p>\n",
              "</div>\n",
              "      <button class=\"colab-df-convert\" onclick=\"convertToInteractive('df-ebbd703c-2acb-4e66-b3b0-89dea01fec24')\"\n",
              "              title=\"Convert this dataframe to an interactive table.\"\n",
              "              style=\"display:none;\">\n",
              "        \n",
              "  <svg xmlns=\"http://www.w3.org/2000/svg\" height=\"24px\"viewBox=\"0 0 24 24\"\n",
              "       width=\"24px\">\n",
              "    <path d=\"M0 0h24v24H0V0z\" fill=\"none\"/>\n",
              "    <path d=\"M18.56 5.44l.94 2.06.94-2.06 2.06-.94-2.06-.94-.94-2.06-.94 2.06-2.06.94zm-11 1L8.5 8.5l.94-2.06 2.06-.94-2.06-.94L8.5 2.5l-.94 2.06-2.06.94zm10 10l.94 2.06.94-2.06 2.06-.94-2.06-.94-.94-2.06-.94 2.06-2.06.94z\"/><path d=\"M17.41 7.96l-1.37-1.37c-.4-.4-.92-.59-1.43-.59-.52 0-1.04.2-1.43.59L10.3 9.45l-7.72 7.72c-.78.78-.78 2.05 0 2.83L4 21.41c.39.39.9.59 1.41.59.51 0 1.02-.2 1.41-.59l7.78-7.78 2.81-2.81c.8-.78.8-2.07 0-2.86zM5.41 20L4 18.59l7.72-7.72 1.47 1.35L5.41 20z\"/>\n",
              "  </svg>\n",
              "      </button>\n",
              "      \n",
              "  <style>\n",
              "    .colab-df-container {\n",
              "      display:flex;\n",
              "      flex-wrap:wrap;\n",
              "      gap: 12px;\n",
              "    }\n",
              "\n",
              "    .colab-df-convert {\n",
              "      background-color: #E8F0FE;\n",
              "      border: none;\n",
              "      border-radius: 50%;\n",
              "      cursor: pointer;\n",
              "      display: none;\n",
              "      fill: #1967D2;\n",
              "      height: 32px;\n",
              "      padding: 0 0 0 0;\n",
              "      width: 32px;\n",
              "    }\n",
              "\n",
              "    .colab-df-convert:hover {\n",
              "      background-color: #E2EBFA;\n",
              "      box-shadow: 0px 1px 2px rgba(60, 64, 67, 0.3), 0px 1px 3px 1px rgba(60, 64, 67, 0.15);\n",
              "      fill: #174EA6;\n",
              "    }\n",
              "\n",
              "    [theme=dark] .colab-df-convert {\n",
              "      background-color: #3B4455;\n",
              "      fill: #D2E3FC;\n",
              "    }\n",
              "\n",
              "    [theme=dark] .colab-df-convert:hover {\n",
              "      background-color: #434B5C;\n",
              "      box-shadow: 0px 1px 3px 1px rgba(0, 0, 0, 0.15);\n",
              "      filter: drop-shadow(0px 1px 2px rgba(0, 0, 0, 0.3));\n",
              "      fill: #FFFFFF;\n",
              "    }\n",
              "  </style>\n",
              "\n",
              "      <script>\n",
              "        const buttonEl =\n",
              "          document.querySelector('#df-ebbd703c-2acb-4e66-b3b0-89dea01fec24 button.colab-df-convert');\n",
              "        buttonEl.style.display =\n",
              "          google.colab.kernel.accessAllowed ? 'block' : 'none';\n",
              "\n",
              "        async function convertToInteractive(key) {\n",
              "          const element = document.querySelector('#df-ebbd703c-2acb-4e66-b3b0-89dea01fec24');\n",
              "          const dataTable =\n",
              "            await google.colab.kernel.invokeFunction('convertToInteractive',\n",
              "                                                     [key], {});\n",
              "          if (!dataTable) return;\n",
              "\n",
              "          const docLinkHtml = 'Like what you see? Visit the ' +\n",
              "            '<a target=\"_blank\" href=https://colab.research.google.com/notebooks/data_table.ipynb>data table notebook</a>'\n",
              "            + ' to learn more about interactive tables.';\n",
              "          element.innerHTML = '';\n",
              "          dataTable['output_type'] = 'display_data';\n",
              "          await google.colab.output.renderOutput(dataTable, element);\n",
              "          const docLink = document.createElement('div');\n",
              "          docLink.innerHTML = docLinkHtml;\n",
              "          element.appendChild(docLink);\n",
              "        }\n",
              "      </script>\n",
              "    </div>\n",
              "  </div>\n",
              "  "
            ]
          },
          "metadata": {},
          "execution_count": 86
        }
      ],
      "source": [
        "lower_bound = data.stories.quantile(q=0.025)\n",
        "upper_bound = data.stories.quantile(q=0.975)\n",
        "data[(data.stories < lower_bound) | (data.stories > upper_bound)]"
      ]
    },
    {
      "cell_type": "code",
      "execution_count": 87,
      "metadata": {
        "colab": {
          "base_uri": "https://localhost:8080/"
        },
        "id": "DfSU8WDnNvBT",
        "outputId": "f4e154bc-9525-4ad3-e187-066235f10ed8"
      },
      "outputs": [
        {
          "output_type": "execute_result",
          "data": {
            "text/plain": [
              "67        0.001756\n",
              "123       0.001756\n",
              "170       0.001756\n",
              "202       0.001756\n",
              "402       0.001756\n",
              "            ...   \n",
              "376880    0.001756\n",
              "377023    0.001756\n",
              "377090    0.001756\n",
              "377102    0.001756\n",
              "377181    0.001756\n",
              "Name: stories, Length: 7834, dtype: float64"
            ]
          },
          "metadata": {},
          "execution_count": 87
        }
      ],
      "source": [
        "data[(data.stories < lower_bound) | (data.stories > upper_bound)].stories.apply(lambda x:data.stories.mean())"
      ]
    },
    {
      "cell_type": "code",
      "execution_count": 88,
      "metadata": {
        "colab": {
          "base_uri": "https://localhost:8080/",
          "height": 505
        },
        "id": "2rc1XsXadzme",
        "outputId": "9b2be216-79ce-4646-840c-3ce95fb34937"
      },
      "outputs": [
        {
          "output_type": "execute_result",
          "data": {
            "text/plain": [
              "        propertyType  street     baths  city      sqft   zipcode      beds  \\\n",
              "67                40  101124  0.005600   320  0.000020  0.182868  0.020833   \n",
              "123               40  161824  0.005600   969  0.000020  0.268849  0.020833   \n",
              "170               40  187759  0.005600   609  0.000020  0.100493  0.020833   \n",
              "202               49  170416  0.005600  1226  0.000020  0.030264  0.020833   \n",
              "402               40  298042  0.005600  1369  0.000020  0.099642  0.020833   \n",
              "...              ...     ...       ...   ...       ...       ...       ...   \n",
              "376880            49  229424  0.005600   210  0.000020  0.031583  0.020833   \n",
              "377023            40   64340  0.005600   215  0.000020  0.033870  0.020833   \n",
              "377090            40  207286  0.005600   796  0.000020  0.099627  0.020833   \n",
              "377102            40  166564  0.001333   609  0.000002  0.100493  0.006944   \n",
              "377181            40  173271  0.005600   320  0.000020  0.183007  0.020833   \n",
              "\n",
              "        state   stories  new_target  ...  status_option  status_pending  \\\n",
              "67         11  0.008036    749000.0  ...              0               0   \n",
              "123        23  0.008036    519900.0  ...              0               0   \n",
              "170         7  0.008036    279900.0  ...              0               0   \n",
              "202        24  0.012500    455000.0  ...              0               0   \n",
              "402         7  0.004464    150000.0  ...              0               0   \n",
              "...       ...       ...         ...  ...            ...             ...   \n",
              "376880     24  0.005357    229000.0  ...              0               0   \n",
              "377023     24  0.007143    750000.0  ...              0               0   \n",
              "377090      7  0.004464    125000.0  ...              0               0   \n",
              "377102      7  0.008036    149999.0  ...              0               0   \n",
              "377181     11  0.008036    674999.0  ...              0               0   \n",
              "\n",
              "        status_pending,  status_pf  status_price change  status_reactivated  \\\n",
              "67                    0          0                    0                   0   \n",
              "123                   0          0                    0                   0   \n",
              "170                   0          0                    0                   0   \n",
              "202                   0          0                    0                   0   \n",
              "402                   0          0                    0                   0   \n",
              "...                 ...        ...                  ...                 ...   \n",
              "376880                0          0                    0                   0   \n",
              "377023                0          0                    0                   0   \n",
              "377090                0          0                    0                   0   \n",
              "377102                0          0                    0                   0   \n",
              "377181                0          0                    0                   0   \n",
              "\n",
              "        status_temporary  status_under  fireplace_yes  PrivatePool_yes  \n",
              "67                     0             0              0                1  \n",
              "123                    0             0              0                1  \n",
              "170                    0             0              0                0  \n",
              "202                    0             0              0                0  \n",
              "402                    0             0              0                0  \n",
              "...                  ...           ...            ...              ...  \n",
              "376880                 0             0              0                0  \n",
              "377023                 0             0              0                0  \n",
              "377090                 0             0              0                0  \n",
              "377102                 0             0              0                1  \n",
              "377181                 0             0              0                0  \n",
              "\n",
              "[7834 rows x 38 columns]"
            ],
            "text/html": [
              "\n",
              "  <div id=\"df-99d3184c-bd7a-4939-971c-91c005d69bec\">\n",
              "    <div class=\"colab-df-container\">\n",
              "      <div>\n",
              "<style scoped>\n",
              "    .dataframe tbody tr th:only-of-type {\n",
              "        vertical-align: middle;\n",
              "    }\n",
              "\n",
              "    .dataframe tbody tr th {\n",
              "        vertical-align: top;\n",
              "    }\n",
              "\n",
              "    .dataframe thead th {\n",
              "        text-align: right;\n",
              "    }\n",
              "</style>\n",
              "<table border=\"1\" class=\"dataframe\">\n",
              "  <thead>\n",
              "    <tr style=\"text-align: right;\">\n",
              "      <th></th>\n",
              "      <th>propertyType</th>\n",
              "      <th>street</th>\n",
              "      <th>baths</th>\n",
              "      <th>city</th>\n",
              "      <th>sqft</th>\n",
              "      <th>zipcode</th>\n",
              "      <th>beds</th>\n",
              "      <th>state</th>\n",
              "      <th>stories</th>\n",
              "      <th>new_target</th>\n",
              "      <th>...</th>\n",
              "      <th>status_option</th>\n",
              "      <th>status_pending</th>\n",
              "      <th>status_pending,</th>\n",
              "      <th>status_pf</th>\n",
              "      <th>status_price change</th>\n",
              "      <th>status_reactivated</th>\n",
              "      <th>status_temporary</th>\n",
              "      <th>status_under</th>\n",
              "      <th>fireplace_yes</th>\n",
              "      <th>PrivatePool_yes</th>\n",
              "    </tr>\n",
              "  </thead>\n",
              "  <tbody>\n",
              "    <tr>\n",
              "      <th>67</th>\n",
              "      <td>40</td>\n",
              "      <td>101124</td>\n",
              "      <td>0.005600</td>\n",
              "      <td>320</td>\n",
              "      <td>0.000020</td>\n",
              "      <td>0.182868</td>\n",
              "      <td>0.020833</td>\n",
              "      <td>11</td>\n",
              "      <td>0.008036</td>\n",
              "      <td>749000.0</td>\n",
              "      <td>...</td>\n",
              "      <td>0</td>\n",
              "      <td>0</td>\n",
              "      <td>0</td>\n",
              "      <td>0</td>\n",
              "      <td>0</td>\n",
              "      <td>0</td>\n",
              "      <td>0</td>\n",
              "      <td>0</td>\n",
              "      <td>0</td>\n",
              "      <td>1</td>\n",
              "    </tr>\n",
              "    <tr>\n",
              "      <th>123</th>\n",
              "      <td>40</td>\n",
              "      <td>161824</td>\n",
              "      <td>0.005600</td>\n",
              "      <td>969</td>\n",
              "      <td>0.000020</td>\n",
              "      <td>0.268849</td>\n",
              "      <td>0.020833</td>\n",
              "      <td>23</td>\n",
              "      <td>0.008036</td>\n",
              "      <td>519900.0</td>\n",
              "      <td>...</td>\n",
              "      <td>0</td>\n",
              "      <td>0</td>\n",
              "      <td>0</td>\n",
              "      <td>0</td>\n",
              "      <td>0</td>\n",
              "      <td>0</td>\n",
              "      <td>0</td>\n",
              "      <td>0</td>\n",
              "      <td>0</td>\n",
              "      <td>1</td>\n",
              "    </tr>\n",
              "    <tr>\n",
              "      <th>170</th>\n",
              "      <td>40</td>\n",
              "      <td>187759</td>\n",
              "      <td>0.005600</td>\n",
              "      <td>609</td>\n",
              "      <td>0.000020</td>\n",
              "      <td>0.100493</td>\n",
              "      <td>0.020833</td>\n",
              "      <td>7</td>\n",
              "      <td>0.008036</td>\n",
              "      <td>279900.0</td>\n",
              "      <td>...</td>\n",
              "      <td>0</td>\n",
              "      <td>0</td>\n",
              "      <td>0</td>\n",
              "      <td>0</td>\n",
              "      <td>0</td>\n",
              "      <td>0</td>\n",
              "      <td>0</td>\n",
              "      <td>0</td>\n",
              "      <td>0</td>\n",
              "      <td>0</td>\n",
              "    </tr>\n",
              "    <tr>\n",
              "      <th>202</th>\n",
              "      <td>49</td>\n",
              "      <td>170416</td>\n",
              "      <td>0.005600</td>\n",
              "      <td>1226</td>\n",
              "      <td>0.000020</td>\n",
              "      <td>0.030264</td>\n",
              "      <td>0.020833</td>\n",
              "      <td>24</td>\n",
              "      <td>0.012500</td>\n",
              "      <td>455000.0</td>\n",
              "      <td>...</td>\n",
              "      <td>0</td>\n",
              "      <td>0</td>\n",
              "      <td>0</td>\n",
              "      <td>0</td>\n",
              "      <td>0</td>\n",
              "      <td>0</td>\n",
              "      <td>0</td>\n",
              "      <td>0</td>\n",
              "      <td>0</td>\n",
              "      <td>0</td>\n",
              "    </tr>\n",
              "    <tr>\n",
              "      <th>402</th>\n",
              "      <td>40</td>\n",
              "      <td>298042</td>\n",
              "      <td>0.005600</td>\n",
              "      <td>1369</td>\n",
              "      <td>0.000020</td>\n",
              "      <td>0.099642</td>\n",
              "      <td>0.020833</td>\n",
              "      <td>7</td>\n",
              "      <td>0.004464</td>\n",
              "      <td>150000.0</td>\n",
              "      <td>...</td>\n",
              "      <td>0</td>\n",
              "      <td>0</td>\n",
              "      <td>0</td>\n",
              "      <td>0</td>\n",
              "      <td>0</td>\n",
              "      <td>0</td>\n",
              "      <td>0</td>\n",
              "      <td>0</td>\n",
              "      <td>0</td>\n",
              "      <td>0</td>\n",
              "    </tr>\n",
              "    <tr>\n",
              "      <th>...</th>\n",
              "      <td>...</td>\n",
              "      <td>...</td>\n",
              "      <td>...</td>\n",
              "      <td>...</td>\n",
              "      <td>...</td>\n",
              "      <td>...</td>\n",
              "      <td>...</td>\n",
              "      <td>...</td>\n",
              "      <td>...</td>\n",
              "      <td>...</td>\n",
              "      <td>...</td>\n",
              "      <td>...</td>\n",
              "      <td>...</td>\n",
              "      <td>...</td>\n",
              "      <td>...</td>\n",
              "      <td>...</td>\n",
              "      <td>...</td>\n",
              "      <td>...</td>\n",
              "      <td>...</td>\n",
              "      <td>...</td>\n",
              "      <td>...</td>\n",
              "    </tr>\n",
              "    <tr>\n",
              "      <th>376880</th>\n",
              "      <td>49</td>\n",
              "      <td>229424</td>\n",
              "      <td>0.005600</td>\n",
              "      <td>210</td>\n",
              "      <td>0.000020</td>\n",
              "      <td>0.031583</td>\n",
              "      <td>0.020833</td>\n",
              "      <td>24</td>\n",
              "      <td>0.005357</td>\n",
              "      <td>229000.0</td>\n",
              "      <td>...</td>\n",
              "      <td>0</td>\n",
              "      <td>0</td>\n",
              "      <td>0</td>\n",
              "      <td>0</td>\n",
              "      <td>0</td>\n",
              "      <td>0</td>\n",
              "      <td>0</td>\n",
              "      <td>0</td>\n",
              "      <td>0</td>\n",
              "      <td>0</td>\n",
              "    </tr>\n",
              "    <tr>\n",
              "      <th>377023</th>\n",
              "      <td>40</td>\n",
              "      <td>64340</td>\n",
              "      <td>0.005600</td>\n",
              "      <td>215</td>\n",
              "      <td>0.000020</td>\n",
              "      <td>0.033870</td>\n",
              "      <td>0.020833</td>\n",
              "      <td>24</td>\n",
              "      <td>0.007143</td>\n",
              "      <td>750000.0</td>\n",
              "      <td>...</td>\n",
              "      <td>0</td>\n",
              "      <td>0</td>\n",
              "      <td>0</td>\n",
              "      <td>0</td>\n",
              "      <td>0</td>\n",
              "      <td>0</td>\n",
              "      <td>0</td>\n",
              "      <td>0</td>\n",
              "      <td>0</td>\n",
              "      <td>0</td>\n",
              "    </tr>\n",
              "    <tr>\n",
              "      <th>377090</th>\n",
              "      <td>40</td>\n",
              "      <td>207286</td>\n",
              "      <td>0.005600</td>\n",
              "      <td>796</td>\n",
              "      <td>0.000020</td>\n",
              "      <td>0.099627</td>\n",
              "      <td>0.020833</td>\n",
              "      <td>7</td>\n",
              "      <td>0.004464</td>\n",
              "      <td>125000.0</td>\n",
              "      <td>...</td>\n",
              "      <td>0</td>\n",
              "      <td>0</td>\n",
              "      <td>0</td>\n",
              "      <td>0</td>\n",
              "      <td>0</td>\n",
              "      <td>0</td>\n",
              "      <td>0</td>\n",
              "      <td>0</td>\n",
              "      <td>0</td>\n",
              "      <td>0</td>\n",
              "    </tr>\n",
              "    <tr>\n",
              "      <th>377102</th>\n",
              "      <td>40</td>\n",
              "      <td>166564</td>\n",
              "      <td>0.001333</td>\n",
              "      <td>609</td>\n",
              "      <td>0.000002</td>\n",
              "      <td>0.100493</td>\n",
              "      <td>0.006944</td>\n",
              "      <td>7</td>\n",
              "      <td>0.008036</td>\n",
              "      <td>149999.0</td>\n",
              "      <td>...</td>\n",
              "      <td>0</td>\n",
              "      <td>0</td>\n",
              "      <td>0</td>\n",
              "      <td>0</td>\n",
              "      <td>0</td>\n",
              "      <td>0</td>\n",
              "      <td>0</td>\n",
              "      <td>0</td>\n",
              "      <td>0</td>\n",
              "      <td>1</td>\n",
              "    </tr>\n",
              "    <tr>\n",
              "      <th>377181</th>\n",
              "      <td>40</td>\n",
              "      <td>173271</td>\n",
              "      <td>0.005600</td>\n",
              "      <td>320</td>\n",
              "      <td>0.000020</td>\n",
              "      <td>0.183007</td>\n",
              "      <td>0.020833</td>\n",
              "      <td>11</td>\n",
              "      <td>0.008036</td>\n",
              "      <td>674999.0</td>\n",
              "      <td>...</td>\n",
              "      <td>0</td>\n",
              "      <td>0</td>\n",
              "      <td>0</td>\n",
              "      <td>0</td>\n",
              "      <td>0</td>\n",
              "      <td>0</td>\n",
              "      <td>0</td>\n",
              "      <td>0</td>\n",
              "      <td>0</td>\n",
              "      <td>0</td>\n",
              "    </tr>\n",
              "  </tbody>\n",
              "</table>\n",
              "<p>7834 rows × 38 columns</p>\n",
              "</div>\n",
              "      <button class=\"colab-df-convert\" onclick=\"convertToInteractive('df-99d3184c-bd7a-4939-971c-91c005d69bec')\"\n",
              "              title=\"Convert this dataframe to an interactive table.\"\n",
              "              style=\"display:none;\">\n",
              "        \n",
              "  <svg xmlns=\"http://www.w3.org/2000/svg\" height=\"24px\"viewBox=\"0 0 24 24\"\n",
              "       width=\"24px\">\n",
              "    <path d=\"M0 0h24v24H0V0z\" fill=\"none\"/>\n",
              "    <path d=\"M18.56 5.44l.94 2.06.94-2.06 2.06-.94-2.06-.94-.94-2.06-.94 2.06-2.06.94zm-11 1L8.5 8.5l.94-2.06 2.06-.94-2.06-.94L8.5 2.5l-.94 2.06-2.06.94zm10 10l.94 2.06.94-2.06 2.06-.94-2.06-.94-.94-2.06-.94 2.06-2.06.94z\"/><path d=\"M17.41 7.96l-1.37-1.37c-.4-.4-.92-.59-1.43-.59-.52 0-1.04.2-1.43.59L10.3 9.45l-7.72 7.72c-.78.78-.78 2.05 0 2.83L4 21.41c.39.39.9.59 1.41.59.51 0 1.02-.2 1.41-.59l7.78-7.78 2.81-2.81c.8-.78.8-2.07 0-2.86zM5.41 20L4 18.59l7.72-7.72 1.47 1.35L5.41 20z\"/>\n",
              "  </svg>\n",
              "      </button>\n",
              "      \n",
              "  <style>\n",
              "    .colab-df-container {\n",
              "      display:flex;\n",
              "      flex-wrap:wrap;\n",
              "      gap: 12px;\n",
              "    }\n",
              "\n",
              "    .colab-df-convert {\n",
              "      background-color: #E8F0FE;\n",
              "      border: none;\n",
              "      border-radius: 50%;\n",
              "      cursor: pointer;\n",
              "      display: none;\n",
              "      fill: #1967D2;\n",
              "      height: 32px;\n",
              "      padding: 0 0 0 0;\n",
              "      width: 32px;\n",
              "    }\n",
              "\n",
              "    .colab-df-convert:hover {\n",
              "      background-color: #E2EBFA;\n",
              "      box-shadow: 0px 1px 2px rgba(60, 64, 67, 0.3), 0px 1px 3px 1px rgba(60, 64, 67, 0.15);\n",
              "      fill: #174EA6;\n",
              "    }\n",
              "\n",
              "    [theme=dark] .colab-df-convert {\n",
              "      background-color: #3B4455;\n",
              "      fill: #D2E3FC;\n",
              "    }\n",
              "\n",
              "    [theme=dark] .colab-df-convert:hover {\n",
              "      background-color: #434B5C;\n",
              "      box-shadow: 0px 1px 3px 1px rgba(0, 0, 0, 0.15);\n",
              "      filter: drop-shadow(0px 1px 2px rgba(0, 0, 0, 0.3));\n",
              "      fill: #FFFFFF;\n",
              "    }\n",
              "  </style>\n",
              "\n",
              "      <script>\n",
              "        const buttonEl =\n",
              "          document.querySelector('#df-99d3184c-bd7a-4939-971c-91c005d69bec button.colab-df-convert');\n",
              "        buttonEl.style.display =\n",
              "          google.colab.kernel.accessAllowed ? 'block' : 'none';\n",
              "\n",
              "        async function convertToInteractive(key) {\n",
              "          const element = document.querySelector('#df-99d3184c-bd7a-4939-971c-91c005d69bec');\n",
              "          const dataTable =\n",
              "            await google.colab.kernel.invokeFunction('convertToInteractive',\n",
              "                                                     [key], {});\n",
              "          if (!dataTable) return;\n",
              "\n",
              "          const docLinkHtml = 'Like what you see? Visit the ' +\n",
              "            '<a target=\"_blank\" href=https://colab.research.google.com/notebooks/data_table.ipynb>data table notebook</a>'\n",
              "            + ' to learn more about interactive tables.';\n",
              "          element.innerHTML = '';\n",
              "          dataTable['output_type'] = 'display_data';\n",
              "          await google.colab.output.renderOutput(dataTable, element);\n",
              "          const docLink = document.createElement('div');\n",
              "          docLink.innerHTML = docLinkHtml;\n",
              "          element.appendChild(docLink);\n",
              "        }\n",
              "      </script>\n",
              "    </div>\n",
              "  </div>\n",
              "  "
            ]
          },
          "metadata": {},
          "execution_count": 88
        }
      ],
      "source": [
        "data[(data.stories < lower_bound) | (data.stories > upper_bound)]"
      ]
    },
    {
      "cell_type": "markdown",
      "metadata": {
        "id": "g6h9qFWDF0IJ"
      },
      "source": [
        "### baths"
      ]
    },
    {
      "cell_type": "code",
      "execution_count": 89,
      "metadata": {
        "colab": {
          "base_uri": "https://localhost:8080/",
          "height": 505
        },
        "id": "_NIcmZHbF2o7",
        "outputId": "1bdd1073-bc0f-4887-c8a8-e8e8b59339dd"
      },
      "outputs": [
        {
          "output_type": "execute_result",
          "data": {
            "text/plain": [
              "        propertyType  street     baths  city      sqft   zipcode      beds  \\\n",
              "75               149  190627  0.006000   915  0.000011  0.104832  0.034722   \n",
              "113              149  164991  0.006667   809  0.000020  0.232611  0.027778   \n",
              "214              149  298217  0.006000   915  0.000007  0.104835  0.041667   \n",
              "260              125  189086  0.010667  1284  0.000020  0.285473  0.097222   \n",
              "295              100  318872  0.000000   809  0.000000  0.232379  0.020833   \n",
              "...              ...     ...       ...   ...       ...       ...       ...   \n",
              "377066           149  204538  0.006667   430  0.000020  0.226972  0.034722   \n",
              "377092           149  102465  0.006667   809  0.000020  0.232327  0.020833   \n",
              "377098           100   13755  0.000000  1415  0.000000  0.102436  0.020833   \n",
              "377152           149   80892  0.006667  1479  0.000020  0.270062  0.027778   \n",
              "377180           149  107420  0.008000  1118  0.000020  0.100107  0.034722   \n",
              "\n",
              "        state   stories  new_target  ...  status_option  status_pending  \\\n",
              "75          7  0.001786    414900.0  ...              0               0   \n",
              "113        33  0.001786   2197000.0  ...              0               0   \n",
              "214         7  0.001786    504000.0  ...              0               0   \n",
              "260         3  0.001786   2100000.0  ...              0               0   \n",
              "295        33  0.001786     39900.0  ...              0               1   \n",
              "...       ...       ...         ...  ...            ...             ...   \n",
              "377066     33  0.001786   1307000.0  ...              0               0   \n",
              "377092     33  0.003571    549000.0  ...              0               0   \n",
              "377098      7  0.001786      7000.0  ...              0               1   \n",
              "377152     23  0.001786   1000000.0  ...              0               0   \n",
              "377180      7  0.000000   1249000.0  ...              0               0   \n",
              "\n",
              "        status_pending,  status_pf  status_price change  status_reactivated  \\\n",
              "75                    0          0                    0                   0   \n",
              "113                   0          0                    0                   0   \n",
              "214                   0          0                    0                   0   \n",
              "260                   0          0                    0                   0   \n",
              "295                   0          0                    0                   0   \n",
              "...                 ...        ...                  ...                 ...   \n",
              "377066                0          0                    0                   0   \n",
              "377092                0          0                    0                   0   \n",
              "377098                0          0                    0                   0   \n",
              "377152                0          0                    0                   0   \n",
              "377180                0          0                    0                   0   \n",
              "\n",
              "        status_temporary  status_under  fireplace_yes  PrivatePool_yes  \n",
              "75                     0             0              0                0  \n",
              "113                    0             0              0                1  \n",
              "214                    0             0              0                0  \n",
              "260                    0             0              0                0  \n",
              "295                    0             0              0                0  \n",
              "...                  ...           ...            ...              ...  \n",
              "377066                 0             0              1                1  \n",
              "377092                 0             0              0                0  \n",
              "377098                 0             0              0                0  \n",
              "377152                 0             0              0                0  \n",
              "377180                 0             0              0                1  \n",
              "\n",
              "[11154 rows x 38 columns]"
            ],
            "text/html": [
              "\n",
              "  <div id=\"df-5636f89a-db4d-4bb5-9cc2-599bc711ed68\">\n",
              "    <div class=\"colab-df-container\">\n",
              "      <div>\n",
              "<style scoped>\n",
              "    .dataframe tbody tr th:only-of-type {\n",
              "        vertical-align: middle;\n",
              "    }\n",
              "\n",
              "    .dataframe tbody tr th {\n",
              "        vertical-align: top;\n",
              "    }\n",
              "\n",
              "    .dataframe thead th {\n",
              "        text-align: right;\n",
              "    }\n",
              "</style>\n",
              "<table border=\"1\" class=\"dataframe\">\n",
              "  <thead>\n",
              "    <tr style=\"text-align: right;\">\n",
              "      <th></th>\n",
              "      <th>propertyType</th>\n",
              "      <th>street</th>\n",
              "      <th>baths</th>\n",
              "      <th>city</th>\n",
              "      <th>sqft</th>\n",
              "      <th>zipcode</th>\n",
              "      <th>beds</th>\n",
              "      <th>state</th>\n",
              "      <th>stories</th>\n",
              "      <th>new_target</th>\n",
              "      <th>...</th>\n",
              "      <th>status_option</th>\n",
              "      <th>status_pending</th>\n",
              "      <th>status_pending,</th>\n",
              "      <th>status_pf</th>\n",
              "      <th>status_price change</th>\n",
              "      <th>status_reactivated</th>\n",
              "      <th>status_temporary</th>\n",
              "      <th>status_under</th>\n",
              "      <th>fireplace_yes</th>\n",
              "      <th>PrivatePool_yes</th>\n",
              "    </tr>\n",
              "  </thead>\n",
              "  <tbody>\n",
              "    <tr>\n",
              "      <th>75</th>\n",
              "      <td>149</td>\n",
              "      <td>190627</td>\n",
              "      <td>0.006000</td>\n",
              "      <td>915</td>\n",
              "      <td>0.000011</td>\n",
              "      <td>0.104832</td>\n",
              "      <td>0.034722</td>\n",
              "      <td>7</td>\n",
              "      <td>0.001786</td>\n",
              "      <td>414900.0</td>\n",
              "      <td>...</td>\n",
              "      <td>0</td>\n",
              "      <td>0</td>\n",
              "      <td>0</td>\n",
              "      <td>0</td>\n",
              "      <td>0</td>\n",
              "      <td>0</td>\n",
              "      <td>0</td>\n",
              "      <td>0</td>\n",
              "      <td>0</td>\n",
              "      <td>0</td>\n",
              "    </tr>\n",
              "    <tr>\n",
              "      <th>113</th>\n",
              "      <td>149</td>\n",
              "      <td>164991</td>\n",
              "      <td>0.006667</td>\n",
              "      <td>809</td>\n",
              "      <td>0.000020</td>\n",
              "      <td>0.232611</td>\n",
              "      <td>0.027778</td>\n",
              "      <td>33</td>\n",
              "      <td>0.001786</td>\n",
              "      <td>2197000.0</td>\n",
              "      <td>...</td>\n",
              "      <td>0</td>\n",
              "      <td>0</td>\n",
              "      <td>0</td>\n",
              "      <td>0</td>\n",
              "      <td>0</td>\n",
              "      <td>0</td>\n",
              "      <td>0</td>\n",
              "      <td>0</td>\n",
              "      <td>0</td>\n",
              "      <td>1</td>\n",
              "    </tr>\n",
              "    <tr>\n",
              "      <th>214</th>\n",
              "      <td>149</td>\n",
              "      <td>298217</td>\n",
              "      <td>0.006000</td>\n",
              "      <td>915</td>\n",
              "      <td>0.000007</td>\n",
              "      <td>0.104835</td>\n",
              "      <td>0.041667</td>\n",
              "      <td>7</td>\n",
              "      <td>0.001786</td>\n",
              "      <td>504000.0</td>\n",
              "      <td>...</td>\n",
              "      <td>0</td>\n",
              "      <td>0</td>\n",
              "      <td>0</td>\n",
              "      <td>0</td>\n",
              "      <td>0</td>\n",
              "      <td>0</td>\n",
              "      <td>0</td>\n",
              "      <td>0</td>\n",
              "      <td>0</td>\n",
              "      <td>0</td>\n",
              "    </tr>\n",
              "    <tr>\n",
              "      <th>260</th>\n",
              "      <td>125</td>\n",
              "      <td>189086</td>\n",
              "      <td>0.010667</td>\n",
              "      <td>1284</td>\n",
              "      <td>0.000020</td>\n",
              "      <td>0.285473</td>\n",
              "      <td>0.097222</td>\n",
              "      <td>3</td>\n",
              "      <td>0.001786</td>\n",
              "      <td>2100000.0</td>\n",
              "      <td>...</td>\n",
              "      <td>0</td>\n",
              "      <td>0</td>\n",
              "      <td>0</td>\n",
              "      <td>0</td>\n",
              "      <td>0</td>\n",
              "      <td>0</td>\n",
              "      <td>0</td>\n",
              "      <td>0</td>\n",
              "      <td>0</td>\n",
              "      <td>0</td>\n",
              "    </tr>\n",
              "    <tr>\n",
              "      <th>295</th>\n",
              "      <td>100</td>\n",
              "      <td>318872</td>\n",
              "      <td>0.000000</td>\n",
              "      <td>809</td>\n",
              "      <td>0.000000</td>\n",
              "      <td>0.232379</td>\n",
              "      <td>0.020833</td>\n",
              "      <td>33</td>\n",
              "      <td>0.001786</td>\n",
              "      <td>39900.0</td>\n",
              "      <td>...</td>\n",
              "      <td>0</td>\n",
              "      <td>1</td>\n",
              "      <td>0</td>\n",
              "      <td>0</td>\n",
              "      <td>0</td>\n",
              "      <td>0</td>\n",
              "      <td>0</td>\n",
              "      <td>0</td>\n",
              "      <td>0</td>\n",
              "      <td>0</td>\n",
              "    </tr>\n",
              "    <tr>\n",
              "      <th>...</th>\n",
              "      <td>...</td>\n",
              "      <td>...</td>\n",
              "      <td>...</td>\n",
              "      <td>...</td>\n",
              "      <td>...</td>\n",
              "      <td>...</td>\n",
              "      <td>...</td>\n",
              "      <td>...</td>\n",
              "      <td>...</td>\n",
              "      <td>...</td>\n",
              "      <td>...</td>\n",
              "      <td>...</td>\n",
              "      <td>...</td>\n",
              "      <td>...</td>\n",
              "      <td>...</td>\n",
              "      <td>...</td>\n",
              "      <td>...</td>\n",
              "      <td>...</td>\n",
              "      <td>...</td>\n",
              "      <td>...</td>\n",
              "      <td>...</td>\n",
              "    </tr>\n",
              "    <tr>\n",
              "      <th>377066</th>\n",
              "      <td>149</td>\n",
              "      <td>204538</td>\n",
              "      <td>0.006667</td>\n",
              "      <td>430</td>\n",
              "      <td>0.000020</td>\n",
              "      <td>0.226972</td>\n",
              "      <td>0.034722</td>\n",
              "      <td>33</td>\n",
              "      <td>0.001786</td>\n",
              "      <td>1307000.0</td>\n",
              "      <td>...</td>\n",
              "      <td>0</td>\n",
              "      <td>0</td>\n",
              "      <td>0</td>\n",
              "      <td>0</td>\n",
              "      <td>0</td>\n",
              "      <td>0</td>\n",
              "      <td>0</td>\n",
              "      <td>0</td>\n",
              "      <td>1</td>\n",
              "      <td>1</td>\n",
              "    </tr>\n",
              "    <tr>\n",
              "      <th>377092</th>\n",
              "      <td>149</td>\n",
              "      <td>102465</td>\n",
              "      <td>0.006667</td>\n",
              "      <td>809</td>\n",
              "      <td>0.000020</td>\n",
              "      <td>0.232327</td>\n",
              "      <td>0.020833</td>\n",
              "      <td>33</td>\n",
              "      <td>0.003571</td>\n",
              "      <td>549000.0</td>\n",
              "      <td>...</td>\n",
              "      <td>0</td>\n",
              "      <td>0</td>\n",
              "      <td>0</td>\n",
              "      <td>0</td>\n",
              "      <td>0</td>\n",
              "      <td>0</td>\n",
              "      <td>0</td>\n",
              "      <td>0</td>\n",
              "      <td>0</td>\n",
              "      <td>0</td>\n",
              "    </tr>\n",
              "    <tr>\n",
              "      <th>377098</th>\n",
              "      <td>100</td>\n",
              "      <td>13755</td>\n",
              "      <td>0.000000</td>\n",
              "      <td>1415</td>\n",
              "      <td>0.000000</td>\n",
              "      <td>0.102436</td>\n",
              "      <td>0.020833</td>\n",
              "      <td>7</td>\n",
              "      <td>0.001786</td>\n",
              "      <td>7000.0</td>\n",
              "      <td>...</td>\n",
              "      <td>0</td>\n",
              "      <td>1</td>\n",
              "      <td>0</td>\n",
              "      <td>0</td>\n",
              "      <td>0</td>\n",
              "      <td>0</td>\n",
              "      <td>0</td>\n",
              "      <td>0</td>\n",
              "      <td>0</td>\n",
              "      <td>0</td>\n",
              "    </tr>\n",
              "    <tr>\n",
              "      <th>377152</th>\n",
              "      <td>149</td>\n",
              "      <td>80892</td>\n",
              "      <td>0.006667</td>\n",
              "      <td>1479</td>\n",
              "      <td>0.000020</td>\n",
              "      <td>0.270062</td>\n",
              "      <td>0.027778</td>\n",
              "      <td>23</td>\n",
              "      <td>0.001786</td>\n",
              "      <td>1000000.0</td>\n",
              "      <td>...</td>\n",
              "      <td>0</td>\n",
              "      <td>0</td>\n",
              "      <td>0</td>\n",
              "      <td>0</td>\n",
              "      <td>0</td>\n",
              "      <td>0</td>\n",
              "      <td>0</td>\n",
              "      <td>0</td>\n",
              "      <td>0</td>\n",
              "      <td>0</td>\n",
              "    </tr>\n",
              "    <tr>\n",
              "      <th>377180</th>\n",
              "      <td>149</td>\n",
              "      <td>107420</td>\n",
              "      <td>0.008000</td>\n",
              "      <td>1118</td>\n",
              "      <td>0.000020</td>\n",
              "      <td>0.100107</td>\n",
              "      <td>0.034722</td>\n",
              "      <td>7</td>\n",
              "      <td>0.000000</td>\n",
              "      <td>1249000.0</td>\n",
              "      <td>...</td>\n",
              "      <td>0</td>\n",
              "      <td>0</td>\n",
              "      <td>0</td>\n",
              "      <td>0</td>\n",
              "      <td>0</td>\n",
              "      <td>0</td>\n",
              "      <td>0</td>\n",
              "      <td>0</td>\n",
              "      <td>0</td>\n",
              "      <td>1</td>\n",
              "    </tr>\n",
              "  </tbody>\n",
              "</table>\n",
              "<p>11154 rows × 38 columns</p>\n",
              "</div>\n",
              "      <button class=\"colab-df-convert\" onclick=\"convertToInteractive('df-5636f89a-db4d-4bb5-9cc2-599bc711ed68')\"\n",
              "              title=\"Convert this dataframe to an interactive table.\"\n",
              "              style=\"display:none;\">\n",
              "        \n",
              "  <svg xmlns=\"http://www.w3.org/2000/svg\" height=\"24px\"viewBox=\"0 0 24 24\"\n",
              "       width=\"24px\">\n",
              "    <path d=\"M0 0h24v24H0V0z\" fill=\"none\"/>\n",
              "    <path d=\"M18.56 5.44l.94 2.06.94-2.06 2.06-.94-2.06-.94-.94-2.06-.94 2.06-2.06.94zm-11 1L8.5 8.5l.94-2.06 2.06-.94-2.06-.94L8.5 2.5l-.94 2.06-2.06.94zm10 10l.94 2.06.94-2.06 2.06-.94-2.06-.94-.94-2.06-.94 2.06-2.06.94z\"/><path d=\"M17.41 7.96l-1.37-1.37c-.4-.4-.92-.59-1.43-.59-.52 0-1.04.2-1.43.59L10.3 9.45l-7.72 7.72c-.78.78-.78 2.05 0 2.83L4 21.41c.39.39.9.59 1.41.59.51 0 1.02-.2 1.41-.59l7.78-7.78 2.81-2.81c.8-.78.8-2.07 0-2.86zM5.41 20L4 18.59l7.72-7.72 1.47 1.35L5.41 20z\"/>\n",
              "  </svg>\n",
              "      </button>\n",
              "      \n",
              "  <style>\n",
              "    .colab-df-container {\n",
              "      display:flex;\n",
              "      flex-wrap:wrap;\n",
              "      gap: 12px;\n",
              "    }\n",
              "\n",
              "    .colab-df-convert {\n",
              "      background-color: #E8F0FE;\n",
              "      border: none;\n",
              "      border-radius: 50%;\n",
              "      cursor: pointer;\n",
              "      display: none;\n",
              "      fill: #1967D2;\n",
              "      height: 32px;\n",
              "      padding: 0 0 0 0;\n",
              "      width: 32px;\n",
              "    }\n",
              "\n",
              "    .colab-df-convert:hover {\n",
              "      background-color: #E2EBFA;\n",
              "      box-shadow: 0px 1px 2px rgba(60, 64, 67, 0.3), 0px 1px 3px 1px rgba(60, 64, 67, 0.15);\n",
              "      fill: #174EA6;\n",
              "    }\n",
              "\n",
              "    [theme=dark] .colab-df-convert {\n",
              "      background-color: #3B4455;\n",
              "      fill: #D2E3FC;\n",
              "    }\n",
              "\n",
              "    [theme=dark] .colab-df-convert:hover {\n",
              "      background-color: #434B5C;\n",
              "      box-shadow: 0px 1px 3px 1px rgba(0, 0, 0, 0.15);\n",
              "      filter: drop-shadow(0px 1px 2px rgba(0, 0, 0, 0.3));\n",
              "      fill: #FFFFFF;\n",
              "    }\n",
              "  </style>\n",
              "\n",
              "      <script>\n",
              "        const buttonEl =\n",
              "          document.querySelector('#df-5636f89a-db4d-4bb5-9cc2-599bc711ed68 button.colab-df-convert');\n",
              "        buttonEl.style.display =\n",
              "          google.colab.kernel.accessAllowed ? 'block' : 'none';\n",
              "\n",
              "        async function convertToInteractive(key) {\n",
              "          const element = document.querySelector('#df-5636f89a-db4d-4bb5-9cc2-599bc711ed68');\n",
              "          const dataTable =\n",
              "            await google.colab.kernel.invokeFunction('convertToInteractive',\n",
              "                                                     [key], {});\n",
              "          if (!dataTable) return;\n",
              "\n",
              "          const docLinkHtml = 'Like what you see? Visit the ' +\n",
              "            '<a target=\"_blank\" href=https://colab.research.google.com/notebooks/data_table.ipynb>data table notebook</a>'\n",
              "            + ' to learn more about interactive tables.';\n",
              "          element.innerHTML = '';\n",
              "          dataTable['output_type'] = 'display_data';\n",
              "          await google.colab.output.renderOutput(dataTable, element);\n",
              "          const docLink = document.createElement('div');\n",
              "          docLink.innerHTML = docLinkHtml;\n",
              "          element.appendChild(docLink);\n",
              "        }\n",
              "      </script>\n",
              "    </div>\n",
              "  </div>\n",
              "  "
            ]
          },
          "metadata": {},
          "execution_count": 89
        }
      ],
      "source": [
        "lower_bound = data.baths.quantile(q=0.025)\n",
        "upper_bound = data.baths.quantile(q=0.975)\n",
        "data[(data.baths < lower_bound) | (data.baths > upper_bound)]"
      ]
    },
    {
      "cell_type": "code",
      "execution_count": 90,
      "metadata": {
        "colab": {
          "base_uri": "https://localhost:8080/"
        },
        "id": "VIluWasMOC9F",
        "outputId": "6bc832ae-278c-4a2d-b425-8db2519cb025"
      },
      "outputs": [
        {
          "output_type": "execute_result",
          "data": {
            "text/plain": [
              "75        0.005618\n",
              "113       0.005618\n",
              "214       0.005618\n",
              "260       0.005618\n",
              "295       0.005618\n",
              "            ...   \n",
              "377066    0.005618\n",
              "377092    0.005618\n",
              "377098    0.005618\n",
              "377152    0.005618\n",
              "377180    0.005618\n",
              "Name: baths, Length: 11154, dtype: float64"
            ]
          },
          "metadata": {},
          "execution_count": 90
        }
      ],
      "source": [
        "data[(data.baths < lower_bound) | (data.baths > upper_bound)].baths.apply(lambda x:data.baths.mean())"
      ]
    },
    {
      "cell_type": "code",
      "execution_count": 91,
      "metadata": {
        "colab": {
          "base_uri": "https://localhost:8080/",
          "height": 505
        },
        "id": "UjBypLkLd2W_",
        "outputId": "80550b05-4741-42a8-ac71-7da5eca42462"
      },
      "outputs": [
        {
          "output_type": "execute_result",
          "data": {
            "text/plain": [
              "        propertyType  street     baths  city      sqft   zipcode      beds  \\\n",
              "75               149  190627  0.006000   915  0.000011  0.104832  0.034722   \n",
              "113              149  164991  0.006667   809  0.000020  0.232611  0.027778   \n",
              "214              149  298217  0.006000   915  0.000007  0.104835  0.041667   \n",
              "260              125  189086  0.010667  1284  0.000020  0.285473  0.097222   \n",
              "295              100  318872  0.000000   809  0.000000  0.232379  0.020833   \n",
              "...              ...     ...       ...   ...       ...       ...       ...   \n",
              "377066           149  204538  0.006667   430  0.000020  0.226972  0.034722   \n",
              "377092           149  102465  0.006667   809  0.000020  0.232327  0.020833   \n",
              "377098           100   13755  0.000000  1415  0.000000  0.102436  0.020833   \n",
              "377152           149   80892  0.006667  1479  0.000020  0.270062  0.027778   \n",
              "377180           149  107420  0.008000  1118  0.000020  0.100107  0.034722   \n",
              "\n",
              "        state   stories  new_target  ...  status_option  status_pending  \\\n",
              "75          7  0.001786    414900.0  ...              0               0   \n",
              "113        33  0.001786   2197000.0  ...              0               0   \n",
              "214         7  0.001786    504000.0  ...              0               0   \n",
              "260         3  0.001786   2100000.0  ...              0               0   \n",
              "295        33  0.001786     39900.0  ...              0               1   \n",
              "...       ...       ...         ...  ...            ...             ...   \n",
              "377066     33  0.001786   1307000.0  ...              0               0   \n",
              "377092     33  0.003571    549000.0  ...              0               0   \n",
              "377098      7  0.001786      7000.0  ...              0               1   \n",
              "377152     23  0.001786   1000000.0  ...              0               0   \n",
              "377180      7  0.000000   1249000.0  ...              0               0   \n",
              "\n",
              "        status_pending,  status_pf  status_price change  status_reactivated  \\\n",
              "75                    0          0                    0                   0   \n",
              "113                   0          0                    0                   0   \n",
              "214                   0          0                    0                   0   \n",
              "260                   0          0                    0                   0   \n",
              "295                   0          0                    0                   0   \n",
              "...                 ...        ...                  ...                 ...   \n",
              "377066                0          0                    0                   0   \n",
              "377092                0          0                    0                   0   \n",
              "377098                0          0                    0                   0   \n",
              "377152                0          0                    0                   0   \n",
              "377180                0          0                    0                   0   \n",
              "\n",
              "        status_temporary  status_under  fireplace_yes  PrivatePool_yes  \n",
              "75                     0             0              0                0  \n",
              "113                    0             0              0                1  \n",
              "214                    0             0              0                0  \n",
              "260                    0             0              0                0  \n",
              "295                    0             0              0                0  \n",
              "...                  ...           ...            ...              ...  \n",
              "377066                 0             0              1                1  \n",
              "377092                 0             0              0                0  \n",
              "377098                 0             0              0                0  \n",
              "377152                 0             0              0                0  \n",
              "377180                 0             0              0                1  \n",
              "\n",
              "[11154 rows x 38 columns]"
            ],
            "text/html": [
              "\n",
              "  <div id=\"df-a4dad816-eef2-4c8f-bf9b-fd4f242d19b0\">\n",
              "    <div class=\"colab-df-container\">\n",
              "      <div>\n",
              "<style scoped>\n",
              "    .dataframe tbody tr th:only-of-type {\n",
              "        vertical-align: middle;\n",
              "    }\n",
              "\n",
              "    .dataframe tbody tr th {\n",
              "        vertical-align: top;\n",
              "    }\n",
              "\n",
              "    .dataframe thead th {\n",
              "        text-align: right;\n",
              "    }\n",
              "</style>\n",
              "<table border=\"1\" class=\"dataframe\">\n",
              "  <thead>\n",
              "    <tr style=\"text-align: right;\">\n",
              "      <th></th>\n",
              "      <th>propertyType</th>\n",
              "      <th>street</th>\n",
              "      <th>baths</th>\n",
              "      <th>city</th>\n",
              "      <th>sqft</th>\n",
              "      <th>zipcode</th>\n",
              "      <th>beds</th>\n",
              "      <th>state</th>\n",
              "      <th>stories</th>\n",
              "      <th>new_target</th>\n",
              "      <th>...</th>\n",
              "      <th>status_option</th>\n",
              "      <th>status_pending</th>\n",
              "      <th>status_pending,</th>\n",
              "      <th>status_pf</th>\n",
              "      <th>status_price change</th>\n",
              "      <th>status_reactivated</th>\n",
              "      <th>status_temporary</th>\n",
              "      <th>status_under</th>\n",
              "      <th>fireplace_yes</th>\n",
              "      <th>PrivatePool_yes</th>\n",
              "    </tr>\n",
              "  </thead>\n",
              "  <tbody>\n",
              "    <tr>\n",
              "      <th>75</th>\n",
              "      <td>149</td>\n",
              "      <td>190627</td>\n",
              "      <td>0.006000</td>\n",
              "      <td>915</td>\n",
              "      <td>0.000011</td>\n",
              "      <td>0.104832</td>\n",
              "      <td>0.034722</td>\n",
              "      <td>7</td>\n",
              "      <td>0.001786</td>\n",
              "      <td>414900.0</td>\n",
              "      <td>...</td>\n",
              "      <td>0</td>\n",
              "      <td>0</td>\n",
              "      <td>0</td>\n",
              "      <td>0</td>\n",
              "      <td>0</td>\n",
              "      <td>0</td>\n",
              "      <td>0</td>\n",
              "      <td>0</td>\n",
              "      <td>0</td>\n",
              "      <td>0</td>\n",
              "    </tr>\n",
              "    <tr>\n",
              "      <th>113</th>\n",
              "      <td>149</td>\n",
              "      <td>164991</td>\n",
              "      <td>0.006667</td>\n",
              "      <td>809</td>\n",
              "      <td>0.000020</td>\n",
              "      <td>0.232611</td>\n",
              "      <td>0.027778</td>\n",
              "      <td>33</td>\n",
              "      <td>0.001786</td>\n",
              "      <td>2197000.0</td>\n",
              "      <td>...</td>\n",
              "      <td>0</td>\n",
              "      <td>0</td>\n",
              "      <td>0</td>\n",
              "      <td>0</td>\n",
              "      <td>0</td>\n",
              "      <td>0</td>\n",
              "      <td>0</td>\n",
              "      <td>0</td>\n",
              "      <td>0</td>\n",
              "      <td>1</td>\n",
              "    </tr>\n",
              "    <tr>\n",
              "      <th>214</th>\n",
              "      <td>149</td>\n",
              "      <td>298217</td>\n",
              "      <td>0.006000</td>\n",
              "      <td>915</td>\n",
              "      <td>0.000007</td>\n",
              "      <td>0.104835</td>\n",
              "      <td>0.041667</td>\n",
              "      <td>7</td>\n",
              "      <td>0.001786</td>\n",
              "      <td>504000.0</td>\n",
              "      <td>...</td>\n",
              "      <td>0</td>\n",
              "      <td>0</td>\n",
              "      <td>0</td>\n",
              "      <td>0</td>\n",
              "      <td>0</td>\n",
              "      <td>0</td>\n",
              "      <td>0</td>\n",
              "      <td>0</td>\n",
              "      <td>0</td>\n",
              "      <td>0</td>\n",
              "    </tr>\n",
              "    <tr>\n",
              "      <th>260</th>\n",
              "      <td>125</td>\n",
              "      <td>189086</td>\n",
              "      <td>0.010667</td>\n",
              "      <td>1284</td>\n",
              "      <td>0.000020</td>\n",
              "      <td>0.285473</td>\n",
              "      <td>0.097222</td>\n",
              "      <td>3</td>\n",
              "      <td>0.001786</td>\n",
              "      <td>2100000.0</td>\n",
              "      <td>...</td>\n",
              "      <td>0</td>\n",
              "      <td>0</td>\n",
              "      <td>0</td>\n",
              "      <td>0</td>\n",
              "      <td>0</td>\n",
              "      <td>0</td>\n",
              "      <td>0</td>\n",
              "      <td>0</td>\n",
              "      <td>0</td>\n",
              "      <td>0</td>\n",
              "    </tr>\n",
              "    <tr>\n",
              "      <th>295</th>\n",
              "      <td>100</td>\n",
              "      <td>318872</td>\n",
              "      <td>0.000000</td>\n",
              "      <td>809</td>\n",
              "      <td>0.000000</td>\n",
              "      <td>0.232379</td>\n",
              "      <td>0.020833</td>\n",
              "      <td>33</td>\n",
              "      <td>0.001786</td>\n",
              "      <td>39900.0</td>\n",
              "      <td>...</td>\n",
              "      <td>0</td>\n",
              "      <td>1</td>\n",
              "      <td>0</td>\n",
              "      <td>0</td>\n",
              "      <td>0</td>\n",
              "      <td>0</td>\n",
              "      <td>0</td>\n",
              "      <td>0</td>\n",
              "      <td>0</td>\n",
              "      <td>0</td>\n",
              "    </tr>\n",
              "    <tr>\n",
              "      <th>...</th>\n",
              "      <td>...</td>\n",
              "      <td>...</td>\n",
              "      <td>...</td>\n",
              "      <td>...</td>\n",
              "      <td>...</td>\n",
              "      <td>...</td>\n",
              "      <td>...</td>\n",
              "      <td>...</td>\n",
              "      <td>...</td>\n",
              "      <td>...</td>\n",
              "      <td>...</td>\n",
              "      <td>...</td>\n",
              "      <td>...</td>\n",
              "      <td>...</td>\n",
              "      <td>...</td>\n",
              "      <td>...</td>\n",
              "      <td>...</td>\n",
              "      <td>...</td>\n",
              "      <td>...</td>\n",
              "      <td>...</td>\n",
              "      <td>...</td>\n",
              "    </tr>\n",
              "    <tr>\n",
              "      <th>377066</th>\n",
              "      <td>149</td>\n",
              "      <td>204538</td>\n",
              "      <td>0.006667</td>\n",
              "      <td>430</td>\n",
              "      <td>0.000020</td>\n",
              "      <td>0.226972</td>\n",
              "      <td>0.034722</td>\n",
              "      <td>33</td>\n",
              "      <td>0.001786</td>\n",
              "      <td>1307000.0</td>\n",
              "      <td>...</td>\n",
              "      <td>0</td>\n",
              "      <td>0</td>\n",
              "      <td>0</td>\n",
              "      <td>0</td>\n",
              "      <td>0</td>\n",
              "      <td>0</td>\n",
              "      <td>0</td>\n",
              "      <td>0</td>\n",
              "      <td>1</td>\n",
              "      <td>1</td>\n",
              "    </tr>\n",
              "    <tr>\n",
              "      <th>377092</th>\n",
              "      <td>149</td>\n",
              "      <td>102465</td>\n",
              "      <td>0.006667</td>\n",
              "      <td>809</td>\n",
              "      <td>0.000020</td>\n",
              "      <td>0.232327</td>\n",
              "      <td>0.020833</td>\n",
              "      <td>33</td>\n",
              "      <td>0.003571</td>\n",
              "      <td>549000.0</td>\n",
              "      <td>...</td>\n",
              "      <td>0</td>\n",
              "      <td>0</td>\n",
              "      <td>0</td>\n",
              "      <td>0</td>\n",
              "      <td>0</td>\n",
              "      <td>0</td>\n",
              "      <td>0</td>\n",
              "      <td>0</td>\n",
              "      <td>0</td>\n",
              "      <td>0</td>\n",
              "    </tr>\n",
              "    <tr>\n",
              "      <th>377098</th>\n",
              "      <td>100</td>\n",
              "      <td>13755</td>\n",
              "      <td>0.000000</td>\n",
              "      <td>1415</td>\n",
              "      <td>0.000000</td>\n",
              "      <td>0.102436</td>\n",
              "      <td>0.020833</td>\n",
              "      <td>7</td>\n",
              "      <td>0.001786</td>\n",
              "      <td>7000.0</td>\n",
              "      <td>...</td>\n",
              "      <td>0</td>\n",
              "      <td>1</td>\n",
              "      <td>0</td>\n",
              "      <td>0</td>\n",
              "      <td>0</td>\n",
              "      <td>0</td>\n",
              "      <td>0</td>\n",
              "      <td>0</td>\n",
              "      <td>0</td>\n",
              "      <td>0</td>\n",
              "    </tr>\n",
              "    <tr>\n",
              "      <th>377152</th>\n",
              "      <td>149</td>\n",
              "      <td>80892</td>\n",
              "      <td>0.006667</td>\n",
              "      <td>1479</td>\n",
              "      <td>0.000020</td>\n",
              "      <td>0.270062</td>\n",
              "      <td>0.027778</td>\n",
              "      <td>23</td>\n",
              "      <td>0.001786</td>\n",
              "      <td>1000000.0</td>\n",
              "      <td>...</td>\n",
              "      <td>0</td>\n",
              "      <td>0</td>\n",
              "      <td>0</td>\n",
              "      <td>0</td>\n",
              "      <td>0</td>\n",
              "      <td>0</td>\n",
              "      <td>0</td>\n",
              "      <td>0</td>\n",
              "      <td>0</td>\n",
              "      <td>0</td>\n",
              "    </tr>\n",
              "    <tr>\n",
              "      <th>377180</th>\n",
              "      <td>149</td>\n",
              "      <td>107420</td>\n",
              "      <td>0.008000</td>\n",
              "      <td>1118</td>\n",
              "      <td>0.000020</td>\n",
              "      <td>0.100107</td>\n",
              "      <td>0.034722</td>\n",
              "      <td>7</td>\n",
              "      <td>0.000000</td>\n",
              "      <td>1249000.0</td>\n",
              "      <td>...</td>\n",
              "      <td>0</td>\n",
              "      <td>0</td>\n",
              "      <td>0</td>\n",
              "      <td>0</td>\n",
              "      <td>0</td>\n",
              "      <td>0</td>\n",
              "      <td>0</td>\n",
              "      <td>0</td>\n",
              "      <td>0</td>\n",
              "      <td>1</td>\n",
              "    </tr>\n",
              "  </tbody>\n",
              "</table>\n",
              "<p>11154 rows × 38 columns</p>\n",
              "</div>\n",
              "      <button class=\"colab-df-convert\" onclick=\"convertToInteractive('df-a4dad816-eef2-4c8f-bf9b-fd4f242d19b0')\"\n",
              "              title=\"Convert this dataframe to an interactive table.\"\n",
              "              style=\"display:none;\">\n",
              "        \n",
              "  <svg xmlns=\"http://www.w3.org/2000/svg\" height=\"24px\"viewBox=\"0 0 24 24\"\n",
              "       width=\"24px\">\n",
              "    <path d=\"M0 0h24v24H0V0z\" fill=\"none\"/>\n",
              "    <path d=\"M18.56 5.44l.94 2.06.94-2.06 2.06-.94-2.06-.94-.94-2.06-.94 2.06-2.06.94zm-11 1L8.5 8.5l.94-2.06 2.06-.94-2.06-.94L8.5 2.5l-.94 2.06-2.06.94zm10 10l.94 2.06.94-2.06 2.06-.94-2.06-.94-.94-2.06-.94 2.06-2.06.94z\"/><path d=\"M17.41 7.96l-1.37-1.37c-.4-.4-.92-.59-1.43-.59-.52 0-1.04.2-1.43.59L10.3 9.45l-7.72 7.72c-.78.78-.78 2.05 0 2.83L4 21.41c.39.39.9.59 1.41.59.51 0 1.02-.2 1.41-.59l7.78-7.78 2.81-2.81c.8-.78.8-2.07 0-2.86zM5.41 20L4 18.59l7.72-7.72 1.47 1.35L5.41 20z\"/>\n",
              "  </svg>\n",
              "      </button>\n",
              "      \n",
              "  <style>\n",
              "    .colab-df-container {\n",
              "      display:flex;\n",
              "      flex-wrap:wrap;\n",
              "      gap: 12px;\n",
              "    }\n",
              "\n",
              "    .colab-df-convert {\n",
              "      background-color: #E8F0FE;\n",
              "      border: none;\n",
              "      border-radius: 50%;\n",
              "      cursor: pointer;\n",
              "      display: none;\n",
              "      fill: #1967D2;\n",
              "      height: 32px;\n",
              "      padding: 0 0 0 0;\n",
              "      width: 32px;\n",
              "    }\n",
              "\n",
              "    .colab-df-convert:hover {\n",
              "      background-color: #E2EBFA;\n",
              "      box-shadow: 0px 1px 2px rgba(60, 64, 67, 0.3), 0px 1px 3px 1px rgba(60, 64, 67, 0.15);\n",
              "      fill: #174EA6;\n",
              "    }\n",
              "\n",
              "    [theme=dark] .colab-df-convert {\n",
              "      background-color: #3B4455;\n",
              "      fill: #D2E3FC;\n",
              "    }\n",
              "\n",
              "    [theme=dark] .colab-df-convert:hover {\n",
              "      background-color: #434B5C;\n",
              "      box-shadow: 0px 1px 3px 1px rgba(0, 0, 0, 0.15);\n",
              "      filter: drop-shadow(0px 1px 2px rgba(0, 0, 0, 0.3));\n",
              "      fill: #FFFFFF;\n",
              "    }\n",
              "  </style>\n",
              "\n",
              "      <script>\n",
              "        const buttonEl =\n",
              "          document.querySelector('#df-a4dad816-eef2-4c8f-bf9b-fd4f242d19b0 button.colab-df-convert');\n",
              "        buttonEl.style.display =\n",
              "          google.colab.kernel.accessAllowed ? 'block' : 'none';\n",
              "\n",
              "        async function convertToInteractive(key) {\n",
              "          const element = document.querySelector('#df-a4dad816-eef2-4c8f-bf9b-fd4f242d19b0');\n",
              "          const dataTable =\n",
              "            await google.colab.kernel.invokeFunction('convertToInteractive',\n",
              "                                                     [key], {});\n",
              "          if (!dataTable) return;\n",
              "\n",
              "          const docLinkHtml = 'Like what you see? Visit the ' +\n",
              "            '<a target=\"_blank\" href=https://colab.research.google.com/notebooks/data_table.ipynb>data table notebook</a>'\n",
              "            + ' to learn more about interactive tables.';\n",
              "          element.innerHTML = '';\n",
              "          dataTable['output_type'] = 'display_data';\n",
              "          await google.colab.output.renderOutput(dataTable, element);\n",
              "          const docLink = document.createElement('div');\n",
              "          docLink.innerHTML = docLinkHtml;\n",
              "          element.appendChild(docLink);\n",
              "        }\n",
              "      </script>\n",
              "    </div>\n",
              "  </div>\n",
              "  "
            ]
          },
          "metadata": {},
          "execution_count": 91
        }
      ],
      "source": [
        "data[(data.baths < lower_bound) | (data.baths > upper_bound)]"
      ]
    },
    {
      "cell_type": "markdown",
      "metadata": {
        "id": "ho8he-7PF2-S"
      },
      "source": [
        "### sqft"
      ]
    },
    {
      "cell_type": "code",
      "execution_count": 92,
      "metadata": {
        "colab": {
          "base_uri": "https://localhost:8080/",
          "height": 505
        },
        "id": "V-EvFhBTF5oA",
        "outputId": "7cfcb2fe-a03c-4873-add0-6775ce80a055"
      },
      "outputs": [
        {
          "output_type": "execute_result",
          "data": {
            "text/plain": [
              "        propertyType  street     baths  city      sqft   zipcode      beds  \\\n",
              "3354             126   79900  0.024000  1031  0.000026  0.271637  0.222222   \n",
              "3511             149  233558  0.005600   926  0.000020  0.274588  0.048611   \n",
              "5294             149  154960  0.005600  1372  0.000020  0.133126  0.034722   \n",
              "7324             126  114990  0.002667   967  0.000137  0.235468  1.000000   \n",
              "7338             149  156004  0.005600  1915  0.000025  0.060390  0.048611   \n",
              "...              ...     ...       ...   ...       ...       ...       ...   \n",
              "373599           149  274440  0.005600  1683  0.000032  0.133171  0.034722   \n",
              "375044           126  222650  0.005600  1803  0.000053  0.296908  0.020833   \n",
              "375276           149  215988  0.008667  1204  0.000023  0.112251  0.034722   \n",
              "376348           149  100216  0.005600   200  0.000028  0.111714  0.034722   \n",
              "376529           126  227077  0.005600   673  1.000000  0.128950  0.020833   \n",
              "\n",
              "        state   stories  new_target  ...  status_option  status_pending  \\\n",
              "3354        3  0.001786   3600000.0  ...              0               0   \n",
              "3511        3  0.001786   6950000.0  ...              0               0   \n",
              "5294       25  0.001786   2195000.0  ...              0               0   \n",
              "7324       33  0.001786   1590000.0  ...              0               0   \n",
              "7338        5  0.001786   8150000.0  ...              0               0   \n",
              "...       ...       ...         ...  ...            ...             ...   \n",
              "373599     25  0.001786    995000.0  ...              0               1   \n",
              "375044     37  0.001786   1100000.0  ...              0               0   \n",
              "375276     32  0.002232   4950000.0  ...              0               0   \n",
              "376348     32  0.001786   3950000.0  ...              0               0   \n",
              "376529     13  0.001786    198000.0  ...              0               0   \n",
              "\n",
              "        status_pending,  status_pf  status_price change  status_reactivated  \\\n",
              "3354                  0          0                    0                   0   \n",
              "3511                  0          0                    0                   0   \n",
              "5294                  0          0                    0                   0   \n",
              "7324                  0          0                    0                   0   \n",
              "7338                  0          0                    0                   0   \n",
              "...                 ...        ...                  ...                 ...   \n",
              "373599                0          0                    0                   0   \n",
              "375044                0          0                    0                   0   \n",
              "375276                0          0                    0                   0   \n",
              "376348                0          0                    0                   0   \n",
              "376529                0          0                    0                   0   \n",
              "\n",
              "        status_temporary  status_under  fireplace_yes  PrivatePool_yes  \n",
              "3354                   0             0              0                0  \n",
              "3511                   0             0              1                0  \n",
              "5294                   0             0              1                0  \n",
              "7324                   0             0              0                0  \n",
              "7338                   0             0              0                0  \n",
              "...                  ...           ...            ...              ...  \n",
              "373599                 0             0              1                0  \n",
              "375044                 0             0              0                0  \n",
              "375276                 0             0              1                0  \n",
              "376348                 0             0              1                0  \n",
              "376529                 0             0              0                0  \n",
              "\n",
              "[218 rows x 38 columns]"
            ],
            "text/html": [
              "\n",
              "  <div id=\"df-339ee429-6ccc-4462-b322-de6701802e5f\">\n",
              "    <div class=\"colab-df-container\">\n",
              "      <div>\n",
              "<style scoped>\n",
              "    .dataframe tbody tr th:only-of-type {\n",
              "        vertical-align: middle;\n",
              "    }\n",
              "\n",
              "    .dataframe tbody tr th {\n",
              "        vertical-align: top;\n",
              "    }\n",
              "\n",
              "    .dataframe thead th {\n",
              "        text-align: right;\n",
              "    }\n",
              "</style>\n",
              "<table border=\"1\" class=\"dataframe\">\n",
              "  <thead>\n",
              "    <tr style=\"text-align: right;\">\n",
              "      <th></th>\n",
              "      <th>propertyType</th>\n",
              "      <th>street</th>\n",
              "      <th>baths</th>\n",
              "      <th>city</th>\n",
              "      <th>sqft</th>\n",
              "      <th>zipcode</th>\n",
              "      <th>beds</th>\n",
              "      <th>state</th>\n",
              "      <th>stories</th>\n",
              "      <th>new_target</th>\n",
              "      <th>...</th>\n",
              "      <th>status_option</th>\n",
              "      <th>status_pending</th>\n",
              "      <th>status_pending,</th>\n",
              "      <th>status_pf</th>\n",
              "      <th>status_price change</th>\n",
              "      <th>status_reactivated</th>\n",
              "      <th>status_temporary</th>\n",
              "      <th>status_under</th>\n",
              "      <th>fireplace_yes</th>\n",
              "      <th>PrivatePool_yes</th>\n",
              "    </tr>\n",
              "  </thead>\n",
              "  <tbody>\n",
              "    <tr>\n",
              "      <th>3354</th>\n",
              "      <td>126</td>\n",
              "      <td>79900</td>\n",
              "      <td>0.024000</td>\n",
              "      <td>1031</td>\n",
              "      <td>0.000026</td>\n",
              "      <td>0.271637</td>\n",
              "      <td>0.222222</td>\n",
              "      <td>3</td>\n",
              "      <td>0.001786</td>\n",
              "      <td>3600000.0</td>\n",
              "      <td>...</td>\n",
              "      <td>0</td>\n",
              "      <td>0</td>\n",
              "      <td>0</td>\n",
              "      <td>0</td>\n",
              "      <td>0</td>\n",
              "      <td>0</td>\n",
              "      <td>0</td>\n",
              "      <td>0</td>\n",
              "      <td>0</td>\n",
              "      <td>0</td>\n",
              "    </tr>\n",
              "    <tr>\n",
              "      <th>3511</th>\n",
              "      <td>149</td>\n",
              "      <td>233558</td>\n",
              "      <td>0.005600</td>\n",
              "      <td>926</td>\n",
              "      <td>0.000020</td>\n",
              "      <td>0.274588</td>\n",
              "      <td>0.048611</td>\n",
              "      <td>3</td>\n",
              "      <td>0.001786</td>\n",
              "      <td>6950000.0</td>\n",
              "      <td>...</td>\n",
              "      <td>0</td>\n",
              "      <td>0</td>\n",
              "      <td>0</td>\n",
              "      <td>0</td>\n",
              "      <td>0</td>\n",
              "      <td>0</td>\n",
              "      <td>0</td>\n",
              "      <td>0</td>\n",
              "      <td>1</td>\n",
              "      <td>0</td>\n",
              "    </tr>\n",
              "    <tr>\n",
              "      <th>5294</th>\n",
              "      <td>149</td>\n",
              "      <td>154960</td>\n",
              "      <td>0.005600</td>\n",
              "      <td>1372</td>\n",
              "      <td>0.000020</td>\n",
              "      <td>0.133126</td>\n",
              "      <td>0.034722</td>\n",
              "      <td>25</td>\n",
              "      <td>0.001786</td>\n",
              "      <td>2195000.0</td>\n",
              "      <td>...</td>\n",
              "      <td>0</td>\n",
              "      <td>0</td>\n",
              "      <td>0</td>\n",
              "      <td>0</td>\n",
              "      <td>0</td>\n",
              "      <td>0</td>\n",
              "      <td>0</td>\n",
              "      <td>0</td>\n",
              "      <td>1</td>\n",
              "      <td>0</td>\n",
              "    </tr>\n",
              "    <tr>\n",
              "      <th>7324</th>\n",
              "      <td>126</td>\n",
              "      <td>114990</td>\n",
              "      <td>0.002667</td>\n",
              "      <td>967</td>\n",
              "      <td>0.000137</td>\n",
              "      <td>0.235468</td>\n",
              "      <td>1.000000</td>\n",
              "      <td>33</td>\n",
              "      <td>0.001786</td>\n",
              "      <td>1590000.0</td>\n",
              "      <td>...</td>\n",
              "      <td>0</td>\n",
              "      <td>0</td>\n",
              "      <td>0</td>\n",
              "      <td>0</td>\n",
              "      <td>0</td>\n",
              "      <td>0</td>\n",
              "      <td>0</td>\n",
              "      <td>0</td>\n",
              "      <td>0</td>\n",
              "      <td>0</td>\n",
              "    </tr>\n",
              "    <tr>\n",
              "      <th>7338</th>\n",
              "      <td>149</td>\n",
              "      <td>156004</td>\n",
              "      <td>0.005600</td>\n",
              "      <td>1915</td>\n",
              "      <td>0.000025</td>\n",
              "      <td>0.060390</td>\n",
              "      <td>0.048611</td>\n",
              "      <td>5</td>\n",
              "      <td>0.001786</td>\n",
              "      <td>8150000.0</td>\n",
              "      <td>...</td>\n",
              "      <td>0</td>\n",
              "      <td>0</td>\n",
              "      <td>0</td>\n",
              "      <td>0</td>\n",
              "      <td>0</td>\n",
              "      <td>0</td>\n",
              "      <td>0</td>\n",
              "      <td>0</td>\n",
              "      <td>0</td>\n",
              "      <td>0</td>\n",
              "    </tr>\n",
              "    <tr>\n",
              "      <th>...</th>\n",
              "      <td>...</td>\n",
              "      <td>...</td>\n",
              "      <td>...</td>\n",
              "      <td>...</td>\n",
              "      <td>...</td>\n",
              "      <td>...</td>\n",
              "      <td>...</td>\n",
              "      <td>...</td>\n",
              "      <td>...</td>\n",
              "      <td>...</td>\n",
              "      <td>...</td>\n",
              "      <td>...</td>\n",
              "      <td>...</td>\n",
              "      <td>...</td>\n",
              "      <td>...</td>\n",
              "      <td>...</td>\n",
              "      <td>...</td>\n",
              "      <td>...</td>\n",
              "      <td>...</td>\n",
              "      <td>...</td>\n",
              "      <td>...</td>\n",
              "    </tr>\n",
              "    <tr>\n",
              "      <th>373599</th>\n",
              "      <td>149</td>\n",
              "      <td>274440</td>\n",
              "      <td>0.005600</td>\n",
              "      <td>1683</td>\n",
              "      <td>0.000032</td>\n",
              "      <td>0.133171</td>\n",
              "      <td>0.034722</td>\n",
              "      <td>25</td>\n",
              "      <td>0.001786</td>\n",
              "      <td>995000.0</td>\n",
              "      <td>...</td>\n",
              "      <td>0</td>\n",
              "      <td>1</td>\n",
              "      <td>0</td>\n",
              "      <td>0</td>\n",
              "      <td>0</td>\n",
              "      <td>0</td>\n",
              "      <td>0</td>\n",
              "      <td>0</td>\n",
              "      <td>1</td>\n",
              "      <td>0</td>\n",
              "    </tr>\n",
              "    <tr>\n",
              "      <th>375044</th>\n",
              "      <td>126</td>\n",
              "      <td>222650</td>\n",
              "      <td>0.005600</td>\n",
              "      <td>1803</td>\n",
              "      <td>0.000053</td>\n",
              "      <td>0.296908</td>\n",
              "      <td>0.020833</td>\n",
              "      <td>37</td>\n",
              "      <td>0.001786</td>\n",
              "      <td>1100000.0</td>\n",
              "      <td>...</td>\n",
              "      <td>0</td>\n",
              "      <td>0</td>\n",
              "      <td>0</td>\n",
              "      <td>0</td>\n",
              "      <td>0</td>\n",
              "      <td>0</td>\n",
              "      <td>0</td>\n",
              "      <td>0</td>\n",
              "      <td>0</td>\n",
              "      <td>0</td>\n",
              "    </tr>\n",
              "    <tr>\n",
              "      <th>375276</th>\n",
              "      <td>149</td>\n",
              "      <td>215988</td>\n",
              "      <td>0.008667</td>\n",
              "      <td>1204</td>\n",
              "      <td>0.000023</td>\n",
              "      <td>0.112251</td>\n",
              "      <td>0.034722</td>\n",
              "      <td>32</td>\n",
              "      <td>0.002232</td>\n",
              "      <td>4950000.0</td>\n",
              "      <td>...</td>\n",
              "      <td>0</td>\n",
              "      <td>0</td>\n",
              "      <td>0</td>\n",
              "      <td>0</td>\n",
              "      <td>0</td>\n",
              "      <td>0</td>\n",
              "      <td>0</td>\n",
              "      <td>0</td>\n",
              "      <td>1</td>\n",
              "      <td>0</td>\n",
              "    </tr>\n",
              "    <tr>\n",
              "      <th>376348</th>\n",
              "      <td>149</td>\n",
              "      <td>100216</td>\n",
              "      <td>0.005600</td>\n",
              "      <td>200</td>\n",
              "      <td>0.000028</td>\n",
              "      <td>0.111714</td>\n",
              "      <td>0.034722</td>\n",
              "      <td>32</td>\n",
              "      <td>0.001786</td>\n",
              "      <td>3950000.0</td>\n",
              "      <td>...</td>\n",
              "      <td>0</td>\n",
              "      <td>0</td>\n",
              "      <td>0</td>\n",
              "      <td>0</td>\n",
              "      <td>0</td>\n",
              "      <td>0</td>\n",
              "      <td>0</td>\n",
              "      <td>0</td>\n",
              "      <td>1</td>\n",
              "      <td>0</td>\n",
              "    </tr>\n",
              "    <tr>\n",
              "      <th>376529</th>\n",
              "      <td>126</td>\n",
              "      <td>227077</td>\n",
              "      <td>0.005600</td>\n",
              "      <td>673</td>\n",
              "      <td>1.000000</td>\n",
              "      <td>0.128950</td>\n",
              "      <td>0.020833</td>\n",
              "      <td>13</td>\n",
              "      <td>0.001786</td>\n",
              "      <td>198000.0</td>\n",
              "      <td>...</td>\n",
              "      <td>0</td>\n",
              "      <td>0</td>\n",
              "      <td>0</td>\n",
              "      <td>0</td>\n",
              "      <td>0</td>\n",
              "      <td>0</td>\n",
              "      <td>0</td>\n",
              "      <td>0</td>\n",
              "      <td>0</td>\n",
              "      <td>0</td>\n",
              "    </tr>\n",
              "  </tbody>\n",
              "</table>\n",
              "<p>218 rows × 38 columns</p>\n",
              "</div>\n",
              "      <button class=\"colab-df-convert\" onclick=\"convertToInteractive('df-339ee429-6ccc-4462-b322-de6701802e5f')\"\n",
              "              title=\"Convert this dataframe to an interactive table.\"\n",
              "              style=\"display:none;\">\n",
              "        \n",
              "  <svg xmlns=\"http://www.w3.org/2000/svg\" height=\"24px\"viewBox=\"0 0 24 24\"\n",
              "       width=\"24px\">\n",
              "    <path d=\"M0 0h24v24H0V0z\" fill=\"none\"/>\n",
              "    <path d=\"M18.56 5.44l.94 2.06.94-2.06 2.06-.94-2.06-.94-.94-2.06-.94 2.06-2.06.94zm-11 1L8.5 8.5l.94-2.06 2.06-.94-2.06-.94L8.5 2.5l-.94 2.06-2.06.94zm10 10l.94 2.06.94-2.06 2.06-.94-2.06-.94-.94-2.06-.94 2.06-2.06.94z\"/><path d=\"M17.41 7.96l-1.37-1.37c-.4-.4-.92-.59-1.43-.59-.52 0-1.04.2-1.43.59L10.3 9.45l-7.72 7.72c-.78.78-.78 2.05 0 2.83L4 21.41c.39.39.9.59 1.41.59.51 0 1.02-.2 1.41-.59l7.78-7.78 2.81-2.81c.8-.78.8-2.07 0-2.86zM5.41 20L4 18.59l7.72-7.72 1.47 1.35L5.41 20z\"/>\n",
              "  </svg>\n",
              "      </button>\n",
              "      \n",
              "  <style>\n",
              "    .colab-df-container {\n",
              "      display:flex;\n",
              "      flex-wrap:wrap;\n",
              "      gap: 12px;\n",
              "    }\n",
              "\n",
              "    .colab-df-convert {\n",
              "      background-color: #E8F0FE;\n",
              "      border: none;\n",
              "      border-radius: 50%;\n",
              "      cursor: pointer;\n",
              "      display: none;\n",
              "      fill: #1967D2;\n",
              "      height: 32px;\n",
              "      padding: 0 0 0 0;\n",
              "      width: 32px;\n",
              "    }\n",
              "\n",
              "    .colab-df-convert:hover {\n",
              "      background-color: #E2EBFA;\n",
              "      box-shadow: 0px 1px 2px rgba(60, 64, 67, 0.3), 0px 1px 3px 1px rgba(60, 64, 67, 0.15);\n",
              "      fill: #174EA6;\n",
              "    }\n",
              "\n",
              "    [theme=dark] .colab-df-convert {\n",
              "      background-color: #3B4455;\n",
              "      fill: #D2E3FC;\n",
              "    }\n",
              "\n",
              "    [theme=dark] .colab-df-convert:hover {\n",
              "      background-color: #434B5C;\n",
              "      box-shadow: 0px 1px 3px 1px rgba(0, 0, 0, 0.15);\n",
              "      filter: drop-shadow(0px 1px 2px rgba(0, 0, 0, 0.3));\n",
              "      fill: #FFFFFF;\n",
              "    }\n",
              "  </style>\n",
              "\n",
              "      <script>\n",
              "        const buttonEl =\n",
              "          document.querySelector('#df-339ee429-6ccc-4462-b322-de6701802e5f button.colab-df-convert');\n",
              "        buttonEl.style.display =\n",
              "          google.colab.kernel.accessAllowed ? 'block' : 'none';\n",
              "\n",
              "        async function convertToInteractive(key) {\n",
              "          const element = document.querySelector('#df-339ee429-6ccc-4462-b322-de6701802e5f');\n",
              "          const dataTable =\n",
              "            await google.colab.kernel.invokeFunction('convertToInteractive',\n",
              "                                                     [key], {});\n",
              "          if (!dataTable) return;\n",
              "\n",
              "          const docLinkHtml = 'Like what you see? Visit the ' +\n",
              "            '<a target=\"_blank\" href=https://colab.research.google.com/notebooks/data_table.ipynb>data table notebook</a>'\n",
              "            + ' to learn more about interactive tables.';\n",
              "          element.innerHTML = '';\n",
              "          dataTable['output_type'] = 'display_data';\n",
              "          await google.colab.output.renderOutput(dataTable, element);\n",
              "          const docLink = document.createElement('div');\n",
              "          docLink.innerHTML = docLinkHtml;\n",
              "          element.appendChild(docLink);\n",
              "        }\n",
              "      </script>\n",
              "    </div>\n",
              "  </div>\n",
              "  "
            ]
          },
          "metadata": {},
          "execution_count": 92
        }
      ],
      "source": [
        "lower_bound = data.sqft.quantile(q=0.025)\n",
        "upper_bound = data.sqft.quantile(q=0.975)\n",
        "data[(data.sqft < lower_bound) | (data.sqft > upper_bound)]"
      ]
    },
    {
      "cell_type": "code",
      "execution_count": 93,
      "metadata": {
        "colab": {
          "base_uri": "https://localhost:8080/"
        },
        "id": "y4BSqUXSOPml",
        "outputId": "cc6f2664-e5c4-4ec7-ebce-76d1f7e1c1df"
      },
      "outputs": [
        {
          "output_type": "stream",
          "name": "stderr",
          "text": [
            "/usr/local/lib/python3.7/dist-packages/pandas/core/frame.py:4913: SettingWithCopyWarning: \n",
            "A value is trying to be set on a copy of a slice from a DataFrame\n",
            "\n",
            "See the caveats in the documentation: https://pandas.pydata.org/pandas-docs/stable/user_guide/indexing.html#returning-a-view-versus-a-copy\n",
            "  errors=errors,\n"
          ]
        }
      ],
      "source": [
        "data[(data.sqft < lower_bound) | (data.sqft > upper_bound)].drop(axis=0, columns='sqft', inplace=True)\n"
      ]
    },
    {
      "cell_type": "code",
      "execution_count": 94,
      "metadata": {
        "colab": {
          "base_uri": "https://localhost:8080/",
          "height": 505
        },
        "id": "hVlZnMANd5Iz",
        "outputId": "2281d466-1cd3-49d4-8511-39de62314e82"
      },
      "outputs": [
        {
          "output_type": "execute_result",
          "data": {
            "text/plain": [
              "        propertyType  street     baths  city      sqft   zipcode      beds  \\\n",
              "3354             126   79900  0.024000  1031  0.000026  0.271637  0.222222   \n",
              "3511             149  233558  0.005600   926  0.000020  0.274588  0.048611   \n",
              "5294             149  154960  0.005600  1372  0.000020  0.133126  0.034722   \n",
              "7324             126  114990  0.002667   967  0.000137  0.235468  1.000000   \n",
              "7338             149  156004  0.005600  1915  0.000025  0.060390  0.048611   \n",
              "...              ...     ...       ...   ...       ...       ...       ...   \n",
              "373599           149  274440  0.005600  1683  0.000032  0.133171  0.034722   \n",
              "375044           126  222650  0.005600  1803  0.000053  0.296908  0.020833   \n",
              "375276           149  215988  0.008667  1204  0.000023  0.112251  0.034722   \n",
              "376348           149  100216  0.005600   200  0.000028  0.111714  0.034722   \n",
              "376529           126  227077  0.005600   673  1.000000  0.128950  0.020833   \n",
              "\n",
              "        state   stories  new_target  ...  status_option  status_pending  \\\n",
              "3354        3  0.001786   3600000.0  ...              0               0   \n",
              "3511        3  0.001786   6950000.0  ...              0               0   \n",
              "5294       25  0.001786   2195000.0  ...              0               0   \n",
              "7324       33  0.001786   1590000.0  ...              0               0   \n",
              "7338        5  0.001786   8150000.0  ...              0               0   \n",
              "...       ...       ...         ...  ...            ...             ...   \n",
              "373599     25  0.001786    995000.0  ...              0               1   \n",
              "375044     37  0.001786   1100000.0  ...              0               0   \n",
              "375276     32  0.002232   4950000.0  ...              0               0   \n",
              "376348     32  0.001786   3950000.0  ...              0               0   \n",
              "376529     13  0.001786    198000.0  ...              0               0   \n",
              "\n",
              "        status_pending,  status_pf  status_price change  status_reactivated  \\\n",
              "3354                  0          0                    0                   0   \n",
              "3511                  0          0                    0                   0   \n",
              "5294                  0          0                    0                   0   \n",
              "7324                  0          0                    0                   0   \n",
              "7338                  0          0                    0                   0   \n",
              "...                 ...        ...                  ...                 ...   \n",
              "373599                0          0                    0                   0   \n",
              "375044                0          0                    0                   0   \n",
              "375276                0          0                    0                   0   \n",
              "376348                0          0                    0                   0   \n",
              "376529                0          0                    0                   0   \n",
              "\n",
              "        status_temporary  status_under  fireplace_yes  PrivatePool_yes  \n",
              "3354                   0             0              0                0  \n",
              "3511                   0             0              1                0  \n",
              "5294                   0             0              1                0  \n",
              "7324                   0             0              0                0  \n",
              "7338                   0             0              0                0  \n",
              "...                  ...           ...            ...              ...  \n",
              "373599                 0             0              1                0  \n",
              "375044                 0             0              0                0  \n",
              "375276                 0             0              1                0  \n",
              "376348                 0             0              1                0  \n",
              "376529                 0             0              0                0  \n",
              "\n",
              "[218 rows x 38 columns]"
            ],
            "text/html": [
              "\n",
              "  <div id=\"df-9b7149a9-9e06-4de4-b05a-b63615b0c778\">\n",
              "    <div class=\"colab-df-container\">\n",
              "      <div>\n",
              "<style scoped>\n",
              "    .dataframe tbody tr th:only-of-type {\n",
              "        vertical-align: middle;\n",
              "    }\n",
              "\n",
              "    .dataframe tbody tr th {\n",
              "        vertical-align: top;\n",
              "    }\n",
              "\n",
              "    .dataframe thead th {\n",
              "        text-align: right;\n",
              "    }\n",
              "</style>\n",
              "<table border=\"1\" class=\"dataframe\">\n",
              "  <thead>\n",
              "    <tr style=\"text-align: right;\">\n",
              "      <th></th>\n",
              "      <th>propertyType</th>\n",
              "      <th>street</th>\n",
              "      <th>baths</th>\n",
              "      <th>city</th>\n",
              "      <th>sqft</th>\n",
              "      <th>zipcode</th>\n",
              "      <th>beds</th>\n",
              "      <th>state</th>\n",
              "      <th>stories</th>\n",
              "      <th>new_target</th>\n",
              "      <th>...</th>\n",
              "      <th>status_option</th>\n",
              "      <th>status_pending</th>\n",
              "      <th>status_pending,</th>\n",
              "      <th>status_pf</th>\n",
              "      <th>status_price change</th>\n",
              "      <th>status_reactivated</th>\n",
              "      <th>status_temporary</th>\n",
              "      <th>status_under</th>\n",
              "      <th>fireplace_yes</th>\n",
              "      <th>PrivatePool_yes</th>\n",
              "    </tr>\n",
              "  </thead>\n",
              "  <tbody>\n",
              "    <tr>\n",
              "      <th>3354</th>\n",
              "      <td>126</td>\n",
              "      <td>79900</td>\n",
              "      <td>0.024000</td>\n",
              "      <td>1031</td>\n",
              "      <td>0.000026</td>\n",
              "      <td>0.271637</td>\n",
              "      <td>0.222222</td>\n",
              "      <td>3</td>\n",
              "      <td>0.001786</td>\n",
              "      <td>3600000.0</td>\n",
              "      <td>...</td>\n",
              "      <td>0</td>\n",
              "      <td>0</td>\n",
              "      <td>0</td>\n",
              "      <td>0</td>\n",
              "      <td>0</td>\n",
              "      <td>0</td>\n",
              "      <td>0</td>\n",
              "      <td>0</td>\n",
              "      <td>0</td>\n",
              "      <td>0</td>\n",
              "    </tr>\n",
              "    <tr>\n",
              "      <th>3511</th>\n",
              "      <td>149</td>\n",
              "      <td>233558</td>\n",
              "      <td>0.005600</td>\n",
              "      <td>926</td>\n",
              "      <td>0.000020</td>\n",
              "      <td>0.274588</td>\n",
              "      <td>0.048611</td>\n",
              "      <td>3</td>\n",
              "      <td>0.001786</td>\n",
              "      <td>6950000.0</td>\n",
              "      <td>...</td>\n",
              "      <td>0</td>\n",
              "      <td>0</td>\n",
              "      <td>0</td>\n",
              "      <td>0</td>\n",
              "      <td>0</td>\n",
              "      <td>0</td>\n",
              "      <td>0</td>\n",
              "      <td>0</td>\n",
              "      <td>1</td>\n",
              "      <td>0</td>\n",
              "    </tr>\n",
              "    <tr>\n",
              "      <th>5294</th>\n",
              "      <td>149</td>\n",
              "      <td>154960</td>\n",
              "      <td>0.005600</td>\n",
              "      <td>1372</td>\n",
              "      <td>0.000020</td>\n",
              "      <td>0.133126</td>\n",
              "      <td>0.034722</td>\n",
              "      <td>25</td>\n",
              "      <td>0.001786</td>\n",
              "      <td>2195000.0</td>\n",
              "      <td>...</td>\n",
              "      <td>0</td>\n",
              "      <td>0</td>\n",
              "      <td>0</td>\n",
              "      <td>0</td>\n",
              "      <td>0</td>\n",
              "      <td>0</td>\n",
              "      <td>0</td>\n",
              "      <td>0</td>\n",
              "      <td>1</td>\n",
              "      <td>0</td>\n",
              "    </tr>\n",
              "    <tr>\n",
              "      <th>7324</th>\n",
              "      <td>126</td>\n",
              "      <td>114990</td>\n",
              "      <td>0.002667</td>\n",
              "      <td>967</td>\n",
              "      <td>0.000137</td>\n",
              "      <td>0.235468</td>\n",
              "      <td>1.000000</td>\n",
              "      <td>33</td>\n",
              "      <td>0.001786</td>\n",
              "      <td>1590000.0</td>\n",
              "      <td>...</td>\n",
              "      <td>0</td>\n",
              "      <td>0</td>\n",
              "      <td>0</td>\n",
              "      <td>0</td>\n",
              "      <td>0</td>\n",
              "      <td>0</td>\n",
              "      <td>0</td>\n",
              "      <td>0</td>\n",
              "      <td>0</td>\n",
              "      <td>0</td>\n",
              "    </tr>\n",
              "    <tr>\n",
              "      <th>7338</th>\n",
              "      <td>149</td>\n",
              "      <td>156004</td>\n",
              "      <td>0.005600</td>\n",
              "      <td>1915</td>\n",
              "      <td>0.000025</td>\n",
              "      <td>0.060390</td>\n",
              "      <td>0.048611</td>\n",
              "      <td>5</td>\n",
              "      <td>0.001786</td>\n",
              "      <td>8150000.0</td>\n",
              "      <td>...</td>\n",
              "      <td>0</td>\n",
              "      <td>0</td>\n",
              "      <td>0</td>\n",
              "      <td>0</td>\n",
              "      <td>0</td>\n",
              "      <td>0</td>\n",
              "      <td>0</td>\n",
              "      <td>0</td>\n",
              "      <td>0</td>\n",
              "      <td>0</td>\n",
              "    </tr>\n",
              "    <tr>\n",
              "      <th>...</th>\n",
              "      <td>...</td>\n",
              "      <td>...</td>\n",
              "      <td>...</td>\n",
              "      <td>...</td>\n",
              "      <td>...</td>\n",
              "      <td>...</td>\n",
              "      <td>...</td>\n",
              "      <td>...</td>\n",
              "      <td>...</td>\n",
              "      <td>...</td>\n",
              "      <td>...</td>\n",
              "      <td>...</td>\n",
              "      <td>...</td>\n",
              "      <td>...</td>\n",
              "      <td>...</td>\n",
              "      <td>...</td>\n",
              "      <td>...</td>\n",
              "      <td>...</td>\n",
              "      <td>...</td>\n",
              "      <td>...</td>\n",
              "      <td>...</td>\n",
              "    </tr>\n",
              "    <tr>\n",
              "      <th>373599</th>\n",
              "      <td>149</td>\n",
              "      <td>274440</td>\n",
              "      <td>0.005600</td>\n",
              "      <td>1683</td>\n",
              "      <td>0.000032</td>\n",
              "      <td>0.133171</td>\n",
              "      <td>0.034722</td>\n",
              "      <td>25</td>\n",
              "      <td>0.001786</td>\n",
              "      <td>995000.0</td>\n",
              "      <td>...</td>\n",
              "      <td>0</td>\n",
              "      <td>1</td>\n",
              "      <td>0</td>\n",
              "      <td>0</td>\n",
              "      <td>0</td>\n",
              "      <td>0</td>\n",
              "      <td>0</td>\n",
              "      <td>0</td>\n",
              "      <td>1</td>\n",
              "      <td>0</td>\n",
              "    </tr>\n",
              "    <tr>\n",
              "      <th>375044</th>\n",
              "      <td>126</td>\n",
              "      <td>222650</td>\n",
              "      <td>0.005600</td>\n",
              "      <td>1803</td>\n",
              "      <td>0.000053</td>\n",
              "      <td>0.296908</td>\n",
              "      <td>0.020833</td>\n",
              "      <td>37</td>\n",
              "      <td>0.001786</td>\n",
              "      <td>1100000.0</td>\n",
              "      <td>...</td>\n",
              "      <td>0</td>\n",
              "      <td>0</td>\n",
              "      <td>0</td>\n",
              "      <td>0</td>\n",
              "      <td>0</td>\n",
              "      <td>0</td>\n",
              "      <td>0</td>\n",
              "      <td>0</td>\n",
              "      <td>0</td>\n",
              "      <td>0</td>\n",
              "    </tr>\n",
              "    <tr>\n",
              "      <th>375276</th>\n",
              "      <td>149</td>\n",
              "      <td>215988</td>\n",
              "      <td>0.008667</td>\n",
              "      <td>1204</td>\n",
              "      <td>0.000023</td>\n",
              "      <td>0.112251</td>\n",
              "      <td>0.034722</td>\n",
              "      <td>32</td>\n",
              "      <td>0.002232</td>\n",
              "      <td>4950000.0</td>\n",
              "      <td>...</td>\n",
              "      <td>0</td>\n",
              "      <td>0</td>\n",
              "      <td>0</td>\n",
              "      <td>0</td>\n",
              "      <td>0</td>\n",
              "      <td>0</td>\n",
              "      <td>0</td>\n",
              "      <td>0</td>\n",
              "      <td>1</td>\n",
              "      <td>0</td>\n",
              "    </tr>\n",
              "    <tr>\n",
              "      <th>376348</th>\n",
              "      <td>149</td>\n",
              "      <td>100216</td>\n",
              "      <td>0.005600</td>\n",
              "      <td>200</td>\n",
              "      <td>0.000028</td>\n",
              "      <td>0.111714</td>\n",
              "      <td>0.034722</td>\n",
              "      <td>32</td>\n",
              "      <td>0.001786</td>\n",
              "      <td>3950000.0</td>\n",
              "      <td>...</td>\n",
              "      <td>0</td>\n",
              "      <td>0</td>\n",
              "      <td>0</td>\n",
              "      <td>0</td>\n",
              "      <td>0</td>\n",
              "      <td>0</td>\n",
              "      <td>0</td>\n",
              "      <td>0</td>\n",
              "      <td>1</td>\n",
              "      <td>0</td>\n",
              "    </tr>\n",
              "    <tr>\n",
              "      <th>376529</th>\n",
              "      <td>126</td>\n",
              "      <td>227077</td>\n",
              "      <td>0.005600</td>\n",
              "      <td>673</td>\n",
              "      <td>1.000000</td>\n",
              "      <td>0.128950</td>\n",
              "      <td>0.020833</td>\n",
              "      <td>13</td>\n",
              "      <td>0.001786</td>\n",
              "      <td>198000.0</td>\n",
              "      <td>...</td>\n",
              "      <td>0</td>\n",
              "      <td>0</td>\n",
              "      <td>0</td>\n",
              "      <td>0</td>\n",
              "      <td>0</td>\n",
              "      <td>0</td>\n",
              "      <td>0</td>\n",
              "      <td>0</td>\n",
              "      <td>0</td>\n",
              "      <td>0</td>\n",
              "    </tr>\n",
              "  </tbody>\n",
              "</table>\n",
              "<p>218 rows × 38 columns</p>\n",
              "</div>\n",
              "      <button class=\"colab-df-convert\" onclick=\"convertToInteractive('df-9b7149a9-9e06-4de4-b05a-b63615b0c778')\"\n",
              "              title=\"Convert this dataframe to an interactive table.\"\n",
              "              style=\"display:none;\">\n",
              "        \n",
              "  <svg xmlns=\"http://www.w3.org/2000/svg\" height=\"24px\"viewBox=\"0 0 24 24\"\n",
              "       width=\"24px\">\n",
              "    <path d=\"M0 0h24v24H0V0z\" fill=\"none\"/>\n",
              "    <path d=\"M18.56 5.44l.94 2.06.94-2.06 2.06-.94-2.06-.94-.94-2.06-.94 2.06-2.06.94zm-11 1L8.5 8.5l.94-2.06 2.06-.94-2.06-.94L8.5 2.5l-.94 2.06-2.06.94zm10 10l.94 2.06.94-2.06 2.06-.94-2.06-.94-.94-2.06-.94 2.06-2.06.94z\"/><path d=\"M17.41 7.96l-1.37-1.37c-.4-.4-.92-.59-1.43-.59-.52 0-1.04.2-1.43.59L10.3 9.45l-7.72 7.72c-.78.78-.78 2.05 0 2.83L4 21.41c.39.39.9.59 1.41.59.51 0 1.02-.2 1.41-.59l7.78-7.78 2.81-2.81c.8-.78.8-2.07 0-2.86zM5.41 20L4 18.59l7.72-7.72 1.47 1.35L5.41 20z\"/>\n",
              "  </svg>\n",
              "      </button>\n",
              "      \n",
              "  <style>\n",
              "    .colab-df-container {\n",
              "      display:flex;\n",
              "      flex-wrap:wrap;\n",
              "      gap: 12px;\n",
              "    }\n",
              "\n",
              "    .colab-df-convert {\n",
              "      background-color: #E8F0FE;\n",
              "      border: none;\n",
              "      border-radius: 50%;\n",
              "      cursor: pointer;\n",
              "      display: none;\n",
              "      fill: #1967D2;\n",
              "      height: 32px;\n",
              "      padding: 0 0 0 0;\n",
              "      width: 32px;\n",
              "    }\n",
              "\n",
              "    .colab-df-convert:hover {\n",
              "      background-color: #E2EBFA;\n",
              "      box-shadow: 0px 1px 2px rgba(60, 64, 67, 0.3), 0px 1px 3px 1px rgba(60, 64, 67, 0.15);\n",
              "      fill: #174EA6;\n",
              "    }\n",
              "\n",
              "    [theme=dark] .colab-df-convert {\n",
              "      background-color: #3B4455;\n",
              "      fill: #D2E3FC;\n",
              "    }\n",
              "\n",
              "    [theme=dark] .colab-df-convert:hover {\n",
              "      background-color: #434B5C;\n",
              "      box-shadow: 0px 1px 3px 1px rgba(0, 0, 0, 0.15);\n",
              "      filter: drop-shadow(0px 1px 2px rgba(0, 0, 0, 0.3));\n",
              "      fill: #FFFFFF;\n",
              "    }\n",
              "  </style>\n",
              "\n",
              "      <script>\n",
              "        const buttonEl =\n",
              "          document.querySelector('#df-9b7149a9-9e06-4de4-b05a-b63615b0c778 button.colab-df-convert');\n",
              "        buttonEl.style.display =\n",
              "          google.colab.kernel.accessAllowed ? 'block' : 'none';\n",
              "\n",
              "        async function convertToInteractive(key) {\n",
              "          const element = document.querySelector('#df-9b7149a9-9e06-4de4-b05a-b63615b0c778');\n",
              "          const dataTable =\n",
              "            await google.colab.kernel.invokeFunction('convertToInteractive',\n",
              "                                                     [key], {});\n",
              "          if (!dataTable) return;\n",
              "\n",
              "          const docLinkHtml = 'Like what you see? Visit the ' +\n",
              "            '<a target=\"_blank\" href=https://colab.research.google.com/notebooks/data_table.ipynb>data table notebook</a>'\n",
              "            + ' to learn more about interactive tables.';\n",
              "          element.innerHTML = '';\n",
              "          dataTable['output_type'] = 'display_data';\n",
              "          await google.colab.output.renderOutput(dataTable, element);\n",
              "          const docLink = document.createElement('div');\n",
              "          docLink.innerHTML = docLinkHtml;\n",
              "          element.appendChild(docLink);\n",
              "        }\n",
              "      </script>\n",
              "    </div>\n",
              "  </div>\n",
              "  "
            ]
          },
          "metadata": {},
          "execution_count": 94
        }
      ],
      "source": [
        "data[(data.sqft < lower_bound) | (data.sqft > upper_bound)]"
      ]
    },
    {
      "cell_type": "markdown",
      "metadata": {
        "id": "8XpXl1mNF7uk"
      },
      "source": [
        "### zipcode"
      ]
    },
    {
      "cell_type": "code",
      "execution_count": 95,
      "metadata": {
        "colab": {
          "base_uri": "https://localhost:8080/",
          "height": 505
        },
        "id": "kryVag_fF-Mg",
        "outputId": "23e53563-d092-46e8-c135-79b23c83b318"
      },
      "outputs": [
        {
          "output_type": "execute_result",
          "data": {
            "text/plain": [
              "        propertyType  street     baths  city      sqft   zipcode      beds  \\\n",
              "1                150   43403  0.005600  1715  0.000020  0.299343  0.020833   \n",
              "17               167  124771  0.005600  1226  0.000020  0.030252  0.020833   \n",
              "42               130  324918  0.005600  1226  0.000020  0.030189  0.020833   \n",
              "69               149  134145  0.002667   958  0.000005  0.026252  0.013889   \n",
              "78                40  168245  0.005600   182  0.000020  0.006417  0.020833   \n",
              "...              ...     ...       ...   ...       ...       ...       ...   \n",
              "377044            40  260741  0.002667   182  0.000020  0.006390  0.020833   \n",
              "377062            42  185573  0.004667   958  0.000007  0.026252  0.034722   \n",
              "377088           150  219118  0.005600  2004  0.000020  0.298392  0.020833   \n",
              "377108            40  255894  0.005600   182  0.000020  0.006429  0.020833   \n",
              "377155           150    6284  0.005600  1637  0.000020  0.296075  0.020833   \n",
              "\n",
              "        state   stories  new_target  ...  status_option  status_pending  \\\n",
              "1          37  0.001786    310000.0  ...              0               0   \n",
              "17         24  0.001786   2650000.0  ...              0               0   \n",
              "42         24  0.001786    850000.0  ...              0               0   \n",
              "69         22  0.000893    269000.0  ...              0               0   \n",
              "78         14  0.001786    916900.0  ...              0               0   \n",
              "...       ...       ...         ...  ...            ...             ...   \n",
              "377044     14  0.000893   1450000.0  ...              0               0   \n",
              "377062     22  0.002679    569900.0  ...              0               0   \n",
              "377088     37  0.001786    299900.0  ...              0               0   \n",
              "377108     14  0.001786    399000.0  ...              0               0   \n",
              "377155     37  0.001786    725000.0  ...              0               0   \n",
              "\n",
              "        status_pending,  status_pf  status_price change  status_reactivated  \\\n",
              "1                     0          0                    0                   0   \n",
              "17                    0          0                    0                   0   \n",
              "42                    0          0                    0                   0   \n",
              "69                    0          0                    0                   0   \n",
              "78                    0          0                    0                   0   \n",
              "...                 ...        ...                  ...                 ...   \n",
              "377044                0          0                    0                   0   \n",
              "377062                0          0                    0                   0   \n",
              "377088                0          0                    0                   0   \n",
              "377108                0          0                    0                   0   \n",
              "377155                0          0                    0                   0   \n",
              "\n",
              "        status_temporary  status_under  fireplace_yes  PrivatePool_yes  \n",
              "1                      0             0              0                0  \n",
              "17                     0             0              0                0  \n",
              "42                     0             0              0                0  \n",
              "69                     0             0              0                0  \n",
              "78                     0             0              0                0  \n",
              "...                  ...           ...            ...              ...  \n",
              "377044                 0             0              0                0  \n",
              "377062                 0             0              0                0  \n",
              "377088                 0             0              1                0  \n",
              "377108                 0             0              0                0  \n",
              "377155                 0             0              0                0  \n",
              "\n",
              "[18533 rows x 38 columns]"
            ],
            "text/html": [
              "\n",
              "  <div id=\"df-9e85669c-bdc4-4cdd-95c4-c51301ca9b07\">\n",
              "    <div class=\"colab-df-container\">\n",
              "      <div>\n",
              "<style scoped>\n",
              "    .dataframe tbody tr th:only-of-type {\n",
              "        vertical-align: middle;\n",
              "    }\n",
              "\n",
              "    .dataframe tbody tr th {\n",
              "        vertical-align: top;\n",
              "    }\n",
              "\n",
              "    .dataframe thead th {\n",
              "        text-align: right;\n",
              "    }\n",
              "</style>\n",
              "<table border=\"1\" class=\"dataframe\">\n",
              "  <thead>\n",
              "    <tr style=\"text-align: right;\">\n",
              "      <th></th>\n",
              "      <th>propertyType</th>\n",
              "      <th>street</th>\n",
              "      <th>baths</th>\n",
              "      <th>city</th>\n",
              "      <th>sqft</th>\n",
              "      <th>zipcode</th>\n",
              "      <th>beds</th>\n",
              "      <th>state</th>\n",
              "      <th>stories</th>\n",
              "      <th>new_target</th>\n",
              "      <th>...</th>\n",
              "      <th>status_option</th>\n",
              "      <th>status_pending</th>\n",
              "      <th>status_pending,</th>\n",
              "      <th>status_pf</th>\n",
              "      <th>status_price change</th>\n",
              "      <th>status_reactivated</th>\n",
              "      <th>status_temporary</th>\n",
              "      <th>status_under</th>\n",
              "      <th>fireplace_yes</th>\n",
              "      <th>PrivatePool_yes</th>\n",
              "    </tr>\n",
              "  </thead>\n",
              "  <tbody>\n",
              "    <tr>\n",
              "      <th>1</th>\n",
              "      <td>150</td>\n",
              "      <td>43403</td>\n",
              "      <td>0.005600</td>\n",
              "      <td>1715</td>\n",
              "      <td>0.000020</td>\n",
              "      <td>0.299343</td>\n",
              "      <td>0.020833</td>\n",
              "      <td>37</td>\n",
              "      <td>0.001786</td>\n",
              "      <td>310000.0</td>\n",
              "      <td>...</td>\n",
              "      <td>0</td>\n",
              "      <td>0</td>\n",
              "      <td>0</td>\n",
              "      <td>0</td>\n",
              "      <td>0</td>\n",
              "      <td>0</td>\n",
              "      <td>0</td>\n",
              "      <td>0</td>\n",
              "      <td>0</td>\n",
              "      <td>0</td>\n",
              "    </tr>\n",
              "    <tr>\n",
              "      <th>17</th>\n",
              "      <td>167</td>\n",
              "      <td>124771</td>\n",
              "      <td>0.005600</td>\n",
              "      <td>1226</td>\n",
              "      <td>0.000020</td>\n",
              "      <td>0.030252</td>\n",
              "      <td>0.020833</td>\n",
              "      <td>24</td>\n",
              "      <td>0.001786</td>\n",
              "      <td>2650000.0</td>\n",
              "      <td>...</td>\n",
              "      <td>0</td>\n",
              "      <td>0</td>\n",
              "      <td>0</td>\n",
              "      <td>0</td>\n",
              "      <td>0</td>\n",
              "      <td>0</td>\n",
              "      <td>0</td>\n",
              "      <td>0</td>\n",
              "      <td>0</td>\n",
              "      <td>0</td>\n",
              "    </tr>\n",
              "    <tr>\n",
              "      <th>42</th>\n",
              "      <td>130</td>\n",
              "      <td>324918</td>\n",
              "      <td>0.005600</td>\n",
              "      <td>1226</td>\n",
              "      <td>0.000020</td>\n",
              "      <td>0.030189</td>\n",
              "      <td>0.020833</td>\n",
              "      <td>24</td>\n",
              "      <td>0.001786</td>\n",
              "      <td>850000.0</td>\n",
              "      <td>...</td>\n",
              "      <td>0</td>\n",
              "      <td>0</td>\n",
              "      <td>0</td>\n",
              "      <td>0</td>\n",
              "      <td>0</td>\n",
              "      <td>0</td>\n",
              "      <td>0</td>\n",
              "      <td>0</td>\n",
              "      <td>0</td>\n",
              "      <td>0</td>\n",
              "    </tr>\n",
              "    <tr>\n",
              "      <th>69</th>\n",
              "      <td>149</td>\n",
              "      <td>134145</td>\n",
              "      <td>0.002667</td>\n",
              "      <td>958</td>\n",
              "      <td>0.000005</td>\n",
              "      <td>0.026252</td>\n",
              "      <td>0.013889</td>\n",
              "      <td>22</td>\n",
              "      <td>0.000893</td>\n",
              "      <td>269000.0</td>\n",
              "      <td>...</td>\n",
              "      <td>0</td>\n",
              "      <td>0</td>\n",
              "      <td>0</td>\n",
              "      <td>0</td>\n",
              "      <td>0</td>\n",
              "      <td>0</td>\n",
              "      <td>0</td>\n",
              "      <td>0</td>\n",
              "      <td>0</td>\n",
              "      <td>0</td>\n",
              "    </tr>\n",
              "    <tr>\n",
              "      <th>78</th>\n",
              "      <td>40</td>\n",
              "      <td>168245</td>\n",
              "      <td>0.005600</td>\n",
              "      <td>182</td>\n",
              "      <td>0.000020</td>\n",
              "      <td>0.006417</td>\n",
              "      <td>0.020833</td>\n",
              "      <td>14</td>\n",
              "      <td>0.001786</td>\n",
              "      <td>916900.0</td>\n",
              "      <td>...</td>\n",
              "      <td>0</td>\n",
              "      <td>0</td>\n",
              "      <td>0</td>\n",
              "      <td>0</td>\n",
              "      <td>0</td>\n",
              "      <td>0</td>\n",
              "      <td>0</td>\n",
              "      <td>0</td>\n",
              "      <td>0</td>\n",
              "      <td>0</td>\n",
              "    </tr>\n",
              "    <tr>\n",
              "      <th>...</th>\n",
              "      <td>...</td>\n",
              "      <td>...</td>\n",
              "      <td>...</td>\n",
              "      <td>...</td>\n",
              "      <td>...</td>\n",
              "      <td>...</td>\n",
              "      <td>...</td>\n",
              "      <td>...</td>\n",
              "      <td>...</td>\n",
              "      <td>...</td>\n",
              "      <td>...</td>\n",
              "      <td>...</td>\n",
              "      <td>...</td>\n",
              "      <td>...</td>\n",
              "      <td>...</td>\n",
              "      <td>...</td>\n",
              "      <td>...</td>\n",
              "      <td>...</td>\n",
              "      <td>...</td>\n",
              "      <td>...</td>\n",
              "      <td>...</td>\n",
              "    </tr>\n",
              "    <tr>\n",
              "      <th>377044</th>\n",
              "      <td>40</td>\n",
              "      <td>260741</td>\n",
              "      <td>0.002667</td>\n",
              "      <td>182</td>\n",
              "      <td>0.000020</td>\n",
              "      <td>0.006390</td>\n",
              "      <td>0.020833</td>\n",
              "      <td>14</td>\n",
              "      <td>0.000893</td>\n",
              "      <td>1450000.0</td>\n",
              "      <td>...</td>\n",
              "      <td>0</td>\n",
              "      <td>0</td>\n",
              "      <td>0</td>\n",
              "      <td>0</td>\n",
              "      <td>0</td>\n",
              "      <td>0</td>\n",
              "      <td>0</td>\n",
              "      <td>0</td>\n",
              "      <td>0</td>\n",
              "      <td>0</td>\n",
              "    </tr>\n",
              "    <tr>\n",
              "      <th>377062</th>\n",
              "      <td>42</td>\n",
              "      <td>185573</td>\n",
              "      <td>0.004667</td>\n",
              "      <td>958</td>\n",
              "      <td>0.000007</td>\n",
              "      <td>0.026252</td>\n",
              "      <td>0.034722</td>\n",
              "      <td>22</td>\n",
              "      <td>0.002679</td>\n",
              "      <td>569900.0</td>\n",
              "      <td>...</td>\n",
              "      <td>0</td>\n",
              "      <td>0</td>\n",
              "      <td>0</td>\n",
              "      <td>0</td>\n",
              "      <td>0</td>\n",
              "      <td>0</td>\n",
              "      <td>0</td>\n",
              "      <td>0</td>\n",
              "      <td>0</td>\n",
              "      <td>0</td>\n",
              "    </tr>\n",
              "    <tr>\n",
              "      <th>377088</th>\n",
              "      <td>150</td>\n",
              "      <td>219118</td>\n",
              "      <td>0.005600</td>\n",
              "      <td>2004</td>\n",
              "      <td>0.000020</td>\n",
              "      <td>0.298392</td>\n",
              "      <td>0.020833</td>\n",
              "      <td>37</td>\n",
              "      <td>0.001786</td>\n",
              "      <td>299900.0</td>\n",
              "      <td>...</td>\n",
              "      <td>0</td>\n",
              "      <td>0</td>\n",
              "      <td>0</td>\n",
              "      <td>0</td>\n",
              "      <td>0</td>\n",
              "      <td>0</td>\n",
              "      <td>0</td>\n",
              "      <td>0</td>\n",
              "      <td>1</td>\n",
              "      <td>0</td>\n",
              "    </tr>\n",
              "    <tr>\n",
              "      <th>377108</th>\n",
              "      <td>40</td>\n",
              "      <td>255894</td>\n",
              "      <td>0.005600</td>\n",
              "      <td>182</td>\n",
              "      <td>0.000020</td>\n",
              "      <td>0.006429</td>\n",
              "      <td>0.020833</td>\n",
              "      <td>14</td>\n",
              "      <td>0.001786</td>\n",
              "      <td>399000.0</td>\n",
              "      <td>...</td>\n",
              "      <td>0</td>\n",
              "      <td>0</td>\n",
              "      <td>0</td>\n",
              "      <td>0</td>\n",
              "      <td>0</td>\n",
              "      <td>0</td>\n",
              "      <td>0</td>\n",
              "      <td>0</td>\n",
              "      <td>0</td>\n",
              "      <td>0</td>\n",
              "    </tr>\n",
              "    <tr>\n",
              "      <th>377155</th>\n",
              "      <td>150</td>\n",
              "      <td>6284</td>\n",
              "      <td>0.005600</td>\n",
              "      <td>1637</td>\n",
              "      <td>0.000020</td>\n",
              "      <td>0.296075</td>\n",
              "      <td>0.020833</td>\n",
              "      <td>37</td>\n",
              "      <td>0.001786</td>\n",
              "      <td>725000.0</td>\n",
              "      <td>...</td>\n",
              "      <td>0</td>\n",
              "      <td>0</td>\n",
              "      <td>0</td>\n",
              "      <td>0</td>\n",
              "      <td>0</td>\n",
              "      <td>0</td>\n",
              "      <td>0</td>\n",
              "      <td>0</td>\n",
              "      <td>0</td>\n",
              "      <td>0</td>\n",
              "    </tr>\n",
              "  </tbody>\n",
              "</table>\n",
              "<p>18533 rows × 38 columns</p>\n",
              "</div>\n",
              "      <button class=\"colab-df-convert\" onclick=\"convertToInteractive('df-9e85669c-bdc4-4cdd-95c4-c51301ca9b07')\"\n",
              "              title=\"Convert this dataframe to an interactive table.\"\n",
              "              style=\"display:none;\">\n",
              "        \n",
              "  <svg xmlns=\"http://www.w3.org/2000/svg\" height=\"24px\"viewBox=\"0 0 24 24\"\n",
              "       width=\"24px\">\n",
              "    <path d=\"M0 0h24v24H0V0z\" fill=\"none\"/>\n",
              "    <path d=\"M18.56 5.44l.94 2.06.94-2.06 2.06-.94-2.06-.94-.94-2.06-.94 2.06-2.06.94zm-11 1L8.5 8.5l.94-2.06 2.06-.94-2.06-.94L8.5 2.5l-.94 2.06-2.06.94zm10 10l.94 2.06.94-2.06 2.06-.94-2.06-.94-.94-2.06-.94 2.06-2.06.94z\"/><path d=\"M17.41 7.96l-1.37-1.37c-.4-.4-.92-.59-1.43-.59-.52 0-1.04.2-1.43.59L10.3 9.45l-7.72 7.72c-.78.78-.78 2.05 0 2.83L4 21.41c.39.39.9.59 1.41.59.51 0 1.02-.2 1.41-.59l7.78-7.78 2.81-2.81c.8-.78.8-2.07 0-2.86zM5.41 20L4 18.59l7.72-7.72 1.47 1.35L5.41 20z\"/>\n",
              "  </svg>\n",
              "      </button>\n",
              "      \n",
              "  <style>\n",
              "    .colab-df-container {\n",
              "      display:flex;\n",
              "      flex-wrap:wrap;\n",
              "      gap: 12px;\n",
              "    }\n",
              "\n",
              "    .colab-df-convert {\n",
              "      background-color: #E8F0FE;\n",
              "      border: none;\n",
              "      border-radius: 50%;\n",
              "      cursor: pointer;\n",
              "      display: none;\n",
              "      fill: #1967D2;\n",
              "      height: 32px;\n",
              "      padding: 0 0 0 0;\n",
              "      width: 32px;\n",
              "    }\n",
              "\n",
              "    .colab-df-convert:hover {\n",
              "      background-color: #E2EBFA;\n",
              "      box-shadow: 0px 1px 2px rgba(60, 64, 67, 0.3), 0px 1px 3px 1px rgba(60, 64, 67, 0.15);\n",
              "      fill: #174EA6;\n",
              "    }\n",
              "\n",
              "    [theme=dark] .colab-df-convert {\n",
              "      background-color: #3B4455;\n",
              "      fill: #D2E3FC;\n",
              "    }\n",
              "\n",
              "    [theme=dark] .colab-df-convert:hover {\n",
              "      background-color: #434B5C;\n",
              "      box-shadow: 0px 1px 3px 1px rgba(0, 0, 0, 0.15);\n",
              "      filter: drop-shadow(0px 1px 2px rgba(0, 0, 0, 0.3));\n",
              "      fill: #FFFFFF;\n",
              "    }\n",
              "  </style>\n",
              "\n",
              "      <script>\n",
              "        const buttonEl =\n",
              "          document.querySelector('#df-9e85669c-bdc4-4cdd-95c4-c51301ca9b07 button.colab-df-convert');\n",
              "        buttonEl.style.display =\n",
              "          google.colab.kernel.accessAllowed ? 'block' : 'none';\n",
              "\n",
              "        async function convertToInteractive(key) {\n",
              "          const element = document.querySelector('#df-9e85669c-bdc4-4cdd-95c4-c51301ca9b07');\n",
              "          const dataTable =\n",
              "            await google.colab.kernel.invokeFunction('convertToInteractive',\n",
              "                                                     [key], {});\n",
              "          if (!dataTable) return;\n",
              "\n",
              "          const docLinkHtml = 'Like what you see? Visit the ' +\n",
              "            '<a target=\"_blank\" href=https://colab.research.google.com/notebooks/data_table.ipynb>data table notebook</a>'\n",
              "            + ' to learn more about interactive tables.';\n",
              "          element.innerHTML = '';\n",
              "          dataTable['output_type'] = 'display_data';\n",
              "          await google.colab.output.renderOutput(dataTable, element);\n",
              "          const docLink = document.createElement('div');\n",
              "          docLink.innerHTML = docLinkHtml;\n",
              "          element.appendChild(docLink);\n",
              "        }\n",
              "      </script>\n",
              "    </div>\n",
              "  </div>\n",
              "  "
            ]
          },
          "metadata": {},
          "execution_count": 95
        }
      ],
      "source": [
        "lower_bound = data.zipcode.quantile(q=0.025)\n",
        "upper_bound = data.zipcode.quantile(q=0.975)\n",
        "data[(data.zipcode < lower_bound) | (data.zipcode > upper_bound)]"
      ]
    },
    {
      "cell_type": "code",
      "execution_count": 96,
      "metadata": {
        "colab": {
          "base_uri": "https://localhost:8080/"
        },
        "id": "o2FUEdAEZWrZ",
        "outputId": "990f8df8-345e-4ce3-a5d6-eded872c6d67"
      },
      "outputs": [
        {
          "output_type": "stream",
          "name": "stderr",
          "text": [
            "/usr/local/lib/python3.7/dist-packages/pandas/core/frame.py:4913: SettingWithCopyWarning: \n",
            "A value is trying to be set on a copy of a slice from a DataFrame\n",
            "\n",
            "See the caveats in the documentation: https://pandas.pydata.org/pandas-docs/stable/user_guide/indexing.html#returning-a-view-versus-a-copy\n",
            "  errors=errors,\n"
          ]
        }
      ],
      "source": [
        "data[(data.zipcode > upper_bound)].drop(axis=0, columns='zipcode', inplace=True)"
      ]
    },
    {
      "cell_type": "code",
      "execution_count": 97,
      "metadata": {
        "colab": {
          "base_uri": "https://localhost:8080/",
          "height": 505
        },
        "id": "mhiOhgoseJlM",
        "outputId": "206b531a-5f7b-41e4-e8b9-ee6da4527265"
      },
      "outputs": [
        {
          "output_type": "execute_result",
          "data": {
            "text/plain": [
              "        propertyType  street     baths  city      sqft   zipcode      beds  \\\n",
              "1                150   43403  0.005600  1715  0.000020  0.299343  0.020833   \n",
              "17               167  124771  0.005600  1226  0.000020  0.030252  0.020833   \n",
              "42               130  324918  0.005600  1226  0.000020  0.030189  0.020833   \n",
              "69               149  134145  0.002667   958  0.000005  0.026252  0.013889   \n",
              "78                40  168245  0.005600   182  0.000020  0.006417  0.020833   \n",
              "...              ...     ...       ...   ...       ...       ...       ...   \n",
              "377044            40  260741  0.002667   182  0.000020  0.006390  0.020833   \n",
              "377062            42  185573  0.004667   958  0.000007  0.026252  0.034722   \n",
              "377088           150  219118  0.005600  2004  0.000020  0.298392  0.020833   \n",
              "377108            40  255894  0.005600   182  0.000020  0.006429  0.020833   \n",
              "377155           150    6284  0.005600  1637  0.000020  0.296075  0.020833   \n",
              "\n",
              "        state   stories  new_target  ...  status_option  status_pending  \\\n",
              "1          37  0.001786    310000.0  ...              0               0   \n",
              "17         24  0.001786   2650000.0  ...              0               0   \n",
              "42         24  0.001786    850000.0  ...              0               0   \n",
              "69         22  0.000893    269000.0  ...              0               0   \n",
              "78         14  0.001786    916900.0  ...              0               0   \n",
              "...       ...       ...         ...  ...            ...             ...   \n",
              "377044     14  0.000893   1450000.0  ...              0               0   \n",
              "377062     22  0.002679    569900.0  ...              0               0   \n",
              "377088     37  0.001786    299900.0  ...              0               0   \n",
              "377108     14  0.001786    399000.0  ...              0               0   \n",
              "377155     37  0.001786    725000.0  ...              0               0   \n",
              "\n",
              "        status_pending,  status_pf  status_price change  status_reactivated  \\\n",
              "1                     0          0                    0                   0   \n",
              "17                    0          0                    0                   0   \n",
              "42                    0          0                    0                   0   \n",
              "69                    0          0                    0                   0   \n",
              "78                    0          0                    0                   0   \n",
              "...                 ...        ...                  ...                 ...   \n",
              "377044                0          0                    0                   0   \n",
              "377062                0          0                    0                   0   \n",
              "377088                0          0                    0                   0   \n",
              "377108                0          0                    0                   0   \n",
              "377155                0          0                    0                   0   \n",
              "\n",
              "        status_temporary  status_under  fireplace_yes  PrivatePool_yes  \n",
              "1                      0             0              0                0  \n",
              "17                     0             0              0                0  \n",
              "42                     0             0              0                0  \n",
              "69                     0             0              0                0  \n",
              "78                     0             0              0                0  \n",
              "...                  ...           ...            ...              ...  \n",
              "377044                 0             0              0                0  \n",
              "377062                 0             0              0                0  \n",
              "377088                 0             0              1                0  \n",
              "377108                 0             0              0                0  \n",
              "377155                 0             0              0                0  \n",
              "\n",
              "[18533 rows x 38 columns]"
            ],
            "text/html": [
              "\n",
              "  <div id=\"df-a69453ec-0abf-4b94-9ff3-85bcab25ae47\">\n",
              "    <div class=\"colab-df-container\">\n",
              "      <div>\n",
              "<style scoped>\n",
              "    .dataframe tbody tr th:only-of-type {\n",
              "        vertical-align: middle;\n",
              "    }\n",
              "\n",
              "    .dataframe tbody tr th {\n",
              "        vertical-align: top;\n",
              "    }\n",
              "\n",
              "    .dataframe thead th {\n",
              "        text-align: right;\n",
              "    }\n",
              "</style>\n",
              "<table border=\"1\" class=\"dataframe\">\n",
              "  <thead>\n",
              "    <tr style=\"text-align: right;\">\n",
              "      <th></th>\n",
              "      <th>propertyType</th>\n",
              "      <th>street</th>\n",
              "      <th>baths</th>\n",
              "      <th>city</th>\n",
              "      <th>sqft</th>\n",
              "      <th>zipcode</th>\n",
              "      <th>beds</th>\n",
              "      <th>state</th>\n",
              "      <th>stories</th>\n",
              "      <th>new_target</th>\n",
              "      <th>...</th>\n",
              "      <th>status_option</th>\n",
              "      <th>status_pending</th>\n",
              "      <th>status_pending,</th>\n",
              "      <th>status_pf</th>\n",
              "      <th>status_price change</th>\n",
              "      <th>status_reactivated</th>\n",
              "      <th>status_temporary</th>\n",
              "      <th>status_under</th>\n",
              "      <th>fireplace_yes</th>\n",
              "      <th>PrivatePool_yes</th>\n",
              "    </tr>\n",
              "  </thead>\n",
              "  <tbody>\n",
              "    <tr>\n",
              "      <th>1</th>\n",
              "      <td>150</td>\n",
              "      <td>43403</td>\n",
              "      <td>0.005600</td>\n",
              "      <td>1715</td>\n",
              "      <td>0.000020</td>\n",
              "      <td>0.299343</td>\n",
              "      <td>0.020833</td>\n",
              "      <td>37</td>\n",
              "      <td>0.001786</td>\n",
              "      <td>310000.0</td>\n",
              "      <td>...</td>\n",
              "      <td>0</td>\n",
              "      <td>0</td>\n",
              "      <td>0</td>\n",
              "      <td>0</td>\n",
              "      <td>0</td>\n",
              "      <td>0</td>\n",
              "      <td>0</td>\n",
              "      <td>0</td>\n",
              "      <td>0</td>\n",
              "      <td>0</td>\n",
              "    </tr>\n",
              "    <tr>\n",
              "      <th>17</th>\n",
              "      <td>167</td>\n",
              "      <td>124771</td>\n",
              "      <td>0.005600</td>\n",
              "      <td>1226</td>\n",
              "      <td>0.000020</td>\n",
              "      <td>0.030252</td>\n",
              "      <td>0.020833</td>\n",
              "      <td>24</td>\n",
              "      <td>0.001786</td>\n",
              "      <td>2650000.0</td>\n",
              "      <td>...</td>\n",
              "      <td>0</td>\n",
              "      <td>0</td>\n",
              "      <td>0</td>\n",
              "      <td>0</td>\n",
              "      <td>0</td>\n",
              "      <td>0</td>\n",
              "      <td>0</td>\n",
              "      <td>0</td>\n",
              "      <td>0</td>\n",
              "      <td>0</td>\n",
              "    </tr>\n",
              "    <tr>\n",
              "      <th>42</th>\n",
              "      <td>130</td>\n",
              "      <td>324918</td>\n",
              "      <td>0.005600</td>\n",
              "      <td>1226</td>\n",
              "      <td>0.000020</td>\n",
              "      <td>0.030189</td>\n",
              "      <td>0.020833</td>\n",
              "      <td>24</td>\n",
              "      <td>0.001786</td>\n",
              "      <td>850000.0</td>\n",
              "      <td>...</td>\n",
              "      <td>0</td>\n",
              "      <td>0</td>\n",
              "      <td>0</td>\n",
              "      <td>0</td>\n",
              "      <td>0</td>\n",
              "      <td>0</td>\n",
              "      <td>0</td>\n",
              "      <td>0</td>\n",
              "      <td>0</td>\n",
              "      <td>0</td>\n",
              "    </tr>\n",
              "    <tr>\n",
              "      <th>69</th>\n",
              "      <td>149</td>\n",
              "      <td>134145</td>\n",
              "      <td>0.002667</td>\n",
              "      <td>958</td>\n",
              "      <td>0.000005</td>\n",
              "      <td>0.026252</td>\n",
              "      <td>0.013889</td>\n",
              "      <td>22</td>\n",
              "      <td>0.000893</td>\n",
              "      <td>269000.0</td>\n",
              "      <td>...</td>\n",
              "      <td>0</td>\n",
              "      <td>0</td>\n",
              "      <td>0</td>\n",
              "      <td>0</td>\n",
              "      <td>0</td>\n",
              "      <td>0</td>\n",
              "      <td>0</td>\n",
              "      <td>0</td>\n",
              "      <td>0</td>\n",
              "      <td>0</td>\n",
              "    </tr>\n",
              "    <tr>\n",
              "      <th>78</th>\n",
              "      <td>40</td>\n",
              "      <td>168245</td>\n",
              "      <td>0.005600</td>\n",
              "      <td>182</td>\n",
              "      <td>0.000020</td>\n",
              "      <td>0.006417</td>\n",
              "      <td>0.020833</td>\n",
              "      <td>14</td>\n",
              "      <td>0.001786</td>\n",
              "      <td>916900.0</td>\n",
              "      <td>...</td>\n",
              "      <td>0</td>\n",
              "      <td>0</td>\n",
              "      <td>0</td>\n",
              "      <td>0</td>\n",
              "      <td>0</td>\n",
              "      <td>0</td>\n",
              "      <td>0</td>\n",
              "      <td>0</td>\n",
              "      <td>0</td>\n",
              "      <td>0</td>\n",
              "    </tr>\n",
              "    <tr>\n",
              "      <th>...</th>\n",
              "      <td>...</td>\n",
              "      <td>...</td>\n",
              "      <td>...</td>\n",
              "      <td>...</td>\n",
              "      <td>...</td>\n",
              "      <td>...</td>\n",
              "      <td>...</td>\n",
              "      <td>...</td>\n",
              "      <td>...</td>\n",
              "      <td>...</td>\n",
              "      <td>...</td>\n",
              "      <td>...</td>\n",
              "      <td>...</td>\n",
              "      <td>...</td>\n",
              "      <td>...</td>\n",
              "      <td>...</td>\n",
              "      <td>...</td>\n",
              "      <td>...</td>\n",
              "      <td>...</td>\n",
              "      <td>...</td>\n",
              "      <td>...</td>\n",
              "    </tr>\n",
              "    <tr>\n",
              "      <th>377044</th>\n",
              "      <td>40</td>\n",
              "      <td>260741</td>\n",
              "      <td>0.002667</td>\n",
              "      <td>182</td>\n",
              "      <td>0.000020</td>\n",
              "      <td>0.006390</td>\n",
              "      <td>0.020833</td>\n",
              "      <td>14</td>\n",
              "      <td>0.000893</td>\n",
              "      <td>1450000.0</td>\n",
              "      <td>...</td>\n",
              "      <td>0</td>\n",
              "      <td>0</td>\n",
              "      <td>0</td>\n",
              "      <td>0</td>\n",
              "      <td>0</td>\n",
              "      <td>0</td>\n",
              "      <td>0</td>\n",
              "      <td>0</td>\n",
              "      <td>0</td>\n",
              "      <td>0</td>\n",
              "    </tr>\n",
              "    <tr>\n",
              "      <th>377062</th>\n",
              "      <td>42</td>\n",
              "      <td>185573</td>\n",
              "      <td>0.004667</td>\n",
              "      <td>958</td>\n",
              "      <td>0.000007</td>\n",
              "      <td>0.026252</td>\n",
              "      <td>0.034722</td>\n",
              "      <td>22</td>\n",
              "      <td>0.002679</td>\n",
              "      <td>569900.0</td>\n",
              "      <td>...</td>\n",
              "      <td>0</td>\n",
              "      <td>0</td>\n",
              "      <td>0</td>\n",
              "      <td>0</td>\n",
              "      <td>0</td>\n",
              "      <td>0</td>\n",
              "      <td>0</td>\n",
              "      <td>0</td>\n",
              "      <td>0</td>\n",
              "      <td>0</td>\n",
              "    </tr>\n",
              "    <tr>\n",
              "      <th>377088</th>\n",
              "      <td>150</td>\n",
              "      <td>219118</td>\n",
              "      <td>0.005600</td>\n",
              "      <td>2004</td>\n",
              "      <td>0.000020</td>\n",
              "      <td>0.298392</td>\n",
              "      <td>0.020833</td>\n",
              "      <td>37</td>\n",
              "      <td>0.001786</td>\n",
              "      <td>299900.0</td>\n",
              "      <td>...</td>\n",
              "      <td>0</td>\n",
              "      <td>0</td>\n",
              "      <td>0</td>\n",
              "      <td>0</td>\n",
              "      <td>0</td>\n",
              "      <td>0</td>\n",
              "      <td>0</td>\n",
              "      <td>0</td>\n",
              "      <td>1</td>\n",
              "      <td>0</td>\n",
              "    </tr>\n",
              "    <tr>\n",
              "      <th>377108</th>\n",
              "      <td>40</td>\n",
              "      <td>255894</td>\n",
              "      <td>0.005600</td>\n",
              "      <td>182</td>\n",
              "      <td>0.000020</td>\n",
              "      <td>0.006429</td>\n",
              "      <td>0.020833</td>\n",
              "      <td>14</td>\n",
              "      <td>0.001786</td>\n",
              "      <td>399000.0</td>\n",
              "      <td>...</td>\n",
              "      <td>0</td>\n",
              "      <td>0</td>\n",
              "      <td>0</td>\n",
              "      <td>0</td>\n",
              "      <td>0</td>\n",
              "      <td>0</td>\n",
              "      <td>0</td>\n",
              "      <td>0</td>\n",
              "      <td>0</td>\n",
              "      <td>0</td>\n",
              "    </tr>\n",
              "    <tr>\n",
              "      <th>377155</th>\n",
              "      <td>150</td>\n",
              "      <td>6284</td>\n",
              "      <td>0.005600</td>\n",
              "      <td>1637</td>\n",
              "      <td>0.000020</td>\n",
              "      <td>0.296075</td>\n",
              "      <td>0.020833</td>\n",
              "      <td>37</td>\n",
              "      <td>0.001786</td>\n",
              "      <td>725000.0</td>\n",
              "      <td>...</td>\n",
              "      <td>0</td>\n",
              "      <td>0</td>\n",
              "      <td>0</td>\n",
              "      <td>0</td>\n",
              "      <td>0</td>\n",
              "      <td>0</td>\n",
              "      <td>0</td>\n",
              "      <td>0</td>\n",
              "      <td>0</td>\n",
              "      <td>0</td>\n",
              "    </tr>\n",
              "  </tbody>\n",
              "</table>\n",
              "<p>18533 rows × 38 columns</p>\n",
              "</div>\n",
              "      <button class=\"colab-df-convert\" onclick=\"convertToInteractive('df-a69453ec-0abf-4b94-9ff3-85bcab25ae47')\"\n",
              "              title=\"Convert this dataframe to an interactive table.\"\n",
              "              style=\"display:none;\">\n",
              "        \n",
              "  <svg xmlns=\"http://www.w3.org/2000/svg\" height=\"24px\"viewBox=\"0 0 24 24\"\n",
              "       width=\"24px\">\n",
              "    <path d=\"M0 0h24v24H0V0z\" fill=\"none\"/>\n",
              "    <path d=\"M18.56 5.44l.94 2.06.94-2.06 2.06-.94-2.06-.94-.94-2.06-.94 2.06-2.06.94zm-11 1L8.5 8.5l.94-2.06 2.06-.94-2.06-.94L8.5 2.5l-.94 2.06-2.06.94zm10 10l.94 2.06.94-2.06 2.06-.94-2.06-.94-.94-2.06-.94 2.06-2.06.94z\"/><path d=\"M17.41 7.96l-1.37-1.37c-.4-.4-.92-.59-1.43-.59-.52 0-1.04.2-1.43.59L10.3 9.45l-7.72 7.72c-.78.78-.78 2.05 0 2.83L4 21.41c.39.39.9.59 1.41.59.51 0 1.02-.2 1.41-.59l7.78-7.78 2.81-2.81c.8-.78.8-2.07 0-2.86zM5.41 20L4 18.59l7.72-7.72 1.47 1.35L5.41 20z\"/>\n",
              "  </svg>\n",
              "      </button>\n",
              "      \n",
              "  <style>\n",
              "    .colab-df-container {\n",
              "      display:flex;\n",
              "      flex-wrap:wrap;\n",
              "      gap: 12px;\n",
              "    }\n",
              "\n",
              "    .colab-df-convert {\n",
              "      background-color: #E8F0FE;\n",
              "      border: none;\n",
              "      border-radius: 50%;\n",
              "      cursor: pointer;\n",
              "      display: none;\n",
              "      fill: #1967D2;\n",
              "      height: 32px;\n",
              "      padding: 0 0 0 0;\n",
              "      width: 32px;\n",
              "    }\n",
              "\n",
              "    .colab-df-convert:hover {\n",
              "      background-color: #E2EBFA;\n",
              "      box-shadow: 0px 1px 2px rgba(60, 64, 67, 0.3), 0px 1px 3px 1px rgba(60, 64, 67, 0.15);\n",
              "      fill: #174EA6;\n",
              "    }\n",
              "\n",
              "    [theme=dark] .colab-df-convert {\n",
              "      background-color: #3B4455;\n",
              "      fill: #D2E3FC;\n",
              "    }\n",
              "\n",
              "    [theme=dark] .colab-df-convert:hover {\n",
              "      background-color: #434B5C;\n",
              "      box-shadow: 0px 1px 3px 1px rgba(0, 0, 0, 0.15);\n",
              "      filter: drop-shadow(0px 1px 2px rgba(0, 0, 0, 0.3));\n",
              "      fill: #FFFFFF;\n",
              "    }\n",
              "  </style>\n",
              "\n",
              "      <script>\n",
              "        const buttonEl =\n",
              "          document.querySelector('#df-a69453ec-0abf-4b94-9ff3-85bcab25ae47 button.colab-df-convert');\n",
              "        buttonEl.style.display =\n",
              "          google.colab.kernel.accessAllowed ? 'block' : 'none';\n",
              "\n",
              "        async function convertToInteractive(key) {\n",
              "          const element = document.querySelector('#df-a69453ec-0abf-4b94-9ff3-85bcab25ae47');\n",
              "          const dataTable =\n",
              "            await google.colab.kernel.invokeFunction('convertToInteractive',\n",
              "                                                     [key], {});\n",
              "          if (!dataTable) return;\n",
              "\n",
              "          const docLinkHtml = 'Like what you see? Visit the ' +\n",
              "            '<a target=\"_blank\" href=https://colab.research.google.com/notebooks/data_table.ipynb>data table notebook</a>'\n",
              "            + ' to learn more about interactive tables.';\n",
              "          element.innerHTML = '';\n",
              "          dataTable['output_type'] = 'display_data';\n",
              "          await google.colab.output.renderOutput(dataTable, element);\n",
              "          const docLink = document.createElement('div');\n",
              "          docLink.innerHTML = docLinkHtml;\n",
              "          element.appendChild(docLink);\n",
              "        }\n",
              "      </script>\n",
              "    </div>\n",
              "  </div>\n",
              "  "
            ]
          },
          "metadata": {},
          "execution_count": 97
        }
      ],
      "source": [
        "data[(data.zipcode < lower_bound) | (data.zipcode > upper_bound)]"
      ]
    },
    {
      "cell_type": "code",
      "source": [
        "data.info()"
      ],
      "metadata": {
        "colab": {
          "base_uri": "https://localhost:8080/"
        },
        "id": "G9EjSZLq-qdU",
        "outputId": "f900cb90-5f6a-4cd8-ed3a-cea0a40804e8"
      },
      "execution_count": 98,
      "outputs": [
        {
          "output_type": "stream",
          "name": "stdout",
          "text": [
            "<class 'pandas.core.frame.DataFrame'>\n",
            "Int64Index: 374306 entries, 0 to 377184\n",
            "Data columns (total 38 columns):\n",
            " #   Column                 Non-Null Count   Dtype  \n",
            "---  ------                 --------------   -----  \n",
            " 0   propertyType           374306 non-null  int64  \n",
            " 1   street                 374306 non-null  int64  \n",
            " 2   baths                  374306 non-null  float64\n",
            " 3   city                   374306 non-null  int64  \n",
            " 4   sqft                   374306 non-null  float64\n",
            " 5   zipcode                374306 non-null  float64\n",
            " 6   beds                   374306 non-null  float64\n",
            " 7   state                  374306 non-null  int64  \n",
            " 8   stories                374306 non-null  float64\n",
            " 9   new_target             374306 non-null  float64\n",
            " 10  status_active          374306 non-null  uint8  \n",
            " 11  status_apartment       374306 non-null  uint8  \n",
            " 12  status_auction         374306 non-null  uint8  \n",
            " 13  status_back on market  374306 non-null  uint8  \n",
            " 14  status_closed          374306 non-null  uint8  \n",
            " 15  status_coming soon     374306 non-null  uint8  \n",
            " 16  status_conditional     374306 non-null  uint8  \n",
            " 17  status_contingency     374306 non-null  uint8  \n",
            " 18  status_contingent      374306 non-null  uint8  \n",
            " 19  status_contract        374306 non-null  uint8  \n",
            " 20  status_due             374306 non-null  uint8  \n",
            " 21  status_for sale        374306 non-null  uint8  \n",
            " 22  status_foreclosure     374306 non-null  uint8  \n",
            " 23  status_lease/purchase  374306 non-null  uint8  \n",
            " 24  status_listing         374306 non-null  uint8  \n",
            " 25  status_new             374306 non-null  uint8  \n",
            " 26  status_not known       374306 non-null  uint8  \n",
            " 27  status_offer           374306 non-null  uint8  \n",
            " 28  status_option          374306 non-null  uint8  \n",
            " 29  status_pending         374306 non-null  uint8  \n",
            " 30  status_pending,        374306 non-null  uint8  \n",
            " 31  status_pf              374306 non-null  uint8  \n",
            " 32  status_price change    374306 non-null  uint8  \n",
            " 33  status_reactivated     374306 non-null  uint8  \n",
            " 34  status_temporary       374306 non-null  uint8  \n",
            " 35  status_under           374306 non-null  uint8  \n",
            " 36  fireplace_yes          374306 non-null  uint8  \n",
            " 37  PrivatePool_yes        374306 non-null  uint8  \n",
            "dtypes: float64(6), int64(4), uint8(28)\n",
            "memory usage: 41.4 MB\n"
          ]
        }
      ]
    },
    {
      "cell_type": "markdown",
      "metadata": {
        "id": "FW_FYgHRYKPa"
      },
      "source": [
        "# Data Split"
      ]
    },
    {
      "cell_type": "code",
      "execution_count": 99,
      "metadata": {
        "id": "-2n8LxfCESBA"
      },
      "outputs": [],
      "source": [
        "X = data.drop(['new_target'], axis=1) \n",
        "y = data['new_target']\n",
        "X_train, X_test, y_train, y_test = train_test_split(X, y, test_size=VAL_SIZE, shuffle=True, random_state=RANDOM_SEED)"
      ]
    },
    {
      "cell_type": "markdown",
      "metadata": {
        "id": "ibuBI9pHJ7sg"
      },
      "source": [
        "## Feature Importance"
      ]
    },
    {
      "cell_type": "markdown",
      "metadata": {
        "id": "lerNq5C3Y2No"
      },
      "source": [
        "# ML"
      ]
    },
    {
      "cell_type": "markdown",
      "metadata": {
        "id": "m740Ct7aacMH"
      },
      "source": [
        "## Gradient Boosting for regression."
      ]
    },
    {
      "cell_type": "code",
      "execution_count": 100,
      "metadata": {
        "id": "4LW2FuUQafWb"
      },
      "outputs": [],
      "source": [
        "#n_estimators = [int(x) for x in np.linspace(start = 200, stop = 1000, num = 10)]\n",
        "\n",
        "#random_grid = {'n_estimators': n_estimators}\n",
        "#gbr = GradientBoostingRegressor(random_state=42)\n",
        "#gbr_random = RandomizedSearchCV(estimator=gbr, param_distributions=random_grid, n_iter=30, \n",
        "#                               cv=3, verbose=2, random_state=42, return_train_score=True)\n",
        "#gbr_random.fit(X_train, np.log(y_train))\n",
        "#print(gbr_random.best_params_)"
      ]
    },
    {
      "cell_type": "code",
      "execution_count": 101,
      "metadata": {
        "colab": {
          "base_uri": "https://localhost:8080/"
        },
        "id": "YWJeI9ESahvH",
        "outputId": "a43be9fc-bbe7-4f3c-c379-dcae0de13b21"
      },
      "outputs": [
        {
          "output_type": "execute_result",
          "data": {
            "text/plain": [
              "GradientBoostingRegressor(n_estimators=1000, random_state=42)"
            ]
          },
          "metadata": {},
          "execution_count": 101
        }
      ],
      "source": [
        "gbr = GradientBoostingRegressor(random_state=42,\n",
        "                              n_estimators=1000)\n",
        "gbr.fit(X_train, np.log(y_train))"
      ]
    },
    {
      "cell_type": "code",
      "execution_count": 102,
      "metadata": {
        "id": "sTerbeI2akM4"
      },
      "outputs": [],
      "source": [
        "predict_test_gbr = np.exp(gbr.predict(X_test))"
      ]
    },
    {
      "cell_type": "code",
      "execution_count": 103,
      "metadata": {
        "colab": {
          "base_uri": "https://localhost:8080/"
        },
        "id": "KwTaFsnTBdo8",
        "outputId": "cae23fe7-4e93-4b58-f431-b7f760dc63e4"
      },
      "outputs": [
        {
          "output_type": "stream",
          "name": "stdout",
          "text": [
            "11.065065152306104\n"
          ]
        }
      ],
      "source": [
        "print((mape(y_test, predict_test_gbr)))"
      ]
    },
    {
      "cell_type": "markdown",
      "metadata": {
        "id": "UzmVdzj5anJs"
      },
      "source": [
        "## A random forest regressor."
      ]
    },
    {
      "cell_type": "code",
      "execution_count": 104,
      "metadata": {
        "id": "D7CJNcMnap9Z"
      },
      "outputs": [],
      "source": [
        "#n_estimators = [int(x) for x in np.linspace(start = 200, stop = 500, num = 3)]\n",
        "#min_samples_split=[1, 2, 3, 5]\n",
        "#min_samples_leaf=[1, 2, 3, 5]\n",
        "#max_features=[0.25, 0.5, 0.75, 1.0]\n",
        "#bootstrap=[True, False]\n",
        "#max_depth = [int(x) for x in np.linspace(70, 200, num = 11)]\n",
        "#max_depth.append(None)\n",
        "\n",
        "\n",
        "#random_grid = {'n_estimators': n_estimators,\n",
        "#               'min_samples_split': min_samples_split,\n",
        "#               'min_samples_leaf': min_samples_leaf,\n",
        "#               'max_features': max_features,\n",
        "#               'bootstrap': bootstrap,\n",
        "#               'max_depth': max_depth}\n",
        "#rf = RandomForestRegressor(random_state=42)\n",
        "#rf_random = RandomizedSearchCV(estimator=rf, param_distributions=random_grid, n_iter=2, \n",
        "#                               cv=3, verbose=2, random_state=42, return_train_score=True)\n",
        "#rf_random.fit(X_train, np.log(y_train))\n",
        "#print(rf_random.best_params_)"
      ]
    },
    {
      "cell_type": "code",
      "execution_count": 105,
      "metadata": {
        "colab": {
          "base_uri": "https://localhost:8080/"
        },
        "id": "WMs9ax-FasRy",
        "outputId": "1b81bee2-7af5-4cf1-e33d-40154d0200a7"
      },
      "outputs": [
        {
          "output_type": "execute_result",
          "data": {
            "text/plain": [
              "RandomForestRegressor(bootstrap=False, max_depth=161, max_features=0.75,\n",
              "                      min_samples_leaf=3, n_estimators=600, random_state=42)"
            ]
          },
          "metadata": {},
          "execution_count": 105
        }
      ],
      "source": [
        "rf = RandomForestRegressor(random_state=42,\n",
        "                           n_estimators=600 ,\n",
        "                            max_depth=161,\n",
        "                          min_samples_split=2 ,\n",
        "                           min_samples_leaf=3 ,\n",
        "                            max_features=0.75,\n",
        "                            bootstrap=False )\n",
        "rf.fit(X_train, np.log(y_train))"
      ]
    },
    {
      "cell_type": "code",
      "execution_count": 106,
      "metadata": {
        "id": "O-LeV8h1auEf"
      },
      "outputs": [],
      "source": [
        "predict_test_rt = np.exp(rf.predict(X_test))"
      ]
    },
    {
      "cell_type": "code",
      "execution_count": 107,
      "metadata": {
        "colab": {
          "base_uri": "https://localhost:8080/"
        },
        "id": "l3aMxDJXGh_v",
        "outputId": "536435f8-fe77-41a9-8f37-a1b96ac10056"
      },
      "outputs": [
        {
          "output_type": "stream",
          "name": "stdout",
          "text": [
            "27.98727423162839\n"
          ]
        }
      ],
      "source": [
        "print((mape(y_test, predict_test_rt)))"
      ]
    },
    {
      "cell_type": "markdown",
      "metadata": {
        "id": "1vbjiJwoJlIO"
      },
      "source": [
        "## GaussianProcessRegressor"
      ]
    },
    {
      "cell_type": "code",
      "execution_count": 108,
      "metadata": {
        "id": "bmw2tGOoKC_a"
      },
      "outputs": [],
      "source": [
        "gpr= GaussianProcessRegressor(kernel=None, \n",
        "                               alpha=1e-10,\n",
        "                               optimizer='fmin_l_bfgs_b',\n",
        "                               n_restarts_optimizer=0, \n",
        "                               normalize_y=False,\n",
        "                               random_state=42) "
      ]
    },
    {
      "cell_type": "code",
      "execution_count": 109,
      "metadata": {
        "colab": {
          "base_uri": "https://localhost:8080/"
        },
        "id": "X5LIjfyEKQbP",
        "outputId": "d764c3f7-6cf2-447b-9cfe-ef62619ff02c"
      },
      "outputs": [
        {
          "output_type": "stream",
          "name": "stderr",
          "text": [
            "/usr/local/lib/python3.7/dist-packages/sklearn/base.py:444: UserWarning: X has feature names, but GaussianProcessRegressor was fitted without feature names\n",
            "  f\"X has feature names, but {self.__class__.__name__} was fitted without\"\n"
          ]
        }
      ],
      "source": [
        "predict_test_gpr = np.exp(gpr.predict(X_test))"
      ]
    },
    {
      "cell_type": "code",
      "execution_count": 110,
      "metadata": {
        "colab": {
          "base_uri": "https://localhost:8080/"
        },
        "id": "53pmgTKeKnVX",
        "outputId": "fa90a090-a9a9-48a9-9f83-367b618bec99"
      },
      "outputs": [
        {
          "output_type": "stream",
          "name": "stdout",
          "text": [
            "0.9999489868044902\n"
          ]
        }
      ],
      "source": [
        "print((mape(y_test, predict_test_gpr)))"
      ]
    },
    {
      "cell_type": "markdown",
      "metadata": {
        "id": "-iDSoDS3Joh2"
      },
      "source": [
        "## SGDRegressor"
      ]
    },
    {
      "cell_type": "code",
      "execution_count": 111,
      "metadata": {
        "id": "ESFIUttQJ7Cl"
      },
      "outputs": [],
      "source": [
        "#loss=['squared_error', 'huber', 'epsilon_insensitive', 'squared_epsilon_insensitive']\n",
        "#penalty=['l2', 'l1', 'elasticnet']\n",
        "#learning_rate=['constant','optimal','invscaling','adaptive']\n",
        "\n",
        "#random_grid = {'loss':loss,\n",
        "#                'penalty':penalty,\n",
        "#              'learning_rate':learning_rate}\n",
        "#sgd = SGDRegressor(random_state=42)\n",
        "#sgd_random = RandomizedSearchCV(estimator=sgd, param_distributions=random_grid, n_iter=3, \n",
        "#                               cv=3, verbose=2, random_state=42, return_train_score=True)\n",
        "#sgd_random.fit(X_train, np.log(y_train))\n",
        "#print(sgd_random.best_params_)"
      ]
    },
    {
      "cell_type": "code",
      "execution_count": 112,
      "metadata": {
        "colab": {
          "base_uri": "https://localhost:8080/"
        },
        "id": "PN2UnhOxKEF7",
        "outputId": "18049ddf-7fcd-4370-d2c6-d4db7958ba13"
      },
      "outputs": [
        {
          "output_type": "execute_result",
          "data": {
            "text/plain": [
              "SGDRegressor(early_stopping=True, learning_rate='adaptive', loss='huber',\n",
              "             penalty='l1', random_state=42, validation_fraction=0.2)"
            ]
          },
          "metadata": {},
          "execution_count": 112
        }
      ],
      "source": [
        "sgd = SGDRegressor(loss='huber',\n",
        "                    penalty='l1',\n",
        "                    learning_rate='adaptive', \n",
        "                    early_stopping=True,\n",
        "                    random_state=42,\n",
        "                    validation_fraction=0.2,\n",
        "                    n_iter_no_change=5 )\n",
        "sgd.fit(X_train, np.log(y_train))"
      ]
    },
    {
      "cell_type": "code",
      "execution_count": 113,
      "metadata": {
        "id": "bOxD5yYgKR4H"
      },
      "outputs": [],
      "source": [
        "predict_test_sgd = np.exp(sgd.predict(X_test))"
      ]
    },
    {
      "cell_type": "code",
      "execution_count": 114,
      "metadata": {
        "colab": {
          "base_uri": "https://localhost:8080/"
        },
        "id": "FqqNEsuCKo1b",
        "outputId": "d5414024-568a-4230-9583-7628cf679c5e"
      },
      "outputs": [
        {
          "output_type": "stream",
          "name": "stdout",
          "text": [
            "1.0211067687624333\n"
          ]
        }
      ],
      "source": [
        "print((mape(y_test, predict_test_sgd)))"
      ]
    },
    {
      "cell_type": "markdown",
      "metadata": {
        "id": "fCkiKpzhJv5c"
      },
      "source": [
        "## KNeighborsRegressor"
      ]
    },
    {
      "cell_type": "code",
      "execution_count": 115,
      "metadata": {
        "id": "InOG4c5eJ9Hq"
      },
      "outputs": [],
      "source": [
        "#weights=['uniform', 'distance']\n",
        "#algorithm=['auto', 'ball_tree', 'kd_tree', 'brute']\n",
        "#p=[1, 2]\n",
        "\n",
        "#random_grid = {'weights':weights,\n",
        "#                'algorithm':algorithm,\n",
        "#                'p':p}\n",
        "#knr = KNeighborsRegressor()\n",
        "#knr_random = RandomizedSearchCV(estimator=knr, param_distributions=random_grid, n_iter=1, \n",
        "#                               cv=3, verbose=2,  return_train_score=True)\n",
        "#knr_random.fit(X_train, np.log(y_train))\n",
        "#print(knr_random.best_params_)"
      ]
    },
    {
      "cell_type": "code",
      "execution_count": 116,
      "metadata": {
        "id": "IRTsU6A8KG3w",
        "colab": {
          "base_uri": "https://localhost:8080/"
        },
        "outputId": "fe172f7a-c852-4ac1-b8c1-c2c8ca23ce83"
      },
      "outputs": [
        {
          "output_type": "execute_result",
          "data": {
            "text/plain": [
              "KNeighborsRegressor(algorithm='brute')"
            ]
          },
          "metadata": {},
          "execution_count": 116
        }
      ],
      "source": [
        "knr = KNeighborsRegressor(weights='uniform',\n",
        "                algorithm='brute',\n",
        "                p=2)\n",
        "knr.fit(X_train, np.log(y_train))"
      ]
    },
    {
      "cell_type": "code",
      "execution_count": 117,
      "metadata": {
        "id": "wGfUU4x8KV-4"
      },
      "outputs": [],
      "source": [
        "predict_test_knr = np.exp(knr.predict(X_test))"
      ]
    },
    {
      "cell_type": "code",
      "execution_count": 118,
      "metadata": {
        "id": "q324bFaqKWAj",
        "colab": {
          "base_uri": "https://localhost:8080/"
        },
        "outputId": "64b72c34-4fc3-4bfd-cfd3-ab39356210d2"
      },
      "outputs": [
        {
          "output_type": "stream",
          "name": "stdout",
          "text": [
            "7.746630310429071\n"
          ]
        }
      ],
      "source": [
        "print((mape(y_test, predict_test_knr)))"
      ]
    },
    {
      "cell_type": "markdown",
      "metadata": {
        "id": "PDy7nM3SawA1"
      },
      "source": [
        "## Stack of estimators with a final regressor."
      ]
    },
    {
      "cell_type": "code",
      "execution_count": 119,
      "metadata": {
        "id": "7uale-X5ay94"
      },
      "outputs": [],
      "source": [
        "#estimators = [('gpr', GaussianProcessRegressor(random_state=42)),\n",
        "#               ('sgd', SGDRegressor(random_state=42))]\n",
        "#sr = StackingRegressor(estimators=estimators)\n",
        "#sr.fit(X_train, np.log(y_train)) Не хватает объема ОЗУ"
      ]
    },
    {
      "cell_type": "code",
      "source": [
        "#estimators = [('gbr', GradientBoostingRegressor(random_state=42)),\n",
        "#               ('rfr', RandomForestRegressor(random_state=42,\n",
        "#                                             n_estimators=600 ,\n",
        "#                                            max_depth=161,\n",
        "#                                            min_samples_split=2 ,\n",
        "#                                            min_samples_leaf=3 ,\n",
        "#                                            max_features=0.75,\n",
        "#                                            bootstrap=False))]\n",
        "#sr = StackingRegressor(estimators=estimators)\n",
        "#sr.fit(X_train, np.log(y_train)) Не хватает объема ОЗУ"
      ],
      "metadata": {
        "id": "HoHAYmKRf5Vc"
      },
      "execution_count": 120,
      "outputs": []
    },
    {
      "cell_type": "code",
      "source": [
        "#predict_test = np.exp(sr.predict(X_test))"
      ],
      "metadata": {
        "id": "VogWUH-oder5"
      },
      "execution_count": 121,
      "outputs": []
    },
    {
      "cell_type": "code",
      "source": [
        "#print((mape(y_test, predict_test)))"
      ],
      "metadata": {
        "id": "Ui-6gmvAdhQ9"
      },
      "execution_count": 122,
      "outputs": []
    }
  ],
  "metadata": {
    "colab": {
      "collapsed_sections": [],
      "toc_visible": true,
      "provenance": [],
      "include_colab_link": true
    },
    "kernelspec": {
      "display_name": "Python 3",
      "language": "python",
      "name": "python3"
    },
    "language_info": {
      "codemirror_mode": {
        "name": "ipython",
        "version": 3
      },
      "file_extension": ".py",
      "mimetype": "text/x-python",
      "name": "python",
      "nbconvert_exporter": "python",
      "pygments_lexer": "ipython3",
      "version": "3.7.12"
    }
  },
  "nbformat": 4,
  "nbformat_minor": 0
}