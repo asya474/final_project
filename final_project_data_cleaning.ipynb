{
  "nbformat": 4,
  "nbformat_minor": 0,
  "metadata": {
    "colab": {
      "provenance": [],
      "collapsed_sections": [],
      "mount_file_id": "1m1EO_3snk9G46drBupnHNC3yB6SE7zDT",
      "authorship_tag": "ABX9TyMlHmnl5qOQKNh0bLzigKjg",
      "include_colab_link": true
    },
    "kernelspec": {
      "name": "python3",
      "display_name": "Python 3"
    },
    "language_info": {
      "name": "python"
    },
    "gpuClass": "standard"
  },
  "cells": [
    {
      "cell_type": "markdown",
      "metadata": {
        "id": "view-in-github",
        "colab_type": "text"
      },
      "source": [
        "<a href=\"https://colab.research.google.com/github/asya474/final_project/blob/main/final_project_data_cleaning.ipynb\" target=\"_parent\"><img src=\"https://colab.research.google.com/assets/colab-badge.svg\" alt=\"Open In Colab\"/></a>"
      ]
    },
    {
      "cell_type": "code",
      "source": [
        "import numpy as np\n",
        "import pandas as pd\n",
        "import matplotlib.pyplot as plt\n",
        "import seaborn as sns\n",
        "import pickle\n",
        "import zipfile\n",
        "import time\n",
        "import csv\n",
        "import sys\n",
        "import os\n",
        "!pip install tensorflow_addons -q\n",
        "import tensorflow_addons as tfa\n",
        "\n",
        "from sklearn.model_selection import RandomizedSearchCV\n",
        "from sklearn.ensemble import *\n",
        "from sklearn.model_selection import train_test_split, StratifiedKFold\n",
        "from sklearn.metrics import mean_absolute_percentage_error\n",
        "\n",
        "import PIL\n",
        "from PIL import ImageOps, ImageFilter\n",
        "#увеличим дефолтный размер графиков\n",
        "from pylab import rcParams\n",
        "rcParams['figure.figsize'] = 10, 5\n",
        "#графики в svg выглядят более четкими\n",
        "%config InlineBackend.figure_format = 'svg' \n",
        "%matplotlib inline\n",
        "\n",
        "#print(os.listdir(\"/content/drive/MyDrive/Colab Notebooks/input\"))\n"
      ],
      "metadata": {
        "colab": {
          "base_uri": "https://localhost:8080/"
        },
        "id": "elk1vwU2mab2",
        "outputId": "d440bc13-3d38-4127-c5d2-b009f8943be1"
      },
      "execution_count": null,
      "outputs": [
        {
          "output_type": "stream",
          "name": "stdout",
          "text": [
            "\u001b[?25l\r\u001b[K     |▎                               | 10 kB 20.3 MB/s eta 0:00:01\r\u001b[K     |▋                               | 20 kB 6.5 MB/s eta 0:00:01\r\u001b[K     |▉                               | 30 kB 9.1 MB/s eta 0:00:01\r\u001b[K     |█▏                              | 40 kB 4.3 MB/s eta 0:00:01\r\u001b[K     |█▌                              | 51 kB 4.7 MB/s eta 0:00:01\r\u001b[K     |█▊                              | 61 kB 5.5 MB/s eta 0:00:01\r\u001b[K     |██                              | 71 kB 5.5 MB/s eta 0:00:01\r\u001b[K     |██▍                             | 81 kB 5.4 MB/s eta 0:00:01\r\u001b[K     |██▋                             | 92 kB 6.0 MB/s eta 0:00:01\r\u001b[K     |███                             | 102 kB 5.2 MB/s eta 0:00:01\r\u001b[K     |███▎                            | 112 kB 5.2 MB/s eta 0:00:01\r\u001b[K     |███▌                            | 122 kB 5.2 MB/s eta 0:00:01\r\u001b[K     |███▉                            | 133 kB 5.2 MB/s eta 0:00:01\r\u001b[K     |████▏                           | 143 kB 5.2 MB/s eta 0:00:01\r\u001b[K     |████▍                           | 153 kB 5.2 MB/s eta 0:00:01\r\u001b[K     |████▊                           | 163 kB 5.2 MB/s eta 0:00:01\r\u001b[K     |█████                           | 174 kB 5.2 MB/s eta 0:00:01\r\u001b[K     |█████▎                          | 184 kB 5.2 MB/s eta 0:00:01\r\u001b[K     |█████▋                          | 194 kB 5.2 MB/s eta 0:00:01\r\u001b[K     |██████                          | 204 kB 5.2 MB/s eta 0:00:01\r\u001b[K     |██████▏                         | 215 kB 5.2 MB/s eta 0:00:01\r\u001b[K     |██████▌                         | 225 kB 5.2 MB/s eta 0:00:01\r\u001b[K     |██████▉                         | 235 kB 5.2 MB/s eta 0:00:01\r\u001b[K     |███████                         | 245 kB 5.2 MB/s eta 0:00:01\r\u001b[K     |███████▍                        | 256 kB 5.2 MB/s eta 0:00:01\r\u001b[K     |███████▋                        | 266 kB 5.2 MB/s eta 0:00:01\r\u001b[K     |████████                        | 276 kB 5.2 MB/s eta 0:00:01\r\u001b[K     |████████▎                       | 286 kB 5.2 MB/s eta 0:00:01\r\u001b[K     |████████▌                       | 296 kB 5.2 MB/s eta 0:00:01\r\u001b[K     |████████▉                       | 307 kB 5.2 MB/s eta 0:00:01\r\u001b[K     |█████████▏                      | 317 kB 5.2 MB/s eta 0:00:01\r\u001b[K     |█████████▍                      | 327 kB 5.2 MB/s eta 0:00:01\r\u001b[K     |█████████▊                      | 337 kB 5.2 MB/s eta 0:00:01\r\u001b[K     |██████████                      | 348 kB 5.2 MB/s eta 0:00:01\r\u001b[K     |██████████▎                     | 358 kB 5.2 MB/s eta 0:00:01\r\u001b[K     |██████████▋                     | 368 kB 5.2 MB/s eta 0:00:01\r\u001b[K     |███████████                     | 378 kB 5.2 MB/s eta 0:00:01\r\u001b[K     |███████████▏                    | 389 kB 5.2 MB/s eta 0:00:01\r\u001b[K     |███████████▌                    | 399 kB 5.2 MB/s eta 0:00:01\r\u001b[K     |███████████▉                    | 409 kB 5.2 MB/s eta 0:00:01\r\u001b[K     |████████████                    | 419 kB 5.2 MB/s eta 0:00:01\r\u001b[K     |████████████▍                   | 430 kB 5.2 MB/s eta 0:00:01\r\u001b[K     |████████████▊                   | 440 kB 5.2 MB/s eta 0:00:01\r\u001b[K     |█████████████                   | 450 kB 5.2 MB/s eta 0:00:01\r\u001b[K     |█████████████▎                  | 460 kB 5.2 MB/s eta 0:00:01\r\u001b[K     |█████████████▋                  | 471 kB 5.2 MB/s eta 0:00:01\r\u001b[K     |█████████████▉                  | 481 kB 5.2 MB/s eta 0:00:01\r\u001b[K     |██████████████▏                 | 491 kB 5.2 MB/s eta 0:00:01\r\u001b[K     |██████████████▍                 | 501 kB 5.2 MB/s eta 0:00:01\r\u001b[K     |██████████████▊                 | 512 kB 5.2 MB/s eta 0:00:01\r\u001b[K     |███████████████                 | 522 kB 5.2 MB/s eta 0:00:01\r\u001b[K     |███████████████▎                | 532 kB 5.2 MB/s eta 0:00:01\r\u001b[K     |███████████████▋                | 542 kB 5.2 MB/s eta 0:00:01\r\u001b[K     |████████████████                | 552 kB 5.2 MB/s eta 0:00:01\r\u001b[K     |████████████████▏               | 563 kB 5.2 MB/s eta 0:00:01\r\u001b[K     |████████████████▌               | 573 kB 5.2 MB/s eta 0:00:01\r\u001b[K     |████████████████▉               | 583 kB 5.2 MB/s eta 0:00:01\r\u001b[K     |█████████████████               | 593 kB 5.2 MB/s eta 0:00:01\r\u001b[K     |█████████████████▍              | 604 kB 5.2 MB/s eta 0:00:01\r\u001b[K     |█████████████████▊              | 614 kB 5.2 MB/s eta 0:00:01\r\u001b[K     |██████████████████              | 624 kB 5.2 MB/s eta 0:00:01\r\u001b[K     |██████████████████▎             | 634 kB 5.2 MB/s eta 0:00:01\r\u001b[K     |██████████████████▋             | 645 kB 5.2 MB/s eta 0:00:01\r\u001b[K     |██████████████████▉             | 655 kB 5.2 MB/s eta 0:00:01\r\u001b[K     |███████████████████▏            | 665 kB 5.2 MB/s eta 0:00:01\r\u001b[K     |███████████████████▌            | 675 kB 5.2 MB/s eta 0:00:01\r\u001b[K     |███████████████████▊            | 686 kB 5.2 MB/s eta 0:00:01\r\u001b[K     |████████████████████            | 696 kB 5.2 MB/s eta 0:00:01\r\u001b[K     |████████████████████▍           | 706 kB 5.2 MB/s eta 0:00:01\r\u001b[K     |████████████████████▋           | 716 kB 5.2 MB/s eta 0:00:01\r\u001b[K     |█████████████████████           | 727 kB 5.2 MB/s eta 0:00:01\r\u001b[K     |█████████████████████▏          | 737 kB 5.2 MB/s eta 0:00:01\r\u001b[K     |█████████████████████▌          | 747 kB 5.2 MB/s eta 0:00:01\r\u001b[K     |█████████████████████▉          | 757 kB 5.2 MB/s eta 0:00:01\r\u001b[K     |██████████████████████          | 768 kB 5.2 MB/s eta 0:00:01\r\u001b[K     |██████████████████████▍         | 778 kB 5.2 MB/s eta 0:00:01\r\u001b[K     |██████████████████████▊         | 788 kB 5.2 MB/s eta 0:00:01\r\u001b[K     |███████████████████████         | 798 kB 5.2 MB/s eta 0:00:01\r\u001b[K     |███████████████████████▎        | 808 kB 5.2 MB/s eta 0:00:01\r\u001b[K     |███████████████████████▋        | 819 kB 5.2 MB/s eta 0:00:01\r\u001b[K     |███████████████████████▉        | 829 kB 5.2 MB/s eta 0:00:01\r\u001b[K     |████████████████████████▏       | 839 kB 5.2 MB/s eta 0:00:01\r\u001b[K     |████████████████████████▌       | 849 kB 5.2 MB/s eta 0:00:01\r\u001b[K     |████████████████████████▊       | 860 kB 5.2 MB/s eta 0:00:01\r\u001b[K     |█████████████████████████       | 870 kB 5.2 MB/s eta 0:00:01\r\u001b[K     |█████████████████████████▍      | 880 kB 5.2 MB/s eta 0:00:01\r\u001b[K     |█████████████████████████▋      | 890 kB 5.2 MB/s eta 0:00:01\r\u001b[K     |██████████████████████████      | 901 kB 5.2 MB/s eta 0:00:01\r\u001b[K     |██████████████████████████▎     | 911 kB 5.2 MB/s eta 0:00:01\r\u001b[K     |██████████████████████████▌     | 921 kB 5.2 MB/s eta 0:00:01\r\u001b[K     |██████████████████████████▉     | 931 kB 5.2 MB/s eta 0:00:01\r\u001b[K     |███████████████████████████▏    | 942 kB 5.2 MB/s eta 0:00:01\r\u001b[K     |███████████████████████████▍    | 952 kB 5.2 MB/s eta 0:00:01\r\u001b[K     |███████████████████████████▊    | 962 kB 5.2 MB/s eta 0:00:01\r\u001b[K     |████████████████████████████    | 972 kB 5.2 MB/s eta 0:00:01\r\u001b[K     |████████████████████████████▎   | 983 kB 5.2 MB/s eta 0:00:01\r\u001b[K     |████████████████████████████▋   | 993 kB 5.2 MB/s eta 0:00:01\r\u001b[K     |████████████████████████████▉   | 1.0 MB 5.2 MB/s eta 0:00:01\r\u001b[K     |█████████████████████████████▏  | 1.0 MB 5.2 MB/s eta 0:00:01\r\u001b[K     |█████████████████████████████▌  | 1.0 MB 5.2 MB/s eta 0:00:01\r\u001b[K     |█████████████████████████████▊  | 1.0 MB 5.2 MB/s eta 0:00:01\r\u001b[K     |██████████████████████████████  | 1.0 MB 5.2 MB/s eta 0:00:01\r\u001b[K     |██████████████████████████████▍ | 1.1 MB 5.2 MB/s eta 0:00:01\r\u001b[K     |██████████████████████████████▋ | 1.1 MB 5.2 MB/s eta 0:00:01\r\u001b[K     |███████████████████████████████ | 1.1 MB 5.2 MB/s eta 0:00:01\r\u001b[K     |███████████████████████████████▎| 1.1 MB 5.2 MB/s eta 0:00:01\r\u001b[K     |███████████████████████████████▌| 1.1 MB 5.2 MB/s eta 0:00:01\r\u001b[K     |███████████████████████████████▉| 1.1 MB 5.2 MB/s eta 0:00:01\r\u001b[K     |████████████████████████████████| 1.1 MB 5.2 MB/s \n",
            "\u001b[?25hPython       : 3.7.13 (default, Apr 24 2022, 01:04:09) \n",
            "Numpy        : 1.21.6\n",
            "Tensorflow   : 2.8.2\n",
            "Keras        : 2.8.0\n"
          ]
        }
      ]
    },
    {
      "cell_type": "code",
      "source": [
        "RANDOM_SEED = 42\n",
        "VAL_SPLIT            = 0.20 \n",
        "mape=mean_absolute_percentage_error"
      ],
      "metadata": {
        "id": "SNl-IT-uxwpq"
      },
      "execution_count": null,
      "outputs": []
    },
    {
      "cell_type": "code",
      "source": [
        "zip_file='/content/drive/MyDrive/data.csv.zip'\n",
        "z=zipfile.ZipFile(zip_file, 'r')\n",
        "z.extractall()\n",
        "print(os.listdir())"
      ],
      "metadata": {
        "colab": {
          "base_uri": "https://localhost:8080/"
        },
        "id": "R8N83RVXmf5T",
        "outputId": "f68a7ced-4540-4bdd-f08a-af2797d7f58d"
      },
      "execution_count": null,
      "outputs": [
        {
          "output_type": "stream",
          "name": "stdout",
          "text": [
            "['.config', 'drive', 'data.csv', '__MACOSX', 'sample_data']\n"
          ]
        }
      ]
    },
    {
      "cell_type": "code",
      "source": [
        "data=pd.read_csv('data.csv')"
      ],
      "metadata": {
        "id": "iZ0Ynzpo1aUk"
      },
      "execution_count": null,
      "outputs": []
    },
    {
      "cell_type": "code",
      "source": [
        "data.info()"
      ],
      "metadata": {
        "colab": {
          "base_uri": "https://localhost:8080/"
        },
        "id": "2DL0IICQ1rsO",
        "outputId": "3a60adad-75fd-4f15-de7a-ec3c485962a9"
      },
      "execution_count": null,
      "outputs": [
        {
          "output_type": "stream",
          "name": "stdout",
          "text": [
            "<class 'pandas.core.frame.DataFrame'>\n",
            "RangeIndex: 377185 entries, 0 to 377184\n",
            "Data columns (total 18 columns):\n",
            " #   Column        Non-Null Count   Dtype \n",
            "---  ------        --------------   ----- \n",
            " 0   status        337267 non-null  object\n",
            " 1   private pool  4181 non-null    object\n",
            " 2   propertyType  342452 non-null  object\n",
            " 3   street        377183 non-null  object\n",
            " 4   baths         270847 non-null  object\n",
            " 5   homeFacts     377185 non-null  object\n",
            " 6   fireplace     103115 non-null  object\n",
            " 7   city          377151 non-null  object\n",
            " 8   schools       377185 non-null  object\n",
            " 9   sqft          336608 non-null  object\n",
            " 10  zipcode       377185 non-null  object\n",
            " 11  beds          285903 non-null  object\n",
            " 12  state         377185 non-null  object\n",
            " 13  stories       226470 non-null  object\n",
            " 14  mls-id        24942 non-null   object\n",
            " 15  PrivatePool   40311 non-null   object\n",
            " 16  MlsId         310305 non-null  object\n",
            " 17  target        374704 non-null  object\n",
            "dtypes: object(18)\n",
            "memory usage: 51.8+ MB\n"
          ]
        }
      ]
    },
    {
      "cell_type": "code",
      "source": [
        "data.status.value_counts()"
      ],
      "metadata": {
        "colab": {
          "base_uri": "https://localhost:8080/"
        },
        "id": "A7k6pV9Z9HB5",
        "outputId": "079a5f41-41e4-42d9-d1de-d77efddf7b58"
      },
      "execution_count": null,
      "outputs": [
        {
          "output_type": "execute_result",
          "data": {
            "text/plain": [
              "for sale                156104\n",
              "Active                  105207\n",
              "For sale                 43465\n",
              "foreclosure               6426\n",
              "New construction          5475\n",
              "                         ...  \n",
              "Contingent   No Show         1\n",
              "Coming soon: Oct 24.         1\n",
              "Coming soon: Oct 21.         1\n",
              "Coming soon: Nov 14.         1\n",
              "Coming soon: Dec 23.         1\n",
              "Name: status, Length: 159, dtype: int64"
            ]
          },
          "metadata": {},
          "execution_count": 7
        }
      ]
    },
    {
      "cell_type": "code",
      "source": [
        "data['private pool'].value_counts()"
      ],
      "metadata": {
        "colab": {
          "base_uri": "https://localhost:8080/"
        },
        "id": "5eT2cszn7wix",
        "outputId": "01c3b8af-f6ff-4621-f01d-9ad6524eaee1"
      },
      "execution_count": null,
      "outputs": [
        {
          "output_type": "execute_result",
          "data": {
            "text/plain": [
              "Yes    4181\n",
              "Name: private pool, dtype: int64"
            ]
          },
          "metadata": {},
          "execution_count": 8
        }
      ]
    },
    {
      "cell_type": "code",
      "source": [
        "data['propertyType'].value_counts()"
      ],
      "metadata": {
        "colab": {
          "base_uri": "https://localhost:8080/"
        },
        "id": "mOIW9YDx77N-",
        "outputId": "783f8a1d-2104-4a93-aa94-9f2182ed96b6"
      },
      "execution_count": null,
      "outputs": [
        {
          "output_type": "execute_result",
          "data": {
            "text/plain": [
              "single-family home                                             92206\n",
              "Single Family                                                  62869\n",
              "Single Family Home                                             31728\n",
              "condo                                                          25968\n",
              "lot/land                                                       20552\n",
              "                                                               ...  \n",
              "Custom, Elevated, Other                                            1\n",
              "Contemporary, Farmhouse                                            1\n",
              "2 Stories, Traditional, Mediterranean, Texas Hill Country          1\n",
              "1 Story, Contemporary, Traditional, Mediterranean                  1\n",
              "Bilevel, Converted Dwelling, Loft with Bedrooms, Condo/Unit        1\n",
              "Name: propertyType, Length: 1280, dtype: int64"
            ]
          },
          "metadata": {},
          "execution_count": 9
        }
      ]
    },
    {
      "cell_type": "code",
      "source": [
        "data.street.value_counts()"
      ],
      "metadata": {
        "colab": {
          "base_uri": "https://localhost:8080/"
        },
        "id": "J4ujChz977X2",
        "outputId": "06fc5493-b35e-4cb6-b3d2-9c5f15e15824"
      },
      "execution_count": null,
      "outputs": [
        {
          "output_type": "execute_result",
          "data": {
            "text/plain": [
              "Address Not Disclosed      672\n",
              "Undisclosed Address        517\n",
              "(undisclosed Address)      391\n",
              "Address Not Available      175\n",
              "Unknown Address             72\n",
              "                          ... \n",
              "16061 SW 144th Ct            1\n",
              "1721 Deans Crossing Ln       1\n",
              "20 Pigeon Trl                1\n",
              "17438 Chase St               1\n",
              "5983 Midcrown Dr             1\n",
              "Name: street, Length: 337076, dtype: int64"
            ]
          },
          "metadata": {},
          "execution_count": 10
        }
      ]
    },
    {
      "cell_type": "code",
      "source": [
        "data.baths.value_counts()"
      ],
      "metadata": {
        "colab": {
          "base_uri": "https://localhost:8080/"
        },
        "id": "-C9iNGNy77l4",
        "outputId": "5f9b1657-933e-4482-8489-2d946e35be1f"
      },
      "execution_count": null,
      "outputs": [
        {
          "output_type": "execute_result",
          "data": {
            "text/plain": [
              "2 Baths       52466\n",
              "3 Baths       35506\n",
              "2             20452\n",
              "2.0           16576\n",
              "4 Baths       14764\n",
              "              ...  \n",
              "4.75 Baths        1\n",
              "5.25 Baths        1\n",
              "41.0              1\n",
              "1.8 Baths         1\n",
              "44.0              1\n",
              "Name: baths, Length: 229, dtype: int64"
            ]
          },
          "metadata": {},
          "execution_count": 11
        }
      ]
    },
    {
      "cell_type": "code",
      "source": [
        "data.homeFacts.value_counts()"
      ],
      "metadata": {
        "colab": {
          "base_uri": "https://localhost:8080/"
        },
        "id": "_gCQu0ZC77xS",
        "outputId": "7b6c6d3e-916e-40ff-9308-64abb6714917"
      },
      "execution_count": null,
      "outputs": [
        {
          "output_type": "execute_result",
          "data": {
            "text/plain": [
              "{'atAGlanceFacts': [{'factValue': '', 'factLabel': 'Year built'}, {'factValue': '', 'factLabel': 'Remodeled year'}, {'factValue': '', 'factLabel': 'Heating'}, {'factValue': '', 'factLabel': 'Cooling'}, {'factValue': '', 'factLabel': 'Parking'}, {'factValue': '—', 'factLabel': 'lotsize'}, {'factValue': None, 'factLabel': 'Price/sqft'}]}                                                        7174\n",
              "{'atAGlanceFacts': [{'factValue': None, 'factLabel': 'Year built'}, {'factValue': None, 'factLabel': 'Remodeled year'}, {'factValue': None, 'factLabel': 'Heating'}, {'factValue': None, 'factLabel': 'Cooling'}, {'factValue': None, 'factLabel': 'Parking'}, {'factValue': None, 'factLabel': 'lotsize'}, {'factValue': None, 'factLabel': 'Price/sqft'}]}                                             3532\n",
              "{'atAGlanceFacts': [{'factValue': '', 'factLabel': 'Year built'}, {'factValue': '', 'factLabel': 'Remodeled year'}, {'factValue': '', 'factLabel': 'Heating'}, {'factValue': '', 'factLabel': 'Cooling'}, {'factValue': '', 'factLabel': 'Parking'}, {'factValue': '', 'factLabel': 'lotsize'}, {'factValue': None, 'factLabel': 'Price/sqft'}]}                                                          567\n",
              "{'atAGlanceFacts': [{'factValue': '', 'factLabel': 'Year built'}, {'factValue': '', 'factLabel': 'Remodeled year'}, {'factValue': '', 'factLabel': 'Heating'}, {'factValue': '', 'factLabel': 'Cooling'}, {'factValue': '', 'factLabel': 'Parking'}, {'factValue': '10000', 'factLabel': 'lotsize'}, {'factValue': None, 'factLabel': 'Price/sqft'}]}                                                     533\n",
              "{'atAGlanceFacts': [{'factValue': '', 'factLabel': 'Year built'}, {'factValue': '', 'factLabel': 'Remodeled year'}, {'factValue': '', 'factLabel': 'Heating'}, {'factValue': '', 'factLabel': 'Cooling'}, {'factValue': '', 'factLabel': 'Parking'}, {'factValue': '10,000 Sq. Ft.', 'factLabel': 'lotsize'}, {'factValue': None, 'factLabel': 'Price/sqft'}]}                                            370\n",
              "                                                                                                                                                                                                                                                                                                                                                                                                         ... \n",
              "{'atAGlanceFacts': [{'factValue': '1972', 'factLabel': 'Year built'}, {'factValue': '', 'factLabel': 'Remodeled year'}, {'factValue': 'Central, Electric', 'factLabel': 'Heating'}, {'factValue': 'Central Air', 'factLabel': 'Cooling'}, {'factValue': 'Tandem', 'factLabel': 'Parking'}, {'factValue': '35705', 'factLabel': 'lotsize'}, {'factValue': '$172', 'factLabel': 'Price/sqft'}]}               1\n",
              "{'atAGlanceFacts': [{'factValue': '1998', 'factLabel': 'Year built'}, {'factValue': '', 'factLabel': 'Remodeled year'}, {'factValue': '', 'factLabel': 'Heating'}, {'factValue': '', 'factLabel': 'Cooling'}, {'factValue': '', 'factLabel': 'Parking'}, {'factValue': '6098 sqft', 'factLabel': 'lotsize'}, {'factValue': None, 'factLabel': 'Price/sqft'}]}                                               1\n",
              "{'atAGlanceFacts': [{'factValue': '1992', 'factLabel': 'Year built'}, {'factValue': '2005', 'factLabel': 'Remodeled year'}, {'factValue': 'Central Air', 'factLabel': 'Heating'}, {'factValue': 'Has Cooling', 'factLabel': 'Cooling'}, {'factValue': '', 'factLabel': 'Parking'}, {'factValue': '1.03 Acres', 'factLabel': 'lotsize'}, {'factValue': '$132 / Sq. Ft.', 'factLabel': 'Price/sqft'}]}        1\n",
              "{'atAGlanceFacts': [{'factValue': '2019', 'factLabel': 'Year built'}, {'factValue': '', 'factLabel': 'Remodeled year'}, {'factValue': 'Forced Air', 'factLabel': 'Heating'}, {'factValue': 'Central', 'factLabel': 'Cooling'}, {'factValue': 'Detached Garage', 'factLabel': 'Parking'}, {'factValue': '4,487 sqft', 'factLabel': 'lotsize'}, {'factValue': '$210/sqft', 'factLabel': 'Price/sqft'}]}       1\n",
              "{'atAGlanceFacts': [{'factValue': '2019', 'factLabel': 'Year built'}, {'factValue': None, 'factLabel': 'Remodeled year'}, {'factValue': 'Electric', 'factLabel': 'Heating'}, {'factValue': 'Central', 'factLabel': 'Cooling'}, {'factValue': 'No Data', 'factLabel': 'Parking'}, {'factValue': '6,969 sqft', 'factLabel': 'lotsize'}, {'factValue': '$140', 'factLabel': 'Price/sqft'}]}                    1\n",
              "Name: homeFacts, Length: 321009, dtype: int64"
            ]
          },
          "metadata": {},
          "execution_count": 12
        }
      ]
    },
    {
      "cell_type": "code",
      "source": [
        "data.fireplace.value_counts()"
      ],
      "metadata": {
        "colab": {
          "base_uri": "https://localhost:8080/"
        },
        "id": "tU7zu0v5779U",
        "outputId": "d7595ed9-2ff6-4892-b2ed-6e665aef2f93"
      },
      "execution_count": null,
      "outputs": [
        {
          "output_type": "execute_result",
          "data": {
            "text/plain": [
              "yes                                                                     50356\n",
              "Yes                                                                     20856\n",
              "1                                                                       14544\n",
              "2                                                                        2432\n",
              "Not Applicable                                                           1993\n",
              "                                                                        ...  \n",
              "Free-standing, Insert, Wood                                                 1\n",
              "Wood Burning, Attached Fireplace Doors/Screen, Electric, Gas Starter        1\n",
              "One, Living Room                                                            1\n",
              "FAMILYRM, Great Room, Living Room                                           1\n",
              "Ceiling Fan, SMAPL, Utility Connection, Walk-In Closets                     1\n",
              "Name: fireplace, Length: 1653, dtype: int64"
            ]
          },
          "metadata": {},
          "execution_count": 13
        }
      ]
    },
    {
      "cell_type": "code",
      "source": [
        "data.city.value_counts()"
      ],
      "metadata": {
        "colab": {
          "base_uri": "https://localhost:8080/"
        },
        "id": "0Ku0RbqB78IU",
        "outputId": "ee8da88e-b77b-4130-e49c-2e40e1b168ea"
      },
      "execution_count": null,
      "outputs": [
        {
          "output_type": "execute_result",
          "data": {
            "text/plain": [
              "Houston            24442\n",
              "San Antonio        15592\n",
              "Miami              15524\n",
              "Jacksonville       10015\n",
              "Dallas              8856\n",
              "                   ...  \n",
              "New Albany             1\n",
              "Los Altos Hills        1\n",
              "Lake worth             1\n",
              "Lisle                  1\n",
              "Blue Springs           1\n",
              "Name: city, Length: 2026, dtype: int64"
            ]
          },
          "metadata": {},
          "execution_count": 14
        }
      ]
    },
    {
      "cell_type": "code",
      "source": [
        "data.schools.value_counts()"
      ],
      "metadata": {
        "colab": {
          "base_uri": "https://localhost:8080/"
        },
        "id": "jpClOAuN78Xx",
        "outputId": "ca2dd302-6138-40b8-d12d-85aa5b83188a"
      },
      "execution_count": null,
      "outputs": [
        {
          "output_type": "execute_result",
          "data": {
            "text/plain": [
              "[{'rating': [], 'data': {'Distance': [], 'Grades': []}, 'name': []}]                                                                                                                                                                                4204\n",
              "[{'rating': ['4/10', '5/10', '6/10'], 'data': {'Distance': ['39.69mi', '39.69mi', '39.69mi'], 'Grades': ['9-12', '6-8', 'PK-5']}, 'name': ['Fort Hancock High School', 'Fort Hancock Middle School', 'Benito Martinez Elementary School']}]          222\n",
              "[{'rating': ['4/10', '6/10', '3/10'], 'data': {'Distance': ['3.62mi', '3.62mi', '3.62mi'], 'Grades': ['6-8', 'PK-5', '9-12']}, 'name': ['Horizon Middle School', 'Desert Hills Elementary School', 'Horizon High School']}]                          168\n",
              "[{'rating': ['5/10', '3/10', '5/10'], 'data': {'Distance': ['9.71mi', '8.92mi', '1.56mi'], 'Grades': ['5-8', '9-12', 'K-4']}, 'name': ['Cheatham Middle School', 'Cheatham Co Central', 'West Cheatham Elementary School']}]                         133\n",
              "[{'rating': ['10/10', '2/10'], 'data': {'Distance': ['22.4 mi', '1.5 mi'], 'Grades': ['PK-8', '9-12']}, 'name': ['Air Base Elementary School', 'Booker T. Washington Senior High School']}]                                                           90\n",
              "                                                                                                                                                                                                                                                    ... \n",
              "[{'rating': ['8/10', '5/10', '7/10'], 'data': {'Distance': ['0.5 mi', '1.6 mi', '0.8 mi'], 'Grades': ['PK-5', '6-8', '9-12']}, 'name': ['Herod Elementary School', 'Fondren Middle School', 'Bellaire High School']}]                                  1\n",
              "[{'rating': ['3', '3', '3'], 'data': {'Distance': ['0.5 mi', '4.4 mi', '3.3 mi'], 'Grades': ['Preschool to 5', '6 to 8', '9 to 12']}, 'name': ['Reynolds Lane Elementary School', 'Lake Shore Middle School', 'William M. Raines High School']}]       1\n",
              "[{'rating': ['3/10', '5/10', '6/10'], 'data': {'Distance': ['0.3 mi', '1.1 mi', '0.8 mi'], 'Grades': ['K-5', '6-8', '9-12']}, 'name': ['Elmhurst Elementary School', 'Anacapa Middle School', 'Buena High School']}]                                   1\n",
              "[{'rating': ['7/10', '5/10', '2/10'], 'data': {'Distance': ['1 mi', '2.3 mi', '1.1 mi'], 'Grades': ['PK-5', '6-8', '9-12']}, 'name': ['Briargrove Elementary School', 'Grady Middle School', 'Lee High School']}]                                      1\n",
              "[{'rating': ['NA', 'NA', 'NA'], 'data': {'Distance': ['1.3 mi', '0.5 mi', '1.9 mi'], 'Grades': ['PK-5', '6-8', '9-12']}, 'name': ['Hiliard El', 'Forest Brook Middle', 'North Forest High School']}]                                                   1\n",
              "Name: schools, Length: 297365, dtype: int64"
            ]
          },
          "metadata": {},
          "execution_count": 15
        }
      ]
    },
    {
      "cell_type": "code",
      "source": [
        "data.sqft.value_counts()"
      ],
      "metadata": {
        "colab": {
          "base_uri": "https://localhost:8080/"
        },
        "id": "2Ih0TsWu78ig",
        "outputId": "8e3b94ce-7a16-4912-d9ad-51c0b8982f96"
      },
      "execution_count": null,
      "outputs": [
        {
          "output_type": "execute_result",
          "data": {
            "text/plain": [
              "0                                          11854\n",
              "1,200 sqft                                   839\n",
              "1,000 sqft                                   654\n",
              "1,100 sqft                                   573\n",
              "1,800 sqft                                   563\n",
              "                                           ...  \n",
              "9,914                                          1\n",
              "Total interior livable area: 3,055 sqft        1\n",
              "5,177                                          1\n",
              "11620                                          1\n",
              "Total interior livable area: 4,615 sqft        1\n",
              "Name: sqft, Length: 25405, dtype: int64"
            ]
          },
          "metadata": {},
          "execution_count": 16
        }
      ]
    },
    {
      "cell_type": "code",
      "source": [
        "data.zipcode.value_counts()"
      ],
      "metadata": {
        "colab": {
          "base_uri": "https://localhost:8080/"
        },
        "id": "JAD-KWYK78s_",
        "outputId": "04fb41f6-a897-4f90-e538-3697c7e57a4f"
      },
      "execution_count": null,
      "outputs": [
        {
          "output_type": "execute_result",
          "data": {
            "text/plain": [
              "32137         2141\n",
              "33131         1563\n",
              "34747         1488\n",
              "78245         1390\n",
              "34759         1333\n",
              "              ... \n",
              "27613-4237       1\n",
              "43054            1\n",
              "41630            1\n",
              "27615-3709       1\n",
              "64015            1\n",
              "Name: zipcode, Length: 4549, dtype: int64"
            ]
          },
          "metadata": {},
          "execution_count": 17
        }
      ]
    },
    {
      "cell_type": "code",
      "source": [
        "data.beds.value_counts()"
      ],
      "metadata": {
        "colab": {
          "base_uri": "https://localhost:8080/"
        },
        "id": "FF9SrBdO783R",
        "outputId": "fabc865d-3405-4d74-d217-91f491f98ebc"
      },
      "execution_count": null,
      "outputs": [
        {
          "output_type": "execute_result",
          "data": {
            "text/plain": [
              "3 Beds         53459\n",
              "4 Beds         35418\n",
              "3              31406\n",
              "2 Beds         26362\n",
              "4              20030\n",
              "               ...  \n",
              "8,023 sqft         1\n",
              "10,193 sqft        1\n",
              "8.93 acres         1\n",
              "5,510 sqft         1\n",
              "8,479 sqft         1\n",
              "Name: beds, Length: 1184, dtype: int64"
            ]
          },
          "metadata": {},
          "execution_count": 18
        }
      ]
    },
    {
      "cell_type": "code",
      "source": [
        "data.state.value_counts()"
      ],
      "metadata": {
        "colab": {
          "base_uri": "https://localhost:8080/"
        },
        "id": "ZX3d_UBz79Ad",
        "outputId": "9c0471d8-0249-4c4a-d61e-5c3e4814d163"
      },
      "execution_count": null,
      "outputs": [
        {
          "output_type": "execute_result",
          "data": {
            "text/plain": [
              "FL    115449\n",
              "TX     83786\n",
              "NY     24479\n",
              "CA     23386\n",
              "NC     21862\n",
              "TN     18340\n",
              "WA     13826\n",
              "OH     12588\n",
              "IL      8939\n",
              "NV      8482\n",
              "GA      6705\n",
              "CO      6404\n",
              "PA      5561\n",
              "MI      5161\n",
              "DC      4674\n",
              "AZ      3347\n",
              "IN      3328\n",
              "OR      2789\n",
              "MA      1516\n",
              "UT      1325\n",
              "MD      1090\n",
              "VT       868\n",
              "MO       866\n",
              "VA       801\n",
              "WI       452\n",
              "NJ       436\n",
              "ME       259\n",
              "IA       242\n",
              "KY        90\n",
              "OK        49\n",
              "MS        40\n",
              "SC        28\n",
              "MT         7\n",
              "DE         5\n",
              "Fl         1\n",
              "BA         1\n",
              "AL         1\n",
              "OT         1\n",
              "OS         1\n",
              "Name: state, dtype: int64"
            ]
          },
          "metadata": {},
          "execution_count": 19
        }
      ]
    },
    {
      "cell_type": "code",
      "source": [
        "data.stories.value_counts()"
      ],
      "metadata": {
        "colab": {
          "base_uri": "https://localhost:8080/"
        },
        "id": "TeKHXqWu79Jt",
        "outputId": "f66beacd-4805-4983-b5b1-0247a6e7ae83"
      },
      "execution_count": null,
      "outputs": [
        {
          "output_type": "execute_result",
          "data": {
            "text/plain": [
              "1.0                                  67454\n",
              "2.0                                  55283\n",
              "1                                    23086\n",
              "2                                    18146\n",
              "3.0                                  11275\n",
              "                                     ...  \n",
              "Manufactured Home, Non-Site Built        1\n",
              "Bedroom - Split Plan                     1\n",
              "78                                       1\n",
              "One, Two, Multi/Split                    1\n",
              "65.0                                     1\n",
              "Name: stories, Length: 348, dtype: int64"
            ]
          },
          "metadata": {},
          "execution_count": 20
        }
      ]
    },
    {
      "cell_type": "code",
      "source": [
        "data['mls-id'].value_counts()"
      ],
      "metadata": {
        "colab": {
          "base_uri": "https://localhost:8080/"
        },
        "id": "bo01v63a79TF",
        "outputId": "225afe91-ee61-4d17-a622-4c10e3c6065f"
      },
      "execution_count": null,
      "outputs": [
        {
          "output_type": "execute_result",
          "data": {
            "text/plain": [
              "No MLS#      3\n",
              "No           3\n",
              "1498550      2\n",
              "39888954     2\n",
              "608063       2\n",
              "            ..\n",
              "1020314      1\n",
              "A10762436    1\n",
              "1592770      1\n",
              "14201834     1\n",
              "F10202858    1\n",
              "Name: mls-id, Length: 24907, dtype: int64"
            ]
          },
          "metadata": {},
          "execution_count": 21
        }
      ]
    },
    {
      "cell_type": "code",
      "source": [
        "data.PrivatePool.value_counts()"
      ],
      "metadata": {
        "colab": {
          "base_uri": "https://localhost:8080/"
        },
        "id": "7gjcqCkg79c7",
        "outputId": "c7af4928-56ab-46cd-c60c-55f21ea4cf68"
      },
      "execution_count": null,
      "outputs": [
        {
          "output_type": "execute_result",
          "data": {
            "text/plain": [
              "yes    28793\n",
              "Yes    11518\n",
              "Name: PrivatePool, dtype: int64"
            ]
          },
          "metadata": {},
          "execution_count": 22
        }
      ]
    },
    {
      "cell_type": "code",
      "source": [
        "data.MlsId.value_counts()"
      ],
      "metadata": {
        "colab": {
          "base_uri": "https://localhost:8080/"
        },
        "id": "3t3Axg8r79nl",
        "outputId": "4cc0492b-e0a4-47d6-c843-0009167d456c"
      },
      "execution_count": null,
      "outputs": [
        {
          "output_type": "execute_result",
          "data": {
            "text/plain": [
              "NO MLS                     24\n",
              "No MLS #                   16\n",
              " A, Houston, TX 77008      13\n",
              " 12A, Orlando, FL 32833    11\n",
              " B, Houston, TX 77008       9\n",
              "                           ..\n",
              "19092240                    1\n",
              "RX-10563061                 1\n",
              "218080001                   1\n",
              "14154778                    1\n",
              "10374233                    1\n",
              "Name: MlsId, Length: 232944, dtype: int64"
            ]
          },
          "metadata": {},
          "execution_count": 23
        }
      ]
    },
    {
      "cell_type": "code",
      "source": [
        "data.target.value_counts()"
      ],
      "metadata": {
        "colab": {
          "base_uri": "https://localhost:8080/"
        },
        "id": "nL0dngE679xa",
        "outputId": "8b8277d8-e0d0-45d1-e118-513ae6db1665"
      },
      "execution_count": null,
      "outputs": [
        {
          "output_type": "execute_result",
          "data": {
            "text/plain": [
              "$225,000     1462\n",
              "$275,000     1355\n",
              "$250,000     1312\n",
              "$350,000     1296\n",
              "$299,900     1276\n",
              "             ... \n",
              "$390,359        1\n",
              "$458,900+       1\n",
              "274,359         1\n",
              "$273,490+       1\n",
              "$171,306        1\n",
              "Name: target, Length: 43939, dtype: int64"
            ]
          },
          "metadata": {},
          "execution_count": 24
        }
      ]
    },
    {
      "cell_type": "code",
      "source": [
        "! pip install https://github.com/pandas-profiling/pandas-profiling/archive/master.zip "
      ],
      "metadata": {
        "colab": {
          "base_uri": "https://localhost:8080/",
          "height": 1000
        },
        "id": "g3qQ7O5KAmcP",
        "outputId": "80dfd67f-b568-4f0c-b1d4-b841d530ff62"
      },
      "execution_count": null,
      "outputs": [
        {
          "output_type": "stream",
          "name": "stdout",
          "text": [
            "Looking in indexes: https://pypi.org/simple, https://us-python.pkg.dev/colab-wheels/public/simple/\n",
            "Collecting https://github.com/pandas-profiling/pandas-profiling/archive/master.zip\n",
            "  Downloading https://github.com/pandas-profiling/pandas-profiling/archive/master.zip\n",
            "\u001b[K     / 21.9 MB 137 kB/s\n",
            "\u001b[?25hRequirement already satisfied: joblib~=1.1.0 in /usr/local/lib/python3.7/dist-packages (from pandas-profiling==3.2.0) (1.1.0)\n",
            "Requirement already satisfied: scipy>=1.4.1 in /usr/local/lib/python3.7/dist-packages (from pandas-profiling==3.2.0) (1.7.3)\n",
            "Requirement already satisfied: pandas!=1.0.0,!=1.0.1,!=1.0.2,!=1.1.0,>=0.25.3 in /usr/local/lib/python3.7/dist-packages (from pandas-profiling==3.2.0) (1.3.5)\n",
            "Requirement already satisfied: matplotlib>=3.2.0 in /usr/local/lib/python3.7/dist-packages (from pandas-profiling==3.2.0) (3.2.2)\n",
            "Requirement already satisfied: pydantic>=1.8.1 in /usr/local/lib/python3.7/dist-packages (from pandas-profiling==3.2.0) (1.9.2)\n",
            "Requirement already satisfied: PyYAML>=5.0.0 in /usr/local/lib/python3.7/dist-packages (from pandas-profiling==3.2.0) (6.0)\n",
            "Requirement already satisfied: jinja2>=2.11.1 in /usr/local/lib/python3.7/dist-packages (from pandas-profiling==3.2.0) (2.11.3)\n",
            "Collecting visions[type_image_path]==0.7.5\n",
            "  Downloading visions-0.7.5-py3-none-any.whl (102 kB)\n",
            "\u001b[K     |████████████████████████████████| 102 kB 6.3 MB/s \n",
            "\u001b[?25hRequirement already satisfied: numpy>=1.16.0 in /usr/local/lib/python3.7/dist-packages (from pandas-profiling==3.2.0) (1.21.6)\n",
            "Collecting htmlmin>=0.1.12\n",
            "  Downloading htmlmin-0.1.12.tar.gz (19 kB)\n",
            "Requirement already satisfied: missingno>=0.4.2 in /usr/local/lib/python3.7/dist-packages (from pandas-profiling==3.2.0) (0.5.1)\n",
            "Collecting phik>=0.11.1\n",
            "  Downloading phik-0.12.2-cp37-cp37m-manylinux_2_17_x86_64.manylinux2014_x86_64.whl (690 kB)\n",
            "\u001b[K     |████████████████████████████████| 690 kB 41.7 MB/s \n",
            "\u001b[?25hCollecting tangled-up-in-unicode==0.2.0\n",
            "  Downloading tangled_up_in_unicode-0.2.0-py3-none-any.whl (4.7 MB)\n",
            "\u001b[K     |████████████████████████████████| 4.7 MB 60.7 MB/s \n",
            "\u001b[?25hCollecting requests>=2.24.0\n",
            "  Downloading requests-2.28.1-py3-none-any.whl (62 kB)\n",
            "\u001b[K     |████████████████████████████████| 62 kB 1.4 MB/s \n",
            "\u001b[?25hRequirement already satisfied: tqdm>=4.48.2 in /usr/local/lib/python3.7/dist-packages (from pandas-profiling==3.2.0) (4.64.0)\n",
            "Requirement already satisfied: seaborn>=0.10.1 in /usr/local/lib/python3.7/dist-packages (from pandas-profiling==3.2.0) (0.11.2)\n",
            "Collecting multimethod>=1.4\n",
            "  Downloading multimethod-1.8-py3-none-any.whl (9.8 kB)\n",
            "Requirement already satisfied: networkx>=2.4 in /usr/local/lib/python3.7/dist-packages (from visions[type_image_path]==0.7.5->pandas-profiling==3.2.0) (2.6.3)\n",
            "Requirement already satisfied: attrs>=19.3.0 in /usr/local/lib/python3.7/dist-packages (from visions[type_image_path]==0.7.5->pandas-profiling==3.2.0) (22.1.0)\n",
            "Collecting imagehash\n",
            "  Downloading ImageHash-4.2.1.tar.gz (812 kB)\n",
            "\u001b[K     |████████████████████████████████| 812 kB 56.2 MB/s \n",
            "\u001b[?25hRequirement already satisfied: Pillow in /usr/local/lib/python3.7/dist-packages (from visions[type_image_path]==0.7.5->pandas-profiling==3.2.0) (7.1.2)\n",
            "Requirement already satisfied: MarkupSafe>=0.23 in /usr/local/lib/python3.7/dist-packages (from jinja2>=2.11.1->pandas-profiling==3.2.0) (2.0.1)\n",
            "Requirement already satisfied: pyparsing!=2.0.4,!=2.1.2,!=2.1.6,>=2.0.1 in /usr/local/lib/python3.7/dist-packages (from matplotlib>=3.2.0->pandas-profiling==3.2.0) (3.0.9)\n",
            "Requirement already satisfied: kiwisolver>=1.0.1 in /usr/local/lib/python3.7/dist-packages (from matplotlib>=3.2.0->pandas-profiling==3.2.0) (1.4.4)\n",
            "Requirement already satisfied: python-dateutil>=2.1 in /usr/local/lib/python3.7/dist-packages (from matplotlib>=3.2.0->pandas-profiling==3.2.0) (2.8.2)\n",
            "Requirement already satisfied: cycler>=0.10 in /usr/local/lib/python3.7/dist-packages (from matplotlib>=3.2.0->pandas-profiling==3.2.0) (0.11.0)\n",
            "Requirement already satisfied: typing-extensions in /usr/local/lib/python3.7/dist-packages (from kiwisolver>=1.0.1->matplotlib>=3.2.0->pandas-profiling==3.2.0) (4.1.1)\n",
            "Requirement already satisfied: pytz>=2017.3 in /usr/local/lib/python3.7/dist-packages (from pandas!=1.0.0,!=1.0.1,!=1.0.2,!=1.1.0,>=0.25.3->pandas-profiling==3.2.0) (2022.2.1)\n",
            "Requirement already satisfied: six>=1.5 in /usr/local/lib/python3.7/dist-packages (from python-dateutil>=2.1->matplotlib>=3.2.0->pandas-profiling==3.2.0) (1.15.0)\n",
            "Requirement already satisfied: urllib3<1.27,>=1.21.1 in /usr/local/lib/python3.7/dist-packages (from requests>=2.24.0->pandas-profiling==3.2.0) (1.24.3)\n",
            "Requirement already satisfied: charset-normalizer<3,>=2 in /usr/local/lib/python3.7/dist-packages (from requests>=2.24.0->pandas-profiling==3.2.0) (2.1.0)\n",
            "Requirement already satisfied: certifi>=2017.4.17 in /usr/local/lib/python3.7/dist-packages (from requests>=2.24.0->pandas-profiling==3.2.0) (2022.6.15)\n",
            "Requirement already satisfied: idna<4,>=2.5 in /usr/local/lib/python3.7/dist-packages (from requests>=2.24.0->pandas-profiling==3.2.0) (2.10)\n",
            "Requirement already satisfied: PyWavelets in /usr/local/lib/python3.7/dist-packages (from imagehash->visions[type_image_path]==0.7.5->pandas-profiling==3.2.0) (1.3.0)\n",
            "Building wheels for collected packages: pandas-profiling, htmlmin, imagehash\n",
            "  Building wheel for pandas-profiling (setup.py) ... \u001b[?25l\u001b[?25hdone\n",
            "  Created wheel for pandas-profiling: filename=pandas_profiling-3.2.0-py2.py3-none-any.whl size=261257 sha256=b24b18f14038f0f5bcc43e53f9144e7ad674b92bee52a19843643e428129521c\n",
            "  Stored in directory: /tmp/pip-ephem-wheel-cache-c7vh7ql4/wheels/cc/d5/09/083fb07c9363a2f45854b0e3a7de7d7c560f07da74b9e9769d\n",
            "  Building wheel for htmlmin (setup.py) ... \u001b[?25l\u001b[?25hdone\n",
            "  Created wheel for htmlmin: filename=htmlmin-0.1.12-py3-none-any.whl size=27098 sha256=ae129fd41f5c40a93b53794f51ba2f707a7a01d890c3de4f42bc477b7e2e031e\n",
            "  Stored in directory: /root/.cache/pip/wheels/70/e1/52/5b14d250ba868768823940c3229e9950d201a26d0bd3ee8655\n",
            "  Building wheel for imagehash (setup.py) ... \u001b[?25l\u001b[?25hdone\n",
            "  Created wheel for imagehash: filename=ImageHash-4.2.1-py2.py3-none-any.whl size=295206 sha256=a5217280db55161d41faff7896811b8be16f6feeca095b1b3ec161953e59d27d\n",
            "  Stored in directory: /root/.cache/pip/wheels/4c/d5/59/5e3e297533ddb09407769762985d134135064c6831e29a914e\n",
            "Successfully built pandas-profiling htmlmin imagehash\n",
            "Installing collected packages: tangled-up-in-unicode, multimethod, visions, imagehash, requests, phik, htmlmin, pandas-profiling\n",
            "  Attempting uninstall: requests\n",
            "    Found existing installation: requests 2.23.0\n",
            "    Uninstalling requests-2.23.0:\n",
            "      Successfully uninstalled requests-2.23.0\n",
            "  Attempting uninstall: pandas-profiling\n",
            "    Found existing installation: pandas-profiling 1.4.1\n",
            "    Uninstalling pandas-profiling-1.4.1:\n",
            "      Successfully uninstalled pandas-profiling-1.4.1\n",
            "Successfully installed htmlmin-0.1.12 imagehash-4.2.1 multimethod-1.8 pandas-profiling-3.2.0 phik-0.12.2 requests-2.28.1 tangled-up-in-unicode-0.2.0 visions-0.7.5\n"
          ]
        },
        {
          "output_type": "display_data",
          "data": {
            "application/vnd.colab-display-data+json": {
              "pip_warning": {
                "packages": [
                  "requests"
                ]
              }
            }
          },
          "metadata": {}
        }
      ]
    },
    {
      "cell_type": "code",
      "source": [
        "import numpy as np\n",
        "import pandas as pd\n",
        "from pandas_profiling import ProfileReport"
      ],
      "metadata": {
        "id": "WDYBm95FFX01"
      },
      "execution_count": null,
      "outputs": []
    },
    {
      "cell_type": "code",
      "source": [
        "profile = ProfileReport(data, title='data_report', html={'style':{'full_width':True}})"
      ],
      "metadata": {
        "id": "Awr05w9nF3wq"
      },
      "execution_count": null,
      "outputs": []
    },
    {
      "cell_type": "code",
      "source": [
        "#profile.to_notebook_iframe()"
      ],
      "metadata": {
        "id": "ZqnP1mHbGIlq"
      },
      "execution_count": null,
      "outputs": []
    },
    {
      "cell_type": "code",
      "source": [
        "profile.to_file(output_file=\"data_report.html\")"
      ],
      "metadata": {
        "id": "pWbezG3gG61t",
        "outputId": "653bee45-7100-4982-82b1-53aec5c79789",
        "colab": {
          "base_uri": "https://localhost:8080/",
          "height": 34,
          "referenced_widgets": [
            "bea8ae456ca94a9cb8116a8170f77ff9"
          ]
        }
      },
      "execution_count": null,
      "outputs": [
        {
          "data": {
            "application/vnd.jupyter.widget-view+json": {
              "model_id": "bea8ae456ca94a9cb8116a8170f77ff9",
              "version_major": 2,
              "version_minor": 0
            },
            "text/plain": [
              "Export report to file:   0%|          | 0/1 [00:00<?, ?it/s]"
            ]
          },
          "metadata": {},
          "output_type": "display_data"
        }
      ]
    },
    {
      "cell_type": "markdown",
      "source": [
        "## ML"
      ],
      "metadata": {
        "id": "VchwgU4Hdx6D"
      }
    },
    {
      "cell_type": "markdown",
      "source": [
        "## An AdaBoost regressor"
      ],
      "metadata": {
        "id": "sexqre_8mwRe"
      }
    },
    {
      "cell_type": "code",
      "source": [
        "#n_estimators = [int(x) for x in np.linspace(start = 200, stop = 5000, num = 10)]\n",
        "#lr = [float(x) for x in np.linspace(start = 0.0, stop = 1.0, num = 10)]\n",
        "#loss = ['linear', 'square', 'exponential']\n",
        "\n",
        "#random_grid = {'n_estimators': n_estimators,\n",
        "#               'lr': lr,\n",
        "#               'loss': loss}\n",
        "#abr = AdaBoostRegressor(random_state=42)\n",
        "#abr_random = RandomizedSearchCV(estimator=abr, param_distributions=random_grid, n_iter=100, \n",
        "#                               cv=3, verbose=2, random_state=42, return_train_score=True)\n",
        "#abr_random.fit(X_train, np.log(y_train))\n",
        "#print(abr_random.best_params_)"
      ],
      "metadata": {
        "id": "yjmMviRmd4C6"
      },
      "execution_count": null,
      "outputs": []
    },
    {
      "cell_type": "code",
      "source": [
        "#abr = AdaBoostRegressor(random_state=42,\n",
        "#                           'n_estimators': ,\n",
        "#                           'lr': ,\n",
        "#                           'loss':)\n",
        "#abr.fit(X_train, np.log(y_train))"
      ],
      "metadata": {
        "id": "B6wmEoreoMSx"
      },
      "execution_count": null,
      "outputs": []
    },
    {
      "cell_type": "code",
      "source": [
        "#predict_test_abr = np.exp(abr.predict(X_test))\n",
        "#print(f\"Точность модели по метрике MAPE: {(mape(y_test, predict_test_abr))*100:0.2f}%\")"
      ],
      "metadata": {
        "id": "sGEoaigCoODp"
      },
      "execution_count": null,
      "outputs": []
    },
    {
      "cell_type": "markdown",
      "source": [
        "## A Bagging regressor."
      ],
      "metadata": {
        "id": "jGN1CJaxm2_N"
      }
    },
    {
      "cell_type": "code",
      "source": [
        "#n_estimators = [int(x) for x in np.linspace(start = 200, stop = 5000, num = 10)]\n",
        "#max_samples=[0.25, 0.5, 0.75, 1.0]\n",
        "#max_features=[0.25, 0.5, 0.75, 1.0]\n",
        "#oob_score=[True, False]\n",
        "\n",
        "\n",
        "#random_grid = {'n_estimators': n_estimators,\n",
        "#               'max_samples': max_samples,\n",
        "#               'max_features': max_features,\n",
        "#               'oob_score': oob_score}\n",
        "#br = BaggingRegressor(random_state=42)\n",
        "#br_random = RandomizedSearchCV(estimator=br, param_distributions=random_grid, n_iter=100, \n",
        "#                               cv=3, verbose=2, random_state=42,  return_train_score=True)\n",
        "#br_random.fit(X_train, np.log(y_train))\n",
        "#print(br_random.best_params_)"
      ],
      "metadata": {
        "id": "MeFh8BkPmqSB"
      },
      "execution_count": null,
      "outputs": []
    },
    {
      "cell_type": "code",
      "source": [
        "#br = BaggingRegressor(random_state=42,\n",
        "#                           'n_estimators': 2000,\n",
        "#                           'max_samples': 5,\n",
        "#                           'max_features': 1,\n",
        "#                            'oob_score': 83,\n",
        "#                            'bootstrap': True)\n",
        "#br.fit(X_train, np.log(y_train))"
      ],
      "metadata": {
        "id": "6IQFx3AhoSHq"
      },
      "execution_count": null,
      "outputs": []
    },
    {
      "cell_type": "code",
      "source": [
        "#predict_test_br = np.exp(rf.predict(X_test))\n",
        "#print(f\"Точность модели по метрике MAPE: {(mape(y_test, predict_test_br))*100:0.2f}%\")"
      ],
      "metadata": {
        "id": "bRWwt47qoSP0"
      },
      "execution_count": null,
      "outputs": []
    },
    {
      "cell_type": "markdown",
      "source": [
        "## An extra-trees regressor."
      ],
      "metadata": {
        "id": "gS9Nexk2m7lk"
      }
    },
    {
      "cell_type": "code",
      "source": [
        "#n_estimators = [int(x) for x in np.linspace(start = 200, stop = 5000, num = 10)]\n",
        "#criterion= ['squared_error', 'absolute_error']\n",
        "#max_depth = [int(x) for x in np.linspace(70, 200, num = 11)]\n",
        "#max_depth.append(None)\n",
        "#min_samples_split=[1, 2, 3, 5]\n",
        "#min_samples_leaf=[1, 2, 3, 5]\n",
        "#max_features=[0.25, 0.5, 0.75, 1.0]\n",
        "\n",
        "#random_grid = {'n_estimators': n_estimators,\n",
        "#               'criterion': criterion,\n",
        "#               'max_depth': max_depth,\n",
        "#               'min_samples_split': min_samples_split,\n",
        "#               'min_samples_leaf': min_samples_leaf,\n",
        "#               'max_features': max_features}\n",
        "#etr = ExtraTreesRegressor(random_state=42)\n",
        "#etr_random = RandomizedSearchCV(estimator=etr, param_distributions=random_grid, n_iter=100, \n",
        "#                               cv=3, verbose=2, random_state=42, return_train_score=True)\n",
        "#etr_random.fit(X_train, np.log(y_train))\n",
        "#print(etr_random.best_params_)"
      ],
      "metadata": {
        "id": "HMd2kg4kmrJW"
      },
      "execution_count": null,
      "outputs": []
    },
    {
      "cell_type": "code",
      "source": [
        "#etr = ExtraTreesRegressor(random_state=42,\n",
        "#                           'n_estimators': ,\n",
        "#                           'criterion': ,\n",
        "#                           'max_depth': ,\n",
        "#                            'min_samples_split': ,\n",
        "#                            'min_samples_leaf': ,\n",
        "#                              'max_features':)\n",
        "#etr.fit(X_train, np.log(y_train))"
      ],
      "metadata": {
        "id": "g3Exaoa2oXHk"
      },
      "execution_count": null,
      "outputs": []
    },
    {
      "cell_type": "code",
      "source": [
        "#predict_test_etr = np.exp(etr.predict(X_test))\n",
        "#print(f\"Точность модели по метрике MAPE: {(mape(y_test, predict_test_etr))*100:0.2f}%\")"
      ],
      "metadata": {
        "id": "USSz-VbkoXPV"
      },
      "execution_count": null,
      "outputs": []
    },
    {
      "cell_type": "markdown",
      "source": [
        "## Gradient Boosting for regression."
      ],
      "metadata": {
        "id": "hMPI2EC1nAM7"
      }
    },
    {
      "cell_type": "code",
      "source": [
        "#n_estimators = [int(x) for x in np.linspace(start = 200, stop = 5000, num = 10)]\n",
        "#loss=['squared_error', 'absolute_error', 'huber']\n",
        "#lr = [float(x) for x in np.linspace(start = 0.0, stop = 1.0, num = 10)]\n",
        "#criterion=['friedman_mse', 'squared_error', 'mse']\n",
        "#min_samples_split=[1, 2, 3, 5]\n",
        "#min_samples_leaf=[1, 2, 3, 5]\n",
        "#max_features=[0.25, 0.5, 0.75, 1.0]\n",
        "\n",
        "#random_grid = {'n_estimators': n_estimators,\n",
        "#               'loss': loss,\n",
        "#               'lr': lr,\n",
        "#               'criterion': criterion,\n",
        "#              'min_samples_split': min_samples_split,\n",
        "#               'min_samples_leaf': min_samples_leaf,\n",
        "#               'max_features': max_features}\n",
        "#gbr = GradientBoostingRegressor(random_state=42)\n",
        "#gbr_random = RandomizedSearchCV(estimator=gbr, param_distributions=random_grid, n_iter=100, \n",
        "#                               cv=3, verbose=2, random_state=42, return_train_score=True)\n",
        "#gbr_random.fit(X_train, np.log(y_train))\n",
        "#print(gbr_random.best_params_)"
      ],
      "metadata": {
        "id": "OBOfYVlKmr0a"
      },
      "execution_count": null,
      "outputs": []
    },
    {
      "cell_type": "code",
      "source": [
        "\n",
        "#gbr = GradientBoostingRegressor(random_state=42,\n",
        "#                           'n_estimators':,\n",
        "#                           'loss': ,\n",
        "#                           'lr': ,\n",
        "#                            'criterion': ,\n",
        "#                            'min_samples_split': ,\n",
        "#                            'min_samples_leaf':,\n",
        "#                            'max_features':)\n",
        "#gbr.fit(X_train, np.log(y_train))"
      ],
      "metadata": {
        "id": "pOHZeVOBoc86"
      },
      "execution_count": null,
      "outputs": []
    },
    {
      "cell_type": "code",
      "source": [
        "#predict_test_gbr = np.exp(gbr.predict(X_test))\n",
        "#print(f\"Точность модели по метрике MAPE: {(mape(y_test, predict_test_gbr))*100:0.2f}%\")"
      ],
      "metadata": {
        "id": "Gx_zJDaKodFL"
      },
      "execution_count": null,
      "outputs": []
    },
    {
      "cell_type": "markdown",
      "source": [
        "## A random forest regressor."
      ],
      "metadata": {
        "id": "mReJTa1AnET8"
      }
    },
    {
      "cell_type": "code",
      "source": [
        "#n_estimators = [int(x) for x in np.linspace(start = 200, stop = 5000, num = 10)]\n",
        "#criterion=['squared_error', 'absolute_error', 'poisson']\n",
        "#min_samples_split=[1, 2, 3, 5]\n",
        "#min_samples_leaf=[1, 2, 3, 5]\n",
        "#max_features=[0.25, 0.5, 0.75, 1.0]\n",
        "#bootstrap=[True, False]\n",
        "\n",
        "\n",
        "#random_grid = {'n_estimators': n_estimators,\n",
        "#               'criterion': criterion,\n",
        "#               'min_samples_split': min_samples_split,\n",
        "#               'min_samples_leaf': min_samples_leaf,\n",
        "#               'max_features': max_features,\n",
        "#               'bootstrap': bootstrap}\n",
        "#rf = RandomForestRegressor(random_state=42)\n",
        "#rf_random = RandomizedSearchCV(estimator=rf, param_distributions=random_grid, n_iter=100, \n",
        "#                               cv=3, verbose=2, random_state=42, return_train_score=True)\n",
        "#rf_random.fit(X_train, np.log(y_train))\n",
        "#print(rf_random.best_params_)"
      ],
      "metadata": {
        "id": "P-67kn5UmsUr"
      },
      "execution_count": null,
      "outputs": []
    },
    {
      "cell_type": "code",
      "source": [
        "#rf = RandomForestRegressor(random_state=42,\n",
        "#                           'n_estimators': ,\n",
        "#                            'criterion':,\n",
        "#                           'min_samples_split': ,\n",
        "#                           'min_samples_leaf': ,\n",
        "#                            'max_features': 8,\n",
        "#                            'bootstrap': )\n",
        "#rf.fit(X_train, np.log(y_train))"
      ],
      "metadata": {
        "id": "cvJQPR8Cohz5"
      },
      "execution_count": null,
      "outputs": []
    },
    {
      "cell_type": "code",
      "source": [
        "#predict_test_rt = np.exp(rf.predict(X_test))\n",
        "#print(f\"Точность модели по метрике MAPE: {(mape(y_test, predict_test_rf))*100:0.2f}%\")"
      ],
      "metadata": {
        "id": "LIwAULOsoiAo"
      },
      "execution_count": null,
      "outputs": []
    },
    {
      "cell_type": "markdown",
      "source": [
        "## Stack of estimators with a final regressor."
      ],
      "metadata": {
        "id": "9pT9fgSNnKMQ"
      }
    },
    {
      "cell_type": "code",
      "source": [
        "#estimators = [('etr', ExtraTreesRegressor(n_estimators=3, \n",
        "#                          random_state=RANDOM_SEED,\n",
        "#                          n_jobs=-1,\n",
        "#                          bootstrap=True,\n",
        "#                          verbose=2)),\n",
        "#             ('rfr', RandomForestRegressor(random_state=42,\n",
        "#                        n_estimators=2000,\n",
        "#                        min_samples_split=5,\n",
        "#                        min_samples_leaf=1,\n",
        "#                        max_depth=83,\n",
        "#                        bootstrap=False))]\n",
        "#sr = StackingRegressor(estimators=estimators,\n",
        "#                      final_estimator=None,\n",
        "#                      n_jobs=1, \n",
        "#                       cv=2, \n",
        "#                       passthrough= False)\n",
        "#sr.fit(X_train, np.log(y_train))\n",
        "#predict_test = np.exp(sr.predict(X_test))\n",
        "\n",
        "#print(f\"Точность модели по метрике MAPE: {(mape(y_test, predict_test))*100:0.2f}%\")"
      ],
      "metadata": {
        "id": "tOoH8BSCmtA9"
      },
      "execution_count": null,
      "outputs": []
    }
  ]
}